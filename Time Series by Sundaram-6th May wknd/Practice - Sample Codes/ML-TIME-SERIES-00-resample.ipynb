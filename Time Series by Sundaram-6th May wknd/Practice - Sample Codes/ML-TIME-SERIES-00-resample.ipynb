{
 "cells": [
  {
   "cell_type": "code",
   "execution_count": 1,
   "metadata": {
    "collapsed": true
   },
   "outputs": [],
   "source": [
    "import pandas as pd\n",
    "import numpy as np\n",
    "import matplotlib.pyplot as plt\n",
    "#pd.set_option('display.mpl_style', 'default')\n",
    "%matplotlib inline"
   ]
  },
  {
   "cell_type": "code",
   "execution_count": 3,
   "metadata": {
    "collapsed": true
   },
   "outputs": [],
   "source": [
    "range = pd.date_range('2015-01-01', '2015-12-31', freq='15min')\n",
    "\n",
    "df = pd.DataFrame(index = range)"
   ]
  },
  {
   "cell_type": "code",
   "execution_count": 4,
   "metadata": {},
   "outputs": [
    {
     "data": {
      "text/html": [
       "<div>\n",
       "<style>\n",
       "    .dataframe thead tr:only-child th {\n",
       "        text-align: right;\n",
       "    }\n",
       "\n",
       "    .dataframe thead th {\n",
       "        text-align: left;\n",
       "    }\n",
       "\n",
       "    .dataframe tbody tr th {\n",
       "        vertical-align: top;\n",
       "    }\n",
       "</style>\n",
       "<table border=\"1\" class=\"dataframe\">\n",
       "  <thead>\n",
       "    <tr style=\"text-align: right;\">\n",
       "      <th></th>\n",
       "    </tr>\n",
       "  </thead>\n",
       "  <tbody>\n",
       "    <tr>\n",
       "      <th>2015-01-01 00:00:00</th>\n",
       "    </tr>\n",
       "    <tr>\n",
       "      <th>2015-01-01 00:15:00</th>\n",
       "    </tr>\n",
       "    <tr>\n",
       "      <th>2015-01-01 00:30:00</th>\n",
       "    </tr>\n",
       "    <tr>\n",
       "      <th>2015-01-01 00:45:00</th>\n",
       "    </tr>\n",
       "    <tr>\n",
       "      <th>2015-01-01 01:00:00</th>\n",
       "    </tr>\n",
       "  </tbody>\n",
       "</table>\n",
       "</div>"
      ],
      "text/plain": [
       "Empty DataFrame\n",
       "Columns: []\n",
       "Index: [2015-01-01 00:00:00, 2015-01-01 00:15:00, 2015-01-01 00:30:00, 2015-01-01 00:45:00, 2015-01-01 01:00:00]"
      ]
     },
     "execution_count": 4,
     "metadata": {},
     "output_type": "execute_result"
    }
   ],
   "source": [
    "df.head()"
   ]
  },
  {
   "cell_type": "code",
   "execution_count": 5,
   "metadata": {
    "collapsed": true
   },
   "outputs": [],
   "source": [
    "# Average speed in miles per hour\n",
    "df['speed'] = np.random.randint(low=0, high=60, size=len(df.index))\n",
    "\n",
    "# Distance in miles (speed * 0.5 hours)\n",
    "df['distance'] = df['speed'] * 0.25 \n",
    "\n",
    "# Cumulative distance travelled\n",
    "df['cumulative_distance'] = df.distance.cumsum()"
   ]
  },
  {
   "cell_type": "code",
   "execution_count": 7,
   "metadata": {},
   "outputs": [
    {
     "data": {
      "text/html": [
       "<div>\n",
       "<style>\n",
       "    .dataframe thead tr:only-child th {\n",
       "        text-align: right;\n",
       "    }\n",
       "\n",
       "    .dataframe thead th {\n",
       "        text-align: left;\n",
       "    }\n",
       "\n",
       "    .dataframe tbody tr th {\n",
       "        vertical-align: top;\n",
       "    }\n",
       "</style>\n",
       "<table border=\"1\" class=\"dataframe\">\n",
       "  <thead>\n",
       "    <tr style=\"text-align: right;\">\n",
       "      <th></th>\n",
       "      <th>speed</th>\n",
       "      <th>distance</th>\n",
       "      <th>cumulative_distance</th>\n",
       "    </tr>\n",
       "  </thead>\n",
       "  <tbody>\n",
       "    <tr>\n",
       "      <th>2015-01-01 00:00:00</th>\n",
       "      <td>39</td>\n",
       "      <td>9.75</td>\n",
       "      <td>9.75</td>\n",
       "    </tr>\n",
       "    <tr>\n",
       "      <th>2015-01-01 00:15:00</th>\n",
       "      <td>2</td>\n",
       "      <td>0.50</td>\n",
       "      <td>10.25</td>\n",
       "    </tr>\n",
       "    <tr>\n",
       "      <th>2015-01-01 00:30:00</th>\n",
       "      <td>57</td>\n",
       "      <td>14.25</td>\n",
       "      <td>24.50</td>\n",
       "    </tr>\n",
       "    <tr>\n",
       "      <th>2015-01-01 00:45:00</th>\n",
       "      <td>5</td>\n",
       "      <td>1.25</td>\n",
       "      <td>25.75</td>\n",
       "    </tr>\n",
       "    <tr>\n",
       "      <th>2015-01-01 01:00:00</th>\n",
       "      <td>47</td>\n",
       "      <td>11.75</td>\n",
       "      <td>37.50</td>\n",
       "    </tr>\n",
       "  </tbody>\n",
       "</table>\n",
       "</div>"
      ],
      "text/plain": [
       "                     speed  distance  cumulative_distance\n",
       "2015-01-01 00:00:00     39      9.75                 9.75\n",
       "2015-01-01 00:15:00      2      0.50                10.25\n",
       "2015-01-01 00:30:00     57     14.25                24.50\n",
       "2015-01-01 00:45:00      5      1.25                25.75\n",
       "2015-01-01 01:00:00     47     11.75                37.50"
      ]
     },
     "execution_count": 7,
     "metadata": {},
     "output_type": "execute_result"
    }
   ],
   "source": [
    "df.head()"
   ]
  },
  {
   "cell_type": "code",
   "execution_count": 8,
   "metadata": {},
   "outputs": [
    {
     "data": {
      "image/png": "[encoded data removed]",
      "text/plain": [
       "<matplotlib.figure.Figure at 0x24977eaada0>"
      ]
     },
     "metadata": {},
     "output_type": "display_data"
    }
   ],
   "source": [
    "fig, ax1 = plt.subplots()\n",
    "plt.rcParams['figure.figsize'] = 12,5\n",
    "\n",
    "ax2 = ax1.twinx()\n",
    "ax1.plot(df.index, df['speed'], 'g-')\n",
    "ax2.plot(df.index, df['distance'], 'b-')\n",
    "\n",
    "ax1.set_xlabel('Date')\n",
    "ax1.set_ylabel('Speed', color='g')\n",
    "ax2.set_ylabel('Distance', color='b')\n",
    "\n",
    "plt.show()\n"
   ]
  },
  {
   "cell_type": "code",
   "execution_count": 10,
   "metadata": {
    "collapsed": true
   },
   "outputs": [],
   "source": [
    "# Not very pretty, far too many data points.\n",
    "\n",
    "# Let’s start resampling, we’ll start with a weekly summary."
   ]
  },
  {
   "cell_type": "code",
   "execution_count": 9,
   "metadata": {
    "collapsed": true
   },
   "outputs": [],
   "source": [
    "# The resample method in pandas is similar to its groupby method as you are essentially grouping \n",
    "# by a certain time span. You then specify a method of how you would like to resample."
   ]
  },
  {
   "cell_type": "code",
   "execution_count": 10,
   "metadata": {
    "collapsed": true
   },
   "outputs": [],
   "source": [
    "# df.speed.resample() will be used to resample the speed column \n",
    "\n",
    "# The 'W' indicates we want to resample by week. At the bottom of this post is a \n",
    "# summary of different time frames.\n",
    "\n",
    "# mean() is used to indicate we want the mean speed during this period."
   ]
  },
  {
   "cell_type": "code",
   "execution_count": 11,
   "metadata": {
    "collapsed": true
   },
   "outputs": [],
   "source": [
    "# With distance, we want the sum of the distances over the week to see how far the car travelled over the week, \n",
    "# in that case we use sum().\n",
    "\n",
    "# With cumulative distance we just want to take the last value as it’s a running cumulative total, \n",
    "# so in that case we use last()."
   ]
  },
  {
   "cell_type": "code",
   "execution_count": 12,
   "metadata": {
    "collapsed": true
   },
   "outputs": [],
   "source": [
    "# Alias\tDescription\n",
    "# B \tBusiness day\n",
    "# D \tCalendar day\n",
    "# W \tWeekly\n",
    "# M \tMonth end\n",
    "# Q \tQuarter end\n",
    "# A \tYear end\n",
    "# BA\tBusiness year end\n",
    "# AS\tYear start\n",
    "# H \tHourly frequency\n",
    "# T, min\tMinutely frequency\n",
    "# S \tSecondly frequency\n",
    "# L, ms\tMillisecond frequency\n",
    "# U, us\tMicrosecond frequency\n",
    "# N, ns\tNanosecond frequency"
   ]
  },
  {
   "cell_type": "code",
   "execution_count": 13,
   "metadata": {
    "collapsed": true
   },
   "outputs": [],
   "source": [
    "# Method\tDescription\n",
    "# bfill  \tBackward fill\n",
    "# count \tCount of values\n",
    "# ffill \tForward fill\n",
    "# first \tFirst valid data value\n",
    "# last  \tLast valid data values\n",
    "# max\t    Maximum data value\n",
    "# mean  \tMean of values in time range\n",
    "# median\tMedian of values in time range\n",
    "# min\t    Minimum data value\n",
    "# nunique\tNumber of unique values\n",
    "# ohlc  \tOpening value, highest value, lowest value, closing value\n",
    "# pad\t    Same as forward fill\n",
    "# std\t    Standard deviation of values\n",
    "# sum\t    Sum of values\n",
    "# var\t    Variance of values"
   ]
  },
  {
   "cell_type": "code",
   "execution_count": 14,
   "metadata": {},
   "outputs": [
    {
     "data": {
      "text/html": [
       "<div>\n",
       "<style>\n",
       "    .dataframe thead tr:only-child th {\n",
       "        text-align: right;\n",
       "    }\n",
       "\n",
       "    .dataframe thead th {\n",
       "        text-align: left;\n",
       "    }\n",
       "\n",
       "    .dataframe tbody tr th {\n",
       "        vertical-align: top;\n",
       "    }\n",
       "</style>\n",
       "<table border=\"1\" class=\"dataframe\">\n",
       "  <thead>\n",
       "    <tr style=\"text-align: right;\">\n",
       "      <th></th>\n",
       "      <th>speed</th>\n",
       "      <th>distance</th>\n",
       "      <th>cumulative_distance</th>\n",
       "    </tr>\n",
       "  </thead>\n",
       "  <tbody>\n",
       "    <tr>\n",
       "      <th>2015-01-11</th>\n",
       "      <td>29.282738</td>\n",
       "      <td>4919.50</td>\n",
       "      <td>7580.75</td>\n",
       "    </tr>\n",
       "    <tr>\n",
       "      <th>2015-01-18</th>\n",
       "      <td>29.534226</td>\n",
       "      <td>4961.75</td>\n",
       "      <td>12542.50</td>\n",
       "    </tr>\n",
       "    <tr>\n",
       "      <th>2015-01-25</th>\n",
       "      <td>28.715774</td>\n",
       "      <td>4824.25</td>\n",
       "      <td>17366.75</td>\n",
       "    </tr>\n",
       "    <tr>\n",
       "      <th>2015-02-01</th>\n",
       "      <td>30.069940</td>\n",
       "      <td>5051.75</td>\n",
       "      <td>22418.50</td>\n",
       "    </tr>\n",
       "    <tr>\n",
       "      <th>2015-02-08</th>\n",
       "      <td>30.690476</td>\n",
       "      <td>5156.00</td>\n",
       "      <td>27574.50</td>\n",
       "    </tr>\n",
       "  </tbody>\n",
       "</table>\n",
       "</div>"
      ],
      "text/plain": [
       "                speed  distance  cumulative_distance\n",
       "2015-01-11  29.282738   4919.50              7580.75\n",
       "2015-01-18  29.534226   4961.75             12542.50\n",
       "2015-01-25  28.715774   4824.25             17366.75\n",
       "2015-02-01  30.069940   5051.75             22418.50\n",
       "2015-02-08  30.690476   5156.00             27574.50"
      ]
     },
     "execution_count": 14,
     "metadata": {},
     "output_type": "execute_result"
    }
   ],
   "source": [
    "weekly_summary = pd.DataFrame()\n",
    "\n",
    "weekly_summary['speed'] = df.speed.resample('W').mean()\n",
    "weekly_summary['distance'] = df.distance.resample('W').sum()\n",
    "weekly_summary['cumulative_distance'] = df.cumulative_distance.resample('W').last()\n",
    "\n",
    "#Select only whole weeks\n",
    "weekly_summary = weekly_summary.truncate(before='2015-01-05', after='2015-12-27')\n",
    "weekly_summary.head()"
   ]
  },
  {
   "cell_type": "code",
   "execution_count": 15,
   "metadata": {},
   "outputs": [
    {
     "data": {
      "image/png": "[encoded data removed]",
      "text/plain": [
       "<matplotlib.figure.Figure at 0x24977eaaa90>"
      ]
     },
     "metadata": {},
     "output_type": "display_data"
    }
   ],
   "source": [
    "fig, ax1 = plt.subplots()\n",
    "\n",
    "ax2 = ax1.twinx()\n",
    "ax1.plot(weekly_summary.index, weekly_summary['speed'], 'g-')\n",
    "ax2.plot(weekly_summary.index, weekly_summary['distance'], 'b-')\n",
    "\n",
    "ax1.set_xlabel('Date')\n",
    "ax1.set_ylabel('Speed', color='g')\n",
    "ax2.set_ylabel('Distance', color='b')\n",
    "\n",
    "plt.show()\n",
    "plt.rcParams['figure.figsize'] = 12,5"
   ]
  },
  {
   "cell_type": "code",
   "execution_count": null,
   "metadata": {
    "collapsed": true
   },
   "outputs": [],
   "source": [
    "# Much better\n",
    "\n",
    "# We can do the same thing for an annual summary:"
   ]
  },
  {
   "cell_type": "code",
   "execution_count": 16,
   "metadata": {},
   "outputs": [
    {
     "data": {
      "text/html": [
       "<div>\n",
       "<style>\n",
       "    .dataframe thead tr:only-child th {\n",
       "        text-align: right;\n",
       "    }\n",
       "\n",
       "    .dataframe thead th {\n",
       "        text-align: left;\n",
       "    }\n",
       "\n",
       "    .dataframe tbody tr th {\n",
       "        vertical-align: top;\n",
       "    }\n",
       "</style>\n",
       "<table border=\"1\" class=\"dataframe\">\n",
       "  <thead>\n",
       "    <tr style=\"text-align: right;\">\n",
       "      <th></th>\n",
       "      <th>speed</th>\n",
       "      <th>distance</th>\n",
       "      <th>cumulative_distance</th>\n",
       "    </tr>\n",
       "  </thead>\n",
       "  <tbody>\n",
       "    <tr>\n",
       "      <th>2015-01-01</th>\n",
       "      <td>29.394849</td>\n",
       "      <td>1027203</td>\n",
       "      <td>256800.75</td>\n",
       "    </tr>\n",
       "  </tbody>\n",
       "</table>\n",
       "</div>"
      ],
      "text/plain": [
       "                speed  distance  cumulative_distance\n",
       "2015-01-01  29.394849   1027203            256800.75"
      ]
     },
     "execution_count": 16,
     "metadata": {},
     "output_type": "execute_result"
    }
   ],
   "source": [
    "annual_summary = pd.DataFrame()\n",
    "\n",
    "# AS is year-start frequency\n",
    "annual_summary['speed'] = df.speed.resample('AS').mean()\n",
    "annual_summary['distance'] = df.speed.resample('AS').sum()\n",
    "annual_summary['cumulative_distance'] = df.cumulative_distance.resample('AS').last()\n",
    "\n",
    "annual_summary"
   ]
  },
  {
   "cell_type": "code",
   "execution_count": null,
   "metadata": {
    "collapsed": true
   },
   "outputs": [],
   "source": []
  }
 ],
 "metadata": {
  "kernelspec": {
   "display_name": "Python 3",
   "language": "python",
   "name": "python3"
  },
  "language_info": {
   "codemirror_mode": {
    "name": "ipython",
    "version": 3
   },
   "file_extension": ".py",
   "mimetype": "text/x-python",
   "name": "python",
   "nbconvert_exporter": "python",
   "pygments_lexer": "ipython3",
   "version": "3.6.3"
  }
 },
 "nbformat": 4,
 "nbformat_minor": 2
}
