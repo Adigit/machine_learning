{
 "cells": [
  {
   "cell_type": "code",
   "execution_count": null,
   "id": "6a595d12",
   "metadata": {},
   "outputs": [],
   "source": [
    "# Advertising dataset problem statement to find the effect of diferent advertising mode on sales."
   ]
  },
  {
   "cell_type": "code",
   "execution_count": null,
   "id": "01b8eb1a",
   "metadata": {},
   "outputs": [],
   "source": []
  }
 ],
 "metadata": {
  "kernelspec": {
   "display_name": "Python 3",
   "language": "python",
   "name": "python3"
  }
 },
 "nbformat": 4,
 "nbformat_minor": 5
}
