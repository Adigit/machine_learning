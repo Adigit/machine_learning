{
 "cells": [
  {
   "cell_type": "code",
   "execution_count": 11,
   "id": "1329451e",
   "metadata": {},
   "outputs": [],
   "source": [
    "#Varibale length arguments\n",
    "\n",
    "#- *args\n",
    "def add(*args):\n",
    "    print(args)\n",
    "    print(args[1])\n",
    "    "
   ]
  },
  {
   "cell_type": "code",
   "execution_count": 12,
   "id": "26d886b7",
   "metadata": {},
   "outputs": [
    {
     "name": "stdout",
     "output_type": "stream",
     "text": [
      "(1, 2, 3)\n",
      "2\n"
     ]
    }
   ],
   "source": [
    "add(1,2,3)"
   ]
  },
  {
   "cell_type": "code",
   "execution_count": 27,
   "id": "68cf096a",
   "metadata": {},
   "outputs": [],
   "source": [
    "def add(*args, **kwargs):\n",
    "    print(kwargs)\n",
    "    "
   ]
  },
  {
   "cell_type": "code",
   "execution_count": 28,
   "id": "54171db2",
   "metadata": {},
   "outputs": [
    {
     "name": "stdout",
     "output_type": "stream",
     "text": [
      "{'a': 10, 'b': 20}\n"
     ]
    }
   ],
   "source": [
    "add(1,2,3, a = 10, b = 20)"
   ]
  },
  {
   "cell_type": "code",
   "execution_count": 7,
   "id": "6879a0e4",
   "metadata": {},
   "outputs": [
    {
     "data": {
      "text/plain": [
       "[5, 6, 7, 8, 9]"
      ]
     },
     "execution_count": 7,
     "metadata": {},
     "output_type": "execute_result"
    }
   ],
   "source": [
    "list(range(5,10))"
   ]
  },
  {
   "cell_type": "code",
   "execution_count": 13,
   "id": "7de39b93",
   "metadata": {},
   "outputs": [],
   "source": [
    "emp_data = {'emp_1':{'Age': 26 , 'Salary': 901000 , 'Name': 'Salahuddin'},\n",
    "           'emp_2':{'Age': 27 , 'Salary': 1000000 , 'Name': 'Abhijeet'},\n",
    "           'emp_3':{'Age': 28 , 'Salary': 1000002 , 'Name': 'Abhishail'},\n",
    "           'emp_4':{'Age': 29 , 'Salary': 1100000 , 'Name': 'Abhishek'}}"
   ]
  },
  {
   "cell_type": "code",
   "execution_count": 15,
   "id": "27abd359",
   "metadata": {},
   "outputs": [
    {
     "name": "stdout",
     "output_type": "stream",
     "text": [
      "Enter the age of the emp : 10\n",
      "Enter the salary of the emp : 20\n",
      "Enter the name of the emp : ad\n"
     ]
    },
    {
     "data": {
      "text/plain": [
       "{'Age': 10, 'Salary': 20, 'Name': 'ad'}"
      ]
     },
     "execution_count": 15,
     "metadata": {},
     "output_type": "execute_result"
    }
   ],
   "source": [
    "age = int(input('Enter the age of the emp : '))\n",
    "Salary = int(input('Enter the salary of the emp : '))\n",
    "Name = input('Enter the name of the emp : ')\n",
    "\n",
    "key = f'emp_{len(emp_data)+1}'\n",
    "\n",
    "emp_data.setdefault(key , {'Age': age , 'Salary': Salary , 'Name': Name})"
   ]
  },
  {
   "cell_type": "code",
   "execution_count": 29,
   "id": "f2503d20",
   "metadata": {},
   "outputs": [
    {
     "data": {
      "text/plain": [
       "{'emp_1': {'Age': 26, 'Salary': 901000, 'Name': 'Salahuddin'},\n",
       " 'emp_2': {'Age': 27, 'Salary': 1000000, 'Name': 'Abhijeet'},\n",
       " 'emp_3': {'Age': 28, 'Salary': 1000002, 'Name': 'Abhishail'},\n",
       " 'emp_4': {'Age': 29, 'Salary': 1100000, 'Name': 'Abhishek'},\n",
       " 'emp_5': {'Age': 10, 'Salary': 20, 'Name': 'ad'},\n",
       " 'emp_6': {'Age': 20, 'Salary': 200, 'Name': 'adity', 'Location': 'Delhi'},\n",
       " 'emp_7': {'Age': 20, 'Salary': 200, 'Name': 'adity', 'Location': 'Delhi'},\n",
       " 'emp_8': {'Age': 20, 'Salary': 200, 'Name': 'adity', 'Location': 'Delhi'},\n",
       " 'emp_9': {'Age': 20, 'Salary': 200, 'Name': 'adity', 'Location': 'Delhi'},\n",
       " 'emp_10': {'Age': 20, 'Salary': 200, 'Name': 'adity', 'Location': 'MUmbai'},\n",
       " 'emp_11': {'age': 20, 'sal': 200, 'name': 'adity', 'loc': 'Delhi'}}"
      ]
     },
     "execution_count": 29,
     "metadata": {},
     "output_type": "execute_result"
    }
   ],
   "source": [
    "def emm_adder(**new_emp_data):\n",
    "    key = f'emp_{len(emp_data)+1}'        \n",
    "    emp_data.setdefault(key ,new_emp_data)\n",
    "    return emp_data\n",
    "emm_adder(age = 20, sal = 200, name = 'adity', loc = 'Delhi')"
   ]
  },
  {
   "cell_type": "code",
   "execution_count": 30,
   "id": "94e24778",
   "metadata": {},
   "outputs": [
    {
     "data": {
      "text/plain": [
       "{'emp_1': {'Age': 26, 'Salary': 901000, 'Name': 'Salahuddin'},\n",
       " 'emp_2': {'Age': 27, 'Salary': 1000000, 'Name': 'Abhijeet'},\n",
       " 'emp_3': {'Age': 28, 'Salary': 1000002, 'Name': 'Abhishail'},\n",
       " 'emp_4': {'Age': 29, 'Salary': 1100000, 'Name': 'Abhishek'},\n",
       " 'emp_5': {'Age': 10, 'Salary': 20, 'Name': 'ad'},\n",
       " 'emp_6': {'Age': 20, 'Salary': 200, 'Name': 'adity', 'Location': 'Delhi'},\n",
       " 'emp_7': {'Age': 20, 'Salary': 200, 'Name': 'adity', 'Location': 'Delhi'},\n",
       " 'emp_8': {'Age': 20, 'Salary': 200, 'Name': 'adity', 'Location': 'Delhi'},\n",
       " 'emp_9': {'Age': 20, 'Salary': 200, 'Name': 'adity', 'Location': 'Delhi'},\n",
       " 'emp_10': {'Age': 20, 'Salary': 200, 'Name': 'adity', 'Location': 'MUmbai'},\n",
       " 'emp_11': {'age': 20, 'sal': 200, 'name': 'adity', 'loc': 'Delhi'},\n",
       " 'emp_12': {'age': 20, 'sal': 200, 'name': 'adity', 'loc': 'MUmbai 1'}}"
      ]
     },
     "execution_count": 30,
     "metadata": {},
     "output_type": "execute_result"
    }
   ],
   "source": [
    "emm_adder(age = 20, sal = 200, name = 'adity', loc = 'MUmbai 1')"
   ]
  },
  {
   "cell_type": "code",
   "execution_count": null,
   "id": "a05d8bf4",
   "metadata": {},
   "outputs": [],
   "source": [
    "# Global and local Variable"
   ]
  },
  {
   "cell_type": "code",
   "execution_count": 1,
   "id": "797bf630",
   "metadata": {},
   "outputs": [
    {
     "name": "stdout",
     "output_type": "stream",
     "text": [
      "Enter string : abc\n"
     ]
    },
    {
     "ename": "SyntaxError",
     "evalue": "'return' outside function (2712223294.py, line 12)",
     "output_type": "error",
     "traceback": [
      "\u001b[0;36m  Input \u001b[0;32mIn [1]\u001b[0;36m\u001b[0m\n\u001b[0;31m    return 'yes'\u001b[0m\n\u001b[0m    ^\u001b[0m\n\u001b[0;31mSyntaxError\u001b[0m\u001b[0;31m:\u001b[0m 'return' outside function\n"
     ]
    }
   ],
   "source": [
    "def palindrom(a):\n",
    "    if a == a[::-1]:\n",
    "        return 'yes'\n",
    "    else:\n",
    "        return 'no'\n",
    "\n",
    "str = input('Enter string : ')\n",
    "if palindrom(str) == 'no':\n",
    "    new_str = input('Do you want to enter new string : ')\n",
    "    if new_str == 'yes':\n",
    "        if palindrom(new_str) == 'yes':\n",
    "             'yes' \n",
    "        else:\n",
    "             'no'\n",
    "           "
   ]
  },
  {
   "cell_type": "code",
   "execution_count": null,
   "id": "eb688797",
   "metadata": {},
   "outputs": [],
   "source": [
    "palindrom('level')"
   ]
  },
  {
   "cell_type": "code",
   "execution_count": null,
   "id": "67d36406",
   "metadata": {},
   "outputs": [],
   "source": []
  },
  {
   "cell_type": "code",
   "execution_count": null,
   "id": "833afdc8",
   "metadata": {},
   "outputs": [],
   "source": []
  }
 ],
 "metadata": {
  "kernelspec": {
   "display_name": "Python 3 (ipykernel)",
   "language": "python",
   "name": "python3"
  },
  "language_info": {
   "codemirror_mode": {
    "name": "ipython",
    "version": 3
   },
   "file_extension": ".py",
   "mimetype": "text/x-python",
   "name": "python",
   "nbconvert_exporter": "python",
   "pygments_lexer": "ipython3",
   "version": "3.9.12"
  }
 },
 "nbformat": 4,
 "nbformat_minor": 5
}
