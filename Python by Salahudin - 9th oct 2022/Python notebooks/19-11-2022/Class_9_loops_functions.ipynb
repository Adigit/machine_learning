{
 "cells": [
  {
   "cell_type": "code",
   "execution_count": null,
   "id": "51d8c99a",
   "metadata": {},
   "outputs": [],
   "source": [
    "# basic calculator\n",
    "\n",
    "\n",
    "1 - enter the first number\n",
    "2 - enter the second number\n",
    "3 - + , -, * , /\n",
    "4 - // --> invalid operator\n"
   ]
  },
  {
   "cell_type": "code",
   "execution_count": 4,
   "id": "b47de863",
   "metadata": {},
   "outputs": [
    {
     "name": "stdout",
     "output_type": "stream",
     "text": [
      "Enter the first num : 10\n",
      "Enter the second num : 20\n",
      "Enter the operation you want to perform : +\n",
      "30\n"
     ]
    }
   ],
   "source": [
    "a = eval(input('Enter the first num : '))\n",
    "b = eval(input('Enter the second num : '))\n",
    "c = input('Enter the operation you want to perform : ')\n",
    "\n",
    "\n",
    "\n",
    "if (c == 'add') or (c== '+'):\n",
    "    print(a+b)\n",
    "elif (c == 'sub') or (c == '-'):\n",
    "    print(a-b)\n",
    "elif (c == 'mul') or (c == '*'):\n",
    "    print(a * b)\n",
    "elif (c == 'div') or (c == '/'):\n",
    "    print(a / b)\n",
    "else:\n",
    "    print('invalid operator')"
   ]
  },
  {
   "cell_type": "markdown",
   "id": "d6c28ed1",
   "metadata": {},
   "source": [
    "# Loops"
   ]
  },
  {
   "cell_type": "code",
   "execution_count": null,
   "id": "1c45f669",
   "metadata": {},
   "outputs": [],
   "source": [
    "# for loop\n",
    "for fixed iterations we use for loop\n",
    "\n",
    "syntax \n",
    "\n",
    "for var in iterable:\n",
    "    stat1\n",
    "    stat2\n",
    "    stat3\n"
   ]
  },
  {
   "cell_type": "code",
   "execution_count": 6,
   "id": "d805f7d5",
   "metadata": {},
   "outputs": [
    {
     "data": {
      "text/plain": [
       "11"
      ]
     },
     "execution_count": 6,
     "metadata": {},
     "output_type": "execute_result"
    }
   ],
   "source": [
    "a = [1,2,3,4,5,6,6,78,8,9,0]\n",
    "\n",
    "\n",
    "len(a)"
   ]
  },
  {
   "cell_type": "code",
   "execution_count": 7,
   "id": "7c6187d4",
   "metadata": {},
   "outputs": [
    {
     "name": "stdout",
     "output_type": "stream",
     "text": [
      "1\n",
      "2\n",
      "3\n",
      "4\n",
      "5\n",
      "6\n",
      "6\n",
      "78\n",
      "8\n",
      "9\n",
      "0\n"
     ]
    }
   ],
   "source": [
    "for i in a:\n",
    "    print(i)"
   ]
  },
  {
   "cell_type": "markdown",
   "id": "cf87ae2a",
   "metadata": {},
   "source": [
    "# While loop"
   ]
  },
  {
   "cell_type": "code",
   "execution_count": 8,
   "id": "c4012a9f",
   "metadata": {},
   "outputs": [
    {
     "ename": "SyntaxError",
     "evalue": "invalid syntax (3509098324.py, line 1)",
     "output_type": "error",
     "traceback": [
      "\u001b[1;36m  Input \u001b[1;32mIn [8]\u001b[1;36m\u001b[0m\n\u001b[1;33m    - If we do not know the iteration\u001b[0m\n\u001b[1;37m         ^\u001b[0m\n\u001b[1;31mSyntaxError\u001b[0m\u001b[1;31m:\u001b[0m invalid syntax\n"
     ]
    }
   ],
   "source": [
    "- If we do not know the iteration\n",
    "\n",
    "\n",
    "\n",
    "syntax - \n",
    "1. initilization\n",
    "2. condition checking\n",
    "3. inc / dec"
   ]
  },
  {
   "cell_type": "code",
   "execution_count": null,
   "id": "80232c6f",
   "metadata": {},
   "outputs": [],
   "source": [
    "var = 0 # initialization\n",
    "\n",
    "while var < 5: # condition checking\n",
    "    print('statment')\n",
    "    var += 1 # inc"
   ]
  },
  {
   "cell_type": "code",
   "execution_count": 10,
   "id": "aac3a83c",
   "metadata": {},
   "outputs": [
    {
     "name": "stdout",
     "output_type": "stream",
     "text": [
      "5\n"
     ]
    }
   ],
   "source": [
    "x = 0\n",
    "\n",
    "\n",
    "#x = x + 1\n",
    "x +=5\n",
    "\n",
    "\n",
    "print(x)"
   ]
  },
  {
   "cell_type": "code",
   "execution_count": null,
   "id": "f851dde4",
   "metadata": {},
   "outputs": [],
   "source": [
    "# "
   ]
  },
  {
   "cell_type": "code",
   "execution_count": 19,
   "id": "893af751",
   "metadata": {},
   "outputs": [
    {
     "name": "stdout",
     "output_type": "stream",
     "text": [
      "p\n",
      "yy\n",
      "ttt\n",
      "hhhh\n",
      "ooooo\n",
      "nnnnnn\n",
      "------------------\n",
      "p\n",
      "yy\n",
      "ttt\n",
      "hhhh\n",
      "ooooo\n",
      "nnnnnn\n",
      "------------------\n",
      "p\n",
      "yy\n",
      "ttt\n",
      "hhhh\n",
      "ooooo\n",
      "nnnnnn\n"
     ]
    }
   ],
   "source": [
    "a = 'python'\n",
    "\n",
    "# p\n",
    "# yy\n",
    "# ttt\n",
    "# hhhh\n",
    "# ooooo\n",
    "# hhhhhh\n",
    "\n",
    "\n",
    "print(a[0]*1)\n",
    "print(a[1]*2)\n",
    "print(a[2]*3)\n",
    "print(a[3]*4)\n",
    "print(a[4]*5)\n",
    "print(a[5]*6)\n",
    "\n",
    "print('------------------')\n",
    "# for loop\n",
    "for i in range(len(a)):\n",
    "    print(a[i] * (i+1))\n",
    "\n",
    "    \n",
    "print('------------------')\n",
    "# while loop\n",
    "i = 0\n",
    "while i < len(a):\n",
    "    print(a[i] * (i+1))\n",
    "    i+=1"
   ]
  },
  {
   "cell_type": "code",
   "execution_count": 20,
   "id": "631d22cf",
   "metadata": {},
   "outputs": [
    {
     "data": {
      "text/plain": [
       "'h'"
      ]
     },
     "execution_count": 20,
     "metadata": {},
     "output_type": "execute_result"
    }
   ],
   "source": [
    "a = 'python'\n",
    "\n",
    "# print(a[0]*1)\n",
    "# print(a[1]*2)\n",
    "# print(a[2]*3)\n",
    "# print(a[3]*4)\n",
    "# print(a[4]*5)\n",
    "# print(a[5]*6)\n",
    "a[3]"
   ]
  },
  {
   "cell_type": "code",
   "execution_count": null,
   "id": "fa23e640",
   "metadata": {},
   "outputs": [],
   "source": [
    "# break , continue , pass"
   ]
  },
  {
   "cell_type": "markdown",
   "id": "e8f20bc6",
   "metadata": {},
   "source": [
    "# Break\n",
    "\n",
    "\n",
    "- The break keyword is used to break out from the loop"
   ]
  },
  {
   "cell_type": "code",
   "execution_count": 22,
   "id": "89958574",
   "metadata": {},
   "outputs": [
    {
     "name": "stdout",
     "output_type": "stream",
     "text": [
      "0\n",
      "1\n",
      "2\n"
     ]
    }
   ],
   "source": [
    "for i in range(9):\n",
    "    if i == 3:\n",
    "        break\n",
    "    print(i)"
   ]
  },
  {
   "cell_type": "markdown",
   "id": "0dcdae72",
   "metadata": {},
   "source": [
    "# Continue\n",
    "\n",
    "- it is just used to end the current iteration"
   ]
  },
  {
   "cell_type": "code",
   "execution_count": 23,
   "id": "0bba1395",
   "metadata": {},
   "outputs": [
    {
     "name": "stdout",
     "output_type": "stream",
     "text": [
      "0\n",
      "1\n",
      "2\n",
      "4\n",
      "5\n",
      "6\n",
      "7\n",
      "8\n"
     ]
    }
   ],
   "source": [
    "for i in range(9):\n",
    "    if i == 3:\n",
    "        continue\n",
    "    print(i)"
   ]
  },
  {
   "cell_type": "markdown",
   "id": "1d79b236",
   "metadata": {},
   "source": [
    "# Pass\n"
   ]
  },
  {
   "cell_type": "code",
   "execution_count": 27,
   "id": "582d3908",
   "metadata": {},
   "outputs": [
    {
     "name": "stdout",
     "output_type": "stream",
     "text": [
      "v1f1\n",
      "v1f2\n",
      "v1f3\n",
      "v1f4\n"
     ]
    }
   ],
   "source": [
    "lst = ['file1' , 'file2' , 'file3' , 'file4']\n",
    "\n",
    "\n",
    "for i in lst:\n",
    "    if i == 'file1':\n",
    "        print('v1f1')\n",
    "    if i == 'file2':\n",
    "        print('v1f2')\n",
    "    if i == 'file3':\n",
    "        pass\n",
    "    if i == 'file4':\n",
    "        print('v1f4')\n",
    "    if i == 'file3':\n",
    "        print('v1f3')"
   ]
  },
  {
   "cell_type": "code",
   "execution_count": 44,
   "id": "590f58e3",
   "metadata": {},
   "outputs": [
    {
     "name": "stdout",
     "output_type": "stream",
     "text": [
      "v1f1\n",
      "v1f2\n",
      "Hello world\n",
      "v1f3\n",
      "v1f4\n"
     ]
    }
   ],
   "source": [
    "lst = ['file1' , 'file2' , 'file3' , 'file4']\n",
    "\n",
    "\n",
    "for i in lst:\n",
    "    if i == 'file1':\n",
    "        print('v1f1')\n",
    "    if i == 'file2':\n",
    "        print('v1f2')\n",
    "    if i == 'file3':\n",
    "        pass\n",
    "        print('Hello world')\n",
    "    if i == 'file4':\n",
    "        print('v1f4')\n",
    "    if i == 'file3':\n",
    "        print('v1f3')"
   ]
  },
  {
   "cell_type": "code",
   "execution_count": 29,
   "id": "97f53cbb",
   "metadata": {},
   "outputs": [
    {
     "name": "stdout",
     "output_type": "stream",
     "text": [
      "v1f1\n",
      "v1f2\n"
     ]
    }
   ],
   "source": [
    "lst = ['file1' , 'file2' , 'file3' , 'file4']\n",
    "\n",
    "\n",
    "for i in lst:\n",
    "    if i == 'file1':\n",
    "        print('v1f1')\n",
    "    if i == 'file2':\n",
    "        print('v1f2')\n",
    "    if i == 'file3':\n",
    "        break\n",
    "    if i == 'file4':\n",
    "        print('v1f4')\n",
    "    if i == 'file3':\n",
    "        print('v1f3')"
   ]
  },
  {
   "cell_type": "code",
   "execution_count": 32,
   "id": "9e112491",
   "metadata": {},
   "outputs": [
    {
     "name": "stdout",
     "output_type": "stream",
     "text": [
      "v1f1\n"
     ]
    }
   ],
   "source": [
    "lst = ['file1' , 'file2' , 'file3' , 'file4']\n",
    "\n",
    "\n",
    "for i in lst:\n",
    "    if i == 'file1':\n",
    "        print('v1f1')\n",
    "    if i == 'file2':\n",
    "        print('v1f2')\n",
    "    if i == 'file3':\n",
    "        pass\n",
    "    if i == 'file4':\n",
    "        print('v1f4')\n",
    "        continue        \n",
    "    if i == 'file1':\n",
    "        print('v2f1')\n",
    "    if i == 'file2':\n",
    "        print('v2f2')\n",
    "    if i == 'file3':\n",
    "        print('v2f3')\n",
    "    if i == 'file4':\n",
    "        print('v2f4')\n",
    "        \n",
    "        \n",
    "#file 1 ? v1\n",
    "# file 2 ? v1 , v2\n",
    "# file 3 ? v2\n",
    "# file 4 ? null"
   ]
  },
  {
   "cell_type": "code",
   "execution_count": null,
   "id": "a12613f3",
   "metadata": {},
   "outputs": [],
   "source": [
    "for iter 1   i = 'file1'\n",
    "\n",
    "v1f1\n",
    "\n",
    "\n",
    "for iter 2   i = 'file2'\n",
    "v1f2\n",
    "\n",
    "\n",
    "for iter 3   i = 'file3'\n",
    "v1f3\n",
    "\n",
    "for iter 4   i = 'file4'\n",
    "v1f4"
   ]
  },
  {
   "cell_type": "code",
   "execution_count": null,
   "id": "b6bc7715",
   "metadata": {},
   "outputs": [],
   "source": []
  },
  {
   "cell_type": "code",
   "execution_count": 40,
   "id": "f60cf713",
   "metadata": {},
   "outputs": [],
   "source": [
    "def add(a,b):\n",
    "    return a + b"
   ]
  },
  {
   "cell_type": "code",
   "execution_count": 36,
   "id": "6f6246f5",
   "metadata": {},
   "outputs": [],
   "source": [
    "def palindrom(a):\n",
    "    if a == a[::-1]:\n",
    "        print('yes')\n",
    "    else:\n",
    "        print('no')"
   ]
  },
  {
   "cell_type": "code",
   "execution_count": 41,
   "id": "caa45bc6",
   "metadata": {},
   "outputs": [
    {
     "data": {
      "text/plain": [
       "30"
      ]
     },
     "execution_count": 41,
     "metadata": {},
     "output_type": "execute_result"
    }
   ],
   "source": [
    "add(10 , 20)"
   ]
  },
  {
   "cell_type": "code",
   "execution_count": 37,
   "id": "3b2c1213",
   "metadata": {},
   "outputs": [
    {
     "name": "stdout",
     "output_type": "stream",
     "text": [
      "yes\n"
     ]
    }
   ],
   "source": [
    "palindrom('level')"
   ]
  },
  {
   "cell_type": "code",
   "execution_count": null,
   "id": "4a91932e",
   "metadata": {},
   "outputs": [],
   "source": [
    "rotor   ----> rotor"
   ]
  },
  {
   "cell_type": "code",
   "execution_count": 42,
   "id": "37f73187",
   "metadata": {},
   "outputs": [
    {
     "data": {
      "text/plain": [
       "'C:\\\\Users\\\\MIT\\\\Desktop\\\\ongoing classes\\\\9th oct'"
      ]
     },
     "execution_count": 42,
     "metadata": {},
     "output_type": "execute_result"
    }
   ],
   "source": [
    "pwd"
   ]
  },
  {
   "cell_type": "code",
   "execution_count": null,
   "id": "a25f4261",
   "metadata": {},
   "outputs": [],
   "source": [
    "# "
   ]
  },
  {
   "cell_type": "code",
   "execution_count": null,
   "id": "03f43d0c",
   "metadata": {},
   "outputs": [],
   "source": [
    "None - "
   ]
  },
  {
   "cell_type": "code",
   "execution_count": null,
   "id": "674d034c",
   "metadata": {},
   "outputs": [],
   "source": [
    "pass"
   ]
  },
  {
   "cell_type": "code",
   "execution_count": null,
   "id": "571f2294",
   "metadata": {},
   "outputs": [],
   "source": [
    "    a     b     c\n",
    "    \n",
    "1   33    None    73\n",
    "2   99    66    \n",
    "3         00    22"
   ]
  },
  {
   "cell_type": "code",
   "execution_count": 49,
   "id": "68663676",
   "metadata": {},
   "outputs": [
    {
     "name": "stdout",
     "output_type": "stream",
     "text": [
      "hello\n"
     ]
    }
   ],
   "source": [
    "a = 10\n",
    "\n",
    "\n",
    "if a == 10:\n",
    "    pass\n",
    "    print('hello')\n",
    "else:\n",
    "    print('wrong')"
   ]
  },
  {
   "cell_type": "code",
   "execution_count": null,
   "id": "ad74b62d",
   "metadata": {},
   "outputs": [],
   "source": [
    "a = 'python'\n",
    "\n",
    "\n",
    "# nnnnnn\n",
    "# ooooo\n",
    "# hhhh\n",
    "# ttt\n",
    "# yy\n",
    "# p\n",
    "\n",
    "\n"
   ]
  },
  {
   "cell_type": "code",
   "execution_count": 56,
   "id": "8b00e41a",
   "metadata": {},
   "outputs": [
    {
     "name": "stdout",
     "output_type": "stream",
     "text": [
      "------------------\n",
      "nnnnnn\n",
      "ooooo\n",
      "hhhh\n",
      "ttt\n",
      "yy\n",
      "p\n",
      "------------------\n",
      "nnnnnn\n",
      "ooooo\n",
      "hhhh\n",
      "ttt\n",
      "yy\n",
      "p\n",
      "\n"
     ]
    }
   ],
   "source": [
    "a = 'python'\n",
    "\n",
    "print('------------------')\n",
    "# for loop\n",
    "for i in range(len(a) , 0 , -1):\n",
    "    print(a[i-1] * i)\n",
    "\n",
    "    \n",
    "print('------------------')\n",
    "# while loop\n",
    "i = 6\n",
    "while i >= 0:\n",
    "    print(a[i-1] * i)\n",
    "    i-=1"
   ]
  },
  {
   "cell_type": "code",
   "execution_count": 50,
   "id": "ade6c2ca",
   "metadata": {},
   "outputs": [
    {
     "name": "stdout",
     "output_type": "stream",
     "text": [
      "nnnnnn\n",
      "ooooo\n",
      "hhhh\n",
      "ttt\n",
      "yy\n",
      "p\n"
     ]
    }
   ],
   "source": [
    "a = 'python'\n",
    "\n",
    "print(a[5]*6)\n",
    "print(a[4]*5)\n",
    "print(a[3]*4)\n",
    "print(a[2]*3)\n",
    "print(a[1]*2)\n",
    "print(a[0]*1)"
   ]
  },
  {
   "cell_type": "code",
   "execution_count": 58,
   "id": "39630672",
   "metadata": {},
   "outputs": [
    {
     "name": "stdout",
     "output_type": "stream",
     "text": [
      "pers3 selected\n"
     ]
    }
   ],
   "source": [
    "subjects = ['pers1' , 'pers2' , 'pers3' , 'pers4' , 'pers5']\n",
    "\n",
    "# phy --- clear or no\n",
    "# chem --- fail\n",
    "# mat -- clear\n",
    "\n",
    "\n",
    "for i in subjects:\n",
    "    if i == 'pers1':\n",
    "        continue\n",
    "        print('pers1 selected')\n",
    "    if i == 'pers2':\n",
    "        continue\n",
    "        print('pers2 selected')\n",
    "    if i == 'pers3':\n",
    "        print('pers3 selected')\n",
    "        break\n",
    "    if i == 'pers4':\n",
    "        print('pers4 selected')\n",
    "    if i == 'pers5':\n",
    "        print('pers5 selected')"
   ]
  },
  {
   "cell_type": "code",
   "execution_count": 61,
   "id": "55a1a5fc",
   "metadata": {},
   "outputs": [
    {
     "name": "stdout",
     "output_type": "stream",
     "text": [
      "pers3 got selected\n",
      "pers5 got selected\n"
     ]
    }
   ],
   "source": [
    "subjects = {'pers1': 'java' , 'pers2': 'python' , 'pers3':'python' , 'pers4': 'c++', 'pers5': 'python'}\n",
    "\n",
    "# phy --- clear or no\n",
    "# chem --- fail\n",
    "# mat -- clear\n",
    "\n",
    "\n",
    "for i in subjects:\n",
    "    if i == 'pers2':\n",
    "        continue\n",
    "    if subjects[i] == 'python':\n",
    "        print(f'{i} got selected')"
   ]
  },
  {
   "cell_type": "code",
   "execution_count": 69,
   "id": "2630c47a",
   "metadata": {},
   "outputs": [
    {
     "name": "stdout",
     "output_type": "stream",
     "text": [
      "pers2 got selected ML\n",
      "pers3 got selected python\n",
      "pers5 got selected python\n"
     ]
    }
   ],
   "source": [
    "subjects = {'pers1': 'java' , 'pers2': 'python' , 'pers3':'python' , 'pers4': 'c++', 'pers5': 'python' , 'pers2' : 'ML'}\n",
    "\n",
    "for i in subjects:\n",
    "    if subjects[i] == 'python':\n",
    "#         if i == 'pers2':\n",
    "#             pass\n",
    "        print(f'{i} got selected {subjects[i]}')\n",
    "    if subjects[i] == 'ML':\n",
    "        print(f'{i} got selected {subjects[i]}')"
   ]
  },
  {
   "cell_type": "code",
   "execution_count": null,
   "id": "c8f4bc8d",
   "metadata": {},
   "outputs": [],
   "source": [
    "subjects = {'pers1': 'java' , 'pers2': 'python' , 'pers3':'python' , 'pers4': 'c++', 'pers5': 'python' , 'pers2' : 'ML'}\n",
    "\n",
    "for i in subjects:\n",
    "    if subjects[i] == 'python':\n",
    "        if i == 'pers2':\n",
    "            pass\n",
    "        print(f'{i} got selected')\n",
    "    if subjects[i] == 'ML':\n",
    "        print(f'{i} got selected')"
   ]
  },
  {
   "cell_type": "markdown",
   "id": "1b48f7da",
   "metadata": {},
   "source": [
    "# Functions"
   ]
  },
  {
   "cell_type": "code",
   "execution_count": 71,
   "id": "902168a6",
   "metadata": {},
   "outputs": [
    {
     "name": "stdout",
     "output_type": "stream",
     "text": [
      "no\n",
      "30\n",
      "no\n"
     ]
    }
   ],
   "source": [
    "# task 1\n",
    "\n",
    "str_1 = 'xyz'\n",
    "\n",
    "if str_1 == str_1[::-1]:\n",
    "    print('palindrom')\n",
    "else:\n",
    "    print('no')\n",
    "\n",
    "# tasks 2\n",
    "\n",
    "a = 10\n",
    "b = 20\n",
    "\n",
    "print(a +b)\n",
    "\n",
    "# tasks 3\n",
    "\n",
    "str_1 = 'abc'\n",
    "\n",
    "if str_1 == str_1[::-1]:\n",
    "    print('palindrom')\n",
    "else:\n",
    "    print('no')\n"
   ]
  },
  {
   "cell_type": "code",
   "execution_count": null,
   "id": "8ae7b020",
   "metadata": {},
   "outputs": [],
   "source": [
    "# Best practices\n",
    "- Code should be written in a manner where it is understable\n",
    "- it should be written in as many minmum lines as possible"
   ]
  },
  {
   "cell_type": "code",
   "execution_count": null,
   "id": "7ee731ba",
   "metadata": {},
   "outputs": [],
   "source": [
    "# function - DRY (do not repeat yourself)\n",
    "\n",
    "\n",
    "1. function defination - where we define our function\n",
    "2. function call\n",
    "\n",
    "\n",
    "# syntax \n",
    "1. function defination\n",
    "                 - def function_name(parameters):\n",
    "                        stat1\n",
    "                        stat2\n",
    "                        return stat3\n",
    "                \n",
    "2. function call\n",
    "            function_name(arguments):\n",
    "        \n",
    "        \n",
    "# Things which are optional\n",
    "- parameters \n",
    "- return\n",
    "\n",
    "\n",
    "### please note: If you have given parameters then while function call arguments become complusary"
   ]
  },
  {
   "cell_type": "code",
   "execution_count": 72,
   "id": "eb5a918e",
   "metadata": {},
   "outputs": [],
   "source": [
    "# function defination\n",
    "\n",
    "def add():\n",
    "    print(10 + 20)"
   ]
  },
  {
   "cell_type": "code",
   "execution_count": 73,
   "id": "8334703f",
   "metadata": {},
   "outputs": [
    {
     "name": "stdout",
     "output_type": "stream",
     "text": [
      "30\n"
     ]
    }
   ],
   "source": [
    "# function call\n",
    "add()"
   ]
  },
  {
   "cell_type": "code",
   "execution_count": 74,
   "id": "bdca5bf4",
   "metadata": {},
   "outputs": [],
   "source": [
    "def add(a):\n",
    "    print(a + 20)"
   ]
  },
  {
   "cell_type": "code",
   "execution_count": 76,
   "id": "ae904fd4",
   "metadata": {},
   "outputs": [
    {
     "name": "stdout",
     "output_type": "stream",
     "text": [
      "50\n"
     ]
    }
   ],
   "source": [
    "add(30)"
   ]
  },
  {
   "cell_type": "code",
   "execution_count": 77,
   "id": "13e3253f",
   "metadata": {},
   "outputs": [],
   "source": [
    "def add(a,b):\n",
    "    print(a + b)"
   ]
  },
  {
   "cell_type": "code",
   "execution_count": 79,
   "id": "8ed8eccd",
   "metadata": {},
   "outputs": [
    {
     "name": "stdout",
     "output_type": "stream",
     "text": [
      "150\n"
     ]
    }
   ],
   "source": [
    "add(60 , 90)"
   ]
  },
  {
   "cell_type": "code",
   "execution_count": 81,
   "id": "0bbce78f",
   "metadata": {},
   "outputs": [],
   "source": [
    "def palindrom(a):\n",
    "    if a == a[::-1]:\n",
    "        print('yes')\n",
    "    else:\n",
    "        print('no')"
   ]
  },
  {
   "cell_type": "code",
   "execution_count": 82,
   "id": "4bf0310a",
   "metadata": {},
   "outputs": [
    {
     "name": "stdout",
     "output_type": "stream",
     "text": [
      "no\n"
     ]
    }
   ],
   "source": [
    "palindrom('python')"
   ]
  },
  {
   "cell_type": "code",
   "execution_count": 85,
   "id": "83cab1c0",
   "metadata": {},
   "outputs": [
    {
     "name": "stdout",
     "output_type": "stream",
     "text": [
      "no\n",
      "30\n",
      "yes\n"
     ]
    }
   ],
   "source": [
    "# task 1\n",
    "\n",
    "str_1 = 'xyz'\n",
    "\n",
    "def palindrom(a):\n",
    "    if a == a[::-1]:\n",
    "        print('yes')\n",
    "    else:\n",
    "        print('no')\n",
    "palindrom(str_1)\n",
    "# tasks 2\n",
    "\n",
    "a = 10\n",
    "b = 20\n",
    "\n",
    "print(a +b)\n",
    "\n",
    "# tasks 3\n",
    "\n",
    "str_1 = 'level'\n",
    "\n",
    "palindrom(str_1)\n"
   ]
  },
  {
   "cell_type": "code",
   "execution_count": 86,
   "id": "cef3c1ae",
   "metadata": {},
   "outputs": [
    {
     "name": "stdout",
     "output_type": "stream",
     "text": [
      "['__add__', '__class__', '__contains__', '__delattr__', '__dir__', '__doc__', '__eq__', '__format__', '__ge__', '__getattribute__', '__getitem__', '__getnewargs__', '__gt__', '__hash__', '__init__', '__init_subclass__', '__iter__', '__le__', '__len__', '__lt__', '__mod__', '__mul__', '__ne__', '__new__', '__reduce__', '__reduce_ex__', '__repr__', '__rmod__', '__rmul__', '__setattr__', '__sizeof__', '__str__', '__subclasshook__', 'capitalize', 'casefold', 'center', 'count', 'encode', 'endswith', 'expandtabs', 'find', 'format', 'format_map', 'index', 'isalnum', 'isalpha', 'isascii', 'isdecimal', 'isdigit', 'isidentifier', 'islower', 'isnumeric', 'isprintable', 'isspace', 'istitle', 'isupper', 'join', 'ljust', 'lower', 'lstrip', 'maketrans', 'partition', 'removeprefix', 'removesuffix', 'replace', 'rfind', 'rindex', 'rjust', 'rpartition', 'rsplit', 'rstrip', 'split', 'splitlines', 'startswith', 'strip', 'swapcase', 'title', 'translate', 'upper', 'zfill']\n"
     ]
    }
   ],
   "source": [
    "print(dir(str))"
   ]
  },
  {
   "cell_type": "code",
   "execution_count": 87,
   "id": "8caf8a77",
   "metadata": {},
   "outputs": [],
   "source": [
    "a  ='str'\n",
    "\n",
    "a.capitalize()"
   ]
  },
  {
   "cell_type": "code",
   "execution_count": 88,
   "id": "f5739100",
   "metadata": {},
   "outputs": [],
   "source": [
    "str_1 = 'xyz'\n",
    "\n",
    "def palindrom(a):\n",
    "    '''this is a function to know if a string is a palindrom \n",
    "    or no'''\n",
    "    if a == a[::-1]:\n",
    "        print('yes')\n",
    "    else:\n",
    "        print('no')\n"
   ]
  },
  {
   "cell_type": "code",
   "execution_count": 89,
   "id": "708b9c51",
   "metadata": {},
   "outputs": [
    {
     "name": "stdout",
     "output_type": "stream",
     "text": [
      "no\n"
     ]
    }
   ],
   "source": [
    "palindrom(str_1)"
   ]
  },
  {
   "cell_type": "markdown",
   "id": "175b912b",
   "metadata": {},
   "source": [
    "# Types of arguments\n",
    "\n",
    "3 types of arguments\n",
    "1. positional arguments\n",
    "2. default arguments\n",
    "3. keyword arguments"
   ]
  },
  {
   "cell_type": "code",
   "execution_count": null,
   "id": "f5504c80",
   "metadata": {},
   "outputs": [],
   "source": [
    "# 1. Positional args\n",
    " - The order is important\n",
    " - the number args should match with no of parameters"
   ]
  },
  {
   "cell_type": "code",
   "execution_count": 92,
   "id": "6df6833d",
   "metadata": {},
   "outputs": [
    {
     "name": "stdout",
     "output_type": "stream",
     "text": [
      "the name of the emp is  xyz\n",
      "the emp_sal of the emp is  34334\n",
      "the emp_age of the emp is  54\n"
     ]
    }
   ],
   "source": [
    "# - The order is important\n",
    "\n",
    "def emp_info(emp_name , emp_sal , emp_age):\n",
    "    print('the name of the emp is ' , emp_name)\n",
    "    print('the emp_sal of the emp is ' , emp_sal)\n",
    "    print('the emp_age of the emp is ' , emp_age)\n",
    "    \n",
    "    \n",
    "emp_info('xyz' , 34334 , 54)"
   ]
  },
  {
   "cell_type": "code",
   "execution_count": 94,
   "id": "cbbc2dee",
   "metadata": {},
   "outputs": [
    {
     "name": "stdout",
     "output_type": "stream",
     "text": [
      "the name of the emp is  34334\n",
      "the emp_sal of the emp is  None\n",
      "the emp_age of the emp is  xyz\n"
     ]
    }
   ],
   "source": [
    "# - The order is important\n",
    "\n",
    "def emp_info(emp_name , emp_sal , emp_age):\n",
    "    print('the name of the emp is ' , emp_name)\n",
    "    print('the emp_sal of the emp is ' , emp_sal)\n",
    "    print('the emp_age of the emp is ' , emp_age)\n",
    "    \n",
    "    \n",
    "emp_info( 34334 , None , 'xyz')"
   ]
  },
  {
   "cell_type": "code",
   "execution_count": 95,
   "id": "1aad6379",
   "metadata": {},
   "outputs": [
    {
     "ename": "TypeError",
     "evalue": "emp_info() missing 1 required positional argument: 'emp_age'",
     "output_type": "error",
     "traceback": [
      "\u001b[1;31m---------------------------------------------------------------------------\u001b[0m",
      "\u001b[1;31mTypeError\u001b[0m                                 Traceback (most recent call last)",
      "Input \u001b[1;32mIn [95]\u001b[0m, in \u001b[0;36m<cell line: 8>\u001b[1;34m()\u001b[0m\n\u001b[0;32m      5\u001b[0m     \u001b[38;5;28mprint\u001b[39m(\u001b[38;5;124m'\u001b[39m\u001b[38;5;124mthe emp_sal of the emp is \u001b[39m\u001b[38;5;124m'\u001b[39m , emp_sal)\n\u001b[0;32m      6\u001b[0m     \u001b[38;5;28mprint\u001b[39m(\u001b[38;5;124m'\u001b[39m\u001b[38;5;124mthe emp_age of the emp is \u001b[39m\u001b[38;5;124m'\u001b[39m , emp_age)\n\u001b[1;32m----> 8\u001b[0m \u001b[43memp_info\u001b[49m\u001b[43m(\u001b[49m\u001b[38;5;124;43m'\u001b[39;49m\u001b[38;5;124;43mxyz\u001b[39;49m\u001b[38;5;124;43m'\u001b[39;49m\u001b[43m \u001b[49m\u001b[43m,\u001b[49m\u001b[43m \u001b[49m\u001b[38;5;241;43m34334\u001b[39;49m\u001b[43m \u001b[49m\u001b[43m)\u001b[49m\n",
      "\u001b[1;31mTypeError\u001b[0m: emp_info() missing 1 required positional argument: 'emp_age'"
     ]
    }
   ],
   "source": [
    "# - the no of parm should match with the no of args\n",
    "\n",
    "def emp_info(emp_name , emp_sal , emp_age):\n",
    "    print('the name of the emp is ' , emp_name)\n",
    "    print('the emp_sal of the emp is ' , emp_sal)\n",
    "    print('the emp_age of the emp is ' , emp_age)\n",
    "    \n",
    "emp_info('xyz' , 34334 )"
   ]
  },
  {
   "cell_type": "markdown",
   "id": "c6f2aa7e",
   "metadata": {},
   "source": [
    "# 2. Default args"
   ]
  },
  {
   "cell_type": "code",
   "execution_count": 96,
   "id": "4d4fef2f",
   "metadata": {},
   "outputs": [
    {
     "name": "stdout",
     "output_type": "stream",
     "text": [
      "the name of the emp is  xyz\n",
      "the emp_sal of the emp is  34334\n",
      "the emp_age of the emp is  54\n",
      "the emp_location of the emp is  Goa\n"
     ]
    }
   ],
   "source": [
    "\n",
    "\n",
    "def emp_info(emp_name , emp_sal , emp_age , emp_location = 'Goa'):\n",
    "    print('the name of the emp is ' , emp_name)\n",
    "    print('the emp_sal of the emp is ' , emp_sal)\n",
    "    print('the emp_age of the emp is ' , emp_age)\n",
    "    print('the emp_location of the emp is ' , emp_location)\n",
    "    \n",
    "    \n",
    "emp_info('xyz' , 34334 , 54)"
   ]
  },
  {
   "cell_type": "code",
   "execution_count": 97,
   "id": "f3235622",
   "metadata": {},
   "outputs": [
    {
     "name": "stdout",
     "output_type": "stream",
     "text": [
      "the name of the emp is  xyz\n",
      "the emp_sal of the emp is  34334\n",
      "the emp_age of the emp is  54\n",
      "the emp_location of the emp is  Pune\n"
     ]
    }
   ],
   "source": [
    "\n",
    "\n",
    "def emp_info(emp_name , emp_sal , emp_age , emp_location = 'Goa'):\n",
    "    print('the name of the emp is ' , emp_name)\n",
    "    print('the emp_sal of the emp is ' , emp_sal)\n",
    "    print('the emp_age of the emp is ' , emp_age)\n",
    "    print('the emp_location of the emp is ' , emp_location)\n",
    "    \n",
    "    \n",
    "emp_info('xyz' , 34334 , 54 , 'Pune')"
   ]
  },
  {
   "cell_type": "markdown",
   "id": "3775b065",
   "metadata": {},
   "source": [
    "# Keyword args"
   ]
  },
  {
   "cell_type": "code",
   "execution_count": 102,
   "id": "571fef73",
   "metadata": {},
   "outputs": [
    {
     "name": "stdout",
     "output_type": "stream",
     "text": [
      "the name of the emp is  xyz\n",
      "the emp_sal of the emp is  34334\n",
      "the emp_age of the emp is  54\n",
      "the emp_location of the emp is  Pune\n"
     ]
    }
   ],
   "source": [
    "\n",
    "\n",
    "def emp_info(emp_name , emp_sal , emp_age , emp_location = 'Goa'):\n",
    "    print('the name of the emp is ' , emp_name)\n",
    "    print('the emp_sal of the emp is ' , emp_sal)\n",
    "    print('the emp_age of the emp is ' , emp_age)\n",
    "    print('the emp_location of the emp is ' , emp_location)\n",
    "    \n",
    "    \n",
    "emp_info(emp_name = 'xyz' , emp_sal = 34334 , emp_age = 54 , emp_location = 'Pune')"
   ]
  },
  {
   "cell_type": "code",
   "execution_count": 103,
   "id": "c2be2553",
   "metadata": {},
   "outputs": [
    {
     "name": "stdout",
     "output_type": "stream",
     "text": [
      "the name of the emp is  xyz\n",
      "the emp_sal of the emp is  34334\n",
      "the emp_age of the emp is  54\n",
      "the emp_location of the emp is  Pune\n"
     ]
    }
   ],
   "source": [
    "\n",
    "\n",
    "def emp_info(emp_name , emp_sal , emp_age , emp_location = 'Goa'):\n",
    "    print('the name of the emp is ' , emp_name)\n",
    "    print('the emp_sal of the emp is ' , emp_sal)\n",
    "    print('the emp_age of the emp is ' , emp_age)\n",
    "    print('the emp_location of the emp is ' , emp_location)\n",
    "    \n",
    "    \n",
    "emp_info(emp_sal = 34334 , emp_name = 'xyz'  , emp_age = 54 , emp_location = 'Pune')"
   ]
  },
  {
   "cell_type": "code",
   "execution_count": 105,
   "id": "61e59220",
   "metadata": {},
   "outputs": [
    {
     "name": "stdout",
     "output_type": "stream",
     "text": [
      "the name of the emp is  xyz\n",
      "the emp_sal of the emp is  9216256\n",
      "the emp_age of the emp is  54\n",
      "the emp_location of the emp is  Pune\n"
     ]
    }
   ],
   "source": [
    "\n",
    "\n",
    "def emp_info(emp_name , emp_sal , emp_age , emp_location = 'Goa'):\n",
    "    print('the name of the emp is ' , emp_name)\n",
    "    print('the emp_sal of the emp is ' , emp_sal)\n",
    "    print('the emp_age of the emp is ' , emp_age)\n",
    "    print('the emp_location of the emp is ' , emp_location)\n",
    "    \n",
    "    \n",
    "emp_info('xyz'  ,9216256, emp_age = 54 , emp_location = 'Pune')"
   ]
  },
  {
   "cell_type": "code",
   "execution_count": 115,
   "id": "48081fa2",
   "metadata": {},
   "outputs": [
    {
     "ename": "TypeError",
     "evalue": "emp_info() missing 1 required positional argument: 'emp_age'",
     "output_type": "error",
     "traceback": [
      "\u001b[1;31m---------------------------------------------------------------------------\u001b[0m",
      "\u001b[1;31mTypeError\u001b[0m                                 Traceback (most recent call last)",
      "Input \u001b[1;32mIn [115]\u001b[0m, in \u001b[0;36m<cell line: 9>\u001b[1;34m()\u001b[0m\n\u001b[0;32m      5\u001b[0m     \u001b[38;5;28mprint\u001b[39m(\u001b[38;5;124m'\u001b[39m\u001b[38;5;124mthe emp_location of the emp is \u001b[39m\u001b[38;5;124m'\u001b[39m , emp_location)\n\u001b[0;32m      6\u001b[0m     \u001b[38;5;28mprint\u001b[39m(\u001b[38;5;124m'\u001b[39m\u001b[38;5;124mthe emp_pin of the emp is \u001b[39m\u001b[38;5;124m'\u001b[39m , emp_pin)\n\u001b[1;32m----> 9\u001b[0m \u001b[43memp_info\u001b[49m\u001b[43m(\u001b[49m\u001b[43m \u001b[49m\u001b[38;5;124;43m'\u001b[39;49m\u001b[38;5;124;43mxya\u001b[39;49m\u001b[38;5;124;43m'\u001b[39;49m\u001b[43m  \u001b[49m\u001b[43m,\u001b[49m\u001b[43m \u001b[49m\u001b[38;5;241;43m30\u001b[39;49m\u001b[43m \u001b[49m\u001b[43m,\u001b[49m\u001b[43memp_location\u001b[49m\u001b[43m \u001b[49m\u001b[38;5;241;43m=\u001b[39;49m\u001b[43m \u001b[49m\u001b[38;5;124;43m'\u001b[39;49m\u001b[38;5;124;43mpune\u001b[39;49m\u001b[38;5;124;43m'\u001b[39;49m\u001b[43m,\u001b[49m\u001b[43memp_pin\u001b[49m\u001b[43m  \u001b[49m\u001b[38;5;241;43m=\u001b[39;49m\u001b[43m \u001b[49m\u001b[38;5;241;43m565656\u001b[39;49m\u001b[43m \u001b[49m\u001b[43m)\u001b[49m\n",
      "\u001b[1;31mTypeError\u001b[0m: emp_info() missing 1 required positional argument: 'emp_age'"
     ]
    }
   ],
   "source": [
    "\n",
    "\n",
    "def emp_info( emp_name , emp_sal , emp_age , emp_location = 'Goa' , emp_pin = 656565656):\n",
    "    print('the name of the emp is ' , emp_name)\n",
    "    print('the emp_sal of the emp is ' , emp_sal)\n",
    "    print('the emp_age of the emp is ' , emp_age)\n",
    "    print('the emp_location of the emp is ' , emp_location)\n",
    "    print('the emp_pin of the emp is ' , emp_pin)\n",
    "    \n",
    "    \n",
    "emp_info( 'xya'  , 30 ,emp_location = 'pune',emp_pin  = 565656 )"
   ]
  },
  {
   "cell_type": "code",
   "execution_count": null,
   "id": "5b1c33c1",
   "metadata": {},
   "outputs": [],
   "source": [
    "# write a function that prints\n",
    "\n",
    "\n",
    "lst = [1,2,3,34,4,54,5,5,6,7,78,8]\n",
    "\n",
    "\n",
    "def \n",
    "\n",
    "\n",
    "call \n",
    "even numbers list print\n",
    "odd numbers list print"
   ]
  },
  {
   "cell_type": "code",
   "execution_count": 119,
   "id": "781d03a2",
   "metadata": {},
   "outputs": [
    {
     "name": "stdout",
     "output_type": "stream",
     "text": [
      "[2, 34, 4, 4, 54, 6, 78, 8]\n",
      "[1, 3, 5, 5, 7]\n"
     ]
    }
   ],
   "source": [
    "lst = [ 1,2,3,34,4,4,54,5,5,6,7,78,8]\n",
    "even_lst = [] \n",
    "odd_lst = []\n",
    "\n",
    "def even_odd(a):\n",
    "    for I in a:\n",
    "        if I%2 == 0:\n",
    "            even_lst.append(I)\n",
    "        else:\n",
    "            odd_lst.append(I)\n",
    "    print(even_lst)\n",
    "    print(odd_lst)\n",
    "    \n",
    "even_odd(lst)"
   ]
  },
  {
   "cell_type": "code",
   "execution_count": 120,
   "id": "e9948a49",
   "metadata": {},
   "outputs": [
    {
     "name": "stdout",
     "output_type": "stream",
     "text": [
      "[2, 34, 4, 4, 54, 6, 78, 8]\n",
      "[1, 3, 5, 5, 7]\n"
     ]
    }
   ],
   "source": [
    "def even_odd_check(list_1):\n",
    "    even_list = []\n",
    "    odd_list = []\n",
    "    for i in list_1:\n",
    "        if i % 2 == 0:\n",
    "            even_list.append(i)\n",
    "        else:\n",
    "            odd_list.append(i)\n",
    "    print(even_list)\n",
    "    print(odd_list)\n",
    "even_odd_check(lst)"
   ]
  },
  {
   "cell_type": "code",
   "execution_count": 121,
   "id": "c182a94f",
   "metadata": {},
   "outputs": [
    {
     "name": "stdout",
     "output_type": "stream",
     "text": [
      "even list is [2, 4, 6, 8, 10, 12, 14, 16, 18]\n",
      "odd list is [1, 3, 5, 7, 9, 11, 13, 15, 17, 19]\n"
     ]
    }
   ],
   "source": [
    "def even_odd(list1):\n",
    "    print(f\"even list is {list([i for i in list1 if i % 2 == 0])}\")\n",
    "    print(f\"odd list is {list([i for i in list1 if i % 2 != 0])}\")\n",
    "    \n",
    "\n",
    "list1 = list(range(1,20))\n",
    "even_odd(list1)\n"
   ]
  },
  {
   "cell_type": "markdown",
   "id": "de1e5d73",
   "metadata": {},
   "source": [
    "# sum"
   ]
  },
  {
   "cell_type": "code",
   "execution_count": 126,
   "id": "da07753a",
   "metadata": {},
   "outputs": [],
   "source": [
    "def add(a, b):\n",
    "    print(a +b)"
   ]
  },
  {
   "cell_type": "code",
   "execution_count": 127,
   "id": "a02d4ca7",
   "metadata": {},
   "outputs": [
    {
     "name": "stdout",
     "output_type": "stream",
     "text": [
      "170\n"
     ]
    }
   ],
   "source": [
    "add(90 , 80 , 7 , 3 ,3 ,4 ,5 ,6 ,6 ,6,6 ,9)"
   ]
  },
  {
   "cell_type": "code",
   "execution_count": null,
   "id": "b5868694",
   "metadata": {},
   "outputs": [],
   "source": []
  },
  {
   "cell_type": "markdown",
   "id": "29f34050",
   "metadata": {},
   "source": [
    "# * args and **kwargs"
   ]
  }
 ],
 "metadata": {
  "kernelspec": {
   "display_name": "Python 3 (ipykernel)",
   "language": "python",
   "name": "python3"
  },
  "language_info": {
   "codemirror_mode": {
    "name": "ipython",
    "version": 3
   },
   "file_extension": ".py",
   "mimetype": "text/x-python",
   "name": "python",
   "nbconvert_exporter": "python",
   "pygments_lexer": "ipython3",
   "version": "3.9.12"
  }
 },
 "nbformat": 4,
 "nbformat_minor": 5
}
