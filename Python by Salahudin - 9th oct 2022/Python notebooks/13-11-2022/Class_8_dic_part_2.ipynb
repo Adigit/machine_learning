{
 "cells": [
  {
   "cell_type": "markdown",
   "id": "646b1c2f",
   "metadata": {},
   "source": [
    "# Properties of dic\n",
    "\n",
    "- It is a collection of key value pair\n",
    "- a key, value is called as item\n",
    "- Items are seperated by ,\n",
    "- Key and value are seperated by :\n",
    "- key cannot be duplicated whereas value can be duplicated\n",
    "- key cannot be a mutable data type\n",
    "- value can be a mutable as well as immutable\n",
    "\n",
    "2. It is not a seq data type, Hence\n",
    "* Indexing , slicing , concatination , repetition are not possible\n",
    "- Membership op will work only for the keys \n",
    "- Identity operators is possible\n",
    "\n",
    "\n",
    "### Note: Dict is an mutable data type"
   ]
  },
  {
   "cell_type": "code",
   "execution_count": 22,
   "id": "14b670ee",
   "metadata": {},
   "outputs": [
    {
     "data": {
      "text/plain": [
       "{'emp_1': {'Age': 26, 'Salary': 901000, 'Name': 'Salahuddin'},\n",
       " 'emp_2': {'Age': 27, 'Salary': 1000000, 'Name': 'Abhijeet'},\n",
       " 'emp_3': {'Age': 28, 'Salary': 1000002, 'Name': 'Abhishail'},\n",
       " 'emp_4': {'Age': 29, 'Salary': 1100000, 'Name': 'Abhishek'}}"
      ]
     },
     "execution_count": 22,
     "metadata": {},
     "output_type": "execute_result"
    }
   ],
   "source": [
    "emp_data = {'emp_1':{'Age': 26 , 'Salary': 901000 , 'Name': 'Salahuddin'},\n",
    "           'emp_2':{'Age': 27 , 'Salary': 1000000 , 'Name': 'Abhijeet'},\n",
    "           'emp_3':{'Age': 28 , 'Salary': 1000002 , 'Name': 'Abhishail'},\n",
    "           'emp_4':{'Age': 29 , 'Salary': 1100000 , 'Name': 'Abhishek'}}\n",
    "\n",
    "\n",
    "emp_data"
   ]
  },
  {
   "cell_type": "code",
   "execution_count": 18,
   "id": "be59e7d2",
   "metadata": {},
   "outputs": [
    {
     "name": "stdout",
     "output_type": "stream",
     "text": [
      "Salahuddin\n",
      "Abhijeet\n",
      "Abhishail\n",
      "Abhishek\n"
     ]
    }
   ],
   "source": [
    "# the names of the emp whose age is >= 27\n",
    "\n",
    "for i in emp_data:\n",
    "    print(emp_data[i]['Name'])"
   ]
  },
  {
   "cell_type": "code",
   "execution_count": 21,
   "id": "ce13c322",
   "metadata": {},
   "outputs": [
    {
     "name": "stdout",
     "output_type": "stream",
     "text": [
      "Abhijeet\n",
      "Abhishail\n",
      "Abhishek\n"
     ]
    }
   ],
   "source": [
    "for i in emp_data:\n",
    "    if emp_data[i]['Age'] >= 27:\n",
    "        print(emp_data[i]['Name'])"
   ]
  },
  {
   "cell_type": "code",
   "execution_count": 24,
   "id": "c226bb17",
   "metadata": {},
   "outputs": [
    {
     "data": {
      "text/plain": [
       "{'emp_1': {'Age': 26, 'Salary': 901000, 'Name': 'Salahuddin'},\n",
       " 'emp_2': {'Age': 27, 'Salary': 1000000, 'Name': 'Abhijeet'},\n",
       " 'emp_3': {'Age': 29, 'Salary': 1100000, 'Name': 'Abhishek'},\n",
       " 'emp_4': {'Age': 29, 'Salary': 1100000, 'Name': 'Abhishek'}}"
      ]
     },
     "execution_count": 24,
     "metadata": {},
     "output_type": "execute_result"
    }
   ],
   "source": [
    "# key cannot be duplicated whereas value can be duplicated\n",
    "# \n",
    "\n",
    "emp_data = {'emp_1':{'Age': 26 , 'Salary': 901000 , 'Name': 'Salahuddin'},\n",
    "           'emp_2':{'Age': 27 , 'Salary': 1000000 , 'Name': 'Abhijeet'},\n",
    "           'emp_3':{'Age': 29 , 'Salary': 1100000 , 'Name': 'Abhishek'},\n",
    "           'emp_4':{'Age': 29 , 'Salary': 1100000 , 'Name': 'Abhishek'}}\n",
    "\n",
    "\n",
    "emp_data"
   ]
  },
  {
   "cell_type": "code",
   "execution_count": 26,
   "id": "0d97bea3",
   "metadata": {},
   "outputs": [
    {
     "data": {
      "text/plain": [
       "{'emp_1': {'Age': 26, 'Salary': 901000, 'Name': 'Salahuddin'},\n",
       " 'emp_2': {'Age': 27, 'Salary': 1000000, 'Name': 'Abhijeet'},\n",
       " 'emp_3': {'Age': 29, 'Salary': 1100000, 'Name': 'Abhishek'}}"
      ]
     },
     "execution_count": 26,
     "metadata": {},
     "output_type": "execute_result"
    }
   ],
   "source": [
    "# key cannot be duplicated whereas value can be duplicated\n",
    "# \n",
    "\n",
    "emp_data = {'emp_1':{'Age': 26 , 'Salary': 901000 , 'Name': 'Salahuddin'},\n",
    "           'emp_2':{'Age': 27 , 'Salary': 1000000 , 'Name': 'Abhijeet'},\n",
    "           'emp_3':{'Age': 29},\n",
    "           'emp_3':{'Age': 29 , 'Salary': 1100000 , 'Name': 'Abhishek'}}\n",
    "\n",
    "\n",
    "emp_data"
   ]
  },
  {
   "cell_type": "code",
   "execution_count": 27,
   "id": "f231e599",
   "metadata": {},
   "outputs": [
    {
     "ename": "TypeError",
     "evalue": "unhashable type: 'list'",
     "output_type": "error",
     "traceback": [
      "\u001b[1;31m---------------------------------------------------------------------------\u001b[0m",
      "\u001b[1;31mTypeError\u001b[0m                                 Traceback (most recent call last)",
      "Input \u001b[1;32mIn [27]\u001b[0m, in \u001b[0;36m<cell line: 3>\u001b[1;34m()\u001b[0m\n\u001b[0;32m      1\u001b[0m \u001b[38;5;66;03m# key cannot be a mutable data type\u001b[39;00m\n\u001b[1;32m----> 3\u001b[0m emp_data \u001b[38;5;241m=\u001b[39m {[\u001b[38;5;241m1\u001b[39m,\u001b[38;5;241m2\u001b[39m]:{\u001b[38;5;124m'\u001b[39m\u001b[38;5;124mAge\u001b[39m\u001b[38;5;124m'\u001b[39m: \u001b[38;5;241m26\u001b[39m , \u001b[38;5;124m'\u001b[39m\u001b[38;5;124mSalary\u001b[39m\u001b[38;5;124m'\u001b[39m: \u001b[38;5;241m901000\u001b[39m , \u001b[38;5;124m'\u001b[39m\u001b[38;5;124mName\u001b[39m\u001b[38;5;124m'\u001b[39m: \u001b[38;5;124m'\u001b[39m\u001b[38;5;124mSalahuddin\u001b[39m\u001b[38;5;124m'\u001b[39m},\n\u001b[0;32m      4\u001b[0m            \u001b[38;5;124m'\u001b[39m\u001b[38;5;124memp_2\u001b[39m\u001b[38;5;124m'\u001b[39m:{\u001b[38;5;124m'\u001b[39m\u001b[38;5;124mAge\u001b[39m\u001b[38;5;124m'\u001b[39m: \u001b[38;5;241m27\u001b[39m , \u001b[38;5;124m'\u001b[39m\u001b[38;5;124mSalary\u001b[39m\u001b[38;5;124m'\u001b[39m: \u001b[38;5;241m1000000\u001b[39m , \u001b[38;5;124m'\u001b[39m\u001b[38;5;124mName\u001b[39m\u001b[38;5;124m'\u001b[39m: \u001b[38;5;124m'\u001b[39m\u001b[38;5;124mAbhijeet\u001b[39m\u001b[38;5;124m'\u001b[39m},\n\u001b[0;32m      5\u001b[0m            \u001b[38;5;124m'\u001b[39m\u001b[38;5;124memp_3\u001b[39m\u001b[38;5;124m'\u001b[39m:{\u001b[38;5;124m'\u001b[39m\u001b[38;5;124mAge\u001b[39m\u001b[38;5;124m'\u001b[39m: \u001b[38;5;241m28\u001b[39m , \u001b[38;5;124m'\u001b[39m\u001b[38;5;124mSalary\u001b[39m\u001b[38;5;124m'\u001b[39m: \u001b[38;5;241m1000002\u001b[39m , \u001b[38;5;124m'\u001b[39m\u001b[38;5;124mName\u001b[39m\u001b[38;5;124m'\u001b[39m: \u001b[38;5;124m'\u001b[39m\u001b[38;5;124mAbhishail\u001b[39m\u001b[38;5;124m'\u001b[39m},\n\u001b[0;32m      6\u001b[0m            \u001b[38;5;124m'\u001b[39m\u001b[38;5;124memp_4\u001b[39m\u001b[38;5;124m'\u001b[39m:{\u001b[38;5;124m'\u001b[39m\u001b[38;5;124mAge\u001b[39m\u001b[38;5;124m'\u001b[39m: \u001b[38;5;241m29\u001b[39m , \u001b[38;5;124m'\u001b[39m\u001b[38;5;124mSalary\u001b[39m\u001b[38;5;124m'\u001b[39m: \u001b[38;5;241m1100000\u001b[39m , \u001b[38;5;124m'\u001b[39m\u001b[38;5;124mName\u001b[39m\u001b[38;5;124m'\u001b[39m: \u001b[38;5;124m'\u001b[39m\u001b[38;5;124mAbhishek\u001b[39m\u001b[38;5;124m'\u001b[39m}}\n\u001b[0;32m      9\u001b[0m emp_data\n",
      "\u001b[1;31mTypeError\u001b[0m: unhashable type: 'list'"
     ]
    }
   ],
   "source": [
    "# key cannot be a mutable data type\n",
    "\n",
    "emp_data = {[1,2]:{'Age': 26 , 'Salary': 901000 , 'Name': 'Salahuddin'},\n",
    "           'emp_2':{'Age': 27 , 'Salary': 1000000 , 'Name': 'Abhijeet'},\n",
    "           'emp_3':{'Age': 28 , 'Salary': 1000002 , 'Name': 'Abhishail'},\n",
    "           'emp_4':{'Age': 29 , 'Salary': 1100000 , 'Name': 'Abhishek'}}\n",
    "\n",
    "\n",
    "emp_data"
   ]
  },
  {
   "cell_type": "code",
   "execution_count": 28,
   "id": "a53588d4",
   "metadata": {},
   "outputs": [
    {
     "ename": "TypeError",
     "evalue": "unhashable type: 'dict'",
     "output_type": "error",
     "traceback": [
      "\u001b[1;31m---------------------------------------------------------------------------\u001b[0m",
      "\u001b[1;31mTypeError\u001b[0m                                 Traceback (most recent call last)",
      "Input \u001b[1;32mIn [28]\u001b[0m, in \u001b[0;36m<cell line: 3>\u001b[1;34m()\u001b[0m\n\u001b[0;32m      1\u001b[0m \u001b[38;5;66;03m# key cannot be a mutable data type\u001b[39;00m\n\u001b[1;32m----> 3\u001b[0m emp_data \u001b[38;5;241m=\u001b[39m {{\u001b[38;5;124m'\u001b[39m\u001b[38;5;124ma\u001b[39m\u001b[38;5;124m'\u001b[39m:\u001b[38;5;241m1\u001b[39m}:{\u001b[38;5;124m'\u001b[39m\u001b[38;5;124mAge\u001b[39m\u001b[38;5;124m'\u001b[39m: \u001b[38;5;241m26\u001b[39m , \u001b[38;5;124m'\u001b[39m\u001b[38;5;124mSalary\u001b[39m\u001b[38;5;124m'\u001b[39m: \u001b[38;5;241m901000\u001b[39m , \u001b[38;5;124m'\u001b[39m\u001b[38;5;124mName\u001b[39m\u001b[38;5;124m'\u001b[39m: \u001b[38;5;124m'\u001b[39m\u001b[38;5;124mSalahuddin\u001b[39m\u001b[38;5;124m'\u001b[39m},\n\u001b[0;32m      4\u001b[0m            \u001b[38;5;124m'\u001b[39m\u001b[38;5;124memp_2\u001b[39m\u001b[38;5;124m'\u001b[39m:{\u001b[38;5;124m'\u001b[39m\u001b[38;5;124mAge\u001b[39m\u001b[38;5;124m'\u001b[39m: \u001b[38;5;241m27\u001b[39m , \u001b[38;5;124m'\u001b[39m\u001b[38;5;124mSalary\u001b[39m\u001b[38;5;124m'\u001b[39m: \u001b[38;5;241m1000000\u001b[39m , \u001b[38;5;124m'\u001b[39m\u001b[38;5;124mName\u001b[39m\u001b[38;5;124m'\u001b[39m: \u001b[38;5;124m'\u001b[39m\u001b[38;5;124mAbhijeet\u001b[39m\u001b[38;5;124m'\u001b[39m},\n\u001b[0;32m      5\u001b[0m            \u001b[38;5;124m'\u001b[39m\u001b[38;5;124memp_3\u001b[39m\u001b[38;5;124m'\u001b[39m:{\u001b[38;5;124m'\u001b[39m\u001b[38;5;124mAge\u001b[39m\u001b[38;5;124m'\u001b[39m: \u001b[38;5;241m28\u001b[39m , \u001b[38;5;124m'\u001b[39m\u001b[38;5;124mSalary\u001b[39m\u001b[38;5;124m'\u001b[39m: \u001b[38;5;241m1000002\u001b[39m , \u001b[38;5;124m'\u001b[39m\u001b[38;5;124mName\u001b[39m\u001b[38;5;124m'\u001b[39m: \u001b[38;5;124m'\u001b[39m\u001b[38;5;124mAbhishail\u001b[39m\u001b[38;5;124m'\u001b[39m},\n\u001b[0;32m      6\u001b[0m            \u001b[38;5;124m'\u001b[39m\u001b[38;5;124memp_4\u001b[39m\u001b[38;5;124m'\u001b[39m:{\u001b[38;5;124m'\u001b[39m\u001b[38;5;124mAge\u001b[39m\u001b[38;5;124m'\u001b[39m: \u001b[38;5;241m29\u001b[39m , \u001b[38;5;124m'\u001b[39m\u001b[38;5;124mSalary\u001b[39m\u001b[38;5;124m'\u001b[39m: \u001b[38;5;241m1100000\u001b[39m , \u001b[38;5;124m'\u001b[39m\u001b[38;5;124mName\u001b[39m\u001b[38;5;124m'\u001b[39m: \u001b[38;5;124m'\u001b[39m\u001b[38;5;124mAbhishek\u001b[39m\u001b[38;5;124m'\u001b[39m}}\n\u001b[0;32m      9\u001b[0m emp_data\n",
      "\u001b[1;31mTypeError\u001b[0m: unhashable type: 'dict'"
     ]
    }
   ],
   "source": [
    "# key cannot be a mutable data type\n",
    "\n",
    "emp_data = {{'a':1}:{'Age': 26 , 'Salary': 901000 , 'Name': 'Salahuddin'},\n",
    "           'emp_2':{'Age': 27 , 'Salary': 1000000 , 'Name': 'Abhijeet'},\n",
    "           'emp_3':{'Age': 28 , 'Salary': 1000002 , 'Name': 'Abhishail'},\n",
    "           'emp_4':{'Age': 29 , 'Salary': 1100000 , 'Name': 'Abhishek'}}\n",
    "\n",
    "\n",
    "emp_data"
   ]
  },
  {
   "cell_type": "code",
   "execution_count": 29,
   "id": "b3c2d562",
   "metadata": {},
   "outputs": [
    {
     "data": {
      "text/plain": [
       "{123: {'Age': 26, 'Salary': 901000, 'Name': 'Salahuddin'},\n",
       " 'emp_2': {'Age': 27, 'Salary': 1000000, 'Name': 'Abhijeet'},\n",
       " 'emp_3': {'Age': 28, 'Salary': 1000002, 'Name': 'Abhishail'},\n",
       " 'emp_4': {'Age': 29, 'Salary': 1100000, 'Name': 'Abhishek'}}"
      ]
     },
     "execution_count": 29,
     "metadata": {},
     "output_type": "execute_result"
    }
   ],
   "source": [
    "emp_data = {123:{'Age': 26 , 'Salary': 901000 , 'Name': 'Salahuddin'},\n",
    "           'emp_2':{'Age': 27 , 'Salary': 1000000 , 'Name': 'Abhijeet'},\n",
    "           'emp_3':{'Age': 28 , 'Salary': 1000002 , 'Name': 'Abhishail'},\n",
    "           'emp_4':{'Age': 29 , 'Salary': 1100000 , 'Name': 'Abhishek'}}\n",
    "\n",
    "\n",
    "emp_data"
   ]
  },
  {
   "cell_type": "code",
   "execution_count": 30,
   "id": "5ce1c133",
   "metadata": {},
   "outputs": [
    {
     "ename": "KeyError",
     "evalue": "0",
     "output_type": "error",
     "traceback": [
      "\u001b[1;31m---------------------------------------------------------------------------\u001b[0m",
      "\u001b[1;31mKeyError\u001b[0m                                  Traceback (most recent call last)",
      "Input \u001b[1;32mIn [30]\u001b[0m, in \u001b[0;36m<cell line: 9>\u001b[1;34m()\u001b[0m\n\u001b[0;32m      1\u001b[0m \u001b[38;5;66;03m# Indexing\u001b[39;00m\n\u001b[0;32m      3\u001b[0m emp_data \u001b[38;5;241m=\u001b[39m {\u001b[38;5;124m'\u001b[39m\u001b[38;5;124memp_1\u001b[39m\u001b[38;5;124m'\u001b[39m:{\u001b[38;5;124m'\u001b[39m\u001b[38;5;124mAge\u001b[39m\u001b[38;5;124m'\u001b[39m: \u001b[38;5;241m26\u001b[39m , \u001b[38;5;124m'\u001b[39m\u001b[38;5;124mSalary\u001b[39m\u001b[38;5;124m'\u001b[39m: \u001b[38;5;241m901000\u001b[39m , \u001b[38;5;124m'\u001b[39m\u001b[38;5;124mName\u001b[39m\u001b[38;5;124m'\u001b[39m: \u001b[38;5;124m'\u001b[39m\u001b[38;5;124mSalahuddin\u001b[39m\u001b[38;5;124m'\u001b[39m},\n\u001b[0;32m      4\u001b[0m            \u001b[38;5;124m'\u001b[39m\u001b[38;5;124memp_2\u001b[39m\u001b[38;5;124m'\u001b[39m:{\u001b[38;5;124m'\u001b[39m\u001b[38;5;124mAge\u001b[39m\u001b[38;5;124m'\u001b[39m: \u001b[38;5;241m27\u001b[39m , \u001b[38;5;124m'\u001b[39m\u001b[38;5;124mSalary\u001b[39m\u001b[38;5;124m'\u001b[39m: \u001b[38;5;241m1000000\u001b[39m , \u001b[38;5;124m'\u001b[39m\u001b[38;5;124mName\u001b[39m\u001b[38;5;124m'\u001b[39m: \u001b[38;5;124m'\u001b[39m\u001b[38;5;124mAbhijeet\u001b[39m\u001b[38;5;124m'\u001b[39m},\n\u001b[0;32m      5\u001b[0m            \u001b[38;5;124m'\u001b[39m\u001b[38;5;124memp_3\u001b[39m\u001b[38;5;124m'\u001b[39m:{\u001b[38;5;124m'\u001b[39m\u001b[38;5;124mAge\u001b[39m\u001b[38;5;124m'\u001b[39m: \u001b[38;5;241m29\u001b[39m , \u001b[38;5;124m'\u001b[39m\u001b[38;5;124mSalary\u001b[39m\u001b[38;5;124m'\u001b[39m: \u001b[38;5;241m1100000\u001b[39m , \u001b[38;5;124m'\u001b[39m\u001b[38;5;124mName\u001b[39m\u001b[38;5;124m'\u001b[39m: \u001b[38;5;124m'\u001b[39m\u001b[38;5;124mAbhishek\u001b[39m\u001b[38;5;124m'\u001b[39m},\n\u001b[0;32m      6\u001b[0m            \u001b[38;5;124m'\u001b[39m\u001b[38;5;124memp_4\u001b[39m\u001b[38;5;124m'\u001b[39m:{\u001b[38;5;124m'\u001b[39m\u001b[38;5;124mAge\u001b[39m\u001b[38;5;124m'\u001b[39m: \u001b[38;5;241m29\u001b[39m , \u001b[38;5;124m'\u001b[39m\u001b[38;5;124mSalary\u001b[39m\u001b[38;5;124m'\u001b[39m: \u001b[38;5;241m1100000\u001b[39m , \u001b[38;5;124m'\u001b[39m\u001b[38;5;124mName\u001b[39m\u001b[38;5;124m'\u001b[39m: \u001b[38;5;124m'\u001b[39m\u001b[38;5;124mAbhishek\u001b[39m\u001b[38;5;124m'\u001b[39m}}\n\u001b[1;32m----> 9\u001b[0m \u001b[43memp_data\u001b[49m\u001b[43m[\u001b[49m\u001b[38;5;241;43m0\u001b[39;49m\u001b[43m]\u001b[49m\n",
      "\u001b[1;31mKeyError\u001b[0m: 0"
     ]
    }
   ],
   "source": [
    "# Indexing\n",
    "\n",
    "emp_data = {'emp_1':{'Age': 26 , 'Salary': 901000 , 'Name': 'Salahuddin'},\n",
    "           'emp_2':{'Age': 27 , 'Salary': 1000000 , 'Name': 'Abhijeet'},\n",
    "           'emp_3':{'Age': 29 , 'Salary': 1100000 , 'Name': 'Abhishek'},\n",
    "           'emp_4':{'Age': 29 , 'Salary': 1100000 , 'Name': 'Abhishek'}}\n",
    "\n",
    "\n",
    "emp_data[0]"
   ]
  },
  {
   "cell_type": "code",
   "execution_count": 31,
   "id": "048d2b2e",
   "metadata": {},
   "outputs": [
    {
     "data": {
      "text/plain": [
       "{'Age': 26, 'Salary': 901000, 'Name': 'Salahuddin'}"
      ]
     },
     "execution_count": 31,
     "metadata": {},
     "output_type": "execute_result"
    }
   ],
   "source": [
    "# Indexing\n",
    "\n",
    "emp_data = {'emp_1':{'Age': 26 , 'Salary': 901000 , 'Name': 'Salahuddin'},\n",
    "           'emp_2':{'Age': 27 , 'Salary': 1000000 , 'Name': 'Abhijeet'},\n",
    "           'emp_3':{'Age': 29 , 'Salary': 1100000 , 'Name': 'Abhishek'},\n",
    "           'emp_4':{'Age': 29 , 'Salary': 1100000 , 'Name': 'Abhishek'}}\n",
    "\n",
    "\n",
    "emp_data['emp_1']"
   ]
  },
  {
   "cell_type": "code",
   "execution_count": 32,
   "id": "c62b11b7",
   "metadata": {},
   "outputs": [
    {
     "ename": "TypeError",
     "evalue": "unsupported operand type(s) for +: 'dict' and 'dict'",
     "output_type": "error",
     "traceback": [
      "\u001b[1;31m---------------------------------------------------------------------------\u001b[0m",
      "\u001b[1;31mTypeError\u001b[0m                                 Traceback (most recent call last)",
      "Input \u001b[1;32mIn [32]\u001b[0m, in \u001b[0;36m<cell line: 6>\u001b[1;34m()\u001b[0m\n\u001b[0;32m      3\u001b[0m a \u001b[38;5;241m=\u001b[39m {\u001b[38;5;124m'\u001b[39m\u001b[38;5;124ma\u001b[39m\u001b[38;5;124m'\u001b[39m:\u001b[38;5;241m1\u001b[39m , \u001b[38;5;124m'\u001b[39m\u001b[38;5;124mb\u001b[39m\u001b[38;5;124m'\u001b[39m: \u001b[38;5;241m2\u001b[39m}\n\u001b[0;32m      4\u001b[0m b \u001b[38;5;241m=\u001b[39m {\u001b[38;5;124m'\u001b[39m\u001b[38;5;124mc\u001b[39m\u001b[38;5;124m'\u001b[39m:\u001b[38;5;241m2\u001b[39m, \u001b[38;5;124m'\u001b[39m\u001b[38;5;124md\u001b[39m\u001b[38;5;124m'\u001b[39m:\u001b[38;5;241m5\u001b[39m}\n\u001b[1;32m----> 6\u001b[0m \u001b[38;5;28mprint\u001b[39m(\u001b[43ma\u001b[49m\u001b[38;5;241;43m+\u001b[39;49m\u001b[43mb\u001b[49m)\n",
      "\u001b[1;31mTypeError\u001b[0m: unsupported operand type(s) for +: 'dict' and 'dict'"
     ]
    }
   ],
   "source": [
    "# concatination\n",
    "\n",
    "a = {'a':1 , 'b': 2}\n",
    "b = {'c':2, 'd':5}\n",
    "\n",
    "print(a+b)"
   ]
  },
  {
   "cell_type": "code",
   "execution_count": 33,
   "id": "af83c7f5",
   "metadata": {},
   "outputs": [
    {
     "ename": "TypeError",
     "evalue": "unsupported operand type(s) for *: 'dict' and 'int'",
     "output_type": "error",
     "traceback": [
      "\u001b[1;31m---------------------------------------------------------------------------\u001b[0m",
      "\u001b[1;31mTypeError\u001b[0m                                 Traceback (most recent call last)",
      "Input \u001b[1;32mIn [33]\u001b[0m, in \u001b[0;36m<cell line: 6>\u001b[1;34m()\u001b[0m\n\u001b[0;32m      3\u001b[0m a \u001b[38;5;241m=\u001b[39m {\u001b[38;5;124m'\u001b[39m\u001b[38;5;124ma\u001b[39m\u001b[38;5;124m'\u001b[39m:\u001b[38;5;241m1\u001b[39m , \u001b[38;5;124m'\u001b[39m\u001b[38;5;124mb\u001b[39m\u001b[38;5;124m'\u001b[39m: \u001b[38;5;241m2\u001b[39m}\n\u001b[0;32m      4\u001b[0m b \u001b[38;5;241m=\u001b[39m \u001b[38;5;241m2\u001b[39m\n\u001b[1;32m----> 6\u001b[0m \u001b[38;5;28mprint\u001b[39m(\u001b[43ma\u001b[49m\u001b[38;5;241;43m*\u001b[39;49m\u001b[43mb\u001b[49m)\n",
      "\u001b[1;31mTypeError\u001b[0m: unsupported operand type(s) for *: 'dict' and 'int'"
     ]
    }
   ],
   "source": [
    "# repetation\n",
    "\n",
    "a = {'a':1 , 'b': 2}\n",
    "b = 2\n",
    "\n",
    "print(a*b)"
   ]
  },
  {
   "cell_type": "code",
   "execution_count": 34,
   "id": "55558e7c",
   "metadata": {},
   "outputs": [
    {
     "name": "stdout",
     "output_type": "stream",
     "text": [
      "True\n"
     ]
    }
   ],
   "source": [
    "# membership\n",
    "# in and not in\n",
    "\n",
    "a = {'a':1 , 'b': 2}\n",
    "\n",
    "\n",
    "print('a' in a)"
   ]
  },
  {
   "cell_type": "code",
   "execution_count": 35,
   "id": "239645b4",
   "metadata": {},
   "outputs": [
    {
     "name": "stdout",
     "output_type": "stream",
     "text": [
      "False\n"
     ]
    }
   ],
   "source": [
    "\n",
    "a = {'a':1 , 'b': 2}\n",
    "\n",
    "\n",
    "print(2 in a)"
   ]
  },
  {
   "cell_type": "code",
   "execution_count": 37,
   "id": "cffcb5f9",
   "metadata": {},
   "outputs": [
    {
     "name": "stdout",
     "output_type": "stream",
     "text": [
      "2614040044544\n",
      "2614035516480\n",
      "False\n"
     ]
    }
   ],
   "source": [
    "# identity\n",
    "# in and not in\n",
    "\n",
    "a = {'a':1 , 'b': 2}\n",
    "b = {'a':1 , 'b': 2}\n",
    "\n",
    "\n",
    "print(id(a))\n",
    "print(id(b))\n",
    "\n",
    "print(a is b)"
   ]
  },
  {
   "cell_type": "code",
   "execution_count": 39,
   "id": "0ddb90fd",
   "metadata": {},
   "outputs": [
    {
     "name": "stdout",
     "output_type": "stream",
     "text": [
      "2613920491856\n",
      "2613920491856\n",
      "True\n"
     ]
    }
   ],
   "source": [
    "# identity\n",
    "# in and not in\n",
    "\n",
    "a = {'a':1 , 'b': 2}\n",
    "b = {'a':1 , 'b': 2}\n",
    "\n",
    "\n",
    "print(id(a['b']))\n",
    "print(id(b['b']))\n",
    "\n",
    "print(a['b'] is b['b'])"
   ]
  },
  {
   "cell_type": "code",
   "execution_count": 45,
   "id": "1cb5b9f2",
   "metadata": {},
   "outputs": [
    {
     "data": {
      "text/plain": [
       "'Abhishail'"
      ]
     },
     "execution_count": 45,
     "metadata": {},
     "output_type": "execute_result"
    }
   ],
   "source": [
    "# Extract elements of a dic\n",
    "\n",
    "emp_data = {'emp_1':{'Age': 26 , 'Salary': 901000 , 'Name': 'Salahuddin'},\n",
    "           'emp_2':{'Age': 27 , 'Salary': 1000000 , 'Name': 'Abhijeet'},\n",
    "           'emp_3':{'Age': 28 , 'Salary': 1000002 , 'Name': 'Abhishail'},\n",
    "           'emp_4':{'Age': 29 , 'Salary': 1100000 , 'Name': 'Abhishek'}}\n",
    "\n",
    "\n",
    "emp_data['emp_3']['Name']"
   ]
  },
  {
   "cell_type": "markdown",
   "id": "d407789a",
   "metadata": {},
   "source": [
    "# Methods of dic"
   ]
  },
  {
   "cell_type": "code",
   "execution_count": 47,
   "id": "e7de552e",
   "metadata": {},
   "outputs": [
    {
     "name": "stdout",
     "output_type": "stream",
     "text": [
      "['__class__', '__class_getitem__', '__contains__', '__delattr__', '__delitem__', '__dir__', '__doc__', '__eq__', '__format__', '__ge__', '__getattribute__', '__getitem__', '__gt__', '__hash__', '__init__', '__init_subclass__', '__ior__', '__iter__', '__le__', '__len__', '__lt__', '__ne__', '__new__', '__or__', '__reduce__', '__reduce_ex__', '__repr__', '__reversed__', '__ror__', '__setattr__', '__setitem__', '__sizeof__', '__str__', '__subclasshook__', 'clear', 'copy', 'fromkeys', 'get', 'items', 'keys', 'pop', 'popitem', 'setdefault', 'update', 'values']\n"
     ]
    }
   ],
   "source": [
    "print(dir(dict))"
   ]
  },
  {
   "cell_type": "markdown",
   "id": "7f559357",
   "metadata": {},
   "source": [
    "# Methods to add and access elements of a dic\n",
    "\n",
    "\n",
    "- get\n",
    "- setdefault\n",
    "- Update"
   ]
  },
  {
   "cell_type": "markdown",
   "id": "4d470561",
   "metadata": {},
   "source": [
    "# Get"
   ]
  },
  {
   "cell_type": "code",
   "execution_count": 48,
   "id": "b8d2ea10",
   "metadata": {},
   "outputs": [
    {
     "name": "stdout",
     "output_type": "stream",
     "text": [
      "{'Age': 28, 'Salary': 1000002, 'Name': 'Abhishail'}\n"
     ]
    }
   ],
   "source": [
    "# 1. If the key is present\n",
    "\n",
    "\n",
    "emp_data = {'emp_1':{'Age': 26 , 'Salary': 901000 , 'Name': 'Salahuddin'},\n",
    "           'emp_2':{'Age': 27 , 'Salary': 1000000 , 'Name': 'Abhijeet'},\n",
    "           'emp_3':{'Age': 28 , 'Salary': 1000002 , 'Name': 'Abhishail'},\n",
    "           'emp_4':{'Age': 29 , 'Salary': 1100000 , 'Name': 'Abhishek'}}\n",
    "\n",
    "\n",
    "print(emp_data.get('emp_3'))"
   ]
  },
  {
   "cell_type": "code",
   "execution_count": 49,
   "id": "5d8a14c6",
   "metadata": {
    "scrolled": true
   },
   "outputs": [
    {
     "name": "stdout",
     "output_type": "stream",
     "text": [
      "None\n"
     ]
    }
   ],
   "source": [
    "# 1. If the key is not present\n",
    "\n",
    "\n",
    "emp_data = {'emp_1':{'Age': 26 , 'Salary': 901000 , 'Name': 'Salahuddin'},\n",
    "           'emp_2':{'Age': 27 , 'Salary': 1000000 , 'Name': 'Abhijeet'},\n",
    "           'emp_3':{'Age': 28 , 'Salary': 1000002 , 'Name': 'Abhishail'},\n",
    "           'emp_4':{'Age': 29 , 'Salary': 1100000 , 'Name': 'Abhishek'}}\n",
    "\n",
    "\n",
    "print(emp_data.get('emp_5'))"
   ]
  },
  {
   "cell_type": "code",
   "execution_count": 50,
   "id": "ff6df9f6",
   "metadata": {},
   "outputs": [
    {
     "name": "stdout",
     "output_type": "stream",
     "text": [
      "The emp which you are looking for is not present in my data\n"
     ]
    }
   ],
   "source": [
    "# 1. If the key is not present\n",
    "\n",
    "\n",
    "emp_data = {'emp_1':{'Age': 26 , 'Salary': 901000 , 'Name': 'Salahuddin'},\n",
    "           'emp_2':{'Age': 27 , 'Salary': 1000000 , 'Name': 'Abhijeet'},\n",
    "           'emp_3':{'Age': 28 , 'Salary': 1000002 , 'Name': 'Abhishail'},\n",
    "           'emp_4':{'Age': 29 , 'Salary': 1100000 , 'Name': 'Abhishek'}}\n",
    "\n",
    "\n",
    "print(emp_data.get('emp_5' , 'The emp which you are looking for is not present in my data'))"
   ]
  },
  {
   "cell_type": "markdown",
   "id": "f1184eed",
   "metadata": {},
   "source": [
    "# Set default "
   ]
  },
  {
   "cell_type": "code",
   "execution_count": 54,
   "id": "207fd5bb",
   "metadata": {},
   "outputs": [
    {
     "name": "stdout",
     "output_type": "stream",
     "text": [
      "{'Age': 28, 'Salary': 1000002, 'Name': 'Abhishail'}\n"
     ]
    }
   ],
   "source": [
    "# 1. If the key is present\n",
    "\n",
    "\n",
    "emp_data = {'emp_1':{'Age': 26 , 'Salary': 901000 , 'Name': 'Salahuddin'},\n",
    "           'emp_2':{'Age': 27 , 'Salary': 1000000 , 'Name': 'Abhijeet'},\n",
    "           'emp_3':{'Age': 28 , 'Salary': 1000002 , 'Name': 'Abhishail'},\n",
    "           'emp_4':{'Age': 29 , 'Salary': 1100000 , 'Name': 'Abhishek'}}\n",
    "\n",
    "\n",
    "print(emp_data.setdefault('emp_3'))"
   ]
  },
  {
   "cell_type": "code",
   "execution_count": 59,
   "id": "96cc4093",
   "metadata": {},
   "outputs": [
    {
     "name": "stdout",
     "output_type": "stream",
     "text": [
      "None\n"
     ]
    },
    {
     "data": {
      "text/plain": [
       "{'emp_1': {'Age': 26, 'Salary': 901000, 'Name': 'Salahuddin'},\n",
       " 'emp_2': {'Age': 27, 'Salary': 1000000, 'Name': 'Abhijeet'},\n",
       " 'emp_3': {'Age': 28, 'Salary': 1000002, 'Name': 'Abhishail'},\n",
       " 'emp_4': {'Age': 29, 'Salary': 1100000, 'Name': 'Abhishek'},\n",
       " 'emp_5': None}"
      ]
     },
     "execution_count": 59,
     "metadata": {},
     "output_type": "execute_result"
    }
   ],
   "source": [
    "# 1. If the key is not present\n",
    "\n",
    "\n",
    "emp_data = {'emp_1':{'Age': 26 , 'Salary': 901000 , 'Name': 'Salahuddin'},\n",
    "           'emp_2':{'Age': 27 , 'Salary': 1000000 , 'Name': 'Abhijeet'},\n",
    "           'emp_3':{'Age': 28 , 'Salary': 1000002 , 'Name': 'Abhishail'},\n",
    "           'emp_4':{'Age': 29 , 'Salary': 1100000 , 'Name': 'Abhishek'}}\n",
    "\n",
    "\n",
    "print(emp_data.setdefault('emp_5' ))\n",
    "\n",
    "emp_data"
   ]
  },
  {
   "cell_type": "code",
   "execution_count": 60,
   "id": "58b21eae",
   "metadata": {},
   "outputs": [
    {
     "name": "stdout",
     "output_type": "stream",
     "text": [
      "{'Age': 29, 'Salary': 1100000, 'Name': 'new_emp'}\n"
     ]
    },
    {
     "data": {
      "text/plain": [
       "{'emp_1': {'Age': 26, 'Salary': 901000, 'Name': 'Salahuddin'},\n",
       " 'emp_2': {'Age': 27, 'Salary': 1000000, 'Name': 'Abhijeet'},\n",
       " 'emp_3': {'Age': 28, 'Salary': 1000002, 'Name': 'Abhishail'},\n",
       " 'emp_4': {'Age': 29, 'Salary': 1100000, 'Name': 'Abhishek'},\n",
       " 'emp_5': {'Age': 29, 'Salary': 1100000, 'Name': 'new_emp'}}"
      ]
     },
     "execution_count": 60,
     "metadata": {},
     "output_type": "execute_result"
    }
   ],
   "source": [
    "# 1. If the key is not present\n",
    "\n",
    "\n",
    "emp_data = {'emp_1':{'Age': 26 , 'Salary': 901000 , 'Name': 'Salahuddin'},\n",
    "           'emp_2':{'Age': 27 , 'Salary': 1000000 , 'Name': 'Abhijeet'},\n",
    "           'emp_3':{'Age': 28 , 'Salary': 1000002 , 'Name': 'Abhishail'},\n",
    "           'emp_4':{'Age': 29 , 'Salary': 1100000 , 'Name': 'Abhishek'}}\n",
    "\n",
    "\n",
    "print(emp_data.setdefault('emp_5', {'Age': 29 , 'Salary': 1100000 , 'Name': 'new_emp'}))\n",
    "\n",
    "emp_data"
   ]
  },
  {
   "cell_type": "markdown",
   "id": "39415d24",
   "metadata": {},
   "source": [
    "# Update"
   ]
  },
  {
   "cell_type": "code",
   "execution_count": 62,
   "id": "9c948e2e",
   "metadata": {},
   "outputs": [
    {
     "name": "stdout",
     "output_type": "stream",
     "text": [
      "None\n"
     ]
    },
    {
     "data": {
      "text/plain": [
       "{'emp_1': {'Age': 26, 'Salary': 901000, 'Name': 'Salahuddin'},\n",
       " 'emp_2': {'Age': 27, 'Salary': 1000000, 'Name': 'Abhijeet'},\n",
       " 'emp_3': {'Age': 28, 'Salary': 1000002, 'Name': 'Abhishail'},\n",
       " 'emp_4': {'Age': 29, 'Salary': 1100000, 'Name': 'Abhishek'},\n",
       " 'emp_5': {'Age': 29, 'Salary': 1100000, 'Name': 'new_emp'},\n",
       " 'emp_6': {'Age': 29, 'Salary': 1100000, 'Name': 'new_emp_1'}}"
      ]
     },
     "execution_count": 62,
     "metadata": {},
     "output_type": "execute_result"
    }
   ],
   "source": [
    "# 1. If the key is not present\n",
    "\n",
    "\n",
    "emp_data = {'emp_1':{'Age': 26 , 'Salary': 901000 , 'Name': 'Salahuddin'},\n",
    "           'emp_2':{'Age': 27 , 'Salary': 1000000 , 'Name': 'Abhijeet'},\n",
    "           'emp_3':{'Age': 28 , 'Salary': 1000002 , 'Name': 'Abhishail'},\n",
    "           'emp_4':{'Age': 29 , 'Salary': 1100000 , 'Name': 'Abhishek'}}\n",
    "\n",
    "new_emp = {'emp_5': {'Age': 29 , 'Salary': 1100000 , 'Name': 'new_emp'},\n",
    "          'emp_6': {'Age': 29 , 'Salary': 1100000 , 'Name': 'new_emp_1'}}\n",
    "\n",
    "\n",
    "print(emp_data.update(new_emp))\n",
    "\n",
    "emp_data"
   ]
  },
  {
   "cell_type": "code",
   "execution_count": 66,
   "id": "335a7372",
   "metadata": {},
   "outputs": [],
   "source": [
    "\n",
    "emp_data = {'emp_1':{'Age': 26 , 'Salary': 901000 , 'Name': 'Salahuddin'},\n",
    "           'emp_2':{'Age': 27 , 'Salary': 1000000 , 'Name': 'Abhijeet'},\n",
    "           'emp_3':{'Age': 28 , 'Salary': 1000002 , 'Name': 'Abhishail'},\n",
    "           'emp_4':{'Age': 29 , 'Salary': 1100000 , 'Name': 'Abhishek'}}"
   ]
  },
  {
   "cell_type": "code",
   "execution_count": 64,
   "id": "860816df",
   "metadata": {},
   "outputs": [],
   "source": [
    "# write a code where the \n",
    "- Age\n",
    "- salary\n",
    "- name\n",
    "\n",
    "\n",
    "\n",
    "emp_5 - Age\n",
    "- salary\n",
    "- name\n",
    "\n",
    "\n",
    "emp_6 - Age\n",
    "- salary\n",
    "- name\n",
    "\n"
   ]
  },
  {
   "cell_type": "code",
   "execution_count": 73,
   "id": "862bd3e6",
   "metadata": {},
   "outputs": [],
   "source": [
    "emp_data = {'emp_1':{'Age': 26 , 'Salary': 901000 , 'Name': 'Salahuddin'},\n",
    "           'emp_2':{'Age': 27 , 'Salary': 1000000 , 'Name': 'Abhijeet'},\n",
    "           'emp_3':{'Age': 28 , 'Salary': 1000002 , 'Name': 'Abhishail'},\n",
    "           'emp_4':{'Age': 29 , 'Salary': 1100000 , 'Name': 'Abhishek'}}"
   ]
  },
  {
   "cell_type": "code",
   "execution_count": 71,
   "id": "ff0570fa",
   "metadata": {},
   "outputs": [
    {
     "name": "stdout",
     "output_type": "stream",
     "text": [
      "Enter the age of the emp : 656\n",
      "Enter the salary of the emp : 12312121\n",
      "Enter the name of the emp : gfd\n"
     ]
    },
    {
     "data": {
      "text/plain": [
       "{'Age': 656, 'Salary': 12312121, 'Name': 'gfd'}"
      ]
     },
     "execution_count": 71,
     "metadata": {},
     "output_type": "execute_result"
    }
   ],
   "source": [
    "age = int(input('Enter the age of the emp : '))\n",
    "Salary = int(input('Enter the salary of the emp : '))\n",
    "Name = input('Enter the name of the emp : ')\n",
    "\n",
    "key = f'emp_{len(emp_data)+1}'\n",
    "\n",
    "emp_data.setdefault(key , {'Age': age , 'Salary': Salary , 'Name': Name})"
   ]
  },
  {
   "cell_type": "code",
   "execution_count": 72,
   "id": "4f44864b",
   "metadata": {},
   "outputs": [
    {
     "data": {
      "text/plain": [
       "{'emp_1': {'Age': 26, 'Salary': 901000, 'Name': 'Salahuddin'},\n",
       " 'emp_2': {'Age': 27, 'Salary': 1000000, 'Name': 'Abhijeet'},\n",
       " 'emp_3': {'Age': 28, 'Salary': 1000002, 'Name': 'Abhishail'},\n",
       " 'emp_4': {'Age': 29, 'Salary': 1100000, 'Name': 'Abhishek'},\n",
       " 'emp_5': {'Age': 55, 'Salary': 655656, 'Name': 'vgfgvg'},\n",
       " 'emp_6': {'Age': 656, 'Salary': 12312121, 'Name': 'gfd'}}"
      ]
     },
     "execution_count": 72,
     "metadata": {},
     "output_type": "execute_result"
    }
   ],
   "source": [
    "emp_data"
   ]
  },
  {
   "cell_type": "code",
   "execution_count": 75,
   "id": "c5fc9260",
   "metadata": {},
   "outputs": [
    {
     "data": {
      "text/plain": [
       "5"
      ]
     },
     "execution_count": 75,
     "metadata": {},
     "output_type": "execute_result"
    }
   ],
   "source": [
    "len(emp_data)+1"
   ]
  },
  {
   "cell_type": "code",
   "execution_count": 78,
   "id": "a7745fce",
   "metadata": {},
   "outputs": [
    {
     "name": "stdout",
     "output_type": "stream",
     "text": [
      "Hi my name is python second name is leanbay\n",
      "Hi my name is python second name is leanbay\n"
     ]
    }
   ],
   "source": [
    "a = 'python'\n",
    "b = 'leanbay'\n",
    "\n",
    "\n",
    "print('Hi my name is {} second name is {}'.format(a , b))\n",
    "print(f'Hi my name is {a} second name is {b}')"
   ]
  },
  {
   "cell_type": "code",
   "execution_count": 80,
   "id": "7fd792a5",
   "metadata": {},
   "outputs": [],
   "source": [
    "emp_data = {'emp_1':{'Age': 26 , 'Salary': 901000 , 'Name': 'Salahuddin'},\n",
    "           'emp_2':{'Age': 27 , 'Salary': 1000000 , 'Name': 'Abhijeet'},\n",
    "           'emp_3':{'Age': 28 , 'Salary': 1000002 , 'Name': 'Abhishail'},\n",
    "           'emp_4':{'Age': 29 , 'Salary': 1100000 , 'Name': 'Abhishek'}}"
   ]
  },
  {
   "cell_type": "markdown",
   "id": "bba0aa60",
   "metadata": {},
   "source": [
    "# Work on this"
   ]
  },
  {
   "cell_type": "code",
   "execution_count": null,
   "id": "6092c38f",
   "metadata": {},
   "outputs": [],
   "source": [
    "age = int(input('Enter the age of the emp : '))\n",
    "Salary = int(input('Enter the salary of the emp : '))\n",
    "Name = input('Enter the name of the emp : ')\n",
    "\n",
    "key = f'emp_{len(emp_data)+1}'\n",
    "\n",
    "emp_data.setdefault(key , {'Age': age , 'Salary': Salary , 'Name': Name})\n",
    "\n",
    "\n",
    "# if key it is not ther only enter the details\n",
    "# if not there then extract the existing"
   ]
  },
  {
   "cell_type": "markdown",
   "id": "ae711e20",
   "metadata": {},
   "source": [
    "# Methods to remove the items from the dic\n",
    "\n",
    "- pop\n",
    "- popitem"
   ]
  },
  {
   "cell_type": "code",
   "execution_count": 81,
   "id": "31f2bb2c",
   "metadata": {},
   "outputs": [
    {
     "name": "stdout",
     "output_type": "stream",
     "text": [
      "['__class__', '__class_getitem__', '__contains__', '__delattr__', '__delitem__', '__dir__', '__doc__', '__eq__', '__format__', '__ge__', '__getattribute__', '__getitem__', '__gt__', '__hash__', '__init__', '__init_subclass__', '__ior__', '__iter__', '__le__', '__len__', '__lt__', '__ne__', '__new__', '__or__', '__reduce__', '__reduce_ex__', '__repr__', '__reversed__', '__ror__', '__setattr__', '__setitem__', '__sizeof__', '__str__', '__subclasshook__', 'clear', 'copy', 'fromkeys', 'get', 'items', 'keys', 'pop', 'popitem', 'setdefault', 'update', 'values']\n"
     ]
    }
   ],
   "source": [
    "print(dir(dict))"
   ]
  },
  {
   "cell_type": "markdown",
   "id": "5fc30460",
   "metadata": {},
   "source": [
    "# POP"
   ]
  },
  {
   "cell_type": "code",
   "execution_count": 82,
   "id": "e791ef07",
   "metadata": {},
   "outputs": [
    {
     "name": "stdout",
     "output_type": "stream",
     "text": [
      "{'Age': 26, 'Salary': 901000, 'Name': 'Salahuddin'}\n"
     ]
    }
   ],
   "source": [
    "# if the key is present\n",
    "\n",
    "emp_data = {'emp_1':{'Age': 26 , 'Salary': 901000 , 'Name': 'Salahuddin'},\n",
    "           'emp_2':{'Age': 27 , 'Salary': 1000000 , 'Name': 'Abhijeet'},\n",
    "           'emp_3':{'Age': 28 , 'Salary': 1000002 , 'Name': 'Abhishail'},\n",
    "           'emp_4':{'Age': 29 , 'Salary': 1100000 , 'Name': 'Abhishek'}}\n",
    "\n",
    "\n",
    "print(emp_data.pop('emp_1'))"
   ]
  },
  {
   "cell_type": "code",
   "execution_count": 83,
   "id": "8d275c01",
   "metadata": {},
   "outputs": [
    {
     "data": {
      "text/plain": [
       "{'emp_2': {'Age': 27, 'Salary': 1000000, 'Name': 'Abhijeet'},\n",
       " 'emp_3': {'Age': 28, 'Salary': 1000002, 'Name': 'Abhishail'},\n",
       " 'emp_4': {'Age': 29, 'Salary': 1100000, 'Name': 'Abhishek'}}"
      ]
     },
     "execution_count": 83,
     "metadata": {},
     "output_type": "execute_result"
    }
   ],
   "source": [
    "emp_data"
   ]
  },
  {
   "cell_type": "code",
   "execution_count": 84,
   "id": "eb1396e6",
   "metadata": {},
   "outputs": [
    {
     "ename": "KeyError",
     "evalue": "'emp_5'",
     "output_type": "error",
     "traceback": [
      "\u001b[1;31m---------------------------------------------------------------------------\u001b[0m",
      "\u001b[1;31mKeyError\u001b[0m                                  Traceback (most recent call last)",
      "Input \u001b[1;32mIn [84]\u001b[0m, in \u001b[0;36m<cell line: 9>\u001b[1;34m()\u001b[0m\n\u001b[0;32m      1\u001b[0m \u001b[38;5;66;03m# if the key is not present\u001b[39;00m\n\u001b[0;32m      3\u001b[0m emp_data \u001b[38;5;241m=\u001b[39m {\u001b[38;5;124m'\u001b[39m\u001b[38;5;124memp_1\u001b[39m\u001b[38;5;124m'\u001b[39m:{\u001b[38;5;124m'\u001b[39m\u001b[38;5;124mAge\u001b[39m\u001b[38;5;124m'\u001b[39m: \u001b[38;5;241m26\u001b[39m , \u001b[38;5;124m'\u001b[39m\u001b[38;5;124mSalary\u001b[39m\u001b[38;5;124m'\u001b[39m: \u001b[38;5;241m901000\u001b[39m , \u001b[38;5;124m'\u001b[39m\u001b[38;5;124mName\u001b[39m\u001b[38;5;124m'\u001b[39m: \u001b[38;5;124m'\u001b[39m\u001b[38;5;124mSalahuddin\u001b[39m\u001b[38;5;124m'\u001b[39m},\n\u001b[0;32m      4\u001b[0m            \u001b[38;5;124m'\u001b[39m\u001b[38;5;124memp_2\u001b[39m\u001b[38;5;124m'\u001b[39m:{\u001b[38;5;124m'\u001b[39m\u001b[38;5;124mAge\u001b[39m\u001b[38;5;124m'\u001b[39m: \u001b[38;5;241m27\u001b[39m , \u001b[38;5;124m'\u001b[39m\u001b[38;5;124mSalary\u001b[39m\u001b[38;5;124m'\u001b[39m: \u001b[38;5;241m1000000\u001b[39m , \u001b[38;5;124m'\u001b[39m\u001b[38;5;124mName\u001b[39m\u001b[38;5;124m'\u001b[39m: \u001b[38;5;124m'\u001b[39m\u001b[38;5;124mAbhijeet\u001b[39m\u001b[38;5;124m'\u001b[39m},\n\u001b[0;32m      5\u001b[0m            \u001b[38;5;124m'\u001b[39m\u001b[38;5;124memp_3\u001b[39m\u001b[38;5;124m'\u001b[39m:{\u001b[38;5;124m'\u001b[39m\u001b[38;5;124mAge\u001b[39m\u001b[38;5;124m'\u001b[39m: \u001b[38;5;241m28\u001b[39m , \u001b[38;5;124m'\u001b[39m\u001b[38;5;124mSalary\u001b[39m\u001b[38;5;124m'\u001b[39m: \u001b[38;5;241m1000002\u001b[39m , \u001b[38;5;124m'\u001b[39m\u001b[38;5;124mName\u001b[39m\u001b[38;5;124m'\u001b[39m: \u001b[38;5;124m'\u001b[39m\u001b[38;5;124mAbhishail\u001b[39m\u001b[38;5;124m'\u001b[39m},\n\u001b[0;32m      6\u001b[0m            \u001b[38;5;124m'\u001b[39m\u001b[38;5;124memp_4\u001b[39m\u001b[38;5;124m'\u001b[39m:{\u001b[38;5;124m'\u001b[39m\u001b[38;5;124mAge\u001b[39m\u001b[38;5;124m'\u001b[39m: \u001b[38;5;241m29\u001b[39m , \u001b[38;5;124m'\u001b[39m\u001b[38;5;124mSalary\u001b[39m\u001b[38;5;124m'\u001b[39m: \u001b[38;5;241m1100000\u001b[39m , \u001b[38;5;124m'\u001b[39m\u001b[38;5;124mName\u001b[39m\u001b[38;5;124m'\u001b[39m: \u001b[38;5;124m'\u001b[39m\u001b[38;5;124mAbhishek\u001b[39m\u001b[38;5;124m'\u001b[39m}}\n\u001b[1;32m----> 9\u001b[0m \u001b[38;5;28mprint\u001b[39m(\u001b[43memp_data\u001b[49m\u001b[38;5;241;43m.\u001b[39;49m\u001b[43mpop\u001b[49m\u001b[43m(\u001b[49m\u001b[38;5;124;43m'\u001b[39;49m\u001b[38;5;124;43memp_5\u001b[39;49m\u001b[38;5;124;43m'\u001b[39;49m\u001b[43m)\u001b[49m)\n",
      "\u001b[1;31mKeyError\u001b[0m: 'emp_5'"
     ]
    }
   ],
   "source": [
    "# if the key is not present\n",
    "\n",
    "emp_data = {'emp_1':{'Age': 26 , 'Salary': 901000 , 'Name': 'Salahuddin'},\n",
    "           'emp_2':{'Age': 27 , 'Salary': 1000000 , 'Name': 'Abhijeet'},\n",
    "           'emp_3':{'Age': 28 , 'Salary': 1000002 , 'Name': 'Abhishail'},\n",
    "           'emp_4':{'Age': 29 , 'Salary': 1100000 , 'Name': 'Abhishek'}}\n",
    "\n",
    "\n",
    "print(emp_data.pop('emp_5'))"
   ]
  },
  {
   "cell_type": "markdown",
   "id": "876ddd12",
   "metadata": {},
   "source": [
    "# POP item"
   ]
  },
  {
   "cell_type": "code",
   "execution_count": 86,
   "id": "1957c3f1",
   "metadata": {},
   "outputs": [
    {
     "name": "stdout",
     "output_type": "stream",
     "text": [
      "('emp_4', {'Age': 29, 'Salary': 1100000, 'Name': 'Abhishek'})\n"
     ]
    }
   ],
   "source": [
    "# if the key is present\n",
    "\n",
    "emp_data = {'emp_1':{'Age': 26 , 'Salary': 901000 , 'Name': 'Salahuddin'},\n",
    "           'emp_2':{'Age': 27 , 'Salary': 1000000 , 'Name': 'Abhijeet'},\n",
    "           'emp_3':{'Age': 28 , 'Salary': 1000002 , 'Name': 'Abhishail'},\n",
    "           'emp_4':{'Age': 29 , 'Salary': 1100000 , 'Name': 'Abhishek'}}\n",
    "\n",
    "\n",
    "print(emp_data.popitem())"
   ]
  },
  {
   "cell_type": "code",
   "execution_count": 87,
   "id": "6e6badc6",
   "metadata": {},
   "outputs": [
    {
     "data": {
      "text/plain": [
       "{'emp_1': {'Age': 26, 'Salary': 901000, 'Name': 'Salahuddin'},\n",
       " 'emp_2': {'Age': 27, 'Salary': 1000000, 'Name': 'Abhijeet'},\n",
       " 'emp_3': {'Age': 28, 'Salary': 1000002, 'Name': 'Abhishail'}}"
      ]
     },
     "execution_count": 87,
     "metadata": {},
     "output_type": "execute_result"
    }
   ],
   "source": [
    "emp_data"
   ]
  },
  {
   "cell_type": "markdown",
   "id": "5ac5aaab",
   "metadata": {},
   "source": [
    "# usecase"
   ]
  },
  {
   "cell_type": "code",
   "execution_count": 114,
   "id": "b2267e7d",
   "metadata": {},
   "outputs": [],
   "source": [
    "current_emp = {'emp_1': {'Age': 26, 'Salary': 901000, 'Name': 'Salahuddin'},\n",
    " 'emp_2': {'Age': 27, 'Salary': 1000000, 'Name': 'Abhijeet'},\n",
    " 'emp_3': {'Age': 28, 'Salary': 1000002, 'Name': 'Abhishail'},\n",
    " 'emp_4': {'Age': 29, 'Salary': 1100000, 'Name': 'Abhishek'},\n",
    " 'emp_5': {'Age': 55, 'Salary': 655656, 'Name': 'vgfgvg'},\n",
    " 'emp_6': {'Age': 656, 'Salary': 12312121, 'Name': 'gfd'}}"
   ]
  },
  {
   "cell_type": "code",
   "execution_count": 115,
   "id": "33b8bbdb",
   "metadata": {},
   "outputs": [],
   "source": [
    "# emp_5 has left the company\n",
    "ex_emp = {}"
   ]
  },
  {
   "cell_type": "code",
   "execution_count": 116,
   "id": "8fb62277",
   "metadata": {},
   "outputs": [
    {
     "name": "stdout",
     "output_type": "stream",
     "text": [
      "Enter the emp leaving the com : emp_2\n"
     ]
    },
    {
     "data": {
      "text/plain": [
       "{'emp_1': {'Age': 26, 'Salary': 901000, 'Name': 'Salahuddin'},\n",
       " 'emp_3': {'Age': 28, 'Salary': 1000002, 'Name': 'Abhishail'},\n",
       " 'emp_4': {'Age': 29, 'Salary': 1100000, 'Name': 'Abhishek'},\n",
       " 'emp_5': {'Age': 55, 'Salary': 655656, 'Name': 'vgfgvg'},\n",
       " 'emp_6': {'Age': 656, 'Salary': 12312121, 'Name': 'gfd'}}"
      ]
     },
     "execution_count": 116,
     "metadata": {},
     "output_type": "execute_result"
    }
   ],
   "source": [
    "# trigger \n",
    "a = input('Enter the emp leaving the com : ')\n",
    "\n",
    "current_emp.pop(a)\n",
    "current_emp"
   ]
  },
  {
   "cell_type": "code",
   "execution_count": 118,
   "id": "36bef1bb",
   "metadata": {},
   "outputs": [
    {
     "name": "stdout",
     "output_type": "stream",
     "text": [
      "Enter the emp leaving the com : emp_3\n"
     ]
    },
    {
     "data": {
      "text/plain": [
       "{'Age': 28, 'Salary': 1000002, 'Name': 'Abhishail'}"
      ]
     },
     "execution_count": 118,
     "metadata": {},
     "output_type": "execute_result"
    }
   ],
   "source": [
    "# save the employees left the company in a new variable \n",
    "a = input('Enter the emp leaving the com : ')\n",
    "\n",
    "ex_emp.setdefault(a,current_emp.pop(a))"
   ]
  },
  {
   "cell_type": "code",
   "execution_count": 119,
   "id": "9e84dd24",
   "metadata": {},
   "outputs": [
    {
     "data": {
      "text/plain": [
       "{'emp_1': {'Age': 26, 'Salary': 901000, 'Name': 'Salahuddin'},\n",
       " 'emp_4': {'Age': 29, 'Salary': 1100000, 'Name': 'Abhishek'},\n",
       " 'emp_5': {'Age': 55, 'Salary': 655656, 'Name': 'vgfgvg'},\n",
       " 'emp_6': {'Age': 656, 'Salary': 12312121, 'Name': 'gfd'}}"
      ]
     },
     "execution_count": 119,
     "metadata": {},
     "output_type": "execute_result"
    }
   ],
   "source": [
    "current_emp"
   ]
  },
  {
   "cell_type": "code",
   "execution_count": 120,
   "id": "422a038b",
   "metadata": {},
   "outputs": [
    {
     "data": {
      "text/plain": [
       "{'emp_3': {'Age': 28, 'Salary': 1000002, 'Name': 'Abhishail'}}"
      ]
     },
     "execution_count": 120,
     "metadata": {},
     "output_type": "execute_result"
    }
   ],
   "source": [
    "ex_emp"
   ]
  },
  {
   "cell_type": "code",
   "execution_count": 104,
   "id": "4c7afb3b",
   "metadata": {},
   "outputs": [],
   "source": [
    "list_of_employees_leaving = ['emp_1' , 'emp_2' , 'emp_3']\n",
    "\n",
    "\n",
    "for i in list_of_employees_leaving:\n",
    "    ex_emp.setdefault(i,current_emp.pop(i))"
   ]
  },
  {
   "cell_type": "code",
   "execution_count": 105,
   "id": "48ee347a",
   "metadata": {},
   "outputs": [
    {
     "data": {
      "text/plain": [
       "{'emp_4': {'Age': 29, 'Salary': 1100000, 'Name': 'Abhishek'},\n",
       " 'emp_5': {'Age': 55, 'Salary': 655656, 'Name': 'vgfgvg'},\n",
       " 'emp_6': {'Age': 656, 'Salary': 12312121, 'Name': 'gfd'}}"
      ]
     },
     "execution_count": 105,
     "metadata": {},
     "output_type": "execute_result"
    }
   ],
   "source": [
    "current_emp"
   ]
  },
  {
   "cell_type": "code",
   "execution_count": 106,
   "id": "df8f44d9",
   "metadata": {},
   "outputs": [
    {
     "data": {
      "text/plain": [
       "{'emp_1': {'Age': 26, 'Salary': 901000, 'Name': 'Salahuddin'},\n",
       " 'emp_2': {'Age': 27, 'Salary': 1000000, 'Name': 'Abhijeet'},\n",
       " 'emp_3': {'Age': 28, 'Salary': 1000002, 'Name': 'Abhishail'}}"
      ]
     },
     "execution_count": 106,
     "metadata": {},
     "output_type": "execute_result"
    }
   ],
   "source": [
    "ex_emp"
   ]
  },
  {
   "cell_type": "code",
   "execution_count": 108,
   "id": "a3ab494e",
   "metadata": {},
   "outputs": [
    {
     "name": "stdout",
     "output_type": "stream",
     "text": [
      "Please update the employee id who left the company: emp_3\n",
      "{'Age': 28, 'Salary': 1000002, 'Name': 'Abhishail'}\n"
     ]
    },
    {
     "data": {
      "text/plain": [
       "{'emp_1': {'Age': 26, 'Salary': 901000, 'Name': 'Salahuddin'},\n",
       " 'emp_2': {'Age': 27, 'Salary': 1000000, 'Name': 'Abhijeet'},\n",
       " 'emp_4': {'Age': 29, 'Salary': 1100000, 'Name': 'Abhishek'},\n",
       " 'emp_5': {'Age': 55, 'Salary': 655656, 'Name': 'vgfgvg'},\n",
       " 'emp_6': {'Age': 656, 'Salary': 12312121, 'Name': 'gfd'}}"
      ]
     },
     "execution_count": 108,
     "metadata": {},
     "output_type": "execute_result"
    }
   ],
   "source": [
    "emp_id=input('Please update the employee id who left the company: ')\n",
    "\n",
    "ex_emp=dict(emp_data.pop(emp_id))\n",
    "print(ex_emp)\n",
    "emp_data\n"
   ]
  },
  {
   "cell_type": "code",
   "execution_count": 107,
   "id": "bc773782",
   "metadata": {},
   "outputs": [
    {
     "data": {
      "text/plain": [
       "{'emp_1': {'Age': 26, 'Salary': 901000, 'Name': 'Salahuddin'},\n",
       " 'emp_2': {'Age': 27, 'Salary': 1000000, 'Name': 'Abhijeet'},\n",
       " 'emp_3': {'Age': 28, 'Salary': 1000002, 'Name': 'Abhishail'},\n",
       " 'emp_4': {'Age': 29, 'Salary': 1100000, 'Name': 'Abhishek'},\n",
       " 'emp_5': {'Age': 55, 'Salary': 655656, 'Name': 'vgfgvg'},\n",
       " 'emp_6': {'Age': 656, 'Salary': 12312121, 'Name': 'gfd'}}"
      ]
     },
     "execution_count": 107,
     "metadata": {},
     "output_type": "execute_result"
    }
   ],
   "source": [
    "emp_data"
   ]
  },
  {
   "cell_type": "code",
   "execution_count": 121,
   "id": "d90e70f9",
   "metadata": {},
   "outputs": [
    {
     "name": "stdout",
     "output_type": "stream",
     "text": [
      "['__class__', '__class_getitem__', '__contains__', '__delattr__', '__delitem__', '__dir__', '__doc__', '__eq__', '__format__', '__ge__', '__getattribute__', '__getitem__', '__gt__', '__hash__', '__init__', '__init_subclass__', '__ior__', '__iter__', '__le__', '__len__', '__lt__', '__ne__', '__new__', '__or__', '__reduce__', '__reduce_ex__', '__repr__', '__reversed__', '__ror__', '__setattr__', '__setitem__', '__sizeof__', '__str__', '__subclasshook__', 'clear', 'copy', 'fromkeys', 'get', 'items', 'keys', 'pop', 'popitem', 'setdefault', 'update', 'values']\n"
     ]
    }
   ],
   "source": [
    "# \n",
    "print(dir(dict))"
   ]
  },
  {
   "cell_type": "markdown",
   "id": "6f053bd7",
   "metadata": {},
   "source": [
    "# keys"
   ]
  },
  {
   "cell_type": "code",
   "execution_count": 122,
   "id": "d97b45a3",
   "metadata": {},
   "outputs": [
    {
     "data": {
      "text/plain": [
       "dict_keys(['emp_1', 'emp_2', 'emp_3', 'emp_4', 'emp_5', 'emp_6'])"
      ]
     },
     "execution_count": 122,
     "metadata": {},
     "output_type": "execute_result"
    }
   ],
   "source": [
    "current_emp = {'emp_1': {'Age': 26, 'Salary': 901000, 'Name': 'Salahuddin'},\n",
    " 'emp_2': {'Age': 27, 'Salary': 1000000, 'Name': 'Abhijeet'},\n",
    " 'emp_3': {'Age': 28, 'Salary': 1000002, 'Name': 'Abhishail'},\n",
    " 'emp_4': {'Age': 29, 'Salary': 1100000, 'Name': 'Abhishek'},\n",
    " 'emp_5': {'Age': 55, 'Salary': 655656, 'Name': 'vgfgvg'},\n",
    " 'emp_6': {'Age': 656, 'Salary': 12312121, 'Name': 'gfd'}}\n",
    "\n",
    "\n",
    "current_emp.keys()"
   ]
  },
  {
   "cell_type": "code",
   "execution_count": 126,
   "id": "7855f7ff",
   "metadata": {},
   "outputs": [
    {
     "name": "stdout",
     "output_type": "stream",
     "text": [
      "Abhijeet\n",
      "Abhishail\n",
      "Abhishek\n",
      "vgfgvg\n",
      "gfd\n"
     ]
    }
   ],
   "source": [
    "for i in current_emp.keys():\n",
    "    if current_emp[i]['Age'] >= 27:\n",
    "        print(current_emp[i]['Name'])"
   ]
  },
  {
   "cell_type": "markdown",
   "id": "58040ee1",
   "metadata": {},
   "source": [
    "# Values"
   ]
  },
  {
   "cell_type": "code",
   "execution_count": 123,
   "id": "90710a08",
   "metadata": {},
   "outputs": [
    {
     "data": {
      "text/plain": [
       "dict_values([{'Age': 26, 'Salary': 901000, 'Name': 'Salahuddin'}, {'Age': 27, 'Salary': 1000000, 'Name': 'Abhijeet'}, {'Age': 28, 'Salary': 1000002, 'Name': 'Abhishail'}, {'Age': 29, 'Salary': 1100000, 'Name': 'Abhishek'}, {'Age': 55, 'Salary': 655656, 'Name': 'vgfgvg'}, {'Age': 656, 'Salary': 12312121, 'Name': 'gfd'}])"
      ]
     },
     "execution_count": 123,
     "metadata": {},
     "output_type": "execute_result"
    }
   ],
   "source": [
    "current_emp = {'emp_1': {'Age': 26, 'Salary': 901000, 'Name': 'Salahuddin'},\n",
    " 'emp_2': {'Age': 27, 'Salary': 1000000, 'Name': 'Abhijeet'},\n",
    " 'emp_3': {'Age': 28, 'Salary': 1000002, 'Name': 'Abhishail'},\n",
    " 'emp_4': {'Age': 29, 'Salary': 1100000, 'Name': 'Abhishek'},\n",
    " 'emp_5': {'Age': 55, 'Salary': 655656, 'Name': 'vgfgvg'},\n",
    " 'emp_6': {'Age': 656, 'Salary': 12312121, 'Name': 'gfd'}}\n",
    "\n",
    "\n",
    "current_emp.values()"
   ]
  },
  {
   "cell_type": "code",
   "execution_count": 128,
   "id": "03a02afa",
   "metadata": {},
   "outputs": [
    {
     "name": "stdout",
     "output_type": "stream",
     "text": [
      "Abhijeet\n",
      "Abhishail\n",
      "Abhishek\n",
      "vgfgvg\n",
      "gfd\n"
     ]
    }
   ],
   "source": [
    "for i in current_emp.values():\n",
    "\n",
    "    if i['Age'] >= 27:\n",
    "        print(i['Name'])\n",
    "    "
   ]
  },
  {
   "cell_type": "markdown",
   "id": "1ee02d06",
   "metadata": {},
   "source": [
    "# items"
   ]
  },
  {
   "cell_type": "code",
   "execution_count": 124,
   "id": "9039f806",
   "metadata": {},
   "outputs": [
    {
     "data": {
      "text/plain": [
       "dict_items([('emp_1', {'Age': 26, 'Salary': 901000, 'Name': 'Salahuddin'}), ('emp_2', {'Age': 27, 'Salary': 1000000, 'Name': 'Abhijeet'}), ('emp_3', {'Age': 28, 'Salary': 1000002, 'Name': 'Abhishail'}), ('emp_4', {'Age': 29, 'Salary': 1100000, 'Name': 'Abhishek'}), ('emp_5', {'Age': 55, 'Salary': 655656, 'Name': 'vgfgvg'}), ('emp_6', {'Age': 656, 'Salary': 12312121, 'Name': 'gfd'})])"
      ]
     },
     "execution_count": 124,
     "metadata": {},
     "output_type": "execute_result"
    }
   ],
   "source": [
    "current_emp = {'emp_1': {'Age': 26, 'Salary': 901000, 'Name': 'Salahuddin'},\n",
    " 'emp_2': {'Age': 27, 'Salary': 1000000, 'Name': 'Abhijeet'},\n",
    " 'emp_3': {'Age': 28, 'Salary': 1000002, 'Name': 'Abhishail'},\n",
    " 'emp_4': {'Age': 29, 'Salary': 1100000, 'Name': 'Abhishek'},\n",
    " 'emp_5': {'Age': 55, 'Salary': 655656, 'Name': 'vgfgvg'},\n",
    " 'emp_6': {'Age': 656, 'Salary': 12312121, 'Name': 'gfd'}}\n",
    "\n",
    "\n",
    "current_emp.items()"
   ]
  },
  {
   "cell_type": "code",
   "execution_count": 133,
   "id": "49f1f2c4",
   "metadata": {},
   "outputs": [
    {
     "name": "stdout",
     "output_type": "stream",
     "text": [
      "emp_3\n",
      "emp_4\n",
      "emp_5\n",
      "emp_6\n"
     ]
    }
   ],
   "source": [
    "# diplay the emp ID of the emp whose age is >=27\n",
    "\n",
    "for i,j in current_emp.items():\n",
    "    if (j['Age'] >=28):\n",
    "        print(i)"
   ]
  },
  {
   "cell_type": "code",
   "execution_count": 136,
   "id": "decd11b7",
   "metadata": {},
   "outputs": [
    {
     "name": "stdout",
     "output_type": "stream",
     "text": [
      "12 <class 'int'>\n",
      "34 <class 'str'>\n"
     ]
    }
   ],
   "source": [
    "a,b = 12,'34'\n",
    "print(a , type(a))\n",
    "print(b , type(b))"
   ]
  },
  {
   "cell_type": "code",
   "execution_count": 138,
   "id": "cdc5119c",
   "metadata": {},
   "outputs": [
    {
     "name": "stdout",
     "output_type": "stream",
     "text": [
      "['__class__', '__class_getitem__', '__contains__', '__delattr__', '__delitem__', '__dir__', '__doc__', '__eq__', '__format__', '__ge__', '__getattribute__', '__getitem__', '__gt__', '__hash__', '__init__', '__init_subclass__', '__ior__', '__iter__', '__le__', '__len__', '__lt__', '__ne__', '__new__', '__or__', '__reduce__', '__reduce_ex__', '__repr__', '__reversed__', '__ror__', '__setattr__', '__setitem__', '__sizeof__', '__str__', '__subclasshook__', 'clear', 'copy', 'fromkeys', 'get', 'items', 'keys', 'pop', 'popitem', 'setdefault', 'update', 'values']\n"
     ]
    }
   ],
   "source": [
    "# \n",
    "print(dir(dict))"
   ]
  },
  {
   "cell_type": "markdown",
   "id": "672b367f",
   "metadata": {},
   "source": [
    "# Clear"
   ]
  },
  {
   "cell_type": "code",
   "execution_count": 139,
   "id": "dba75052",
   "metadata": {},
   "outputs": [
    {
     "data": {
      "text/plain": [
       "{'emp_1': {'Age': 26, 'Salary': 901000, 'Name': 'Salahuddin'},\n",
       " 'emp_2': {'Age': 27, 'Salary': 1000000, 'Name': 'Abhijeet'},\n",
       " 'emp_4': {'Age': 29, 'Salary': 1100000, 'Name': 'Abhishek'},\n",
       " 'emp_5': {'Age': 55, 'Salary': 655656, 'Name': 'vgfgvg'},\n",
       " 'emp_6': {'Age': 656, 'Salary': 12312121, 'Name': 'gfd'}}"
      ]
     },
     "execution_count": 139,
     "metadata": {},
     "output_type": "execute_result"
    }
   ],
   "source": [
    "emp_data"
   ]
  },
  {
   "cell_type": "code",
   "execution_count": 140,
   "id": "d3d68caf",
   "metadata": {},
   "outputs": [],
   "source": [
    "emp_data.clear()"
   ]
  },
  {
   "cell_type": "code",
   "execution_count": 141,
   "id": "a3d338dd",
   "metadata": {},
   "outputs": [
    {
     "data": {
      "text/plain": [
       "{}"
      ]
     },
     "execution_count": 141,
     "metadata": {},
     "output_type": "execute_result"
    }
   ],
   "source": [
    "emp_data"
   ]
  },
  {
   "cell_type": "markdown",
   "id": "42e573c8",
   "metadata": {},
   "source": [
    "# Del"
   ]
  },
  {
   "cell_type": "code",
   "execution_count": 142,
   "id": "9e738173",
   "metadata": {},
   "outputs": [
    {
     "data": {
      "text/plain": [
       "{'emp_1': {'Age': 26, 'Salary': 901000, 'Name': 'Salahuddin'},\n",
       " 'emp_2': {'Age': 27, 'Salary': 1000000, 'Name': 'Abhijeet'},\n",
       " 'emp_3': {'Age': 28, 'Salary': 1000002, 'Name': 'Abhishail'},\n",
       " 'emp_4': {'Age': 29, 'Salary': 1100000, 'Name': 'Abhishek'},\n",
       " 'emp_5': {'Age': 55, 'Salary': 655656, 'Name': 'vgfgvg'},\n",
       " 'emp_6': {'Age': 656, 'Salary': 12312121, 'Name': 'gfd'}}"
      ]
     },
     "execution_count": 142,
     "metadata": {},
     "output_type": "execute_result"
    }
   ],
   "source": [
    "current_emp"
   ]
  },
  {
   "cell_type": "code",
   "execution_count": 143,
   "id": "9e3dbe96",
   "metadata": {},
   "outputs": [],
   "source": [
    "del current_emp"
   ]
  },
  {
   "cell_type": "code",
   "execution_count": 144,
   "id": "c02c3f16",
   "metadata": {},
   "outputs": [
    {
     "ename": "NameError",
     "evalue": "name 'current_emp' is not defined",
     "output_type": "error",
     "traceback": [
      "\u001b[1;31m---------------------------------------------------------------------------\u001b[0m",
      "\u001b[1;31mNameError\u001b[0m                                 Traceback (most recent call last)",
      "Input \u001b[1;32mIn [144]\u001b[0m, in \u001b[0;36m<cell line: 1>\u001b[1;34m()\u001b[0m\n\u001b[1;32m----> 1\u001b[0m \u001b[43mcurrent_emp\u001b[49m\n",
      "\u001b[1;31mNameError\u001b[0m: name 'current_emp' is not defined"
     ]
    }
   ],
   "source": [
    "current_emp"
   ]
  },
  {
   "cell_type": "markdown",
   "id": "21b4c2a1",
   "metadata": {},
   "source": [
    "# copy"
   ]
  },
  {
   "cell_type": "code",
   "execution_count": 146,
   "id": "142c89d6",
   "metadata": {},
   "outputs": [
    {
     "name": "stdout",
     "output_type": "stream",
     "text": [
      "2614044106560\n",
      "2614044106560\n"
     ]
    }
   ],
   "source": [
    "current_emp = {'emp_1': {'Age': 26, 'Salary': 901000, 'Name': 'Salahuddin'},\n",
    " 'emp_2': {'Age': 27, 'Salary': 1000000, 'Name': 'Abhijeet'},\n",
    " 'emp_3': {'Age': 28, 'Salary': 1000002, 'Name': 'Abhishail'},\n",
    " 'emp_4': {'Age': 29, 'Salary': 1100000, 'Name': 'Abhishek'},\n",
    " 'emp_5': {'Age': 55, 'Salary': 655656, 'Name': 'vgfgvg'},\n",
    " 'emp_6': {'Age': 656, 'Salary': 12312121, 'Name': 'gfd'}}\n",
    "\n",
    "\n",
    "b = current_emp # aliasing\n",
    "\n",
    "\n",
    "print(id(current_emp))\n",
    "print(id(b))"
   ]
  },
  {
   "cell_type": "code",
   "execution_count": 147,
   "id": "b0668422",
   "metadata": {},
   "outputs": [
    {
     "name": "stdout",
     "output_type": "stream",
     "text": [
      "2614040046080\n",
      "2614040045056\n"
     ]
    }
   ],
   "source": [
    "current_emp = {'emp_1': {'Age': 26, 'Salary': 901000, 'Name': 'Salahuddin'},\n",
    " 'emp_2': {'Age': 27, 'Salary': 1000000, 'Name': 'Abhijeet'},\n",
    " 'emp_3': {'Age': 28, 'Salary': 1000002, 'Name': 'Abhishail'},\n",
    " 'emp_4': {'Age': 29, 'Salary': 1100000, 'Name': 'Abhishek'},\n",
    " 'emp_5': {'Age': 55, 'Salary': 655656, 'Name': 'vgfgvg'},\n",
    " 'emp_6': {'Age': 656, 'Salary': 12312121, 'Name': 'gfd'}}\n",
    "\n",
    "\n",
    "b = current_emp.copy() # shallow copy\n",
    "\n",
    "\n",
    "print(id(current_emp))\n",
    "print(id(b))"
   ]
  },
  {
   "cell_type": "markdown",
   "id": "7f2a89e1",
   "metadata": {},
   "source": [
    "# fromkeys"
   ]
  },
  {
   "cell_type": "code",
   "execution_count": 148,
   "id": "d5f51bc3",
   "metadata": {},
   "outputs": [],
   "source": [
    "d1 = dict.fromkeys([1,2,3,4,5,6,7,8,9,10])"
   ]
  },
  {
   "cell_type": "code",
   "execution_count": 149,
   "id": "27a81527",
   "metadata": {},
   "outputs": [
    {
     "data": {
      "text/plain": [
       "{1: None,\n",
       " 2: None,\n",
       " 3: None,\n",
       " 4: None,\n",
       " 5: None,\n",
       " 6: None,\n",
       " 7: None,\n",
       " 8: None,\n",
       " 9: None,\n",
       " 10: None}"
      ]
     },
     "execution_count": 149,
     "metadata": {},
     "output_type": "execute_result"
    }
   ],
   "source": [
    "d1"
   ]
  },
  {
   "cell_type": "code",
   "execution_count": 150,
   "id": "737f8938",
   "metadata": {},
   "outputs": [],
   "source": [
    "d1 = dict.fromkeys([1,2,3,4,5,6,7,8,9,10] , 0)"
   ]
  },
  {
   "cell_type": "code",
   "execution_count": 151,
   "id": "a5b7af51",
   "metadata": {},
   "outputs": [
    {
     "data": {
      "text/plain": [
       "{1: 0, 2: 0, 3: 0, 4: 0, 5: 0, 6: 0, 7: 0, 8: 0, 9: 0, 10: 0}"
      ]
     },
     "execution_count": 151,
     "metadata": {},
     "output_type": "execute_result"
    }
   ],
   "source": [
    "d1"
   ]
  },
  {
   "cell_type": "code",
   "execution_count": 155,
   "id": "31cee85f",
   "metadata": {},
   "outputs": [],
   "source": [
    "d1 = dict.fromkeys([1,2,3,4,5,6,7,8,9,10] , [1,2,3,4,5,6,7,8,9,10])"
   ]
  },
  {
   "cell_type": "code",
   "execution_count": 156,
   "id": "a43ad2f5",
   "metadata": {},
   "outputs": [
    {
     "data": {
      "text/plain": [
       "{1: [1, 2, 3, 4, 5, 6, 7, 8, 9, 10],\n",
       " 2: [1, 2, 3, 4, 5, 6, 7, 8, 9, 10],\n",
       " 3: [1, 2, 3, 4, 5, 6, 7, 8, 9, 10],\n",
       " 4: [1, 2, 3, 4, 5, 6, 7, 8, 9, 10],\n",
       " 5: [1, 2, 3, 4, 5, 6, 7, 8, 9, 10],\n",
       " 6: [1, 2, 3, 4, 5, 6, 7, 8, 9, 10],\n",
       " 7: [1, 2, 3, 4, 5, 6, 7, 8, 9, 10],\n",
       " 8: [1, 2, 3, 4, 5, 6, 7, 8, 9, 10],\n",
       " 9: [1, 2, 3, 4, 5, 6, 7, 8, 9, 10],\n",
       " 10: [1, 2, 3, 4, 5, 6, 7, 8, 9, 10]}"
      ]
     },
     "execution_count": 156,
     "metadata": {},
     "output_type": "execute_result"
    }
   ],
   "source": [
    "d1"
   ]
  },
  {
   "cell_type": "code",
   "execution_count": 157,
   "id": "59d9098d",
   "metadata": {},
   "outputs": [
    {
     "data": {
      "text/plain": [
       "{0: 0,\n",
       " 1: 0,\n",
       " 2: 0,\n",
       " 3: 0,\n",
       " 4: 0,\n",
       " 5: 0,\n",
       " 6: 0,\n",
       " 7: 0,\n",
       " 8: 0,\n",
       " 9: 0,\n",
       " 10: 0,\n",
       " 11: 0,\n",
       " 12: 0,\n",
       " 13: 0,\n",
       " 14: 0,\n",
       " 15: 0,\n",
       " 16: 0,\n",
       " 17: 0,\n",
       " 18: 0,\n",
       " 19: 0,\n",
       " 20: 0,\n",
       " 21: 0,\n",
       " 22: 0,\n",
       " 23: 0,\n",
       " 24: 0,\n",
       " 25: 0,\n",
       " 26: 0,\n",
       " 27: 0,\n",
       " 28: 0,\n",
       " 29: 0,\n",
       " 30: 0,\n",
       " 31: 0,\n",
       " 32: 0,\n",
       " 33: 0,\n",
       " 34: 0,\n",
       " 35: 0,\n",
       " 36: 0,\n",
       " 37: 0,\n",
       " 38: 0,\n",
       " 39: 0,\n",
       " 40: 0,\n",
       " 41: 0,\n",
       " 42: 0,\n",
       " 43: 0,\n",
       " 44: 0,\n",
       " 45: 0,\n",
       " 46: 0,\n",
       " 47: 0,\n",
       " 48: 0,\n",
       " 49: 0,\n",
       " 50: 0,\n",
       " 51: 0,\n",
       " 52: 0,\n",
       " 53: 0,\n",
       " 54: 0,\n",
       " 55: 0,\n",
       " 56: 0,\n",
       " 57: 0,\n",
       " 58: 0,\n",
       " 59: 0,\n",
       " 60: 0,\n",
       " 61: 0,\n",
       " 62: 0,\n",
       " 63: 0,\n",
       " 64: 0,\n",
       " 65: 0,\n",
       " 66: 0,\n",
       " 67: 0,\n",
       " 68: 0,\n",
       " 69: 0,\n",
       " 70: 0,\n",
       " 71: 0,\n",
       " 72: 0,\n",
       " 73: 0,\n",
       " 74: 0,\n",
       " 75: 0,\n",
       " 76: 0,\n",
       " 77: 0,\n",
       " 78: 0,\n",
       " 79: 0,\n",
       " 80: 0,\n",
       " 81: 0,\n",
       " 82: 0,\n",
       " 83: 0,\n",
       " 84: 0,\n",
       " 85: 0,\n",
       " 86: 0,\n",
       " 87: 0,\n",
       " 88: 0,\n",
       " 89: 0,\n",
       " 90: 0,\n",
       " 91: 0,\n",
       " 92: 0,\n",
       " 93: 0,\n",
       " 94: 0,\n",
       " 95: 0,\n",
       " 96: 0,\n",
       " 97: 0,\n",
       " 98: 0,\n",
       " 99: 0}"
      ]
     },
     "execution_count": 157,
     "metadata": {},
     "output_type": "execute_result"
    }
   ],
   "source": [
    "d1 = dict.fromkeys(range(100) , 0)\n",
    "d1"
   ]
  },
  {
   "cell_type": "code",
   "execution_count": 158,
   "id": "c8b7438e",
   "metadata": {},
   "outputs": [],
   "source": [
    "d1[13] = 1"
   ]
  },
  {
   "cell_type": "code",
   "execution_count": 159,
   "id": "531abf20",
   "metadata": {},
   "outputs": [
    {
     "data": {
      "text/plain": [
       "{0: 0,\n",
       " 1: 0,\n",
       " 2: 0,\n",
       " 3: 0,\n",
       " 4: 0,\n",
       " 5: 0,\n",
       " 6: 0,\n",
       " 7: 0,\n",
       " 8: 0,\n",
       " 9: 0,\n",
       " 10: 0,\n",
       " 11: 0,\n",
       " 12: 0,\n",
       " 13: 1,\n",
       " 14: 0,\n",
       " 15: 0,\n",
       " 16: 0,\n",
       " 17: 0,\n",
       " 18: 0,\n",
       " 19: 0,\n",
       " 20: 0,\n",
       " 21: 0,\n",
       " 22: 0,\n",
       " 23: 0,\n",
       " 24: 0,\n",
       " 25: 0,\n",
       " 26: 0,\n",
       " 27: 0,\n",
       " 28: 0,\n",
       " 29: 0,\n",
       " 30: 0,\n",
       " 31: 0,\n",
       " 32: 0,\n",
       " 33: 0,\n",
       " 34: 0,\n",
       " 35: 0,\n",
       " 36: 0,\n",
       " 37: 0,\n",
       " 38: 0,\n",
       " 39: 0,\n",
       " 40: 0,\n",
       " 41: 0,\n",
       " 42: 0,\n",
       " 43: 0,\n",
       " 44: 0,\n",
       " 45: 0,\n",
       " 46: 0,\n",
       " 47: 0,\n",
       " 48: 0,\n",
       " 49: 0,\n",
       " 50: 0,\n",
       " 51: 0,\n",
       " 52: 0,\n",
       " 53: 0,\n",
       " 54: 0,\n",
       " 55: 0,\n",
       " 56: 0,\n",
       " 57: 0,\n",
       " 58: 0,\n",
       " 59: 0,\n",
       " 60: 0,\n",
       " 61: 0,\n",
       " 62: 0,\n",
       " 63: 0,\n",
       " 64: 0,\n",
       " 65: 0,\n",
       " 66: 0,\n",
       " 67: 0,\n",
       " 68: 0,\n",
       " 69: 0,\n",
       " 70: 0,\n",
       " 71: 0,\n",
       " 72: 0,\n",
       " 73: 0,\n",
       " 74: 0,\n",
       " 75: 0,\n",
       " 76: 0,\n",
       " 77: 0,\n",
       " 78: 0,\n",
       " 79: 0,\n",
       " 80: 0,\n",
       " 81: 0,\n",
       " 82: 0,\n",
       " 83: 0,\n",
       " 84: 0,\n",
       " 85: 0,\n",
       " 86: 0,\n",
       " 87: 0,\n",
       " 88: 0,\n",
       " 89: 0,\n",
       " 90: 0,\n",
       " 91: 0,\n",
       " 92: 0,\n",
       " 93: 0,\n",
       " 94: 0,\n",
       " 95: 0,\n",
       " 96: 0,\n",
       " 97: 0,\n",
       " 98: 0,\n",
       " 99: 0}"
      ]
     },
     "execution_count": 159,
     "metadata": {},
     "output_type": "execute_result"
    }
   ],
   "source": [
    "d1"
   ]
  },
  {
   "cell_type": "code",
   "execution_count": 161,
   "id": "292314b3",
   "metadata": {},
   "outputs": [
    {
     "data": {
      "text/plain": [
       "{'a': 5, 'b': 5, 'c': 5, 'd': 5, 'e': 5, 'f': 5}"
      ]
     },
     "execution_count": 161,
     "metadata": {},
     "output_type": "execute_result"
    }
   ],
   "source": [
    "list_of_student = ['a' , 'b' , 'c' , 'd' , 'e' , 'f']\n",
    "\n",
    "\n",
    "# \n",
    "dict_students = dict.fromkeys(list_of_student , 5)\n",
    "\n",
    "dict_students"
   ]
  },
  {
   "cell_type": "code",
   "execution_count": 162,
   "id": "a25f4a5b",
   "metadata": {},
   "outputs": [],
   "source": [
    "dict_students['d'] = 15"
   ]
  },
  {
   "cell_type": "code",
   "execution_count": 163,
   "id": "91348359",
   "metadata": {},
   "outputs": [
    {
     "data": {
      "text/plain": [
       "{'a': 5, 'b': 5, 'c': 5, 'd': 15, 'e': 5, 'f': 5}"
      ]
     },
     "execution_count": 163,
     "metadata": {},
     "output_type": "execute_result"
    }
   ],
   "source": [
    "dict_students"
   ]
  },
  {
   "cell_type": "markdown",
   "id": "04894f6b",
   "metadata": {},
   "source": [
    "# Range"
   ]
  },
  {
   "cell_type": "code",
   "execution_count": null,
   "id": "0b48f7e8",
   "metadata": {},
   "outputs": [],
   "source": [
    "- It is used a lot in for loop\n",
    "- syntax \n",
    "range(start_value , stop_value , step)\n",
    "\n",
    "start value is inclusive\n",
    "stop value is exclusive\n",
    "\n",
    "\n",
    "default\n",
    "start value 0\n",
    "stop value has to given by the user\n",
    "step value is 1"
   ]
  },
  {
   "cell_type": "code",
   "execution_count": 166,
   "id": "3b905eef",
   "metadata": {},
   "outputs": [
    {
     "data": {
      "text/plain": [
       "[1, 2, 3, 4, 5, 6, 7, 8, 9]"
      ]
     },
     "execution_count": 166,
     "metadata": {},
     "output_type": "execute_result"
    }
   ],
   "source": [
    "list(range(1,10))"
   ]
  },
  {
   "cell_type": "code",
   "execution_count": 167,
   "id": "418ee857",
   "metadata": {},
   "outputs": [
    {
     "data": {
      "text/plain": [
       "[0, 2, 4, 6, 8]"
      ]
     },
     "execution_count": 167,
     "metadata": {},
     "output_type": "execute_result"
    }
   ],
   "source": [
    "list(range(0,10 , 2))"
   ]
  },
  {
   "cell_type": "code",
   "execution_count": 168,
   "id": "ae32a72d",
   "metadata": {},
   "outputs": [
    {
     "data": {
      "text/plain": [
       "[-1, -2, -3, -4, -5, -6, -7, -8, -9, -10]"
      ]
     },
     "execution_count": 168,
     "metadata": {},
     "output_type": "execute_result"
    }
   ],
   "source": [
    "list(range(-1,-11 , -1))"
   ]
  },
  {
   "cell_type": "code",
   "execution_count": null,
   "id": "b888f891",
   "metadata": {},
   "outputs": [],
   "source": [
    "-1 , -2 , -3 ----> -10"
   ]
  },
  {
   "cell_type": "code",
   "execution_count": 169,
   "id": "5df1a1f2",
   "metadata": {},
   "outputs": [
    {
     "data": {
      "text/plain": [
       "[]"
      ]
     },
     "execution_count": 169,
     "metadata": {},
     "output_type": "execute_result"
    }
   ],
   "source": [
    "list(range(-1,-11 ))"
   ]
  },
  {
   "cell_type": "markdown",
   "id": "f853d4e3",
   "metadata": {},
   "source": [
    "# Set"
   ]
  },
  {
   "cell_type": "markdown",
   "id": "a3ee15f1",
   "metadata": {},
   "source": [
    "- collection of unique values and is not a seq data type\n",
    "- indexing and slicing is not possible\n",
    "- It is a mutable data type\n",
    "- It cannot contain a mutable datatype\n"
   ]
  },
  {
   "cell_type": "code",
   "execution_count": 170,
   "id": "084064d0",
   "metadata": {},
   "outputs": [
    {
     "name": "stdout",
     "output_type": "stream",
     "text": [
      "{1, 2, 3, 4, 54} <class 'set'>\n"
     ]
    }
   ],
   "source": [
    "a = {1,2,3,3,4,54}\n",
    "\n",
    "print(a , type(a))"
   ]
  },
  {
   "cell_type": "code",
   "execution_count": 171,
   "id": "74014a3f",
   "metadata": {},
   "outputs": [
    {
     "ename": "TypeError",
     "evalue": "'set' object is not subscriptable",
     "output_type": "error",
     "traceback": [
      "\u001b[1;31m---------------------------------------------------------------------------\u001b[0m",
      "\u001b[1;31mTypeError\u001b[0m                                 Traceback (most recent call last)",
      "Input \u001b[1;32mIn [171]\u001b[0m, in \u001b[0;36m<cell line: 3>\u001b[1;34m()\u001b[0m\n\u001b[0;32m      1\u001b[0m a \u001b[38;5;241m=\u001b[39m {\u001b[38;5;241m1\u001b[39m,\u001b[38;5;241m2\u001b[39m,\u001b[38;5;241m3\u001b[39m,\u001b[38;5;241m3\u001b[39m,\u001b[38;5;241m4\u001b[39m,\u001b[38;5;241m54\u001b[39m}\n\u001b[1;32m----> 3\u001b[0m \u001b[38;5;28mprint\u001b[39m(\u001b[43ma\u001b[49m\u001b[43m[\u001b[49m\u001b[38;5;241;43m0\u001b[39;49m\u001b[43m]\u001b[49m)\n",
      "\u001b[1;31mTypeError\u001b[0m: 'set' object is not subscriptable"
     ]
    }
   ],
   "source": [
    "a = {1,2,3,3,4,54}\n",
    "\n",
    "print(a[0])"
   ]
  },
  {
   "cell_type": "code",
   "execution_count": 173,
   "id": "ecbe5885",
   "metadata": {},
   "outputs": [
    {
     "name": "stdout",
     "output_type": "stream",
     "text": [
      "['__and__', '__class__', '__class_getitem__', '__contains__', '__delattr__', '__dir__', '__doc__', '__eq__', '__format__', '__ge__', '__getattribute__', '__gt__', '__hash__', '__iand__', '__init__', '__init_subclass__', '__ior__', '__isub__', '__iter__', '__ixor__', '__le__', '__len__', '__lt__', '__ne__', '__new__', '__or__', '__rand__', '__reduce__', '__reduce_ex__', '__repr__', '__ror__', '__rsub__', '__rxor__', '__setattr__', '__sizeof__', '__str__', '__sub__', '__subclasshook__', '__xor__', 'add', 'clear', 'copy', 'difference', 'difference_update', 'discard', 'intersection', 'intersection_update', 'isdisjoint', 'issubset', 'issuperset', 'pop', 'remove', 'symmetric_difference', 'symmetric_difference_update', 'union', 'update']\n"
     ]
    }
   ],
   "source": [
    "print(dir(set))"
   ]
  },
  {
   "cell_type": "code",
   "execution_count": 174,
   "id": "5fc06e7a",
   "metadata": {},
   "outputs": [
    {
     "name": "stdout",
     "output_type": "stream",
     "text": [
      "{1, 2, 3, 4, 5, 6}\n"
     ]
    }
   ],
   "source": [
    "a = {1,2,3,4,5}\n",
    "\n",
    "a.add(6)\n",
    "\n",
    "print(a)"
   ]
  },
  {
   "cell_type": "code",
   "execution_count": 175,
   "id": "b3563cbf",
   "metadata": {},
   "outputs": [
    {
     "name": "stdout",
     "output_type": "stream",
     "text": [
      "{1, 2.5, 'str', (4+7j), (1, 2, 3), None}\n"
     ]
    }
   ],
   "source": [
    "a = {1,2.5,'str',4+7j,None , True , (1,2,3)}\n",
    "\n",
    "print(a)"
   ]
  },
  {
   "cell_type": "code",
   "execution_count": 178,
   "id": "68e957b5",
   "metadata": {},
   "outputs": [
    {
     "ename": "TypeError",
     "evalue": "unhashable type: 'set'",
     "output_type": "error",
     "traceback": [
      "\u001b[1;31m---------------------------------------------------------------------------\u001b[0m",
      "\u001b[1;31mTypeError\u001b[0m                                 Traceback (most recent call last)",
      "Input \u001b[1;32mIn [178]\u001b[0m, in \u001b[0;36m<cell line: 1>\u001b[1;34m()\u001b[0m\n\u001b[1;32m----> 1\u001b[0m a \u001b[38;5;241m=\u001b[39m {\u001b[38;5;241m1\u001b[39m,\u001b[38;5;241m2.5\u001b[39m,\u001b[38;5;124m'\u001b[39m\u001b[38;5;124mstr\u001b[39m\u001b[38;5;124m'\u001b[39m,\u001b[38;5;241m4\u001b[39m\u001b[38;5;241m+\u001b[39m\u001b[38;5;241m7\u001b[39mj,\u001b[38;5;28;01mNone\u001b[39;00m , \u001b[38;5;28;01mTrue\u001b[39;00m , (\u001b[38;5;241m1\u001b[39m,\u001b[38;5;241m2\u001b[39m,\u001b[38;5;241m3\u001b[39m) ,{\u001b[38;5;241m1\u001b[39m,\u001b[38;5;241m2\u001b[39m,\u001b[38;5;241m3\u001b[39m}}\n\u001b[0;32m      5\u001b[0m \u001b[38;5;28mprint\u001b[39m(a)\n",
      "\u001b[1;31mTypeError\u001b[0m: unhashable type: 'set'"
     ]
    }
   ],
   "source": [
    "a = {1,2.5,'str',4+7j,None , True , (1,2,3) ,{1,2,3}}\n",
    "\n",
    "\n",
    "\n",
    "print(a)"
   ]
  },
  {
   "cell_type": "code",
   "execution_count": null,
   "id": "2b401b2e",
   "metadata": {},
   "outputs": [],
   "source": [
    "# deriveved \n",
    "int ->\n",
    "float - >\n",
    "complex\n",
    "bool\n",
    "\n",
    "\n",
    "# immutable \n",
    "- string\n",
    "- tuple\n",
    "\n",
    "\n",
    "# mutable\n",
    "- list\n",
    "- dict\n",
    "- set"
   ]
  },
  {
   "cell_type": "markdown",
   "id": "be8030b3",
   "metadata": {},
   "source": [
    "# Conditional statements"
   ]
  },
  {
   "cell_type": "code",
   "execution_count": null,
   "id": "59486c21",
   "metadata": {},
   "outputs": [],
   "source": [
    "stat1\n",
    "stat2\n",
    "stat3\n",
    "if condit 1:\n",
    "    stat4\n",
    "    stat5\n",
    "stat6\n",
    "stat7\n",
    "\n",
    "# If the condition is false -1,2,3,6,7"
   ]
  },
  {
   "cell_type": "code",
   "execution_count": null,
   "id": "a7e9b258",
   "metadata": {},
   "outputs": [],
   "source": [
    "stat1\n",
    "stat2\n",
    "stat3\n",
    "if condit 1:\n",
    "    stat4\n",
    "    stat5\n",
    "stat6\n",
    "stat7\n",
    "\n",
    "# If the condition is true -1,2,3,4,5,6,7"
   ]
  },
  {
   "cell_type": "markdown",
   "id": "d6733257",
   "metadata": {},
   "source": [
    "# if else"
   ]
  },
  {
   "cell_type": "code",
   "execution_count": null,
   "id": "a3354bca",
   "metadata": {},
   "outputs": [],
   "source": [
    "stat1\n",
    "stat2\n",
    "stat3\n",
    "if condit 1:\n",
    "    stat4\n",
    "    stat5\n",
    "else:\n",
    "    stat8\n",
    "    stat9\n",
    "stat6\n",
    "stat7\n",
    "\n",
    "# If the condition is true - 1,2,3,4,5,6,7"
   ]
  },
  {
   "cell_type": "code",
   "execution_count": null,
   "id": "f8c53d17",
   "metadata": {},
   "outputs": [],
   "source": [
    "stat1\n",
    "stat2\n",
    "stat3\n",
    "if condit 1:\n",
    "    stat4\n",
    "    stat5\n",
    "else:\n",
    "    stat8\n",
    "    stat9\n",
    "stat6\n",
    "stat7\n",
    "\n",
    "# If the condition is false - 1,2,3,8,9,6,7"
   ]
  },
  {
   "cell_type": "code",
   "execution_count": null,
   "id": "f6c1ac7e",
   "metadata": {},
   "outputs": [],
   "source": [
    "# Multiple\n",
    "stat1\n",
    "stat2\n",
    "stat3\n",
    "if condit 1:\n",
    "    stat4\n",
    "    stat5\n",
    "if condit 2:\n",
    "    stat10\n",
    "    stat11\n",
    "if condit 3:\n",
    "    stat12\n",
    "    stat13\n",
    "else:\n",
    "    stat8\n",
    "    stat9\n",
    "stat6\n",
    "stat7\n",
    "\n",
    "# If the condition 1,3 is false - 1,2,3,10,11,8,9,6,7"
   ]
  },
  {
   "cell_type": "code",
   "execution_count": null,
   "id": "71e72a60",
   "metadata": {},
   "outputs": [],
   "source": [
    "# Multiple\n",
    "stat1\n",
    "stat2\n",
    "stat3\n",
    "if condit 1:\n",
    "    stat4\n",
    "    stat5\n",
    "else:\n",
    "    stat14\n",
    "    stat15\n",
    "if condit 2:\n",
    "    stat10\n",
    "    stat11\n",
    "if condit 3:\n",
    "    stat12\n",
    "    stat13\n",
    "else:\n",
    "    stat8\n",
    "    stat9\n",
    "stat6\n",
    "stat7\n",
    "\n",
    "# If the condition 1,3 is false - 1,2,3,14,15,10,11,8,9,6,7"
   ]
  },
  {
   "cell_type": "code",
   "execution_count": null,
   "id": "eaaac527",
   "metadata": {},
   "outputs": [],
   "source": [
    "# if , else , elif"
   ]
  },
  {
   "cell_type": "code",
   "execution_count": null,
   "id": "30c964a6",
   "metadata": {},
   "outputs": [],
   "source": [
    "# elif\n",
    "\n",
    "stat1\n",
    "stat2\n",
    "stat3\n",
    "if condit 1:\n",
    "    stat4\n",
    "    stat5\n",
    "elif condit 2:\n",
    "    stat10\n",
    "    stat11\n",
    "elif condit 3:\n",
    "    stat12\n",
    "    stat13\n",
    "else:\n",
    "    stat8\n",
    "    stat9\n",
    "stat6\n",
    "stat7\n",
    "\n",
    "# If the condition 1,3 is false - 1,2,3,10,11,8,9,6,7"
   ]
  },
  {
   "cell_type": "code",
   "execution_count": 186,
   "id": "9fd6e9c0",
   "metadata": {},
   "outputs": [
    {
     "name": "stdout",
     "output_type": "stream",
     "text": [
      "world\n",
      "python\n"
     ]
    }
   ],
   "source": [
    "a = 10\n",
    "b = 20\n",
    "\n",
    "\n",
    "if a > b: #f \n",
    "    print('hello')\n",
    "    \n",
    "\n",
    "if a == b: # f\n",
    "    print('hello')\n",
    "else:\n",
    "    print('world')\n",
    "    \n",
    "print('python')"
   ]
  },
  {
   "cell_type": "code",
   "execution_count": 187,
   "id": "949e96c6",
   "metadata": {},
   "outputs": [
    {
     "name": "stdout",
     "output_type": "stream",
     "text": [
      "world\n",
      "python\n"
     ]
    }
   ],
   "source": [
    "a = 10\n",
    "b = 20\n",
    "\n",
    "\n",
    "if a > b: #f \n",
    "    print('hello')\n",
    "    \n",
    "\n",
    "elif a == b: # f\n",
    "    print('hello')\n",
    "else:\n",
    "    print('world')\n",
    "    \n",
    "print('python')"
   ]
  },
  {
   "cell_type": "code",
   "execution_count": null,
   "id": "6e22b5cc",
   "metadata": {},
   "outputs": [],
   "source": [
    "# Write a program where if you trigger the code\n",
    "\n",
    "\n",
    "enter a number between 1 - 6 , \n",
    "\n",
    "1 --> one\n",
    "4 ---> four\n",
    "\n",
    "\n",
    "'Number out of range'\n",
    "\n",
    "2.2 --> 'Invalid number' "
   ]
  },
  {
   "cell_type": "code",
   "execution_count": 189,
   "id": "28425643",
   "metadata": {},
   "outputs": [
    {
     "name": "stdout",
     "output_type": "stream",
     "text": [
      "hello\n"
     ]
    }
   ],
   "source": [
    "a = 2.2\n",
    "\n",
    "if a<6 and a>0:\n",
    "    print('hello')"
   ]
  },
  {
   "cell_type": "code",
   "execution_count": 215,
   "id": "e812da2c",
   "metadata": {},
   "outputs": [
    {
     "name": "stdout",
     "output_type": "stream",
     "text": [
      "Enter a number : 2.6\n",
      "Invalid number\n"
     ]
    }
   ],
   "source": [
    "a = eval(input('Enter a number : '))\n",
    "if a>=6 or a<=1:\n",
    "    print('Number out of range')\n",
    "else:\n",
    "    if a == 1:\n",
    "        print('one')\n",
    "    elif a == 2:\n",
    "        print('two')\n",
    "    elif a ==3:\n",
    "        print('three')\n",
    "    elif a == 4:\n",
    "        print('four')\n",
    "    elif a == 5:\n",
    "        print('five')\n",
    "    elif a == 6:\n",
    "        print('six')\n",
    "    else:\n",
    "        print('Invalid number')"
   ]
  },
  {
   "cell_type": "code",
   "execution_count": 206,
   "id": "9078e3fc",
   "metadata": {},
   "outputs": [
    {
     "data": {
      "text/plain": [
       "float"
      ]
     },
     "execution_count": 206,
     "metadata": {},
     "output_type": "execute_result"
    }
   ],
   "source": [
    "type(eval('123.5'))"
   ]
  },
  {
   "cell_type": "code",
   "execution_count": 207,
   "id": "0869483e",
   "metadata": {},
   "outputs": [
    {
     "name": "stdout",
     "output_type": "stream",
     "text": [
      "123 <class 'int'>\n"
     ]
    }
   ],
   "source": [
    "a = '123'\n",
    "\n",
    "print(int(a) , type(int(a)))"
   ]
  },
  {
   "cell_type": "code",
   "execution_count": 214,
   "id": "4900ca4b",
   "metadata": {},
   "outputs": [
    {
     "name": "stdout",
     "output_type": "stream",
     "text": [
      "123.6 <class 'float'>\n"
     ]
    }
   ],
   "source": [
    "a = eval('123.6')\n",
    "\n",
    "print((a) , type((a)))"
   ]
  },
  {
   "cell_type": "code",
   "execution_count": null,
   "id": "68a845d5",
   "metadata": {},
   "outputs": [],
   "source": [
    "w = {1:'One',2:'Two',3:'Three',4:'Four',5:'Five',6:'Six'}\n",
    "num = eval(input('Enter a number : '))\n",
    "if type(num) != int:\n",
    "    print('Invalid Number')\n",
    "else:\n",
    "    if num >=1 and num <=6:\n",
    "        print(w[num])\n",
    "    else:\n",
    "        print('Number out is range')\n"
   ]
  },
  {
   "cell_type": "code",
   "execution_count": null,
   "id": "b78868bb",
   "metadata": {},
   "outputs": [],
   "source": [
    "# basic calculator\n",
    "\n",
    "\n",
    "1 - enter the first number\n",
    "2 - enter the second number\n",
    "3 - + , -, * , /\n",
    "4 - // --> invalid operator\n"
   ]
  },
  {
   "cell_type": "code",
   "execution_count": null,
   "id": "0e3efc47",
   "metadata": {},
   "outputs": [],
   "source": []
  },
  {
   "cell_type": "code",
   "execution_count": null,
   "id": "6307da0a",
   "metadata": {},
   "outputs": [],
   "source": []
  },
  {
   "cell_type": "code",
   "execution_count": null,
   "id": "aaa2e09d",
   "metadata": {},
   "outputs": [],
   "source": []
  }
 ],
 "metadata": {
  "kernelspec": {
   "display_name": "Python 3 (ipykernel)",
   "language": "python",
   "name": "python3"
  },
  "language_info": {
   "codemirror_mode": {
    "name": "ipython",
    "version": 3
   },
   "file_extension": ".py",
   "mimetype": "text/x-python",
   "name": "python",
   "nbconvert_exporter": "python",
   "pygments_lexer": "ipython3",
   "version": "3.9.12"
  }
 },
 "nbformat": 4,
 "nbformat_minor": 5
}
