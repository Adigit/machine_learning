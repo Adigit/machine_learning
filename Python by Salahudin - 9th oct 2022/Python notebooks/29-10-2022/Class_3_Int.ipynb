{
 "cells": [
  {
   "cell_type": "markdown",
   "id": "caf4eacc",
   "metadata": {},
   "source": [
    "# Constants , variables and identifiers \n",
    "\n",
    "\n",
    "- Identifier - any name used in python like variable names , function names , class names , constants"
   ]
  },
  {
   "cell_type": "code",
   "execution_count": null,
   "id": "a79ff99d",
   "metadata": {},
   "outputs": [],
   "source": [
    "a = 10"
   ]
  },
  {
   "cell_type": "code",
   "execution_count": null,
   "id": "ee009572",
   "metadata": {},
   "outputs": [],
   "source": [
    "123hello = 'string'"
   ]
  },
  {
   "cell_type": "code",
   "execution_count": null,
   "id": "596ed4f7",
   "metadata": {},
   "outputs": [],
   "source": [
    "def user_defined(a,b):\n",
    "    a+b"
   ]
  },
  {
   "cell_type": "code",
   "execution_count": 15,
   "id": "27f10ba8",
   "metadata": {},
   "outputs": [
    {
     "name": "stdout",
     "output_type": "stream",
     "text": [
      "<class 'int'>\n"
     ]
    }
   ],
   "source": [
    "print(type(a))"
   ]
  },
  {
   "cell_type": "code",
   "execution_count": 24,
   "id": "57c83239",
   "metadata": {},
   "outputs": [
    {
     "name": "stdout",
     "output_type": "stream",
     "text": [
      "['False', 'None', 'True', '__peg_parser__', 'and', 'as', 'assert', 'async', 'await', 'break', 'class', 'continue', 'def', 'del', 'elif', 'else', 'except', 'finally', 'for', 'from', 'global', 'if', 'import', 'in', 'is', 'lambda', 'nonlocal', 'not', 'or', 'pass', 'raise', 'return', 'try', 'while', 'with', 'yield']\n"
     ]
    }
   ],
   "source": [
    "import keyword\n",
    "\n",
    "print(keyword.kwlist)"
   ]
  },
  {
   "cell_type": "code",
   "execution_count": 25,
   "id": "6aa744fe",
   "metadata": {},
   "outputs": [
    {
     "ename": "SyntaxError",
     "evalue": "invalid syntax (2458263731.py, line 1)",
     "output_type": "error",
     "traceback": [
      "\u001b[1;36m  Input \u001b[1;32mIn [25]\u001b[1;36m\u001b[0m\n\u001b[1;33m    raise = 20\u001b[0m\n\u001b[1;37m          ^\u001b[0m\n\u001b[1;31mSyntaxError\u001b[0m\u001b[1;31m:\u001b[0m invalid syntax\n"
     ]
    }
   ],
   "source": [
    "raise = 20"
   ]
  },
  {
   "cell_type": "code",
   "execution_count": 27,
   "id": "76c57831",
   "metadata": {},
   "outputs": [
    {
     "name": "stdout",
     "output_type": "stream",
     "text": [
      "['ArithmeticError', 'AssertionError', 'AttributeError', 'BaseException', 'BlockingIOError', 'BrokenPipeError', 'BufferError', 'BytesWarning', 'ChildProcessError', 'ConnectionAbortedError', 'ConnectionError', 'ConnectionRefusedError', 'ConnectionResetError', 'DeprecationWarning', 'EOFError', 'Ellipsis', 'EnvironmentError', 'Exception', 'False', 'FileExistsError', 'FileNotFoundError', 'FloatingPointError', 'FutureWarning', 'GeneratorExit', 'IOError', 'ImportError', 'ImportWarning', 'IndentationError', 'IndexError', 'InterruptedError', 'IsADirectoryError', 'KeyError', 'KeyboardInterrupt', 'LookupError', 'MemoryError', 'ModuleNotFoundError', 'NameError', 'None', 'NotADirectoryError', 'NotImplemented', 'NotImplementedError', 'OSError', 'OverflowError', 'PendingDeprecationWarning', 'PermissionError', 'ProcessLookupError', 'RecursionError', 'ReferenceError', 'ResourceWarning', 'RuntimeError', 'RuntimeWarning', 'StopAsyncIteration', 'StopIteration', 'SyntaxError', 'SyntaxWarning', 'SystemError', 'SystemExit', 'TabError', 'TimeoutError', 'True', 'TypeError', 'UnboundLocalError', 'UnicodeDecodeError', 'UnicodeEncodeError', 'UnicodeError', 'UnicodeTranslateError', 'UnicodeWarning', 'UserWarning', 'ValueError', 'Warning', 'WindowsError', 'ZeroDivisionError', '__IPYTHON__', '__build_class__', '__debug__', '__doc__', '__import__', '__loader__', '__name__', '__package__', '__spec__', 'abs', 'all', 'any', 'ascii', 'bin', 'bool', 'breakpoint', 'bytearray', 'bytes', 'callable', 'chr', 'classmethod', 'compile', 'complex', 'copyright', 'credits', 'delattr', 'dict', 'dir', 'display', 'divmod', 'enumerate', 'eval', 'exec', 'execfile', 'filter', 'float', 'format', 'frozenset', 'get_ipython', 'getattr', 'globals', 'hasattr', 'hash', 'help', 'hex', 'id', 'input', 'int', 'isinstance', 'issubclass', 'iter', 'len', 'license', 'list', 'locals', 'map', 'max', 'memoryview', 'min', 'next', 'object', 'oct', 'open', 'ord', 'pow', 'print', 'property', 'range', 'repr', 'reversed', 'round', 'runfile', 'set', 'setattr', 'slice', 'sorted', 'staticmethod', 'str', 'sum', 'super', 'tuple', 'type', 'vars', 'zip']\n"
     ]
    }
   ],
   "source": [
    "print(dir(__builtins__))"
   ]
  },
  {
   "cell_type": "code",
   "execution_count": 28,
   "id": "64ee840e",
   "metadata": {},
   "outputs": [],
   "source": [
    "oct = 30"
   ]
  },
  {
   "cell_type": "code",
   "execution_count": 1,
   "id": "868040e9",
   "metadata": {},
   "outputs": [
    {
     "name": "stdout",
     "output_type": "stream",
     "text": [
      "20\n",
      "40\n"
     ]
    }
   ],
   "source": [
    "a = 20\n",
    "b = 30\n",
    "c = 40\n",
    "\n",
    "print(a) \n",
    "print(b)\n",
    "print(c)"
   ]
  },
  {
   "cell_type": "markdown",
   "id": "9a08641f",
   "metadata": {},
   "source": [
    "# Blocks and indentation"
   ]
  },
  {
   "cell_type": "code",
   "execution_count": null,
   "id": "3614a4f4",
   "metadata": {},
   "outputs": [],
   "source": [
    "stat1\n",
    "stat2\n",
    "stat3\n",
    "stat4\n",
    "stat5\n",
    "stat6\n",
    "\n",
    "\n",
    "\n",
    "execution --- 1,2,3,4,5,6\n",
    "\n",
    "\n",
    "stat1\n",
    "stat2\n",
    "stat3\n",
    "if condition:\n",
    "    stat7\n",
    "    stat8\n",
    "    stat9\n",
    "stat4\n",
    "stat5\n",
    "stat6\n",
    "\n",
    "\n",
    "e ---- 1,2,3,4,5,6"
   ]
  },
  {
   "cell_type": "code",
   "execution_count": 10,
   "id": "2e7fc649",
   "metadata": {},
   "outputs": [
    {
     "name": "stdout",
     "output_type": "stream",
     "text": [
      "Hello\n",
      "world\n",
      "stat6\n",
      "python\n"
     ]
    }
   ],
   "source": [
    "a = 10\n",
    "\n",
    "print('Hello')\n",
    "print('world')\n",
    "if a > 5:\n",
    "    print('stat6')\n",
    "    \n",
    "if a > 20:\n",
    " print('stat6')\n",
    " print('stat7')\n",
    "print('python')"
   ]
  },
  {
   "cell_type": "markdown",
   "id": "25faca8a",
   "metadata": {},
   "source": [
    "# Integers\n",
    "\n",
    "- Any values without a decimal point"
   ]
  },
  {
   "cell_type": "code",
   "execution_count": 13,
   "id": "176725a9",
   "metadata": {},
   "outputs": [
    {
     "name": "stdout",
     "output_type": "stream",
     "text": [
      "10\n",
      "<class 'int'>\n"
     ]
    }
   ],
   "source": [
    "a = 10\n",
    "print(a)\n",
    "print(type(a))"
   ]
  },
  {
   "cell_type": "markdown",
   "id": "dd5044e9",
   "metadata": {},
   "source": [
    "# Types of operations we can perform on integers"
   ]
  },
  {
   "cell_type": "code",
   "execution_count": null,
   "id": "e7b21c6a",
   "metadata": {},
   "outputs": [],
   "source": [
    "# 1. Arithmetic operations -----> ( + , - , * , /[float division] , // [floor division] , % (modulo) , ** (exponent))"
   ]
  },
  {
   "cell_type": "code",
   "execution_count": 41,
   "id": "18588436",
   "metadata": {},
   "outputs": [
    {
     "name": "stdout",
     "output_type": "stream",
     "text": [
      "30\n",
      "-10\n",
      "4\n",
      "25.0\n",
      "3\n",
      "0\n",
      "16\n"
     ]
    }
   ],
   "source": [
    "print(10+20) # add\n",
    "print(10 - 20) # sub\n",
    "print(2*2) # multi\n",
    "print(100/4) # float division\n",
    "print(10 // 3) # floor division\n",
    "print(10 % 2) # gives you the remainder\n",
    "print(2 ** 4)  # exponent"
   ]
  },
  {
   "cell_type": "code",
   "execution_count": 17,
   "id": "89e0e647",
   "metadata": {},
   "outputs": [
    {
     "name": "stdout",
     "output_type": "stream",
     "text": [
      "25.0\n"
     ]
    }
   ],
   "source": [
    "print(100/4)"
   ]
  },
  {
   "cell_type": "markdown",
   "id": "3755dc64",
   "metadata": {},
   "source": [
    "#### Floor division"
   ]
  },
  {
   "cell_type": "code",
   "execution_count": 18,
   "id": "c8f40604",
   "metadata": {},
   "outputs": [
    {
     "name": "stdout",
     "output_type": "stream",
     "text": [
      "3.3333333333333335\n"
     ]
    }
   ],
   "source": [
    "a = 10\n",
    "b = 3\n",
    "\n",
    "print(a / b)"
   ]
  },
  {
   "cell_type": "code",
   "execution_count": null,
   "id": "2d0388b2",
   "metadata": {},
   "outputs": [],
   "source": [
    "floor value            exact value          cieling value\n",
    "\n",
    "\n",
    "3                             3.333           4"
   ]
  },
  {
   "cell_type": "code",
   "execution_count": 19,
   "id": "a78bbb37",
   "metadata": {},
   "outputs": [
    {
     "name": "stdout",
     "output_type": "stream",
     "text": [
      "3\n"
     ]
    }
   ],
   "source": [
    "a = 10\n",
    "b = 3\n",
    "\n",
    "print(a // b)"
   ]
  },
  {
   "cell_type": "code",
   "execution_count": 20,
   "id": "d3b745fd",
   "metadata": {},
   "outputs": [
    {
     "name": "stdout",
     "output_type": "stream",
     "text": [
      "1.6666666666666667\n"
     ]
    }
   ],
   "source": [
    "a = 10\n",
    "b = 6\n",
    "\n",
    "print(a / b)"
   ]
  },
  {
   "cell_type": "code",
   "execution_count": 21,
   "id": "3d79973e",
   "metadata": {},
   "outputs": [
    {
     "name": "stdout",
     "output_type": "stream",
     "text": [
      "1\n"
     ]
    }
   ],
   "source": [
    "a = 10\n",
    "b = 6\n",
    "\n",
    "print(a // b)"
   ]
  },
  {
   "cell_type": "code",
   "execution_count": 28,
   "id": "3b925fde",
   "metadata": {},
   "outputs": [
    {
     "name": "stdout",
     "output_type": "stream",
     "text": [
      "1\n"
     ]
    }
   ],
   "source": [
    "a = 11\n",
    "b = 6\n",
    "\n",
    "print(a // b)"
   ]
  },
  {
   "cell_type": "code",
   "execution_count": null,
   "id": "0ad8f55f",
   "metadata": {},
   "outputs": [],
   "source": [
    "floor value            exact value          cieling value\n",
    "\n",
    "\n",
    "1                          1.833                  2"
   ]
  },
  {
   "cell_type": "code",
   "execution_count": 29,
   "id": "35bce872",
   "metadata": {},
   "outputs": [
    {
     "name": "stdout",
     "output_type": "stream",
     "text": [
      "-1.8333333333333333\n"
     ]
    }
   ],
   "source": [
    "a = -11\n",
    "b = 6\n",
    "\n",
    "print(a / b)"
   ]
  },
  {
   "cell_type": "code",
   "execution_count": null,
   "id": "90454d6d",
   "metadata": {},
   "outputs": [],
   "source": [
    "floor value "
   ]
  },
  {
   "cell_type": "code",
   "execution_count": 34,
   "id": "b4581c2d",
   "metadata": {},
   "outputs": [
    {
     "name": "stdout",
     "output_type": "stream",
     "text": [
      "-5\n"
     ]
    }
   ],
   "source": [
    "a = -10\n",
    "b = 2\n",
    "\n",
    "print(a // b)"
   ]
  },
  {
   "cell_type": "code",
   "execution_count": 39,
   "id": "5e4145c4",
   "metadata": {},
   "outputs": [
    {
     "name": "stdout",
     "output_type": "stream",
     "text": [
      "1\n"
     ]
    }
   ],
   "source": [
    "a = 10\n",
    "b = 3\n",
    "\n",
    "print(a % b)"
   ]
  },
  {
   "cell_type": "code",
   "execution_count": 40,
   "id": "561b3531",
   "metadata": {},
   "outputs": [
    {
     "name": "stdout",
     "output_type": "stream",
     "text": [
      "8\n"
     ]
    }
   ],
   "source": [
    "print( 2**3)"
   ]
  },
  {
   "cell_type": "code",
   "execution_count": null,
   "id": "eccd2026",
   "metadata": {},
   "outputs": [],
   "source": [
    "# 2. Comparision oerators > , < ,>= , <=\n",
    "\n",
    "- always return bool\n",
    "- can be performed on int and float\n",
    "- can be performed on str and str\n",
    "- can be performed on bool data\n",
    "- cannot be performed on complex"
   ]
  },
  {
   "cell_type": "code",
   "execution_count": 50,
   "id": "039070ec",
   "metadata": {},
   "outputs": [
    {
     "name": "stdout",
     "output_type": "stream",
     "text": [
      "True\n"
     ]
    }
   ],
   "source": [
    "a = 20\n",
    "b = 20\n",
    "\n",
    "print(a <= b)"
   ]
  },
  {
   "cell_type": "code",
   "execution_count": 52,
   "id": "5b0bfb93",
   "metadata": {},
   "outputs": [
    {
     "name": "stdout",
     "output_type": "stream",
     "text": [
      "False\n"
     ]
    }
   ],
   "source": [
    "a = 20.33\n",
    "b = 20.23\n",
    "\n",
    "print(a <= b)"
   ]
  },
  {
   "cell_type": "code",
   "execution_count": 47,
   "id": "81fdbd5c",
   "metadata": {},
   "outputs": [
    {
     "name": "stdout",
     "output_type": "stream",
     "text": [
      "False\n"
     ]
    }
   ],
   "source": [
    "a = 20.64\n",
    "b = 20\n",
    "\n",
    "print(a <= b)"
   ]
  },
  {
   "cell_type": "code",
   "execution_count": 48,
   "id": "88c06a29",
   "metadata": {},
   "outputs": [
    {
     "name": "stdout",
     "output_type": "stream",
     "text": [
      "False\n"
     ]
    }
   ],
   "source": [
    "a = 20.64\n",
    "b = 20\n",
    "\n",
    "print(a <= b)"
   ]
  },
  {
   "cell_type": "code",
   "execution_count": 54,
   "id": "688f95e4",
   "metadata": {},
   "outputs": [
    {
     "ename": "TypeError",
     "evalue": "'<=' not supported between instances of 'str' and 'float'",
     "output_type": "error",
     "traceback": [
      "\u001b[1;31m---------------------------------------------------------------------------\u001b[0m",
      "\u001b[1;31mTypeError\u001b[0m                                 Traceback (most recent call last)",
      "Input \u001b[1;32mIn [54]\u001b[0m, in \u001b[0;36m<cell line: 4>\u001b[1;34m()\u001b[0m\n\u001b[0;32m      1\u001b[0m a \u001b[38;5;241m=\u001b[39m \u001b[38;5;124m'\u001b[39m\u001b[38;5;124m100\u001b[39m\u001b[38;5;124m'\u001b[39m\n\u001b[0;32m      2\u001b[0m b \u001b[38;5;241m=\u001b[39m \u001b[38;5;241m20.5\u001b[39m\n\u001b[1;32m----> 4\u001b[0m \u001b[38;5;28mprint\u001b[39m(\u001b[43ma\u001b[49m\u001b[43m \u001b[49m\u001b[38;5;241;43m<\u001b[39;49m\u001b[38;5;241;43m=\u001b[39;49m\u001b[43m \u001b[49m\u001b[43mb\u001b[49m)\n",
      "\u001b[1;31mTypeError\u001b[0m: '<=' not supported between instances of 'str' and 'float'"
     ]
    }
   ],
   "source": [
    "a = '100'\n",
    "b = 20.5\n",
    "\n",
    "print(a <= b)"
   ]
  },
  {
   "cell_type": "code",
   "execution_count": 57,
   "id": "88832504",
   "metadata": {},
   "outputs": [
    {
     "name": "stdout",
     "output_type": "stream",
     "text": [
      "True\n"
     ]
    }
   ],
   "source": [
    "a = 'Python' # 80\n",
    "b = 'python' # 112\n",
    "\n",
    "print(a < b)"
   ]
  },
  {
   "cell_type": "code",
   "execution_count": 60,
   "id": "10d9372a",
   "metadata": {},
   "outputs": [
    {
     "data": {
      "text/plain": [
       "112"
      ]
     },
     "execution_count": 60,
     "metadata": {},
     "output_type": "execute_result"
    }
   ],
   "source": [
    "ord('p')"
   ]
  },
  {
   "cell_type": "code",
   "execution_count": 61,
   "id": "0c865d35",
   "metadata": {},
   "outputs": [
    {
     "data": {
      "text/plain": [
       "'0b1110000'"
      ]
     },
     "execution_count": 61,
     "metadata": {},
     "output_type": "execute_result"
    }
   ],
   "source": [
    "bin(112)"
   ]
  },
  {
   "cell_type": "code",
   "execution_count": 62,
   "id": "1309aaa2",
   "metadata": {},
   "outputs": [
    {
     "name": "stdout",
     "output_type": "stream",
     "text": [
      "112\n"
     ]
    }
   ],
   "source": [
    "print(0b1110000)"
   ]
  },
  {
   "cell_type": "code",
   "execution_count": 63,
   "id": "b9724647",
   "metadata": {},
   "outputs": [
    {
     "data": {
      "text/plain": [
       "'p'"
      ]
     },
     "execution_count": 63,
     "metadata": {},
     "output_type": "execute_result"
    }
   ],
   "source": [
    "chr(112)"
   ]
  },
  {
   "cell_type": "code",
   "execution_count": 65,
   "id": "97efd913",
   "metadata": {},
   "outputs": [
    {
     "name": "stdout",
     "output_type": "stream",
     "text": [
      "True\n"
     ]
    }
   ],
   "source": [
    "a = True\n",
    "b = False\n",
    "\n",
    "print(a > b)"
   ]
  },
  {
   "cell_type": "code",
   "execution_count": 67,
   "id": "0f2795e1",
   "metadata": {},
   "outputs": [
    {
     "name": "stdout",
     "output_type": "stream",
     "text": [
      "True\n"
     ]
    }
   ],
   "source": [
    "a = True\n",
    "b = 1\n",
    "\n",
    "print(a >= b)"
   ]
  },
  {
   "cell_type": "code",
   "execution_count": 68,
   "id": "1322e4e3",
   "metadata": {},
   "outputs": [
    {
     "ename": "TypeError",
     "evalue": "'>' not supported between instances of 'complex' and 'complex'",
     "output_type": "error",
     "traceback": [
      "\u001b[1;31m---------------------------------------------------------------------------\u001b[0m",
      "\u001b[1;31mTypeError\u001b[0m                                 Traceback (most recent call last)",
      "Input \u001b[1;32mIn [68]\u001b[0m, in \u001b[0;36m<cell line: 4>\u001b[1;34m()\u001b[0m\n\u001b[0;32m      1\u001b[0m a \u001b[38;5;241m=\u001b[39m \u001b[38;5;241m10\u001b[39m\u001b[38;5;241m+\u001b[39m\u001b[38;5;241m9\u001b[39mj\n\u001b[0;32m      2\u001b[0m b \u001b[38;5;241m=\u001b[39m \u001b[38;5;241m4\u001b[39m\u001b[38;5;241m+\u001b[39m\u001b[38;5;241m5\u001b[39mj\n\u001b[1;32m----> 4\u001b[0m \u001b[38;5;28mprint\u001b[39m(\u001b[43ma\u001b[49m\u001b[43m \u001b[49m\u001b[38;5;241;43m>\u001b[39;49m\u001b[43m \u001b[49m\u001b[43mb\u001b[49m)\n",
      "\u001b[1;31mTypeError\u001b[0m: '>' not supported between instances of 'complex' and 'complex'"
     ]
    }
   ],
   "source": [
    "a = 10+9j\n",
    "b = 4+5j\n",
    "\n",
    "print(a > b)"
   ]
  },
  {
   "cell_type": "markdown",
   "id": "c56e9476",
   "metadata": {},
   "source": [
    "# Equality operators \n",
    "- == equals to\n",
    "- != not equals to"
   ]
  },
  {
   "cell_type": "code",
   "execution_count": 70,
   "id": "82b9f964",
   "metadata": {},
   "outputs": [
    {
     "name": "stdout",
     "output_type": "stream",
     "text": [
      "False\n"
     ]
    }
   ],
   "source": [
    "a = 20.33\n",
    "b = '55'\n",
    "\n",
    "print(a == b)"
   ]
  },
  {
   "cell_type": "code",
   "execution_count": 72,
   "id": "a4bc9cef",
   "metadata": {},
   "outputs": [
    {
     "name": "stdout",
     "output_type": "stream",
     "text": [
      "True\n"
     ]
    }
   ],
   "source": [
    "a = 10+9j\n",
    "b = 4+5j\n",
    "\n",
    "print(a != b)"
   ]
  },
  {
   "cell_type": "code",
   "execution_count": 74,
   "id": "4bddc600",
   "metadata": {},
   "outputs": [
    {
     "name": "stdout",
     "output_type": "stream",
     "text": [
      "True\n"
     ]
    }
   ],
   "source": [
    "a = 1000\n",
    "b = 1000\n",
    "\n",
    "print(a == b)"
   ]
  },
  {
   "cell_type": "markdown",
   "id": "c2ba1516",
   "metadata": {},
   "source": [
    "# Logical operators"
   ]
  },
  {
   "cell_type": "code",
   "execution_count": 77,
   "id": "7b1327c3",
   "metadata": {},
   "outputs": [
    {
     "name": "stdout",
     "output_type": "stream",
     "text": [
      "True\n",
      "False\n",
      "False\n"
     ]
    }
   ],
   "source": [
    "print( True and True)\n",
    "print( True and False)\n",
    "print(False and False)"
   ]
  },
  {
   "cell_type": "code",
   "execution_count": 78,
   "id": "b2c1f0b4",
   "metadata": {},
   "outputs": [
    {
     "name": "stdout",
     "output_type": "stream",
     "text": [
      "True\n",
      "True\n",
      "False\n"
     ]
    }
   ],
   "source": [
    "print( True or True)\n",
    "print( True or False)\n",
    "print(False or False)"
   ]
  },
  {
   "cell_type": "code",
   "execution_count": 88,
   "id": "4a4d2e2e",
   "metadata": {},
   "outputs": [
    {
     "name": "stdout",
     "output_type": "stream",
     "text": [
      "True\n"
     ]
    }
   ],
   "source": [
    "a = 10\n",
    "b = 20\n",
    "\n",
    "if a<b and b==a or a<b:\n",
    "    print('True')"
   ]
  },
  {
   "cell_type": "code",
   "execution_count": 85,
   "id": "e2c662ef",
   "metadata": {},
   "outputs": [
    {
     "data": {
      "text/plain": [
       "False"
      ]
     },
     "execution_count": 85,
     "metadata": {},
     "output_type": "execute_result"
    }
   ],
   "source": [
    "True and False"
   ]
  },
  {
   "cell_type": "code",
   "execution_count": 87,
   "id": "cafffbca",
   "metadata": {},
   "outputs": [
    {
     "data": {
      "text/plain": [
       "True"
      ]
     },
     "execution_count": 87,
     "metadata": {},
     "output_type": "execute_result"
    }
   ],
   "source": [
    "False or True"
   ]
  },
  {
   "cell_type": "code",
   "execution_count": 82,
   "id": "7a15357e",
   "metadata": {},
   "outputs": [
    {
     "name": "stdout",
     "output_type": "stream",
     "text": [
      "True\n"
     ]
    }
   ],
   "source": [
    "a = 10\n",
    "b = 20\n",
    "\n",
    "if a<b or b==a:\n",
    "    print('True')"
   ]
  },
  {
   "cell_type": "code",
   "execution_count": 81,
   "id": "2ab20f86",
   "metadata": {},
   "outputs": [
    {
     "data": {
      "text/plain": [
       "True"
      ]
     },
     "execution_count": 81,
     "metadata": {},
     "output_type": "execute_result"
    }
   ],
   "source": [
    "True or False"
   ]
  },
  {
   "cell_type": "code",
   "execution_count": 94,
   "id": "5c434826",
   "metadata": {},
   "outputs": [
    {
     "name": "stdout",
     "output_type": "stream",
     "text": [
      "True\n"
     ]
    }
   ],
   "source": [
    "a = 10\n",
    "b = 20\n",
    "\n",
    "if a<b or b==a and a<b:\n",
    "    print('True')"
   ]
  },
  {
   "cell_type": "code",
   "execution_count": 92,
   "id": "aaa22aa9",
   "metadata": {},
   "outputs": [
    {
     "data": {
      "text/plain": [
       "True"
      ]
     },
     "execution_count": 92,
     "metadata": {},
     "output_type": "execute_result"
    }
   ],
   "source": [
    "True or False"
   ]
  },
  {
   "cell_type": "code",
   "execution_count": 93,
   "id": "3fdebc96",
   "metadata": {},
   "outputs": [
    {
     "data": {
      "text/plain": [
       "True"
      ]
     },
     "execution_count": 93,
     "metadata": {},
     "output_type": "execute_result"
    }
   ],
   "source": [
    "True and True"
   ]
  },
  {
   "cell_type": "markdown",
   "id": "52ccae33",
   "metadata": {},
   "source": [
    "# Type casting\n",
    "\n",
    "\n",
    "1. Converting from one data type to another\n",
    "- int()\n",
    "- float()\n",
    "- str()\n",
    "- bool()\n",
    "- complex()"
   ]
  },
  {
   "cell_type": "code",
   "execution_count": 95,
   "id": "e43e4b45",
   "metadata": {},
   "outputs": [
    {
     "name": "stdout",
     "output_type": "stream",
     "text": [
      "10 <class 'int'>\n"
     ]
    }
   ],
   "source": [
    "# 1st way\n",
    "\n",
    "a = 10\n",
    "print(a , type(a))"
   ]
  },
  {
   "cell_type": "code",
   "execution_count": 96,
   "id": "fe540ef7",
   "metadata": {},
   "outputs": [
    {
     "name": "stdout",
     "output_type": "stream",
     "text": [
      "10.0 <class 'float'>\n"
     ]
    }
   ],
   "source": [
    "# 1st way\n",
    "\n",
    "a = 10\n",
    "print(float(a) , type(float(a)))"
   ]
  },
  {
   "cell_type": "code",
   "execution_count": 97,
   "id": "934a7162",
   "metadata": {},
   "outputs": [
    {
     "data": {
      "text/plain": [
       "10"
      ]
     },
     "execution_count": 97,
     "metadata": {},
     "output_type": "execute_result"
    }
   ],
   "source": [
    "a"
   ]
  },
  {
   "cell_type": "code",
   "execution_count": 98,
   "id": "a909cc3e",
   "metadata": {},
   "outputs": [
    {
     "name": "stdout",
     "output_type": "stream",
     "text": [
      "10.0 <class 'float'>\n"
     ]
    }
   ],
   "source": [
    "# 2nd way\n",
    "\n",
    "a = float(10)\n",
    "print(a , type(a))"
   ]
  },
  {
   "cell_type": "code",
   "execution_count": 99,
   "id": "4cbce348",
   "metadata": {},
   "outputs": [
    {
     "data": {
      "text/plain": [
       "10.0"
      ]
     },
     "execution_count": 99,
     "metadata": {},
     "output_type": "execute_result"
    }
   ],
   "source": [
    "a"
   ]
  },
  {
   "cell_type": "code",
   "execution_count": 100,
   "id": "4f77b983",
   "metadata": {},
   "outputs": [
    {
     "name": "stdout",
     "output_type": "stream",
     "text": [
      "10.0\n"
     ]
    }
   ],
   "source": [
    "\n",
    "a = 10\n",
    "print(float(a))"
   ]
  },
  {
   "cell_type": "code",
   "execution_count": 101,
   "id": "71053d92",
   "metadata": {},
   "outputs": [
    {
     "name": "stdout",
     "output_type": "stream",
     "text": [
      "10\n"
     ]
    }
   ],
   "source": [
    "\n",
    "a = 10.666\n",
    "print(int(a))"
   ]
  },
  {
   "cell_type": "code",
   "execution_count": 102,
   "id": "e0a30f96",
   "metadata": {},
   "outputs": [
    {
     "name": "stdout",
     "output_type": "stream",
     "text": [
      "2565\n"
     ]
    }
   ],
   "source": [
    "\n",
    "a = 2565.555\n",
    "print(int(a))"
   ]
  },
  {
   "cell_type": "code",
   "execution_count": 103,
   "id": "9c1af08e",
   "metadata": {},
   "outputs": [
    {
     "name": "stdout",
     "output_type": "stream",
     "text": [
      "123\n"
     ]
    }
   ],
   "source": [
    "a = '123'\n",
    "\n",
    "print(int(a))"
   ]
  },
  {
   "cell_type": "code",
   "execution_count": 104,
   "id": "6dadf15c",
   "metadata": {},
   "outputs": [
    {
     "ename": "ValueError",
     "evalue": "invalid literal for int() with base 10: '123abc'",
     "output_type": "error",
     "traceback": [
      "\u001b[1;31m---------------------------------------------------------------------------\u001b[0m",
      "\u001b[1;31mValueError\u001b[0m                                Traceback (most recent call last)",
      "Input \u001b[1;32mIn [104]\u001b[0m, in \u001b[0;36m<cell line: 3>\u001b[1;34m()\u001b[0m\n\u001b[0;32m      1\u001b[0m a \u001b[38;5;241m=\u001b[39m \u001b[38;5;124m'\u001b[39m\u001b[38;5;124m123abc\u001b[39m\u001b[38;5;124m'\u001b[39m\n\u001b[1;32m----> 3\u001b[0m \u001b[38;5;28mprint\u001b[39m(\u001b[38;5;28;43mint\u001b[39;49m\u001b[43m(\u001b[49m\u001b[43ma\u001b[49m\u001b[43m)\u001b[49m)\n",
      "\u001b[1;31mValueError\u001b[0m: invalid literal for int() with base 10: '123abc'"
     ]
    }
   ],
   "source": [
    "a = '123abc'\n",
    "\n",
    "print(int(a))"
   ]
  },
  {
   "cell_type": "code",
   "execution_count": 105,
   "id": "92c97250",
   "metadata": {},
   "outputs": [
    {
     "name": "stdout",
     "output_type": "stream",
     "text": [
      "123.0\n"
     ]
    }
   ],
   "source": [
    "a = '123'\n",
    "\n",
    "print(float(a))"
   ]
  },
  {
   "cell_type": "code",
   "execution_count": 106,
   "id": "ba8cd912",
   "metadata": {},
   "outputs": [
    {
     "ename": "ValueError",
     "evalue": "invalid literal for int() with base 10: '123.666'",
     "output_type": "error",
     "traceback": [
      "\u001b[1;31m---------------------------------------------------------------------------\u001b[0m",
      "\u001b[1;31mValueError\u001b[0m                                Traceback (most recent call last)",
      "Input \u001b[1;32mIn [106]\u001b[0m, in \u001b[0;36m<cell line: 3>\u001b[1;34m()\u001b[0m\n\u001b[0;32m      1\u001b[0m a \u001b[38;5;241m=\u001b[39m \u001b[38;5;124m'\u001b[39m\u001b[38;5;124m123.666\u001b[39m\u001b[38;5;124m'\u001b[39m\n\u001b[1;32m----> 3\u001b[0m \u001b[38;5;28mprint\u001b[39m(\u001b[38;5;28;43mint\u001b[39;49m\u001b[43m(\u001b[49m\u001b[43ma\u001b[49m\u001b[43m)\u001b[49m)\n",
      "\u001b[1;31mValueError\u001b[0m: invalid literal for int() with base 10: '123.666'"
     ]
    }
   ],
   "source": [
    "a = '123.666'\n",
    "\n",
    "print(int(a))"
   ]
  },
  {
   "cell_type": "code",
   "execution_count": 110,
   "id": "01687f10",
   "metadata": {},
   "outputs": [
    {
     "name": "stdout",
     "output_type": "stream",
     "text": [
      "123.666\n"
     ]
    }
   ],
   "source": [
    "a = '123.666'\n",
    "\n",
    "print(float(a))"
   ]
  },
  {
   "cell_type": "code",
   "execution_count": 112,
   "id": "e67f5ad0",
   "metadata": {},
   "outputs": [
    {
     "name": "stdout",
     "output_type": "stream",
     "text": [
      "123\n"
     ]
    }
   ],
   "source": [
    "a = '123.666'\n",
    "\n",
    "print(int(float(a)))"
   ]
  },
  {
   "cell_type": "code",
   "execution_count": 114,
   "id": "28998eac",
   "metadata": {},
   "outputs": [
    {
     "data": {
      "text/plain": [
       "'2565.555'"
      ]
     },
     "execution_count": 114,
     "metadata": {},
     "output_type": "execute_result"
    }
   ],
   "source": [
    "\n",
    "a = 2565.555\n",
    "b = str(a)\n",
    "b"
   ]
  },
  {
   "cell_type": "code",
   "execution_count": 115,
   "id": "cdc91717",
   "metadata": {},
   "outputs": [
    {
     "data": {
      "text/plain": [
       "'2565'"
      ]
     },
     "execution_count": 115,
     "metadata": {},
     "output_type": "execute_result"
    }
   ],
   "source": [
    "\n",
    "a = 2565\n",
    "b = str(a)\n",
    "b"
   ]
  },
  {
   "cell_type": "code",
   "execution_count": null,
   "id": "61a22881",
   "metadata": {},
   "outputs": [],
   "source": [
    "# complex"
   ]
  },
  {
   "cell_type": "code",
   "execution_count": 116,
   "id": "3b2d41ef",
   "metadata": {},
   "outputs": [
    {
     "data": {
      "text/plain": [
       "(25+0j)"
      ]
     },
     "execution_count": 116,
     "metadata": {},
     "output_type": "execute_result"
    }
   ],
   "source": [
    "\n",
    "a = 25\n",
    "b = complex(a)\n",
    "b"
   ]
  },
  {
   "cell_type": "code",
   "execution_count": 117,
   "id": "479e19cb",
   "metadata": {},
   "outputs": [
    {
     "data": {
      "text/plain": [
       "(25.33+0j)"
      ]
     },
     "execution_count": 117,
     "metadata": {},
     "output_type": "execute_result"
    }
   ],
   "source": [
    "\n",
    "a = 25.33\n",
    "b = complex(a)\n",
    "b"
   ]
  },
  {
   "cell_type": "code",
   "execution_count": 118,
   "id": "60725ecd",
   "metadata": {},
   "outputs": [
    {
     "data": {
      "text/plain": [
       "(25.33+0j)"
      ]
     },
     "execution_count": 118,
     "metadata": {},
     "output_type": "execute_result"
    }
   ],
   "source": [
    "\n",
    "a = '25.33'\n",
    "b = complex(a)\n",
    "b"
   ]
  },
  {
   "cell_type": "code",
   "execution_count": 119,
   "id": "6daf9428",
   "metadata": {},
   "outputs": [
    {
     "data": {
      "text/plain": [
       "(25+0j)"
      ]
     },
     "execution_count": 119,
     "metadata": {},
     "output_type": "execute_result"
    }
   ],
   "source": [
    "\n",
    "a = '25'\n",
    "b = complex(a)\n",
    "b"
   ]
  },
  {
   "cell_type": "code",
   "execution_count": null,
   "id": "44841cc9",
   "metadata": {},
   "outputs": [],
   "source": [
    "# Bool data type \n",
    "\n",
    "\n",
    "- int 0 is always false and rest all is true\n",
    "- float 0.0 is always false and the rest all is true\n",
    "- complex 0+0j is always false and the rest all is true\n",
    "- string '' is false and the rest all is true\n",
    "\n",
    "empty list, tuple , set , dict"
   ]
  },
  {
   "cell_type": "code",
   "execution_count": 129,
   "id": "4629dba4",
   "metadata": {},
   "outputs": [
    {
     "name": "stdout",
     "output_type": "stream",
     "text": [
      "True\n"
     ]
    }
   ],
   "source": [
    "a = [1]\n",
    "\n",
    "print(bool(a))"
   ]
  },
  {
   "cell_type": "code",
   "execution_count": 131,
   "id": "4b403c34",
   "metadata": {},
   "outputs": [
    {
     "name": "stdout",
     "output_type": "stream",
     "text": [
      "False\n"
     ]
    }
   ],
   "source": [
    "a = -0\n",
    "\n",
    "print(bool(a))"
   ]
  },
  {
   "cell_type": "markdown",
   "id": "cf38e299",
   "metadata": {},
   "source": [
    "# Logical operators if numbers are included\n",
    "\n",
    "1. A small deviation\n",
    "\n",
    "A and B are values\n",
    "\n",
    "- A and B ---> result will be A if A is false else B\n",
    "\n",
    "\n",
    "- A or B ---> result will be A if A is True else B"
   ]
  },
  {
   "cell_type": "code",
   "execution_count": 132,
   "id": "45df021b",
   "metadata": {},
   "outputs": [
    {
     "name": "stdout",
     "output_type": "stream",
     "text": [
      "20\n"
     ]
    }
   ],
   "source": [
    "print(10 and 20)"
   ]
  },
  {
   "cell_type": "code",
   "execution_count": 133,
   "id": "497cfd17",
   "metadata": {},
   "outputs": [
    {
     "data": {
      "text/plain": [
       "True"
      ]
     },
     "execution_count": 133,
     "metadata": {},
     "output_type": "execute_result"
    }
   ],
   "source": [
    "bool(10)"
   ]
  },
  {
   "cell_type": "code",
   "execution_count": 134,
   "id": "edbd69a4",
   "metadata": {},
   "outputs": [
    {
     "name": "stdout",
     "output_type": "stream",
     "text": [
      "20\n"
     ]
    }
   ],
   "source": [
    "print(0.0006 and 20)"
   ]
  },
  {
   "cell_type": "code",
   "execution_count": 140,
   "id": "b1534e70",
   "metadata": {},
   "outputs": [
    {
     "name": "stdout",
     "output_type": "stream",
     "text": [
      "20\n"
     ]
    }
   ],
   "source": [
    "print(' ' and 20)"
   ]
  },
  {
   "cell_type": "code",
   "execution_count": 139,
   "id": "bb00e808",
   "metadata": {},
   "outputs": [
    {
     "data": {
      "text/plain": [
       "False"
      ]
     },
     "execution_count": 139,
     "metadata": {},
     "output_type": "execute_result"
    }
   ],
   "source": [
    "bool('')"
   ]
  },
  {
   "cell_type": "code",
   "execution_count": 141,
   "id": "3292954a",
   "metadata": {},
   "outputs": [
    {
     "name": "stdout",
     "output_type": "stream",
     "text": [
      " \n"
     ]
    }
   ],
   "source": [
    "print(' ' or 20)"
   ]
  },
  {
   "cell_type": "code",
   "execution_count": 142,
   "id": "19f2ee3a",
   "metadata": {},
   "outputs": [
    {
     "name": "stdout",
     "output_type": "stream",
     "text": [
      "10\n"
     ]
    }
   ],
   "source": [
    "print(10 or 20)"
   ]
  },
  {
   "cell_type": "code",
   "execution_count": 143,
   "id": "a7a59b8a",
   "metadata": {},
   "outputs": [
    {
     "name": "stdout",
     "output_type": "stream",
     "text": [
      "True\n"
     ]
    }
   ],
   "source": [
    "print((10<20) or (10 == 20))"
   ]
  },
  {
   "cell_type": "code",
   "execution_count": 144,
   "id": "27904e4b",
   "metadata": {},
   "outputs": [
    {
     "data": {
      "text/plain": [
       "True"
      ]
     },
     "execution_count": 144,
     "metadata": {},
     "output_type": "execute_result"
    }
   ],
   "source": [
    "(10<20)"
   ]
  },
  {
   "cell_type": "code",
   "execution_count": 145,
   "id": "3fb2ba5f",
   "metadata": {},
   "outputs": [
    {
     "data": {
      "text/plain": [
       "False"
      ]
     },
     "execution_count": 145,
     "metadata": {},
     "output_type": "execute_result"
    }
   ],
   "source": [
    "(10 == 20)"
   ]
  },
  {
   "cell_type": "code",
   "execution_count": 146,
   "id": "01dab058",
   "metadata": {},
   "outputs": [
    {
     "data": {
      "text/plain": [
       "True"
      ]
     },
     "execution_count": 146,
     "metadata": {},
     "output_type": "execute_result"
    }
   ],
   "source": [
    "True or False"
   ]
  },
  {
   "cell_type": "code",
   "execution_count": 148,
   "id": "f4e67930",
   "metadata": {},
   "outputs": [
    {
     "name": "stdout",
     "output_type": "stream",
     "text": [
      "False\n"
     ]
    }
   ],
   "source": [
    "print(not 10)"
   ]
  },
  {
   "cell_type": "code",
   "execution_count": 147,
   "id": "d4ba91c4",
   "metadata": {},
   "outputs": [
    {
     "data": {
      "text/plain": [
       "True"
      ]
     },
     "execution_count": 147,
     "metadata": {},
     "output_type": "execute_result"
    }
   ],
   "source": [
    "bool(10)"
   ]
  },
  {
   "cell_type": "code",
   "execution_count": 149,
   "id": "b35cfe10",
   "metadata": {},
   "outputs": [
    {
     "name": "stdout",
     "output_type": "stream",
     "text": [
      "True\n"
     ]
    }
   ],
   "source": [
    "print(not 0+0j)"
   ]
  },
  {
   "cell_type": "code",
   "execution_count": 150,
   "id": "fd7eee0a",
   "metadata": {},
   "outputs": [
    {
     "name": "stdout",
     "output_type": "stream",
     "text": [
      "True\n"
     ]
    }
   ],
   "source": [
    "print((not 0.0000) or (10 == 20))"
   ]
  },
  {
   "cell_type": "markdown",
   "id": "48d7c1a4",
   "metadata": {},
   "source": [
    "# Bitwise\n",
    "\n",
    "- & bitwise and\n",
    "- | bitwise or\n",
    "- ^ bitwise xor\n",
    "- << left shift \n",
    "- >> right shift \n",
    "- ~ bitwise not"
   ]
  },
  {
   "cell_type": "code",
   "execution_count": 154,
   "id": "dc505de8",
   "metadata": {},
   "outputs": [
    {
     "name": "stdout",
     "output_type": "stream",
     "text": [
      "0\n"
     ]
    }
   ],
   "source": [
    "# & bitwise and\n",
    "\n",
    "x = 10 # 1010\n",
    "y = 4 # 0100\n",
    "\n",
    "print( x & y)"
   ]
  },
  {
   "cell_type": "code",
   "execution_count": 152,
   "id": "753698d6",
   "metadata": {},
   "outputs": [
    {
     "name": "stdout",
     "output_type": "stream",
     "text": [
      "0b100\n"
     ]
    }
   ],
   "source": [
    "print(bin(4))"
   ]
  },
  {
   "cell_type": "code",
   "execution_count": null,
   "id": "38e850dd",
   "metadata": {},
   "outputs": [],
   "source": [
    "1 ---> 1  0  1  0 \n",
    "4 ---> 0  1  0  0\n",
    "\n",
    "\n",
    "        0  0  0  0"
   ]
  },
  {
   "cell_type": "code",
   "execution_count": 153,
   "id": "58091922",
   "metadata": {},
   "outputs": [
    {
     "name": "stdout",
     "output_type": "stream",
     "text": [
      "0\n"
     ]
    }
   ],
   "source": [
    "print(0b0000)"
   ]
  },
  {
   "cell_type": "code",
   "execution_count": 156,
   "id": "3e14287e",
   "metadata": {},
   "outputs": [
    {
     "name": "stdout",
     "output_type": "stream",
     "text": [
      "40\n"
     ]
    }
   ],
   "source": [
    "x = 44 # 101100\n",
    "y = 56 # 111000\n",
    "\n",
    "print( x & y)"
   ]
  },
  {
   "cell_type": "code",
   "execution_count": null,
   "id": "0126cf37",
   "metadata": {},
   "outputs": [],
   "source": [
    "print(bin(44))"
   ]
  },
  {
   "cell_type": "code",
   "execution_count": null,
   "id": "2e0be3ec",
   "metadata": {},
   "outputs": [],
   "source": [
    "1  0   1  1  0  0\n",
    "1  1   1  0  0  0\n",
    "\n",
    " 1    0   1   0   0  0"
   ]
  },
  {
   "cell_type": "code",
   "execution_count": 155,
   "id": "d367df4f",
   "metadata": {},
   "outputs": [
    {
     "name": "stdout",
     "output_type": "stream",
     "text": [
      "40\n"
     ]
    }
   ],
   "source": [
    "print(0b101000)"
   ]
  },
  {
   "cell_type": "code",
   "execution_count": null,
   "id": "0315b8cb",
   "metadata": {},
   "outputs": [],
   "source": [
    "# Bitwise or |"
   ]
  },
  {
   "cell_type": "code",
   "execution_count": 158,
   "id": "8e0a3712",
   "metadata": {},
   "outputs": [
    {
     "name": "stdout",
     "output_type": "stream",
     "text": [
      "14\n"
     ]
    }
   ],
   "source": [
    "\n",
    "\n",
    "x = 10 # 1010\n",
    "y = 4 # 0100\n",
    "\n",
    "print( x | y)"
   ]
  },
  {
   "cell_type": "code",
   "execution_count": null,
   "id": "3ec7ab7a",
   "metadata": {},
   "outputs": [],
   "source": [
    "1 ---> 1  0  1  0 \n",
    "4 ---> 0  1  0  0\n",
    "\n",
    "\n",
    "        1    1   1  0"
   ]
  },
  {
   "cell_type": "code",
   "execution_count": 157,
   "id": "298570fd",
   "metadata": {},
   "outputs": [
    {
     "name": "stdout",
     "output_type": "stream",
     "text": [
      "14\n"
     ]
    }
   ],
   "source": [
    "print(0b1110)"
   ]
  },
  {
   "cell_type": "code",
   "execution_count": 160,
   "id": "673fe72e",
   "metadata": {},
   "outputs": [
    {
     "name": "stdout",
     "output_type": "stream",
     "text": [
      "60\n"
     ]
    }
   ],
   "source": [
    "x = 44 # 101100\n",
    "y = 56 # 111000\n",
    "\n",
    "print( x | y)"
   ]
  },
  {
   "cell_type": "code",
   "execution_count": 159,
   "id": "8cbd4b6b",
   "metadata": {},
   "outputs": [
    {
     "name": "stdout",
     "output_type": "stream",
     "text": [
      "60\n"
     ]
    }
   ],
   "source": [
    "print(0b111100)"
   ]
  },
  {
   "cell_type": "code",
   "execution_count": 161,
   "id": "685ccd89",
   "metadata": {},
   "outputs": [
    {
     "name": "stdout",
     "output_type": "stream",
     "text": [
      "14\n"
     ]
    }
   ],
   "source": [
    "\n",
    "\n",
    "x = 10 # 1010\n",
    "y = 4 # 0100\n",
    "\n",
    "print( x ^ y)"
   ]
  },
  {
   "cell_type": "code",
   "execution_count": null,
   "id": "f5904212",
   "metadata": {},
   "outputs": [],
   "source": [
    "# bitwise right shift   ---- A //(2**n)"
   ]
  },
  {
   "cell_type": "code",
   "execution_count": 164,
   "id": "aae4f08d",
   "metadata": {},
   "outputs": [
    {
     "name": "stdout",
     "output_type": "stream",
     "text": [
      "1\n"
     ]
    }
   ],
   "source": [
    "x = 20\n",
    "\n",
    "print(x>>4)"
   ]
  },
  {
   "cell_type": "code",
   "execution_count": 163,
   "id": "cbc14ca8",
   "metadata": {},
   "outputs": [
    {
     "data": {
      "text/plain": [
       "1"
      ]
     },
     "execution_count": 163,
     "metadata": {},
     "output_type": "execute_result"
    }
   ],
   "source": [
    "20 // (2**4)"
   ]
  },
  {
   "cell_type": "code",
   "execution_count": null,
   "id": "b8d1d210",
   "metadata": {},
   "outputs": [],
   "source": [
    "# bitwise left shift   ---- A * (2**n)"
   ]
  },
  {
   "cell_type": "code",
   "execution_count": 169,
   "id": "58fa5cfb",
   "metadata": {},
   "outputs": [
    {
     "name": "stdout",
     "output_type": "stream",
     "text": [
      "320\n"
     ]
    }
   ],
   "source": [
    "x = 20\n",
    "\n",
    "print(x<<4)"
   ]
  },
  {
   "cell_type": "code",
   "execution_count": 168,
   "id": "08990993",
   "metadata": {},
   "outputs": [
    {
     "data": {
      "text/plain": [
       "320"
      ]
     },
     "execution_count": 168,
     "metadata": {},
     "output_type": "execute_result"
    }
   ],
   "source": [
    "20 *(2**4)"
   ]
  },
  {
   "cell_type": "markdown",
   "id": "69e64082",
   "metadata": {},
   "source": [
    "# Assignment operators"
   ]
  },
  {
   "cell_type": "code",
   "execution_count": 178,
   "id": "a9853ac2",
   "metadata": {},
   "outputs": [
    {
     "name": "stdout",
     "output_type": "stream",
     "text": [
      "11\n",
      "-1\n",
      "30\n",
      "0.8333333333333334\n",
      "0\n",
      "5\n",
      "15625\n",
      "4\n",
      "3\n"
     ]
    }
   ],
   "source": [
    "x = 5\n",
    "\n",
    "# add 6 and reasssign it to the same variable\n",
    "x = x+6\n",
    "\n",
    "\n",
    "x = 5\n",
    "x += 6\n",
    "print(x)\n",
    "\n",
    "\n",
    "\n",
    "x = 5\n",
    "x -= 6\n",
    "print(x)\n",
    "\n",
    "\n",
    "x = 5\n",
    "x *= 6\n",
    "print(x)\n",
    "\n",
    "\n",
    "x = 5\n",
    "x /= 6\n",
    "print(x)\n",
    "\n",
    "x = 5\n",
    "x //= 6\n",
    "print(x)\n",
    "\n",
    "\n",
    "x = 5\n",
    "x %= 6\n",
    "print(x)\n",
    "\n",
    "x = 5\n",
    "x **= 6\n",
    "print(x)\n",
    "\n",
    "\n",
    "\n",
    "x = 5\n",
    "x &= 6\n",
    "print(x)\n",
    "\n",
    "\n",
    "x = 5\n",
    "x ^= 6\n",
    "print(x)"
   ]
  },
  {
   "cell_type": "code",
   "execution_count": 180,
   "id": "e025e8f1",
   "metadata": {},
   "outputs": [
    {
     "name": "stdout",
     "output_type": "stream",
     "text": [
      "0\n",
      "1\n",
      "2\n",
      "3\n",
      "4\n",
      "5\n"
     ]
    }
   ],
   "source": [
    "i = 0\n",
    "\n",
    "\n",
    "while i <=5:\n",
    "    print(i)\n",
    "    i += 1"
   ]
  },
  {
   "cell_type": "code",
   "execution_count": 185,
   "id": "3e21d789",
   "metadata": {},
   "outputs": [
    {
     "name": "stdout",
     "output_type": "stream",
     "text": [
      "10\n"
     ]
    }
   ],
   "source": [
    "x = 5\n",
    "x = x +5\n",
    "print(x)"
   ]
  },
  {
   "cell_type": "code",
   "execution_count": 186,
   "id": "1753abbe",
   "metadata": {},
   "outputs": [
    {
     "name": "stdout",
     "output_type": "stream",
     "text": [
      "10\n"
     ]
    }
   ],
   "source": [
    "x = 5\n",
    "x += 5\n",
    "print(x)"
   ]
  },
  {
   "cell_type": "code",
   "execution_count": 187,
   "id": "8d2420ee",
   "metadata": {},
   "outputs": [
    {
     "data": {
      "text/plain": [
       "400"
      ]
     },
     "execution_count": 187,
     "metadata": {},
     "output_type": "execute_result"
    }
   ],
   "source": [
    "bank = 1000\n",
    "\n",
    "bank = bank - 600\n",
    "\n",
    "bank"
   ]
  },
  {
   "cell_type": "code",
   "execution_count": 189,
   "id": "d2fd818b",
   "metadata": {},
   "outputs": [
    {
     "data": {
      "text/plain": [
       "1600"
      ]
     },
     "execution_count": 189,
     "metadata": {},
     "output_type": "execute_result"
    }
   ],
   "source": [
    "bank = 1000\n",
    "\n",
    "bank += 600\n",
    "\n",
    "bank"
   ]
  },
  {
   "cell_type": "markdown",
   "id": "0454b368",
   "metadata": {},
   "source": [
    "# Identity operators\n",
    "\n",
    "- is and is not\n",
    "\n",
    "Object reusability will work for\n",
    "\n",
    "- int - -5 to 256\n",
    "- None\n",
    "- bool\n",
    "- str a-z , A-Z , 0-9 , _\n",
    "\n",
    "\n",
    "it will not work for \n",
    "- float\n",
    "- complex"
   ]
  },
  {
   "cell_type": "code",
   "execution_count": 1,
   "id": "e671a96a",
   "metadata": {},
   "outputs": [
    {
     "name": "stdout",
     "output_type": "stream",
     "text": [
      "['In', 'Out', '_', '__', '___', '__builtin__', '__builtins__', '__doc__', '__loader__', '__name__', '__package__', '__spec__', '_dh', '_i', '_i1', '_ih', '_ii', '_iii', '_oh', 'exit', 'get_ipython', 'quit']\n"
     ]
    }
   ],
   "source": [
    "print(dir())"
   ]
  },
  {
   "cell_type": "code",
   "execution_count": 2,
   "id": "78c3c343",
   "metadata": {},
   "outputs": [],
   "source": [
    "a = 10"
   ]
  },
  {
   "cell_type": "code",
   "execution_count": 3,
   "id": "42be306f",
   "metadata": {},
   "outputs": [
    {
     "name": "stdout",
     "output_type": "stream",
     "text": [
      "['In', 'Out', '_', '__', '___', '__builtin__', '__builtins__', '__doc__', '__loader__', '__name__', '__package__', '__spec__', '_dh', '_i', '_i1', '_i2', '_i3', '_ih', '_ii', '_iii', '_oh', 'a', 'exit', 'get_ipython', 'quit']\n"
     ]
    }
   ],
   "source": [
    "print(dir())"
   ]
  },
  {
   "cell_type": "code",
   "execution_count": 4,
   "id": "8ecfd859",
   "metadata": {},
   "outputs": [
    {
     "name": "stdout",
     "output_type": "stream",
     "text": [
      "10\n"
     ]
    }
   ],
   "source": [
    "print(a)"
   ]
  },
  {
   "cell_type": "code",
   "execution_count": 6,
   "id": "2b2f3f9e",
   "metadata": {},
   "outputs": [
    {
     "name": "stdout",
     "output_type": "stream",
     "text": [
      "1767820192336\n",
      "1767820192656\n",
      "1767820192336\n"
     ]
    }
   ],
   "source": [
    "a = 10\n",
    "b = 20\n",
    "c = 10\n",
    "\n",
    "print(id(a))\n",
    "print(id(b))\n",
    "print(id(c))"
   ]
  },
  {
   "cell_type": "code",
   "execution_count": 7,
   "id": "3d26bf77",
   "metadata": {},
   "outputs": [
    {
     "name": "stdout",
     "output_type": "stream",
     "text": [
      "1767820192336\n",
      "1767820192336\n",
      "True\n"
     ]
    }
   ],
   "source": [
    "a = 10\n",
    "b = 10\n",
    "\n",
    "print(id(a))\n",
    "print(id(b))\n",
    "\n",
    "print(a is b)"
   ]
  },
  {
   "cell_type": "code",
   "execution_count": 8,
   "id": "55630677",
   "metadata": {},
   "outputs": [
    {
     "name": "stdout",
     "output_type": "stream",
     "text": [
      "1767820192336\n",
      "1767820192656\n",
      "False\n"
     ]
    }
   ],
   "source": [
    "a = 10\n",
    "b = 20\n",
    "\n",
    "print(id(a))\n",
    "print(id(b))\n",
    "\n",
    "print(a is b)"
   ]
  },
  {
   "cell_type": "code",
   "execution_count": 9,
   "id": "f46d6943",
   "metadata": {},
   "outputs": [
    {
     "name": "stdout",
     "output_type": "stream",
     "text": [
      "1767906553232\n",
      "1767906553744\n",
      "False\n"
     ]
    }
   ],
   "source": [
    "a = 300\n",
    "b = 300\n",
    "\n",
    "print(id(a))\n",
    "print(id(b))\n",
    "\n",
    "print(a is b)"
   ]
  },
  {
   "cell_type": "code",
   "execution_count": 10,
   "id": "2621eecc",
   "metadata": {},
   "outputs": [
    {
     "name": "stdout",
     "output_type": "stream",
     "text": [
      "1767906553456\n",
      "1767906553200\n",
      "True\n"
     ]
    }
   ],
   "source": [
    "a = 300\n",
    "b = 300\n",
    "\n",
    "print(id(a))\n",
    "print(id(b))\n",
    "\n",
    "print(a is not b)"
   ]
  },
  {
   "cell_type": "code",
   "execution_count": 11,
   "id": "c0cda5c2",
   "metadata": {},
   "outputs": [
    {
     "name": "stdout",
     "output_type": "stream",
     "text": [
      "1767906553008\n",
      "1767906552912\n",
      "False\n"
     ]
    }
   ],
   "source": [
    "a = 1.1\n",
    "b = 1.1\n",
    "\n",
    "print(id(a))\n",
    "print(id(b))\n",
    "\n",
    "print(a is b)"
   ]
  },
  {
   "cell_type": "code",
   "execution_count": 12,
   "id": "9b50c4e3",
   "metadata": {},
   "outputs": [
    {
     "name": "stdout",
     "output_type": "stream",
     "text": [
      "1767906553072\n",
      "1767906553552\n",
      "False\n"
     ]
    }
   ],
   "source": [
    "a = 1.1 + 8j\n",
    "b = 1.1 + 8j\n",
    "\n",
    "print(id(a))\n",
    "print(id(b))\n",
    "\n",
    "print(a is b)"
   ]
  },
  {
   "cell_type": "code",
   "execution_count": 13,
   "id": "021872ae",
   "metadata": {},
   "outputs": [
    {
     "name": "stdout",
     "output_type": "stream",
     "text": [
      "1767863062448\n",
      "1767863062448\n",
      "True\n"
     ]
    }
   ],
   "source": [
    "a = 'python'\n",
    "b = 'python'\n",
    "\n",
    "print(id(a))\n",
    "print(id(b))\n",
    "\n",
    "print(a is b)"
   ]
  },
  {
   "cell_type": "code",
   "execution_count": 15,
   "id": "17fbd539",
   "metadata": {},
   "outputs": [
    {
     "name": "stdout",
     "output_type": "stream",
     "text": [
      "1767906742000\n",
      "1767906742000\n",
      "True\n"
     ]
    }
   ],
   "source": [
    "a = 'python123'\n",
    "b = 'python123'\n",
    "\n",
    "print(id(a))\n",
    "print(id(b))\n",
    "\n",
    "print(a is b)"
   ]
  },
  {
   "cell_type": "code",
   "execution_count": 16,
   "id": "9ef6140f",
   "metadata": {},
   "outputs": [
    {
     "name": "stdout",
     "output_type": "stream",
     "text": [
      "1767906866544\n",
      "1767906866544\n",
      "True\n"
     ]
    }
   ],
   "source": [
    "a = 'python_123'\n",
    "b = 'python_123'\n",
    "\n",
    "print(id(a))\n",
    "print(id(b))\n",
    "\n",
    "print(a is b)"
   ]
  },
  {
   "cell_type": "code",
   "execution_count": 1,
   "id": "2be6c118",
   "metadata": {},
   "outputs": [
    {
     "name": "stdout",
     "output_type": "stream",
     "text": [
      "1832932266544\n",
      "1832932268528\n",
      "False\n"
     ]
    }
   ],
   "source": [
    "a = 'python 123'\n",
    "b = 'python 123'\n",
    "\n",
    "print(id(a))\n",
    "print(id(b))\n",
    "\n",
    "print(a is b)"
   ]
  },
  {
   "cell_type": "code",
   "execution_count": 1,
   "id": "d1f078d5",
   "metadata": {},
   "outputs": [
    {
     "name": "stdout",
     "output_type": "stream",
     "text": [
      "140704001465560\n",
      "140704001465560\n",
      "True\n"
     ]
    }
   ],
   "source": [
    "a = None\n",
    "b = None\n",
    "\n",
    "print(id(a))\n",
    "print(id(b))\n",
    "\n",
    "print(a is b)"
   ]
  },
  {
   "cell_type": "code",
   "execution_count": 2,
   "id": "4563358c",
   "metadata": {},
   "outputs": [
    {
     "name": "stdout",
     "output_type": "stream",
     "text": [
      "140704001415272\n",
      "140704001415272\n",
      "True\n"
     ]
    }
   ],
   "source": [
    "a = True\n",
    "b = True\n",
    "\n",
    "print(id(a))\n",
    "print(id(b))\n",
    "\n",
    "print(a is b)"
   ]
  },
  {
   "cell_type": "code",
   "execution_count": 15,
   "id": "c32d8777",
   "metadata": {},
   "outputs": [
    {
     "name": "stdout",
     "output_type": "stream",
     "text": [
      "[1, 2, 4, 5, 6]\n",
      "[1, 2, 4, 5, 6]\n",
      "1600541599232\n",
      "1600541599232\n"
     ]
    }
   ],
   "source": [
    "a = [1,2,4,5,6]\n",
    "b = a\n",
    "\n",
    "print(a)\n",
    "print(b)\n",
    "\n",
    "print(id(a))\n",
    "print(id(b))"
   ]
  },
  {
   "cell_type": "code",
   "execution_count": 12,
   "id": "642a7dd0",
   "metadata": {},
   "outputs": [],
   "source": [
    "a[0] = 100"
   ]
  },
  {
   "cell_type": "code",
   "execution_count": 13,
   "id": "705912ce",
   "metadata": {},
   "outputs": [
    {
     "data": {
      "text/plain": [
       "[100, 2, 4, 5, 6]"
      ]
     },
     "execution_count": 13,
     "metadata": {},
     "output_type": "execute_result"
    }
   ],
   "source": [
    "a"
   ]
  },
  {
   "cell_type": "code",
   "execution_count": 14,
   "id": "abcf3bb7",
   "metadata": {},
   "outputs": [
    {
     "data": {
      "text/plain": [
       "[100, 2, 4, 5, 6]"
      ]
     },
     "execution_count": 14,
     "metadata": {},
     "output_type": "execute_result"
    }
   ],
   "source": [
    "b"
   ]
  },
  {
   "cell_type": "code",
   "execution_count": 16,
   "id": "2b4a7d34",
   "metadata": {},
   "outputs": [
    {
     "name": "stdout",
     "output_type": "stream",
     "text": [
      "[1, 2, 4, 5, 6]\n",
      "[1, 2, 4, 5, 6]\n",
      "1600541929856\n",
      "1600541933312\n"
     ]
    }
   ],
   "source": [
    "a = [1,2,4,5,6]\n",
    "b = [1,2,4,5,6]\n",
    "\n",
    "print(a)\n",
    "print(b)\n",
    "\n",
    "print(id(a))\n",
    "print(id(b))"
   ]
  },
  {
   "cell_type": "code",
   "execution_count": 18,
   "id": "3986350a",
   "metadata": {},
   "outputs": [
    {
     "name": "stdout",
     "output_type": "stream",
     "text": [
      "2\n"
     ]
    }
   ],
   "source": [
    "a = 20\n",
    "b = 7\n",
    "\n",
    "print(a // b)\n"
   ]
  },
  {
   "cell_type": "code",
   "execution_count": null,
   "id": "c308b9cb",
   "metadata": {},
   "outputs": [],
   "source": [
    "floor       exact        cieling\n",
    "\n",
    "\n",
    "\n",
    "2         2.8               3"
   ]
  },
  {
   "cell_type": "code",
   "execution_count": null,
   "id": "b5567515",
   "metadata": {},
   "outputs": [],
   "source": [
    "# python introduction\n",
    "# Python programing components\n",
    "# input and output\n",
    "# int\n",
    "# arithmetic operators \n",
    "# comparision\n",
    "# logical\n",
    "# type casting \n",
    "# equality operators \n",
    "# bitwise\n",
    "# assignment\n",
    "# identity operators\n",
    "\n",
    "# float\n",
    "# arithmetic operators \n",
    "# comparision\n",
    "# logical\n",
    "# type casting \n",
    "# equality operators \n",
    "# bitwise\n",
    "# assignment\n",
    "# identity operators\n",
    "\n",
    "\n",
    "# complex\n",
    "# arithmetic operators \n",
    "# comparision\n",
    "# logical\n",
    "# type casting \n",
    "# equality operators \n",
    "# bitwise\n",
    "# assignment\n",
    "# identity operators\n",
    "\n",
    "\n",
    "string - methods"
   ]
  },
  {
   "cell_type": "code",
   "execution_count": null,
   "id": "86ca0416",
   "metadata": {},
   "outputs": [],
   "source": []
  }
 ],
 "metadata": {
  "kernelspec": {
   "display_name": "Python 3 (ipykernel)",
   "language": "python",
   "name": "python3"
  },
  "language_info": {
   "codemirror_mode": {
    "name": "ipython",
    "version": 3
   },
   "file_extension": ".py",
   "mimetype": "text/x-python",
   "name": "python",
   "nbconvert_exporter": "python",
   "pygments_lexer": "ipython3",
   "version": "3.9.12"
  }
 },
 "nbformat": 4,
 "nbformat_minor": 5
}
