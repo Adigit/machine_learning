{
 "cells": [
  {
   "cell_type": "markdown",
   "id": "7781ae52",
   "metadata": {},
   "source": [
    "# Float\n",
    "\n",
    "\n",
    "- Any numbers with a decimal point "
   ]
  },
  {
   "cell_type": "code",
   "execution_count": 2,
   "id": "db955dd3",
   "metadata": {},
   "outputs": [
    {
     "name": "stdout",
     "output_type": "stream",
     "text": [
      "11.2 <class 'float'>\n"
     ]
    }
   ],
   "source": [
    "a = 11.2\n",
    "\n",
    "print(a , type(a))"
   ]
  },
  {
   "cell_type": "code",
   "execution_count": null,
   "id": "968c3a53",
   "metadata": {},
   "outputs": [],
   "source": [
    "# Operations possible on float \n",
    "\n",
    "- Arithmetic operations\n",
    "- Comparision operations\n",
    "- logical operations\n",
    "- Equality operators\n",
    "- Identity operators\n",
    "- Assignment operators except bitwise \n",
    "\n",
    "# Operations not possible on float\n",
    "- Bitwise operations \n",
    "- Assignment operators with bitwise \n",
    "\n",
    "\n",
    "# Note: Object reuability is not applicable "
   ]
  },
  {
   "cell_type": "code",
   "execution_count": 11,
   "id": "e5dd9bc5",
   "metadata": {},
   "outputs": [
    {
     "name": "stdout",
     "output_type": "stream",
     "text": [
      "4.3\n"
     ]
    }
   ],
   "source": [
    "a = 10.6\n",
    "b = 6.3\n",
    "\n",
    "print(a % b)"
   ]
  },
  {
   "cell_type": "code",
   "execution_count": 16,
   "id": "bb0eb15e",
   "metadata": {},
   "outputs": [
    {
     "name": "stdout",
     "output_type": "stream",
     "text": [
      "3.0999999999999996\n"
     ]
    }
   ],
   "source": [
    "a = 10.6\n",
    "b = 7.5\n",
    "print(a % b)"
   ]
  },
  {
   "cell_type": "code",
   "execution_count": 14,
   "id": "a8a3f468",
   "metadata": {},
   "outputs": [
    {
     "name": "stdout",
     "output_type": "stream",
     "text": [
      "3\n"
     ]
    }
   ],
   "source": [
    "a = 10\n",
    "b = 7\n",
    "\n",
    "print(a % b)"
   ]
  },
  {
   "cell_type": "code",
   "execution_count": 17,
   "id": "fdeae918",
   "metadata": {},
   "outputs": [
    {
     "name": "stdout",
     "output_type": "stream",
     "text": [
      "False\n"
     ]
    }
   ],
   "source": [
    "a = 10.7\n",
    "b = 4.5\n",
    "\n",
    "print(a <= b)"
   ]
  },
  {
   "cell_type": "code",
   "execution_count": 18,
   "id": "9501a590",
   "metadata": {},
   "outputs": [
    {
     "ename": "TypeError",
     "evalue": "'float' object cannot be interpreted as an integer",
     "output_type": "error",
     "traceback": [
      "\u001b[1;31m---------------------------------------------------------------------------\u001b[0m",
      "\u001b[1;31mTypeError\u001b[0m                                 Traceback (most recent call last)",
      "Input \u001b[1;32mIn [18]\u001b[0m, in \u001b[0;36m<cell line: 1>\u001b[1;34m()\u001b[0m\n\u001b[1;32m----> 1\u001b[0m \u001b[38;5;28mprint\u001b[39m(\u001b[38;5;28;43mbin\u001b[39;49m\u001b[43m(\u001b[49m\u001b[38;5;241;43m1.2\u001b[39;49m\u001b[43m)\u001b[49m)\n",
      "\u001b[1;31mTypeError\u001b[0m: 'float' object cannot be interpreted as an integer"
     ]
    }
   ],
   "source": [
    "print(bin(1.2))"
   ]
  },
  {
   "cell_type": "code",
   "execution_count": 19,
   "id": "d5a2f098",
   "metadata": {},
   "outputs": [
    {
     "ename": "TypeError",
     "evalue": "unsupported operand type(s) for &: 'float' and 'float'",
     "output_type": "error",
     "traceback": [
      "\u001b[1;31m---------------------------------------------------------------------------\u001b[0m",
      "\u001b[1;31mTypeError\u001b[0m                                 Traceback (most recent call last)",
      "Input \u001b[1;32mIn [19]\u001b[0m, in \u001b[0;36m<cell line: 4>\u001b[1;34m()\u001b[0m\n\u001b[0;32m      1\u001b[0m a \u001b[38;5;241m=\u001b[39m \u001b[38;5;241m10.4\u001b[39m\n\u001b[0;32m      2\u001b[0m b \u001b[38;5;241m=\u001b[39m \u001b[38;5;241m4.6\u001b[39m\n\u001b[1;32m----> 4\u001b[0m \u001b[38;5;28mprint\u001b[39m(\u001b[43ma\u001b[49m\u001b[43m \u001b[49m\u001b[38;5;241;43m&\u001b[39;49m\u001b[43m \u001b[49m\u001b[43mb\u001b[49m)\n",
      "\u001b[1;31mTypeError\u001b[0m: unsupported operand type(s) for &: 'float' and 'float'"
     ]
    }
   ],
   "source": [
    "a = 10.4\n",
    "b = 4.6\n",
    "\n",
    "print(a & b)"
   ]
  },
  {
   "cell_type": "code",
   "execution_count": 20,
   "id": "092d262d",
   "metadata": {},
   "outputs": [
    {
     "name": "stdout",
     "output_type": "stream",
     "text": [
      "False\n"
     ]
    }
   ],
   "source": [
    "a = 10.6\n",
    "b = 10.6\n",
    "\n",
    "print(a is b)"
   ]
  },
  {
   "cell_type": "code",
   "execution_count": 23,
   "id": "64be27f4",
   "metadata": {},
   "outputs": [
    {
     "ename": "TypeError",
     "evalue": "unsupported operand type(s) for &=: 'float' and 'float'",
     "output_type": "error",
     "traceback": [
      "\u001b[1;31m---------------------------------------------------------------------------\u001b[0m",
      "\u001b[1;31mTypeError\u001b[0m                                 Traceback (most recent call last)",
      "Input \u001b[1;32mIn [23]\u001b[0m, in \u001b[0;36m<cell line: 2>\u001b[1;34m()\u001b[0m\n\u001b[0;32m      1\u001b[0m a \u001b[38;5;241m=\u001b[39m \u001b[38;5;241m5.7\u001b[39m\n\u001b[1;32m----> 2\u001b[0m a \u001b[38;5;241m&\u001b[39m\u001b[38;5;241m=\u001b[39m \u001b[38;5;241m10.6\u001b[39m\n\u001b[0;32m      5\u001b[0m \u001b[38;5;28mprint\u001b[39m(a)\n",
      "\u001b[1;31mTypeError\u001b[0m: unsupported operand type(s) for &=: 'float' and 'float'"
     ]
    }
   ],
   "source": [
    "a = 5.7\n",
    "a &= 10.6\n",
    "\n",
    "\n",
    "print(a)"
   ]
  },
  {
   "cell_type": "code",
   "execution_count": null,
   "id": "7bda8f2d",
   "metadata": {},
   "outputs": [],
   "source": [
    "# op ---> is , is not\n",
    "\n",
    "\n",
    "from -5 "
   ]
  },
  {
   "cell_type": "code",
   "execution_count": 26,
   "id": "045ab1a0",
   "metadata": {},
   "outputs": [
    {
     "name": "stdout",
     "output_type": "stream",
     "text": [
      "2507363478096\n",
      "2507363478096\n",
      "True\n"
     ]
    }
   ],
   "source": [
    "a = 10\n",
    "b = 10\n",
    "\n",
    "\n",
    "print(id(a))\n",
    "print(id(b))\n",
    "\n",
    "print(a is b)"
   ]
  },
  {
   "cell_type": "code",
   "execution_count": 28,
   "id": "063653f7",
   "metadata": {},
   "outputs": [
    {
     "name": "stdout",
     "output_type": "stream",
     "text": [
      "2507363478096\n",
      "2507363478096\n",
      "True\n"
     ]
    }
   ],
   "source": [
    "a = 10\n",
    "b = 10\n",
    "\n",
    "\n",
    "print(id(a))\n",
    "print(id(b))\n",
    "\n",
    "print(a is b)"
   ]
  },
  {
   "cell_type": "code",
   "execution_count": null,
   "id": "81e074d7",
   "metadata": {},
   "outputs": [],
   "source": [
    "a = 257\n",
    "b = 257\n",
    "\n",
    "\n",
    "print(id(a))\n",
    "print(id(b))\n",
    "\n",
    "print(a is b)"
   ]
  },
  {
   "cell_type": "code",
   "execution_count": 35,
   "id": "eb576c63",
   "metadata": {},
   "outputs": [
    {
     "name": "stdout",
     "output_type": "stream",
     "text": [
      "2507363478736\n",
      "2507363478416\n",
      "2507363478096\n",
      "False\n"
     ]
    }
   ],
   "source": [
    "a = 30\n",
    "b = 20\n",
    "c = 10\n",
    "\n",
    "\n",
    "print(id(a))\n",
    "print(id(b))\n",
    "print(id(c))\n",
    "\n",
    "print(a is b)"
   ]
  },
  {
   "cell_type": "code",
   "execution_count": 1,
   "id": "dfd65a29",
   "metadata": {},
   "outputs": [
    {
     "name": "stdout",
     "output_type": "stream",
     "text": [
      "2993193970256\n",
      "10\n"
     ]
    }
   ],
   "source": [
    "a = 10\n",
    "\n",
    "print(id(a))\n",
    "\n",
    "\n",
    "print(a)"
   ]
  },
  {
   "cell_type": "code",
   "execution_count": 13,
   "id": "2d7a09c4",
   "metadata": {},
   "outputs": [
    {
     "name": "stdout",
     "output_type": "stream",
     "text": [
      "[[1, 2, 3], 4, 5]\n",
      "[[1, 2, 3], 4, 5]\n",
      "2993305970496\n",
      "2993298893632\n",
      "[1, 2, 3]\n",
      "[1, 2, 3]\n",
      "2993296097664\n",
      "2993296097664\n",
      "[[1, 2, 100], 4, 5]\n",
      "[[1, 2, 100], 4, 5]\n"
     ]
    }
   ],
   "source": [
    "a = [[1,2,3],4,5]\n",
    "b = a.copy()\n",
    "\n",
    "print(a)\n",
    "print(b)\n",
    "\n",
    "print(id(a))\n",
    "print(id(b))\n",
    "\n",
    "\n",
    "print(a[0])\n",
    "print(b[0])\n",
    "\n",
    "print(id(a[0]))\n",
    "print(id(b[0]))\n",
    "\n",
    "a[0][-1] = 100\n",
    "\n",
    "print(a)\n",
    "print(b)"
   ]
  },
  {
   "cell_type": "code",
   "execution_count": 14,
   "id": "175f3110",
   "metadata": {},
   "outputs": [
    {
     "name": "stdout",
     "output_type": "stream",
     "text": [
      "[[1, 2, 3], 4, 5]\n",
      "[[1, 2, 3], 4, 5]\n",
      "2993300049472\n",
      "2993300049472\n",
      "[1, 2, 3]\n",
      "[1, 2, 3]\n",
      "2993298877504\n",
      "2993298877504\n",
      "[[1, 2, 100], 4, 5]\n",
      "[[1, 2, 100], 4, 5]\n"
     ]
    }
   ],
   "source": [
    "a = [[1,2,3],4,5]\n",
    "b = a\n",
    "\n",
    "print(a)\n",
    "print(b)\n",
    "\n",
    "print(id(a))\n",
    "print(id(b))\n",
    "\n",
    "\n",
    "print(a[0])\n",
    "print(b[0])\n",
    "\n",
    "print(id(a[0]))\n",
    "print(id(b[0]))\n",
    "\n",
    "a[0][-1] = 100\n",
    "\n",
    "print(a)\n",
    "print(b)"
   ]
  },
  {
   "cell_type": "code",
   "execution_count": 17,
   "id": "dec20ff5",
   "metadata": {},
   "outputs": [
    {
     "name": "stdout",
     "output_type": "stream",
     "text": [
      "[[1, 2, 3], 4, 5]\n",
      "[[1, 2, 3], 4, 5]\n",
      "2993298959808\n",
      "2993301936768\n",
      "[[1, 2, 3], 100, 5]\n",
      "[[1, 2, 3], 4, 5]\n"
     ]
    }
   ],
   "source": [
    "a = [[1,2,3],4,5]\n",
    "b = a.copy() # shallow copy\n",
    "\n",
    "print(a)\n",
    "print(b)\n",
    "\n",
    "print(id(a))\n",
    "print(id(b))\n",
    "\n",
    "\n",
    "# print(a[1])\n",
    "# print(b[1])\n",
    "\n",
    "\n",
    "a[1] = 100\n",
    "\n",
    "print(a)\n",
    "print(b)"
   ]
  },
  {
   "cell_type": "code",
   "execution_count": 21,
   "id": "a20f967b",
   "metadata": {},
   "outputs": [
    {
     "name": "stdout",
     "output_type": "stream",
     "text": [
      "[[1, 2, 3], 4, 5]\n",
      "[[1, 2, 3], 4, 5]\n",
      "2993305940800\n",
      "2993305940800\n",
      "[[1, 2, 3], 100, 5]\n",
      "[[1, 2, 3], 100, 5]\n"
     ]
    }
   ],
   "source": [
    "a = [[1,2,3],4,5]\n",
    "b = a # aliasing\n",
    "\n",
    "print(a)\n",
    "print(b)\n",
    "\n",
    "print(id(a))\n",
    "print(id(b))\n",
    "\n",
    "\n",
    "# # print(a[1])\n",
    "# # print(b[1])\n",
    "\n",
    "\n",
    "a[1] = 100\n",
    "\n",
    "print(a)\n",
    "print(b)"
   ]
  },
  {
   "cell_type": "markdown",
   "id": "80a50b45",
   "metadata": {},
   "source": [
    "# Complex \n",
    "\n",
    "- Any number that can be represented in form of a+bj\n",
    "\n",
    "where a is real\n",
    "b is imag"
   ]
  },
  {
   "cell_type": "code",
   "execution_count": 22,
   "id": "9580914d",
   "metadata": {},
   "outputs": [
    {
     "name": "stdout",
     "output_type": "stream",
     "text": [
      "(10+5j) <class 'complex'>\n"
     ]
    }
   ],
   "source": [
    "a = 10+5j\n",
    "\n",
    "print(a , type(a))"
   ]
  },
  {
   "cell_type": "code",
   "execution_count": 25,
   "id": "4e833dce",
   "metadata": {},
   "outputs": [
    {
     "name": "stdout",
     "output_type": "stream",
     "text": [
      "10.0\n",
      "5.0\n"
     ]
    }
   ],
   "source": [
    "a = 10+5j\n",
    "\n",
    "print(a.real)\n",
    "print(a.imag)"
   ]
  },
  {
   "cell_type": "code",
   "execution_count": null,
   "id": "e59d1a79",
   "metadata": {},
   "outputs": [],
   "source": [
    "# Operations possible on complex\n",
    "\n",
    "\n",
    "- Arithmetic except modulo and floor division\n",
    "- Logical operators\n",
    "- Equality operators\n",
    "- Identity operators\n",
    "- Asssignment operators except bitwise\n",
    "\n",
    "# Operations not possible\n",
    "- Bitwise Operations\n",
    "- Comparistions operations\n",
    "- Asssignment operators with bitwise\n",
    "\n",
    "# Object reuasbility is not applicable\n"
   ]
  },
  {
   "cell_type": "code",
   "execution_count": 27,
   "id": "f159ef98",
   "metadata": {},
   "outputs": [
    {
     "ename": "TypeError",
     "evalue": "can't mod complex numbers.",
     "output_type": "error",
     "traceback": [
      "\u001b[1;31m---------------------------------------------------------------------------\u001b[0m",
      "\u001b[1;31mTypeError\u001b[0m                                 Traceback (most recent call last)",
      "Input \u001b[1;32mIn [27]\u001b[0m, in \u001b[0;36m<cell line: 4>\u001b[1;34m()\u001b[0m\n\u001b[0;32m      1\u001b[0m a \u001b[38;5;241m=\u001b[39m \u001b[38;5;241m10\u001b[39m\u001b[38;5;241m+\u001b[39m\u001b[38;5;241m6\u001b[39mj\n\u001b[0;32m      2\u001b[0m b \u001b[38;5;241m=\u001b[39m \u001b[38;5;241m20\u001b[39m\u001b[38;5;241m+\u001b[39m\u001b[38;5;241m5\u001b[39mj\n\u001b[1;32m----> 4\u001b[0m \u001b[38;5;28mprint\u001b[39m(\u001b[43ma\u001b[49m\u001b[43m \u001b[49m\u001b[38;5;241;43m%\u001b[39;49m\u001b[43m \u001b[49m\u001b[43mb\u001b[49m)\n",
      "\u001b[1;31mTypeError\u001b[0m: can't mod complex numbers."
     ]
    }
   ],
   "source": [
    "a = 10+6j\n",
    "b = 20+5j\n",
    "\n",
    "print(a % b)"
   ]
  },
  {
   "cell_type": "code",
   "execution_count": 29,
   "id": "b65aa8d9",
   "metadata": {},
   "outputs": [
    {
     "ename": "TypeError",
     "evalue": "can't take floor of complex number.",
     "output_type": "error",
     "traceback": [
      "\u001b[1;31m---------------------------------------------------------------------------\u001b[0m",
      "\u001b[1;31mTypeError\u001b[0m                                 Traceback (most recent call last)",
      "Input \u001b[1;32mIn [29]\u001b[0m, in \u001b[0;36m<cell line: 4>\u001b[1;34m()\u001b[0m\n\u001b[0;32m      1\u001b[0m a \u001b[38;5;241m=\u001b[39m \u001b[38;5;241m10\u001b[39m\u001b[38;5;241m+\u001b[39m\u001b[38;5;241m6\u001b[39mj\n\u001b[0;32m      2\u001b[0m b \u001b[38;5;241m=\u001b[39m \u001b[38;5;241m20\u001b[39m\u001b[38;5;241m+\u001b[39m\u001b[38;5;241m5\u001b[39mj\n\u001b[1;32m----> 4\u001b[0m \u001b[38;5;28mprint\u001b[39m(\u001b[43ma\u001b[49m\u001b[43m \u001b[49m\u001b[38;5;241;43m/\u001b[39;49m\u001b[38;5;241;43m/\u001b[39;49m\u001b[43m \u001b[49m\u001b[43mb\u001b[49m)\n",
      "\u001b[1;31mTypeError\u001b[0m: can't take floor of complex number."
     ]
    }
   ],
   "source": [
    "a = 10+6j\n",
    "b = 20+5j\n",
    "\n",
    "print(a // b)"
   ]
  },
  {
   "cell_type": "code",
   "execution_count": 31,
   "id": "e5d21f55",
   "metadata": {},
   "outputs": [
    {
     "data": {
      "text/plain": [
       "False"
      ]
     },
     "execution_count": 31,
     "metadata": {},
     "output_type": "execute_result"
    }
   ],
   "source": [
    "a = bool(0+0j)\n",
    "a"
   ]
  },
  {
   "cell_type": "code",
   "execution_count": 32,
   "id": "2ff5a8ab",
   "metadata": {},
   "outputs": [
    {
     "ename": "TypeError",
     "evalue": "'>' not supported between instances of 'complex' and 'complex'",
     "output_type": "error",
     "traceback": [
      "\u001b[1;31m---------------------------------------------------------------------------\u001b[0m",
      "\u001b[1;31mTypeError\u001b[0m                                 Traceback (most recent call last)",
      "Input \u001b[1;32mIn [32]\u001b[0m, in \u001b[0;36m<cell line: 4>\u001b[1;34m()\u001b[0m\n\u001b[0;32m      1\u001b[0m a \u001b[38;5;241m=\u001b[39m \u001b[38;5;241m10\u001b[39m\u001b[38;5;241m+\u001b[39m\u001b[38;5;241m6\u001b[39mj\n\u001b[0;32m      2\u001b[0m b \u001b[38;5;241m=\u001b[39m \u001b[38;5;241m20\u001b[39m\u001b[38;5;241m+\u001b[39m\u001b[38;5;241m5\u001b[39mj\n\u001b[1;32m----> 4\u001b[0m \u001b[38;5;28mprint\u001b[39m(\u001b[43ma\u001b[49m\u001b[43m \u001b[49m\u001b[38;5;241;43m>\u001b[39;49m\u001b[43m \u001b[49m\u001b[43mb\u001b[49m)\n",
      "\u001b[1;31mTypeError\u001b[0m: '>' not supported between instances of 'complex' and 'complex'"
     ]
    }
   ],
   "source": [
    "a = 10+6j\n",
    "b = 20+5j\n",
    "\n",
    "print(a > b)"
   ]
  },
  {
   "cell_type": "code",
   "execution_count": null,
   "id": "71f3b52b",
   "metadata": {},
   "outputs": [],
   "source": [
    "a = 10+6j\n",
    "b = 20+5j\n",
    "\n",
    "print(a % b)"
   ]
  },
  {
   "cell_type": "markdown",
   "id": "25369b77",
   "metadata": {},
   "source": [
    "# Strings\n",
    "\n",
    "\n",
    "Anything writen inside a '__' , \"__\" , '''__''' , \"\"\"__\"\"\""
   ]
  },
  {
   "cell_type": "code",
   "execution_count": 33,
   "id": "6b3b673d",
   "metadata": {},
   "outputs": [
    {
     "name": "stdout",
     "output_type": "stream",
     "text": [
      "10 <class 'str'>\n"
     ]
    }
   ],
   "source": [
    "a = '10'\n",
    "print(a  , type(a))"
   ]
  },
  {
   "cell_type": "code",
   "execution_count": 34,
   "id": "d7187093",
   "metadata": {},
   "outputs": [
    {
     "name": "stdout",
     "output_type": "stream",
     "text": [
      "this is a pythons class <class 'str'>\n"
     ]
    }
   ],
   "source": [
    "a = 'this is a pythons class'\n",
    "print(a  , type(a))"
   ]
  },
  {
   "cell_type": "code",
   "execution_count": 35,
   "id": "d7eef9fb",
   "metadata": {},
   "outputs": [
    {
     "ename": "SyntaxError",
     "evalue": "invalid syntax (2154543004.py, line 1)",
     "output_type": "error",
     "traceback": [
      "\u001b[1;36m  Input \u001b[1;32mIn [35]\u001b[1;36m\u001b[0m\n\u001b[1;33m    a = 'this is a python's class'\u001b[0m\n\u001b[1;37m                          ^\u001b[0m\n\u001b[1;31mSyntaxError\u001b[0m\u001b[1;31m:\u001b[0m invalid syntax\n"
     ]
    }
   ],
   "source": [
    "a = 'this is a python's class'\n",
    "print(a  , type(a))"
   ]
  },
  {
   "cell_type": "code",
   "execution_count": 36,
   "id": "1f4045e1",
   "metadata": {},
   "outputs": [
    {
     "name": "stdout",
     "output_type": "stream",
     "text": [
      "this is a python's class <class 'str'>\n"
     ]
    }
   ],
   "source": [
    "a = \"this is a python's class\"\n",
    "print(a  , type(a))"
   ]
  },
  {
   "cell_type": "code",
   "execution_count": 37,
   "id": "540e3bb5",
   "metadata": {},
   "outputs": [
    {
     "ename": "SyntaxError",
     "evalue": "EOL while scanning string literal (955497215.py, line 1)",
     "output_type": "error",
     "traceback": [
      "\u001b[1;36m  Input \u001b[1;32mIn [37]\u001b[1;36m\u001b[0m\n\u001b[1;33m    a = \"this\u001b[0m\n\u001b[1;37m              ^\u001b[0m\n\u001b[1;31mSyntaxError\u001b[0m\u001b[1;31m:\u001b[0m EOL while scanning string literal\n"
     ]
    }
   ],
   "source": [
    "a = \"this \n",
    "is a \n",
    "python's \n",
    "class\"\n",
    "print(a  , type(a))"
   ]
  },
  {
   "cell_type": "code",
   "execution_count": 38,
   "id": "1052b46c",
   "metadata": {},
   "outputs": [
    {
     "name": "stdout",
     "output_type": "stream",
     "text": [
      "this \n",
      "is a \n",
      "python's \n",
      "class <class 'str'>\n"
     ]
    }
   ],
   "source": [
    "a = '''this \n",
    "is a \n",
    "python's \n",
    "class'''\n",
    "print(a  , type(a))"
   ]
  },
  {
   "cell_type": "code",
   "execution_count": 39,
   "id": "98cce3fc",
   "metadata": {},
   "outputs": [
    {
     "name": "stdout",
     "output_type": "stream",
     "text": [
      "this \n",
      "is a \n",
      "python's \n",
      "class <class 'str'>\n"
     ]
    }
   ],
   "source": [
    "a = \"\"\"this \n",
    "is a \n",
    "python's \n",
    "class\"\"\"\n",
    "print(a  , type(a))"
   ]
  },
  {
   "cell_type": "code",
   "execution_count": null,
   "id": "57191449",
   "metadata": {},
   "outputs": [],
   "source": [
    "# Propertities of string\n",
    "\n",
    "\n",
    "- It is a seq data type --> It allows +ve and -ve indexing\n",
    "- +ve indexing ---> start with 0\n",
    "- -ve indexing ----> starts with -1\n",
    "- indexing , slicing , concatination, repetition, identity , membership\n",
    "\n",
    "\n",
    "# Note string is immutable"
   ]
  },
  {
   "cell_type": "code",
   "execution_count": 42,
   "id": "d5ab1344",
   "metadata": {},
   "outputs": [
    {
     "name": "stdout",
     "output_type": "stream",
     "text": [
      "world\n"
     ]
    }
   ],
   "source": [
    "a = 'hello world'\n",
    "\n",
    "print(a[6:])"
   ]
  },
  {
   "cell_type": "code",
   "execution_count": 44,
   "id": "7fe043ef",
   "metadata": {},
   "outputs": [
    {
     "name": "stdout",
     "output_type": "stream",
     "text": [
      "world\n"
     ]
    }
   ],
   "source": [
    "a = 'hello world'\n",
    "\n",
    "print(a[-5:])"
   ]
  },
  {
   "cell_type": "code",
   "execution_count": 46,
   "id": "5eebe8a5",
   "metadata": {},
   "outputs": [
    {
     "name": "stdout",
     "output_type": "stream",
     "text": [
      "leh\n"
     ]
    }
   ],
   "source": [
    "a = 'hello world'\n",
    "\n",
    "print(a[2::-1])"
   ]
  },
  {
   "cell_type": "code",
   "execution_count": 48,
   "id": "25e1f352",
   "metadata": {},
   "outputs": [
    {
     "name": "stdout",
     "output_type": "stream",
     "text": [
      "leh\n"
     ]
    }
   ],
   "source": [
    "a = 'hello world'\n",
    "\n",
    "print(a[-9::-1])"
   ]
  },
  {
   "cell_type": "code",
   "execution_count": 47,
   "id": "b26c435c",
   "metadata": {},
   "outputs": [
    {
     "data": {
      "text/plain": [
       "'l'"
      ]
     },
     "execution_count": 47,
     "metadata": {},
     "output_type": "execute_result"
    }
   ],
   "source": [
    "a[-9]"
   ]
  },
  {
   "cell_type": "code",
   "execution_count": 54,
   "id": "457ec673",
   "metadata": {},
   "outputs": [
    {
     "name": "stdout",
     "output_type": "stream",
     "text": [
      "31\n",
      "07\n",
      "2015\n",
      "31\n",
      "07\n",
      "2015\n"
     ]
    }
   ],
   "source": [
    "a = '2015-07-31' # YYYY-MM-DD\n",
    "\n",
    "# +ve indexing \n",
    "day = a[8:11]\n",
    "month = a[5:7]\n",
    "year = a[:4]\n",
    "\n",
    "print(day)\n",
    "print(month)\n",
    "print(year)\n",
    "\n",
    "# -ve indexing\n",
    "\n",
    "day = a[-2:]\n",
    "month = a[-5:-3]\n",
    "year = a[:-6]\n",
    "\n",
    "print(day)\n",
    "print(month)\n",
    "print(year)"
   ]
  },
  {
   "cell_type": "code",
   "execution_count": 58,
   "id": "2de8387b",
   "metadata": {},
   "outputs": [
    {
     "name": "stdout",
     "output_type": "stream",
     "text": [
      "nohtyp\n",
      "nohtyp\n",
      "nohtyp\n",
      "nohtyp\n"
     ]
    }
   ],
   "source": [
    "a = 'python' # nohtyp\n",
    "\n",
    "print(a[::-1])\n",
    "print(a[-1::-1])\n",
    "print(a[7::-1])\n",
    "print(a[-1:-7:-1])"
   ]
  },
  {
   "cell_type": "code",
   "execution_count": null,
   "id": "d6ce76ed",
   "metadata": {},
   "outputs": [],
   "source": [
    "# Indexing - Extracting single char at a time \n",
    "syntax :\n",
    "    var[index_value]\n",
    "    \n",
    "The index value can be positive as well as negative"
   ]
  },
  {
   "cell_type": "code",
   "execution_count": null,
   "id": "6775a969",
   "metadata": {},
   "outputs": [],
   "source": [
    "# Slicing - Extracting multiple char at a time \n",
    "syntax :\n",
    "    var[start_index : stop_index : step]\n",
    "    \n",
    "start_index ---> Inclusive\n",
    "stop_index ----> exclusive\n",
    "step --> By default the step value is 1 which also means that read in L-R direction\n",
    "\n",
    "step if changed to -ve it means that read from R-L direction\n",
    "\n",
    "step 2 every 2nd char from the begining to right\n",
    "step -2 every 2nd char from right to left\n",
    "\n",
    "step n every nth vhar from left to right\n",
    "step -n every -nth char from right to left\n"
   ]
  },
  {
   "cell_type": "code",
   "execution_count": 49,
   "id": "4aca5826",
   "metadata": {},
   "outputs": [],
   "source": [
    "a = '''Today is the anniversary of the publication \n",
    "of Robert Frost’s iconic poem “Stopping by Woods on a Snowy Evening,” \n",
    "a fact that spurred the Literary Hub office into a long conversation about their favorite poems, \n",
    "the most iconic poems written in English, and which poems we should all have already read \n",
    "(or at least be reading next). Turns out, despite frequent (false) claims that poetry is dead \n",
    "and/or irrelevant and/or boring, there are plenty of poems that have sunk deep into our collective \n",
    "consciousness as cultural icons. (What makes a poem iconic? For our purposes here, it’s primarily a \n",
    "matter of cultural ubiquity, though unimpeachable excellence helps any case.) So for those of you who \n",
    "were not present for our epic office argument, I have listed some of them here.'''"
   ]
  },
  {
   "cell_type": "code",
   "execution_count": 61,
   "id": "8bb36481",
   "metadata": {},
   "outputs": [
    {
     "name": "stdout",
     "output_type": "stream",
     "text": [
      "123456789\n",
      "13579\n",
      "97531\n"
     ]
    }
   ],
   "source": [
    "a = '123456789'\n",
    "\n",
    "print(a[0:9])\n",
    "print(a[0:9:2])\n",
    "print(a[::-2])"
   ]
  },
  {
   "cell_type": "code",
   "execution_count": 62,
   "id": "1c6ae00e",
   "metadata": {},
   "outputs": [
    {
     "name": "stdout",
     "output_type": "stream",
     "text": [
      "datascience\n"
     ]
    }
   ],
   "source": [
    "# Concatination\n",
    "\n",
    "# op --> +\n",
    "# operands ---> both should be string\n",
    "\n",
    "a = 'data'\n",
    "b = 'science'\n",
    "\n",
    "print(a + b)"
   ]
  },
  {
   "cell_type": "code",
   "execution_count": null,
   "id": "318fdeb2",
   "metadata": {},
   "outputs": [],
   "source": [
    "# Repetition\n",
    "\n",
    "# op ---> *\n",
    "# operands ----> One should be string and the other should be a int"
   ]
  },
  {
   "cell_type": "code",
   "execution_count": 65,
   "id": "de1a0ee1",
   "metadata": {},
   "outputs": [
    {
     "name": "stdout",
     "output_type": "stream",
     "text": [
      "abcabcabcabcabc\n"
     ]
    }
   ],
   "source": [
    "a = 'abc'\n",
    "b = 5\n",
    "\n",
    "print(a*b)"
   ]
  },
  {
   "cell_type": "code",
   "execution_count": 64,
   "id": "e2c1fb48",
   "metadata": {},
   "outputs": [
    {
     "name": "stdout",
     "output_type": "stream",
     "text": [
      "30\n"
     ]
    }
   ],
   "source": [
    "a = 6\n",
    "b = 5\n",
    "\n",
    "print(a*b)"
   ]
  },
  {
   "cell_type": "code",
   "execution_count": null,
   "id": "89917139",
   "metadata": {},
   "outputs": [],
   "source": [
    "# Identity\n",
    "# op ---> is and is not\n",
    "- tells if the address of 2 variables is same or not\n",
    "- the output is always bool"
   ]
  },
  {
   "cell_type": "code",
   "execution_count": 66,
   "id": "9c4ffa91",
   "metadata": {},
   "outputs": [
    {
     "name": "stdout",
     "output_type": "stream",
     "text": [
      "2993233173616\n",
      "2993233173616\n"
     ]
    }
   ],
   "source": [
    "a = 'python'\n",
    "b = 'python'\n",
    "\n",
    "print(id(a))\n",
    "print(id(b))"
   ]
  },
  {
   "cell_type": "code",
   "execution_count": 3,
   "id": "cf0c6405",
   "metadata": {},
   "outputs": [
    {
     "name": "stdout",
     "output_type": "stream",
     "text": [
      "2414452492336\n",
      "2414452483056\n"
     ]
    }
   ],
   "source": [
    "a = 'python@'\n",
    "b = 'python@'\n",
    "\n",
    "print(id(a))\n",
    "print(id(b))"
   ]
  },
  {
   "cell_type": "code",
   "execution_count": 69,
   "id": "a1f3c1df",
   "metadata": {},
   "outputs": [
    {
     "name": "stdout",
     "output_type": "stream",
     "text": [
      "2993318149040\n",
      "2993317422896\n",
      "False\n"
     ]
    }
   ],
   "source": [
    "a = 'data science'\n",
    "b = 'data science'\n",
    "\n",
    "print(id(a))\n",
    "print(id(b))\n",
    "\n",
    "print(a is b)"
   ]
  },
  {
   "cell_type": "code",
   "execution_count": 70,
   "id": "f2481f1c",
   "metadata": {},
   "outputs": [
    {
     "name": "stdout",
     "output_type": "stream",
     "text": [
      "2993318147696\n",
      "2993318149360\n",
      "True\n"
     ]
    }
   ],
   "source": [
    "a = 'data science'\n",
    "b = 'data science'\n",
    "\n",
    "print(id(a))\n",
    "print(id(b))\n",
    "\n",
    "print(a is not b)"
   ]
  },
  {
   "cell_type": "code",
   "execution_count": 71,
   "id": "a63d20d6",
   "metadata": {},
   "outputs": [
    {
     "name": "stdout",
     "output_type": "stream",
     "text": [
      "2993233173616\n",
      "2993203339824\n"
     ]
    }
   ],
   "source": [
    "a = 'python'\n",
    "b = 'cython'\n",
    "\n",
    "print(id(a))\n",
    "print(id(b))"
   ]
  },
  {
   "cell_type": "code",
   "execution_count": 1,
   "id": "063d44c9",
   "metadata": {},
   "outputs": [
    {
     "name": "stdout",
     "output_type": "stream",
     "text": [
      "2184378991472\n",
      "2184378991472\n"
     ]
    }
   ],
   "source": [
    "a = 'python'\n",
    "b = 'cython'\n",
    "\n",
    "print(id(a[1]))\n",
    "print(id(b[1]))"
   ]
  },
  {
   "cell_type": "code",
   "execution_count": null,
   "id": "39059a6d",
   "metadata": {},
   "outputs": [],
   "source": [
    "a = 'python'\n",
    "b = 'cython'\n",
    "\n",
    "print(a)"
   ]
  },
  {
   "cell_type": "code",
   "execution_count": 1,
   "id": "7e59f403",
   "metadata": {},
   "outputs": [
    {
     "name": "stdout",
     "output_type": "stream",
     "text": [
      "140704155540696\n",
      "140704155540696\n"
     ]
    }
   ],
   "source": [
    "a = None\n",
    "b = None\n",
    "\n",
    "print(id(a))\n",
    "print(id(b))"
   ]
  },
  {
   "cell_type": "code",
   "execution_count": null,
   "id": "8ec160ad",
   "metadata": {},
   "outputs": [],
   "source": [
    "# Membership operators\n",
    "\n",
    "# op --> in ans not in\n",
    "- Tells us if the sub seq is present inside a seq or no\n",
    "- always returns bool"
   ]
  },
  {
   "cell_type": "code",
   "execution_count": 4,
   "id": "a6c4e593",
   "metadata": {},
   "outputs": [
    {
     "name": "stdout",
     "output_type": "stream",
     "text": [
      "True\n"
     ]
    }
   ],
   "source": [
    "a = 'this is october batch of learnbay'\n",
    "\n",
    "print('batch' in a)"
   ]
  },
  {
   "cell_type": "code",
   "execution_count": 6,
   "id": "49b1ff6c",
   "metadata": {},
   "outputs": [
    {
     "name": "stdout",
     "output_type": "stream",
     "text": [
      "True\n"
     ]
    }
   ],
   "source": [
    "a = 'this is october batch of learnbay'\n",
    "\n",
    "print('Batch' not in a)"
   ]
  },
  {
   "cell_type": "code",
   "execution_count": 8,
   "id": "35f7577a",
   "metadata": {},
   "outputs": [
    {
     "name": "stdout",
     "output_type": "stream",
     "text": [
      "False\n"
     ]
    }
   ],
   "source": [
    "a = 'this is october batch of learnbay'\n",
    "\n",
    "print('z' in a)"
   ]
  },
  {
   "cell_type": "code",
   "execution_count": 9,
   "id": "f573da1b",
   "metadata": {},
   "outputs": [
    {
     "name": "stdout",
     "output_type": "stream",
     "text": [
      "False\n"
     ]
    }
   ],
   "source": [
    "a = 'this october batch of learnbay'\n",
    "\n",
    "print(' is' in a)"
   ]
  },
  {
   "cell_type": "code",
   "execution_count": 11,
   "id": "c9a1f8b8",
   "metadata": {},
   "outputs": [
    {
     "name": "stdout",
     "output_type": "stream",
     "text": [
      "True\n"
     ]
    }
   ],
   "source": [
    "a = 'this is october batch of learnbay'\n",
    "\n",
    "print(' is ' in a)"
   ]
  },
  {
   "cell_type": "code",
   "execution_count": 18,
   "id": "a62cbfca",
   "metadata": {},
   "outputs": [
    {
     "name": "stdout",
     "output_type": "stream",
     "text": [
      "True\n"
     ]
    }
   ],
   "source": [
    "a = 'this is october batch of learnbay'\n",
    "\n",
    "print('s i' in a)"
   ]
  },
  {
   "cell_type": "markdown",
   "id": "61ea3003",
   "metadata": {},
   "source": [
    "# Immutable"
   ]
  },
  {
   "cell_type": "code",
   "execution_count": 20,
   "id": "68c6af62",
   "metadata": {},
   "outputs": [
    {
     "ename": "TypeError",
     "evalue": "'str' object does not support item assignment",
     "output_type": "error",
     "traceback": [
      "\u001b[1;31m---------------------------------------------------------------------------\u001b[0m",
      "\u001b[1;31mTypeError\u001b[0m                                 Traceback (most recent call last)",
      "Input \u001b[1;32mIn [20]\u001b[0m, in \u001b[0;36m<cell line: 3>\u001b[1;34m()\u001b[0m\n\u001b[0;32m      1\u001b[0m a \u001b[38;5;241m=\u001b[39m \u001b[38;5;124m'\u001b[39m\u001b[38;5;124mpython\u001b[39m\u001b[38;5;124m'\u001b[39m\n\u001b[1;32m----> 3\u001b[0m a[\u001b[38;5;241m3\u001b[39m] \u001b[38;5;241m=\u001b[39m \u001b[38;5;124m'\u001b[39m\u001b[38;5;124mk\u001b[39m\u001b[38;5;124m'\u001b[39m\n",
      "\u001b[1;31mTypeError\u001b[0m: 'str' object does not support item assignment"
     ]
    }
   ],
   "source": [
    "a = 'python'\n",
    "\n",
    "a[3] = 'k'"
   ]
  },
  {
   "cell_type": "code",
   "execution_count": 22,
   "id": "e6d94aab",
   "metadata": {},
   "outputs": [
    {
     "data": {
      "text/plain": [
       "[1, 2, 100, 4]"
      ]
     },
     "execution_count": 22,
     "metadata": {},
     "output_type": "execute_result"
    }
   ],
   "source": [
    "lst = [1,2,3,4]\n",
    "\n",
    "lst[2] = 100\n",
    "\n",
    "lst"
   ]
  },
  {
   "cell_type": "code",
   "execution_count": 34,
   "id": "da2d0931",
   "metadata": {},
   "outputs": [],
   "source": [
    "a = 'this is october batch of learnbay'\n",
    "\n",
    "b = a.replace('october' , 'oct')"
   ]
  },
  {
   "cell_type": "code",
   "execution_count": 35,
   "id": "9d88c2c6",
   "metadata": {},
   "outputs": [
    {
     "data": {
      "text/plain": [
       "'this is october batch of learnbay'"
      ]
     },
     "execution_count": 35,
     "metadata": {},
     "output_type": "execute_result"
    }
   ],
   "source": [
    "a"
   ]
  },
  {
   "cell_type": "code",
   "execution_count": 36,
   "id": "72923236",
   "metadata": {},
   "outputs": [
    {
     "data": {
      "text/plain": [
       "'this is oct batch of learnbay'"
      ]
     },
     "execution_count": 36,
     "metadata": {},
     "output_type": "execute_result"
    }
   ],
   "source": [
    "b"
   ]
  },
  {
   "cell_type": "code",
   "execution_count": 33,
   "id": "6e810fe9",
   "metadata": {},
   "outputs": [
    {
     "name": "stdout",
     "output_type": "stream",
     "text": [
      "2414365010512\n",
      "2414365010832\n",
      "20\n"
     ]
    }
   ],
   "source": [
    "a = 10\n",
    "\n",
    "print(id(a))\n",
    "\n",
    "a = 20\n",
    "print(id(a))\n",
    "\n",
    "print(a)"
   ]
  },
  {
   "cell_type": "markdown",
   "id": "adff45a7",
   "metadata": {},
   "source": [
    "# String methods"
   ]
  },
  {
   "cell_type": "code",
   "execution_count": 38,
   "id": "a9f0bb77",
   "metadata": {},
   "outputs": [
    {
     "name": "stdout",
     "output_type": "stream",
     "text": [
      "['__add__', '__class__', '__contains__', '__delattr__', '__dir__', '__doc__', '__eq__', '__format__', '__ge__', '__getattribute__', '__getitem__', '__getnewargs__', '__gt__', '__hash__', '__init__', '__init_subclass__', '__iter__', '__le__', '__len__', '__lt__', '__mod__', '__mul__', '__ne__', '__new__', '__reduce__', '__reduce_ex__', '__repr__', '__rmod__', '__rmul__', '__setattr__', '__sizeof__', '__str__', '__subclasshook__', 'capitalize', 'casefold', 'center', 'count', 'encode', 'endswith', 'expandtabs', 'find', 'format', 'format_map', 'index', 'isalnum', 'isalpha', 'isascii', 'isdecimal', 'isdigit', 'isidentifier', 'islower', 'isnumeric', 'isprintable', 'isspace', 'istitle', 'isupper', 'join', 'ljust', 'lower', 'lstrip', 'maketrans', 'partition', 'removeprefix', 'removesuffix', 'replace', 'rfind', 'rindex', 'rjust', 'rpartition', 'rsplit', 'rstrip', 'split', 'splitlines', 'startswith', 'strip', 'swapcase', 'title', 'translate', 'upper', 'zfill']\n"
     ]
    }
   ],
   "source": [
    "print(dir(str))"
   ]
  },
  {
   "cell_type": "code",
   "execution_count": 45,
   "id": "dc6c2932",
   "metadata": {},
   "outputs": [
    {
     "name": "stdout",
     "output_type": "stream",
     "text": [
      "This is pythons class\n",
      "APPLE BANANA\n",
      "apple banana\n",
      "APPLE banana\n",
      "This Is Pythons Class\n"
     ]
    }
   ],
   "source": [
    "a = 'this is pythons class'\n",
    "\n",
    "\n",
    "# capitalize - make the first character have upper case and the rest lowercase.\n",
    "print(a.capitalize())\n",
    "\n",
    "\n",
    "# upper - converts all the char to upper\n",
    "print('apple BANANA'.upper())\n",
    "\n",
    "\n",
    "# lower - converts all the char to lower\n",
    "print('apple BANANA'.lower())\n",
    "\n",
    "\n",
    "# swapcase - converts upper to lower and lower to upper \n",
    "print('apple BANANA'.swapcase())\n",
    "\n",
    "\n",
    "\n",
    "# title - \n",
    "print(a.title())"
   ]
  },
  {
   "cell_type": "code",
   "execution_count": 62,
   "id": "6a9c8646",
   "metadata": {},
   "outputs": [
    {
     "name": "stdout",
     "output_type": "stream",
     "text": [
      "True\n",
      "False\n",
      "True\n",
      "********\n",
      "True\n",
      "False\n",
      "True\n"
     ]
    }
   ],
   "source": [
    "# Methods that return bool values \n",
    "\n",
    "\n",
    "# startswith\n",
    "\n",
    "a = 'hello world'\n",
    "print(a.startswith('hell'))\n",
    "\n",
    "print(a.startswith('hell' , 5))\n",
    "\n",
    "print(a.startswith('w' , 6))\n",
    "\n",
    "print('********')\n",
    "# endswith\n",
    "\n",
    "a = 'hello world'\n",
    "\n",
    "print(a.endswith('rld'))\n",
    "\n",
    "print(a.endswith('rld' , 0 , 5))\n",
    "\n",
    "\n",
    "print(a.endswith('o' , 0 , 5))"
   ]
  },
  {
   "cell_type": "code",
   "execution_count": 56,
   "id": "18622843",
   "metadata": {},
   "outputs": [],
   "source": [
    "a = ['xyz@gmail.co' , 'abc@yahoo.in' , 'pqr@gmail.com']\n",
    "b = []\n",
    "\n",
    "for i in a:\n",
    "    if i.startswith('gmail',4) == True:\n",
    "        b.append(i)"
   ]
  },
  {
   "cell_type": "code",
   "execution_count": 57,
   "id": "d24033da",
   "metadata": {},
   "outputs": [
    {
     "data": {
      "text/plain": [
       "['xyz@gmail.com', 'pqr@gmail.com']"
      ]
     },
     "execution_count": 57,
     "metadata": {},
     "output_type": "execute_result"
    }
   ],
   "source": [
    "b"
   ]
  },
  {
   "cell_type": "code",
   "execution_count": 60,
   "id": "ddc292ab",
   "metadata": {},
   "outputs": [
    {
     "data": {
      "text/plain": [
       "11"
      ]
     },
     "execution_count": 60,
     "metadata": {},
     "output_type": "execute_result"
    }
   ],
   "source": [
    "a = 'hello world'\n",
    "len(a)"
   ]
  },
  {
   "cell_type": "code",
   "execution_count": 63,
   "id": "9a1cfdb2",
   "metadata": {},
   "outputs": [],
   "source": [
    "a = ['xyz@gmail.co' , 'abc@yahoo.in' , 'pqr@gmail.com']\n",
    "b = []\n",
    "\n",
    "for i in a:\n",
    "    if i.endswith('com') == True:\n",
    "        b.append(i)"
   ]
  },
  {
   "cell_type": "code",
   "execution_count": 64,
   "id": "10de7c60",
   "metadata": {},
   "outputs": [
    {
     "data": {
      "text/plain": [
       "['pqr@gmail.com']"
      ]
     },
     "execution_count": 64,
     "metadata": {},
     "output_type": "execute_result"
    }
   ],
   "source": [
    "b"
   ]
  },
  {
   "cell_type": "code",
   "execution_count": 68,
   "id": "c55c0ec7",
   "metadata": {},
   "outputs": [
    {
     "name": "stdout",
     "output_type": "stream",
     "text": [
      "True\n",
      "True\n"
     ]
    }
   ],
   "source": [
    "a = 'hello world'\n",
    "\n",
    "\n",
    "print(a.startswith('h'))\n",
    "\n",
    "print(a.endswith('d'))"
   ]
  },
  {
   "cell_type": "code",
   "execution_count": 76,
   "id": "d1b80e17",
   "metadata": {},
   "outputs": [
    {
     "name": "stdout",
     "output_type": "stream",
     "text": [
      "True\n",
      "True\n"
     ]
    }
   ],
   "source": [
    "a = 'hello world'\n",
    "\n",
    "\n",
    "print(a.startswith('w' , 6))\n",
    "\n",
    "print(a.endswith('o' , 0 ,5))"
   ]
  },
  {
   "cell_type": "code",
   "execution_count": 82,
   "id": "e5faa032",
   "metadata": {},
   "outputs": [
    {
     "name": "stdout",
     "output_type": "stream",
     "text": [
      "True\n",
      "True\n",
      "False\n",
      "True\n",
      "****************\n",
      "True\n",
      "False\n",
      "False\n",
      "False\n",
      "****************\n",
      "False\n",
      "False\n",
      "False\n",
      "True\n",
      "****************\n"
     ]
    }
   ],
   "source": [
    "s1 = 'abc'\n",
    "s2 = '123abc'\n",
    "s3 = '*&'\n",
    "s4 = '1234'\n",
    "\n",
    "# isalnum- true is either alpha / numbers / mix of both else false\n",
    "\n",
    "print(s1.isalnum()) # true\n",
    "print(s2.isalnum()) # true\n",
    "print(s3.isalnum()) # false\n",
    "print(s4.isalnum()) # true\n",
    "\n",
    "\n",
    "print('****************')\n",
    "\n",
    "\n",
    "# isalph- true is either alpha\n",
    "\n",
    "print(s1.isalpha()) # true\n",
    "print(s2.isalpha()) # false\n",
    "print(s3.isalpha()) # false\n",
    "print(s4.isalpha()) # false\n",
    "\n",
    "\n",
    "print('****************')\n",
    "\n",
    "# isnumeric- true is either numeric\n",
    "\n",
    "print(s1.isnumeric()) # false\n",
    "print(s2.isnumeric()) # false\n",
    "print(s3.isnumeric()) # false\n",
    "print(s4.isnumeric()) # true\n",
    "\n",
    "\n",
    "print('****************')"
   ]
  },
  {
   "cell_type": "code",
   "execution_count": 86,
   "id": "f6182a01",
   "metadata": {},
   "outputs": [
    {
     "name": "stdout",
     "output_type": "stream",
     "text": [
      "True\n",
      "False\n",
      "False\n",
      "False\n"
     ]
    }
   ],
   "source": [
    "s1 = 'abc'\n",
    "s2 = '123abc'\n",
    "s3 = '*&'\n",
    "s4 = '1234'\n",
    "\n",
    "# isnumeric- true is either numeric\n",
    "\n",
    "print(s1.isidentifier()) # true\n",
    "print(s2.isidentifier()) # false\n",
    "print(s3.isidentifier()) # false\n",
    "print(s4.isidentifier()) # false"
   ]
  },
  {
   "cell_type": "code",
   "execution_count": 85,
   "id": "67983692",
   "metadata": {},
   "outputs": [
    {
     "ename": "SyntaxError",
     "evalue": "invalid syntax (242504438.py, line 1)",
     "output_type": "error",
     "traceback": [
      "\u001b[1;36m  Input \u001b[1;32mIn [85]\u001b[1;36m\u001b[0m\n\u001b[1;33m    1234abc = 12\u001b[0m\n\u001b[1;37m        ^\u001b[0m\n\u001b[1;31mSyntaxError\u001b[0m\u001b[1;31m:\u001b[0m invalid syntax\n"
     ]
    }
   ],
   "source": [
    "1234abc = 12\n",
    "1234abc"
   ]
  },
  {
   "cell_type": "code",
   "execution_count": 91,
   "id": "3e951d7b",
   "metadata": {},
   "outputs": [
    {
     "name": "stdout",
     "output_type": "stream",
     "text": [
      "abcabc\n"
     ]
    }
   ],
   "source": [
    "a ='abc'\n",
    "\n",
    "\n",
    "print(a * 2)"
   ]
  },
  {
   "cell_type": "markdown",
   "id": "4f3be6ba",
   "metadata": {},
   "source": [
    "# Continue from special and escape char"
   ]
  },
  {
   "cell_type": "code",
   "execution_count": null,
   "id": "c4f866e7",
   "metadata": {},
   "outputs": [],
   "source": []
  }
 ],
 "metadata": {
  "kernelspec": {
   "display_name": "Python 3 (ipykernel)",
   "language": "python",
   "name": "python3"
  },
  "language_info": {
   "codemirror_mode": {
    "name": "ipython",
    "version": 3
   },
   "file_extension": ".py",
   "mimetype": "text/x-python",
   "name": "python",
   "nbconvert_exporter": "python",
   "pygments_lexer": "ipython3",
   "version": "3.9.12"
  }
 },
 "nbformat": 4,
 "nbformat_minor": 5
}
