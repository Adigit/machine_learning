{
 "cells": [
  {
   "cell_type": "markdown",
   "id": "8f440c45",
   "metadata": {},
   "source": [
    "# Order precedence"
   ]
  },
  {
   "cell_type": "markdown",
   "id": "d519522a",
   "metadata": {},
   "source": [
    "() ---> paranthesis\n",
    "** ----> exponent\n",
    "+x , -x , ~x ---> \n",
    "/,* , // , %\n",
    "+ . -\n",
    "<< , >>\n",
    "&\n",
    "^\n",
    "|\n",
    "== , != , <, > ,  <=\n",
    "not \n",
    "and \n",
    "or"
   ]
  },
  {
   "cell_type": "markdown",
   "id": "4e7bfce0",
   "metadata": {},
   "source": [
    "# Special and Escape char"
   ]
  },
  {
   "cell_type": "code",
   "execution_count": 4,
   "id": "96ae097b",
   "metadata": {},
   "outputs": [
    {
     "name": "stdout",
     "output_type": "stream",
     "text": [
      "['__add__', '__class__', '__contains__', '__delattr__', '__dir__', '__doc__', '__eq__', '__format__', '__ge__', '__getattribute__', '__getitem__', '__getnewargs__', '__gt__', '__hash__', '__init__', '__init_subclass__', '__iter__', '__le__', '__len__', '__lt__', '__mod__', '__mul__', '__ne__', '__new__', '__reduce__', '__reduce_ex__', '__repr__', '__rmod__', '__rmul__', '__setattr__', '__sizeof__', '__str__', '__subclasshook__', 'capitalize', 'casefold', 'center', 'count', 'encode', 'endswith', 'expandtabs', 'find', 'format', 'format_map', 'index', 'isalnum', 'isalpha', 'isascii', 'isdecimal', 'isdigit', 'isidentifier', 'islower', 'isnumeric', 'isprintable', 'isspace', 'istitle', 'isupper', 'join', 'ljust', 'lower', 'lstrip', 'maketrans', 'partition', 'removeprefix', 'removesuffix', 'replace', 'rfind', 'rindex', 'rjust', 'rpartition', 'rsplit', 'rstrip', 'split', 'splitlines', 'startswith', 'strip', 'swapcase', 'title', 'translate', 'upper', 'zfill']\n"
     ]
    }
   ],
   "source": [
    "print(dir(str))"
   ]
  },
  {
   "cell_type": "code",
   "execution_count": 5,
   "id": "7a00c503",
   "metadata": {},
   "outputs": [
    {
     "name": "stdout",
     "output_type": "stream",
     "text": [
      "hello\n",
      "world\n"
     ]
    }
   ],
   "source": [
    "# \\n ---> new line\n",
    "\n",
    "print('hello\\nworld')"
   ]
  },
  {
   "cell_type": "code",
   "execution_count": 6,
   "id": "eec1fa25",
   "metadata": {},
   "outputs": [
    {
     "name": "stdout",
     "output_type": "stream",
     "text": [
      "hello\tworld\n"
     ]
    }
   ],
   "source": [
    "# \\t ---> tab space\n",
    "\n",
    "print('hello\\tworld')"
   ]
  },
  {
   "cell_type": "markdown",
   "id": "b821930a",
   "metadata": {},
   "source": [
    "# Back slash - escape character"
   ]
  },
  {
   "cell_type": "code",
   "execution_count": 8,
   "id": "e3fc380f",
   "metadata": {},
   "outputs": [
    {
     "name": "stdout",
     "output_type": "stream",
     "text": [
      "hello\\nworld\n"
     ]
    }
   ],
   "source": [
    "print('hello\\\\nworld')"
   ]
  },
  {
   "cell_type": "code",
   "execution_count": 9,
   "id": "986ec0d9",
   "metadata": {},
   "outputs": [
    {
     "name": "stdout",
     "output_type": "stream",
     "text": [
      "hello\\tworld\n"
     ]
    }
   ],
   "source": [
    "print('hello\\\\tworld')"
   ]
  },
  {
   "cell_type": "code",
   "execution_count": 10,
   "id": "e2aa860f",
   "metadata": {},
   "outputs": [
    {
     "name": "stdout",
     "output_type": "stream",
     "text": [
      "hello\bworld\n"
     ]
    }
   ],
   "source": [
    "# \\b ---> backspace - deletes the previous char\n",
    "\n",
    "\n",
    "print('hello\\bworld')"
   ]
  },
  {
   "cell_type": "code",
   "execution_count": 11,
   "id": "66210eee",
   "metadata": {},
   "outputs": [
    {
     "name": "stdout",
     "output_type": "stream",
     "text": [
      "python \bclass\n"
     ]
    }
   ],
   "source": [
    "print('python \\bclass')"
   ]
  },
  {
   "cell_type": "code",
   "execution_count": 12,
   "id": "baaa62f3",
   "metadata": {},
   "outputs": [
    {
     "name": "stdout",
     "output_type": "stream",
     "text": [
      "ab\bc\n"
     ]
    }
   ],
   "source": [
    "print('ab' + '\\b'+'c')"
   ]
  },
  {
   "cell_type": "code",
   "execution_count": 14,
   "id": "5be6c026",
   "metadata": {},
   "outputs": [
    {
     "name": "stdout",
     "output_type": "stream",
     "text": [
      "hello\r",
      "wor\n"
     ]
    }
   ],
   "source": [
    "# \\r --> carriage return \n",
    "# Moves all the char on the right hand side to left hand side by replacing the original ones\n",
    "\n",
    "\n",
    "txt = 'hello\\rwor'\n",
    "\n",
    "\n",
    "print(txt)"
   ]
  },
  {
   "cell_type": "markdown",
   "id": "1ab4980d",
   "metadata": {},
   "source": [
    "# Raw string"
   ]
  },
  {
   "cell_type": "code",
   "execution_count": 19,
   "id": "3a2217b5",
   "metadata": {},
   "outputs": [
    {
     "name": "stdout",
     "output_type": "stream",
     "text": [
      "hello\\nworld\\tI am python\n"
     ]
    }
   ],
   "source": [
    "a = r'hello\\nworld\\tI am python'\n",
    "\n",
    "print(a)"
   ]
  },
  {
   "cell_type": "markdown",
   "id": "112d523f",
   "metadata": {},
   "source": [
    "# String methods"
   ]
  },
  {
   "cell_type": "code",
   "execution_count": 20,
   "id": "59436102",
   "metadata": {},
   "outputs": [
    {
     "name": "stdout",
     "output_type": "stream",
     "text": [
      "['__add__', '__class__', '__contains__', '__delattr__', '__dir__', '__doc__', '__eq__', '__format__', '__ge__', '__getattribute__', '__getitem__', '__getnewargs__', '__gt__', '__hash__', '__init__', '__init_subclass__', '__iter__', '__le__', '__len__', '__lt__', '__mod__', '__mul__', '__ne__', '__new__', '__reduce__', '__reduce_ex__', '__repr__', '__rmod__', '__rmul__', '__setattr__', '__sizeof__', '__str__', '__subclasshook__', 'capitalize', 'casefold', 'center', 'count', 'encode', 'endswith', 'expandtabs', 'find', 'format', 'format_map', 'index', 'isalnum', 'isalpha', 'isascii', 'isdecimal', 'isdigit', 'isidentifier', 'islower', 'isnumeric', 'isprintable', 'isspace', 'istitle', 'isupper', 'join', 'ljust', 'lower', 'lstrip', 'maketrans', 'partition', 'removeprefix', 'removesuffix', 'replace', 'rfind', 'rindex', 'rjust', 'rpartition', 'rsplit', 'rstrip', 'split', 'splitlines', 'startswith', 'strip', 'swapcase', 'title', 'translate', 'upper', 'zfill']\n"
     ]
    }
   ],
   "source": [
    "print(dir(str))"
   ]
  },
  {
   "cell_type": "code",
   "execution_count": 24,
   "id": "12ef77d5",
   "metadata": {},
   "outputs": [
    {
     "name": "stdout",
     "output_type": "stream",
     "text": [
      "False\n",
      "False\n",
      "False\n",
      "False\n",
      "*********\n",
      "ABC\n",
      "123ABC\n",
      "*&\n",
      "ABC\n",
      "True\n",
      "True\n",
      "False\n",
      "False\n"
     ]
    }
   ],
   "source": [
    "s1 = 'abc'\n",
    "s2 = '123abc'\n",
    "s3 = '*&'\n",
    "s4 = 'Abc'\n",
    "\n",
    "# isnumeric- true is either numeric\n",
    "\n",
    "print(s1.isupper()) # \n",
    "print(s2.isupper()) # \n",
    "print(s3.isupper()) # \n",
    "print(s4.isupper()) # \n",
    "\n",
    "print('*********')\n",
    "# upper - \n",
    "print(s1.upper()) # \n",
    "print(s2.upper()) # \n",
    "print(s3.upper()) # \n",
    "print(s4.upper()) # \n",
    "\n",
    "\n",
    "\n",
    "# islower- true if all the char are lower \n",
    "print(s1.islower()) # \n",
    "print(s2.islower()) # \n",
    "print(s3.islower()) # \n",
    "print(s4.islower()) # "
   ]
  },
  {
   "cell_type": "markdown",
   "id": "4c5e5580",
   "metadata": {},
   "source": [
    "# Rstrip , strip , l strip"
   ]
  },
  {
   "cell_type": "markdown",
   "id": "7923b698",
   "metadata": {},
   "source": [
    "- removes the char specified from both the end\n",
    "- if not mentioned by default it'll remove space"
   ]
  },
  {
   "cell_type": "code",
   "execution_count": 28,
   "id": "d19508aa",
   "metadata": {},
   "outputs": [
    {
     "name": "stdout",
     "output_type": "stream",
     "text": [
      "         python          \n",
      "python\n",
      "python\n"
     ]
    }
   ],
   "source": [
    "print('         python          ')\n",
    "print('         python          '.strip())\n",
    "\n",
    "\n",
    "\n",
    "print('*******python**'.strip('*'))"
   ]
  },
  {
   "cell_type": "code",
   "execution_count": 50,
   "id": "a9909b72",
   "metadata": {},
   "outputs": [
    {
     "name": "stdout",
     "output_type": "stream",
     "text": [
      "enter the user name : 123****xyz@gmail.com*******\n",
      "enter the password : python\n",
      "logged in\n"
     ]
    }
   ],
   "source": [
    "user_name = input('enter the user name : ')\n",
    "password = input('enter the password : ')\n",
    "\n",
    "\n",
    "if user_name.strip('123*') == 'xyz@gmail.com' and password.strip('*') == 'python':\n",
    "    print('logged in')\n",
    "    \n",
    "else:\n",
    "    print('invalid info')"
   ]
  },
  {
   "cell_type": "code",
   "execution_count": 35,
   "id": "2beb9956",
   "metadata": {},
   "outputs": [
    {
     "name": "stdout",
     "output_type": "stream",
     "text": [
      "python\n"
     ]
    }
   ],
   "source": [
    "print('*******     python   **'.strip('* '))"
   ]
  },
  {
   "cell_type": "code",
   "execution_count": 59,
   "id": "1d0aa478",
   "metadata": {},
   "outputs": [
    {
     "name": "stdout",
     "output_type": "stream",
     "text": [
      "4######     python\n"
     ]
    }
   ],
   "source": [
    "print('1234######     python      #######**'.strip('*# 321'))"
   ]
  },
  {
   "cell_type": "code",
   "execution_count": 40,
   "id": "d4c10e37",
   "metadata": {},
   "outputs": [
    {
     "name": "stdout",
     "output_type": "stream",
     "text": [
      "py*thon\n"
     ]
    }
   ],
   "source": [
    "print('*******######py*thon#######**'.strip('*#'))"
   ]
  },
  {
   "cell_type": "code",
   "execution_count": 45,
   "id": "341694d9",
   "metadata": {},
   "outputs": [
    {
     "name": "stdout",
     "output_type": "stream",
     "text": [
      "py*thon\n"
     ]
    }
   ],
   "source": [
    "print('*******py*thon**'.strip('*'))"
   ]
  },
  {
   "cell_type": "code",
   "execution_count": 48,
   "id": "449786a5",
   "metadata": {},
   "outputs": [
    {
     "name": "stdout",
     "output_type": "stream",
     "text": [
      "learnbay        python\n"
     ]
    }
   ],
   "source": [
    "print('*******######learnbay        python#######**'.strip('*#'))"
   ]
  },
  {
   "cell_type": "code",
   "execution_count": 66,
   "id": "b6e9c0a1",
   "metadata": {},
   "outputs": [
    {
     "name": "stdout",
     "output_type": "stream",
     "text": [
      "True\n"
     ]
    }
   ],
   "source": [
    "a = 10\n",
    "b = 20\n",
    "\n",
    "print(a != b)"
   ]
  },
  {
   "cell_type": "code",
   "execution_count": 65,
   "id": "81a42462",
   "metadata": {},
   "outputs": [
    {
     "name": "stdout",
     "output_type": "stream",
     "text": [
      "enter the user name : xyz@gmail.com\n",
      "enter the password : learnbay\n",
      "logged in\n"
     ]
    }
   ],
   "source": [
    "user_name = input('enter the user name : ')\n",
    "password = input('enter the password : ')\n",
    "\n",
    "\n",
    "if user_name.strip('123*') == 'xyz@gmail.com' or password.strip('*') == 'python':\n",
    "    print('logged in')\n",
    "    \n",
    "else:\n",
    "    print('invalid info')"
   ]
  },
  {
   "cell_type": "code",
   "execution_count": 63,
   "id": "41155a52",
   "metadata": {},
   "outputs": [
    {
     "data": {
      "text/plain": [
       "False"
      ]
     },
     "execution_count": 63,
     "metadata": {},
     "output_type": "execute_result"
    }
   ],
   "source": [
    "True and False"
   ]
  },
  {
   "cell_type": "code",
   "execution_count": 67,
   "id": "34a485de",
   "metadata": {},
   "outputs": [
    {
     "data": {
      "text/plain": [
       "True"
      ]
     },
     "execution_count": 67,
     "metadata": {},
     "output_type": "execute_result"
    }
   ],
   "source": [
    "True or True"
   ]
  },
  {
   "cell_type": "code",
   "execution_count": 69,
   "id": "87e16849",
   "metadata": {},
   "outputs": [
    {
     "name": "stdout",
     "output_type": "stream",
     "text": [
      "         python          \n",
      "         python\n",
      "*******python\n"
     ]
    }
   ],
   "source": [
    "print('         python          ')\n",
    "print('         python          '.rstrip())\n",
    "\n",
    "\n",
    "\n",
    "print('*******python*****'.rstrip('*'))"
   ]
  },
  {
   "cell_type": "code",
   "execution_count": 70,
   "id": "7986aaa5",
   "metadata": {},
   "outputs": [
    {
     "name": "stdout",
     "output_type": "stream",
     "text": [
      "python*****\n"
     ]
    }
   ],
   "source": [
    "\n",
    "print('*******python*****'.lstrip('*'))"
   ]
  },
  {
   "cell_type": "markdown",
   "id": "919a27cb",
   "metadata": {},
   "source": [
    "# Count"
   ]
  },
  {
   "cell_type": "code",
   "execution_count": 72,
   "id": "ec55aa25",
   "metadata": {},
   "outputs": [
    {
     "data": {
      "text/plain": [
       "2"
      ]
     },
     "execution_count": 72,
     "metadata": {},
     "output_type": "execute_result"
    }
   ],
   "source": [
    "str_1 = 'Hi my name is python'\n",
    "\n",
    "str_1.count('i')"
   ]
  },
  {
   "cell_type": "code",
   "execution_count": 73,
   "id": "dce2edd9",
   "metadata": {},
   "outputs": [
    {
     "data": {
      "text/plain": [
       "3"
      ]
     },
     "execution_count": 73,
     "metadata": {},
     "output_type": "execute_result"
    }
   ],
   "source": [
    "str_1 = 'Hi my name is python this is a class'\n",
    "\n",
    "str_1.count('is')"
   ]
  },
  {
   "cell_type": "code",
   "execution_count": 74,
   "id": "34790e59",
   "metadata": {},
   "outputs": [
    {
     "data": {
      "text/plain": [
       "2"
      ]
     },
     "execution_count": 74,
     "metadata": {},
     "output_type": "execute_result"
    }
   ],
   "source": [
    "str_1 = 'Hi my name is python this is a class'\n",
    "\n",
    "str_1.count(' is ')"
   ]
  },
  {
   "cell_type": "code",
   "execution_count": 80,
   "id": "140bdb8c",
   "metadata": {},
   "outputs": [
    {
     "data": {
      "text/plain": [
       "8"
      ]
     },
     "execution_count": 80,
     "metadata": {},
     "output_type": "execute_result"
    }
   ],
   "source": [
    "str_1 = 'python  '\n",
    "\n",
    "\n",
    "\n",
    "len(str_1)"
   ]
  },
  {
   "cell_type": "markdown",
   "id": "740dd253",
   "metadata": {},
   "source": [
    "# find , rfind , index , rindex"
   ]
  },
  {
   "cell_type": "code",
   "execution_count": 93,
   "id": "9354fd6d",
   "metadata": {},
   "outputs": [
    {
     "name": "stdout",
     "output_type": "stream",
     "text": [
      "1\n",
      "26\n",
      "14\n",
      "19\n"
     ]
    }
   ],
   "source": [
    "str_1 = 'Hi my name is python this is a class'\n",
    "\n",
    "# Find - finds the index from L to R\n",
    "print(str_1.find('i'))\n",
    "\n",
    "# rfind - finds the index from r to l\n",
    "print(str_1.rfind('i'))\n",
    "print(str_1.find('python'))\n",
    "print(str_1.rfind('n'))"
   ]
  },
  {
   "cell_type": "code",
   "execution_count": 94,
   "id": "f8b50db2",
   "metadata": {},
   "outputs": [
    {
     "name": "stdout",
     "output_type": "stream",
     "text": [
      "1\n",
      "26\n"
     ]
    }
   ],
   "source": [
    "str_1 = 'Hi my name is python this is a class'\n",
    "\n",
    "# Find - finds the index from L to R\n",
    "print(str_1.index('i'))\n",
    "\n",
    "# rfind - finds the index from r to l\n",
    "print(str_1.rindex('i'))\n"
   ]
  },
  {
   "cell_type": "code",
   "execution_count": 104,
   "id": "080f54f2",
   "metadata": {},
   "outputs": [
    {
     "ename": "ValueError",
     "evalue": "substring not found",
     "output_type": "error",
     "traceback": [
      "\u001b[1;31m---------------------------------------------------------------------------\u001b[0m",
      "\u001b[1;31mValueError\u001b[0m                                Traceback (most recent call last)",
      "Input \u001b[1;32mIn [104]\u001b[0m, in \u001b[0;36m<cell line: 5>\u001b[1;34m()\u001b[0m\n\u001b[0;32m      1\u001b[0m \u001b[38;5;66;03m# Difference\u001b[39;00m\n\u001b[0;32m      3\u001b[0m str_1 \u001b[38;5;241m=\u001b[39m \u001b[38;5;124m'\u001b[39m\u001b[38;5;124mHi my name is python this is a class\u001b[39m\u001b[38;5;124m'\u001b[39m\n\u001b[1;32m----> 5\u001b[0m \u001b[38;5;28mprint\u001b[39m(\u001b[43mstr_1\u001b[49m\u001b[38;5;241;43m.\u001b[39;49m\u001b[43mindex\u001b[49m\u001b[43m(\u001b[49m\u001b[38;5;124;43m'\u001b[39;49m\u001b[38;5;124;43mjava\u001b[39;49m\u001b[38;5;124;43m'\u001b[39;49m\u001b[43m)\u001b[49m)\n",
      "\u001b[1;31mValueError\u001b[0m: substring not found"
     ]
    }
   ],
   "source": [
    "# Difference\n",
    "\n",
    "str_1 = 'Hi my name is python this is a class'\n",
    "\n",
    "print(str_1.index('java'))"
   ]
  },
  {
   "cell_type": "code",
   "execution_count": 103,
   "id": "7f98cfbc",
   "metadata": {},
   "outputs": [
    {
     "name": "stdout",
     "output_type": "stream",
     "text": [
      "-1\n"
     ]
    }
   ],
   "source": [
    "# Difference\n",
    "\n",
    "str_1 = 'Hi my name is python this is a class'\n",
    "\n",
    "\n",
    "print(str_1.find('java'))"
   ]
  },
  {
   "cell_type": "code",
   "execution_count": 110,
   "id": "7ad84a2e",
   "metadata": {},
   "outputs": [
    {
     "name": "stdout",
     "output_type": "stream",
     "text": [
      "code continued\n"
     ]
    }
   ],
   "source": [
    "a = 'this is python'\n",
    "\n",
    "try:\n",
    "    a.index('i')\n",
    "    print('code continued')\n",
    "except:\n",
    "    print('No element found')"
   ]
  },
  {
   "cell_type": "code",
   "execution_count": 102,
   "id": "fbdc070a",
   "metadata": {},
   "outputs": [
    {
     "name": "stdout",
     "output_type": "stream",
     "text": [
      "code continued\n"
     ]
    }
   ],
   "source": [
    "a = 'this is python'\n",
    "\n",
    "try:\n",
    "    a.find('j')\n",
    "    print('code continued')\n",
    "except:\n",
    "    print('No element found')"
   ]
  },
  {
   "cell_type": "code",
   "execution_count": 108,
   "id": "4dfe2aea",
   "metadata": {},
   "outputs": [
    {
     "name": "stdout",
     "output_type": "stream",
     "text": [
      "2.0\n"
     ]
    }
   ],
   "source": [
    "a = 10\n",
    "b = 5\n",
    "\n",
    "\n",
    "\n",
    "try:\n",
    "    print(a/b)\n",
    "    \n",
    "except:\n",
    "    print('hello world')"
   ]
  },
  {
   "cell_type": "markdown",
   "id": "0d88cb14",
   "metadata": {},
   "source": [
    "# Replace"
   ]
  },
  {
   "cell_type": "code",
   "execution_count": 115,
   "id": "f262ca81",
   "metadata": {},
   "outputs": [],
   "source": [
    "a = 'this is python'\n",
    "\n",
    "b = a.replace('python' , 'java')"
   ]
  },
  {
   "cell_type": "code",
   "execution_count": 116,
   "id": "d1cf268e",
   "metadata": {},
   "outputs": [
    {
     "data": {
      "text/plain": [
       "'this is python'"
      ]
     },
     "execution_count": 116,
     "metadata": {},
     "output_type": "execute_result"
    }
   ],
   "source": [
    "a"
   ]
  },
  {
   "cell_type": "code",
   "execution_count": 117,
   "id": "fddeace9",
   "metadata": {},
   "outputs": [
    {
     "data": {
      "text/plain": [
       "'this is java'"
      ]
     },
     "execution_count": 117,
     "metadata": {},
     "output_type": "execute_result"
    }
   ],
   "source": [
    "b"
   ]
  },
  {
   "cell_type": "markdown",
   "id": "a0d1f8a3",
   "metadata": {},
   "source": [
    "# ljust(left adjustment) , rjust ( right adjustment)"
   ]
  },
  {
   "cell_type": "code",
   "execution_count": 118,
   "id": "3424be54",
   "metadata": {},
   "outputs": [
    {
     "name": "stdout",
     "output_type": "stream",
     "text": [
      "kerala    \n"
     ]
    }
   ],
   "source": [
    "a = 'kerala'\n",
    "\n",
    "print(a.ljust(10))"
   ]
  },
  {
   "cell_type": "code",
   "execution_count": null,
   "id": "46051efe",
   "metadata": {},
   "outputs": [],
   "source": [
    "kerala    "
   ]
  },
  {
   "cell_type": "code",
   "execution_count": 119,
   "id": "f0667899",
   "metadata": {},
   "outputs": [
    {
     "name": "stdout",
     "output_type": "stream",
     "text": [
      "kerala****\n"
     ]
    }
   ],
   "source": [
    "a = 'kerala'\n",
    "\n",
    "print(a.ljust(10 , '*'))"
   ]
  },
  {
   "cell_type": "code",
   "execution_count": null,
   "id": "d6e3e9dc",
   "metadata": {},
   "outputs": [],
   "source": [
    "a = 'kerala'\n",
    "\n",
    "print(a.rjust(10 , '*'))"
   ]
  },
  {
   "cell_type": "code",
   "execution_count": null,
   "id": "79e66f64",
   "metadata": {},
   "outputs": [],
   "source": [
    "****kerala"
   ]
  },
  {
   "cell_type": "code",
   "execution_count": 121,
   "id": "6dbf79a4",
   "metadata": {},
   "outputs": [
    {
     "name": "stdout",
     "output_type": "stream",
     "text": [
      "0123456789\n",
      "1234567891\n"
     ]
    }
   ],
   "source": [
    "a = '123456789'\n",
    "b = '1234567891'\n",
    "\n",
    "print(a.rjust(10 , '0'))\n",
    "print(b.rjust(10 , '0'))"
   ]
  },
  {
   "cell_type": "markdown",
   "id": "f6564a78",
   "metadata": {},
   "source": [
    "# split"
   ]
  },
  {
   "cell_type": "code",
   "execution_count": 129,
   "id": "ba77a5bb",
   "metadata": {},
   "outputs": [
    {
     "name": "stdout",
     "output_type": "stream",
     "text": [
      "('xyz', '@', 'gmail.com')\n"
     ]
    }
   ],
   "source": [
    "a = 'xyz@gmail.com'\n",
    "\n",
    "b = a.partition('@')\n",
    "print(b)"
   ]
  },
  {
   "cell_type": "code",
   "execution_count": 130,
   "id": "cde53c19",
   "metadata": {},
   "outputs": [
    {
     "data": {
      "text/plain": [
       "'xyz'"
      ]
     },
     "execution_count": 130,
     "metadata": {},
     "output_type": "execute_result"
    }
   ],
   "source": [
    "b[0]"
   ]
  },
  {
   "cell_type": "code",
   "execution_count": 131,
   "id": "3a6b1c8f",
   "metadata": {},
   "outputs": [
    {
     "name": "stdout",
     "output_type": "stream",
     "text": [
      "['__add__', '__class__', '__contains__', '__delattr__', '__dir__', '__doc__', '__eq__', '__format__', '__ge__', '__getattribute__', '__getitem__', '__getnewargs__', '__gt__', '__hash__', '__init__', '__init_subclass__', '__iter__', '__le__', '__len__', '__lt__', '__mod__', '__mul__', '__ne__', '__new__', '__reduce__', '__reduce_ex__', '__repr__', '__rmod__', '__rmul__', '__setattr__', '__sizeof__', '__str__', '__subclasshook__', 'capitalize', 'casefold', 'center', 'count', 'encode', 'endswith', 'expandtabs', 'find', 'format', 'format_map', 'index', 'isalnum', 'isalpha', 'isascii', 'isdecimal', 'isdigit', 'isidentifier', 'islower', 'isnumeric', 'isprintable', 'isspace', 'istitle', 'isupper', 'join', 'ljust', 'lower', 'lstrip', 'maketrans', 'partition', 'removeprefix', 'removesuffix', 'replace', 'rfind', 'rindex', 'rjust', 'rpartition', 'rsplit', 'rstrip', 'split', 'splitlines', 'startswith', 'strip', 'swapcase', 'title', 'translate', 'upper', 'zfill']\n"
     ]
    }
   ],
   "source": [
    "print(dir(str))"
   ]
  },
  {
   "cell_type": "markdown",
   "id": "e5abc90b",
   "metadata": {},
   "source": [
    "# Split - It converts the string into a list based on the split characters"
   ]
  },
  {
   "cell_type": "code",
   "execution_count": 139,
   "id": "3ecb297c",
   "metadata": {},
   "outputs": [
    {
     "name": "stdout",
     "output_type": "stream",
     "text": [
      "t\n",
      "h\n",
      "i\n",
      "s\n",
      " \n",
      "i\n",
      "s\n",
      " \n",
      "p\n",
      "y\n",
      "t\n",
      "h\n",
      "o\n",
      "n\n",
      "s\n",
      " \n",
      "c\n",
      "l\n",
      "a\n",
      "s\n",
      "s\n",
      " \n",
      "o\n",
      "f\n",
      " \n",
      "o\n",
      "c\n",
      "t\n",
      "o\n",
      "b\n",
      "e\n",
      "r\n"
     ]
    }
   ],
   "source": [
    "a = 'this is pythons class of october'\n",
    "\n",
    "\n",
    "for i in a:\n",
    "    print(i)"
   ]
  },
  {
   "cell_type": "code",
   "execution_count": 140,
   "id": "0d3bca4e",
   "metadata": {},
   "outputs": [
    {
     "data": {
      "text/plain": [
       "['this', 'is', 'pythons', 'class', 'of', 'october']"
      ]
     },
     "execution_count": 140,
     "metadata": {},
     "output_type": "execute_result"
    }
   ],
   "source": [
    "a = 'this is pythons class of october'\n",
    "\n",
    "a.split()"
   ]
  },
  {
   "cell_type": "code",
   "execution_count": 142,
   "id": "40d4bce0",
   "metadata": {},
   "outputs": [
    {
     "data": {
      "text/plain": [
       "['this', 'is', 'pythons', 'class', 'of', 'october']"
      ]
     },
     "execution_count": 142,
     "metadata": {},
     "output_type": "execute_result"
    }
   ],
   "source": [
    "a = 'this*is*pythons*class*of*october'\n",
    "\n",
    "a.split('*')"
   ]
  },
  {
   "cell_type": "code",
   "execution_count": 143,
   "id": "2e4ca3fe",
   "metadata": {},
   "outputs": [
    {
     "data": {
      "text/plain": [
       "['this is pythons', 'class of october']"
      ]
     },
     "execution_count": 143,
     "metadata": {},
     "output_type": "execute_result"
    }
   ],
   "source": [
    "a = 'this is pythons*class of october'\n",
    "\n",
    "a.split('*')"
   ]
  },
  {
   "cell_type": "code",
   "execution_count": 144,
   "id": "98ec148b",
   "metadata": {},
   "outputs": [
    {
     "data": {
      "text/plain": [
       "['this is pythons', 'class of october', 'of learnbay']"
      ]
     },
     "execution_count": 144,
     "metadata": {},
     "output_type": "execute_result"
    }
   ],
   "source": [
    "a = '''this is pythons\n",
    "class of october\n",
    "of learnbay'''\n",
    "\n",
    "a.split('\\n')"
   ]
  },
  {
   "cell_type": "code",
   "execution_count": 145,
   "id": "3b609f7d",
   "metadata": {},
   "outputs": [
    {
     "name": "stdout",
     "output_type": "stream",
     "text": [
      "this is pythons\n",
      "class of october\n",
      "of learnbay\n"
     ]
    }
   ],
   "source": [
    "a = '''this is pythons\n",
    "class of october\n",
    "of learnbay'''\n",
    "\n",
    "for i in a.split('\\n'):\n",
    "    print(i)"
   ]
  },
  {
   "cell_type": "code",
   "execution_count": 146,
   "id": "29383284",
   "metadata": {},
   "outputs": [
    {
     "name": "stdout",
     "output_type": "stream",
     "text": [
      "this\n",
      "is\n",
      "pythons\n",
      "class\n",
      "of\n",
      "october\n"
     ]
    }
   ],
   "source": [
    "a = 'this is pythons class of october'\n",
    "\n",
    "for i in a.split():\n",
    "    print(i)"
   ]
  },
  {
   "cell_type": "code",
   "execution_count": 150,
   "id": "6cab330d",
   "metadata": {},
   "outputs": [],
   "source": [
    "a = 'this is pythons class of october'\n",
    "\n",
    "b = a.split(' ')"
   ]
  },
  {
   "cell_type": "code",
   "execution_count": 149,
   "id": "37061fe2",
   "metadata": {
    "scrolled": true
   },
   "outputs": [
    {
     "data": {
      "text/plain": [
       "'this is pythons class of october'"
      ]
     },
     "execution_count": 149,
     "metadata": {},
     "output_type": "execute_result"
    }
   ],
   "source": [
    "a"
   ]
  },
  {
   "cell_type": "code",
   "execution_count": 152,
   "id": "34dd1300",
   "metadata": {},
   "outputs": [],
   "source": [
    "b[2] = 'java'"
   ]
  },
  {
   "cell_type": "code",
   "execution_count": 153,
   "id": "94728f7b",
   "metadata": {},
   "outputs": [
    {
     "data": {
      "text/plain": [
       "['this', 'is', 'java', 'class', 'of', 'october']"
      ]
     },
     "execution_count": 153,
     "metadata": {},
     "output_type": "execute_result"
    }
   ],
   "source": [
    "b"
   ]
  },
  {
   "cell_type": "markdown",
   "id": "095f60f9",
   "metadata": {},
   "source": [
    "# Join "
   ]
  },
  {
   "cell_type": "code",
   "execution_count": 155,
   "id": "03c74222",
   "metadata": {},
   "outputs": [
    {
     "data": {
      "text/plain": [
       "'this--->is--->java--->class--->of--->october'"
      ]
     },
     "execution_count": 155,
     "metadata": {},
     "output_type": "execute_result"
    }
   ],
   "source": [
    "'--->'.join(b)"
   ]
  },
  {
   "cell_type": "code",
   "execution_count": 167,
   "id": "6a1df344",
   "metadata": {},
   "outputs": [
    {
     "data": {
      "text/plain": [
       "'this is java class of october'"
      ]
     },
     "execution_count": 167,
     "metadata": {},
     "output_type": "execute_result"
    }
   ],
   "source": [
    "' '.join(b)"
   ]
  },
  {
   "cell_type": "code",
   "execution_count": 158,
   "id": "ad587295",
   "metadata": {},
   "outputs": [
    {
     "ename": "ValueError",
     "evalue": "empty separator",
     "output_type": "error",
     "traceback": [
      "\u001b[1;31m---------------------------------------------------------------------------\u001b[0m",
      "\u001b[1;31mValueError\u001b[0m                                Traceback (most recent call last)",
      "Input \u001b[1;32mIn [158]\u001b[0m, in \u001b[0;36m<cell line: 1>\u001b[1;34m()\u001b[0m\n\u001b[1;32m----> 1\u001b[0m \u001b[38;5;28mprint\u001b[39m(\u001b[38;5;28mlen\u001b[39m(\u001b[38;5;124;43m'\u001b[39;49m\u001b[38;5;124;43m'\u001b[39;49m\u001b[38;5;241;43m.\u001b[39;49m\u001b[43msplit\u001b[49m\u001b[43m(\u001b[49m\u001b[38;5;124;43m'\u001b[39;49m\u001b[38;5;124;43m'\u001b[39;49m\u001b[43m)\u001b[49m))\n",
      "\u001b[1;31mValueError\u001b[0m: empty separator"
     ]
    }
   ],
   "source": [
    "print(len(''.split('')))"
   ]
  },
  {
   "cell_type": "code",
   "execution_count": 161,
   "id": "6856959c",
   "metadata": {},
   "outputs": [
    {
     "data": {
      "text/plain": [
       "2"
      ]
     },
     "execution_count": 161,
     "metadata": {},
     "output_type": "execute_result"
    }
   ],
   "source": [
    "a = 'this is'\n",
    "\n",
    "len(a.split(' '))"
   ]
  },
  {
   "cell_type": "code",
   "execution_count": 165,
   "id": "ceabd965",
   "metadata": {},
   "outputs": [
    {
     "data": {
      "text/plain": [
       "['xyz', 'gmail', 'com']"
      ]
     },
     "execution_count": 165,
     "metadata": {},
     "output_type": "execute_result"
    }
   ],
   "source": [
    "a = 'xyz@gmail@com'\n",
    "\n",
    "a.split('@')"
   ]
  },
  {
   "cell_type": "code",
   "execution_count": 166,
   "id": "3ac32a40",
   "metadata": {},
   "outputs": [
    {
     "data": {
      "text/plain": [
       "('xyz', '@', 'gmail@com')"
      ]
     },
     "execution_count": 166,
     "metadata": {},
     "output_type": "execute_result"
    }
   ],
   "source": [
    "a = 'xyz@gmail@com'\n",
    "\n",
    "a.partition('@')"
   ]
  },
  {
   "cell_type": "markdown",
   "id": "702d981f",
   "metadata": {},
   "source": [
    "# List"
   ]
  },
  {
   "cell_type": "markdown",
   "id": "aa469c76",
   "metadata": {},
   "source": [
    "# anything written inside []"
   ]
  },
  {
   "cell_type": "code",
   "execution_count": 176,
   "id": "ed0277f6",
   "metadata": {},
   "outputs": [
    {
     "name": "stdout",
     "output_type": "stream",
     "text": [
      "[1, 2, 3, 34, 5] <class 'list'>\n"
     ]
    }
   ],
   "source": [
    "a = [1,2,3,34,5]\n",
    "\n",
    "print(a , type(a))"
   ]
  },
  {
   "cell_type": "markdown",
   "id": "40f594ac",
   "metadata": {},
   "source": [
    "# Creation of list"
   ]
  },
  {
   "cell_type": "code",
   "execution_count": 177,
   "id": "958c8c41",
   "metadata": {},
   "outputs": [
    {
     "name": "stdout",
     "output_type": "stream",
     "text": [
      "['banana', 'mango', 'grapes']\n"
     ]
    }
   ],
   "source": [
    "# 1. you already know the elements\n",
    "\n",
    "lst_1 = ['banana' , 'mango' , 'grapes']\n",
    "print(lst_1)"
   ]
  },
  {
   "cell_type": "markdown",
   "id": "ae4c1921",
   "metadata": {},
   "source": [
    "# 2. Taking a user input "
   ]
  },
  {
   "cell_type": "code",
   "execution_count": 178,
   "id": "71336313",
   "metadata": {},
   "outputs": [
    {
     "name": "stdout",
     "output_type": "stream",
     "text": [
      "enter a list : 1000\n",
      "1000 <class 'str'>\n"
     ]
    }
   ],
   "source": [
    "lst = input('enter a list : ')\n",
    "\n",
    "print(lst , type(lst))"
   ]
  },
  {
   "cell_type": "code",
   "execution_count": 192,
   "id": "d2645227",
   "metadata": {},
   "outputs": [
    {
     "name": "stdout",
     "output_type": "stream",
     "text": [
      "enter a list : 1,2,3\n",
      "(1, 2, 3) <class 'tuple'>\n"
     ]
    }
   ],
   "source": [
    "lst = eval(input('enter a list : '))\n",
    "\n",
    "print(lst , type(lst))"
   ]
  },
  {
   "cell_type": "code",
   "execution_count": 189,
   "id": "794e3bbc",
   "metadata": {},
   "outputs": [
    {
     "name": "stdout",
     "output_type": "stream",
     "text": [
      "100\n"
     ]
    }
   ],
   "source": [
    "a = '100.54'\n",
    "\n",
    "print(int(float(a)))"
   ]
  },
  {
   "cell_type": "code",
   "execution_count": 186,
   "id": "3325c549",
   "metadata": {},
   "outputs": [
    {
     "name": "stdout",
     "output_type": "stream",
     "text": [
      "100.0\n"
     ]
    }
   ],
   "source": [
    "a = '100'\n",
    "\n",
    "print(float(a))"
   ]
  },
  {
   "cell_type": "code",
   "execution_count": 193,
   "id": "4a1a85e6",
   "metadata": {},
   "outputs": [
    {
     "name": "stdout",
     "output_type": "stream",
     "text": [
      "enter a list : [1,2,3,4]\n",
      "[1, 2, 3, 4] <class 'list'>\n"
     ]
    }
   ],
   "source": [
    "lst = eval(input('enter a list : '))\n",
    "\n",
    "print(lst , type(lst))"
   ]
  },
  {
   "cell_type": "code",
   "execution_count": 194,
   "id": "74cd800c",
   "metadata": {},
   "outputs": [
    {
     "name": "stdout",
     "output_type": "stream",
     "text": [
      "enter a list : 1,2,3,4\n",
      "[1, 2, 3, 4] <class 'list'>\n"
     ]
    }
   ],
   "source": [
    "lst = list(eval(input('enter a list : ')))\n",
    "\n",
    "print(lst , type(lst))"
   ]
  },
  {
   "cell_type": "code",
   "execution_count": 202,
   "id": "3df81ca3",
   "metadata": {},
   "outputs": [
    {
     "name": "stdout",
     "output_type": "stream",
     "text": [
      "[1, 2, 3, 4, 5, 65] <class 'list'>\n"
     ]
    }
   ],
   "source": [
    "a = list(eval('1,2,3,4,5,65'))\n",
    "\n",
    "print(a , type(a))"
   ]
  },
  {
   "cell_type": "code",
   "execution_count": 203,
   "id": "54ec1c98",
   "metadata": {},
   "outputs": [
    {
     "name": "stdout",
     "output_type": "stream",
     "text": [
      "[1, 2, 3, 4, 5, 65] <class 'list'>\n"
     ]
    }
   ],
   "source": [
    "a = eval('[1,2,3,4,5,65]')\n",
    "\n",
    "print(a , type(a))"
   ]
  },
  {
   "cell_type": "markdown",
   "id": "44bd49ef",
   "metadata": {},
   "source": [
    "# 3. type casting"
   ]
  },
  {
   "cell_type": "code",
   "execution_count": 204,
   "id": "241d3a74",
   "metadata": {},
   "outputs": [
    {
     "name": "stdout",
     "output_type": "stream",
     "text": [
      "['a', 'b', 'c']\n",
      "[1, 2, 3, 4, 5]\n"
     ]
    }
   ],
   "source": [
    "a = 'abc'\n",
    "b = (1,2,3,4,5)\n",
    "\n",
    "\n",
    "print(list(a))\n",
    "\n",
    "print(list(b))\n"
   ]
  },
  {
   "cell_type": "markdown",
   "id": "a3af66b2",
   "metadata": {},
   "source": [
    "# 4. split "
   ]
  },
  {
   "cell_type": "code",
   "execution_count": 206,
   "id": "86b45e7d",
   "metadata": {},
   "outputs": [
    {
     "name": "stdout",
     "output_type": "stream",
     "text": [
      "['this', 'is', 'python']\n",
      "['t', 'h', 'i', 's', ' ', 'i', 's', ' ', 'p', 'y', 't', 'h', 'o', 'n']\n"
     ]
    }
   ],
   "source": [
    "a = 'this is python'\n",
    "\n",
    "print(a.split())\n",
    "print(list(a))"
   ]
  },
  {
   "cell_type": "markdown",
   "id": "28f4aeb3",
   "metadata": {},
   "source": [
    "# List properties\n",
    "\n",
    "- seq data type \n",
    "- indexing (accesing one element )\n",
    "- slicing (accesing multiple elements)\n",
    "- supports +ve and -ve index\n",
    "- Allows duplication\n",
    "- It is hetrogenous - can store multiple data types\n",
    "- Basic op concatination , repetition , identity , Membership\n"
   ]
  },
  {
   "cell_type": "code",
   "execution_count": 210,
   "id": "0f61b216",
   "metadata": {},
   "outputs": [
    {
     "data": {
      "text/plain": [
       "'Sandhya'"
      ]
     },
     "execution_count": 210,
     "metadata": {},
     "output_type": "execute_result"
    }
   ],
   "source": [
    "# Indexing \n",
    "# +ve index it starts from 0\n",
    "\n",
    "\n",
    "a = ['Abhisail' , 'Sandhya' , 'Sabina' , 'Apurva']\n",
    "\n",
    "a[1]"
   ]
  },
  {
   "cell_type": "code",
   "execution_count": 211,
   "id": "7751341c",
   "metadata": {},
   "outputs": [
    {
     "data": {
      "text/plain": [
       "'Sabina'"
      ]
     },
     "execution_count": 211,
     "metadata": {},
     "output_type": "execute_result"
    }
   ],
   "source": [
    "# Indexing \n",
    "# -ve index it starts from -1\n",
    "\n",
    "\n",
    "a = ['Abhisail' , 'Sandhya' , 'Sabina' , 'Apurva']\n",
    "\n",
    "a[-2]"
   ]
  },
  {
   "cell_type": "code",
   "execution_count": 212,
   "id": "5f8d8d8d",
   "metadata": {},
   "outputs": [
    {
     "data": {
      "text/plain": [
       "['Abhisail', 'Sandhya', 'Sabina']"
      ]
     },
     "execution_count": 212,
     "metadata": {},
     "output_type": "execute_result"
    }
   ],
   "source": [
    "# slicing \n",
    "# +ve index it starts from 0\n",
    "\n",
    "\n",
    "a = ['Abhisail' , 'Sandhya' , 'Sabina' , 'Apurva']\n",
    "\n",
    "a[0:3]"
   ]
  },
  {
   "cell_type": "code",
   "execution_count": 213,
   "id": "06cd09c6",
   "metadata": {},
   "outputs": [
    {
     "data": {
      "text/plain": [
       "['Abhisail', 'Sandhya', 'Sabina']"
      ]
     },
     "execution_count": 213,
     "metadata": {},
     "output_type": "execute_result"
    }
   ],
   "source": [
    "# slicing \n",
    "# -ve index it starts from -1\n",
    "\n",
    "\n",
    "a = ['Abhisail' , 'Sandhya' , 'Sabina' , 'Apurva']\n",
    "\n",
    "a[-4:-1]"
   ]
  },
  {
   "cell_type": "code",
   "execution_count": 214,
   "id": "6d2f83b1",
   "metadata": {},
   "outputs": [
    {
     "data": {
      "text/plain": [
       "['Sabina', 'Sandhya']"
      ]
     },
     "execution_count": 214,
     "metadata": {},
     "output_type": "execute_result"
    }
   ],
   "source": [
    "# slicing \n",
    "# +ve index it starts from 0\n",
    "\n",
    "\n",
    "a = ['Abhisail' , 'Sandhya' , 'Sabina' , 'Apurva']\n",
    "\n",
    "\n",
    "# Sabina , Sandhya\n",
    "a[2:0:-1]"
   ]
  },
  {
   "cell_type": "code",
   "execution_count": 215,
   "id": "a86dd8e2",
   "metadata": {},
   "outputs": [
    {
     "data": {
      "text/plain": [
       "['Sabina', 'Sandhya']"
      ]
     },
     "execution_count": 215,
     "metadata": {},
     "output_type": "execute_result"
    }
   ],
   "source": [
    "# slicing \n",
    "# +ve index it starts from 0\n",
    "\n",
    "\n",
    "a = ['Abhisail' , 'Sandhya' , 'Sabina' , 'Apurva']\n",
    "\n",
    "\n",
    "# Sabina , Sandhya\n",
    "a[-2:-4:-1]"
   ]
  },
  {
   "cell_type": "code",
   "execution_count": 216,
   "id": "5d074c02",
   "metadata": {},
   "outputs": [
    {
     "data": {
      "text/plain": [
       "['Apurva', 'Sabina', 'Sandhya', 'Abhisail']"
      ]
     },
     "execution_count": 216,
     "metadata": {},
     "output_type": "execute_result"
    }
   ],
   "source": [
    "# slicing \n",
    "# +ve index it starts from 0\n",
    "\n",
    "\n",
    "a = ['Abhisail' , 'Sandhya' , 'Sabina' , 'Apurva']\n",
    "\n",
    "\n",
    "# Sabina , Sandhya\n",
    "a[::-1]"
   ]
  },
  {
   "cell_type": "code",
   "execution_count": 217,
   "id": "f50e521b",
   "metadata": {},
   "outputs": [
    {
     "name": "stdout",
     "output_type": "stream",
     "text": [
      "['Abhisail', 'Sandhya', 'Sabina', 'Apurva', 'Abhisail'] <class 'list'>\n"
     ]
    }
   ],
   "source": [
    "# Allows duplication\n",
    "\n",
    "\n",
    "\n",
    "a = ['Abhisail' , 'Sandhya' , 'Sabina' , 'Apurva' ,'Abhisail']\n",
    "\n",
    "\n",
    "print(a , type(a))"
   ]
  },
  {
   "cell_type": "code",
   "execution_count": 218,
   "id": "54e0ef6a",
   "metadata": {},
   "outputs": [
    {
     "name": "stdout",
     "output_type": "stream",
     "text": [
      "{'Sandhya', 'Abhisail', 'Apurva', 'Sabina'} <class 'set'>\n"
     ]
    }
   ],
   "source": [
    "# Allows duplication\n",
    "\n",
    "\n",
    "\n",
    "a = {'Abhisail' , 'Sandhya' , 'Sabina' , 'Apurva' ,'Abhisail'}\n",
    "\n",
    "\n",
    "print(a , type(a))"
   ]
  },
  {
   "cell_type": "code",
   "execution_count": 219,
   "id": "f2a1c411",
   "metadata": {},
   "outputs": [
    {
     "name": "stdout",
     "output_type": "stream",
     "text": [
      "['Abhisail', 12, 45.6, True, [1, 2, 3, 4]] <class 'list'>\n"
     ]
    }
   ],
   "source": [
    "# It is hetrogenous - can store multiple data types\n",
    "\n",
    "\n",
    "a = ['Abhisail' , 12 , 45.6 , True ,[1,2,3,4]]\n",
    "\n",
    "\n",
    "print(a , type(a))"
   ]
  },
  {
   "cell_type": "code",
   "execution_count": 222,
   "id": "42b264d5",
   "metadata": {},
   "outputs": [
    {
     "name": "stdout",
     "output_type": "stream",
     "text": [
      "[1, 2, 3, 4, 5, 6, 7, 8]\n"
     ]
    }
   ],
   "source": [
    "# Concatination\n",
    "# op --> +\n",
    "# operands --> Both should be list\n",
    "\n",
    "\n",
    "a = [1,2,3,4]\n",
    "b = [5,6,7,8]\n",
    "\n",
    "print(a + b)\n"
   ]
  },
  {
   "cell_type": "code",
   "execution_count": 225,
   "id": "4d571b29",
   "metadata": {},
   "outputs": [
    {
     "name": "stdout",
     "output_type": "stream",
     "text": [
      "[1, 2, 3, 4, 1, 2, 3, 4]\n"
     ]
    }
   ],
   "source": [
    "# repetition\n",
    "# op --> *\n",
    "# operands --> one should be a list and should be an int\n",
    "\n",
    "a = [1,2,3,4]\n",
    "b = 2\n",
    "\n",
    "print(a * b)\n"
   ]
  },
  {
   "cell_type": "code",
   "execution_count": 226,
   "id": "1fe62960",
   "metadata": {},
   "outputs": [
    {
     "name": "stdout",
     "output_type": "stream",
     "text": [
      "2956318670592\n",
      "2956319418624\n",
      "False\n"
     ]
    }
   ],
   "source": [
    "# identity\n",
    "# op --> is and is not\n",
    "\n",
    "\n",
    "a = [1,2,3,4]\n",
    "b = [1,2,3,4]\n",
    "\n",
    "print(id(a))\n",
    "print(id(b))\n",
    "\n",
    "print(a is b)\n"
   ]
  },
  {
   "cell_type": "code",
   "execution_count": 228,
   "id": "a07604d8",
   "metadata": {},
   "outputs": [
    {
     "name": "stdout",
     "output_type": "stream",
     "text": [
      "False\n"
     ]
    }
   ],
   "source": [
    "# Membership\n",
    "# op --> in and not in\n",
    "\n",
    "\n",
    "a = [1,2,3,4]\n",
    "b = 5\n",
    "\n",
    "\n",
    "print(b in a)\n"
   ]
  },
  {
   "cell_type": "code",
   "execution_count": 230,
   "id": "8eb442fb",
   "metadata": {},
   "outputs": [
    {
     "name": "stdout",
     "output_type": "stream",
     "text": [
      "False\n"
     ]
    }
   ],
   "source": [
    "# Membership\n",
    "# op --> in and not in\n",
    "\n",
    "\n",
    "a = [1,2,3,4]\n",
    "b = 4\n",
    "\n",
    "\n",
    "print(b not in a)\n"
   ]
  },
  {
   "cell_type": "markdown",
   "id": "c7f60120",
   "metadata": {},
   "source": [
    "# Nested List"
   ]
  },
  {
   "cell_type": "code",
   "execution_count": null,
   "id": "019b20ac",
   "metadata": {},
   "outputs": [],
   "source": []
  },
  {
   "cell_type": "code",
   "execution_count": null,
   "id": "ffca8830",
   "metadata": {},
   "outputs": [],
   "source": [
    "# notes\n",
    "# int - \n",
    "# string - \n",
    "# \n",
    "\n",
    "\n",
    "\n",
    "\n",
    "# python\n",
    "\n",
    "# ml - stuck\n"
   ]
  },
  {
   "cell_type": "code",
   "execution_count": 264,
   "id": "d89a4fcf",
   "metadata": {},
   "outputs": [
    {
     "name": "stdout",
     "output_type": "stream",
     "text": [
      "['__add__', '__class__', '__class_getitem__', '__contains__', '__delattr__', '__delitem__', '__dir__', '__doc__', '__eq__', '__format__', '__ge__', '__getattribute__', '__getitem__', '__gt__', '__hash__', '__iadd__', '__imul__', '__init__', '__init_subclass__', '__iter__', '__le__', '__len__', '__lt__', '__mul__', '__ne__', '__new__', '__reduce__', '__reduce_ex__', '__repr__', '__reversed__', '__rmul__', '__setattr__', '__setitem__', '__sizeof__', '__str__', '__subclasshook__', 'append', 'clear', 'copy', 'count', 'extend', 'index', 'insert', 'pop', 'remove', 'reverse', 'sort']\n"
     ]
    }
   ],
   "source": [
    "print(dir(list))"
   ]
  },
  {
   "cell_type": "code",
   "execution_count": null,
   "id": "0d8671b0",
   "metadata": {},
   "outputs": [],
   "source": []
  }
 ],
 "metadata": {
  "kernelspec": {
   "display_name": "Python 3 (ipykernel)",
   "language": "python",
   "name": "python3"
  },
  "language_info": {
   "codemirror_mode": {
    "name": "ipython",
    "version": 3
   },
   "file_extension": ".py",
   "mimetype": "text/x-python",
   "name": "python",
   "nbconvert_exporter": "python",
   "pygments_lexer": "ipython3",
   "version": "3.9.12"
  }
 },
 "nbformat": 4,
 "nbformat_minor": 5
}
