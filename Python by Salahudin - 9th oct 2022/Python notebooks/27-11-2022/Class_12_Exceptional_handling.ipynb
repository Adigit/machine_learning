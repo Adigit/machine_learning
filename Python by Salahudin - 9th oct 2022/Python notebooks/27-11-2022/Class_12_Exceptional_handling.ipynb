{
 "cells": [
  {
   "cell_type": "markdown",
   "id": "d22618d3",
   "metadata": {},
   "source": [
    "# Methods of operations on read mode \n",
    "\n",
    "\n",
    "- read() -- reads the whole content of the file and returns the string object\n",
    "- read(char) --> reads the content from the current location to the specified no of char\n",
    "- readline() --> reads the content from the current loc to that particular line\n",
    "- readlines() --> reads the content from the current loc to the end of the content , Each line will be given to you in the form of elements in the list"
   ]
  },
  {
   "cell_type": "code",
   "execution_count": 8,
   "id": "42215d13",
   "metadata": {},
   "outputs": [
    {
     "data": {
      "text/plain": [
       "'world'"
      ]
     },
     "execution_count": 8,
     "metadata": {},
     "output_type": "execute_result"
    }
   ],
   "source": [
    "f = open('file_handling/read_write_mode.txt' , 'r')\n",
    "\n",
    "f.seek(6)\n",
    "f.read()\n"
   ]
  },
  {
   "cell_type": "code",
   "execution_count": 9,
   "id": "a0225717",
   "metadata": {},
   "outputs": [
    {
     "data": {
      "text/plain": [
       "'wor'"
      ]
     },
     "execution_count": 9,
     "metadata": {},
     "output_type": "execute_result"
    }
   ],
   "source": [
    "f = open('file_handling/read_write_mode.txt' , 'r')\n",
    "\n",
    "f.seek(6)\n",
    "f.read(3)\n"
   ]
  },
  {
   "cell_type": "code",
   "execution_count": 14,
   "id": "0bcbd182",
   "metadata": {},
   "outputs": [
    {
     "data": {
      "text/plain": [
       "'ronaldo plays for manu\\n'"
      ]
     },
     "execution_count": 14,
     "metadata": {},
     "output_type": "execute_result"
    }
   ],
   "source": [
    "f = open('file_handling/read_write_mode.txt' , 'r')\n",
    "\n",
    "f.seek(23)\n",
    "f.readline()"
   ]
  },
  {
   "cell_type": "code",
   "execution_count": 15,
   "id": "441e19d8",
   "metadata": {},
   "outputs": [
    {
     "data": {
      "text/plain": [
       "['messi plays for paris \\n',\n",
       " 'ronaldo plays for manu\\n',\n",
       " 'neymar plays for pais']"
      ]
     },
     "execution_count": 15,
     "metadata": {},
     "output_type": "execute_result"
    }
   ],
   "source": [
    "f = open('file_handling/read_write_mode.txt' , 'r')\n",
    "\n",
    "f.readlines()"
   ]
  },
  {
   "cell_type": "code",
   "execution_count": 12,
   "id": "b96fd6fb",
   "metadata": {},
   "outputs": [
    {
     "data": {
      "text/plain": [
       "'messi plays for paris \\nronaldo plays for manu\\nneymar plays for pais'"
      ]
     },
     "execution_count": 12,
     "metadata": {},
     "output_type": "execute_result"
    }
   ],
   "source": [
    "a"
   ]
  },
  {
   "cell_type": "code",
   "execution_count": 13,
   "id": "0defc1d7",
   "metadata": {},
   "outputs": [
    {
     "data": {
      "text/plain": [
       "22"
      ]
     },
     "execution_count": 13,
     "metadata": {},
     "output_type": "execute_result"
    }
   ],
   "source": [
    "a.find('\\n')"
   ]
  },
  {
   "cell_type": "code",
   "execution_count": null,
   "id": "9f35f852",
   "metadata": {},
   "outputs": [],
   "source": [
    "# Methods of operations on write mode \n",
    "\n",
    "\n",
    "- write()\n",
    "- writelines()"
   ]
  },
  {
   "cell_type": "code",
   "execution_count": 16,
   "id": "5afedc37",
   "metadata": {},
   "outputs": [],
   "source": [
    "f = open('file_handling/write_mode.txt' , 'w')\n",
    "\n",
    "f.write('something')\n",
    "\n",
    "f.close()"
   ]
  },
  {
   "cell_type": "code",
   "execution_count": 17,
   "id": "d15ce311",
   "metadata": {},
   "outputs": [],
   "source": [
    "f = open('file_handling/write_mode.txt' , 'w')\n",
    "\n",
    "f.writelines(['line1\\n' , 'line2\\n' , 'line3'])\n",
    "\n",
    "f.close()"
   ]
  },
  {
   "cell_type": "code",
   "execution_count": 19,
   "id": "9b99eef9",
   "metadata": {},
   "outputs": [],
   "source": [
    "f = open('file_handling/write_mode.txt' , 'w')\n",
    "\n",
    "f.writelines(['line1' , 'line2' , 'line3'])\n",
    "\n",
    "f.close()"
   ]
  },
  {
   "cell_type": "code",
   "execution_count": null,
   "id": "3a2a67fb",
   "metadata": {},
   "outputs": [],
   "source": [
    "# Task 1 \n",
    "\n",
    "\n",
    "no of lines \n",
    "no of characters \n",
    "no of words in the file"
   ]
  },
  {
   "cell_type": "code",
   "execution_count": null,
   "id": "6f0627b9",
   "metadata": {},
   "outputs": [],
   "source": [
    "# Task 2 \n",
    "\n",
    "take that image   which is in .png\n",
    "\n",
    "\n",
    "load the image in notebook\n",
    "\n",
    "\n",
    "write into a new file_name but we will change the format to img2.jpg"
   ]
  },
  {
   "cell_type": "code",
   "execution_count": null,
   "id": "aad7b54e",
   "metadata": {},
   "outputs": [],
   "source": [
    "# Task 1 \n",
    "\n",
    "\n",
    "no of lines \n",
    "no of characters \n",
    "no of words in the file"
   ]
  },
  {
   "cell_type": "code",
   "execution_count": 24,
   "id": "808bb499",
   "metadata": {},
   "outputs": [
    {
     "name": "stdout",
     "output_type": "stream",
     "text": [
      "6\n",
      "777\n",
      "130\n"
     ]
    }
   ],
   "source": [
    "with open('file_handling/poem.txt' , 'r') as f:\n",
    "    no_of_line = len(f.readlines())\n",
    "    f.seek(0)\n",
    "    no_of_char = len(f.read())\n",
    "    f.seek(0)\n",
    "    no_of_words = len(f.read().split())\n",
    "    \n",
    "    \n",
    "print(no_of_line)\n",
    "print(no_of_char)\n",
    "print(no_of_words)"
   ]
  },
  {
   "cell_type": "code",
   "execution_count": 25,
   "id": "6ffe6beb",
   "metadata": {},
   "outputs": [],
   "source": [
    "# Task 2\n",
    "\n",
    "\n",
    "with open ('file_handling/img1.png' , 'rb') as f:\n",
    "    a = f.read()\n",
    "    \n",
    "with open('file_handling/new_img.jpg' , 'wb') as f:\n",
    "    f.write(a)"
   ]
  },
  {
   "cell_type": "code",
   "execution_count": 28,
   "id": "10c56de1",
   "metadata": {},
   "outputs": [
    {
     "data": {
      "text/plain": [
       "45"
      ]
     },
     "execution_count": 28,
     "metadata": {},
     "output_type": "execute_result"
    }
   ],
   "source": [
    "a = 'Today is the anniversary of the publication of Robert'\n",
    "\n",
    "char = 0\n",
    "for i in a:\n",
    "    if i == ' ':\n",
    "        pass\n",
    "    else:\n",
    "        char +=1\n",
    "\n",
    "char"
   ]
  },
  {
   "cell_type": "markdown",
   "id": "b2f510f5",
   "metadata": {},
   "source": [
    "# flush"
   ]
  },
  {
   "cell_type": "code",
   "execution_count": 34,
   "id": "46d73eaf",
   "metadata": {},
   "outputs": [],
   "source": [
    "f = open('file_handling/write_mode.txt' , 'w')\n",
    "\n",
    "f.writelines(['line1\\n' , 'line2\\n' , 'line3\\n'])\n",
    "\n",
    "f.flush()"
   ]
  },
  {
   "cell_type": "code",
   "execution_count": 35,
   "id": "609c7b30",
   "metadata": {},
   "outputs": [],
   "source": [
    "f.writelines(['line4\\n' , 'line5\\n' , 'line6'])\n",
    "f.flush()"
   ]
  },
  {
   "cell_type": "code",
   "execution_count": 36,
   "id": "b5d11c77",
   "metadata": {},
   "outputs": [],
   "source": [
    "f.close()"
   ]
  },
  {
   "cell_type": "markdown",
   "id": "79bc0ae6",
   "metadata": {},
   "source": [
    "# Exceptional Handling"
   ]
  },
  {
   "cell_type": "code",
   "execution_count": null,
   "id": "5f79fffa",
   "metadata": {},
   "outputs": [],
   "source": [
    "- Types of errors \n",
    "\n",
    "1. complie time errors ---> syntax errors , indentation\n",
    "2. run time errors ---> type errors , Zerodivision errors , name errors , value error\n",
    "3. logical errors --> which are made by users \n",
    "\n",
    "\n",
    "# Note\n",
    "- Note - Exceptional handling will only be able to Run time errors"
   ]
  },
  {
   "cell_type": "code",
   "execution_count": 10,
   "id": "453b19b6",
   "metadata": {},
   "outputs": [
    {
     "name": "stdout",
     "output_type": "stream",
     "text": [
      "['ArithmeticError', 'AssertionError', 'AttributeError', 'BaseException', 'BlockingIOError', 'BrokenPipeError', 'BufferError', 'BytesWarning', 'ChildProcessError', 'ConnectionAbortedError', 'ConnectionError', 'ConnectionRefusedError', 'ConnectionResetError', 'DeprecationWarning', 'EOFError', 'Ellipsis', 'EnvironmentError', 'Exception', 'False', 'FileExistsError', 'FileNotFoundError', 'FloatingPointError', 'FutureWarning', 'GeneratorExit', 'IOError', 'ImportError', 'ImportWarning', 'IndentationError', 'IndexError', 'InterruptedError', 'IsADirectoryError', 'KeyError', 'KeyboardInterrupt', 'LookupError', 'MemoryError', 'ModuleNotFoundError', 'NameError', 'None', 'NotADirectoryError', 'NotImplemented', 'NotImplementedError', 'OSError', 'OverflowError', 'PendingDeprecationWarning', 'PermissionError', 'ProcessLookupError', 'RecursionError', 'ReferenceError', 'ResourceWarning', 'RuntimeError', 'RuntimeWarning', 'StopAsyncIteration', 'StopIteration', 'SyntaxError', 'SyntaxWarning', 'SystemError', 'SystemExit', 'TabError', 'TimeoutError', 'True', 'TypeError', 'UnboundLocalError', 'UnicodeDecodeError', 'UnicodeEncodeError', 'UnicodeError', 'UnicodeTranslateError', 'UnicodeWarning', 'UserWarning', 'ValueError', 'Warning', 'WindowsError', 'ZeroDivisionError', '__IPYTHON__', '__build_class__', '__debug__', '__doc__', '__import__', '__loader__', '__name__', '__package__', '__spec__', 'abs', 'all', 'any', 'ascii', 'bin', 'bool', 'breakpoint', 'bytearray', 'bytes', 'callable', 'chr', 'classmethod', 'compile', 'complex', 'copyright', 'credits', 'delattr', 'dict', 'dir', 'display', 'divmod', 'enumerate', 'eval', 'exec', 'execfile', 'filter', 'float', 'format', 'frozenset', 'get_ipython', 'getattr', 'globals', 'hasattr', 'hash', 'help', 'hex', 'id', 'input', 'int', 'isinstance', 'issubclass', 'iter', 'len', 'license', 'list', 'locals', 'map', 'max', 'memoryview', 'min', 'next', 'object', 'oct', 'open', 'ord', 'pow', 'print', 'property', 'range', 'repr', 'reversed', 'round', 'runfile', 'set', 'setattr', 'slice', 'sorted', 'staticmethod', 'str', 'sum', 'super', 'tuple', 'type', 'vars', 'zip']\n"
     ]
    }
   ],
   "source": [
    "print(dir(__builtins__))"
   ]
  },
  {
   "cell_type": "code",
   "execution_count": null,
   "id": "ebc1ac8b",
   "metadata": {},
   "outputs": [],
   "source": [
    "# keywords that we use in exception handling \n",
    "\n",
    "\n",
    "- try\n",
    "- except \n",
    "- else\n",
    "- finally\n",
    "- raise"
   ]
  },
  {
   "cell_type": "code",
   "execution_count": null,
   "id": "2e922f01",
   "metadata": {},
   "outputs": [],
   "source": [
    "# try and except\n",
    "\n",
    "- Try-> the code wich will raise an error will be written inside this block\n",
    "- except --> alternate code written if the try block fails"
   ]
  },
  {
   "cell_type": "code",
   "execution_count": 15,
   "id": "9e50b5a8",
   "metadata": {},
   "outputs": [
    {
     "name": "stdout",
     "output_type": "stream",
     "text": [
      "back up code\n"
     ]
    }
   ],
   "source": [
    "a = 10\n",
    "b = 'abc'\n",
    "\n",
    "try:\n",
    "    print(a/b)\n",
    "    \n",
    "except:\n",
    "    print('back up code')"
   ]
  },
  {
   "cell_type": "code",
   "execution_count": 19,
   "id": "9c73c756",
   "metadata": {},
   "outputs": [
    {
     "name": "stdout",
     "output_type": "stream",
     "text": [
      "back up code\n"
     ]
    }
   ],
   "source": [
    "a = 10\n",
    "b = 'abc'\n",
    "\n",
    "try:\n",
    "    print(a/b)\n",
    "    \n",
    "except:\n",
    "    print('back up code')"
   ]
  },
  {
   "cell_type": "code",
   "execution_count": null,
   "id": "daf1ad67",
   "metadata": {},
   "outputs": [],
   "source": [
    "# Try except and else\n",
    "\n",
    "\n",
    "- execution will go to except block if there is an error raised by try\n",
    "- execution will go to else block when there is no error raised by the try block"
   ]
  },
  {
   "cell_type": "code",
   "execution_count": null,
   "id": "41f2434a",
   "metadata": {},
   "outputs": [],
   "source": [
    "try:\n",
    "    3# some code\n",
    "except:\n",
    "    # alternate code\n",
    "else:\n",
    "    # continuation"
   ]
  },
  {
   "cell_type": "code",
   "execution_count": 21,
   "id": "36be78b4",
   "metadata": {},
   "outputs": [
    {
     "name": "stdout",
     "output_type": "stream",
     "text": [
      "back up code\n"
     ]
    }
   ],
   "source": [
    "a = 10\n",
    "b = 'abc'\n",
    "\n",
    "try:\n",
    "    print(a/b)\n",
    "    \n",
    "except:\n",
    "    print('back up code')\n",
    "    \n",
    "else:\n",
    "    print(a+b)"
   ]
  },
  {
   "cell_type": "code",
   "execution_count": 33,
   "id": "cc48da17",
   "metadata": {},
   "outputs": [
    {
     "name": "stdout",
     "output_type": "stream",
     "text": [
      "back up code\n"
     ]
    }
   ],
   "source": [
    "a = 10\n",
    "b = 0\n",
    "\n",
    "f = open('file_handling/sometthing.txt' , 'w')\n",
    "\n",
    "try:\n",
    "    f.write('lean')\n",
    "    print(a/b)\n",
    "    f.write(str(a/b))\n",
    "    print(a+b)\n",
    "    f.write(str(a+b))\n",
    "    \n",
    "except:\n",
    "    print('back up code')\n",
    "    f.flush()\n",
    "    \n",
    "else:\n",
    "    print('hi')\n",
    "    f.close()"
   ]
  },
  {
   "cell_type": "code",
   "execution_count": null,
   "id": "ac433652",
   "metadata": {},
   "outputs": [],
   "source": [
    "a = 10\n",
    "b = 'abc'\n",
    "\n",
    "try:\n",
    "    print('function1')\n",
    "    \n",
    "except:\n",
    "    print('back up code')\n",
    "    \n",
    "else:\n",
    "    print('function2')"
   ]
  },
  {
   "cell_type": "markdown",
   "id": "9a822466",
   "metadata": {},
   "source": [
    "# try except else and finally \n",
    "\n",
    "\n",
    "\n",
    "finally will be executed even if the try block is working or the else or if both are alo not working "
   ]
  },
  {
   "cell_type": "code",
   "execution_count": 37,
   "id": "0a2476c4",
   "metadata": {},
   "outputs": [
    {
     "name": "stdout",
     "output_type": "stream",
     "text": [
      "hello world\n"
     ]
    },
    {
     "ename": "TypeError",
     "evalue": "unsupported operand type(s) for +: 'int' and 'str'",
     "output_type": "error",
     "traceback": [
      "\u001b[1;31m---------------------------------------------------------------------------\u001b[0m",
      "\u001b[1;31mTypeError\u001b[0m                                 Traceback (most recent call last)",
      "Input \u001b[1;32mIn [37]\u001b[0m, in \u001b[0;36m<cell line: 4>\u001b[1;34m()\u001b[0m\n\u001b[0;32m      4\u001b[0m \u001b[38;5;28;01mtry\u001b[39;00m:\n\u001b[1;32m----> 5\u001b[0m     \u001b[38;5;28mprint\u001b[39m(\u001b[43ma\u001b[49m\u001b[38;5;241;43m/\u001b[39;49m\u001b[43mb\u001b[49m)\n\u001b[0;32m      7\u001b[0m \u001b[38;5;28;01mexcept\u001b[39;00m:\n",
      "\u001b[1;31mTypeError\u001b[0m: unsupported operand type(s) for /: 'int' and 'str'",
      "\nDuring handling of the above exception, another exception occurred:\n",
      "\u001b[1;31mTypeError\u001b[0m                                 Traceback (most recent call last)",
      "Input \u001b[1;32mIn [37]\u001b[0m, in \u001b[0;36m<cell line: 4>\u001b[1;34m()\u001b[0m\n\u001b[0;32m      5\u001b[0m     \u001b[38;5;28mprint\u001b[39m(a\u001b[38;5;241m/\u001b[39mb)\n\u001b[0;32m      7\u001b[0m \u001b[38;5;28;01mexcept\u001b[39;00m:\n\u001b[1;32m----> 8\u001b[0m     \u001b[38;5;28mprint\u001b[39m(\u001b[43ma\u001b[49m\u001b[43m \u001b[49m\u001b[38;5;241;43m+\u001b[39;49m\u001b[43mb\u001b[49m)\n\u001b[0;32m     10\u001b[0m \u001b[38;5;28;01melse\u001b[39;00m:\n\u001b[0;32m     11\u001b[0m     \u001b[38;5;28mprint\u001b[39m(a\u001b[38;5;241m+\u001b[39mb)\n",
      "\u001b[1;31mTypeError\u001b[0m: unsupported operand type(s) for +: 'int' and 'str'"
     ]
    }
   ],
   "source": [
    "a = 10\n",
    "b = 'abc'\n",
    "\n",
    "try:\n",
    "    print(a/b)\n",
    "    \n",
    "except:\n",
    "    print(a +b)\n",
    "    \n",
    "else:\n",
    "    print(a+b)\n",
    "    \n",
    "    \n",
    "finally:\n",
    "    print('hello world')"
   ]
  },
  {
   "cell_type": "code",
   "execution_count": 41,
   "id": "5d2f46b8",
   "metadata": {},
   "outputs": [
    {
     "name": "stdout",
     "output_type": "stream",
     "text": [
      "Please enter the account number : 515fgd\n",
      "Please enter the proper values \n",
      "add displed\n",
      "finished\n"
     ]
    }
   ],
   "source": [
    "try:\n",
    "    a = int(input('Please enter the account number : '))\n",
    "    b = float(input('Please enter the amount you want to transfer : '))\n",
    "    print('continue')\n",
    "    \n",
    "except:\n",
    "    print('Please enter the proper values ')\n",
    "    \n",
    "else:\n",
    "    print('check amounbt if ite is present  ')\n",
    "    print('amount deposited')\n",
    "    \n",
    "finally:\n",
    "    print('add displed')\n",
    "    \n",
    "print('finished')"
   ]
  },
  {
   "cell_type": "markdown",
   "id": "7e2de95b",
   "metadata": {},
   "source": [
    "# showing coding errrors to users "
   ]
  },
  {
   "cell_type": "code",
   "execution_count": 48,
   "id": "c4a4e58c",
   "metadata": {},
   "outputs": [
    {
     "ename": "NameError",
     "evalue": "name 'c' is not defined",
     "output_type": "error",
     "traceback": [
      "\u001b[1;31m---------------------------------------------------------------------------\u001b[0m",
      "\u001b[1;31mNameError\u001b[0m                                 Traceback (most recent call last)",
      "Input \u001b[1;32mIn [48]\u001b[0m, in \u001b[0;36m<cell line: 6>\u001b[1;34m()\u001b[0m\n\u001b[0;32m      4\u001b[0m b \u001b[38;5;241m=\u001b[39m \u001b[38;5;124m'\u001b[39m\u001b[38;5;124masd\u001b[39m\u001b[38;5;124m'\u001b[39m\n\u001b[0;32m      6\u001b[0m \u001b[38;5;28;01mtry\u001b[39;00m:\n\u001b[1;32m----> 7\u001b[0m     \u001b[38;5;28mprint\u001b[39m(a\u001b[38;5;241m/\u001b[39m\u001b[43mc\u001b[49m)\n\u001b[0;32m      9\u001b[0m \u001b[38;5;28;01mexcept\u001b[39;00m \u001b[38;5;167;01mTypeError\u001b[39;00m \u001b[38;5;28;01mas\u001b[39;00m e:\n\u001b[0;32m     10\u001b[0m     \u001b[38;5;28mprint\u001b[39m(e)\n",
      "\u001b[1;31mNameError\u001b[0m: name 'c' is not defined"
     ]
    }
   ],
   "source": [
    "# 1st way\n",
    "\n",
    "a = 10\n",
    "b = 'asd'\n",
    "\n",
    "try:\n",
    "    print(a/c)\n",
    "    \n",
    "except TypeError as e:\n",
    "    print(e)\n",
    "    print('backup if the reason is type error')\n",
    "    \n",
    "    \n",
    "except ZeroDivisionError as e:\n",
    "    print(e)\n",
    "    print('backup if the reason is ZeroDivisionError')"
   ]
  },
  {
   "cell_type": "code",
   "execution_count": 51,
   "id": "423d16fb",
   "metadata": {},
   "outputs": [
    {
     "name": "stdout",
     "output_type": "stream",
     "text": [
      "division by zero\n",
      "backup if the reason \n"
     ]
    }
   ],
   "source": [
    "#2 nd way\n",
    "\n",
    "a = 10\n",
    "b = 0\n",
    "\n",
    "try:\n",
    "    print(a/b)\n",
    "    \n",
    "except Exception as e:\n",
    "    print(str(e))\n",
    "    print('backup if the reason ')\n",
    "    \n"
   ]
  },
  {
   "cell_type": "code",
   "execution_count": null,
   "id": "6e6528cc",
   "metadata": {},
   "outputs": [],
   "source": [
    "# error logging \n",
    "\n",
    "# take 2 inputs\n",
    "a = \n",
    "b = \n",
    "\n",
    "\n",
    "# code where it will be able to handle all the types of errors \n",
    "# i want to see why it failed as well as I want to have the recod to be stored in the background \n"
   ]
  },
  {
   "cell_type": "code",
   "execution_count": null,
   "id": "7c8b8f06",
   "metadata": {},
   "outputs": [],
   "source": [
    "import datetime\n",
    "\n",
    "import time"
   ]
  },
  {
   "cell_type": "code",
   "execution_count": 68,
   "id": "1c8b92df",
   "metadata": {},
   "outputs": [
    {
     "name": "stdout",
     "output_type": "stream",
     "text": [
      "2022-11-27\n",
      "10:43 AM\n"
     ]
    }
   ],
   "source": [
    "dt = datetime.datetime.now()\n",
    "\n",
    "print(dt.date())\n",
    "\n",
    "\n",
    "t = time.strftime('%I:%M %p')\n",
    "print(t)"
   ]
  },
  {
   "cell_type": "code",
   "execution_count": 74,
   "id": "6dc07971",
   "metadata": {},
   "outputs": [
    {
     "name": "stdout",
     "output_type": "stream",
     "text": [
      "Enter the first number : 123\n",
      "Enter the second number : ghfg\n",
      "invalid literal for int() with base 10: 'ghfg'\n",
      "finished\n"
     ]
    }
   ],
   "source": [
    "f = open('file_handling/error.txt' , 'a+')\n",
    "\n",
    "\n",
    "try:\n",
    "    a = int(input('Enter the first number : '))\n",
    "    b = int(input ('Enter the second number : '))\n",
    "    c = a/b\n",
    "except Exception as e:\n",
    "    f.write(f'\\nOn the day {dt.date()} and on the time {t} the error occured {str(e)}')\n",
    "    print(e)\n",
    "    \n",
    "else:\n",
    "    print(c)\n",
    "finally:\n",
    "    f.close()\n",
    "    print('finished')\n",
    "    "
   ]
  },
  {
   "cell_type": "code",
   "execution_count": 76,
   "id": "d4f1939f",
   "metadata": {},
   "outputs": [
    {
     "data": {
      "text/plain": [
       "\"\\nOn the day 2022-11-27 and on the time 10:43 AM the error occured division by zero\\nOn the day 2022-11-27 and on the time 10:43 AM the error occured division by zero\\nOn the day 2022-11-27 and on the time 10:43 AM the error occured invalid literal for int() with base 10: 'ghfg'\""
      ]
     },
     "execution_count": 76,
     "metadata": {},
     "output_type": "execute_result"
    }
   ],
   "source": [
    "f = open('file_handling/error.txt' , 'a+')\n",
    "\n",
    "f.seek(0)\n",
    "f.read()"
   ]
  },
  {
   "cell_type": "markdown",
   "id": "b1d8c130",
   "metadata": {},
   "source": [
    "# Raise "
   ]
  },
  {
   "cell_type": "code",
   "execution_count": 78,
   "id": "32965014",
   "metadata": {},
   "outputs": [
    {
     "ename": "Exception",
     "evalue": "Dont go ahead",
     "output_type": "error",
     "traceback": [
      "\u001b[1;31m---------------------------------------------------------------------------\u001b[0m",
      "\u001b[1;31mException\u001b[0m                                 Traceback (most recent call last)",
      "Input \u001b[1;32mIn [78]\u001b[0m, in \u001b[0;36m<cell line: 3>\u001b[1;34m()\u001b[0m\n\u001b[0;32m      1\u001b[0m a \u001b[38;5;241m=\u001b[39m \u001b[38;5;241m10\u001b[39m\n\u001b[0;32m      3\u001b[0m \u001b[38;5;28;01mif\u001b[39;00m a \u001b[38;5;241m==\u001b[39m \u001b[38;5;241m10\u001b[39m:\n\u001b[1;32m----> 4\u001b[0m     \u001b[38;5;28;01mraise\u001b[39;00m \u001b[38;5;167;01mException\u001b[39;00m (\u001b[38;5;124m'\u001b[39m\u001b[38;5;124mDont go ahead\u001b[39m\u001b[38;5;124m'\u001b[39m)\n\u001b[0;32m      6\u001b[0m \u001b[38;5;28;01melse\u001b[39;00m:\n\u001b[0;32m      7\u001b[0m     \u001b[38;5;28mprint\u001b[39m(\u001b[38;5;124m'\u001b[39m\u001b[38;5;124mhappy world\u001b[39m\u001b[38;5;124m'\u001b[39m)\n",
      "\u001b[1;31mException\u001b[0m: Dont go ahead"
     ]
    }
   ],
   "source": [
    "a = 10\n",
    "\n",
    "if a == 10:\n",
    "    raise Exception ('Dont go ahead')\n",
    "    \n",
    "else:\n",
    "    print('happy world')\n",
    "    \n",
    "    \n",
    "print('next function')"
   ]
  },
  {
   "cell_type": "code",
   "execution_count": 80,
   "id": "a961eeee",
   "metadata": {},
   "outputs": [
    {
     "name": "stdout",
     "output_type": "stream",
     "text": [
      "hi\n",
      "bye\n",
      "a\n"
     ]
    },
    {
     "ename": "ZeroDivisionError",
     "evalue": "stop going ahead",
     "output_type": "error",
     "traceback": [
      "\u001b[1;31m---------------------------------------------------------------------------\u001b[0m",
      "\u001b[1;31mZeroDivisionError\u001b[0m                         Traceback (most recent call last)",
      "Input \u001b[1;32mIn [80]\u001b[0m, in \u001b[0;36m<cell line: 4>\u001b[1;34m()\u001b[0m\n\u001b[0;32m      2\u001b[0m \u001b[38;5;28mprint\u001b[39m(\u001b[38;5;124m'\u001b[39m\u001b[38;5;124mbye\u001b[39m\u001b[38;5;124m'\u001b[39m)\n\u001b[0;32m      3\u001b[0m \u001b[38;5;28mprint\u001b[39m(\u001b[38;5;124m'\u001b[39m\u001b[38;5;124ma\u001b[39m\u001b[38;5;124m'\u001b[39m)\n\u001b[1;32m----> 4\u001b[0m \u001b[38;5;28;01mraise\u001b[39;00m \u001b[38;5;167;01mZeroDivisionError\u001b[39;00m (\u001b[38;5;124m'\u001b[39m\u001b[38;5;124mstop going ahead\u001b[39m\u001b[38;5;124m'\u001b[39m)\n\u001b[0;32m      5\u001b[0m \u001b[38;5;28mprint\u001b[39m(\u001b[38;5;124m'\u001b[39m\u001b[38;5;124mpython\u001b[39m\u001b[38;5;124m'\u001b[39m)\n",
      "\u001b[1;31mZeroDivisionError\u001b[0m: stop going ahead"
     ]
    }
   ],
   "source": [
    "print('hi')\n",
    "print('bye')\n",
    "print('a')\n",
    "raise ZeroDivisionError ('stop going ahead')\n",
    "print('python')"
   ]
  },
  {
   "cell_type": "code",
   "execution_count": 88,
   "id": "4bd49cbe",
   "metadata": {},
   "outputs": [
    {
     "name": "stdout",
     "output_type": "stream",
     "text": [
      "Enter the amount you want to transfer : 2000\n",
      "Amount transfered \n"
     ]
    }
   ],
   "source": [
    "# gooogle pay app\n",
    "\n",
    "amt = int(input('Enter the amount you want to transfer : '))\n",
    "try:\n",
    "    if amt >= 0 and amt <= 50000:\n",
    "        print('Amount transfered ')\n",
    "    elif amt > 50000 and amt <60000:\n",
    "        print('Enter the PAN number : ')\n",
    "    else:\n",
    "        raise TypeError ('over limit')\n",
    "\n",
    "except Exception as e:\n",
    "    print(e)\n",
    "        \n",
    "        \n",
    "# print('Trigger the next function')\n"
   ]
  },
  {
   "cell_type": "code",
   "execution_count": 124,
   "id": "a8c930f8",
   "metadata": {},
   "outputs": [
    {
     "name": "stdout",
     "output_type": "stream",
     "text": [
      "Enter the amount you want to transfer : 55000\n",
      "Enter the PAN number : \n"
     ]
    },
    {
     "ename": "TypeError",
     "evalue": "__init__() takes 1 positional argument but 2 were given",
     "output_type": "error",
     "traceback": [
      "\u001b[1;31m---------------------------------------------------------------------------\u001b[0m",
      "\u001b[1;31mTypeError\u001b[0m                                 Traceback (most recent call last)",
      "Input \u001b[1;32mIn [124]\u001b[0m, in \u001b[0;36m<cell line: 4>\u001b[1;34m()\u001b[0m\n\u001b[0;32m      6\u001b[0m \u001b[38;5;28;01melif\u001b[39;00m amt \u001b[38;5;241m>\u001b[39m \u001b[38;5;241m50000\u001b[39m \u001b[38;5;129;01mand\u001b[39;00m amt \u001b[38;5;241m<\u001b[39m\u001b[38;5;241m60000\u001b[39m:\n\u001b[0;32m      7\u001b[0m             \u001b[38;5;28mprint\u001b[39m(\u001b[38;5;124m'\u001b[39m\u001b[38;5;124mEnter the PAN number : \u001b[39m\u001b[38;5;124m'\u001b[39m)\n\u001b[1;32m----> 8\u001b[0m             \u001b[38;5;28;01mraise\u001b[39;00m \u001b[43mpan_error\u001b[49m\u001b[43m \u001b[49m\u001b[43m(\u001b[49m\u001b[38;5;124;43m'\u001b[39;49m\u001b[38;5;124;43masds\u001b[39;49m\u001b[38;5;124;43m'\u001b[39;49m\u001b[43m)\u001b[49m\n\u001b[0;32m      9\u001b[0m             \u001b[38;5;28;01mraise\u001b[39;00m over_limit\n\u001b[0;32m     13\u001b[0m \u001b[38;5;28mprint\u001b[39m(\u001b[38;5;124m'\u001b[39m\u001b[38;5;124mTrigger the next function\u001b[39m\u001b[38;5;124m'\u001b[39m)\n",
      "\u001b[1;31mTypeError\u001b[0m: __init__() takes 1 positional argument but 2 were given"
     ]
    }
   ],
   "source": [
    "amt = int(input('Enter the amount you want to transfer : '))\n",
    "\n",
    "\n",
    "if amt >= 0 and amt <= 50000:\n",
    "            print('Amount transfered ')\n",
    "elif amt > 50000 and amt <60000:\n",
    "            print('Enter the PAN number : ')\n",
    "            raise pan_error ('asds')\n",
    "            raise over_limit\n",
    "\n",
    "        \n",
    "        \n",
    "print('Trigger the next function')"
   ]
  },
  {
   "cell_type": "markdown",
   "id": "b1297176",
   "metadata": {},
   "source": [
    "# Userdefined errors"
   ]
  },
  {
   "cell_type": "code",
   "execution_count": 121,
   "id": "db375d67",
   "metadata": {},
   "outputs": [],
   "source": [
    "class pan_error(Exception):\n",
    "    def __init__(self ):\n",
    "        pass"
   ]
  },
  {
   "cell_type": "code",
   "execution_count": null,
   "id": "0aef30aa",
   "metadata": {},
   "outputs": [],
   "source": [
    "# enter the amount\n",
    "# if the amount is less than 50000 then tell that the amount deposited\n",
    "\n",
    "{\n",
    "# if the amount is btw 50000 -- 70000 I want you to raise an error_1\n",
    "# If the error_1 is raise then ask for pan \n",
    "\n",
    "# If the len of pan number is 10 ---> amount deposited\n",
    "# else raise an error and stop every\n",
    "}\n",
    "\n",
    "# If the amont is greater than the 70000 raise and error Over_limit\n",
    "# if the over limit error is raised ,\n",
    "# Ask if they want to retry from begining\n",
    "# if Y then do same thing prviously done\n",
    "\n",
    "\n",
    "# If N then stop\n",
    "\n",
    "\n",
    "# Log all the steps as well as errors "
   ]
  },
  {
   "cell_type": "code",
   "execution_count": 125,
   "id": "deb18292",
   "metadata": {},
   "outputs": [
    {
     "name": "stdout",
     "output_type": "stream",
     "text": [
      "hello\n"
     ]
    }
   ],
   "source": [
    "try:\n",
    "    raise pan_error\n",
    "except:\n",
    "    print('hello')"
   ]
  },
  {
   "cell_type": "markdown",
   "id": "28342f10",
   "metadata": {},
   "source": [
    "# Regular expression --> Numpy --> Pandas --> matplotlip ---> seaborn -- EDA\n",
    "-- python test\n",
    "-stats\n",
    "- ml\n"
   ]
  },
  {
   "cell_type": "code",
   "execution_count": 127,
   "id": "5070e94a",
   "metadata": {},
   "outputs": [
    {
     "name": "stdout",
     "output_type": "stream",
     "text": [
      "10\n"
     ]
    },
    {
     "ename": "ValueError",
     "evalue": "list.remove(x): x not in list",
     "output_type": "error",
     "traceback": [
      "\u001b[1;31m---------------------------------------------------------------------------\u001b[0m",
      "\u001b[1;31mValueError\u001b[0m                                Traceback (most recent call last)",
      "Input \u001b[1;32mIn [127]\u001b[0m, in \u001b[0;36m<cell line: 2>\u001b[1;34m()\u001b[0m\n\u001b[0;32m      5\u001b[0m         Input\u001b[38;5;241m.\u001b[39mremove(i)\n\u001b[0;32m      6\u001b[0m         \u001b[38;5;66;03m#print(i)\u001b[39;00m\n\u001b[1;32m----> 7\u001b[0m         \u001b[43mInput\u001b[49m\u001b[38;5;241;43m.\u001b[39;49m\u001b[43mremove\u001b[49m\u001b[43m(\u001b[49m\u001b[43mi\u001b[49m\u001b[43m)\u001b[49m\n\u001b[0;32m      8\u001b[0m \u001b[38;5;28mprint\u001b[39m(Input)\n",
      "\u001b[1;31mValueError\u001b[0m: list.remove(x): x not in list"
     ]
    }
   ],
   "source": [
    "Input= [10,21,22,98,87,45,33,1,2,100]\n",
    "for i in Input:\n",
    "    print(i)\n",
    "    if i%2 == 0:\n",
    "        Input.remove(i)\n",
    "        #print(i)\n",
    "        #Input.remove(i)\n",
    "print(Input)\n"
   ]
  },
  {
   "cell_type": "code",
   "execution_count": 128,
   "id": "1d5f92a7",
   "metadata": {},
   "outputs": [
    {
     "name": "stdout",
     "output_type": "stream",
     "text": [
      "[21, 87, 45, 33, 1]\n"
     ]
    }
   ],
   "source": [
    "lst = [10,21,22,98,87,45,33,1,2,100]\n",
    "e_list = []\n",
    "\n",
    "for i in lst:\n",
    "    if i % 2 != 0:\n",
    "        e_list.append(i)\n",
    "        \n",
    "print(e_list)"
   ]
  },
  {
   "cell_type": "code",
   "execution_count": null,
   "id": "9539d802",
   "metadata": {},
   "outputs": [],
   "source": []
  }
 ],
 "metadata": {
  "kernelspec": {
   "display_name": "Python 3 (ipykernel)",
   "language": "python",
   "name": "python3"
  },
  "language_info": {
   "codemirror_mode": {
    "name": "ipython",
    "version": 3
   },
   "file_extension": ".py",
   "mimetype": "text/x-python",
   "name": "python",
   "nbconvert_exporter": "python",
   "pygments_lexer": "ipython3",
   "version": "3.9.12"
  }
 },
 "nbformat": 4,
 "nbformat_minor": 5
}
