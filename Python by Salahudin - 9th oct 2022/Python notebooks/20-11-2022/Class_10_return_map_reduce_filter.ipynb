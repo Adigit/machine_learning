{
 "cells": [
  {
   "cell_type": "markdown",
   "id": "598ab49d",
   "metadata": {},
   "source": [
    "# Variable length arguments\n",
    "\n",
    "- *args - takes the variable length positional args and store the value as a tuple\n",
    "- **kwargs - Takes the variable length keyword args and store the value in form of a dic"
   ]
  },
  {
   "cell_type": "code",
   "execution_count": 31,
   "id": "43ccf403",
   "metadata": {},
   "outputs": [
    {
     "name": "stdout",
     "output_type": "stream",
     "text": [
      "(10, 20, 30)\n"
     ]
    }
   ],
   "source": [
    "def add(*var):\n",
    "    print(var)\n",
    "    \n",
    "    \n",
    "add(10,20,30)"
   ]
  },
  {
   "cell_type": "code",
   "execution_count": 14,
   "id": "6a51df51",
   "metadata": {},
   "outputs": [
    {
     "name": "stdout",
     "output_type": "stream",
     "text": [
      "(10, 20, 30)\n",
      "{'a': 10, 'b': 20, 'c': 30, 'd': 40}\n"
     ]
    }
   ],
   "source": [
    "def add(*args , **kwargs):\n",
    "    print(args)\n",
    "    print(kwargs)\n",
    "    \n",
    "    \n",
    "add(10,20,30 , a = 10 , b = 20 ,c = 30 , d =40)"
   ]
  },
  {
   "cell_type": "code",
   "execution_count": 18,
   "id": "fd0909fa",
   "metadata": {},
   "outputs": [],
   "source": [
    "def add(*args):\n",
    "    print(sum(args))"
   ]
  },
  {
   "cell_type": "code",
   "execution_count": 21,
   "id": "4b58e2d8",
   "metadata": {},
   "outputs": [
    {
     "name": "stdout",
     "output_type": "stream",
     "text": [
      "960\n"
     ]
    }
   ],
   "source": [
    "add(10,20 , 40 ,890)"
   ]
  },
  {
   "cell_type": "code",
   "execution_count": 26,
   "id": "529511bd",
   "metadata": {},
   "outputs": [
    {
     "data": {
      "text/plain": [
       "[1, 3, 5, 7, 9]"
      ]
     },
     "execution_count": 26,
     "metadata": {},
     "output_type": "execute_result"
    }
   ],
   "source": [
    "list(range(1,10 , 2))"
   ]
  },
  {
   "cell_type": "code",
   "execution_count": 29,
   "id": "11d00b11",
   "metadata": {},
   "outputs": [
    {
     "data": {
      "text/plain": [
       "'PYTHON'"
      ]
     },
     "execution_count": 29,
     "metadata": {},
     "output_type": "execute_result"
    }
   ],
   "source": [
    "a = 'python'\n",
    "\n",
    "\n",
    "a.swapcase()"
   ]
  },
  {
   "cell_type": "markdown",
   "id": "36a82af9",
   "metadata": {},
   "source": [
    "# ** "
   ]
  },
  {
   "cell_type": "code",
   "execution_count": 42,
   "id": "b0f653d4",
   "metadata": {},
   "outputs": [],
   "source": [
    "emp_data = {'emp_1':{'Age': 26 , 'Salary': 901000 , 'Name': 'Salahuddin'},\n",
    "           'emp_2':{'Age': 27 , 'Salary': 1000000 , 'Name': 'Abhijeet'},\n",
    "           'emp_3':{'Age': 28 , 'Salary': 1000002 , 'Name': 'Abhishail'},\n",
    "           'emp_4':{'Age': 29 , 'Salary': 1100000 , 'Name': 'Abhishek'}}"
   ]
  },
  {
   "cell_type": "code",
   "execution_count": 43,
   "id": "789bb153",
   "metadata": {},
   "outputs": [],
   "source": [
    "def emp_adder(a,b,c):\n",
    "    key = f'emp_{len(emp_data)+1}'\n",
    "    emp_data.setdefault(key , {'Age': a , 'Salary': b , 'Name': c})"
   ]
  },
  {
   "cell_type": "code",
   "execution_count": 46,
   "id": "c5656854",
   "metadata": {},
   "outputs": [],
   "source": [
    "emp_adder( 60000 , 'emp_smart') # age ? location = bangalore , pan - "
   ]
  },
  {
   "cell_type": "code",
   "execution_count": 47,
   "id": "cdfd4e75",
   "metadata": {},
   "outputs": [
    {
     "data": {
      "text/plain": [
       "{'emp_1': {'Age': 26, 'Salary': 901000, 'Name': 'Salahuddin'},\n",
       " 'emp_2': {'Age': 27, 'Salary': 1000000, 'Name': 'Abhijeet'},\n",
       " 'emp_3': {'Age': 28, 'Salary': 1000002, 'Name': 'Abhishail'},\n",
       " 'emp_4': {'Age': 29, 'Salary': 1100000, 'Name': 'Abhishek'},\n",
       " 'emp_5': {'Age': 25, 'Salary': 656656, 'Name': 'new_emp'},\n",
       " 'emp_6': {'Age': 25, 'Salary': 656656, 'Name': 'new_emp_1'}}"
      ]
     },
     "execution_count": 47,
     "metadata": {},
     "output_type": "execute_result"
    }
   ],
   "source": [
    "emp_data"
   ]
  },
  {
   "cell_type": "code",
   "execution_count": null,
   "id": "bc662d27",
   "metadata": {},
   "outputs": [],
   "source": [
    "age ?\n",
    "location -> salary --> name"
   ]
  },
  {
   "cell_type": "code",
   "execution_count": null,
   "id": "c6060412",
   "metadata": {},
   "outputs": [],
   "source": [
    "name --> "
   ]
  },
  {
   "cell_type": "code",
   "execution_count": null,
   "id": "691d9236",
   "metadata": {},
   "outputs": [],
   "source": [
    "pan = "
   ]
  },
  {
   "cell_type": "code",
   "execution_count": 56,
   "id": "4447810b",
   "metadata": {},
   "outputs": [],
   "source": [
    "emp_data = {'emp_1':{'Age': 26 , 'Salary': 901000 , 'Name': 'Salahuddin'},\n",
    "           'emp_2':{'Age': 27 , 'Salary': 1000000 , 'Name': 'Abhijeet'},\n",
    "           'emp_3':{'Age': 28 , 'Salary': 1000002 , 'Name': 'Abhishail'},\n",
    "           'emp_4':{'Age': 29 , 'Salary': 1100000 , 'Name': 'Abhishek'}}"
   ]
  },
  {
   "cell_type": "code",
   "execution_count": 57,
   "id": "a896278e",
   "metadata": {},
   "outputs": [],
   "source": [
    "def emp_adder(**kwargs):\n",
    "    '''If you are entering any details keep the first letter\n",
    "    in uppercase'''\n",
    "    key = f'emp_{len(emp_data)+1}'\n",
    "    emp_data.setdefault(key ,kwargs)"
   ]
  },
  {
   "cell_type": "code",
   "execution_count": 61,
   "id": "a5774c3e",
   "metadata": {},
   "outputs": [],
   "source": [
    "emp_adder(Name = 'new_emp_2' , Salary = 9899896 , Location = 'bangalore')"
   ]
  },
  {
   "cell_type": "code",
   "execution_count": 62,
   "id": "e0eafce7",
   "metadata": {},
   "outputs": [
    {
     "data": {
      "text/plain": [
       "{'emp_1': {'Age': 26, 'Salary': 901000, 'Name': 'Salahuddin'},\n",
       " 'emp_2': {'Age': 27, 'Salary': 1000000, 'Name': 'Abhijeet'},\n",
       " 'emp_3': {'Age': 28, 'Salary': 1000002, 'Name': 'Abhishail'},\n",
       " 'emp_4': {'Age': 29, 'Salary': 1100000, 'Name': 'Abhishek'},\n",
       " 'emp_5': {'Name': 'new_emp_2',\n",
       "  'Salary': 9899896,\n",
       "  'Age': 85,\n",
       "  'Location': 'bangalore'},\n",
       " 'emp_6': {'Name': 'new_emp_2', 'Salary': 9899896, 'Location': 'bangalore'}}"
      ]
     },
     "execution_count": 62,
     "metadata": {},
     "output_type": "execute_result"
    }
   ],
   "source": [
    "emp_data"
   ]
  },
  {
   "cell_type": "code",
   "execution_count": 74,
   "id": "a6e4bc6b",
   "metadata": {},
   "outputs": [
    {
     "name": "stdout",
     "output_type": "stream",
     "text": [
      "(1, 2, 34, 4, 3)\n",
      "{'name': 'jksdfhksjf', 'default': None}\n"
     ]
    }
   ],
   "source": [
    "def emp_adder(**kwargs):\n",
    "    key = f'emp_{len(emp_data)+1}'\n",
    "    temp = {}\n",
    "    for i,j in kwargs.items():\n",
    "        temp[i.capitalize()] = j\n",
    "    emp_data.setdefault(key,temp)\n",
    "    return f'New Employee {kwargs[\"name\"]} added'"
   ]
  },
  {
   "cell_type": "markdown",
   "id": "536d7048",
   "metadata": {},
   "source": [
    "# Global and local variable"
   ]
  },
  {
   "cell_type": "code",
   "execution_count": 75,
   "id": "269b3aa0",
   "metadata": {},
   "outputs": [
    {
     "name": "stdout",
     "output_type": "stream",
     "text": [
      "30\n",
      "30\n",
      "10\n",
      "20\n"
     ]
    },
    {
     "ename": "NameError",
     "evalue": "name 'd' is not defined",
     "output_type": "error",
     "traceback": [
      "\u001b[1;31m---------------------------------------------------------------------------\u001b[0m",
      "\u001b[1;31mNameError\u001b[0m                                 Traceback (most recent call last)",
      "Input \u001b[1;32mIn [75]\u001b[0m, in \u001b[0;36m<cell line: 15>\u001b[1;34m()\u001b[0m\n\u001b[0;32m     13\u001b[0m \u001b[38;5;28mprint\u001b[39m(x)\n\u001b[0;32m     14\u001b[0m \u001b[38;5;28mprint\u001b[39m(y)\n\u001b[1;32m---> 15\u001b[0m \u001b[38;5;28mprint\u001b[39m(\u001b[43md\u001b[49m)\n\u001b[0;32m     16\u001b[0m \u001b[38;5;28mprint\u001b[39m(c)\n",
      "\u001b[1;31mNameError\u001b[0m: name 'd' is not defined"
     ]
    }
   ],
   "source": [
    "x = 10\n",
    "y = 20\n",
    "\n",
    "def add(a , b):\n",
    "    c = a+b\n",
    "    d = x+y\n",
    "    print(d)\n",
    "    print(c)\n",
    "    \n",
    "    \n",
    "add(10 , 20)\n",
    "\n",
    "print(x)\n",
    "print(y)\n",
    "print(d)\n",
    "print(c)"
   ]
  },
  {
   "cell_type": "code",
   "execution_count": 76,
   "id": "8a6beeed",
   "metadata": {},
   "outputs": [
    {
     "name": "stdout",
     "output_type": "stream",
     "text": [
      "the name of the emp is  xyz\n",
      "the emp_sal of the emp is  34334\n",
      "the emp_age of the emp is  54\n",
      "the emp_location of the emp is  Goa\n"
     ]
    }
   ],
   "source": [
    "\n",
    "\n",
    "def emp_info(emp_name , emp_sal , emp_age , emp_location = 'Goa'):\n",
    "    print('the name of the emp is ' , emp_name)\n",
    "    print('the emp_sal of the emp is ' , emp_sal)\n",
    "    print('the emp_age of the emp is ' , emp_age)\n",
    "    print('the emp_location of the emp is ' , emp_location)\n",
    "    \n",
    "    \n",
    "emp_info( 'xyz' ,  34334 ,  54 )"
   ]
  },
  {
   "cell_type": "code",
   "execution_count": 77,
   "id": "274ba4bc",
   "metadata": {},
   "outputs": [
    {
     "ename": "NameError",
     "evalue": "name 'emp_name' is not defined",
     "output_type": "error",
     "traceback": [
      "\u001b[1;31m---------------------------------------------------------------------------\u001b[0m",
      "\u001b[1;31mNameError\u001b[0m                                 Traceback (most recent call last)",
      "Input \u001b[1;32mIn [77]\u001b[0m, in \u001b[0;36m<cell line: 1>\u001b[1;34m()\u001b[0m\n\u001b[1;32m----> 1\u001b[0m \u001b[43memp_name\u001b[49m\n",
      "\u001b[1;31mNameError\u001b[0m: name 'emp_name' is not defined"
     ]
    }
   ],
   "source": [
    "emp_name"
   ]
  },
  {
   "cell_type": "code",
   "execution_count": null,
   "id": "9e780114",
   "metadata": {},
   "outputs": [],
   "source": [
    "# Retun\n",
    "\n",
    "- It is optional\n",
    "- If return is not used by default the return value is None\n",
    "- you can return any value and of any data type\n"
   ]
  },
  {
   "cell_type": "code",
   "execution_count": 78,
   "id": "47644093",
   "metadata": {},
   "outputs": [],
   "source": [
    "def add(a,b):\n",
    "    print(a+b)"
   ]
  },
  {
   "cell_type": "code",
   "execution_count": 80,
   "id": "0f87def2",
   "metadata": {},
   "outputs": [
    {
     "name": "stdout",
     "output_type": "stream",
     "text": [
      "230\n"
     ]
    }
   ],
   "source": [
    "num = add(10,220)"
   ]
  },
  {
   "cell_type": "code",
   "execution_count": 82,
   "id": "996b346b",
   "metadata": {},
   "outputs": [
    {
     "name": "stdout",
     "output_type": "stream",
     "text": [
      "None\n"
     ]
    }
   ],
   "source": [
    "print(num)"
   ]
  },
  {
   "cell_type": "code",
   "execution_count": 83,
   "id": "619b56b8",
   "metadata": {},
   "outputs": [],
   "source": [
    "def add(a,b):\n",
    "    return "
   ]
  },
  {
   "cell_type": "code",
   "execution_count": 86,
   "id": "2875d0b7",
   "metadata": {},
   "outputs": [],
   "source": [
    "num = add(10,220)"
   ]
  },
  {
   "cell_type": "code",
   "execution_count": 87,
   "id": "0b8f893e",
   "metadata": {},
   "outputs": [
    {
     "data": {
      "text/plain": [
       "230"
      ]
     },
     "execution_count": 87,
     "metadata": {},
     "output_type": "execute_result"
    }
   ],
   "source": [
    "num"
   ]
  },
  {
   "cell_type": "code",
   "execution_count": null,
   "id": "b6cd92f6",
   "metadata": {},
   "outputs": [],
   "source": [
    "def palindrom(a):\n",
    "    if a == a[::-1]:\n",
    "        print('yes')\n",
    "    else:\n",
    "        print('no')"
   ]
  },
  {
   "cell_type": "code",
   "execution_count": null,
   "id": "f7e610a7",
   "metadata": {},
   "outputs": [],
   "source": [
    "a = 'python'\n",
    "\n",
    "\n",
    "palindrom \n",
    " if the return value is yes the close\n",
    "\n",
    "if the return value is no ask the user if he want to try with another word or no?\n",
    "        yes\n",
    "        level\n",
    "        no\n",
    "        end "
   ]
  },
  {
   "cell_type": "code",
   "execution_count": 101,
   "id": "31259f50",
   "metadata": {},
   "outputs": [
    {
     "name": "stdout",
     "output_type": "stream",
     "text": [
      "(230, -210)\n"
     ]
    }
   ],
   "source": [
    "def add(a , b):\n",
    "    c = a+b\n",
    "    d = a-b\n",
    "    return (c ,d)\n",
    "\n",
    "\n",
    "num = add(10,220)\n",
    "print(num)"
   ]
  },
  {
   "cell_type": "code",
   "execution_count": null,
   "id": "b33c9393",
   "metadata": {},
   "outputs": [],
   "source": [
    "200 + 200 --> 400"
   ]
  },
  {
   "cell_type": "code",
   "execution_count": 1,
   "id": "bd90eeef",
   "metadata": {},
   "outputs": [],
   "source": [
    "def add(a , b):\n",
    "    c = a+b\n",
    "    return(c)"
   ]
  },
  {
   "cell_type": "code",
   "execution_count": 2,
   "id": "8f488a7d",
   "metadata": {},
   "outputs": [],
   "source": [
    "num = add(10,220)"
   ]
  },
  {
   "cell_type": "code",
   "execution_count": 3,
   "id": "ea94f625",
   "metadata": {},
   "outputs": [
    {
     "name": "stdout",
     "output_type": "stream",
     "text": [
      "230\n"
     ]
    }
   ],
   "source": [
    "print(num)"
   ]
  },
  {
   "cell_type": "code",
   "execution_count": 4,
   "id": "86570d50",
   "metadata": {},
   "outputs": [
    {
     "ename": "NameError",
     "evalue": "name 'c' is not defined",
     "output_type": "error",
     "traceback": [
      "\u001b[1;31m---------------------------------------------------------------------------\u001b[0m",
      "\u001b[1;31mNameError\u001b[0m                                 Traceback (most recent call last)",
      "Input \u001b[1;32mIn [4]\u001b[0m, in \u001b[0;36m<cell line: 1>\u001b[1;34m()\u001b[0m\n\u001b[1;32m----> 1\u001b[0m \u001b[38;5;28mprint\u001b[39m(\u001b[43mc\u001b[49m)\n",
      "\u001b[1;31mNameError\u001b[0m: name 'c' is not defined"
     ]
    }
   ],
   "source": [
    "print(c)"
   ]
  },
  {
   "cell_type": "markdown",
   "id": "3973dc25",
   "metadata": {},
   "source": [
    "# Lambda\n",
    "\n",
    "\n",
    "- anonymous function (function without a name)\n",
    "\n",
    "\n",
    "\n",
    "syntax\n",
    "lambda parmeter : expression\n",
    "\n",
    "\n",
    "### Note:- Lambda can take n number parameters but only one expression"
   ]
  },
  {
   "cell_type": "code",
   "execution_count": 5,
   "id": "be63dc8e",
   "metadata": {},
   "outputs": [
    {
     "data": {
      "text/plain": [
       "46"
      ]
     },
     "execution_count": 5,
     "metadata": {},
     "output_type": "execute_result"
    }
   ],
   "source": [
    "def add(a , b):\n",
    "    return a+b\n",
    "\n",
    "\n",
    "add(12,34)"
   ]
  },
  {
   "cell_type": "code",
   "execution_count": null,
   "id": "435c95c3",
   "metadata": {},
   "outputs": [],
   "source": [
    "# 2 methods in you lambda"
   ]
  },
  {
   "cell_type": "markdown",
   "id": "80b6a9de",
   "metadata": {},
   "source": [
    "# 1st method"
   ]
  },
  {
   "cell_type": "code",
   "execution_count": 6,
   "id": "4c4103ee",
   "metadata": {},
   "outputs": [],
   "source": [
    "x = lambda a , b: a+b"
   ]
  },
  {
   "cell_type": "code",
   "execution_count": 7,
   "id": "f77b121a",
   "metadata": {},
   "outputs": [
    {
     "data": {
      "text/plain": [
       "30"
      ]
     },
     "execution_count": 7,
     "metadata": {},
     "output_type": "execute_result"
    }
   ],
   "source": [
    "x(10 , 20)"
   ]
  },
  {
   "cell_type": "markdown",
   "id": "cd0a7f8c",
   "metadata": {},
   "source": [
    "# 2nd method"
   ]
  },
  {
   "cell_type": "code",
   "execution_count": 8,
   "id": "9d2e7b62",
   "metadata": {},
   "outputs": [
    {
     "data": {
      "text/plain": [
       "30"
      ]
     },
     "execution_count": 8,
     "metadata": {},
     "output_type": "execute_result"
    }
   ],
   "source": [
    "x = (lambda a , b: a+b)(10,20)\n",
    "x"
   ]
  },
  {
   "cell_type": "code",
   "execution_count": 9,
   "id": "544788dc",
   "metadata": {},
   "outputs": [],
   "source": [
    "def odd_even(a):\n",
    "    if a%2 == 0:\n",
    "        return 'even'\n",
    "    else:\n",
    "        return 'odd'"
   ]
  },
  {
   "cell_type": "code",
   "execution_count": 10,
   "id": "b0771527",
   "metadata": {},
   "outputs": [
    {
     "data": {
      "text/plain": [
       "'even'"
      ]
     },
     "execution_count": 10,
     "metadata": {},
     "output_type": "execute_result"
    }
   ],
   "source": [
    "x = (lambda a: 'even' if a%2 == 0 else 'odd' )(50)\n",
    "x"
   ]
  },
  {
   "cell_type": "code",
   "execution_count": null,
   "id": "d8dd0e54",
   "metadata": {},
   "outputs": [],
   "source": [
    "['2015-07-31' , '2015-07-31' ,'2015-07-31' ,'2015-07-31' ,'2015-07-31' ,'2015-07-31']"
   ]
  },
  {
   "cell_type": "code",
   "execution_count": 11,
   "id": "0e9d69b0",
   "metadata": {},
   "outputs": [],
   "source": [
    "a = '2015-07-31'\n",
    "\n",
    "year = a[:4]"
   ]
  },
  {
   "cell_type": "code",
   "execution_count": 12,
   "id": "ebaa4fc8",
   "metadata": {},
   "outputs": [
    {
     "data": {
      "text/plain": [
       "'2015'"
      ]
     },
     "execution_count": 12,
     "metadata": {},
     "output_type": "execute_result"
    }
   ],
   "source": [
    "year"
   ]
  },
  {
   "cell_type": "code",
   "execution_count": 15,
   "id": "8dec1bec",
   "metadata": {},
   "outputs": [
    {
     "name": "stdout",
     "output_type": "stream",
     "text": [
      "[32.0, 72.32, 104.0, 77.0, 89.6]\n"
     ]
    }
   ],
   "source": [
    "# \n",
    "\n",
    "tem_cel = [0 , 22.4 , 40 , 25 , 32]\n",
    "tem_far = []\n",
    "\n",
    "\n",
    "for i in tem_cel:\n",
    "    tem_far.append((9/5)*i +32)\n",
    "    \n",
    "    \n",
    "print(tem_far)"
   ]
  },
  {
   "cell_type": "code",
   "execution_count": 16,
   "id": "9621dbe0",
   "metadata": {},
   "outputs": [
    {
     "name": "stdout",
     "output_type": "stream",
     "text": [
      "[32.0, 72.32, 104.0, 77.0, 89.6]\n"
     ]
    }
   ],
   "source": [
    "# \n",
    "\n",
    "tem_cel = [0 , 22.4 , 40 , 25 , 32]\n",
    "tem_far = [(9/5)*i +32 for i in tem_cel]  \n",
    "    \n",
    "print(tem_far)"
   ]
  },
  {
   "cell_type": "code",
   "execution_count": 22,
   "id": "1e151c79",
   "metadata": {},
   "outputs": [
    {
     "name": "stdout",
     "output_type": "stream",
     "text": [
      "[32.0, 72.32, 104.0, 77.0, 89.6]\n"
     ]
    }
   ],
   "source": [
    "tem_far = []\n",
    "tem_cel = [0,22.4,40,25,32]\n",
    "def tem_conv(a):\n",
    "    for I in a:\n",
    "         tem_far.append( (9/5)*I + 32)\n",
    "\n",
    "tem_conv(tem_cel)\n",
    "print(tem_far)"
   ]
  },
  {
   "cell_type": "code",
   "execution_count": 23,
   "id": "972a1a3d",
   "metadata": {},
   "outputs": [
    {
     "name": "stdout",
     "output_type": "stream",
     "text": [
      "[32.0, 89.6, 72.32, 104.0]\n"
     ]
    }
   ],
   "source": [
    "# lambda\n",
    "\n",
    "temp_in_cel = [0,32,22.4,40]\n",
    "temp_in_farh = [(lambda x: x*(9/5) + 32)(i) for i in temp_in_cel]\n",
    "print(temp_in_farh)\n"
   ]
  },
  {
   "cell_type": "code",
   "execution_count": null,
   "id": "4959461c",
   "metadata": {},
   "outputs": [],
   "source": [
    "# map()\n",
    "- 1. function\n",
    "- 2. seq\n",
    "\n",
    "\n",
    "syntax (map(function , iterable))"
   ]
  },
  {
   "cell_type": "code",
   "execution_count": 27,
   "id": "7af012e5",
   "metadata": {},
   "outputs": [],
   "source": [
    "temp_in_cel = [0,32,22.4,40]\n",
    "\n",
    "def tem_converter(T):\n",
    "    return (9/5)* T + 32"
   ]
  },
  {
   "cell_type": "code",
   "execution_count": 29,
   "id": "ad074e91",
   "metadata": {},
   "outputs": [
    {
     "data": {
      "text/plain": [
       "[32.0, 89.6, 72.32, 104.0]"
      ]
     },
     "execution_count": 29,
     "metadata": {},
     "output_type": "execute_result"
    }
   ],
   "source": [
    "list(map(tem_converter , temp_in_cel))"
   ]
  },
  {
   "cell_type": "code",
   "execution_count": 25,
   "id": "1d13ef3a",
   "metadata": {},
   "outputs": [
    {
     "data": {
      "text/plain": [
       "89.6"
      ]
     },
     "execution_count": 25,
     "metadata": {},
     "output_type": "execute_result"
    }
   ],
   "source": [
    "temp_in_cel = 32\n",
    "\n",
    "def tem_converter(T):\n",
    "    return (9/5)* T + 32\n",
    "\n",
    "\n",
    "tem_converter(temp_in_cel)"
   ]
  },
  {
   "cell_type": "code",
   "execution_count": 10,
   "id": "65ba7bb8",
   "metadata": {},
   "outputs": [
    {
     "data": {
      "text/plain": [
       "['akzelxw',\n",
       " 'elum',\n",
       " 'akbar.caakaterasu',\n",
       " 'akarui.kibuno',\n",
       " 'ajsparkchick',\n",
       " 'ajmeia',\n",
       " 'ajhnstn87',\n",
       " 'ailuvzhoko4',\n",
       " 'ailuvzhoko3',\n",
       " 'ailuvzhoko2',\n",
       " 'ailuvzhoko',\n",
       " 'aillensiquioco',\n",
       " 'ahmovic_ines',\n",
       " 'ahmed_g300',\n",
       " 'ahmadjazlan',\n",
       " 'ahmad_ridho19']"
      ]
     },
     "execution_count": 10,
     "metadata": {},
     "output_type": "execute_result"
    }
   ],
   "source": [
    "lst = ['akzelxw@hotmail.com',\n",
    "'elum@gmail.com',\n",
    "'akbar.caakaterasu@gmail.com',\n",
    "'akarui.kibuno@gmail.com',\n",
    "'ajsparkchick@hotmail.com',\n",
    "'ajmeia@yahoo.com',\n",
    "'ajhnstn87@gmail.com',\n",
    "'ailuvzhoko4@hotmail.com',\n",
    "'ailuvzhoko3@hotmail.com',\n",
    "'ailuvzhoko2@hotmail.com',\n",
    "'ailuvzhoko@hotmail.com',\n",
    "'aillensiquioco@aol.com',\n",
    "'ahmovic_ines@hotmail.com',\n",
    "'ahmed_g300@yahoo.com',\n",
    "'ahmadjazlan@gmail.com',\n",
    "'ahmad_ridho19@yahoo.com']\n",
    "\n",
    "list(map(lambda x : x.split('@')[0] , lst))"
   ]
  },
  {
   "cell_type": "code",
   "execution_count": 9,
   "id": "21ebd6e7",
   "metadata": {},
   "outputs": [
    {
     "name": "stdout",
     "output_type": "stream",
     "text": [
      "ahmad_ridho19\n"
     ]
    }
   ],
   "source": [
    "a = 'ahmad_ridho19@yahoo.com'\n",
    "\n",
    "print(a.split('@')[0])"
   ]
  },
  {
   "cell_type": "code",
   "execution_count": 15,
   "id": "bbaadff3",
   "metadata": {},
   "outputs": [
    {
     "data": {
      "text/plain": [
       "['akzelxw',\n",
       " 'elum',\n",
       " 'akbar.caakaterasu',\n",
       " 'akarui.kibuno',\n",
       " 'ajsparkchick',\n",
       " 'ajmeia',\n",
       " 'ajhnstn87',\n",
       " 'ailuvzhoko4',\n",
       " 'ailuvzhoko3',\n",
       " 'ailuvzhoko2',\n",
       " 'ailuvzhoko',\n",
       " 'aillensiquioco',\n",
       " 'ahmovic_ines',\n",
       " 'ahmed_g300',\n",
       " 'ahmadjazlan',\n",
       " 'ahmad_ridho19']"
      ]
     },
     "execution_count": 15,
     "metadata": {},
     "output_type": "execute_result"
    }
   ],
   "source": [
    "lst = ['akzelxw@hotmail.com',\n",
    "'elum@gmail.com',\n",
    "'akbar.caakaterasu@gmail.com',\n",
    "'akarui.kibuno@gmail.com',\n",
    "'ajsparkchick@hotmail.com',\n",
    "'ajmeia@yahoo.com',\n",
    "'ajhnstn87@gmail.com',\n",
    "'ailuvzhoko4@hotmail.com',\n",
    "'ailuvzhoko3@hotmail.com',\n",
    "'ailuvzhoko2@hotmail.com',\n",
    "'ailuvzhoko@hotmail.com',\n",
    "'aillensiquioco@aol.com',\n",
    "'ahmovic_ines@hotmail.com',\n",
    "'ahmed_g300@yahoo.com',\n",
    "'ahmadjazlan@gmail.com',\n",
    "'ahmad_ridho19@yahoo.com']\n",
    "\n",
    "\n",
    "list(map((lambda x: x.split('@')[0]), lst))"
   ]
  },
  {
   "cell_type": "code",
   "execution_count": 16,
   "id": "f3a07ec7",
   "metadata": {},
   "outputs": [
    {
     "data": {
      "text/plain": [
       "'even'"
      ]
     },
     "execution_count": 16,
     "metadata": {},
     "output_type": "execute_result"
    }
   ],
   "source": [
    "num = 50\n",
    "\n",
    "def function(a):\n",
    "    if a %2 == 0:\n",
    "        return 'even'\n",
    "    else:\n",
    "        return 'odd'\n",
    "    \n",
    "function(num)"
   ]
  },
  {
   "cell_type": "code",
   "execution_count": 20,
   "id": "39fef6c7",
   "metadata": {},
   "outputs": [
    {
     "data": {
      "text/plain": [
       "['odd', 'even', 'odd', 'odd', 'even', 'odd', 'even', 'odd']"
      ]
     },
     "execution_count": 20,
     "metadata": {},
     "output_type": "execute_result"
    }
   ],
   "source": [
    "num = [1,2,3,45,6,7,8,89]\n",
    "\n",
    "\n",
    "def function(a):\n",
    "    if a %2 == 0:\n",
    "        return 'even'\n",
    "    else:\n",
    "        return 'odd'\n",
    "    \n",
    "# lambda \n",
    "#lambda a: 'even' if a %2 == 0 else 'odd'\n",
    "    \n",
    "list(map(lambda a: 'even' if a %2 == 0 else 'odd' , num))"
   ]
  },
  {
   "cell_type": "code",
   "execution_count": 21,
   "id": "2c04e098",
   "metadata": {},
   "outputs": [],
   "source": [
    "lst = ['akzelxw@hotmail.com',\n",
    "'elum@gmail.com',\n",
    "'akbar.caakaterasu@gmail.com',\n",
    "'akarui.kibuno@gmail.com',\n",
    "'ajsparkchick@hotmail.com',\n",
    "'ajmeia@yahoo.com',\n",
    "'ajhnstn87@gmail.com',\n",
    "'ailuvzhoko4@hotmail.com',\n",
    "'ailuvzhoko3@hotmail.com',\n",
    "'ailuvzhoko2@hotmail.com',\n",
    "'ailuvzhoko@hotmail.com',\n",
    "'aillensiquioco@aol.com',\n",
    "'ahmovic_ines@hotmail.com',\n",
    "'ahmed_g300@yahoo.com',\n",
    "'ahmadjazlan@gmail.com',\n",
    "'ahmad_ridho19@yahoo.com']\n",
    "\n",
    "\n"
   ]
  },
  {
   "cell_type": "code",
   "execution_count": 24,
   "id": "edb9b507",
   "metadata": {},
   "outputs": [
    {
     "data": {
      "text/plain": [
       "'ahmad_ridho19'"
      ]
     },
     "execution_count": 24,
     "metadata": {},
     "output_type": "execute_result"
    }
   ],
   "source": [
    "mail = 'ahmad_ridho19@yahoo.com'\n",
    "\n",
    "\n",
    "def name(a):\n",
    "    return a.split('@')[0]\n",
    "\n",
    "# lambda a: a.split('@')[0]\n",
    "\n",
    "name(mail)"
   ]
  },
  {
   "cell_type": "code",
   "execution_count": 27,
   "id": "14d7d9a1",
   "metadata": {},
   "outputs": [
    {
     "data": {
      "text/plain": [
       "['akzelxw',\n",
       " 'elum',\n",
       " 'akbar.caakaterasu',\n",
       " 'akarui.kibuno',\n",
       " 'ajsparkchick',\n",
       " 'ajmeia',\n",
       " 'ajhnstn87',\n",
       " 'ailuvzhoko4',\n",
       " 'ailuvzhoko3',\n",
       " 'ailuvzhoko2',\n",
       " 'ailuvzhoko',\n",
       " 'aillensiquioco',\n",
       " 'ahmovic_ines',\n",
       " 'ahmed_g300',\n",
       " 'ahmadjazlan',\n",
       " 'ahmad_ridho19']"
      ]
     },
     "execution_count": 27,
     "metadata": {},
     "output_type": "execute_result"
    }
   ],
   "source": [
    "list(map( lambda a: a.split('@')[0] , lst))"
   ]
  },
  {
   "cell_type": "markdown",
   "id": "845698c7",
   "metadata": {},
   "source": [
    "# Reduce\n",
    "\n",
    "\n",
    "- 1. function\n",
    "- 2. iterable\n",
    "\n",
    "min , max , avg , sum\n",
    "\n",
    "\n",
    "### Reduce - accepts only 2 arg"
   ]
  },
  {
   "cell_type": "code",
   "execution_count": 28,
   "id": "0a3953d1",
   "metadata": {},
   "outputs": [],
   "source": [
    "from functools import reduce"
   ]
  },
  {
   "cell_type": "code",
   "execution_count": 36,
   "id": "c47ec0cd",
   "metadata": {},
   "outputs": [
    {
     "data": {
      "text/plain": [
       "61"
      ]
     },
     "execution_count": 36,
     "metadata": {},
     "output_type": "execute_result"
    }
   ],
   "source": [
    "# sum\n",
    "lst = [1,2,3,4,5,6,7,8,8,5,5,7]\n",
    "\n",
    "reduce(lambda a,b : a+b  , lst)"
   ]
  },
  {
   "cell_type": "code",
   "execution_count": null,
   "id": "c764d498",
   "metadata": {},
   "outputs": [],
   "source": [
    "1,2,3,4,5,6,7,8,8,5,5,7\n",
    "3,3,4,5,6,7,8,8,5,5,7\n",
    "6,4,5,6,7,8,8,5,5,7\n",
    "10,5,6,7,8,8,5,5,7"
   ]
  },
  {
   "cell_type": "code",
   "execution_count": null,
   "id": "021f976f",
   "metadata": {},
   "outputs": [],
   "source": [
    "lst = [1,2,3,4,5,6,7,8,8,5,5,7]\n",
    "\n",
    "reduce( lambda a,b : a+b  , lst)"
   ]
  },
  {
   "cell_type": "code",
   "execution_count": 38,
   "id": "cb6b18ad",
   "metadata": {},
   "outputs": [
    {
     "data": {
      "text/plain": [
       "8"
      ]
     },
     "execution_count": 38,
     "metadata": {},
     "output_type": "execute_result"
    }
   ],
   "source": [
    "# max\n",
    "\n",
    "lst = [1,2,3,4,5,6,7,8,8,5,5,7]\n",
    "\n",
    "reduce( lambda a,b : a if a>b else b  , lst)"
   ]
  },
  {
   "cell_type": "code",
   "execution_count": 39,
   "id": "782fc0eb",
   "metadata": {},
   "outputs": [
    {
     "data": {
      "text/plain": [
       "1"
      ]
     },
     "execution_count": 39,
     "metadata": {},
     "output_type": "execute_result"
    }
   ],
   "source": [
    "# min\n",
    "\n",
    "lst = [1,2,3,4,5,6,7,8,8,5,5,7]\n",
    "\n",
    "\n",
    "reduce( lambda a,b : a if a<b else b  , lst)"
   ]
  },
  {
   "cell_type": "code",
   "execution_count": 42,
   "id": "b5f4ea06",
   "metadata": {},
   "outputs": [
    {
     "data": {
      "text/plain": [
       "94"
      ]
     },
     "execution_count": 42,
     "metadata": {},
     "output_type": "execute_result"
    }
   ],
   "source": [
    "# sum\n",
    "lst = [1,2,3,4,5,6,7,8,8,5,5,7]\n",
    "\n",
    "def add(a,b):\n",
    "    return a+b\n",
    "\n",
    "\n",
    "reduce(add , lst)"
   ]
  },
  {
   "cell_type": "code",
   "execution_count": null,
   "id": "53610267",
   "metadata": {},
   "outputs": [],
   "source": [
    "# sum\n",
    "lst = [1,2,3,4,5,6,7,8,8,5,5,7]\n",
    "\n",
    "reduce(lambda a,b : a+b  , lst)"
   ]
  },
  {
   "cell_type": "code",
   "execution_count": 43,
   "id": "59bd7a38",
   "metadata": {},
   "outputs": [
    {
     "data": {
      "text/plain": [
       "[7, 9, 11, 13, 15]"
      ]
     },
     "execution_count": 43,
     "metadata": {},
     "output_type": "execute_result"
    }
   ],
   "source": [
    "lst_1 = [1,2,3,4,5]\n",
    "lst_2 = [6,7,8,9,10]\n",
    "\n",
    "\n",
    "# c = [7,9,11,13,15]\n",
    "\n",
    "list(map( lambda a,b : a+b , lst_1 , lst_2))"
   ]
  },
  {
   "cell_type": "markdown",
   "id": "ab769221",
   "metadata": {},
   "source": [
    "# Filter\n",
    "\n",
    "\n",
    "- 1. function\n",
    "- 2. seq\n",
    "\n",
    "- The function should always return bool value \n",
    "- The filter will only allow the true elements to pass through it"
   ]
  },
  {
   "cell_type": "code",
   "execution_count": null,
   "id": "d465838c",
   "metadata": {},
   "outputs": [],
   "source": [
    "lst = ['akzelxw@hotmail.com',\n",
    "'elum@gmail.com',\n",
    "'akbar.caakaterasu@gmail.com',\n",
    "'akarui.kibuno@gmail.com',\n",
    "'ajsparkchick@hotmail.com',\n",
    "'ajmeia@yahoo.com',\n",
    "'ajhnstn87@gmail.com',\n",
    "'ailuvzhoko4@hotmail.com',\n",
    "'ailuvzhoko3@hotmail.com',\n",
    "'ailuvzhoko2@hotmail.com',\n",
    "'ailuvzhoko@hotmail.com',\n",
    "'aillensiquioco@aol.com',\n",
    "'ahmovic_ines@hotmail.com',\n",
    "'ahmed_g300@yahoo.com',\n",
    "'ahmadjazlan@gmail.com',\n",
    "'ahmad_ridho19@yahoo.com']\n",
    "\n",
    "\n"
   ]
  },
  {
   "cell_type": "code",
   "execution_count": 54,
   "id": "dd8730c6",
   "metadata": {},
   "outputs": [
    {
     "data": {
      "text/plain": [
       "[2, 34, 4, 6, 8]"
      ]
     },
     "execution_count": 54,
     "metadata": {},
     "output_type": "execute_result"
    }
   ],
   "source": [
    "num = [1,2,3,34,4,5,6,7,8]\n",
    "\n",
    "def finder(a):\n",
    "    if a%2 == 0:\n",
    "        return True\n",
    "    else:\n",
    "        return False\n",
    "    \n",
    "list(filter(finder , num))"
   ]
  },
  {
   "cell_type": "code",
   "execution_count": 64,
   "id": "09dc34dc",
   "metadata": {},
   "outputs": [
    {
     "data": {
      "text/plain": [
       "[2, 34, 4, 6, 8]"
      ]
     },
     "execution_count": 64,
     "metadata": {},
     "output_type": "execute_result"
    }
   ],
   "source": [
    "num = [1,2,3,34,4,5,6,7,8]\n",
    "\n",
    "# def finder(a):\n",
    "#     if a%2 == 0:\n",
    "#         return True\n",
    "#     else:\n",
    "#         return False\n",
    "    \n",
    "list(filter(lambda a: a%2 ==0, num))"
   ]
  },
  {
   "cell_type": "code",
   "execution_count": 60,
   "id": "79d526d3",
   "metadata": {},
   "outputs": [
    {
     "data": {
      "text/plain": [
       "['elum@gmail.com',\n",
       " 'akbar.caakaterasu@gmail.com',\n",
       " 'akarui.kibuno@gmail.com',\n",
       " 'ajhnstn87@gmail.com',\n",
       " 'ahmadjazlan@gmail.com']"
      ]
     },
     "execution_count": 60,
     "metadata": {},
     "output_type": "execute_result"
    }
   ],
   "source": [
    "lst = ['akzelxw@hotmail.com',\n",
    "'elum@gmail.com',\n",
    "'akbar.caakaterasu@gmail.com',\n",
    "'akarui.kibuno@gmail.com',\n",
    "'ajsparkchick@hotmail.com',\n",
    "'ajmeia@yahoo.com',\n",
    "'ajhnstn87@gmail.com',\n",
    "'ailuvzhoko4@hotmail.com',\n",
    "'ailuvzhoko3@hotmail.com',\n",
    "'ailuvzhoko2@hotmail.com',\n",
    "'ailuvzhoko@hotmail.com',\n",
    "'aillensiquioco@aol.com',\n",
    "'ahmovic_ines@hotmail.com',\n",
    "'ahmed_g300@yahoo.com',\n",
    "'ahmadjazlan@gmail.com',\n",
    "'ahmad_ridho19@yahoo.com']\n",
    "\n",
    "\n",
    "list(filter(lambda a: True if a.split('@')[1] == 'gmail.com' else False,lst))"
   ]
  },
  {
   "cell_type": "code",
   "execution_count": 63,
   "id": "cda41b6d",
   "metadata": {},
   "outputs": [
    {
     "data": {
      "text/plain": [
       "['elum@gmail.com',\n",
       " 'akbar.caakaterasu@gmail.com',\n",
       " 'akarui.kibuno@gmail.com',\n",
       " 'ajhnstn87@gmail.com',\n",
       " 'ahmadjazlan@gmail.com']"
      ]
     },
     "execution_count": 63,
     "metadata": {},
     "output_type": "execute_result"
    }
   ],
   "source": [
    "lst = ['akzelxw@hotmail.com',\n",
    "'elum@gmail.com',\n",
    "'akbar.caakaterasu@gmail.com',\n",
    "'akarui.kibuno@gmail.com',\n",
    "'ajsparkchick@hotmail.com',\n",
    "'ajmeia@yahoo.com',\n",
    "'ajhnstn87@gmail.com',\n",
    "'ailuvzhoko4@hotmail.com',\n",
    "'ailuvzhoko3@hotmail.com',\n",
    "'ailuvzhoko2@hotmail.com',\n",
    "'ailuvzhoko@hotmail.com',\n",
    "'aillensiquioco@aol.com',\n",
    "'ahmovic_ines@hotmail.com',\n",
    "'ahmed_g300@yahoo.com',\n",
    "'ahmadjazlan@gmail.com',\n",
    "'ahmad_ridho19@yahoo.com']\n",
    "\n",
    "\n",
    "list(filter(lambda a:  '@gmail.com' in a ,lst))"
   ]
  },
  {
   "cell_type": "markdown",
   "id": "aeabe3f3",
   "metadata": {},
   "source": [
    "# continue Iterator , Modules"
   ]
  },
  {
   "cell_type": "code",
   "execution_count": 66,
   "id": "d6765a7b",
   "metadata": {},
   "outputs": [
    {
     "data": {
      "text/plain": [
       "[73.4, 95.0, 129.2, 149.0, 149.0, 113.0, 149.0, 152.60000000000002]"
      ]
     },
     "execution_count": 66,
     "metadata": {},
     "output_type": "execute_result"
    }
   ],
   "source": [
    "a = [23,35,54,65,65,45,65,67]\n",
    "b = []\n",
    "\n",
    "for i in a:\n",
    "    b.append((9/5)*i +32)\n",
    "    \n",
    "b"
   ]
  },
  {
   "cell_type": "code",
   "execution_count": 67,
   "id": "220b6730",
   "metadata": {},
   "outputs": [
    {
     "data": {
      "text/plain": [
       "[73.4, 95.0, 129.2, 149.0, 149.0, 113.0, 149.0, 152.60000000000002]"
      ]
     },
     "execution_count": 67,
     "metadata": {},
     "output_type": "execute_result"
    }
   ],
   "source": [
    "a = [23,35,54,65,65,45,65,67]\n",
    "b = [(9/5)*i +32 for i in a]\n",
    "    \n",
    "b"
   ]
  },
  {
   "cell_type": "code",
   "execution_count": 69,
   "id": "d4387de3",
   "metadata": {},
   "outputs": [
    {
     "data": {
      "text/plain": [
       "[73.4, 95.0, 129.2, 149.0, 149.0, 113.0, 149.0, 152.60000000000002]"
      ]
     },
     "execution_count": 69,
     "metadata": {},
     "output_type": "execute_result"
    }
   ],
   "source": [
    "var = (lambda x: [(9/5)*i +32 for i in x])\n",
    "var(a)"
   ]
  },
  {
   "cell_type": "code",
   "execution_count": 72,
   "id": "3e4b1fab",
   "metadata": {},
   "outputs": [
    {
     "data": {
      "text/plain": [
       "[73.4, 95.0, 129.2, 149.0, 149.0, 113.0, 149.0, 152.60000000000002]"
      ]
     },
     "execution_count": 72,
     "metadata": {},
     "output_type": "execute_result"
    }
   ],
   "source": [
    "\n",
    "\n",
    "list(map((lambda x: (9/5)*x +32) , a))"
   ]
  },
  {
   "cell_type": "code",
   "execution_count": 73,
   "id": "c98a92bc",
   "metadata": {},
   "outputs": [
    {
     "name": "stdout",
     "output_type": "stream",
     "text": [
      "[73.4, 95.0, 129.2, 149.0, 149.0, 113.0, 149.0, 152.60000000000002]\n"
     ]
    }
   ],
   "source": [
    "temp_cel = [23,35,54,65,65,45,65,67]\n",
    "temp_far = (lambda x: [((9/5)*i + 32) for i in x])(temp_cel)\n",
    "print(list(temp_far))\n"
   ]
  },
  {
   "cell_type": "code",
   "execution_count": 90,
   "id": "2a45dc71",
   "metadata": {},
   "outputs": [],
   "source": [
    "lst = [22.0,\n",
    " 38.0,\n",
    " 26.0,\n",
    " 35.0,\n",
    " 35.0,\n",
    " 17.0,\n",
    " 54.0,\n",
    " 2.0,\n",
    " 27.0,\n",
    " 14.0,\n",
    " 4.0,\n",
    " 58.0,\n",
    " 20.0,\n",
    " 39.0,\n",
    " 14.0,\n",
    " 55.0,\n",
    " 2.0,\n",
    " 17.0,\n",
    " 31.0,\n",
    " 17.0,\n",
    " 35.0,\n",
    " 34.0,\n",
    " 15.0,\n",
    " 28.0,\n",
    " 8.0,\n",
    " 38.0,\n",
    " 17.0,\n",
    " 19.0,\n",
    " 17.0,\n",
    " 17.0]\n"
   ]
  },
  {
   "cell_type": "code",
   "execution_count": null,
   "id": "759e0c68",
   "metadata": {},
   "outputs": [],
   "source": []
  }
 ],
 "metadata": {
  "kernelspec": {
   "display_name": "Python 3 (ipykernel)",
   "language": "python",
   "name": "python3"
  },
  "language_info": {
   "codemirror_mode": {
    "name": "ipython",
    "version": 3
   },
   "file_extension": ".py",
   "mimetype": "text/x-python",
   "name": "python",
   "nbconvert_exporter": "python",
   "pygments_lexer": "ipython3",
   "version": "3.9.12"
  }
 },
 "nbformat": 4,
 "nbformat_minor": 5
}
