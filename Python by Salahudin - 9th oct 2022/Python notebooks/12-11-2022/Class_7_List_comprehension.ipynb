{
 "cells": [
  {
   "cell_type": "code",
   "execution_count": 7,
   "id": "4899afc8",
   "metadata": {},
   "outputs": [
    {
     "name": "stdout",
     "output_type": "stream",
     "text": [
      "[1, 2, 3]\n",
      "None\n"
     ]
    }
   ],
   "source": [
    "a = [1,2,3,4]\n",
    "\n",
    "b = a.remove(4)\n",
    "\n",
    "print(a)\n",
    "print(b)"
   ]
  },
  {
   "cell_type": "code",
   "execution_count": 9,
   "id": "0dde62ca",
   "metadata": {},
   "outputs": [
    {
     "data": {
      "text/plain": [
       "[1, 2, 3, 4, 10, 54]"
      ]
     },
     "execution_count": 9,
     "metadata": {},
     "output_type": "execute_result"
    }
   ],
   "source": [
    "a = [10,1,2,3,4,54]\n",
    "a.sort() # reverse=False\n",
    "a"
   ]
  },
  {
   "cell_type": "code",
   "execution_count": 10,
   "id": "2b9955b2",
   "metadata": {},
   "outputs": [
    {
     "data": {
      "text/plain": [
       "[54, 10, 4, 3, 2, 1]"
      ]
     },
     "execution_count": 10,
     "metadata": {},
     "output_type": "execute_result"
    }
   ],
   "source": [
    "a = [10,1,2,3,4,54]\n",
    "a.sort(reverse = True)"
   ]
  },
  {
   "cell_type": "code",
   "execution_count": 11,
   "id": "97c72be6",
   "metadata": {},
   "outputs": [],
   "source": [
    "a = [10,1,2,3,4,54]\n",
    "a.clear()"
   ]
  },
  {
   "cell_type": "code",
   "execution_count": 12,
   "id": "31abca39",
   "metadata": {},
   "outputs": [
    {
     "data": {
      "text/plain": [
       "[]"
      ]
     },
     "execution_count": 12,
     "metadata": {},
     "output_type": "execute_result"
    }
   ],
   "source": [
    "a"
   ]
  },
  {
   "cell_type": "code",
   "execution_count": 13,
   "id": "b0496c2a",
   "metadata": {},
   "outputs": [],
   "source": [
    "a = [10,1,2,3,4,54]\n",
    "\n",
    "del a"
   ]
  },
  {
   "cell_type": "code",
   "execution_count": 14,
   "id": "efff6afc",
   "metadata": {},
   "outputs": [
    {
     "ename": "NameError",
     "evalue": "name 'a' is not defined",
     "output_type": "error",
     "traceback": [
      "\u001b[1;31m---------------------------------------------------------------------------\u001b[0m",
      "\u001b[1;31mNameError\u001b[0m                                 Traceback (most recent call last)",
      "Input \u001b[1;32mIn [14]\u001b[0m, in \u001b[0;36m<cell line: 1>\u001b[1;34m()\u001b[0m\n\u001b[1;32m----> 1\u001b[0m \u001b[43ma\u001b[49m\n",
      "\u001b[1;31mNameError\u001b[0m: name 'a' is not defined"
     ]
    }
   ],
   "source": [
    "a"
   ]
  },
  {
   "cell_type": "code",
   "execution_count": 15,
   "id": "b4b0ed23",
   "metadata": {},
   "outputs": [
    {
     "data": {
      "text/plain": [
       "5"
      ]
     },
     "execution_count": 15,
     "metadata": {},
     "output_type": "execute_result"
    }
   ],
   "source": [
    "a = [1,2,2,2,2,2,3,4,4,5,6]\n",
    "\n",
    "a.count(2)"
   ]
  },
  {
   "cell_type": "code",
   "execution_count": 18,
   "id": "6a256a5f",
   "metadata": {},
   "outputs": [
    {
     "name": "stdout",
     "output_type": "stream",
     "text": [
      "2443693093120\n",
      "2443693093120\n",
      "[1010, 2, 23, 3]\n",
      "[1010, 2, 23, 3]\n"
     ]
    }
   ],
   "source": [
    "a = [1,2,23,3]\n",
    "b = a # aliasing\n",
    "\n",
    "\n",
    "print(id(a))\n",
    "print(id(b))\n",
    "\n",
    "\n",
    "b[0] = 1010\n",
    "\n",
    "\n",
    "print(a)\n",
    "print(b)"
   ]
  },
  {
   "cell_type": "code",
   "execution_count": 21,
   "id": "04a7566f",
   "metadata": {},
   "outputs": [
    {
     "name": "stdout",
     "output_type": "stream",
     "text": [
      "2443720924608\n",
      "2443693092416\n",
      "[1, 2, 23, 3]\n",
      "[1010, 2, 23, 3]\n"
     ]
    }
   ],
   "source": [
    "a = [1,2,23,3]\n",
    "b = a.copy() # Shallow\n",
    "\n",
    "\n",
    "print(id(a))\n",
    "print(id(b))\n",
    "\n",
    "\n",
    "b[0] = 1010\n",
    "\n",
    "\n",
    "print(a)\n",
    "print(b)"
   ]
  },
  {
   "cell_type": "code",
   "execution_count": 24,
   "id": "ea09036b",
   "metadata": {},
   "outputs": [
    {
     "name": "stdout",
     "output_type": "stream",
     "text": [
      "2443692659648\n",
      "2443692659648\n",
      "[1, 2, 23, 3, [4, 5000, 6]]\n",
      "[1, 2, 23, 3, [4, 5000, 6]]\n"
     ]
    }
   ],
   "source": [
    "a = [1,2,23,3,[4,5,6]]\n",
    "b = a.copy() # Shallow\n",
    "\n",
    "\n",
    "print(id(a[-1]))\n",
    "print(id(b[-1]))\n",
    "\n",
    "b[-1][1] = 5000\n",
    "\n",
    "print(a)\n",
    "print(b)"
   ]
  },
  {
   "cell_type": "code",
   "execution_count": 25,
   "id": "ccaf04df",
   "metadata": {},
   "outputs": [],
   "source": [
    "# deep copy\n",
    "from copy import deepcopy"
   ]
  },
  {
   "cell_type": "code",
   "execution_count": 28,
   "id": "f4c3c708",
   "metadata": {},
   "outputs": [
    {
     "name": "stdout",
     "output_type": "stream",
     "text": [
      "2443693092416\n",
      "2443721043136\n",
      "[1, 2, 23, 3, [4, 5, 6]]\n",
      "[1, 2, 23, 3, [4, 5000, 6]]\n"
     ]
    }
   ],
   "source": [
    "a = [1,2,23,3,[4,5,6]]\n",
    "b = deepcopy(a) # \n",
    "\n",
    "print(id(a[-1]))\n",
    "print(id(b[-1]))\n",
    "\n",
    "b[-1][1] = 5000\n",
    "\n",
    "print(a)\n",
    "print(b)"
   ]
  },
  {
   "cell_type": "code",
   "execution_count": 30,
   "id": "d53c2a12",
   "metadata": {},
   "outputs": [
    {
     "name": "stdout",
     "output_type": "stream",
     "text": [
      "1\n",
      "2\n",
      "3\n",
      "4\n"
     ]
    }
   ],
   "source": [
    "# loops\n",
    "for _abc in [1,2,3,4]:\n",
    "    print(_abc)"
   ]
  },
  {
   "cell_type": "code",
   "execution_count": 29,
   "id": "163a38c6",
   "metadata": {},
   "outputs": [
    {
     "data": {
      "text/plain": [
       "4"
      ]
     },
     "execution_count": 29,
     "metadata": {},
     "output_type": "execute_result"
    }
   ],
   "source": [
    "len([1,2,3,4])"
   ]
  },
  {
   "cell_type": "code",
   "execution_count": 40,
   "id": "13e76feb",
   "metadata": {},
   "outputs": [
    {
     "name": "stdout",
     "output_type": "stream",
     "text": [
      "['abhishail', 'abhijeet_xyz', 'Abhishek_123', 'aditi']\n"
     ]
    }
   ],
   "source": [
    "# Task 1\n",
    "a = ['abhishail@gmail.com' , 'abhijeet_xyz@hotmail.com' , 'Abhishek_123@yahoo.com' , 'aditi@gmail.com']\n",
    "\n",
    "\n",
    "# store only the usernames of all the students\n",
    "b = []\n",
    "\n",
    "\n",
    "for gmails in a:\n",
    "    b.append(gmails.split('@')[0])\n",
    "    \n",
    "    \n",
    "print(b)"
   ]
  },
  {
   "cell_type": "code",
   "execution_count": 53,
   "id": "2c010e1c",
   "metadata": {},
   "outputs": [
    {
     "name": "stdout",
     "output_type": "stream",
     "text": [
      "[2, 34, 4, 6, 8, 8]\n"
     ]
    }
   ],
   "source": [
    "a = [1,2,3,34,4,5,6,7,8,8] # seperate the even numbers from the list and store in a new list\n",
    "b = []\n",
    "\n",
    "for i in a:\n",
    "    if i%2 ==0:\n",
    "        b.append(i)\n",
    "        \n",
    "        \n",
    "print(b)"
   ]
  },
  {
   "cell_type": "code",
   "execution_count": 56,
   "id": "ae8cb6a5",
   "metadata": {},
   "outputs": [
    {
     "name": "stdout",
     "output_type": "stream",
     "text": [
      "['abhishail', 'aditi']\n"
     ]
    }
   ],
   "source": [
    "a = ['abhishail@gmail.com' , 'abhijeet_xyz@hotmail.com' , 'Abhishek_123@yahoo.com' , 'aditi@gmail.com']\n",
    "\n",
    "\n",
    "# store only the usernames of all the students whose mail id is gmail.com\n",
    "b = []\n",
    "\n",
    "\n",
    "for i in a:\n",
    "    if i.split('@')[1] == 'gmail.com':\n",
    "        b.append(i.split('@')[0])\n",
    "print(b)"
   ]
  },
  {
   "cell_type": "code",
   "execution_count": 59,
   "id": "ce6cdf43",
   "metadata": {},
   "outputs": [
    {
     "data": {
      "text/plain": [
       "['abhishail', 'gmail.com']"
      ]
     },
     "execution_count": 59,
     "metadata": {},
     "output_type": "execute_result"
    }
   ],
   "source": [
    "a = 'abhishail@gmail.com'\n",
    "\n",
    "a.split('@')\n"
   ]
  },
  {
   "cell_type": "code",
   "execution_count": 60,
   "id": "b2188bf1",
   "metadata": {},
   "outputs": [
    {
     "name": "stdout",
     "output_type": "stream",
     "text": [
      "['abhishail@gmail.com', 'aditi@gmail.com']\n"
     ]
    }
   ],
   "source": [
    "a = ['abhishail@gmail.com' , 'abhijeet_xyz@hotmail.com' , 'Abhishek_123@yahoo.com' , 'aditi@gmail.com']\n",
    "\n",
    "\n",
    "# store only the usernames of all the students whose mail id is gmail.com\n",
    "b = []\n",
    "\n",
    "\n",
    "for i in a:\n",
    "    if i.split('@')[1] == 'gmail.com':\n",
    "        b.append(i)\n",
    "print(b)"
   ]
  },
  {
   "cell_type": "markdown",
   "id": "bd543482",
   "metadata": {},
   "source": [
    "# List comprehension\n",
    "\n",
    "- syntax -\n",
    "[ expression for var in iterable]\n",
    "\n",
    "[expression for var in iterable if condion]"
   ]
  },
  {
   "cell_type": "code",
   "execution_count": 61,
   "id": "f8a66ef5",
   "metadata": {},
   "outputs": [
    {
     "name": "stdout",
     "output_type": "stream",
     "text": [
      "['abhishail', 'abhijeet_xyz', 'Abhishek_123', 'aditi']\n"
     ]
    }
   ],
   "source": [
    "a = ['abhishail@gmail.com' , 'abhijeet_xyz@hotmail.com' , 'Abhishek_123@yahoo.com' , 'aditi@gmail.com']\n",
    "\n",
    "b = [gmails.split('@')[0] for gmails in a]\n",
    "print(b)"
   ]
  },
  {
   "cell_type": "code",
   "execution_count": 63,
   "id": "1ccb1c55",
   "metadata": {},
   "outputs": [
    {
     "name": "stdout",
     "output_type": "stream",
     "text": [
      "[2, 34, 4, 6, 8, 8]\n"
     ]
    }
   ],
   "source": [
    "a = [1,2,3,34,4,5,6,7,8,8] # seperate the even numbers from the list and store in a new list\n",
    "b = [i for i in a if i%2 == 0]\n",
    "print(b)"
   ]
  },
  {
   "cell_type": "code",
   "execution_count": 70,
   "id": "2d944396",
   "metadata": {},
   "outputs": [
    {
     "name": "stdout",
     "output_type": "stream",
     "text": [
      "['abhishail', 'aditi']\n"
     ]
    }
   ],
   "source": [
    "a = ['abhishail@gmail.com' , 'abhijeet_xyz@hotmail.com' , 'Abhishek_123@yahoo.com' , 'aditi@gmail.com']\n",
    "\n",
    "b = [i.split('@')[0] for i in a if i.split('@')[1] == 'gmail.com']\n",
    "print(b)"
   ]
  },
  {
   "cell_type": "code",
   "execution_count": 75,
   "id": "365d69c3",
   "metadata": {},
   "outputs": [
    {
     "data": {
      "text/plain": [
       "['5 * 1 = 5',\n",
       " '5 * 2 = 10',\n",
       " '5 * 3 = 15',\n",
       " '5 * 4 = 20',\n",
       " '5 * 5 = 25',\n",
       " '5 * 6 = 30',\n",
       " '5 * 7 = 35',\n",
       " '5 * 8 = 40',\n",
       " '5 * 9 = 45',\n",
       " '5 * 10 = 50']"
      ]
     },
     "execution_count": 75,
     "metadata": {},
     "output_type": "execute_result"
    }
   ],
   "source": [
    "a = [1,2,3,4,5,6,7,8,9,10]\n",
    "num = 5\n",
    "\n",
    "\n",
    "b = [f'{num} * {var} = {var*num}' for var in a]\n",
    "b"
   ]
  },
  {
   "cell_type": "markdown",
   "id": "94d152a6",
   "metadata": {},
   "source": [
    "# Tuple\n",
    "\n",
    "\n",
    "- Anything that is written inside a () and elements are sep by ,"
   ]
  },
  {
   "cell_type": "code",
   "execution_count": 78,
   "id": "ebb8eb04",
   "metadata": {},
   "outputs": [
    {
     "name": "stdout",
     "output_type": "stream",
     "text": [
      "(1, 2, 3, 34) <class 'tuple'>\n"
     ]
    }
   ],
   "source": [
    "a = (1,2,3,34)\n",
    "\n",
    "print(a , type(a))"
   ]
  },
  {
   "cell_type": "markdown",
   "id": "6d64189d",
   "metadata": {},
   "source": [
    "# Creating a tuple"
   ]
  },
  {
   "cell_type": "code",
   "execution_count": 79,
   "id": "63f21c61",
   "metadata": {},
   "outputs": [
    {
     "name": "stdout",
     "output_type": "stream",
     "text": [
      "('a', 3, True, 3.4) <class 'tuple'>\n"
     ]
    }
   ],
   "source": [
    "# 1. You already know the elements\n",
    "\n",
    "\n",
    "tup = ('a' , 3,True , 3.4)\n",
    "\n",
    "print(tup , type(tup))"
   ]
  },
  {
   "cell_type": "code",
   "execution_count": 80,
   "id": "0c783f3c",
   "metadata": {},
   "outputs": [
    {
     "name": "stdout",
     "output_type": "stream",
     "text": [
      "enter the numbers : 1,2,3,4,\n",
      "1,2,3,4, <class 'str'>\n"
     ]
    }
   ],
   "source": [
    "# 2. Taking the input from the user\n",
    "\n",
    "\n",
    "tup = input('enter the numbers : ')\n",
    "\n",
    "print(tup , type(tup))"
   ]
  },
  {
   "cell_type": "code",
   "execution_count": 95,
   "id": "828993aa",
   "metadata": {},
   "outputs": [
    {
     "name": "stdout",
     "output_type": "stream",
     "text": [
      "enter the numbers : 5,6,8,9,74,7\n",
      "(5, 6, 8, 9, 74, 7) <class 'tuple'>\n"
     ]
    }
   ],
   "source": [
    "\n",
    "tup = eval(input('enter the numbers : '))\n",
    "\n",
    "print(tup , type(tup))"
   ]
  },
  {
   "cell_type": "code",
   "execution_count": 84,
   "id": "d8fea478",
   "metadata": {},
   "outputs": [
    {
     "name": "stdout",
     "output_type": "stream",
     "text": [
      "333.54\n"
     ]
    }
   ],
   "source": [
    "a = '333.54'\n",
    "print(float(a))"
   ]
  },
  {
   "cell_type": "code",
   "execution_count": 91,
   "id": "64455710",
   "metadata": {},
   "outputs": [
    {
     "name": "stdout",
     "output_type": "stream",
     "text": [
      "('s', 't', 'r')\n",
      "(3, 4, 56, 6)\n"
     ]
    }
   ],
   "source": [
    "# 3. type casting\n",
    "\n",
    "\n",
    "a = 'str'\n",
    "b = [3,4,56,6]\n",
    "\n",
    "print(tuple(a))\n",
    "print(tuple(b))"
   ]
  },
  {
   "cell_type": "markdown",
   "id": "0c7e7d2c",
   "metadata": {},
   "source": [
    "# Tuple packing "
   ]
  },
  {
   "cell_type": "code",
   "execution_count": 92,
   "id": "9b764116",
   "metadata": {},
   "outputs": [
    {
     "name": "stdout",
     "output_type": "stream",
     "text": [
      "(1, 2, 3, 34, 4, 5) <class 'tuple'>\n"
     ]
    }
   ],
   "source": [
    "a = (1,2,3,34,4,5)\n",
    "\n",
    "print(a , type(a))"
   ]
  },
  {
   "cell_type": "code",
   "execution_count": 94,
   "id": "671d835e",
   "metadata": {},
   "outputs": [
    {
     "name": "stdout",
     "output_type": "stream",
     "text": [
      "(2, 3, 'a', 5.6, None, True) <class 'tuple'>\n"
     ]
    }
   ],
   "source": [
    "a = 2,3,'a' , 5.6 , None , True\n",
    "\n",
    "print(a , type(a))"
   ]
  },
  {
   "cell_type": "markdown",
   "id": "dbbe3e44",
   "metadata": {},
   "source": [
    "# Properties of tuple\n",
    "\n",
    "- Seq data type\n",
    "- +ve and -ve indexing is supported\n",
    "- can hold any data type hetrogenous\n",
    "- allows duplication \n",
    "- Basic op are possible concatination , identity , membership , repetation\n",
    "\n",
    "\n",
    "### Note :- It is immuables"
   ]
  },
  {
   "cell_type": "code",
   "execution_count": null,
   "id": "b145ac87",
   "metadata": {},
   "outputs": [],
   "source": [
    "a = (1,2,3,4 , 2,2 ,2, 2)\n",
    "a[::-1]"
   ]
  },
  {
   "cell_type": "code",
   "execution_count": 104,
   "id": "9ab2b05a",
   "metadata": {},
   "outputs": [
    {
     "data": {
      "text/plain": [
       "(1.7, 2, 'a', [3, 4, 2], 2, (2+6j), 2)"
      ]
     },
     "execution_count": 104,
     "metadata": {},
     "output_type": "execute_result"
    }
   ],
   "source": [
    "a = (1.7,2,'a',[3,4 , 2],2 ,2+6j, 2)\n",
    "a"
   ]
  },
  {
   "cell_type": "code",
   "execution_count": 106,
   "id": "394f94b3",
   "metadata": {},
   "outputs": [
    {
     "data": {
      "text/plain": [
       "[1.7, 6666666, 'a', [3, 4, 2], 2, (2+6j), 2]"
      ]
     },
     "execution_count": 106,
     "metadata": {},
     "output_type": "execute_result"
    }
   ],
   "source": [
    "\n",
    "a = [1.7,2,'a',[3,4 , 2],2 ,2+6j, 2]\n",
    "\n",
    "a[1] = 6666666\n",
    "a"
   ]
  },
  {
   "cell_type": "code",
   "execution_count": 111,
   "id": "7671d3d9",
   "metadata": {},
   "outputs": [
    {
     "data": {
      "text/plain": [
       "'prtg'"
      ]
     },
     "execution_count": 111,
     "metadata": {},
     "output_type": "execute_result"
    }
   ],
   "source": [
    "a = 'srtg'\n",
    "a.replace('s' , 'p')"
   ]
  },
  {
   "cell_type": "code",
   "execution_count": 112,
   "id": "de508c1d",
   "metadata": {},
   "outputs": [
    {
     "data": {
      "text/plain": [
       "'srtg'"
      ]
     },
     "execution_count": 112,
     "metadata": {},
     "output_type": "execute_result"
    }
   ],
   "source": [
    "a"
   ]
  },
  {
   "cell_type": "code",
   "execution_count": 113,
   "id": "75f63347",
   "metadata": {},
   "outputs": [
    {
     "data": {
      "text/plain": [
       "5"
      ]
     },
     "execution_count": 113,
     "metadata": {},
     "output_type": "execute_result"
    }
   ],
   "source": [
    "# Indexing \n",
    "a = 2,3,3,4,5\n",
    "\n",
    "\n",
    "a[-1]"
   ]
  },
  {
   "cell_type": "code",
   "execution_count": 114,
   "id": "b0c67674",
   "metadata": {},
   "outputs": [
    {
     "data": {
      "text/plain": [
       "4"
      ]
     },
     "execution_count": 114,
     "metadata": {},
     "output_type": "execute_result"
    }
   ],
   "source": [
    "# Indexing \n",
    "a = 2,3,3,4,5\n",
    "\n",
    "\n",
    "a[3]"
   ]
  },
  {
   "cell_type": "code",
   "execution_count": 115,
   "id": "7aa50110",
   "metadata": {},
   "outputs": [
    {
     "data": {
      "text/plain": [
       "(2, 3, 3, 4)"
      ]
     },
     "execution_count": 115,
     "metadata": {},
     "output_type": "execute_result"
    }
   ],
   "source": [
    "# slicing \n",
    "a = 2,3,3,4,5\n",
    "\n",
    "\n",
    "a[0:4]"
   ]
  },
  {
   "cell_type": "code",
   "execution_count": 117,
   "id": "ead4f692",
   "metadata": {},
   "outputs": [
    {
     "data": {
      "text/plain": [
       "(3, 3, 4)"
      ]
     },
     "execution_count": 117,
     "metadata": {},
     "output_type": "execute_result"
    }
   ],
   "source": [
    "# slicing -ve indeding\n",
    "a = 2,3,3,4,5\n",
    "\n",
    "\n",
    "a[-4:-1]"
   ]
  },
  {
   "cell_type": "code",
   "execution_count": 119,
   "id": "c497ddad",
   "metadata": {},
   "outputs": [
    {
     "data": {
      "text/plain": [
       "(5, 4, 3)"
      ]
     },
     "execution_count": 119,
     "metadata": {},
     "output_type": "execute_result"
    }
   ],
   "source": [
    "# slicing -ve indeding and step as -1\n",
    "a = 2,3,3,4,5\n",
    "\n",
    "\n",
    "a[-1:-4:-1]"
   ]
  },
  {
   "cell_type": "markdown",
   "id": "0c9f9d24",
   "metadata": {},
   "source": [
    "# Concatination"
   ]
  },
  {
   "cell_type": "code",
   "execution_count": 120,
   "id": "b0363af0",
   "metadata": {},
   "outputs": [
    {
     "name": "stdout",
     "output_type": "stream",
     "text": [
      "(1, 2, 3, 34, 6, 7, 4, 'a')\n"
     ]
    }
   ],
   "source": [
    "# op --> +\n",
    "# operand -> bbothh should be of tuple\n",
    "a = (1,2,3,34)\n",
    "b = (6,7,4,'a')\n",
    "\n",
    "\n",
    "print(a +b)"
   ]
  },
  {
   "cell_type": "markdown",
   "id": "b2e06d98",
   "metadata": {},
   "source": [
    "# Repetation"
   ]
  },
  {
   "cell_type": "code",
   "execution_count": 124,
   "id": "49757da8",
   "metadata": {},
   "outputs": [
    {
     "name": "stdout",
     "output_type": "stream",
     "text": [
      "(1, 2, 3, 34, 1, 2, 3, 34, 1, 2, 3, 34)\n"
     ]
    }
   ],
   "source": [
    "# op --> *\n",
    "# operand -> one should be a tuple and other should be int\n",
    "a = (1,2,3,34)\n",
    "b = 3\n",
    "\n",
    "\n",
    "print(a * b)"
   ]
  },
  {
   "cell_type": "code",
   "execution_count": 126,
   "id": "fb24a52e",
   "metadata": {},
   "outputs": [
    {
     "name": "stdout",
     "output_type": "stream",
     "text": [
      "2443722164160\n",
      "2443721256768\n",
      "False\n"
     ]
    }
   ],
   "source": [
    "# Identity\n",
    "# is and is not\n",
    "\n",
    "a = 1,2,3\n",
    "b = 1,2,3\n",
    "\n",
    "print(id(a))\n",
    "print(id(b))\n",
    "\n",
    "\n",
    "print( a is b)"
   ]
  },
  {
   "cell_type": "code",
   "execution_count": 127,
   "id": "911b2471",
   "metadata": {},
   "outputs": [
    {
     "name": "stdout",
     "output_type": "stream",
     "text": [
      "False\n"
     ]
    }
   ],
   "source": [
    "# Membership\n",
    "# in and not in\n",
    "\n",
    "a = 1,2,3\n",
    "\n",
    "\n",
    "\n",
    "print( 4 in a)"
   ]
  },
  {
   "cell_type": "code",
   "execution_count": 128,
   "id": "f5e93bc4",
   "metadata": {},
   "outputs": [
    {
     "name": "stdout",
     "output_type": "stream",
     "text": [
      "True\n"
     ]
    }
   ],
   "source": [
    "# Membership\n",
    "# in and not in\n",
    "\n",
    "a = 1,2,3\n",
    "\n",
    "\n",
    "\n",
    "print( 2 in a)"
   ]
  },
  {
   "cell_type": "code",
   "execution_count": 131,
   "id": "ab28ae52",
   "metadata": {},
   "outputs": [
    {
     "data": {
      "text/plain": [
       "('b', 'c', 'd')"
      ]
     },
     "execution_count": 131,
     "metadata": {},
     "output_type": "execute_result"
    }
   ],
   "source": [
    "a = ('a' , 'b' , 'c' , 'd' , 'e' , 'f' , 'g')\n",
    "\n",
    "# +ve index values\n",
    "# bcd\n",
    "a[1:4]"
   ]
  },
  {
   "cell_type": "code",
   "execution_count": 133,
   "id": "0db9a798",
   "metadata": {},
   "outputs": [
    {
     "data": {
      "text/plain": [
       "('b', 'c', 'd')"
      ]
     },
     "execution_count": 133,
     "metadata": {},
     "output_type": "execute_result"
    }
   ],
   "source": [
    "a = ('a' , 'b' , 'c' , 'd' , 'e' , 'f' , 'g')\n",
    "\n",
    "# -ve index values\n",
    "# bcd\n",
    "a[-6:-3]"
   ]
  },
  {
   "cell_type": "code",
   "execution_count": 134,
   "id": "519ac454",
   "metadata": {},
   "outputs": [
    {
     "data": {
      "text/plain": [
       "('e', 'f', 'g')"
      ]
     },
     "execution_count": 134,
     "metadata": {},
     "output_type": "execute_result"
    }
   ],
   "source": [
    "a = ('a' , 'b' , 'c' , 'd' , 'e' , 'f' , 'g')\n",
    "\n",
    "# +ve index values\n",
    "# efg\n",
    "a[4:7]"
   ]
  },
  {
   "cell_type": "code",
   "execution_count": 135,
   "id": "8e142921",
   "metadata": {},
   "outputs": [
    {
     "data": {
      "text/plain": [
       "('e', 'f', 'g')"
      ]
     },
     "execution_count": 135,
     "metadata": {},
     "output_type": "execute_result"
    }
   ],
   "source": [
    "a = ('a' , 'b' , 'c' , 'd' , 'e' , 'f' , 'g')\n",
    "\n",
    "# +ve index values\n",
    "# efg\n",
    "a[4:] # 1"
   ]
  },
  {
   "cell_type": "code",
   "execution_count": 136,
   "id": "cb522a26",
   "metadata": {},
   "outputs": [
    {
     "data": {
      "text/plain": [
       "('e', 'f', 'g')"
      ]
     },
     "execution_count": 136,
     "metadata": {},
     "output_type": "execute_result"
    }
   ],
   "source": [
    "a = ('a' , 'b' , 'c' , 'd' , 'e' , 'f' , 'g')\n",
    "\n",
    "# +ve index values\n",
    "# efg\n",
    "a[-3:] # 1"
   ]
  },
  {
   "cell_type": "code",
   "execution_count": 141,
   "id": "75e413f5",
   "metadata": {},
   "outputs": [
    {
     "data": {
      "text/plain": [
       "('g', 'e', 'c', 'a')"
      ]
     },
     "execution_count": 141,
     "metadata": {},
     "output_type": "execute_result"
    }
   ],
   "source": [
    "a = ('a' , 'b' , 'c' , 'd' , 'e' , 'f' , 'g')\n",
    "\n",
    "# +ve index values\n",
    "# efg\n",
    "a[::-2] # -1"
   ]
  },
  {
   "cell_type": "markdown",
   "id": "e1a4af57",
   "metadata": {},
   "source": [
    "# Methods of tuple"
   ]
  },
  {
   "cell_type": "code",
   "execution_count": 142,
   "id": "8834ee98",
   "metadata": {},
   "outputs": [
    {
     "name": "stdout",
     "output_type": "stream",
     "text": [
      "['__add__', '__class__', '__class_getitem__', '__contains__', '__delattr__', '__dir__', '__doc__', '__eq__', '__format__', '__ge__', '__getattribute__', '__getitem__', '__getnewargs__', '__gt__', '__hash__', '__init__', '__init_subclass__', '__iter__', '__le__', '__len__', '__lt__', '__mul__', '__ne__', '__new__', '__reduce__', '__reduce_ex__', '__repr__', '__rmul__', '__setattr__', '__sizeof__', '__str__', '__subclasshook__', 'count', 'index']\n"
     ]
    }
   ],
   "source": [
    "print(dir(tuple))"
   ]
  },
  {
   "cell_type": "markdown",
   "id": "95a51410",
   "metadata": {},
   "source": [
    "# count "
   ]
  },
  {
   "cell_type": "code",
   "execution_count": 143,
   "id": "49123c88",
   "metadata": {},
   "outputs": [
    {
     "data": {
      "text/plain": [
       "2"
      ]
     },
     "execution_count": 143,
     "metadata": {},
     "output_type": "execute_result"
    }
   ],
   "source": [
    "a = 'a' , 'b' , 'a' , 'c' , 'd' , 'e'\n",
    "\n",
    "\n",
    "a.count('a')"
   ]
  },
  {
   "cell_type": "markdown",
   "id": "8706e133",
   "metadata": {},
   "source": [
    "# Index"
   ]
  },
  {
   "cell_type": "code",
   "execution_count": 144,
   "id": "cdb2bbb7",
   "metadata": {},
   "outputs": [
    {
     "data": {
      "text/plain": [
       "0"
      ]
     },
     "execution_count": 144,
     "metadata": {},
     "output_type": "execute_result"
    }
   ],
   "source": [
    "a = 'a' , 'b' , 'a' , 'c' , 'd' , 'e'\n",
    "\n",
    "\n",
    "a.index('a')"
   ]
  },
  {
   "cell_type": "code",
   "execution_count": 145,
   "id": "dbdeaedb",
   "metadata": {},
   "outputs": [
    {
     "data": {
      "text/plain": [
       "2"
      ]
     },
     "execution_count": 145,
     "metadata": {},
     "output_type": "execute_result"
    }
   ],
   "source": [
    "a = 'a' , 'b' , 'a' , 'c' , 'd' , 'e'\n",
    "\n",
    "\n",
    "a.index('a' , 1)"
   ]
  },
  {
   "cell_type": "markdown",
   "id": "92500348",
   "metadata": {},
   "source": [
    "# Tuple packing and unpacking"
   ]
  },
  {
   "cell_type": "code",
   "execution_count": 146,
   "id": "ce7a4115",
   "metadata": {},
   "outputs": [
    {
     "name": "stdout",
     "output_type": "stream",
     "text": [
      "(2, 3, 4)\n"
     ]
    }
   ],
   "source": [
    "# tuple packing - assigning multiple values to a single variable\n",
    "\n",
    "\n",
    "a = 2,3,4\n",
    "\n",
    "print(a)"
   ]
  },
  {
   "cell_type": "code",
   "execution_count": 147,
   "id": "b904dd0d",
   "metadata": {},
   "outputs": [
    {
     "name": "stdout",
     "output_type": "stream",
     "text": [
      "2 <class 'int'>\n",
      "3.6 <class 'float'>\n",
      "4 <class 'str'>\n"
     ]
    }
   ],
   "source": [
    "# tuple unpacking \n",
    "\n",
    "\n",
    "a,b,c = 2,3.6,'4'\n",
    "\n",
    "print(a , type(a))\n",
    "print(b , type(b))\n",
    "print(c , type(c))"
   ]
  },
  {
   "cell_type": "code",
   "execution_count": 148,
   "id": "6011faaf",
   "metadata": {},
   "outputs": [
    {
     "ename": "ValueError",
     "evalue": "too many values to unpack (expected 2)",
     "output_type": "error",
     "traceback": [
      "\u001b[1;31m---------------------------------------------------------------------------\u001b[0m",
      "\u001b[1;31mValueError\u001b[0m                                Traceback (most recent call last)",
      "Input \u001b[1;32mIn [148]\u001b[0m, in \u001b[0;36m<cell line: 4>\u001b[1;34m()\u001b[0m\n\u001b[0;32m      1\u001b[0m \u001b[38;5;66;03m# tuple unpacking \u001b[39;00m\n\u001b[1;32m----> 4\u001b[0m a,b \u001b[38;5;241m=\u001b[39m \u001b[38;5;241m2\u001b[39m,\u001b[38;5;241m3.6\u001b[39m,\u001b[38;5;124m'\u001b[39m\u001b[38;5;124m4\u001b[39m\u001b[38;5;124m'\u001b[39m\n\u001b[0;32m      6\u001b[0m \u001b[38;5;28mprint\u001b[39m(a , \u001b[38;5;28mtype\u001b[39m(a))\n\u001b[0;32m      7\u001b[0m \u001b[38;5;28mprint\u001b[39m(b , \u001b[38;5;28mtype\u001b[39m(b))\n",
      "\u001b[1;31mValueError\u001b[0m: too many values to unpack (expected 2)"
     ]
    }
   ],
   "source": [
    "# tuple unpacking \n",
    "\n",
    "\n",
    "a,b = 2,3.6,'4'\n",
    "\n",
    "print(a , type(a))\n",
    "print(b , type(b))\n",
    "print(c , type(c))"
   ]
  },
  {
   "cell_type": "code",
   "execution_count": 154,
   "id": "6aaa2fdb",
   "metadata": {},
   "outputs": [
    {
     "name": "stdout",
     "output_type": "stream",
     "text": [
      "p\n",
      "y\n",
      "t\n",
      "h\n",
      "o\n",
      "n\n"
     ]
    }
   ],
   "source": [
    "a = 'python'\n",
    "\n",
    "for i,j in enumerate(a):\n",
    "    print(j)"
   ]
  },
  {
   "cell_type": "code",
   "execution_count": null,
   "id": "ad2bb6f3",
   "metadata": {},
   "outputs": [],
   "source": [
    "for iteration 1 i = (0 , 'p')"
   ]
  },
  {
   "cell_type": "code",
   "execution_count": 152,
   "id": "6f0fe603",
   "metadata": {},
   "outputs": [
    {
     "name": "stdout",
     "output_type": "stream",
     "text": [
      "0 <class 'int'>\n",
      "p <class 'str'>\n"
     ]
    }
   ],
   "source": [
    "\n",
    "i,j = (0 , 'p')\n",
    "\n",
    "print(a , type(a))\n",
    "print(b , type(b))"
   ]
  },
  {
   "cell_type": "code",
   "execution_count": 159,
   "id": "f58fd119",
   "metadata": {},
   "outputs": [
    {
     "name": "stdout",
     "output_type": "stream",
     "text": [
      "(0, 't')\n",
      "(1, 'h')\n",
      "(2, 'i')\n",
      "(3, 's')\n",
      "(4, ' ')\n",
      "(5, 'i')\n",
      "(6, 's')\n",
      "(7, ' ')\n",
      "(8, 'p')\n",
      "(9, 'y')\n",
      "(10, 't')\n",
      "(11, 'h')\n",
      "(12, 'o')\n",
      "(13, 'n')\n",
      "(14, ',')\n",
      "(15, ' ')\n",
      "(16, 'p')\n",
      "(17, 'y')\n",
      "(18, 't')\n",
      "(19, 'h')\n",
      "(20, 'o')\n",
      "(21, 'n')\n",
      "(22, ' ')\n",
      "(23, 'i')\n",
      "(24, 's')\n",
      "(25, ' ')\n",
      "(26, 'a')\n",
      "(27, ' ')\n",
      "(28, 'p')\n",
      "(29, 'r')\n",
      "(30, 'o')\n",
      "(31, 'g')\n",
      "(32, 'r')\n",
      "(33, 'a')\n",
      "(34, 'm')\n",
      "(35, 'i')\n",
      "(36, 'n')\n",
      "(37, 'g')\n",
      "(38, ' ')\n",
      "(39, 'l')\n",
      "(40, 'a')\n",
      "(41, 'n')\n",
      "(42, 'g')\n",
      "(43, 'u')\n",
      "(44, 'a')\n",
      "(45, 'g')\n",
      "(46, 'e')\n"
     ]
    }
   ],
   "source": [
    "a = 'this is python, python is a programing language'\n",
    "\n",
    "for i in enumerate(a):\n",
    "    print(i)"
   ]
  },
  {
   "cell_type": "code",
   "execution_count": null,
   "id": "07e410b8",
   "metadata": {},
   "outputs": [],
   "source": [
    "# Index value of all the p"
   ]
  },
  {
   "cell_type": "code",
   "execution_count": 162,
   "id": "80dbd1b1",
   "metadata": {},
   "outputs": [
    {
     "name": "stdout",
     "output_type": "stream",
     "text": [
      "8\n",
      "16\n",
      "28\n"
     ]
    }
   ],
   "source": [
    "a = 'this is python, python is a programing language'\n",
    "\n",
    "for i,j in enumerate(a):\n",
    "    if j == 'p':\n",
    "        print(i)"
   ]
  },
  {
   "cell_type": "markdown",
   "id": "8a0a436a",
   "metadata": {},
   "source": [
    "# Dictionary"
   ]
  },
  {
   "cell_type": "code",
   "execution_count": 170,
   "id": "e69c965f",
   "metadata": {},
   "outputs": [
    {
     "name": "stdout",
     "output_type": "stream",
     "text": [
      "Salahuddin\n",
      "26\n",
      "900000\n"
     ]
    }
   ],
   "source": [
    "emp_data = ['Salahuddin' , 26 , 900000]\n",
    "\n",
    "# name of the emp\n",
    "print(emp_data[0])\n",
    "\n",
    "# age of the emp\n",
    "print(emp_data[1])\n",
    "\n",
    "# salary of the emp\n",
    "print(emp_data[2])"
   ]
  },
  {
   "cell_type": "code",
   "execution_count": 171,
   "id": "546e9ce9",
   "metadata": {},
   "outputs": [
    {
     "name": "stdout",
     "output_type": "stream",
     "text": [
      "26\n",
      "900000\n",
      "Salahuddin\n"
     ]
    }
   ],
   "source": [
    "emp_data = [26 , 900000,'Salahuddin']\n",
    "\n",
    "# name of the emp\n",
    "print(emp_data[0])\n",
    "\n",
    "# age of the emp\n",
    "print(emp_data[1])\n",
    "\n",
    "# salary of the emp\n",
    "print(emp_data[2])"
   ]
  },
  {
   "cell_type": "code",
   "execution_count": 172,
   "id": "2fcb44f5",
   "metadata": {},
   "outputs": [
    {
     "ename": "KeyError",
     "evalue": "0",
     "output_type": "error",
     "traceback": [
      "\u001b[1;31m---------------------------------------------------------------------------\u001b[0m",
      "\u001b[1;31mKeyError\u001b[0m                                  Traceback (most recent call last)",
      "Input \u001b[1;32mIn [172]\u001b[0m, in \u001b[0;36m<cell line: 5>\u001b[1;34m()\u001b[0m\n\u001b[0;32m      1\u001b[0m \u001b[38;5;66;03m# Dictionary - It is used to represent structured data \u001b[39;00m\n\u001b[0;32m      3\u001b[0m emp_data \u001b[38;5;241m=\u001b[39m {\u001b[38;5;124m'\u001b[39m\u001b[38;5;124mName\u001b[39m\u001b[38;5;124m'\u001b[39m: \u001b[38;5;124m'\u001b[39m\u001b[38;5;124mSalahuddin\u001b[39m\u001b[38;5;124m'\u001b[39m ,\u001b[38;5;124m'\u001b[39m\u001b[38;5;124mAge\u001b[39m\u001b[38;5;124m'\u001b[39m: \u001b[38;5;241m26\u001b[39m , \u001b[38;5;124m'\u001b[39m\u001b[38;5;124mSalary\u001b[39m\u001b[38;5;124m'\u001b[39m: \u001b[38;5;241m901000\u001b[39m}\n\u001b[1;32m----> 5\u001b[0m \u001b[43memp_data\u001b[49m\u001b[43m[\u001b[49m\u001b[38;5;241;43m0\u001b[39;49m\u001b[43m]\u001b[49m\n",
      "\u001b[1;31mKeyError\u001b[0m: 0"
     ]
    }
   ],
   "source": [
    "# Dictionary - It is used to represent structured data \n",
    "\n",
    "emp_data = {'Name': 'Salahuddin' ,'Age': 26 , 'Salary': 901000}\n",
    "\n",
    "emp_data[0]\n"
   ]
  },
  {
   "cell_type": "code",
   "execution_count": 174,
   "id": "c0e31255",
   "metadata": {},
   "outputs": [
    {
     "name": "stdout",
     "output_type": "stream",
     "text": [
      "Salahuddin\n",
      "26\n",
      "901000\n"
     ]
    }
   ],
   "source": [
    "# Dictionary - It is used to represent structured data \n",
    "\n",
    "emp_data = {'Name': 'Salahuddin' ,'Age': 26 , 'Salary': 901000}\n",
    "\n",
    "# Name\n",
    "print(emp_data['Name'])\n",
    "\n",
    "# age\n",
    "print(emp_data['Age'])\n",
    "\n",
    "# Salary\n",
    "print(emp_data['Salary'])\n"
   ]
  },
  {
   "cell_type": "code",
   "execution_count": 175,
   "id": "979b746e",
   "metadata": {},
   "outputs": [
    {
     "name": "stdout",
     "output_type": "stream",
     "text": [
      "Salahuddin\n",
      "26\n",
      "901000\n"
     ]
    }
   ],
   "source": [
    "# Dictionary - It is used to represent structured data \n",
    "\n",
    "emp_data = {'Age': 26 , 'Salary': 901000 , 'Name': 'Salahuddin'}\n",
    "\n",
    "# Name\n",
    "print(emp_data['Name'])\n",
    "\n",
    "# age\n",
    "print(emp_data['Age'])\n",
    "\n",
    "# Salary\n",
    "print(emp_data['Salary'])\n"
   ]
  },
  {
   "cell_type": "markdown",
   "id": "e90f5d9f",
   "metadata": {},
   "source": [
    "# Properties of dic\n",
    "\n",
    "- It is a collection of key value pair\n",
    "- a key, value is called as item\n",
    "- Items are seperated by ,\n",
    "- Key and value are seperated by :\n",
    "- key cannot be duplicated whereas value can be duplicated\n",
    "- key cannot be a mutable data type\n",
    "- value can be a mutable as well as immutable\n",
    "\n",
    "2. It is not a seq data type, Hence\n",
    "* Indexing , slicing , concatination , repetition are not possible\n",
    "- Membership op will work only for the keys \n",
    "- Identity operators is possible\n",
    "\n",
    "\n",
    "### Note: Dict is an mutable data type"
   ]
  },
  {
   "cell_type": "code",
   "execution_count": 180,
   "id": "00c36abe",
   "metadata": {},
   "outputs": [
    {
     "data": {
      "text/plain": [
       "{'emp_1': {'Age': 26, 'Salary': 901000, 'Name': 'Salahuddin'},\n",
       " 'emp_2': {'Age': 27, 'Salary': 1000000, 'Name': 'Abhijeet'},\n",
       " 'emp_3': {'Age': 28, 'Salary': 1000002, 'Name': 'Abhishail'},\n",
       " 'emp_4': {'Age': 29, 'Salary': 1100000, 'Name': 'Abhishek'}}"
      ]
     },
     "execution_count": 180,
     "metadata": {},
     "output_type": "execute_result"
    }
   ],
   "source": [
    "# Dictionary - It is used to represent structured data \n",
    "\n",
    "emp_data = {'emp_1':{'Age': 26 , 'Salary': 901000 , 'Name': 'Salahuddin'},\n",
    "           'emp_2':{'Age': 27 , 'Salary': 1000000 , 'Name': 'Abhijeet'},\n",
    "           'emp_3':{'Age': 28 , 'Salary': 1000002 , 'Name': 'Abhishail'},\n",
    "           'emp_4':{'Age': 29 , 'Salary': 1100000 , 'Name': 'Abhishek'}}\n",
    "\n",
    "\n",
    "emp_data"
   ]
  },
  {
   "cell_type": "markdown",
   "id": "fb0d9094",
   "metadata": {},
   "source": [
    "# To find out the keys of the dic\n",
    "- keys()"
   ]
  },
  {
   "cell_type": "code",
   "execution_count": 181,
   "id": "895bae08",
   "metadata": {},
   "outputs": [
    {
     "data": {
      "text/plain": [
       "dict_keys(['emp_1', 'emp_2', 'emp_3', 'emp_4'])"
      ]
     },
     "execution_count": 181,
     "metadata": {},
     "output_type": "execute_result"
    }
   ],
   "source": [
    "# Dictionary - It is used to represent structured data \n",
    "\n",
    "emp_data = {'emp_1':{'Age': 26 , 'Salary': 901000 , 'Name': 'Salahuddin'},\n",
    "           'emp_2':{'Age': 27 , 'Salary': 1000000 , 'Name': 'Abhijeet'},\n",
    "           'emp_3':{'Age': 28 , 'Salary': 1000002 , 'Name': 'Abhishail'},\n",
    "           'emp_4':{'Age': 29 , 'Salary': 1100000 , 'Name': 'Abhishek'}}\n",
    "\n",
    "\n",
    "emp_data.keys()"
   ]
  },
  {
   "cell_type": "markdown",
   "id": "481c7d92",
   "metadata": {},
   "source": [
    "# To find out the values of the dic\n",
    "- values()"
   ]
  },
  {
   "cell_type": "code",
   "execution_count": 182,
   "id": "fe186d61",
   "metadata": {},
   "outputs": [
    {
     "data": {
      "text/plain": [
       "dict_values([{'Age': 26, 'Salary': 901000, 'Name': 'Salahuddin'}, {'Age': 27, 'Salary': 1000000, 'Name': 'Abhijeet'}, {'Age': 28, 'Salary': 1000002, 'Name': 'Abhishail'}, {'Age': 29, 'Salary': 1100000, 'Name': 'Abhishek'}])"
      ]
     },
     "execution_count": 182,
     "metadata": {},
     "output_type": "execute_result"
    }
   ],
   "source": [
    "# Dictionary - It is used to represent structured data \n",
    "\n",
    "emp_data = {'emp_1':{'Age': 26 , 'Salary': 901000 , 'Name': 'Salahuddin'},\n",
    "           'emp_2':{'Age': 27 , 'Salary': 1000000 , 'Name': 'Abhijeet'},\n",
    "           'emp_3':{'Age': 28 , 'Salary': 1000002 , 'Name': 'Abhishail'},\n",
    "           'emp_4':{'Age': 29 , 'Salary': 1100000 , 'Name': 'Abhishek'}}\n",
    "\n",
    "\n",
    "emp_data.values()"
   ]
  },
  {
   "cell_type": "markdown",
   "id": "c0f4d010",
   "metadata": {},
   "source": [
    "# How to create a dic"
   ]
  },
  {
   "cell_type": "code",
   "execution_count": 184,
   "id": "b2417935",
   "metadata": {},
   "outputs": [
    {
     "name": "stdout",
     "output_type": "stream",
     "text": [
      "{'a': 1, 'b': 3} <class 'dict'>\n"
     ]
    }
   ],
   "source": [
    "# 1. If you already know the elements\n",
    "\n",
    "\n",
    "a = {'a':1 , 'b':3}\n",
    "print(a , type(a))"
   ]
  },
  {
   "cell_type": "markdown",
   "id": "3ea8d1d5",
   "metadata": {},
   "source": [
    "# Taking user input and eval"
   ]
  },
  {
   "cell_type": "code",
   "execution_count": 185,
   "id": "e9205062",
   "metadata": {},
   "outputs": [
    {
     "name": "stdout",
     "output_type": "stream",
     "text": [
      "enter the dic : {1:3 , 4:5}\n",
      "{1: 3, 4: 5} <class 'dict'>\n"
     ]
    }
   ],
   "source": [
    "data = eval(input('enter the dic : '))\n",
    "\n",
    "print( data , type(data))"
   ]
  },
  {
   "cell_type": "markdown",
   "id": "a451c6f9",
   "metadata": {},
   "source": [
    "# Type casting\n",
    "\n",
    "    - Dict function takes a seq of inner seq\n",
    "    - The first value of the inner seq will be the keys and the second value will be the values"
   ]
  },
  {
   "cell_type": "code",
   "execution_count": 187,
   "id": "60c7b098",
   "metadata": {},
   "outputs": [
    {
     "name": "stdout",
     "output_type": "stream",
     "text": [
      "{'a': 2, 'b': 3, 'c': 4}\n"
     ]
    }
   ],
   "source": [
    "a = [('a',2) , ('b' , 3) , ('c' , 4)]\n",
    "\n",
    "\n",
    "print(dict(a))"
   ]
  },
  {
   "cell_type": "code",
   "execution_count": 189,
   "id": "87c63049",
   "metadata": {},
   "outputs": [
    {
     "data": {
      "text/plain": [
       "{0: 'p', 1: 'y', 2: 't', 3: 'h', 4: 'o', 5: 'n'}"
      ]
     },
     "execution_count": 189,
     "metadata": {},
     "output_type": "execute_result"
    }
   ],
   "source": [
    "a = 'python'\n",
    "\n",
    "b = dict(enumerate(a))\n",
    "b"
   ]
  },
  {
   "cell_type": "markdown",
   "id": "fd4c5972",
   "metadata": {},
   "source": [
    "# Zip\n",
    "\n",
    "syntax \n",
    "zip(iter 1 , iter 2)"
   ]
  },
  {
   "cell_type": "code",
   "execution_count": 192,
   "id": "63ff62be",
   "metadata": {},
   "outputs": [
    {
     "data": {
      "text/plain": [
       "{'a': 23, 'b': 22, 'c': 211, 'd': 45}"
      ]
     },
     "execution_count": 192,
     "metadata": {},
     "output_type": "execute_result"
    }
   ],
   "source": [
    "column_1 = ['a' , 'b' , 'c' , 'd']\n",
    "column_2 = [23 , 22 , 211 , 45]\n",
    "\n",
    "\n",
    "dict(zip(column_1 , column_2))"
   ]
  },
  {
   "cell_type": "code",
   "execution_count": null,
   "id": "3906a32d",
   "metadata": {},
   "outputs": [],
   "source": []
  },
  {
   "cell_type": "code",
   "execution_count": 194,
   "id": "278b4a3b",
   "metadata": {},
   "outputs": [
    {
     "data": {
      "text/plain": [
       "{'emp_1': {'Age': 26, 'Salary': 901000, 'Name': 'Salahuddin'},\n",
       " 'emp_2': {'Age': 29, 'Salary': 1100000, 'Name': 'Abhishek'},\n",
       " 'emp_3': {'Age': 28, 'Salary': 1000002, 'Name': 'Abhishail'}}"
      ]
     },
     "execution_count": 194,
     "metadata": {},
     "output_type": "execute_result"
    }
   ],
   "source": [
    "\n",
    "\n",
    "emp_data = {'emp_1':{'Age': 26 , 'Salary': 901000 , 'Name': 'Salahuddin'},\n",
    "           'emp_2':{'Age': 27 , 'Salary': 1000000 , 'Name': 'Abhijeet'},\n",
    "           'emp_3':{'Age': 28 , 'Salary': 1000002 , 'Name': 'Abhishail'},\n",
    "           'emp_2':{'Age': 29 , 'Salary': 1100000 , 'Name': 'Abhishek'}}\n",
    "\n",
    "\n",
    "emp_data"
   ]
  },
  {
   "cell_type": "code",
   "execution_count": 195,
   "id": "931a9d49",
   "metadata": {},
   "outputs": [
    {
     "data": {
      "text/plain": [
       "{'emp_1': {'Age': 26, 'Salary': 901000, 'Name': 'Salahuddin'},\n",
       " 'emp_2': {'Age': 27, 'Salary': 1000000, 'Name': 'Abhijeet'},\n",
       " 'emp_3': {'Age': 28, 'Salary': 1000002, 'Name': 'Abhishail'},\n",
       " 'emp_4': {'Age': 29, 'Salary': 1100000, 'Name': 'Abhishek'},\n",
       " 'emp_5': {'Age': 29, 'Salary': 1100000, 'Name': 'new_emp'}}"
      ]
     },
     "execution_count": 195,
     "metadata": {},
     "output_type": "execute_result"
    }
   ],
   "source": [
    "# When the key was not present\n",
    "\n",
    "emp_data = {'emp_1':{'Age': 26 , 'Salary': 901000 , 'Name': 'Salahuddin'},\n",
    "           'emp_2':{'Age': 27 , 'Salary': 1000000 , 'Name': 'Abhijeet'},\n",
    "           'emp_3':{'Age': 28 , 'Salary': 1000002 , 'Name': 'Abhishail'},\n",
    "           'emp_4':{'Age': 29 , 'Salary': 1100000 , 'Name': 'Abhishek'}}\n",
    "\n",
    "\n",
    "emp_data['emp_5'] = {'Age': 29 , 'Salary': 1100000 , 'Name': 'new_emp'}\n",
    "emp_data"
   ]
  },
  {
   "cell_type": "code",
   "execution_count": 196,
   "id": "39daed26",
   "metadata": {},
   "outputs": [
    {
     "data": {
      "text/plain": [
       "{'emp_1': {'Age': 26, 'Salary': 901000, 'Name': 'Salahuddin'},\n",
       " 'emp_2': {'Age': 27, 'Salary': 1000000, 'Name': 'Abhijeet'},\n",
       " 'emp_3': {'Age': 29, 'Salary': 1100000, 'Name': 'new_emp'},\n",
       " 'emp_4': {'Age': 29, 'Salary': 1100000, 'Name': 'Abhishek'}}"
      ]
     },
     "execution_count": 196,
     "metadata": {},
     "output_type": "execute_result"
    }
   ],
   "source": [
    "# When the key is present\n",
    "\n",
    "emp_data = {'emp_1':{'Age': 26 , 'Salary': 901000 , 'Name': 'Salahuddin'},\n",
    "           'emp_2':{'Age': 27 , 'Salary': 1000000 , 'Name': 'Abhijeet'},\n",
    "           'emp_3':{'Age': 28 , 'Salary': 1000002 , 'Name': 'Abhishail'},\n",
    "           'emp_4':{'Age': 29 , 'Salary': 1100000 , 'Name': 'Abhishek'}}\n",
    "\n",
    "\n",
    "emp_data['emp_3'] = {'Age': 29 , 'Salary': 1100000 , 'Name': 'new_emp'}\n",
    "emp_data"
   ]
  },
  {
   "cell_type": "markdown",
   "id": "d9258259",
   "metadata": {},
   "source": [
    "# Properties and methods"
   ]
  },
  {
   "cell_type": "code",
   "execution_count": 202,
   "id": "6edb9ee7",
   "metadata": {},
   "outputs": [
    {
     "name": "stdout",
     "output_type": "stream",
     "text": [
      "2443726344752\n",
      "2443726344752\n"
     ]
    }
   ],
   "source": [
    "a = 'python is'\n",
    "b = 'python is'\n",
    "\n",
    "print(id(a))\n",
    "print(id(b))"
   ]
  },
  {
   "cell_type": "code",
   "execution_count": 201,
   "id": "cde997a6",
   "metadata": {},
   "outputs": [
    {
     "name": "stdout",
     "output_type": "stream",
     "text": [
      "2443606649904\n",
      "2443606649904\n"
     ]
    }
   ],
   "source": [
    "print(id(a[0]))\n",
    "print(id(b[0]))"
   ]
  },
  {
   "cell_type": "code",
   "execution_count": 2,
   "id": "6ac8313e",
   "metadata": {},
   "outputs": [
    {
     "data": {
      "text/plain": [
       "['emp_3']"
      ]
     },
     "execution_count": 2,
     "metadata": {},
     "output_type": "execute_result"
    }
   ],
   "source": [
    "emp_data = ['emp_1' , 'emp_2' , 'emp_3' , 'emp_4']\n",
    "\n",
    "emp_hi_data = []\n",
    "emp_hi_data.append(emp_data.pop(2))\n",
    "emp_hi_data"
   ]
  },
  {
   "cell_type": "code",
   "execution_count": null,
   "id": "15a17fd1",
   "metadata": {},
   "outputs": [],
   "source": []
  }
 ],
 "metadata": {
  "kernelspec": {
   "display_name": "Python 3 (ipykernel)",
   "language": "python",
   "name": "python3"
  },
  "language_info": {
   "codemirror_mode": {
    "name": "ipython",
    "version": 3
   },
   "file_extension": ".py",
   "mimetype": "text/x-python",
   "name": "python",
   "nbconvert_exporter": "python",
   "pygments_lexer": "ipython3",
   "version": "3.9.12"
  }
 },
 "nbformat": 4,
 "nbformat_minor": 5
}
