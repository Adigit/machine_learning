{
 "cells": [
  {
   "cell_type": "markdown",
   "id": "0ef9cd37",
   "metadata": {},
   "source": [
    "1. Datatypes\n",
    "2. Input and output functions\n",
    "3. Python components"
   ]
  },
  {
   "cell_type": "markdown",
   "id": "cfeb5e13",
   "metadata": {},
   "source": [
    "# Python programing components"
   ]
  },
  {
   "cell_type": "markdown",
   "id": "2ecdef32",
   "metadata": {},
   "source": [
    "- Literals ---> Datatypes\n",
    "- Constants\n",
    "- Variables\n",
    "- Identifiers\n",
    "- Reserved words\n",
    "- Staements and expression\n",
    "- Blocks and indentation\n",
    "- Comments"
   ]
  },
  {
   "cell_type": "markdown",
   "id": "219746ce",
   "metadata": {},
   "source": [
    "# Literals ---> Datatypes"
   ]
  },
  {
   "cell_type": "code",
   "execution_count": null,
   "id": "5569812f",
   "metadata": {},
   "outputs": [],
   "source": [
    "1. Fundamental datatypes\n",
    "- int\n",
    "- float\n",
    "- complex\n",
    "- strings\n",
    "- boolean\n",
    "- None\n",
    "\n",
    "\n",
    "2. Derived data types\n",
    "- lists\n",
    "- set\n",
    "- tuple\n",
    "- dictionary"
   ]
  },
  {
   "cell_type": "markdown",
   "id": "cd6917b2",
   "metadata": {},
   "source": [
    "### Int\n",
    "\n",
    "- Any number without a decimal point\n",
    "eg: -100 , 99 , 0 , 100"
   ]
  },
  {
   "cell_type": "code",
   "execution_count": 1,
   "id": "4e228296",
   "metadata": {},
   "outputs": [
    {
     "name": "stdout",
     "output_type": "stream",
     "text": [
      "10 <class 'int'>\n"
     ]
    }
   ],
   "source": [
    "a = 10\n",
    "\n",
    "print(a , type(a))"
   ]
  },
  {
   "cell_type": "code",
   "execution_count": 2,
   "id": "f9d3247f",
   "metadata": {},
   "outputs": [
    {
     "name": "stdout",
     "output_type": "stream",
     "text": [
      "0 <class 'int'>\n"
     ]
    }
   ],
   "source": [
    "a = 0\n",
    "\n",
    "print(a , type(a))"
   ]
  },
  {
   "cell_type": "code",
   "execution_count": 3,
   "id": "a5b724b6",
   "metadata": {},
   "outputs": [
    {
     "name": "stdout",
     "output_type": "stream",
     "text": [
      "-1201 <class 'int'>\n"
     ]
    }
   ],
   "source": [
    "a = -1201\n",
    "\n",
    "print(a , type(a))"
   ]
  },
  {
   "cell_type": "markdown",
   "id": "c46f3a9f",
   "metadata": {},
   "source": [
    "### Float\n",
    "\n",
    "- any number with decimal point is known as float"
   ]
  },
  {
   "cell_type": "code",
   "execution_count": 4,
   "id": "b3d0d023",
   "metadata": {},
   "outputs": [
    {
     "name": "stdout",
     "output_type": "stream",
     "text": [
      "10.0 <class 'float'>\n"
     ]
    }
   ],
   "source": [
    "a = 10.0\n",
    "\n",
    "print(a , type(a))"
   ]
  },
  {
   "cell_type": "code",
   "execution_count": 5,
   "id": "7a790f0f",
   "metadata": {},
   "outputs": [
    {
     "name": "stdout",
     "output_type": "stream",
     "text": [
      "0.0 <class 'float'>\n"
     ]
    }
   ],
   "source": [
    "a = 0.0\n",
    "\n",
    "print(a , type(a))"
   ]
  },
  {
   "cell_type": "markdown",
   "id": "520fe082",
   "metadata": {},
   "source": [
    "### Complex\n",
    "\n",
    "- Anything tha can be written in the form of a+bj\n",
    "- where a is an real number \n",
    "- and b is an imaginary number"
   ]
  },
  {
   "cell_type": "code",
   "execution_count": 21,
   "id": "2de6aada",
   "metadata": {},
   "outputs": [
    {
     "name": "stdout",
     "output_type": "stream",
     "text": [
      "(10+7j) <class 'complex'>\n"
     ]
    }
   ],
   "source": [
    "a = 10+7j\n",
    "\n",
    "print(a , type(a))"
   ]
  },
  {
   "cell_type": "code",
   "execution_count": 9,
   "id": "f8011df9",
   "metadata": {},
   "outputs": [
    {
     "name": "stdout",
     "output_type": "stream",
     "text": [
      "10.0\n",
      "7.0\n"
     ]
    }
   ],
   "source": [
    "a = 10+7j\n",
    "\n",
    "#print(a , type(a))\n",
    "print(a.real)\n",
    "print(a.imag)"
   ]
  },
  {
   "cell_type": "code",
   "execution_count": 17,
   "id": "c3a3a598",
   "metadata": {},
   "outputs": [
    {
     "name": "stdout",
     "output_type": "stream",
     "text": [
      "0j <class 'complex'>\n",
      "0.0\n",
      "0.0\n"
     ]
    }
   ],
   "source": [
    "a = 0+0j\n",
    "\n",
    "print(a , type(a))\n",
    "print(a.real)\n",
    "print(a.imag)"
   ]
  },
  {
   "cell_type": "markdown",
   "id": "05678e67",
   "metadata": {},
   "source": [
    "# Boolean\n",
    "- True\n",
    "- False"
   ]
  },
  {
   "cell_type": "code",
   "execution_count": 10,
   "id": "5f3a98e0",
   "metadata": {},
   "outputs": [
    {
     "name": "stdout",
     "output_type": "stream",
     "text": [
      "True <class 'bool'>\n"
     ]
    }
   ],
   "source": [
    "a = True\n",
    "\n",
    "print(a , type(a))"
   ]
  },
  {
   "cell_type": "code",
   "execution_count": 11,
   "id": "82dc69b4",
   "metadata": {},
   "outputs": [
    {
     "name": "stdout",
     "output_type": "stream",
     "text": [
      "False <class 'bool'>\n"
     ]
    }
   ],
   "source": [
    "a = False\n",
    "\n",
    "print(a , type(a))"
   ]
  },
  {
   "cell_type": "code",
   "execution_count": 12,
   "id": "3c6bbcc8",
   "metadata": {},
   "outputs": [
    {
     "data": {
      "text/plain": [
       "True"
      ]
     },
     "execution_count": 12,
     "metadata": {},
     "output_type": "execute_result"
    }
   ],
   "source": [
    "True == 1"
   ]
  },
  {
   "cell_type": "code",
   "execution_count": 13,
   "id": "666680ad",
   "metadata": {},
   "outputs": [
    {
     "data": {
      "text/plain": [
       "True"
      ]
     },
     "execution_count": 13,
     "metadata": {},
     "output_type": "execute_result"
    }
   ],
   "source": [
    "False == 0"
   ]
  },
  {
   "cell_type": "markdown",
   "id": "554714f2",
   "metadata": {},
   "source": [
    "### None"
   ]
  },
  {
   "cell_type": "code",
   "execution_count": 22,
   "id": "9a0b6267",
   "metadata": {},
   "outputs": [
    {
     "name": "stdout",
     "output_type": "stream",
     "text": [
      "None <class 'NoneType'>\n"
     ]
    }
   ],
   "source": [
    "a = None\n",
    "print(a , type(a))"
   ]
  },
  {
   "cell_type": "code",
   "execution_count": 23,
   "id": "4316bd9b",
   "metadata": {},
   "outputs": [
    {
     "data": {
      "text/plain": [
       "False"
      ]
     },
     "execution_count": 23,
     "metadata": {},
     "output_type": "execute_result"
    }
   ],
   "source": [
    "bool(None)"
   ]
  },
  {
   "cell_type": "code",
   "execution_count": 26,
   "id": "9bfdc784",
   "metadata": {},
   "outputs": [
    {
     "data": {
      "text/plain": [
       "3.0"
      ]
     },
     "execution_count": 26,
     "metadata": {},
     "output_type": "execute_result"
    }
   ],
   "source": [
    "lst = [1,2,3,4,5]\n",
    "15/5"
   ]
  },
  {
   "cell_type": "code",
   "execution_count": 28,
   "id": "27100a7c",
   "metadata": {},
   "outputs": [
    {
     "data": {
      "text/plain": [
       "2.4"
      ]
     },
     "execution_count": 28,
     "metadata": {},
     "output_type": "execute_result"
    }
   ],
   "source": [
    "lst = [1,2,0,4,5]\n",
    "(12/5)"
   ]
  },
  {
   "cell_type": "code",
   "execution_count": 29,
   "id": "fd7fac6c",
   "metadata": {},
   "outputs": [
    {
     "data": {
      "text/plain": [
       "3.0"
      ]
     },
     "execution_count": 29,
     "metadata": {},
     "output_type": "execute_result"
    }
   ],
   "source": [
    "lst = [1,2,None,4,5]\n",
    "(12/4)"
   ]
  },
  {
   "cell_type": "code",
   "execution_count": null,
   "id": "80a506bb",
   "metadata": {},
   "outputs": [],
   "source": [
    "emp      salary        age\n",
    "\n",
    "1         1000         21\n",
    "2         None         25\n",
    "3         950          None \n",
    "4         850          35\n"
   ]
  },
  {
   "cell_type": "markdown",
   "id": "5fbe1ed9",
   "metadata": {},
   "source": [
    "## String\n",
    "\n",
    "\n",
    "- Anything That is written inside '___' , \"__\" , '''___''' ,\"\"\"__\"\"\""
   ]
  },
  {
   "cell_type": "code",
   "execution_count": 30,
   "id": "feab91a9",
   "metadata": {},
   "outputs": [
    {
     "name": "stdout",
     "output_type": "stream",
     "text": [
      "hello <class 'str'>\n"
     ]
    }
   ],
   "source": [
    "a = 'hello'\n",
    "\n",
    "print(a , type(a))"
   ]
  },
  {
   "cell_type": "code",
   "execution_count": 31,
   "id": "eeadcaf3",
   "metadata": {},
   "outputs": [
    {
     "name": "stdout",
     "output_type": "stream",
     "text": [
      "hello <class 'str'>\n"
     ]
    }
   ],
   "source": [
    "a = \"hello\"\n",
    "\n",
    "print(a , type(a))"
   ]
  },
  {
   "cell_type": "code",
   "execution_count": 32,
   "id": "2120557e",
   "metadata": {},
   "outputs": [
    {
     "name": "stdout",
     "output_type": "stream",
     "text": [
      "hello <class 'str'>\n"
     ]
    }
   ],
   "source": [
    "a = '''hello'''\n",
    "\n",
    "print(a , type(a))"
   ]
  },
  {
   "cell_type": "code",
   "execution_count": 33,
   "id": "125bbcd3",
   "metadata": {},
   "outputs": [
    {
     "name": "stdout",
     "output_type": "stream",
     "text": [
      "hello <class 'str'>\n"
     ]
    }
   ],
   "source": [
    "a = \"\"\"hello\"\"\"\n",
    "\n",
    "print(a , type(a))"
   ]
  },
  {
   "cell_type": "code",
   "execution_count": 34,
   "id": "8ee5e3f1",
   "metadata": {},
   "outputs": [
    {
     "name": "stdout",
     "output_type": "stream",
     "text": [
      "this is pythons class <class 'str'>\n"
     ]
    }
   ],
   "source": [
    "a = 'this is pythons class'\n",
    "print(a , type(a))"
   ]
  },
  {
   "cell_type": "code",
   "execution_count": 35,
   "id": "e973033a",
   "metadata": {},
   "outputs": [
    {
     "ename": "SyntaxError",
     "evalue": "invalid syntax (1104415449.py, line 1)",
     "output_type": "error",
     "traceback": [
      "\u001b[1;36m  Input \u001b[1;32mIn [35]\u001b[1;36m\u001b[0m\n\u001b[1;33m    a = 'this is python's class'\u001b[0m\n\u001b[1;37m                        ^\u001b[0m\n\u001b[1;31mSyntaxError\u001b[0m\u001b[1;31m:\u001b[0m invalid syntax\n"
     ]
    }
   ],
   "source": [
    "a = 'this is python's class'\n",
    "print(a , type(a))"
   ]
  },
  {
   "cell_type": "code",
   "execution_count": 37,
   "id": "29de1022",
   "metadata": {},
   "outputs": [
    {
     "name": "stdout",
     "output_type": "stream",
     "text": [
      "this is python's class <class 'str'>\n"
     ]
    }
   ],
   "source": [
    "a = \"this is python's class\"\n",
    "print(a , type(a))"
   ]
  },
  {
   "cell_type": "code",
   "execution_count": 38,
   "id": "2f9077a9",
   "metadata": {},
   "outputs": [
    {
     "ename": "SyntaxError",
     "evalue": "EOL while scanning string literal (2969392692.py, line 1)",
     "output_type": "error",
     "traceback": [
      "\u001b[1;36m  Input \u001b[1;32mIn [38]\u001b[1;36m\u001b[0m\n\u001b[1;33m    a = \"this\u001b[0m\n\u001b[1;37m              ^\u001b[0m\n\u001b[1;31mSyntaxError\u001b[0m\u001b[1;31m:\u001b[0m EOL while scanning string literal\n"
     ]
    }
   ],
   "source": [
    "a = \"this \n",
    "is \n",
    "python's \n",
    "class\"\n",
    "\n",
    "print(a , type(a))"
   ]
  },
  {
   "cell_type": "code",
   "execution_count": 39,
   "id": "285da2ff",
   "metadata": {},
   "outputs": [
    {
     "name": "stdout",
     "output_type": "stream",
     "text": [
      "this \n",
      "is \n",
      "python's \n",
      "class <class 'str'>\n"
     ]
    }
   ],
   "source": [
    "a = '''this \n",
    "is \n",
    "python's \n",
    "class'''\n",
    "\n",
    "print(a , type(a))"
   ]
  },
  {
   "cell_type": "code",
   "execution_count": 40,
   "id": "f68608d1",
   "metadata": {},
   "outputs": [
    {
     "name": "stdout",
     "output_type": "stream",
     "text": [
      "this \n",
      "is \n",
      "python's \n",
      "class <class 'str'>\n"
     ]
    }
   ],
   "source": [
    "a = \"\"\"this \n",
    "is \n",
    "python's \n",
    "class\"\"\"\n",
    "\n",
    "print(a , type(a))"
   ]
  },
  {
   "cell_type": "code",
   "execution_count": 41,
   "id": "08f9d77b",
   "metadata": {},
   "outputs": [
    {
     "name": "stdout",
     "output_type": "stream",
     "text": [
      "10 <class 'int'>\n"
     ]
    }
   ],
   "source": [
    "a = 10\n",
    "\n",
    "\n",
    "print(a , type(a))"
   ]
  },
  {
   "cell_type": "code",
   "execution_count": 42,
   "id": "b406b990",
   "metadata": {},
   "outputs": [
    {
     "name": "stdout",
     "output_type": "stream",
     "text": [
      "10 <class 'str'>\n"
     ]
    }
   ],
   "source": [
    "a = '10'\n",
    "\n",
    "print(a , type(a))"
   ]
  },
  {
   "cell_type": "markdown",
   "id": "6f73e55a",
   "metadata": {},
   "source": [
    "# Derived data types "
   ]
  },
  {
   "cell_type": "markdown",
   "id": "b55ea3b6",
   "metadata": {},
   "source": [
    "### List\n",
    "\n",
    "- Anything that is written inside [..]"
   ]
  },
  {
   "cell_type": "code",
   "execution_count": 62,
   "id": "8adc2175",
   "metadata": {},
   "outputs": [
    {
     "name": "stdout",
     "output_type": "stream",
     "text": [
      "[1, 2.5, '3', None, True, [1, 23, 4]] <class 'list'>\n"
     ]
    }
   ],
   "source": [
    "a = [1,2.5,'3',None,True, [1,23,4]]\n",
    "\n",
    "print(a, type(a))"
   ]
  },
  {
   "cell_type": "markdown",
   "id": "2f5ed639",
   "metadata": {},
   "source": [
    "### tuple\n",
    "\n",
    "- Anything that is written inside a (.)"
   ]
  },
  {
   "cell_type": "code",
   "execution_count": 63,
   "id": "417af7e7",
   "metadata": {},
   "outputs": [
    {
     "name": "stdout",
     "output_type": "stream",
     "text": [
      "(1, 2.5, '3', None, True, [1, 23, 4]) <class 'tuple'>\n"
     ]
    }
   ],
   "source": [
    "a = (1,2.5,'3',None,True, [1,23,4])\n",
    "\n",
    "print(a, type(a))"
   ]
  },
  {
   "cell_type": "code",
   "execution_count": 64,
   "id": "a5a4e2c6",
   "metadata": {},
   "outputs": [
    {
     "name": "stdout",
     "output_type": "stream",
     "text": [
      "[100, 2, 3, 4]\n"
     ]
    }
   ],
   "source": [
    "# Lists are mutable\n",
    "lst = [1,2,3,4]\n",
    "\n",
    "lst[0] = 100\n",
    "\n",
    "print(lst)"
   ]
  },
  {
   "cell_type": "code",
   "execution_count": 65,
   "id": "e1587560",
   "metadata": {},
   "outputs": [
    {
     "ename": "TypeError",
     "evalue": "'tuple' object does not support item assignment",
     "output_type": "error",
     "traceback": [
      "\u001b[1;31m---------------------------------------------------------------------------\u001b[0m",
      "\u001b[1;31mTypeError\u001b[0m                                 Traceback (most recent call last)",
      "Input \u001b[1;32mIn [65]\u001b[0m, in \u001b[0;36m<cell line: 3>\u001b[1;34m()\u001b[0m\n\u001b[0;32m      1\u001b[0m lst \u001b[38;5;241m=\u001b[39m (\u001b[38;5;241m1\u001b[39m,\u001b[38;5;241m2\u001b[39m,\u001b[38;5;241m3\u001b[39m,\u001b[38;5;241m4\u001b[39m)\n\u001b[1;32m----> 3\u001b[0m lst[\u001b[38;5;241m0\u001b[39m] \u001b[38;5;241m=\u001b[39m \u001b[38;5;241m100\u001b[39m\n\u001b[0;32m      5\u001b[0m \u001b[38;5;28mprint\u001b[39m(lst)\n",
      "\u001b[1;31mTypeError\u001b[0m: 'tuple' object does not support item assignment"
     ]
    }
   ],
   "source": [
    "# Tuple are immutable\n",
    "lst = (1,2,3,4)\n",
    "\n",
    "lst[0] = 100\n",
    "\n",
    "print(lst)"
   ]
  },
  {
   "cell_type": "code",
   "execution_count": null,
   "id": "efc2c919",
   "metadata": {},
   "outputs": [],
   "source": [
    "# Set\n",
    "\n",
    "- Anything that is written in form of {}"
   ]
  },
  {
   "cell_type": "code",
   "execution_count": 70,
   "id": "9dee593e",
   "metadata": {},
   "outputs": [
    {
     "name": "stdout",
     "output_type": "stream",
     "text": [
      "{1, 2, 3, 4} <class 'set'>\n"
     ]
    }
   ],
   "source": [
    "a = {1,2,3,4}\n",
    "\n",
    "print(a, type(a))"
   ]
  },
  {
   "cell_type": "code",
   "execution_count": 73,
   "id": "64eb23fd",
   "metadata": {},
   "outputs": [
    {
     "name": "stdout",
     "output_type": "stream",
     "text": [
      "{1, 2, 3, 4} <class 'set'>\n"
     ]
    }
   ],
   "source": [
    "a = {1,2,3,4,2,2}\n",
    "\n",
    "print(a, type(a))"
   ]
  },
  {
   "cell_type": "code",
   "execution_count": 74,
   "id": "ca583a74",
   "metadata": {},
   "outputs": [
    {
     "name": "stdout",
     "output_type": "stream",
     "text": [
      "{'abhishail', 'abhishek', 'aditi'} <class 'set'>\n"
     ]
    }
   ],
   "source": [
    "a = {'abhishail' , 'abhishek' , 'aditi' , 'abhishek'}\n",
    "\n",
    "print(a, type(a))"
   ]
  },
  {
   "cell_type": "code",
   "execution_count": null,
   "id": "9f0fe9ad",
   "metadata": {},
   "outputs": [],
   "source": [
    "# Dictionary\n",
    "- Anything which has key and value pair\n",
    "- where key and value are seperated by : (colon)\n",
    "- Each pair is seperated by , "
   ]
  },
  {
   "cell_type": "code",
   "execution_count": 75,
   "id": "f21930ef",
   "metadata": {},
   "outputs": [
    {
     "name": "stdout",
     "output_type": "stream",
     "text": [
      "{'abhishail': 12000000} <class 'dict'>\n"
     ]
    }
   ],
   "source": [
    "a = {'abhishail' : 12000000}\n",
    "print(a , type(a))"
   ]
  },
  {
   "cell_type": "code",
   "execution_count": 76,
   "id": "215ad414",
   "metadata": {},
   "outputs": [
    {
     "name": "stdout",
     "output_type": "stream",
     "text": [
      "{'abhishail': 12000000, 'abhishek': 5000000} <class 'dict'>\n"
     ]
    }
   ],
   "source": [
    "a = {'abhishail' : 12 , 'abhishek': 13}\n",
    "print(a , type(a))"
   ]
  },
  {
   "cell_type": "code",
   "execution_count": 81,
   "id": "433609b4",
   "metadata": {},
   "outputs": [
    {
     "name": "stdout",
     "output_type": "stream",
     "text": [
      "{'abhishail': 12, 'abhishek': 13} <class 'dict'>\n"
     ]
    }
   ],
   "source": [
    "a = {'abhishail' : 12 , 'abhishek': 13}\n",
    "print(a , type(a))"
   ]
  },
  {
   "cell_type": "code",
   "execution_count": 103,
   "id": "65495d19",
   "metadata": {},
   "outputs": [
    {
     "name": "stdout",
     "output_type": "stream",
     "text": [
      "{'emp1': {'name': 'abhishail', 'salary': 12, 'age': 25}, 'emp2': {'name': 'abhishek', 'salary': 12, 'age': 25}} <class 'dict'>\n"
     ]
    }
   ],
   "source": [
    "dic = {'emp1': {'name': 'abhishail' , 'salary': 12 , 'age': 25},\n",
    "      'emp2': {'name': 'abhishek' , 'salary': 12 , 'age': 25}}\n",
    "print(dic , type(dic))\n"
   ]
  },
  {
   "cell_type": "code",
   "execution_count": 97,
   "id": "9a058bd5",
   "metadata": {},
   "outputs": [
    {
     "name": "stdout",
     "output_type": "stream",
     "text": [
      "{None: [12, 34], (22.5+6j): None, 'str': 13} <class 'dict'>\n"
     ]
    }
   ],
   "source": [
    "a = {None : [12 , 34] , 22.5+6j: None , 'str': 13}\n",
    "print(a , type(a))"
   ]
  },
  {
   "cell_type": "code",
   "execution_count": 99,
   "id": "f44d939f",
   "metadata": {},
   "outputs": [
    {
     "data": {
      "text/plain": [
       "[1, 2, 3, 200, 6]"
      ]
     },
     "execution_count": 99,
     "metadata": {},
     "output_type": "execute_result"
    }
   ],
   "source": [
    "a = [1,2,3,45,6]\n",
    "a[3] = 200\n",
    "a"
   ]
  },
  {
   "cell_type": "code",
   "execution_count": 101,
   "id": "aa8003c1",
   "metadata": {},
   "outputs": [
    {
     "data": {
      "text/plain": [
       "[13, 4500, 6, 0.12, -1.6, '12', None, True]"
      ]
     },
     "execution_count": 101,
     "metadata": {},
     "output_type": "execute_result"
    }
   ],
   "source": [
    "lst1=[13,45,6,0.12,-1.6,\"12\",None,True]\n",
    "lst1[1] = 4500\n",
    "lst1"
   ]
  },
  {
   "cell_type": "markdown",
   "id": "e864c06a",
   "metadata": {},
   "source": [
    "# Input and Output functions"
   ]
  },
  {
   "cell_type": "code",
   "execution_count": null,
   "id": "bd20cd62",
   "metadata": {},
   "outputs": [],
   "source": [
    "### Input function by default takes the input in form of string"
   ]
  },
  {
   "cell_type": "code",
   "execution_count": 104,
   "id": "be8823ca",
   "metadata": {},
   "outputs": [
    {
     "name": "stdout",
     "output_type": "stream",
     "text": [
      "30\n"
     ]
    }
   ],
   "source": [
    "a = 10\n",
    "b =20\n",
    "print(a+b)"
   ]
  },
  {
   "cell_type": "code",
   "execution_count": 105,
   "id": "2690769d",
   "metadata": {},
   "outputs": [
    {
     "name": "stdout",
     "output_type": "stream",
     "text": [
      "Please enter the first number : 50\n",
      "70\n"
     ]
    }
   ],
   "source": [
    "a = int(input('Please enter the first number : '))\n",
    "b = 20\n",
    "print(a+b)"
   ]
  },
  {
   "cell_type": "code",
   "execution_count": 107,
   "id": "aadfb26f",
   "metadata": {},
   "outputs": [
    {
     "name": "stdout",
     "output_type": "stream",
     "text": [
      "30\n"
     ]
    }
   ],
   "source": [
    "a = int('10')\n",
    "b = 20\n",
    "print(a+b)"
   ]
  },
  {
   "cell_type": "code",
   "execution_count": 110,
   "id": "b3ddd7aa",
   "metadata": {},
   "outputs": [
    {
     "name": "stdout",
     "output_type": "stream",
     "text": [
      "Please enter the first number : 80+6j\n",
      "80+6j <class 'str'>\n"
     ]
    }
   ],
   "source": [
    "a = input('Please enter the first number : ')\n",
    "\n",
    "print(a , type(a))"
   ]
  },
  {
   "cell_type": "code",
   "execution_count": 1,
   "id": "2670f8cd",
   "metadata": {},
   "outputs": [
    {
     "name": "stdout",
     "output_type": "stream",
     "text": [
      "Pleasesddf enter the first name : 45\n",
      "Please enter the second name : 54\n",
      "Hi my first name is 45 and second name is 54\n"
     ]
    }
   ],
   "source": [
    "# Hi my first name is python and the second name is learnbay\n",
    "\n",
    "a = input('Pleases enter the first name : ')\n",
    "b = input('Please enter the second name : ')\n",
    "\n",
    "print('Hi my first name is '+a+ ' and second name is '+b)"
   ]
  },
  {
   "cell_type": "code",
   "execution_count": 10,
   "id": "58480f8a",
   "metadata": {},
   "outputs": [
    {
     "name": "stdout",
     "output_type": "stream",
     "text": [
      "Pleases enter the first name : python\n",
      "Please enter the second name : learnbay\n",
      "Hi my first name is learnbay and second name is python\n"
     ]
    }
   ],
   "source": [
    "# Hi my first name is python and the second name is learnbay\n",
    "# Format strings\n",
    "# 1st method\n",
    "\n",
    "a = input('Pleases enter the first name : ')\n",
    "b = input('Please enter the second name : ')\n",
    "\n",
    "print('Hi my first name is {} and second name is {}'.format(b,a))"
   ]
  },
  {
   "cell_type": "code",
   "execution_count": 9,
   "id": "867a8845",
   "metadata": {},
   "outputs": [
    {
     "name": "stdout",
     "output_type": "stream",
     "text": [
      "Pleases enter the first name : python\n",
      "Please enter the second name : learnbay\n",
      "Hi my first name is python and second name is learnbay\n"
     ]
    }
   ],
   "source": [
    "# Hi my first name is python and the second name is learnbay\n",
    "# Format strings\n",
    "# 2nd method\n",
    "\n",
    "a = input('Pleases enter the first name : ')\n",
    "b = input('Please enter the second name : ')\n",
    "\n",
    "print(f'Hi my first name is {a} and second name is {b}')"
   ]
  },
  {
   "cell_type": "markdown",
   "id": "8c619d84",
   "metadata": {},
   "source": [
    "# Output function\n",
    "- print"
   ]
  },
  {
   "cell_type": "code",
   "execution_count": 11,
   "id": "15d76ee6",
   "metadata": {
    "scrolled": true
   },
   "outputs": [
    {
     "name": "stdout",
     "output_type": "stream",
     "text": [
      "10\n",
      "20\n"
     ]
    }
   ],
   "source": [
    "a = 10\n",
    "b = 20\n",
    "\n",
    "\n",
    "print(a)\n",
    "print(b)"
   ]
  },
  {
   "cell_type": "code",
   "execution_count": 12,
   "id": "5e9f4ab4",
   "metadata": {},
   "outputs": [
    {
     "name": "stdout",
     "output_type": "stream",
     "text": [
      "10 20\n"
     ]
    }
   ],
   "source": [
    "a = 10\n",
    "b = 20\n",
    "\n",
    "\n",
    "print(a , b)\n"
   ]
  },
  {
   "cell_type": "code",
   "execution_count": 33,
   "id": "a6e01d3d",
   "metadata": {},
   "outputs": [
    {
     "name": "stdout",
     "output_type": "stream",
     "text": [
      "10**20\n",
      "1000\n"
     ]
    }
   ],
   "source": [
    "a = 10\n",
    "b = 20\n",
    "\n",
    "\n",
    "print(a , b , sep = '**' )\n",
    "print(1000)"
   ]
  },
  {
   "cell_type": "code",
   "execution_count": 31,
   "id": "a982c620",
   "metadata": {},
   "outputs": [
    {
     "name": "stdout",
     "output_type": "stream",
     "text": [
      "10#20%%20\n"
     ]
    }
   ],
   "source": [
    "a = 10\n",
    "b = 20\n",
    "\n",
    "# \\n ---> new line\n",
    "\n",
    "print(a ,b, sep = '#',end = '%%')\n",
    "print(b)"
   ]
  },
  {
   "cell_type": "code",
   "execution_count": 35,
   "id": "d1caa9a2",
   "metadata": {},
   "outputs": [
    {
     "name": "stdout",
     "output_type": "stream",
     "text": [
      "10***30***20\n",
      "\n",
      "20\n"
     ]
    }
   ],
   "source": [
    "a = 10\n",
    "b = 20\n",
    "c = 30\n",
    "\n",
    "# \\n ---> new line\n",
    "\n",
    "print(a ,c,b, sep = '***',end = '\\n\\n')\n",
    "print(b)"
   ]
  },
  {
   "cell_type": "code",
   "execution_count": 25,
   "id": "008761e5",
   "metadata": {},
   "outputs": [],
   "source": [
    "a = '10'\n",
    "b = '20'\n",
    "\n",
    "c = a+b "
   ]
  },
  {
   "cell_type": "code",
   "execution_count": 38,
   "id": "60e5e06b",
   "metadata": {},
   "outputs": [
    {
     "name": "stdout",
     "output_type": "stream",
     "text": [
      "10\n",
      "20\n",
      "\n",
      "20**30**100++100?10&&30&&100\n"
     ]
    }
   ],
   "source": [
    "a = 10\n",
    "b = 20\n",
    "c = 30\n",
    "d = 100\n",
    "e = 200\n",
    "\n",
    "\n",
    "print(a,b , sep = '\\n' , end = '\\n\\n')\n",
    "print(b, c ,d , sep= '**' , end = '++')\n",
    "print(d , sep = '--' , end = '?')\n",
    "print(a,c,d , sep = '&&')"
   ]
  },
  {
   "cell_type": "code",
   "execution_count": null,
   "id": "ba208c53",
   "metadata": {},
   "outputs": [],
   "source": [
    "10\n",
    "20\n",
    "\n",
    "20**30**100++100?10&&30&&100"
   ]
  },
  {
   "cell_type": "code",
   "execution_count": 46,
   "id": "cb514668",
   "metadata": {},
   "outputs": [
    {
     "name": "stdout",
     "output_type": "stream",
     "text": [
      "10\n",
      "\n",
      "20\n"
     ]
    }
   ],
   "source": [
    "a = 10\n",
    "b = 20\n",
    "\n",
    "\n",
    "print(a, end = '\\n\\n')\n",
    "print(b)"
   ]
  },
  {
   "cell_type": "markdown",
   "id": "ab69a1c1",
   "metadata": {},
   "source": [
    "# Constants , variables and identifiers "
   ]
  },
  {
   "cell_type": "code",
   "execution_count": 53,
   "id": "db89f0d8",
   "metadata": {},
   "outputs": [
    {
     "name": "stdout",
     "output_type": "stream",
     "text": [
      "50.24\n"
     ]
    }
   ],
   "source": [
    "# Area of a circle\n",
    "\n",
    "# ( PI * r**2)\n",
    "# PI 3.14\n",
    "\n",
    "\n",
    "PI = 3.14\n",
    "r = 4\n",
    "a = (PI * r**2)\n",
    "print(a)"
   ]
  },
  {
   "cell_type": "code",
   "execution_count": 54,
   "id": "587d11d4",
   "metadata": {},
   "outputs": [
    {
     "name": "stdout",
     "output_type": "stream",
     "text": [
      "6.2\n"
     ]
    }
   ],
   "source": [
    "PI = 3.14\n",
    "\n",
    "PI = 6.2\n",
    "\n",
    "print(PI)"
   ]
  },
  {
   "cell_type": "markdown",
   "id": "bd119ce0",
   "metadata": {},
   "source": [
    "## Rules\n",
    "\n",
    "1. Allowed char are a-z , A-Z , 0-9 , _\n",
    "2. Not allowed char are special char\n",
    "3. You cannot start with a number \n",
    "4. It is case sensitive\n",
    "5. You cannot use keywords or reserved words"
   ]
  },
  {
   "cell_type": "code",
   "execution_count": null,
   "id": "0b99395d",
   "metadata": {},
   "outputs": [],
   "source": [
    "abc -- 1\n",
    "ab@1 ---0\n",
    "messi --- 1 \n",
    "python --- 1 \n",
    "True ---- 0\n",
    "false --- 1\n",
    "print ---- \n",
    "oct ---- \n",
    "\n"
   ]
  },
  {
   "cell_type": "code",
   "execution_count": null,
   "id": "5da3b3a6",
   "metadata": {},
   "outputs": [],
   "source": [
    "abc = 20"
   ]
  },
  {
   "cell_type": "markdown",
   "id": "d7d786d5",
   "metadata": {},
   "source": [
    "# Statements and expressions"
   ]
  },
  {
   "cell_type": "code",
   "execution_count": null,
   "id": "c2627570",
   "metadata": {},
   "outputs": [],
   "source": [
    "# Statement - Are those lines in the code which will not throw an output when executed"
   ]
  },
  {
   "cell_type": "code",
   "execution_count": 55,
   "id": "15e4aecd",
   "metadata": {},
   "outputs": [],
   "source": [
    "a = 10"
   ]
  },
  {
   "cell_type": "code",
   "execution_count": null,
   "id": "7823604d",
   "metadata": {},
   "outputs": [],
   "source": [
    "# expressions - Are those lines in the code which will throw an output when executed"
   ]
  },
  {
   "cell_type": "code",
   "execution_count": 57,
   "id": "f52b4a58",
   "metadata": {},
   "outputs": [
    {
     "name": "stdout",
     "output_type": "stream",
     "text": [
      "40\n"
     ]
    }
   ],
   "source": [
    "print(10+30)"
   ]
  },
  {
   "cell_type": "markdown",
   "id": "2a9d5590",
   "metadata": {},
   "source": [
    "# Comments\n",
    "\n",
    "- To make the code more readable\n",
    "- To stop the execution of some lines"
   ]
  },
  {
   "cell_type": "code",
   "execution_count": 61,
   "id": "cd881f88",
   "metadata": {},
   "outputs": [
    {
     "name": "stdout",
     "output_type": "stream",
     "text": [
      "10\n",
      "20\n",
      "40\n"
     ]
    }
   ],
   "source": [
    "a = 10\n",
    "b = 20\n",
    "c = 40\n",
    "\n",
    "\n",
    "print(a)\n",
    "print(b)\n",
    "print(c)"
   ]
  },
  {
   "cell_type": "code",
   "execution_count": 62,
   "id": "93aaf455",
   "metadata": {},
   "outputs": [
    {
     "name": "stdout",
     "output_type": "stream",
     "text": [
      "10\n",
      "40\n"
     ]
    }
   ],
   "source": [
    "a = 10\n",
    "b = 20\n",
    "c = 40\n",
    "\n",
    "\n",
    "print(a)\n",
    "#print(b)\n",
    "print(c)"
   ]
  },
  {
   "cell_type": "code",
   "execution_count": 64,
   "id": "3a01a7a2",
   "metadata": {},
   "outputs": [
    {
     "name": "stdout",
     "output_type": "stream",
     "text": [
      "16\n"
     ]
    }
   ],
   "source": [
    "PI = 3.14 # The value of pi\n",
    "r = 4 # the side of a square\n",
    "a = (r*r) # Area of a square\n",
    "print(a)"
   ]
  },
  {
   "cell_type": "code",
   "execution_count": 65,
   "id": "2da431ad",
   "metadata": {},
   "outputs": [
    {
     "name": "stdout",
     "output_type": "stream",
     "text": [
      "16\n"
     ]
    }
   ],
   "source": [
    "'''This is a \n",
    "code to get \n",
    "the area of a \n",
    "circle'''\n",
    "\n",
    "PI = 3.14 # The value of pi\n",
    "r = 4 # the side of a square\n",
    "a = (r*r) # Area of a square\n",
    "print(a)"
   ]
  },
  {
   "cell_type": "code",
   "execution_count": null,
   "id": "2be9d047",
   "metadata": {},
   "outputs": [],
   "source": [
    "# Blocks and indentation\n",
    "# INT"
   ]
  },
  {
   "cell_type": "code",
   "execution_count": null,
   "id": "49537a17",
   "metadata": {},
   "outputs": [],
   "source": [
    "# Python- core\n",
    "# regex\n",
    "# Numpy\n",
    "# Pandas\n",
    "# Matplotlib\n",
    "# seaborn\n",
    "\n",
    "# EDA - exploratory data analysys Project\n",
    "# Git hub"
   ]
  }
 ],
 "metadata": {
  "kernelspec": {
   "display_name": "Python 3 (ipykernel)",
   "language": "python",
   "name": "python3"
  },
  "language_info": {
   "codemirror_mode": {
    "name": "ipython",
    "version": 3
   },
   "file_extension": ".py",
   "mimetype": "text/x-python",
   "name": "python",
   "nbconvert_exporter": "python",
   "pygments_lexer": "ipython3",
   "version": "3.9.12"
  }
 },
 "nbformat": 4,
 "nbformat_minor": 5
}
