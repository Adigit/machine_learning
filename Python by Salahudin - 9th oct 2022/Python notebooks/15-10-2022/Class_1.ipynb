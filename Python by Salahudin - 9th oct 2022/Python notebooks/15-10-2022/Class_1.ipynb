{
 "cells": [
  {
   "cell_type": "markdown",
   "id": "c6030b4e",
   "metadata": {},
   "source": [
    "- cell a place where you write a pyhon code\n",
    "- Markdown where you can write anything, Where you can write notes"
   ]
  },
  {
   "cell_type": "code",
   "execution_count": 13,
   "id": "3e9e4e2b",
   "metadata": {},
   "outputs": [
    {
     "name": "stdout",
     "output_type": "stream",
     "text": [
      "40\n"
     ]
    }
   ],
   "source": [
    "a = 10\n",
    "print(a + 30)"
   ]
  },
  {
   "cell_type": "markdown",
   "id": "772c38b6",
   "metadata": {},
   "source": [
    "# print statement\n",
    "\n",
    "## print statement\n",
    "\n",
    "### print statment\n",
    "\n",
    "#### print statements\n",
    "\n",
    "#### print statement\n",
    "\n",
    "##### print statement\n",
    "\n",
    "\n",
    "1. point 1\n",
    "2. point 2\n",
    "\n",
    "- point 3\n",
    "- point 4\n",
    "* point 5\n",
    "* point 6"
   ]
  },
  {
   "cell_type": "code",
   "execution_count": 16,
   "id": "83eee473",
   "metadata": {},
   "outputs": [
    {
     "name": "stdout",
     "output_type": "stream",
     "text": [
      "Hello world\n"
     ]
    }
   ],
   "source": [
    "print('Hello world')"
   ]
  },
  {
   "cell_type": "code",
   "execution_count": null,
   "id": "bee46df3",
   "metadata": {},
   "outputs": [],
   "source": [
    "HLL (High Level language)\n",
    "\n",
    "- Its more human friendly\n",
    "eg : JAVA, C, Python\n",
    "\n",
    "    \n",
    "LLL ( Low Level language)\n",
    "\n",
    "- Computer friendly\n",
    "\n",
    "- eg - assembly \n"
   ]
  },
  {
   "cell_type": "markdown",
   "id": "a32c7baf",
   "metadata": {},
   "source": [
    "# Compiler and interpretor"
   ]
  },
  {
   "cell_type": "markdown",
   "id": "09171add",
   "metadata": {},
   "source": [
    "# Compiler - C , JAVA , c++"
   ]
  },
  {
   "cell_type": "code",
   "execution_count": null,
   "id": "b2f996e2",
   "metadata": {},
   "outputs": [],
   "source": [
    "a = 10\n",
    "b = 20\n",
    "c = 30\n",
    "\n",
    "d = a+b+c\n",
    "print(d)"
   ]
  },
  {
   "cell_type": "markdown",
   "id": "bdb544d6",
   "metadata": {},
   "source": [
    "# Interpreter "
   ]
  },
  {
   "cell_type": "code",
   "execution_count": 1,
   "id": "f6bd205c",
   "metadata": {},
   "outputs": [
    {
     "ename": "NameError",
     "evalue": "name 'b' is not defined",
     "output_type": "error",
     "traceback": [
      "\u001b[1;31m---------------------------------------------------------------------------\u001b[0m",
      "\u001b[1;31mNameError\u001b[0m                                 Traceback (most recent call last)",
      "Input \u001b[1;32mIn [1]\u001b[0m, in \u001b[0;36m<cell line: 2>\u001b[1;34m()\u001b[0m\n\u001b[0;32m      1\u001b[0m a \u001b[38;5;241m=\u001b[39m \u001b[38;5;241m10\u001b[39m\n\u001b[1;32m----> 2\u001b[0m \u001b[43mb\u001b[49m \u001b[38;5;241m-\u001b[39m \u001b[38;5;241m20\u001b[39m\n\u001b[0;32m      3\u001b[0m c \u001b[38;5;241m=\u001b[39m \u001b[38;5;241m30\u001b[39m\n\u001b[0;32m      5\u001b[0m d \u001b[38;5;241m=\u001b[39m a\u001b[38;5;241m+\u001b[39mb\u001b[38;5;241m+\u001b[39mc\n",
      "\u001b[1;31mNameError\u001b[0m: name 'b' is not defined"
     ]
    }
   ],
   "source": [
    "a = 10\n",
    "b - 20\n",
    "c = 30\n",
    "\n",
    "d = a+b+c\n",
    "print(d)"
   ]
  },
  {
   "cell_type": "code",
   "execution_count": 4,
   "id": "9d421197",
   "metadata": {},
   "outputs": [
    {
     "name": "stdout",
     "output_type": "stream",
     "text": [
      "10\n"
     ]
    }
   ],
   "source": [
    "print(a)"
   ]
  },
  {
   "cell_type": "code",
   "execution_count": null,
   "id": "a76f2f94",
   "metadata": {},
   "outputs": [],
   "source": [
    "a ----> Ascii value 97 ----> 100001 "
   ]
  },
  {
   "cell_type": "code",
   "execution_count": null,
   "id": "026fc14c",
   "metadata": {},
   "outputs": [],
   "source": [
    "2   97\n",
    "2   48     1\n",
    "2   24     0\n",
    "2   12     0\n",
    "2   6      0\n",
    "2   3      0\n",
    "    1      1\n",
    "    \n",
    "    \n",
    "1100001"
   ]
  },
  {
   "cell_type": "code",
   "execution_count": null,
   "id": "9cf9db26",
   "metadata": {},
   "outputs": [],
   "source": [
    "# Ord is used to convert any charc to its Ascii value"
   ]
  },
  {
   "cell_type": "code",
   "execution_count": 41,
   "id": "69c21648",
   "metadata": {},
   "outputs": [
    {
     "data": {
      "text/plain": [
       "97"
      ]
     },
     "execution_count": 41,
     "metadata": {},
     "output_type": "execute_result"
    }
   ],
   "source": [
    "ord('a')"
   ]
  },
  {
   "cell_type": "code",
   "execution_count": null,
   "id": "042445c9",
   "metadata": {},
   "outputs": [],
   "source": [
    "# Bin is used to convert ascii value to binary"
   ]
  },
  {
   "cell_type": "code",
   "execution_count": 40,
   "id": "78f2538c",
   "metadata": {},
   "outputs": [
    {
     "data": {
      "text/plain": [
       "'0b1100001'"
      ]
     },
     "execution_count": 40,
     "metadata": {},
     "output_type": "execute_result"
    }
   ],
   "source": [
    "bin(97)"
   ]
  },
  {
   "cell_type": "code",
   "execution_count": 43,
   "id": "86a440ab",
   "metadata": {},
   "outputs": [
    {
     "data": {
      "text/plain": [
       "'0b1000001'"
      ]
     },
     "execution_count": 43,
     "metadata": {},
     "output_type": "execute_result"
    }
   ],
   "source": [
    "bin(ord('A'))"
   ]
  },
  {
   "cell_type": "code",
   "execution_count": null,
   "id": "5a654d4b",
   "metadata": {},
   "outputs": [],
   "source": [
    "# Covert binary to ascii then the char"
   ]
  },
  {
   "cell_type": "code",
   "execution_count": 47,
   "id": "30745518",
   "metadata": {},
   "outputs": [
    {
     "data": {
      "text/plain": [
       "'A'"
      ]
     },
     "execution_count": 47,
     "metadata": {},
     "output_type": "execute_result"
    }
   ],
   "source": [
    "chr(0b1000001)"
   ]
  },
  {
   "cell_type": "code",
   "execution_count": 52,
   "id": "dcb70467",
   "metadata": {},
   "outputs": [
    {
     "name": "stdout",
     "output_type": "stream",
     "text": [
      "65\n"
     ]
    }
   ],
   "source": [
    "print(0b1000001)"
   ]
  },
  {
   "cell_type": "code",
   "execution_count": 53,
   "id": "c740b00a",
   "metadata": {},
   "outputs": [
    {
     "data": {
      "text/plain": [
       "65"
      ]
     },
     "execution_count": 53,
     "metadata": {},
     "output_type": "execute_result"
    }
   ],
   "source": [
    "0b1000001"
   ]
  },
  {
   "cell_type": "markdown",
   "id": "a652f231",
   "metadata": {},
   "source": [
    "# What are identifiers?\n",
    "\n",
    "\n",
    "1. Allowed char are a-z , A-Z , 0-9 , _\n",
    "2. Not allowed char are special char\n",
    "3. You cannot start with a number \n",
    "4. It is case sensitive\n",
    "5. You cannot use keywords or reserved words"
   ]
  },
  {
   "cell_type": "code",
   "execution_count": 73,
   "id": "35557e81",
   "metadata": {},
   "outputs": [],
   "source": [
    "import keyword"
   ]
  },
  {
   "cell_type": "code",
   "execution_count": 74,
   "id": "7c034663",
   "metadata": {},
   "outputs": [
    {
     "name": "stdout",
     "output_type": "stream",
     "text": [
      "['False', 'None', 'True', '__peg_parser__', 'and', 'as', 'assert', 'async', 'await', 'break', 'class', 'continue', 'def', 'del', 'elif', 'else', 'except', 'finally', 'for', 'from', 'global', 'if', 'import', 'in', 'is', 'lambda', 'nonlocal', 'not', 'or', 'pass', 'raise', 'return', 'try', 'while', 'with', 'yield']\n"
     ]
    }
   ],
   "source": [
    "print(keyword.kwlist)"
   ]
  },
  {
   "cell_type": "code",
   "execution_count": 75,
   "id": "82146844",
   "metadata": {},
   "outputs": [
    {
     "ename": "SyntaxError",
     "evalue": "cannot assign to None (1936540096.py, line 1)",
     "output_type": "error",
     "traceback": [
      "\u001b[1;36m  Input \u001b[1;32mIn [75]\u001b[1;36m\u001b[0m\n\u001b[1;33m    None = 90\u001b[0m\n\u001b[1;37m    ^\u001b[0m\n\u001b[1;31mSyntaxError\u001b[0m\u001b[1;31m:\u001b[0m cannot assign to None\n"
     ]
    }
   ],
   "source": [
    "None = 90"
   ]
  },
  {
   "cell_type": "code",
   "execution_count": 82,
   "id": "7e7a6890",
   "metadata": {},
   "outputs": [
    {
     "ename": "SyntaxError",
     "evalue": "cannot assign to True (3186911229.py, line 1)",
     "output_type": "error",
     "traceback": [
      "\u001b[1;36m  Input \u001b[1;32mIn [82]\u001b[1;36m\u001b[0m\n\u001b[1;33m    True = 50\u001b[0m\n\u001b[1;37m    ^\u001b[0m\n\u001b[1;31mSyntaxError\u001b[0m\u001b[1;31m:\u001b[0m cannot assign to True\n"
     ]
    }
   ],
   "source": [
    "True = 50"
   ]
  },
  {
   "cell_type": "code",
   "execution_count": 77,
   "id": "b7de6252",
   "metadata": {},
   "outputs": [
    {
     "name": "stdout",
     "output_type": "stream",
     "text": [
      "['ArithmeticError', 'AssertionError', 'AttributeError', 'BaseException', 'BlockingIOError', 'BrokenPipeError', 'BufferError', 'BytesWarning', 'ChildProcessError', 'ConnectionAbortedError', 'ConnectionError', 'ConnectionRefusedError', 'ConnectionResetError', 'DeprecationWarning', 'EOFError', 'Ellipsis', 'EnvironmentError', 'Exception', 'False', 'FileExistsError', 'FileNotFoundError', 'FloatingPointError', 'FutureWarning', 'GeneratorExit', 'IOError', 'ImportError', 'ImportWarning', 'IndentationError', 'IndexError', 'InterruptedError', 'IsADirectoryError', 'KeyError', 'KeyboardInterrupt', 'LookupError', 'MemoryError', 'ModuleNotFoundError', 'NameError', 'None', 'NotADirectoryError', 'NotImplemented', 'NotImplementedError', 'OSError', 'OverflowError', 'PendingDeprecationWarning', 'PermissionError', 'ProcessLookupError', 'RecursionError', 'ReferenceError', 'ResourceWarning', 'RuntimeError', 'RuntimeWarning', 'StopAsyncIteration', 'StopIteration', 'SyntaxError', 'SyntaxWarning', 'SystemError', 'SystemExit', 'TabError', 'TimeoutError', 'True', 'TypeError', 'UnboundLocalError', 'UnicodeDecodeError', 'UnicodeEncodeError', 'UnicodeError', 'UnicodeTranslateError', 'UnicodeWarning', 'UserWarning', 'ValueError', 'Warning', 'WindowsError', 'ZeroDivisionError', '__IPYTHON__', '__build_class__', '__debug__', '__doc__', '__import__', '__loader__', '__name__', '__package__', '__spec__', 'abs', 'all', 'any', 'ascii', 'bin', 'bool', 'breakpoint', 'bytearray', 'bytes', 'callable', 'chr', 'classmethod', 'compile', 'complex', 'copyright', 'credits', 'delattr', 'dict', 'dir', 'display', 'divmod', 'enumerate', 'eval', 'exec', 'execfile', 'filter', 'float', 'format', 'frozenset', 'get_ipython', 'getattr', 'globals', 'hasattr', 'hash', 'help', 'hex', 'id', 'input', 'int', 'isinstance', 'issubclass', 'iter', 'len', 'license', 'list', 'locals', 'map', 'max', 'memoryview', 'min', 'next', 'object', 'oct', 'open', 'ord', 'pow', 'print', 'property', 'range', 'repr', 'reversed', 'round', 'runfile', 'set', 'setattr', 'slice', 'sorted', 'staticmethod', 'str', 'sum', 'super', 'tuple', 'type', 'vars', 'zip']\n"
     ]
    }
   ],
   "source": [
    "print(dir(__builtins__))"
   ]
  },
  {
   "cell_type": "code",
   "execution_count": 78,
   "id": "a887481f",
   "metadata": {},
   "outputs": [
    {
     "name": "stdout",
     "output_type": "stream",
     "text": [
      "hello\n"
     ]
    }
   ],
   "source": [
    "print('hello')"
   ]
  },
  {
   "cell_type": "code",
   "execution_count": 79,
   "id": "9b885720",
   "metadata": {},
   "outputs": [],
   "source": [
    "print = 30"
   ]
  },
  {
   "cell_type": "code",
   "execution_count": 80,
   "id": "fdaa7c43",
   "metadata": {},
   "outputs": [
    {
     "ename": "TypeError",
     "evalue": "'int' object is not callable",
     "output_type": "error",
     "traceback": [
      "\u001b[1;31m---------------------------------------------------------------------------\u001b[0m",
      "\u001b[1;31mTypeError\u001b[0m                                 Traceback (most recent call last)",
      "Input \u001b[1;32mIn [80]\u001b[0m, in \u001b[0;36m<cell line: 1>\u001b[1;34m()\u001b[0m\n\u001b[1;32m----> 1\u001b[0m \u001b[38;5;28;43mprint\u001b[39;49m\u001b[43m(\u001b[49m\u001b[38;5;124;43m'\u001b[39;49m\u001b[38;5;124;43mhello\u001b[39;49m\u001b[38;5;124;43m'\u001b[39;49m\u001b[43m)\u001b[49m\n",
      "\u001b[1;31mTypeError\u001b[0m: 'int' object is not callable"
     ]
    }
   ],
   "source": [
    "print('hello')"
   ]
  },
  {
   "cell_type": "code",
   "execution_count": 81,
   "id": "cba6811e",
   "metadata": {},
   "outputs": [
    {
     "data": {
      "text/plain": [
       "30"
      ]
     },
     "execution_count": 81,
     "metadata": {},
     "output_type": "execute_result"
    }
   ],
   "source": [
    "print"
   ]
  },
  {
   "cell_type": "code",
   "execution_count": 17,
   "id": "667f7504",
   "metadata": {},
   "outputs": [],
   "source": [
    "a = 10"
   ]
  },
  {
   "cell_type": "code",
   "execution_count": 8,
   "id": "fc99c1be",
   "metadata": {},
   "outputs": [],
   "source": [
    "b = 20"
   ]
  },
  {
   "cell_type": "code",
   "execution_count": 10,
   "id": "6ebf1fe4",
   "metadata": {},
   "outputs": [
    {
     "name": "stdout",
     "output_type": "stream",
     "text": [
      "10\n"
     ]
    }
   ],
   "source": [
    "print(a)"
   ]
  },
  {
   "cell_type": "code",
   "execution_count": 15,
   "id": "e9ea0980",
   "metadata": {},
   "outputs": [
    {
     "name": "stdout",
     "output_type": "stream",
     "text": [
      "50\n"
     ]
    }
   ],
   "source": [
    "a = 50\n",
    "print(a)"
   ]
  },
  {
   "cell_type": "code",
   "execution_count": 18,
   "id": "7f04cb6e",
   "metadata": {},
   "outputs": [
    {
     "data": {
      "text/plain": [
       "10"
      ]
     },
     "execution_count": 18,
     "metadata": {},
     "output_type": "execute_result"
    }
   ],
   "source": [
    "a"
   ]
  },
  {
   "cell_type": "code",
   "execution_count": 20,
   "id": "d0c77142",
   "metadata": {},
   "outputs": [
    {
     "name": "stdout",
     "output_type": "stream",
     "text": [
      "['ArithmeticError', 'AssertionError', 'AttributeError', 'BaseException', 'BlockingIOError', 'BrokenPipeError', 'BufferError', 'BytesWarning', 'ChildProcessError', 'ConnectionAbortedError', 'ConnectionError', 'ConnectionRefusedError', 'ConnectionResetError', 'DeprecationWarning', 'EOFError', 'Ellipsis', 'EnvironmentError', 'Exception', 'False', 'FileExistsError', 'FileNotFoundError', 'FloatingPointError', 'FutureWarning', 'GeneratorExit', 'IOError', 'ImportError', 'ImportWarning', 'IndentationError', 'IndexError', 'InterruptedError', 'IsADirectoryError', 'KeyError', 'KeyboardInterrupt', 'LookupError', 'MemoryError', 'ModuleNotFoundError', 'NameError', 'None', 'NotADirectoryError', 'NotImplemented', 'NotImplementedError', 'OSError', 'OverflowError', 'PendingDeprecationWarning', 'PermissionError', 'ProcessLookupError', 'RecursionError', 'ReferenceError', 'ResourceWarning', 'RuntimeError', 'RuntimeWarning', 'StopAsyncIteration', 'StopIteration', 'SyntaxError', 'SyntaxWarning', 'SystemError', 'SystemExit', 'TabError', 'TimeoutError', 'True', 'TypeError', 'UnboundLocalError', 'UnicodeDecodeError', 'UnicodeEncodeError', 'UnicodeError', 'UnicodeTranslateError', 'UnicodeWarning', 'UserWarning', 'ValueError', 'Warning', 'WindowsError', 'ZeroDivisionError', '__IPYTHON__', '__build_class__', '__debug__', '__doc__', '__import__', '__loader__', '__name__', '__package__', '__spec__', 'abs', 'all', 'any', 'ascii', 'bin', 'bool', 'breakpoint', 'bytearray', 'bytes', 'callable', 'chr', 'classmethod', 'compile', 'complex', 'copyright', 'credits', 'delattr', 'dict', 'dir', 'display', 'divmod', 'enumerate', 'eval', 'exec', 'execfile', 'filter', 'float', 'format', 'frozenset', 'get_ipython', 'getattr', 'globals', 'hasattr', 'hash', 'help', 'hex', 'id', 'input', 'int', 'isinstance', 'issubclass', 'iter', 'len', 'license', 'list', 'locals', 'map', 'max', 'memoryview', 'min', 'next', 'object', 'oct', 'open', 'ord', 'pow', 'print', 'property', 'range', 'repr', 'reversed', 'round', 'runfile', 'set', 'setattr', 'slice', 'sorted', 'staticmethod', 'str', 'sum', 'super', 'tuple', 'type', 'vars', 'zip']\n"
     ]
    }
   ],
   "source": [
    "print(dir(__builtins__))"
   ]
  },
  {
   "cell_type": "code",
   "execution_count": null,
   "id": "73d79b80",
   "metadata": {},
   "outputs": [],
   "source": [
    "# Why python?\n",
    "\n",
    "1. Open source\n",
    "2. easy syntax\n",
    "3. It supports many libraries and packages\n",
    "4. Dynamic"
   ]
  },
  {
   "cell_type": "code",
   "execution_count": 5,
   "id": "44cc56cc",
   "metadata": {},
   "outputs": [
    {
     "name": "stdout",
     "output_type": "stream",
     "text": [
      "Hello world\n"
     ]
    }
   ],
   "source": [
    "# python\n",
    "\n",
    "print('Hello world')\n",
    "\n",
    "\n",
    "# Java\n",
    "public class helloworld\n",
    "{\n",
    "    public static void main( string args[])\n",
    "    {\n",
    "        system.put.println('hello world')\n",
    "    }\n",
    "}\n",
    "\n",
    "# c\n",
    "include<std.io>\n",
    "void main()\n",
    "{\n",
    "    print('hello world')\n",
    "}"
   ]
  },
  {
   "cell_type": "code",
   "execution_count": null,
   "id": "bbc7cb67",
   "metadata": {},
   "outputs": [],
   "source": [
    "# Dynamic\n",
    "c , c++ , java , statically typed language\n",
    "\n",
    "int a = 10.5"
   ]
  },
  {
   "cell_type": "code",
   "execution_count": 8,
   "id": "5a5c4913",
   "metadata": {},
   "outputs": [
    {
     "data": {
      "text/plain": [
       "float"
      ]
     },
     "execution_count": 8,
     "metadata": {},
     "output_type": "execute_result"
    }
   ],
   "source": [
    "a = 10.6\n",
    "type(a)"
   ]
  },
  {
   "cell_type": "markdown",
   "id": "437e7631",
   "metadata": {},
   "source": [
    "# Different ways to execute the python file\n",
    "\n",
    "1. Jupyter notebook\n",
    "2. Python interpretor\n",
    "3. Python file and run it through the terminal"
   ]
  },
  {
   "cell_type": "code",
   "execution_count": 11,
   "id": "55240e6e",
   "metadata": {},
   "outputs": [
    {
     "name": "stdout",
     "output_type": "stream",
     "text": [
      "10\n"
     ]
    }
   ],
   "source": [
    "a = 10\n",
    "print(a)"
   ]
  },
  {
   "cell_type": "markdown",
   "id": "d84aea22",
   "metadata": {},
   "source": [
    "- extension of python file .py\n",
    "- extension of jupyter notebook is .ipynb"
   ]
  },
  {
   "cell_type": "code",
   "execution_count": null,
   "id": "a5734c24",
   "metadata": {},
   "outputs": [],
   "source": [
    "- ls - list al the files in the directory\n",
    "- pwd ---> present working directory\n",
    "- cd --> it is used to get inside a folder\n",
    "- cd .. --> used to get back one folder"
   ]
  },
  {
   "cell_type": "code",
   "execution_count": 12,
   "id": "8fd39f92",
   "metadata": {},
   "outputs": [
    {
     "data": {
      "text/plain": [
       "'C:\\\\Users\\\\MIT\\\\Desktop\\\\ongoing classes\\\\9th oct'"
      ]
     },
     "execution_count": 12,
     "metadata": {},
     "output_type": "execute_result"
    }
   ],
   "source": [
    "pwd"
   ]
  },
  {
   "cell_type": "markdown",
   "id": "f3540a0f",
   "metadata": {},
   "source": [
    "# Datatypes"
   ]
  }
 ],
 "metadata": {
  "kernelspec": {
   "display_name": "Python 3 (ipykernel)",
   "language": "python",
   "name": "python3"
  },
  "language_info": {
   "codemirror_mode": {
    "name": "ipython",
    "version": 3
   },
   "file_extension": ".py",
   "mimetype": "text/x-python",
   "name": "python",
   "nbconvert_exporter": "python",
   "pygments_lexer": "ipython3",
   "version": "3.9.12"
  }
 },
 "nbformat": 4,
 "nbformat_minor": 5
}
