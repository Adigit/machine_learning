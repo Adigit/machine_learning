{
 "cells": [
  {
   "cell_type": "code",
   "execution_count": null,
   "id": "be3fed4d",
   "metadata": {},
   "outputs": [],
   "source": [
    "# MEAN MEDIAN IQR"
   ]
  },
  {
   "cell_type": "code",
   "execution_count": 1,
   "id": "fa13a687",
   "metadata": {},
   "outputs": [],
   "source": [
    "import pandas as pd # to create data frame and working on rows columns\n",
    "import numpy as np # help in mathematical calculation"
   ]
  },
  {
   "cell_type": "code",
   "execution_count": null,
   "id": "96e95b2d",
   "metadata": {},
   "outputs": [],
   "source": [
    "# create a basic dataset"
   ]
  },
  {
   "cell_type": "code",
   "execution_count": 3,
   "id": "0f02be71",
   "metadata": {},
   "outputs": [
    {
     "data": {
      "text/plain": [
       "array([22, 60, 38, 14,  6, 49, 29, 16, 27, 78, 47, 90, 18, 33, 11, 39, 90,\n",
       "       31, 20, 75, 93, 59, 42,  8, 18, 88, 96, 13, 72, 94, 82, 68, 60, 65,\n",
       "       57, 78, 56, 66, 60, 70, 64, 94, 36, 65, 40, 13, 35, 89,  4, 24, 94,\n",
       "       57, 74, 26, 38, 52, 49, 86, 97,  9, 25, 29, 11, 19, 97, 68, 32, 43,\n",
       "       49,  3, 75, 86, 68,  6, 47, 75, 58, 81, 36, 18, 61, 44, 87, 86, 70,\n",
       "       52, 86, 49, 71, 43, 49,  8, 95, 35, 18, 77, 19, 93, 47, 22, 51, 13,\n",
       "       87, 36, 83, 23, 15,  6, 95, 83, 93, 26, 58, 74,  6, 19, 85, 42, 59,\n",
       "       70, 29, 13, 93, 28,  8,  9, 39, 75, 28, 20,  8,  3, 93, 88, 66, 73,\n",
       "       59,  9, 74, 84, 76, 38, 29, 12, 53, 39, 96, 64, 42, 52, 65,  6, 81,\n",
       "       42, 13, 56, 72, 91, 36, 93, 34,  8, 28, 88,  3, 79, 39, 45, 50, 14,\n",
       "       91, 31, 45,  7, 93, 14, 20, 17,  0, 81, 26, 96, 75, 73, 82, 25, 88,\n",
       "       36, 81,  6, 69, 17, 50, 86,  9, 77, 70, 84, 29, 69, 72, 39, 20, 57,\n",
       "       51, 20, 96, 71, 30, 11, 14, 73, 28, 31, 15, 72, 89, 49, 19, 27, 47,\n",
       "       80, 72, 21, 77, 95,  3, 67, 75,  6, 83, 79, 22, 15, 30, 53, 16, 81,\n",
       "       23, 47, 92, 11, 31, 64, 71, 32, 77, 44, 15, 14, 47, 24, 85, 11, 35,\n",
       "       58, 78, 65, 39, 96, 37, 85, 99, 66, 73, 78, 64, 80, 40, 39, 89, 71,\n",
       "       76, 40, 58, 15, 83, 64, 54, 44, 70, 12, 80, 52, 73, 96, 39, 36, 55,\n",
       "        6, 73, 97, 40, 29, 73, 44, 19, 68, 67, 21, 92, 36, 47, 51, 33, 38,\n",
       "       78, 28, 99,  9, 24, 80, 26, 99, 98, 29, 53, 97, 39, 75, 42, 12, 40,\n",
       "       64, 76, 67, 85, 62, 93,  3, 88,  3, 94, 33, 19, 53, 67, 16, 57, 66,\n",
       "       73, 10, 94, 40, 24, 78, 63, 21, 18, 29, 33, 70, 36,  6, 13, 59, 74,\n",
       "       70, 95, 58, 56, 18,  1, 94, 24, 11, 85, 22, 28, 41, 59,  7, 86, 20,\n",
       "       54, 10, 77,  8, 41, 88, 22, 38, 18, 20, 13, 61, 35, 66, 48, 47, 97,\n",
       "        4, 14, 40, 50, 45, 23, 74, 77, 90, 46, 90, 97, 61, 55, 49, 25, 18,\n",
       "       81, 43, 10, 82, 44, 90, 14, 62, 33, 55, 48, 25, 79, 35,  1, 95, 25,\n",
       "       17, 94, 59, 43, 46, 55, 29, 21, 90, 40, 64, 66,  7, 28, 13, 69, 18,\n",
       "       96, 18, 14, 47, 75, 88, 80, 24, 77, 22,  6, 13, 87, 52, 92, 17,  3,\n",
       "       20, 75, 93, 43,  4, 27, 99, 84, 23, 99, 55, 71, 53, 35, 57, 44, 83,\n",
       "       77, 52, 43, 27, 86, 92, 86, 33, 82, 82, 10, 82, 71, 35, 83, 42, 68,\n",
       "       73, 69, 62, 82, 83, 82, 51, 42, 80, 40, 52, 30, 22, 28, 76, 98,  1,\n",
       "       72, 14,  6, 16, 57, 67,  1, 36, 52, 98, 37, 76, 62, 73, 33, 16,  8,\n",
       "       72, 97, 80, 64, 70, 89, 22, 79, 24, 84, 36, 82, 55, 74,  2,  4, 25,\n",
       "       65, 68, 50, 64,  9, 19, 99, 32, 56, 97, 27, 71, 92, 12, 31, 27, 74,\n",
       "       93, 80, 60, 80, 78, 83, 38, 37, 46, 15, 43, 39, 56, 31, 57, 54, 77,\n",
       "       20,  9, 91, 37, 90, 66, 47, 63, 12, 95, 65,  7, 55, 11, 48, 45, 12,\n",
       "       88,  7, 92, 66, 65, 25, 35, 77, 14, 84, 59, 65, 51, 90, 44, 10, 90,\n",
       "       21,  9, 94, 53, 79,  1, 15, 46, 26, 55, 67, 69,  0, 88, 40, 72,  2,\n",
       "       33, 57, 78, 86, 58, 34, 59, 31,  1, 37, 79, 46, 34, 87, 16, 99, 62,\n",
       "        6, 94, 68, 35, 38, 83, 82, 46, 64, 29, 68, 93, 42, 50, 11, 45, 75,\n",
       "       79, 27, 94, 61, 54, 98, 38, 24, 65, 77, 67, 76, 98, 70, 75, 14, 36,\n",
       "       37, 10, 36, 77, 84, 97, 40,  2, 58,  9, 53, 28, 14,  7, 65, 98, 63,\n",
       "       18, 64, 77, 26, 71, 53, 46, 79, 52, 59, 52, 72, 89, 70, 67, 45, 92,\n",
       "        1, 65, 80, 34, 84, 96,  0, 11, 93, 78, 87, 37, 68,  3, 76, 14, 82,\n",
       "       91, 71, 24, 85, 11, 35, 49, 90, 58, 82, 47, 19,  6, 18, 42, 57, 11,\n",
       "       25,  8, 32, 52, 46, 57, 36, 10, 25, 28, 92, 15, 89, 60, 57, 25, 16,\n",
       "       84, 99, 67, 29, 50, 51, 15, 32, 10, 42, 92, 98, 55, 12, 26, 13, 48,\n",
       "       95, 25, 81, 89, 42, 13, 61, 22, 68, 12, 23, 71, 23, 37, 42, 16, 45,\n",
       "        5, 83, 63, 71,  8, 13, 25, 17, 94, 46, 53, 29, 60, 64, 62, 57, 15,\n",
       "       61, 81,  4, 42, 88, 24, 72, 95, 84,  7, 21, 29, 19,  7, 14,  4, 74,\n",
       "       69, 14, 99, 18, 42, 72, 45,  1,  1, 36,  0, 43, 11, 77, 62, 93,  1,\n",
       "       71, 80, 66, 36, 42, 45, 96, 21,  1, 33, 37, 76, 73, 22, 92, 80,  0,\n",
       "       41, 91, 59, 20, 89, 26, 73, 65,  8, 70, 76, 48, 83, 43, 92, 52, 50,\n",
       "       19, 47, 46, 10, 14, 59, 63, 67,  7, 94, 52, 10, 73, 84, 56, 42, 89,\n",
       "        9, 72, 74, 16, 43,  0, 42, 29, 41, 84, 93, 50, 84, 39, 22, 84,  1,\n",
       "       51, 26, 16, 34, 15, 94, 59, 73,  2,  6, 29, 50, 28,  5, 60, 25, 83,\n",
       "       27, 49, 33,  6, 21, 39, 23, 29, 57, 75, 70, 29, 92, 18, 16, 14, 86,\n",
       "       38, 54, 41, 42, 14, 15,  1, 83, 71, 57,  5, 59, 77, 59, 67, 84, 44,\n",
       "       38, 70, 20, 30, 52, 12,  1, 85, 61, 81, 86, 41, 82, 48, 74, 47, 50,\n",
       "       33, 68, 65, 29, 41,  6, 22, 39, 43, 83, 27, 40, 38, 83])"
      ]
     },
     "execution_count": 3,
     "metadata": {},
     "output_type": "execute_result"
    }
   ],
   "source": [
    "dataset=np.random.randint(0,100,1000)\n",
    "dataset"
   ]
  },
  {
   "cell_type": "code",
   "execution_count": 4,
   "id": "f824a2d2",
   "metadata": {},
   "outputs": [
    {
     "data": {
      "text/plain": [
       "numpy.ndarray"
      ]
     },
     "execution_count": 4,
     "metadata": {},
     "output_type": "execute_result"
    }
   ],
   "source": [
    "type(dataset)"
   ]
  },
  {
   "cell_type": "code",
   "execution_count": 7,
   "id": "77111fa4",
   "metadata": {},
   "outputs": [],
   "source": [
    "# creating a smaple size of 50\n",
    "dataset_1=np.random.choice(dataset,50)"
   ]
  },
  {
   "cell_type": "code",
   "execution_count": 8,
   "id": "02f61705",
   "metadata": {},
   "outputs": [
    {
     "data": {
      "text/plain": [
       "array([81, 44, 54, 62, 13, 94, 18, 28, 93, 84, 21, 34, 13,  6, 92, 44, 98,\n",
       "       59, 66, 62, 89, 19, 83, 67, 77, 30, 47, 58, 43, 96, 13, 64, 43, 34,\n",
       "       90, 47, 74, 84, 18, 52, 36, 14, 56, 79, 59, 78, 86, 12, 63, 25])"
      ]
     },
     "execution_count": 8,
     "metadata": {},
     "output_type": "execute_result"
    }
   ],
   "source": [
    "dataset_1"
   ]
  },
  {
   "cell_type": "code",
   "execution_count": 9,
   "id": "e54c18c7",
   "metadata": {},
   "outputs": [
    {
     "data": {
      "text/plain": [
       "54.04"
      ]
     },
     "execution_count": 9,
     "metadata": {},
     "output_type": "execute_result"
    }
   ],
   "source": [
    "mean_1=np.mean(dataset_1)\n",
    "mean_1"
   ]
  },
  {
   "cell_type": "code",
   "execution_count": 10,
   "id": "19fae047",
   "metadata": {},
   "outputs": [],
   "source": [
    "# creating a smaple size of 100\n",
    "dataset_2=np.random.choice(dataset,100)"
   ]
  },
  {
   "cell_type": "code",
   "execution_count": 11,
   "id": "d5d8a07f",
   "metadata": {},
   "outputs": [
    {
     "data": {
      "text/plain": [
       "47.11"
      ]
     },
     "execution_count": 11,
     "metadata": {},
     "output_type": "execute_result"
    }
   ],
   "source": [
    "mean_2=np.mean(dataset_2)\n",
    "mean_2"
   ]
  },
  {
   "cell_type": "code",
   "execution_count": null,
   "id": "8e2fbe87",
   "metadata": {},
   "outputs": [],
   "source": [
    "#median"
   ]
  },
  {
   "cell_type": "code",
   "execution_count": 12,
   "id": "92904134",
   "metadata": {},
   "outputs": [
    {
     "name": "stdout",
     "output_type": "stream",
     "text": [
      "57.0\n"
     ]
    }
   ],
   "source": [
    "print(np.median(dataset_1))"
   ]
  },
  {
   "cell_type": "code",
   "execution_count": 13,
   "id": "7c9093d7",
   "metadata": {},
   "outputs": [
    {
     "name": "stdout",
     "output_type": "stream",
     "text": [
      "41.5\n"
     ]
    }
   ],
   "source": [
    "print(np.median(dataset_2))"
   ]
  },
  {
   "cell_type": "code",
   "execution_count": 15,
   "id": "9d4c535b",
   "metadata": {},
   "outputs": [],
   "source": [
    "# mode"
   ]
  },
  {
   "cell_type": "code",
   "execution_count": 17,
   "id": "82bc4652",
   "metadata": {},
   "outputs": [],
   "source": [
    "from scipy.stats import mode"
   ]
  },
  {
   "cell_type": "code",
   "execution_count": 18,
   "id": "f983ea8f",
   "metadata": {},
   "outputs": [
    {
     "name": "stdout",
     "output_type": "stream",
     "text": [
      "ModeResult(mode=array([14]), count=array([18]))\n"
     ]
    },
    {
     "name": "stderr",
     "output_type": "stream",
     "text": [
      "/var/folders/n8/hbs6yz1x4p7290wpzcp40ddw0000gn/T/ipykernel_10084/1876234544.py:1: FutureWarning: Unlike other reduction functions (e.g. `skew`, `kurtosis`), the default behavior of `mode` typically preserves the axis it acts along. In SciPy 1.11.0, this behavior will change: the default value of `keepdims` will become False, the `axis` over which the statistic is taken will be eliminated, and the value None will no longer be accepted. Set `keepdims` to True or False to avoid this warning.\n",
      "  print(mode(dataset))\n"
     ]
    }
   ],
   "source": [
    "print(mode(dataset))"
   ]
  },
  {
   "cell_type": "code",
   "execution_count": 20,
   "id": "46b2ea89",
   "metadata": {},
   "outputs": [
    {
     "name": "stdout",
     "output_type": "stream",
     "text": [
      "ModeResult(mode=array([13]), count=array([3]))\n"
     ]
    },
    {
     "name": "stderr",
     "output_type": "stream",
     "text": [
      "/var/folders/n8/hbs6yz1x4p7290wpzcp40ddw0000gn/T/ipykernel_10084/2074171528.py:1: FutureWarning: Unlike other reduction functions (e.g. `skew`, `kurtosis`), the default behavior of `mode` typically preserves the axis it acts along. In SciPy 1.11.0, this behavior will change: the default value of `keepdims` will become False, the `axis` over which the statistic is taken will be eliminated, and the value None will no longer be accepted. Set `keepdims` to True or False to avoid this warning.\n",
      "  print(mode(dataset_1))\n"
     ]
    }
   ],
   "source": [
    "print(mode(dataset_1))"
   ]
  },
  {
   "cell_type": "code",
   "execution_count": 21,
   "id": "b2f3a412",
   "metadata": {},
   "outputs": [
    {
     "name": "stdout",
     "output_type": "stream",
     "text": [
      "ModeResult(mode=array([86]), count=array([6]))\n"
     ]
    },
    {
     "name": "stderr",
     "output_type": "stream",
     "text": [
      "/var/folders/n8/hbs6yz1x4p7290wpzcp40ddw0000gn/T/ipykernel_10084/597741026.py:1: FutureWarning: Unlike other reduction functions (e.g. `skew`, `kurtosis`), the default behavior of `mode` typically preserves the axis it acts along. In SciPy 1.11.0, this behavior will change: the default value of `keepdims` will become False, the `axis` over which the statistic is taken will be eliminated, and the value None will no longer be accepted. Set `keepdims` to True or False to avoid this warning.\n",
      "  print(mode(dataset_2))\n"
     ]
    }
   ],
   "source": [
    "print(mode(dataset_2))"
   ]
  },
  {
   "cell_type": "code",
   "execution_count": null,
   "id": "11b35118",
   "metadata": {},
   "outputs": [],
   "source": [
    "# variance"
   ]
  },
  {
   "cell_type": "code",
   "execution_count": 22,
   "id": "a1a430bb",
   "metadata": {},
   "outputs": [
    {
     "name": "stdout",
     "output_type": "stream",
     "text": [
      "817.381104\n"
     ]
    }
   ],
   "source": [
    "print(np.var(dataset))"
   ]
  },
  {
   "cell_type": "code",
   "execution_count": 23,
   "id": "6a080001",
   "metadata": {},
   "outputs": [
    {
     "name": "stdout",
     "output_type": "stream",
     "text": [
      "747.5984000000001\n"
     ]
    }
   ],
   "source": [
    "print(np.var(dataset_1))"
   ]
  },
  {
   "cell_type": "code",
   "execution_count": null,
   "id": "d5ca70ba",
   "metadata": {},
   "outputs": [],
   "source": [
    "# population variance"
   ]
  },
  {
   "cell_type": "code",
   "execution_count": 25,
   "id": "b968c438",
   "metadata": {},
   "outputs": [
    {
     "data": {
      "text/plain": [
       "817"
      ]
     },
     "execution_count": 25,
     "metadata": {},
     "output_type": "execute_result"
    }
   ],
   "source": [
    "from statistics import pvariance\n",
    "pvariance(dataset)"
   ]
  },
  {
   "cell_type": "code",
   "execution_count": 26,
   "id": "d2e0e4f8",
   "metadata": {},
   "outputs": [
    {
     "data": {
      "text/plain": [
       "28.583211855912904"
      ]
     },
     "execution_count": 26,
     "metadata": {},
     "output_type": "execute_result"
    }
   ],
   "source": [
    "# population SD\n",
    "from statistics import pstdev\n",
    "pstdev(dataset)"
   ]
  },
  {
   "cell_type": "code",
   "execution_count": null,
   "id": "9188b282",
   "metadata": {},
   "outputs": [],
   "source": [
    "# standard deviation"
   ]
  },
  {
   "cell_type": "code",
   "execution_count": 30,
   "id": "f0040af6",
   "metadata": {},
   "outputs": [],
   "source": [
    "# by default sample SD\n",
    "from statistics import stdev"
   ]
  },
  {
   "cell_type": "code",
   "execution_count": 33,
   "id": "d9fb1ff2",
   "metadata": {},
   "outputs": [
    {
     "data": {
      "text/plain": [
       "28.600699292150182"
      ]
     },
     "execution_count": 33,
     "metadata": {},
     "output_type": "execute_result"
    }
   ],
   "source": [
    "stdev(dataset)"
   ]
  },
  {
   "cell_type": "code",
   "execution_count": null,
   "id": "f4ce094f",
   "metadata": {},
   "outputs": [],
   "source": [
    "# range "
   ]
  },
  {
   "cell_type": "code",
   "execution_count": 34,
   "id": "cb8f2dd4",
   "metadata": {},
   "outputs": [
    {
     "data": {
      "text/plain": [
       "99"
      ]
     },
     "execution_count": 34,
     "metadata": {},
     "output_type": "execute_result"
    }
   ],
   "source": [
    "max(dataset)"
   ]
  },
  {
   "cell_type": "code",
   "execution_count": 35,
   "id": "be4ab6ba",
   "metadata": {},
   "outputs": [
    {
     "data": {
      "text/plain": [
       "0"
      ]
     },
     "execution_count": 35,
     "metadata": {},
     "output_type": "execute_result"
    }
   ],
   "source": [
    "min(dataset)"
   ]
  },
  {
   "cell_type": "code",
   "execution_count": null,
   "id": "741503c7",
   "metadata": {},
   "outputs": [],
   "source": [
    "# Quantile "
   ]
  },
  {
   "cell_type": "code",
   "execution_count": 36,
   "id": "85f1e133",
   "metadata": {},
   "outputs": [],
   "source": [
    "Q1=np.percentile(dataset,25)"
   ]
  },
  {
   "cell_type": "code",
   "execution_count": 37,
   "id": "e8f4b818",
   "metadata": {},
   "outputs": [
    {
     "data": {
      "text/plain": [
       "25.0"
      ]
     },
     "execution_count": 37,
     "metadata": {},
     "output_type": "execute_result"
    }
   ],
   "source": [
    "Q1"
   ]
  },
  {
   "cell_type": "code",
   "execution_count": 38,
   "id": "0e95c2e9",
   "metadata": {},
   "outputs": [
    {
     "data": {
      "text/plain": [
       "49.5"
      ]
     },
     "execution_count": 38,
     "metadata": {},
     "output_type": "execute_result"
    }
   ],
   "source": [
    "Q2=np.percentile(dataset,50)\n",
    "Q2"
   ]
  },
  {
   "cell_type": "code",
   "execution_count": 39,
   "id": "7c2c334d",
   "metadata": {},
   "outputs": [
    {
     "data": {
      "text/plain": [
       "75.0"
      ]
     },
     "execution_count": 39,
     "metadata": {},
     "output_type": "execute_result"
    }
   ],
   "source": [
    "Q3=np.percentile(dataset,75)\n",
    "Q3"
   ]
  },
  {
   "cell_type": "code",
   "execution_count": 40,
   "id": "96b82e23",
   "metadata": {},
   "outputs": [
    {
     "data": {
      "text/plain": [
       "54.5"
      ]
     },
     "execution_count": 40,
     "metadata": {},
     "output_type": "execute_result"
    }
   ],
   "source": [
    "Q2=np.percentile(dataset+5,50)\n",
    "Q2"
   ]
  },
  {
   "cell_type": "code",
   "execution_count": 42,
   "id": "fffc6a79",
   "metadata": {},
   "outputs": [
    {
     "data": {
      "text/plain": [
       "95.0"
      ]
     },
     "execution_count": 42,
     "metadata": {},
     "output_type": "execute_result"
    }
   ],
   "source": [
    "Q3=np.percentile(dataset+20,75)\n",
    "Q3"
   ]
  },
  {
   "cell_type": "code",
   "execution_count": 43,
   "id": "990b8697",
   "metadata": {},
   "outputs": [
    {
     "data": {
      "text/plain": [
       "70.0"
      ]
     },
     "execution_count": 43,
     "metadata": {},
     "output_type": "execute_result"
    }
   ],
   "source": [
    "IQR=Q3-Q1\n",
    "IQR"
   ]
  },
  {
   "cell_type": "code",
   "execution_count": 44,
   "id": "caee072a",
   "metadata": {},
   "outputs": [
    {
     "data": {
      "text/plain": [
       "-80.0"
      ]
     },
     "execution_count": 44,
     "metadata": {},
     "output_type": "execute_result"
    }
   ],
   "source": [
    "Min_neg_range=Q1-1.5*IQR\n",
    "Min_neg_range"
   ]
  },
  {
   "cell_type": "code",
   "execution_count": 45,
   "id": "22a9f9d5",
   "metadata": {},
   "outputs": [
    {
     "data": {
      "text/plain": [
       "200.0"
      ]
     },
     "execution_count": 45,
     "metadata": {},
     "output_type": "execute_result"
    }
   ],
   "source": [
    "MAX_POS_range=Q3+1.5*IQR\n",
    "MAX_POS_range"
   ]
  },
  {
   "cell_type": "code",
   "execution_count": null,
   "id": "562f7fac",
   "metadata": {},
   "outputs": [],
   "source": []
  }
 ],
 "metadata": {
  "kernelspec": {
   "display_name": "Python 3 (ipykernel)",
   "language": "python",
   "name": "python3"
  },
  "language_info": {
   "codemirror_mode": {
    "name": "ipython",
    "version": 3
   },
   "file_extension": ".py",
   "mimetype": "text/x-python",
   "name": "python",
   "nbconvert_exporter": "python",
   "pygments_lexer": "ipython3",
   "version": "3.9.13"
  }
 },
 "nbformat": 4,
 "nbformat_minor": 5
}
