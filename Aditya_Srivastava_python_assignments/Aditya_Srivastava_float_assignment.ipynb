{
 "cells": [
  {
   "cell_type": "markdown",
   "id": "aafaee0c",
   "metadata": {},
   "source": [
    "# Declare a float value and store it in a variable. Check the type and print the id of the same."
   ]
  },
  {
   "cell_type": "code",
   "execution_count": 2,
   "id": "4274f808",
   "metadata": {},
   "outputs": [
    {
     "name": "stdout",
     "output_type": "stream",
     "text": [
      "<class 'float'>\n",
      "140254650837264\n"
     ]
    }
   ],
   "source": [
    "var = 10.20 # Variable Declaration\n",
    "\n",
    "print(type(var)) # Printing the type\n",
    "\n",
    "print(id(var)) # Printing the id of the varible"
   ]
  },
  {
   "cell_type": "markdown",
   "id": "0356f7cf",
   "metadata": {},
   "source": [
    "# Arithmetic Operations on float. Take two different float values. Store them in two different variables. Do below operations on them:-\n",
    " - Find sum of both numbers\n",
    " - Find difference between them\n",
    " - Find the product of both numbers.\n",
    " - Find value after dividing first num with second number.\n",
    " - Find the remainder after dividing first number with second number.\n",
    " - Find the quotient after dividing first number with second number .\n",
    " - Find the result of the first num to the power of the second number."
   ]
  },
  {
   "cell_type": "code",
   "execution_count": 8,
   "id": "33b771a9",
   "metadata": {},
   "outputs": [],
   "source": [
    "var1 = 20.20\n",
    "var2 = 10.10"
   ]
  },
  {
   "cell_type": "code",
   "execution_count": 9,
   "id": "4a6206d7",
   "metadata": {},
   "outputs": [
    {
     "name": "stdout",
     "output_type": "stream",
     "text": [
      "30.299999999999997\n"
     ]
    }
   ],
   "source": [
    "# Find sum of both the numbers\n",
    "print(var1 + var2)"
   ]
  },
  {
   "cell_type": "code",
   "execution_count": 10,
   "id": "56c23e3f",
   "metadata": {},
   "outputs": [
    {
     "name": "stdout",
     "output_type": "stream",
     "text": [
      "10.1\n"
     ]
    }
   ],
   "source": [
    "# Find difference between them\n",
    "print(var1 - var2)"
   ]
  },
  {
   "cell_type": "code",
   "execution_count": 11,
   "id": "8f9585b1",
   "metadata": {},
   "outputs": [
    {
     "name": "stdout",
     "output_type": "stream",
     "text": [
      "204.01999999999998\n"
     ]
    }
   ],
   "source": [
    "#Find the product of both numbers\n",
    "print(var1 * var2)"
   ]
  },
  {
   "cell_type": "code",
   "execution_count": 12,
   "id": "adb568c2",
   "metadata": {},
   "outputs": [
    {
     "name": "stdout",
     "output_type": "stream",
     "text": [
      "2.0\n"
     ]
    }
   ],
   "source": [
    "# Find value after dividing first num with second number.\n",
    "print(var1/var2)"
   ]
  },
  {
   "cell_type": "code",
   "execution_count": 13,
   "id": "abc343a1",
   "metadata": {},
   "outputs": [
    {
     "name": "stdout",
     "output_type": "stream",
     "text": [
      "0.0\n"
     ]
    }
   ],
   "source": [
    "#Find the remainder after dividing first number with second number.\n",
    "print(var1%var2)"
   ]
  },
  {
   "cell_type": "code",
   "execution_count": 14,
   "id": "1da4f95b",
   "metadata": {},
   "outputs": [
    {
     "name": "stdout",
     "output_type": "stream",
     "text": [
      "2.0\n"
     ]
    }
   ],
   "source": [
    "#Find the quotient after dividing first number with second number .\n",
    "\n",
    "print(var1/var2)"
   ]
  },
  {
   "cell_type": "code",
   "execution_count": 15,
   "id": "19b9c96c",
   "metadata": {},
   "outputs": [
    {
     "name": "stdout",
     "output_type": "stream",
     "text": [
      "15277378250983.594\n"
     ]
    }
   ],
   "source": [
    "# Find the result of the first num to the power of the second number.\n",
    "print(var1 ** var2)"
   ]
  },
  {
   "cell_type": "markdown",
   "id": "86dcacea",
   "metadata": {},
   "source": [
    "# Comparison Operators on Float. Take two different float values. Store them in two different variables. Do below operations on them:-\n",
    "   - Compare se two numbers with below operator:-\n",
    "       - Greater than, '>'\n",
    "       - Smaller than, '<'\n",
    "       - Greater than or equal to, '>='\n",
    "       - Less than or equal to, '<='\n",
    "   - Observe their output(return type should be boolean)"
   ]
  },
  {
   "cell_type": "code",
   "execution_count": 16,
   "id": "2f6b4ab0",
   "metadata": {},
   "outputs": [],
   "source": [
    "var1 = 20.20\n",
    "var2 = 10.10"
   ]
  },
  {
   "cell_type": "code",
   "execution_count": 17,
   "id": "1434788b",
   "metadata": {},
   "outputs": [
    {
     "name": "stdout",
     "output_type": "stream",
     "text": [
      "True\n"
     ]
    }
   ],
   "source": [
    "print(var1 > var2) # True"
   ]
  },
  {
   "cell_type": "code",
   "execution_count": 18,
   "id": "2c74bce6",
   "metadata": {},
   "outputs": [
    {
     "name": "stdout",
     "output_type": "stream",
     "text": [
      "False\n"
     ]
    }
   ],
   "source": [
    "print(var1 < var2) # False"
   ]
  },
  {
   "cell_type": "code",
   "execution_count": 19,
   "id": "cccb815c",
   "metadata": {},
   "outputs": [
    {
     "name": "stdout",
     "output_type": "stream",
     "text": [
      "True\n"
     ]
    }
   ],
   "source": [
    "print(var1 >= var2) # True"
   ]
  },
  {
   "cell_type": "code",
   "execution_count": 20,
   "id": "65f3af83",
   "metadata": {},
   "outputs": [
    {
     "name": "stdout",
     "output_type": "stream",
     "text": [
      "False\n"
     ]
    }
   ],
   "source": [
    "print(var1 <= var2) # False"
   ]
  },
  {
   "cell_type": "markdown",
   "id": "9f4afcbd",
   "metadata": {},
   "source": [
    "# Equality Operator\n",
    "- Take two different float values.\n",
    "    - Store them in two different variables.\n",
    "    - Equate them using equality operators (==, !=) \n",
    "- Observe the output(return type should be boolean)"
   ]
  },
  {
   "cell_type": "code",
   "execution_count": 21,
   "id": "e6c5135c",
   "metadata": {},
   "outputs": [],
   "source": [
    "var1 = 20.20\n",
    "var2 = 10.10"
   ]
  },
  {
   "cell_type": "code",
   "execution_count": 22,
   "id": "038dca05",
   "metadata": {},
   "outputs": [
    {
     "name": "stdout",
     "output_type": "stream",
     "text": [
      "False\n"
     ]
    }
   ],
   "source": [
    "print(var1 == var2) # False"
   ]
  },
  {
   "cell_type": "code",
   "execution_count": 23,
   "id": "eb1077d4",
   "metadata": {},
   "outputs": [
    {
     "name": "stdout",
     "output_type": "stream",
     "text": [
      "True\n"
     ]
    }
   ],
   "source": [
    "print(var1 != var2) # True"
   ]
  },
  {
   "cell_type": "markdown",
   "id": "5735cde5",
   "metadata": {},
   "source": [
    "# Logical operators\n",
    "- Observe the output of below code\n",
    "- Cross check the output manually"
   ]
  },
  {
   "cell_type": "markdown",
   "id": "8efd554d",
   "metadata": {},
   "source": [
    "- AND OPERATOR\n",
    "    - Returns True if both operands are True else False\n",
    "    - 0.0 is interpreted as False and non zero numbers as True\n",
    "- Print statement will print the \n",
    "    - 0.0 if any of the operand is zero\n",
    "    - if both of operands arew non zero then second operand"
   ]
  },
  {
   "cell_type": "code",
   "execution_count": 25,
   "id": "02b97bce",
   "metadata": {},
   "outputs": [
    {
     "name": "stdout",
     "output_type": "stream",
     "text": [
      "20.3\n"
     ]
    }
   ],
   "source": [
    "print(10.20 and 20.30) # prints 20.3"
   ]
  },
  {
   "cell_type": "code",
   "execution_count": 26,
   "id": "10fc879a",
   "metadata": {},
   "outputs": [
    {
     "name": "stdout",
     "output_type": "stream",
     "text": [
      "0.0\n"
     ]
    }
   ],
   "source": [
    "print(0.0 and 20.30) # prints 0.0"
   ]
  },
  {
   "cell_type": "code",
   "execution_count": 27,
   "id": "523527fa",
   "metadata": {},
   "outputs": [
    {
     "name": "stdout",
     "output_type": "stream",
     "text": [
      "0.0\n"
     ]
    }
   ],
   "source": [
    "print(20.30 and 0.0) # prints 0.0"
   ]
  },
  {
   "cell_type": "code",
   "execution_count": 29,
   "id": "024a28d4",
   "metadata": {},
   "outputs": [
    {
     "name": "stdout",
     "output_type": "stream",
     "text": [
      "0.0\n"
     ]
    }
   ],
   "source": [
    "print(0.0 and 0.0) # prints 0.0"
   ]
  },
  {
   "cell_type": "markdown",
   "id": "866bd8a4",
   "metadata": {},
   "source": [
    "- OR OPERATOR\n",
    "    - Returns True if atleast one of the operand is True\n",
    "    - Returns False if both of the operands are False\n",
    "    - 0.0 is interpreted as False and non zero numbers as True\n",
    "- Print statement will print the \n",
    "    - First operand if its non zero\n",
    "    - Else second operand if first operand is zero"
   ]
  },
  {
   "cell_type": "code",
   "execution_count": 31,
   "id": "aa9b979c",
   "metadata": {},
   "outputs": [
    {
     "name": "stdout",
     "output_type": "stream",
     "text": [
      "10.2\n"
     ]
    }
   ],
   "source": [
    "print(10.20 or 20.30) # prints 10.2"
   ]
  },
  {
   "cell_type": "code",
   "execution_count": 33,
   "id": "68df84c8",
   "metadata": {},
   "outputs": [
    {
     "name": "stdout",
     "output_type": "stream",
     "text": [
      "20.3\n"
     ]
    }
   ],
   "source": [
    "print(0.0 or 20.30) # prints 20.3"
   ]
  },
  {
   "cell_type": "code",
   "execution_count": 35,
   "id": "fc753ed3",
   "metadata": {},
   "outputs": [
    {
     "name": "stdout",
     "output_type": "stream",
     "text": [
      "20.3\n"
     ]
    }
   ],
   "source": [
    "print(20.30 or 0.0) # prints 20.3"
   ]
  },
  {
   "cell_type": "code",
   "execution_count": 37,
   "id": "692795db",
   "metadata": {},
   "outputs": [
    {
     "name": "stdout",
     "output_type": "stream",
     "text": [
      "0.0\n"
     ]
    }
   ],
   "source": [
    "print(0.0 or 0.0) # prints 0.0"
   ]
  },
  {
   "cell_type": "markdown",
   "id": "6ccad5dc",
   "metadata": {},
   "source": [
    "- NOT OPERATOR\n",
    "    - Returns True if operand is False\n",
    "    - Returns False if operand is True"
   ]
  },
  {
   "cell_type": "code",
   "execution_count": 39,
   "id": "57b4f38c",
   "metadata": {},
   "outputs": [
    {
     "name": "stdout",
     "output_type": "stream",
     "text": [
      "False\n"
     ]
    }
   ],
   "source": [
    "print(not 10.20) # prints False"
   ]
  },
  {
   "cell_type": "code",
   "execution_count": 41,
   "id": "c7b9942f",
   "metadata": {},
   "outputs": [
    {
     "name": "stdout",
     "output_type": "stream",
     "text": [
      "True\n"
     ]
    }
   ],
   "source": [
    "print(not 0.0) # prints True"
   ]
  },
  {
   "cell_type": "markdown",
   "id": "ca04ac76",
   "metadata": {},
   "source": [
    "# What is the output of expression inside print statement. Cross check before running the program.\n",
    "\n"
   ]
  },
  {
   "cell_type": "code",
   "execution_count": 42,
   "id": "c04db745",
   "metadata": {},
   "outputs": [],
   "source": [
    "a = 10.20\n",
    "b = 10.20"
   ]
  },
  {
   "cell_type": "code",
   "execution_count": 47,
   "id": "7aec05f0",
   "metadata": {},
   "outputs": [
    {
     "name": "stdout",
     "output_type": "stream",
     "text": [
      "140254651245232\n",
      "140254651245360\n"
     ]
    }
   ],
   "source": [
    "print(id(a))\n",
    "print(id(b))\n",
    "\n",
    "# Reason -> Since datatype is float. It will allocate a new memory.\n",
    "# The ids of variable a and b would be different because they have different memory addresses"
   ]
  },
  {
   "cell_type": "code",
   "execution_count": 43,
   "id": "5c140751",
   "metadata": {},
   "outputs": [
    {
     "name": "stdout",
     "output_type": "stream",
     "text": [
      "False\n"
     ]
    }
   ],
   "source": [
    "print(a is b) # It will print False as they have different memory address\n"
   ]
  },
  {
   "cell_type": "code",
   "execution_count": 46,
   "id": "4243237c",
   "metadata": {},
   "outputs": [
    {
     "name": "stdout",
     "output_type": "stream",
     "text": [
      "True\n"
     ]
    }
   ],
   "source": [
    "print(a is not b)# It will print True as they have different memory address\n",
    "\n"
   ]
  },
  {
   "cell_type": "code",
   "execution_count": 48,
   "id": "b7a266b9",
   "metadata": {},
   "outputs": [],
   "source": [
    "a = 10.5\n",
    "b = 10.5\n",
    "c = b"
   ]
  },
  {
   "cell_type": "code",
   "execution_count": 50,
   "id": "4f3efe75",
   "metadata": {},
   "outputs": [
    {
     "name": "stdout",
     "output_type": "stream",
     "text": [
      "140254651246160\n",
      "140254651246288\n",
      "140254651246288\n"
     ]
    }
   ],
   "source": [
    "print(id(a))\n",
    "print(id(b))\n",
    "\n",
    "# Id of a and b would be different because we are directly assigning float values to them.\n",
    "\n",
    "print(id(c))\n",
    "\n",
    "# Id of c and b would be same because we are not directly assigning float values to variable c rather \n",
    "# we are assinging varible b to c. So varible c will refer to the same memory location as b."
   ]
  },
  {
   "cell_type": "markdown",
   "id": "7cd289fe",
   "metadata": {},
   "source": [
    "# Membership operation\n",
    "- in, not in are two membership operators and it returns boolean value"
   ]
  },
  {
   "cell_type": "code",
   "execution_count": 53,
   "id": "4adbf835",
   "metadata": {},
   "outputs": [
    {
     "name": "stdout",
     "output_type": "stream",
     "text": [
      "True\n",
      "True\n",
      "True\n",
      "True\n",
      "True\n",
      "True\n"
     ]
    }
   ],
   "source": [
    "print('2.7' in 'Python2.7.8') \n",
    "# output -> True\n",
    "# Reason -> 2 is present in the string 'Python2.7.8'\n",
    "\n",
    "\n",
    "print(10.20 in [10,10.20,10+20j,'Python'])\n",
    "# output -> True\n",
    "# Reason -> 10 is present in the array [10,10.20,10+20j,'Python']\n",
    "\n",
    "print(10.20 in (10,10.20,10+20j,'Python'))\n",
    "# output -> True\n",
    "# Reason -> 10 is present in the tuple (10,10.20,10+20j,'Python')\n",
    "\n",
    "print(20.30 in {1,20.30 ,30 + 40j})\n",
    "# output -> True\n",
    "# Reason -> 2 is present in the set {1,20.30 ,30 + 40j}\n",
    "\n",
    "print(2.3 in {1:100, 2.3:200, 30+40j:300})\n",
    "# output -> True\n",
    "# Reason -> 3 is present in the Dictionary {1:100, 2.3:200, 30+40j:300}\n",
    "\n",
    "print(10 in range(20))\n",
    "# output -> True\n",
    "# Reason -> 10 is present in the range between 0 to 20"
   ]
  },
  {
   "cell_type": "code",
   "execution_count": null,
   "id": "8ebcc701",
   "metadata": {},
   "outputs": [],
   "source": []
  }
 ],
 "metadata": {
  "kernelspec": {
   "display_name": "Python 3 (ipykernel)",
   "language": "python",
   "name": "python3"
  },
  "language_info": {
   "codemirror_mode": {
    "name": "ipython",
    "version": 3
   },
   "file_extension": ".py",
   "mimetype": "text/x-python",
   "name": "python",
   "nbconvert_exporter": "python",
   "pygments_lexer": "ipython3",
   "version": "3.9.12"
  }
 },
 "nbformat": 4,
 "nbformat_minor": 5
}
