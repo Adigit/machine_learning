{
 "cells": [
  {
   "cell_type": "markdown",
   "id": "848b887c",
   "metadata": {},
   "source": [
    "# Declare an complex value and store it in a variable.\n",
    "- Check the type and print the id of the same.\n",
    "\n"
   ]
  },
  {
   "cell_type": "code",
   "execution_count": 1,
   "id": "ed271f09",
   "metadata": {},
   "outputs": [
    {
     "name": "stdout",
     "output_type": "stream",
     "text": [
      "<class 'complex'>\n",
      "140566470077072\n"
     ]
    }
   ],
   "source": [
    "# Declaring an int variable \n",
    "var = 10 + 20j\n",
    "\n",
    "# printing the type of the variable \n",
    "print(type(var))\n",
    "\n",
    "# printing the id of the variable \n",
    "print(id(var))"
   ]
  },
  {
   "cell_type": "markdown",
   "id": "050fb912",
   "metadata": {},
   "source": [
    "# Arithmetic Operations on integers Take two different integer values. Store them in two different variables. Do below operations on them:-\n",
    " - Find sum of both numbers\n",
    " - Find difference between them\n",
    " - Find the product of both numbers.\n",
    " - Find value after dividing first num with second number.\n",
    " - Find the remainder after dividing first number with second number.\n",
    " - Find the quotient after dividing first number with second number .\n",
    " - Find the result of the first num to the power of the second number."
   ]
  },
  {
   "cell_type": "code",
   "execution_count": 2,
   "id": "081b79f8",
   "metadata": {},
   "outputs": [],
   "source": [
    "var1 = 2 + 1j\n",
    "var2 = 1 + 1j"
   ]
  },
  {
   "cell_type": "code",
   "execution_count": 3,
   "id": "fdc84874",
   "metadata": {},
   "outputs": [
    {
     "name": "stdout",
     "output_type": "stream",
     "text": [
      "(3+2j)\n"
     ]
    }
   ],
   "source": [
    "# Find sum of both the numbers\n",
    "print(var1 + var2) # prints (3 + 2j)"
   ]
  },
  {
   "cell_type": "code",
   "execution_count": 4,
   "id": "fc952881",
   "metadata": {},
   "outputs": [
    {
     "name": "stdout",
     "output_type": "stream",
     "text": [
      "(1+0j)\n"
     ]
    }
   ],
   "source": [
    "# Find difference between them\n",
    "print(var1 - var2) # prints (1 + 0j)"
   ]
  },
  {
   "cell_type": "code",
   "execution_count": 5,
   "id": "85a26b82",
   "metadata": {},
   "outputs": [
    {
     "name": "stdout",
     "output_type": "stream",
     "text": [
      "(1+3j)\n"
     ]
    }
   ],
   "source": [
    "#Find the product of both numbers\n",
    "print(var1 * var2) # (1+3j)"
   ]
  },
  {
   "cell_type": "code",
   "execution_count": 6,
   "id": "1fea392f",
   "metadata": {},
   "outputs": [
    {
     "name": "stdout",
     "output_type": "stream",
     "text": [
      "(1.5-0.5j)\n"
     ]
    }
   ],
   "source": [
    "# Find value after dividing first num with second number.\n",
    "print(var1/var2) # prints (1.5-0.5j)"
   ]
  },
  {
   "cell_type": "code",
   "execution_count": 7,
   "id": "9bd2b87d",
   "metadata": {},
   "outputs": [
    {
     "ename": "TypeError",
     "evalue": "can't mod complex numbers.",
     "output_type": "error",
     "traceback": [
      "\u001b[0;31m---------------------------------------------------------------------------\u001b[0m",
      "\u001b[0;31mTypeError\u001b[0m                                 Traceback (most recent call last)",
      "Input \u001b[0;32mIn [7]\u001b[0m, in \u001b[0;36m<cell line: 2>\u001b[0;34m()\u001b[0m\n\u001b[1;32m      1\u001b[0m \u001b[38;5;66;03m#Find the remainder after dividing first number with second number.\u001b[39;00m\n\u001b[0;32m----> 2\u001b[0m \u001b[38;5;28mprint\u001b[39m(\u001b[43mvar1\u001b[49m\u001b[38;5;241;43m%\u001b[39;49m\u001b[43mvar2\u001b[49m)\n",
      "\u001b[0;31mTypeError\u001b[0m: can't mod complex numbers."
     ]
    }
   ],
   "source": [
    "#Find the remainder after dividing first number with second number.\n",
    "print(var1%var2) \n",
    "\n",
    "# It will raise TypeError: can't mod complex numbers.\n"
   ]
  },
  {
   "cell_type": "code",
   "execution_count": 8,
   "id": "b4b69e23",
   "metadata": {},
   "outputs": [
    {
     "name": "stdout",
     "output_type": "stream",
     "text": [
      "(0.41889893980777826+1.3426225685938753j)\n"
     ]
    }
   ],
   "source": [
    "# Find the result of the first num to the power of the second number.\n",
    "print(var1 ** var2) # prints (0.41889893980777826+1.3426225685938753j)"
   ]
  },
  {
   "cell_type": "markdown",
   "id": "18e66ae0",
   "metadata": {},
   "source": [
    "# Comparison Operation not applicable between instance of complex values.\n",
    "- Object reusability concept is not applicable on complex number"
   ]
  },
  {
   "cell_type": "code",
   "execution_count": 9,
   "id": "c3d74ea4",
   "metadata": {},
   "outputs": [
    {
     "ename": "TypeError",
     "evalue": "'>' not supported between instances of 'complex' and 'complex'",
     "output_type": "error",
     "traceback": [
      "\u001b[0;31m---------------------------------------------------------------------------\u001b[0m",
      "\u001b[0;31mTypeError\u001b[0m                                 Traceback (most recent call last)",
      "Input \u001b[0;32mIn [9]\u001b[0m, in \u001b[0;36m<cell line: 1>\u001b[0;34m()\u001b[0m\n\u001b[0;32m----> 1\u001b[0m \u001b[38;5;28mprint\u001b[39m(\u001b[43mvar1\u001b[49m\u001b[43m \u001b[49m\u001b[38;5;241;43m>\u001b[39;49m\u001b[43m \u001b[49m\u001b[43mvar2\u001b[49m)\n",
      "\u001b[0;31mTypeError\u001b[0m: '>' not supported between instances of 'complex' and 'complex'"
     ]
    }
   ],
   "source": [
    "print(var1 > var2)\n",
    "\n",
    "# It will raise TypeError: '>' not supported between instances of 'complex' and 'complex' "
   ]
  },
  {
   "cell_type": "code",
   "execution_count": 10,
   "id": "2afd11e4",
   "metadata": {},
   "outputs": [
    {
     "name": "stdout",
     "output_type": "stream",
     "text": [
      "140566483142416\n",
      "140566483141712\n"
     ]
    }
   ],
   "source": [
    "var1 = 1 + 2j\n",
    "var2 = 1 + 2j\n",
    "\n",
    "print(id(var1))\n",
    "print(id(var2))\n",
    "\n",
    "# Ids would be different as Object reusability concept is not applicable on complex number"
   ]
  },
  {
   "cell_type": "markdown",
   "id": "843dfb48",
   "metadata": {},
   "source": [
    "# Equality Operator\n",
    "- Take two different complex numbers.\n",
    "- Store them in two different variables.\n",
    "- Equate them using equality operators (==, !=) Observe the output(return type should be boolean)"
   ]
  },
  {
   "cell_type": "code",
   "execution_count": 11,
   "id": "a56cb76a",
   "metadata": {},
   "outputs": [],
   "source": [
    "var1 = 1 + 2j\n",
    "var2 = 2 + 3j"
   ]
  },
  {
   "cell_type": "code",
   "execution_count": 12,
   "id": "ddf89504",
   "metadata": {},
   "outputs": [
    {
     "name": "stdout",
     "output_type": "stream",
     "text": [
      "False\n"
     ]
    }
   ],
   "source": [
    "print(var1 == var2) # prints False as both the values are different"
   ]
  },
  {
   "cell_type": "code",
   "execution_count": 13,
   "id": "61cb8588",
   "metadata": {},
   "outputs": [
    {
     "name": "stdout",
     "output_type": "stream",
     "text": [
      "True\n"
     ]
    }
   ],
   "source": [
    "print(var1 != var2) # prints True as both the values are different "
   ]
  },
  {
   "cell_type": "markdown",
   "id": "4715093e",
   "metadata": {},
   "source": [
    "# Logical operators\n",
    "- Observe the output of below code Cross check the output manually"
   ]
  },
  {
   "cell_type": "markdown",
   "id": "02f581b9",
   "metadata": {},
   "source": [
    "- AND OPERATOR\n",
    "    - Returns True if both operands are True else False\n",
    "    - 0 is interpreted as False and non zero numbers as True\n",
    "- Print statement will print the \n",
    "    - 0 if any of the operand is zero\n",
    "    - if both of operands arew non zero then second operand"
   ]
  },
  {
   "cell_type": "code",
   "execution_count": 14,
   "id": "8336ae8d",
   "metadata": {},
   "outputs": [
    {
     "name": "stdout",
     "output_type": "stream",
     "text": [
      "(20+30j)\n",
      "0j\n",
      "0j\n",
      "0j\n"
     ]
    }
   ],
   "source": [
    "print(10 + 20j and 20 + 30j) # prints (20+30j)\n",
    "\n",
    "print(0 + 0j and 20 + 30j) # prints 0j\n",
    "\n",
    "print(10 + 20j and 0 + 0j) # prints 0j\n",
    "\n",
    "print(0 + 0j and 0 + 0j) # prints 0j"
   ]
  },
  {
   "cell_type": "markdown",
   "id": "9e7be2af",
   "metadata": {},
   "source": [
    "- OR OPERATOR\n",
    "    - Returns True if atleast one of the operand is True\n",
    "    - Returns False if both of the operands are False\n",
    "    - 0 is interpreted as False and non zero numbers as True\n",
    "- Print statement will print the \n",
    "    - First operand if its non zero\n",
    "    - Else second operand if first operand is zero"
   ]
  },
  {
   "cell_type": "code",
   "execution_count": 15,
   "id": "f9f3b367",
   "metadata": {},
   "outputs": [
    {
     "name": "stdout",
     "output_type": "stream",
     "text": [
      "(10+20j)\n",
      "(20+30j)\n",
      "(20+30j)\n",
      "0j\n"
     ]
    }
   ],
   "source": [
    "print(10 + 20j or 20 + 30j) # prints (10+20j)\n",
    "\n",
    "print(0 + 0j or 20 + 30j) # prints (20+30j)\n",
    "\n",
    "print(20 + 30j or 0 + 0j) # prints (20+30j)\n",
    "\n",
    "print(0 + 0j or 0 + 0j) # prints 0j"
   ]
  },
  {
   "cell_type": "markdown",
   "id": "9ebaa834",
   "metadata": {},
   "source": [
    "- NOT OPERATOR\n",
    "    - Returns True if operand is False\n",
    "    - Returns False if operand is True"
   ]
  },
  {
   "cell_type": "code",
   "execution_count": 16,
   "id": "a914ff87",
   "metadata": {},
   "outputs": [
    {
     "name": "stdout",
     "output_type": "stream",
     "text": [
      "False\n",
      "True\n"
     ]
    }
   ],
   "source": [
    "print( not 10 + 20j) # prints False\n",
    "\n",
    "print(not 0 + 0j) #prints True"
   ]
  },
  {
   "cell_type": "markdown",
   "id": "2ba18e75",
   "metadata": {},
   "source": [
    "# What is the output of the expression inside the print statement. \n",
    "- Cross check before running the program."
   ]
  },
  {
   "cell_type": "code",
   "execution_count": 17,
   "id": "3f81f0bc",
   "metadata": {},
   "outputs": [],
   "source": [
    "a = 10 + 20j\n",
    "b = 10 + 20j"
   ]
  },
  {
   "cell_type": "code",
   "execution_count": 18,
   "id": "8b9bddda",
   "metadata": {},
   "outputs": [
    {
     "name": "stdout",
     "output_type": "stream",
     "text": [
      "False\n",
      "True\n"
     ]
    }
   ],
   "source": [
    "print(a is b) # prints False\n",
    "print(a is not b) # prints True\n",
    "\n",
    "# Reason -> Object reusability concept is not applicable on complex number. \n",
    "# So the ids of a and b would be different"
   ]
  },
  {
   "cell_type": "markdown",
   "id": "1cab895b",
   "metadata": {},
   "source": [
    "# Membership operation\n",
    "- in, not in are two membership operators and it returns boolean value\n",
    "\n"
   ]
  },
  {
   "cell_type": "code",
   "execution_count": 46,
   "id": "8ee9c904",
   "metadata": {},
   "outputs": [
    {
     "name": "stdout",
     "output_type": "stream",
     "text": [
      "True\n",
      "True\n",
      "True\n",
      "True\n",
      "True\n",
      "True\n"
     ]
    }
   ],
   "source": [
    "print('2.7' in 'Python2.7.8') \n",
    "# output -> True\n",
    "# Reason -> 2 is present in the string 'Python2.7.8'\n",
    "\n",
    "\n",
    "print(10 + 20j in [10,10.20,10+20j,'Python'])\n",
    "# output -> True\n",
    "# Reason -> 10 + 20j is present in the array [10,10.20,10+20j,'Python']\n",
    "\n",
    "print(10 + 20j in (10,10.20,10+20j,'Python'))\n",
    "# output -> True\n",
    "# Reason -> 10 + 20j is present in the tuple (10,10.20,10+20j,'Python')\n",
    "\n",
    "print(30 + 40j in {1,20.30 ,30 + 40j})\n",
    "# output -> True\n",
    "# Reason -> 30 + 40j is present in the set {1,20.30 ,30 + 40j}\n",
    "\n",
    "print(30 + 40j in {1:100, 2.3:200, 30 + 40j:300})\n",
    "# output -> True\n",
    "# Reason -> (30 + 40j is present in the Dictionary {1:100, 2.3:200, 30 + 40j:300}\n",
    "\n",
    "print(10 in range(20))\n",
    "# output -> True\n",
    "# Reason -> 10 is present in the range between 0 to 20"
   ]
  },
  {
   "cell_type": "code",
   "execution_count": null,
   "id": "2b8c72af",
   "metadata": {},
   "outputs": [],
   "source": []
  }
 ],
 "metadata": {
  "kernelspec": {
   "display_name": "Python 3 (ipykernel)",
   "language": "python",
   "name": "python3"
  },
  "language_info": {
   "codemirror_mode": {
    "name": "ipython",
    "version": 3
   },
   "file_extension": ".py",
   "mimetype": "text/x-python",
   "name": "python",
   "nbconvert_exporter": "python",
   "pygments_lexer": "ipython3",
   "version": "3.9.12"
  }
 },
 "nbformat": 4,
 "nbformat_minor": 5
}
