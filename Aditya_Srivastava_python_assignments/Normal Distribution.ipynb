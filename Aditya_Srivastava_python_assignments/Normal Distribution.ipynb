{
 "cells": [
  {
   "cell_type": "markdown",
   "id": "3613c28b",
   "metadata": {},
   "source": [
    "# You conduct a study on eye color and you question 550people. 110 of them have brown eyes and 54% of them have blueeyes. What percentage of the people you questioned has blue orbrown eyes?"
   ]
  },
  {
   "cell_type": "code",
   "execution_count": null,
   "id": "0c4227c8",
   "metadata": {},
   "outputs": [],
   "source": []
  }
 ],
 "metadata": {
  "kernelspec": {
   "display_name": "Python 3 (ipykernel)",
   "language": "python",
   "name": "python3"
  },
  "language_info": {
   "codemirror_mode": {
    "name": "ipython",
    "version": 3
   },
   "file_extension": ".py",
   "mimetype": "text/x-python",
   "name": "python",
   "nbconvert_exporter": "python",
   "pygments_lexer": "ipython3",
   "version": "3.9.13"
  }
 },
 "nbformat": 4,
 "nbformat_minor": 5
}
