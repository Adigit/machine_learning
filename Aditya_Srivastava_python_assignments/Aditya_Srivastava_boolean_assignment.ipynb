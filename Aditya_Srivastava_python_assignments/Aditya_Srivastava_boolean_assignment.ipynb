{
 "cells": [
  {
   "cell_type": "markdown",
   "id": "97fc0c35",
   "metadata": {},
   "source": [
    "# Declare a boolean value and store it in a variable. Check the type and print the id of the same."
   ]
  },
  {
   "cell_type": "code",
   "execution_count": 4,
   "id": "ccb8afef",
   "metadata": {},
   "outputs": [
    {
     "name": "stdout",
     "output_type": "stream",
     "text": [
      "<class 'bool'>\n",
      "4477031728\n"
     ]
    }
   ],
   "source": [
    "# Variable declaration \n",
    "var = True\n",
    "\n",
    "# Printing the type of variable\n",
    "print(type(var))\n",
    "\n",
    "# Printing the id of the variable \n",
    "print(id(var))"
   ]
  },
  {
   "cell_type": "markdown",
   "id": "39f4e26b",
   "metadata": {},
   "source": [
    "# Take one boolean value between 0 - 256. Assign it to two different variables.Check the id of both the variables. It should come the same. Check why?"
   ]
  },
  {
   "cell_type": "code",
   "execution_count": 2,
   "id": "3ed7ca24",
   "metadata": {},
   "outputs": [
    {
     "name": "stdout",
     "output_type": "stream",
     "text": [
      "4560414000\n",
      "4560414000\n"
     ]
    }
   ],
   "source": [
    "bool_var1 = True\n",
    "bool_var2 = True\n",
    "\n",
    "print(id(bool_var1))\n",
    "print(id(bool_var2))\n",
    "\n",
    "# Both have the same Id. Because for boolean datatype python has memory optimization concept. \n",
    "# If two variables uses the same value(True/false) python doesn't create a new object rather \n",
    "# it refers to the same memory location"
   ]
  },
  {
   "cell_type": "markdown",
   "id": "f37d6313",
   "metadata": {},
   "source": [
    "# Arithmetic Operations on boolean data Take two different boolean values. Store them in two different variables. Do below operations on them:-\n",
    "   \n",
    "   1. Find sum of both values\n",
    "   2. Find difference between them\n",
    "   3. Find the product of both.\n",
    "   4. Find value after dividing first value with second value\n",
    "   5. Find the remainder after dividing first value with second value\n",
    "   6. Find the quotient after dividing first value with second value\n",
    "   7. Find the result of first value to the power of second value."
   ]
  },
  {
   "cell_type": "code",
   "execution_count": 33,
   "id": "5fd70514",
   "metadata": {},
   "outputs": [],
   "source": [
    "# Defining two boolean variables.\n",
    "bool_var1 = True\n",
    "bool_var2 = False"
   ]
  },
  {
   "cell_type": "code",
   "execution_count": 34,
   "id": "faa22799",
   "metadata": {},
   "outputs": [
    {
     "name": "stdout",
     "output_type": "stream",
     "text": [
      "1\n"
     ]
    }
   ],
   "source": [
    "print(bool_var1 + bool_var2)\n",
    "\n",
    "# Note : True is 1 and False is 0\n",
    "# 1 + 0 = 1\n",
    "\n",
    "# output -> 1"
   ]
  },
  {
   "cell_type": "code",
   "execution_count": 35,
   "id": "c91ee929",
   "metadata": {},
   "outputs": [
    {
     "name": "stdout",
     "output_type": "stream",
     "text": [
      "1\n"
     ]
    }
   ],
   "source": [
    "print(bool_var1 - bool_var2)\n",
    "\n",
    "# Note : True is 1 and False is 0\n",
    "# 1 - 0 = 1\n",
    "\n",
    "# output -> 1"
   ]
  },
  {
   "cell_type": "code",
   "execution_count": 36,
   "id": "00a7b605",
   "metadata": {},
   "outputs": [
    {
     "name": "stdout",
     "output_type": "stream",
     "text": [
      "0\n"
     ]
    }
   ],
   "source": [
    "print(bool_var1 * bool_var2)\n",
    "\n",
    "# Note : True is 1 and False is 0\n",
    "# 1 * 0 = 0\n",
    "\n",
    "# output -> 0"
   ]
  },
  {
   "cell_type": "code",
   "execution_count": 3,
   "id": "5b391086",
   "metadata": {},
   "outputs": [
    {
     "name": "stdout",
     "output_type": "stream",
     "text": [
      "1.0\n"
     ]
    }
   ],
   "source": [
    "print(bool_var2 / bool_var1)\n",
    "\n",
    "# Note : True is 1 and False is 0\n",
    "# 1 / 0 = ZeroDivisionError \n",
    "# 0/ 1 = 0\n",
    "\n",
    "# output -> 0"
   ]
  },
  {
   "cell_type": "code",
   "execution_count": 42,
   "id": "894d0908",
   "metadata": {},
   "outputs": [
    {
     "name": "stdout",
     "output_type": "stream",
     "text": [
      "0\n"
     ]
    }
   ],
   "source": [
    "print(bool_var2 % bool_var1)\n",
    "\n",
    "\n",
    "# Note : True is 1 and False is 0\n",
    "# 1 % 0 = ZeroDivisionError \n",
    "# 0 % 1 = 0\n",
    "\n",
    "# output -> 0"
   ]
  },
  {
   "cell_type": "code",
   "execution_count": 47,
   "id": "2b5d1ff9",
   "metadata": {},
   "outputs": [
    {
     "name": "stdout",
     "output_type": "stream",
     "text": [
      "True\n"
     ]
    }
   ],
   "source": [
    "print(bool_var2 ^ bool_var1)\n",
    "\n",
    "# Note : 1 ^ 0 = 1\n",
    "# 0 ^ 1 = 1\n",
    "# Both of the above statements return 1. So 1 here is interpreted as True\n",
    "\n",
    "# output -> True"
   ]
  },
  {
   "cell_type": "markdown",
   "id": "3ea0d62b",
   "metadata": {},
   "source": [
    "# Comparison Operators on boolean values Take two different boolean values.Store them in two different variables. Do below operations on them:-\n",
    "- Compare these two values with below operator:- ​Greater than, '>'\n",
    "- less than, '<'\n",
    "- Greater than or equal to, '>='\n",
    "- Less than or equal to, '<='\n",
    "\n",
    "Observe their output(return type should be boolean)"
   ]
  },
  {
   "cell_type": "code",
   "execution_count": 4,
   "id": "b71228f8",
   "metadata": {},
   "outputs": [],
   "source": [
    "# Defineing two boolean variables\n",
    "boolean_var1 = True\n",
    "boolean_var2 = False"
   ]
  },
  {
   "cell_type": "code",
   "execution_count": 5,
   "id": "01d9e8f6",
   "metadata": {},
   "outputs": [
    {
     "name": "stdout",
     "output_type": "stream",
     "text": [
      "True\n"
     ]
    }
   ],
   "source": [
    "# Compare these two values with below operator:-  Greater than, '>'\n",
    "print(boolean_var1 > boolean_var2)\n",
    "\n",
    "# True"
   ]
  },
  {
   "cell_type": "code",
   "execution_count": 6,
   "id": "02c06af1",
   "metadata": {},
   "outputs": [
    {
     "name": "stdout",
     "output_type": "stream",
     "text": [
      "False\n"
     ]
    }
   ],
   "source": [
    "# Compare these two values with below operator:-  Less than, '<'\n",
    "print(boolean_var1 < boolean_var2)\n",
    "\n",
    "# False"
   ]
  },
  {
   "cell_type": "code",
   "execution_count": 7,
   "id": "e6ad3e45",
   "metadata": {},
   "outputs": [
    {
     "name": "stdout",
     "output_type": "stream",
     "text": [
      "True\n"
     ]
    }
   ],
   "source": [
    "# Compare these two values with below operator:-  Greater than or equal to, '>='\n",
    "print(boolean_var1 >= boolean_var2)\n",
    "\n",
    "# True"
   ]
  },
  {
   "cell_type": "code",
   "execution_count": 8,
   "id": "5bc8c1a5",
   "metadata": {},
   "outputs": [
    {
     "name": "stdout",
     "output_type": "stream",
     "text": [
      "False\n"
     ]
    }
   ],
   "source": [
    "# Compare these two values with below operator:-  Less than or equal to, '>='\n",
    "print(boolean_var1 <= boolean_var2)\n",
    "\n",
    "# False"
   ]
  },
  {
   "cell_type": "markdown",
   "id": "c6309009",
   "metadata": {},
   "source": [
    "# Equality Operator\n",
    "1. Take two different boolean values.\n",
    "2. Store them in two different variables.\n",
    "3. Equate them using equality operators (==, !=)\n",
    "4. Observe the output(return type should be boolean)"
   ]
  },
  {
   "cell_type": "code",
   "execution_count": 9,
   "id": "26fa24a8",
   "metadata": {},
   "outputs": [],
   "source": [
    "# Defineing two boolean variables\n",
    "boolean_var1 = True\n",
    "boolean_var2 = False"
   ]
  },
  {
   "cell_type": "code",
   "execution_count": 15,
   "id": "057b6079",
   "metadata": {},
   "outputs": [
    {
     "name": "stdout",
     "output_type": "stream",
     "text": [
      "False\n"
     ]
    }
   ],
   "source": [
    "# Equate them using equality operators (==)\n",
    "print(boolean_var1 == boolean_var2)\n",
    "\n",
    "# False\n",
    "\n",
    "# Reason :- Equality operator returns True if both operands are same else False. Since boolean_var1 is True \n",
    "# and boolean_var2 is False, both values are not same. It returns False"
   ]
  },
  {
   "cell_type": "code",
   "execution_count": 10,
   "id": "3e26c5a0",
   "metadata": {},
   "outputs": [
    {
     "name": "stdout",
     "output_type": "stream",
     "text": [
      "True\n"
     ]
    }
   ],
   "source": [
    "# Equate them using equality operators (!=)\n",
    "print(boolean_var1 != boolean_var2)\n",
    "\n",
    "# True\n",
    "\n",
    "# Reason :- NOT EQUAL TO returns true if both operands are not same else False. Since boolean_var1 is True \n",
    "# and boolean_var2 is False, both values are not same. It returns True"
   ]
  },
  {
   "cell_type": "markdown",
   "id": "f41f3032",
   "metadata": {},
   "source": [
    "# Logical operators\n",
    "- Observe the output of below code.Cross check the output manually"
   ]
  },
  {
   "cell_type": "code",
   "execution_count": 11,
   "id": "f2514462",
   "metadata": {},
   "outputs": [
    {
     "name": "stdout",
     "output_type": "stream",
     "text": [
      "True\n"
     ]
    }
   ],
   "source": [
    "# We are using AND operator. It returns True if both the operands are True else False.\n",
    "\n",
    "# In below print statement both the operands are True. It will print True\n",
    "print(True and True)\n",
    "\n",
    "# True"
   ]
  },
  {
   "cell_type": "code",
   "execution_count": 12,
   "id": "113e32b9",
   "metadata": {},
   "outputs": [
    {
     "name": "stdout",
     "output_type": "stream",
     "text": [
      "False\n"
     ]
    }
   ],
   "source": [
    "# We are using AND operator. It returns True if both the operands are True else False.\n",
    "\n",
    "# In below print statement one operand is False. It will print False\n",
    "print(False and True)\n",
    "\n",
    "# False"
   ]
  },
  {
   "cell_type": "code",
   "execution_count": 13,
   "id": "237d775c",
   "metadata": {},
   "outputs": [
    {
     "name": "stdout",
     "output_type": "stream",
     "text": [
      "False\n"
     ]
    }
   ],
   "source": [
    "# We are using AND operator. It returns True if both the operands are True else False.\n",
    "\n",
    "# In below print statement second operand is False. It will print False\n",
    "print(True and False)\n",
    "\n",
    "# False"
   ]
  },
  {
   "cell_type": "code",
   "execution_count": 14,
   "id": "b7569bd8",
   "metadata": {},
   "outputs": [
    {
     "name": "stdout",
     "output_type": "stream",
     "text": [
      "False\n"
     ]
    }
   ],
   "source": [
    "# We are using AND operator. It returns True if both the operands are True else False.\n",
    "\n",
    "# In below print statement both operand is False. It will print False\n",
    "print(False and False)\n",
    "\n",
    "# False"
   ]
  },
  {
   "cell_type": "code",
   "execution_count": 15,
   "id": "f20e882f",
   "metadata": {},
   "outputs": [
    {
     "name": "stdout",
     "output_type": "stream",
     "text": [
      "True\n"
     ]
    }
   ],
   "source": [
    "# We are using OR operator. It returns True if any one of the operand is True else False.\n",
    "\n",
    "# In below print statement both operand is False. It will print False\n",
    "print(True or True)\n",
    "\n",
    "# True"
   ]
  },
  {
   "cell_type": "code",
   "execution_count": 16,
   "id": "1fce87ca",
   "metadata": {},
   "outputs": [
    {
     "name": "stdout",
     "output_type": "stream",
     "text": [
      "True\n"
     ]
    }
   ],
   "source": [
    "# We are using OR operator. It returns True if any one of the operand is True else False.\n",
    "\n",
    "# In below print statement one of the operand is True so, It will print True\n",
    "print(False or True)\n",
    "\n",
    "# True"
   ]
  },
  {
   "cell_type": "code",
   "execution_count": 17,
   "id": "e2ed6010",
   "metadata": {},
   "outputs": [
    {
     "name": "stdout",
     "output_type": "stream",
     "text": [
      "True\n"
     ]
    }
   ],
   "source": [
    "# We are using OR operator. It returns True if any one of the operand is True else False.\n",
    "\n",
    "# In below print statement one of the operand is True so, It will print True\n",
    "print(True or False)\n",
    "\n",
    "# True"
   ]
  },
  {
   "cell_type": "code",
   "execution_count": 18,
   "id": "ae73e0e9",
   "metadata": {},
   "outputs": [
    {
     "name": "stdout",
     "output_type": "stream",
     "text": [
      "False\n"
     ]
    }
   ],
   "source": [
    "# We are using OR operator. It returns True if any one of the operand is True else False.\n",
    "\n",
    "# In below print statement both of the operands are False, It will print False\n",
    "print(False or False)\n",
    "\n",
    "# False"
   ]
  },
  {
   "cell_type": "code",
   "execution_count": 20,
   "id": "c91cc2f2",
   "metadata": {},
   "outputs": [
    {
     "name": "stdout",
     "output_type": "stream",
     "text": [
      "False\n"
     ]
    }
   ],
   "source": [
    "# We are using NOT. It will give the opposite output.\n",
    "# E.g not True - > False\n",
    "# not False -> Tute\n",
    "\n",
    "# in below statement it will print False.\n",
    "print(not True) \n",
    "\n",
    "# False"
   ]
  },
  {
   "cell_type": "code",
   "execution_count": 21,
   "id": "0626c444",
   "metadata": {},
   "outputs": [
    {
     "name": "stdout",
     "output_type": "stream",
     "text": [
      "True\n"
     ]
    }
   ],
   "source": [
    "# We are using NOT. It will give the opposite output.\n",
    "# E.g not True - > False\n",
    "# not False -> Tute\n",
    "\n",
    "# in below statement it will print True.\n",
    "print(not False) \n",
    "\n",
    "# True"
   ]
  },
  {
   "cell_type": "markdown",
   "id": "19aa4f04",
   "metadata": {},
   "source": [
    "# Bitwise Operators\n",
    "1. Do below operations on the values provided below:-\n",
    "   - Bitwise and(&) --------------> True, True    -------> Output is True\n",
    "   - Bitwise or(|)  --------------> True, False   -------> Output is True\n",
    "2. Bitwise(^)     --------------> True, False\n",
    "   - Bitwise negation(~) ---------> True\n",
    "   - Bitwise left shift  ---------> True,2\n",
    "   - Bitwise right shift ---------> True,2\n"
   ]
  },
  {
   "cell_type": "code",
   "execution_count": 22,
   "id": "649aa521",
   "metadata": {},
   "outputs": [
    {
     "name": "stdout",
     "output_type": "stream",
     "text": [
      "True\n"
     ]
    }
   ],
   "source": [
    "#Bitwise and(&) --------------> True, True    -------> Output is True\n",
    "\n",
    "# In below statement we are using Bitwise AND operator.\n",
    "# It will return True if both the operands are True else False\n",
    "\n",
    "\n",
    "print(True & True)\n",
    "\n",
    "# Output -> True"
   ]
  },
  {
   "cell_type": "code",
   "execution_count": 23,
   "id": "f828e471",
   "metadata": {},
   "outputs": [
    {
     "name": "stdout",
     "output_type": "stream",
     "text": [
      "True\n"
     ]
    }
   ],
   "source": [
    "#Bitwise or(|)  --------------> True, False   -------> Output is True\n",
    "\n",
    "# In below statement we are using Bitwise OR operator.\n",
    "# It will return False if both the the operands are False else True\n",
    "\n",
    "\n",
    "print(True | False)\n",
    "\n",
    "# Output -> True"
   ]
  },
  {
   "cell_type": "code",
   "execution_count": 24,
   "id": "882c7371",
   "metadata": {},
   "outputs": [
    {
     "name": "stdout",
     "output_type": "stream",
     "text": [
      "True\n"
     ]
    }
   ],
   "source": [
    "# Bitwise(^)     --------------> True, False -------> Output is True\n",
    "\n",
    "# In below statement we are using Bitwise XOR operator.\n",
    "# It will return True if both the the operands are oppostie else False\n",
    "\n",
    "#Bitwise XOR Truth table\n",
    "#op1        op2     result\n",
    "#True      False     True\n",
    "#True      True      False\n",
    "#False     True      True\n",
    "#False     False     False\n",
    "\n",
    "print(True ^ False)\n",
    "\n",
    "#output -> True"
   ]
  },
  {
   "cell_type": "code",
   "execution_count": 25,
   "id": "5bbe48aa",
   "metadata": {},
   "outputs": [
    {
     "name": "stdout",
     "output_type": "stream",
     "text": [
      "-2\n"
     ]
    }
   ],
   "source": [
    "# Bitwise negation(~) ---------> True  -------> Output is -2\n",
    "\n",
    "# The inverted bits are a complement to one, which turns zeros into ones and ones into zeros.\n",
    "# It can be expressed arithmetically as the subtraction of individual bit values from one\n",
    "\n",
    "print(~True)\n",
    "\n",
    "#output -> -2"
   ]
  },
  {
   "cell_type": "code",
   "execution_count": 26,
   "id": "31c3a0c7",
   "metadata": {},
   "outputs": [
    {
     "name": "stdout",
     "output_type": "stream",
     "text": [
      "4\n"
     ]
    }
   ],
   "source": [
    "#Bitwise left shift  ---------> True,2 \n",
    "\n",
    "# Left shft operator: It shifts to the left by given number.\n",
    "# True is interpreted as 1. \n",
    "# 0000 0001 << 2 \n",
    "# It shifts 1 towards left by 2 bits \n",
    "# So 1 << 2 becomes 0000 0100.\n",
    "# Decimal Equivalent of 0000 0100 is 4.\n",
    "\n",
    "print(True << 2)\n",
    "\n",
    "# Output 4"
   ]
  },
  {
   "cell_type": "code",
   "execution_count": 27,
   "id": "d16ce684",
   "metadata": {},
   "outputs": [
    {
     "name": "stdout",
     "output_type": "stream",
     "text": [
      "0\n"
     ]
    }
   ],
   "source": [
    "#Bitwise right shift  ---------> True,2 \n",
    "\n",
    "# Right shft operator: It shifts to the right by given number.\n",
    "# True is interpreted as 1. \n",
    "# 0000 0001 >> 2 \n",
    "# It shifts 1 towards right by 2 bits \n",
    "# So 1 >> 2 becomes 0000 0000.\n",
    "# Decimal Equivalent of 0000 0000 is 0.\n",
    "\n",
    "print(True >> 2)\n",
    "\n",
    "# Output 4"
   ]
  },
  {
   "cell_type": "markdown",
   "id": "0b90472f",
   "metadata": {},
   "source": [
    "# What is the output of expression inside the print statement. Cross check before running the program.\n"
   ]
  },
  {
   "cell_type": "code",
   "execution_count": 28,
   "id": "39c22852",
   "metadata": {},
   "outputs": [],
   "source": [
    "# Defining two variables 'a' and 'b'\n",
    "a = True\n",
    "b = True"
   ]
  },
  {
   "cell_type": "code",
   "execution_count": 29,
   "id": "99e119d8",
   "metadata": {},
   "outputs": [
    {
     "name": "stdout",
     "output_type": "stream",
     "text": [
      "True\n"
     ]
    }
   ],
   "source": [
    "print(a is b) #True or False?\n",
    "\n",
    "# Output -> True\n",
    "\n",
    "#Reason -> Since both are equal. So a is b will be True"
   ]
  },
  {
   "cell_type": "code",
   "execution_count": 30,
   "id": "4b8aeeb5",
   "metadata": {},
   "outputs": [
    {
     "name": "stdout",
     "output_type": "stream",
     "text": [
      "False\n"
     ]
    }
   ],
   "source": [
    "print(a is not b)\n",
    "\n",
    "\n",
    "# Output -> False\n",
    "\n",
    "#Reason -> Since both are not equal. So a is b will be False"
   ]
  },
  {
   "cell_type": "code",
   "execution_count": 31,
   "id": "198dc88e",
   "metadata": {},
   "outputs": [],
   "source": [
    "a = False\n",
    "b = False "
   ]
  },
  {
   "cell_type": "code",
   "execution_count": 32,
   "id": "db185d1d",
   "metadata": {},
   "outputs": [
    {
     "name": "stdout",
     "output_type": "stream",
     "text": [
      "True\n"
     ]
    }
   ],
   "source": [
    "print(a is b) \n",
    "\n",
    "\n",
    "# Output -> True\n",
    "\n",
    "#Reason -> Since both are equal. So a is b will be True"
   ]
  },
  {
   "cell_type": "code",
   "execution_count": 33,
   "id": "758aa9c3",
   "metadata": {},
   "outputs": [
    {
     "name": "stdout",
     "output_type": "stream",
     "text": [
      "False\n"
     ]
    }
   ],
   "source": [
    "print(a is not b)\n",
    "\n",
    "\n",
    "# Output -> True\n",
    "\n",
    "#Reason -> Since both are equal. So a is not b will be False"
   ]
  },
  {
   "cell_type": "markdown",
   "id": "4cae37a0",
   "metadata": {},
   "source": [
    "# Membership operation\n",
    "\n",
    "- in, not in are two membership operators and it returns boolean value"
   ]
  },
  {
   "cell_type": "code",
   "execution_count": 34,
   "id": "399b6c66",
   "metadata": {},
   "outputs": [
    {
     "name": "stdout",
     "output_type": "stream",
     "text": [
      "True\n"
     ]
    }
   ],
   "source": [
    "print(True in [10,10.20,10+20j,'Python', True])\n",
    "\n",
    "# output -> True\n",
    "\n",
    "# Reason -> Since True is present in given list. So it will return True."
   ]
  },
  {
   "cell_type": "code",
   "execution_count": 35,
   "id": "936d95fc",
   "metadata": {},
   "outputs": [
    {
     "name": "stdout",
     "output_type": "stream",
     "text": [
      "True\n"
     ]
    }
   ],
   "source": [
    "print(False in [10,10.20,10+20j,'Python', False])\n",
    "\n",
    "# output -> True\n",
    "\n",
    "# Reason -> Since False is present in given list. So it will return True."
   ]
  },
  {
   "cell_type": "code",
   "execution_count": 36,
   "id": "89a8a636",
   "metadata": {},
   "outputs": [
    {
     "name": "stdout",
     "output_type": "stream",
     "text": [
      "True\n"
     ]
    }
   ],
   "source": [
    "print(True in {1,2,3, True})\n",
    "\n",
    "# output -> True\n",
    "\n",
    "# Reason -> Since True is present in given set. So it will return True."
   ]
  },
  {
   "cell_type": "code",
   "execution_count": 37,
   "id": "485d2b6a",
   "metadata": {},
   "outputs": [
    {
     "name": "stdout",
     "output_type": "stream",
     "text": [
      "True\n"
     ]
    }
   ],
   "source": [
    "print(True in {True:100, False:200, True:300})\n",
    "\n",
    "# output -> True\n",
    "\n",
    "# Reason -> Since True is present in given dictionary as key. So it will return True."
   ]
  },
  {
   "cell_type": "code",
   "execution_count": 38,
   "id": "0f030410",
   "metadata": {},
   "outputs": [
    {
     "name": "stdout",
     "output_type": "stream",
     "text": [
      "True\n"
     ]
    }
   ],
   "source": [
    "print(False in {True:100, False:200, True:300})\n",
    "\n",
    "# output -> True\n",
    "\n",
    "# Reason -> Since False is present in given dictionary as key. So it will return True."
   ]
  },
  {
   "cell_type": "code",
   "execution_count": null,
   "id": "dc25d2b6",
   "metadata": {},
   "outputs": [],
   "source": []
  }
 ],
 "metadata": {
  "kernelspec": {
   "display_name": "Python 3 (ipykernel)",
   "language": "python",
   "name": "python3"
  },
  "language_info": {
   "codemirror_mode": {
    "name": "ipython",
    "version": 3
   },
   "file_extension": ".py",
   "mimetype": "text/x-python",
   "name": "python",
   "nbconvert_exporter": "python",
   "pygments_lexer": "ipython3",
   "version": "3.9.12"
  }
 },
 "nbformat": 4,
 "nbformat_minor": 5
}
