{
 "cells": [
  {
   "cell_type": "markdown",
   "id": "1d1ef512",
   "metadata": {},
   "source": [
    "# Declare an int value and store it in a variable.\n",
    "- Check the type and print the id of the same.\n"
   ]
  },
  {
   "cell_type": "code",
   "execution_count": 1,
   "id": "5cc0cab2",
   "metadata": {},
   "outputs": [
    {
     "name": "stdout",
     "output_type": "stream",
     "text": [
      "<class 'int'>\n",
      "140260131609168\n"
     ]
    }
   ],
   "source": [
    "# Declaring an int variable \n",
    "var = 10\n",
    "\n",
    "# printing the type of the variable \n",
    "print(type(var))\n",
    "\n",
    "# printing the id of the variable \n",
    "print(id(var))"
   ]
  },
  {
   "cell_type": "markdown",
   "id": "29581416",
   "metadata": {},
   "source": [
    "# Take one int value between 0 - 256.\n",
    "- Assign it to two different variables.\n",
    "- Check the id of both the variables. It should come the same. Check why?"
   ]
  },
  {
   "cell_type": "code",
   "execution_count": 2,
   "id": "4ecdf37d",
   "metadata": {},
   "outputs": [],
   "source": [
    "var1 = 10\n",
    "var2 = 10"
   ]
  },
  {
   "cell_type": "code",
   "execution_count": 3,
   "id": "51254c5f",
   "metadata": {},
   "outputs": [
    {
     "name": "stdout",
     "output_type": "stream",
     "text": [
      "140260131609168\n",
      "140260131609168\n"
     ]
    }
   ],
   "source": [
    "# printing the id of the variable \n",
    "print(id(var1))\n",
    "\n",
    "# printing the id of the variable \n",
    "print(id(var2))\n",
    "\n",
    "\n",
    "# output -> Id would be same.\n",
    "\n",
    "# Reason -> Samll interger with in the range of -5 to 256. Would use the same Id"
   ]
  },
  {
   "cell_type": "markdown",
   "id": "09990221",
   "metadata": {},
   "source": [
    "# Take one int value either less than -5 or greater than 256.\n",
    "- Assign it to two different variables.\n",
    "- Check the id of both the variables. It should come different.Check why?\n"
   ]
  },
  {
   "cell_type": "code",
   "execution_count": 4,
   "id": "73238559",
   "metadata": {},
   "outputs": [],
   "source": [
    "var1 = 1000\n",
    "var2 = 1000"
   ]
  },
  {
   "cell_type": "code",
   "execution_count": 6,
   "id": "43755f3f",
   "metadata": {},
   "outputs": [
    {
     "name": "stdout",
     "output_type": "stream",
     "text": [
      "140260285881136\n",
      "140260285880976\n"
     ]
    }
   ],
   "source": [
    "# printing the id of the variable \n",
    "print(id(var1))\n",
    "\n",
    "# printing the id of the variable \n",
    "print(id(var2))\n",
    "\n",
    "\n",
    "# output -> Id would be different.\n",
    "\n",
    "# Reason -> Since above intergers are not in the range of -5 to 256. Would use the different Id"
   ]
  },
  {
   "cell_type": "markdown",
   "id": "ff012067",
   "metadata": {},
   "source": [
    "# Arithmetic Operations on integers Take two different integer values. Store them in two different variables. Do below operations on them:-\n",
    " - Find sum of both numbers\n",
    " - Find difference between them\n",
    " - Find the product of both numbers.\n",
    " - Find value after dividing first num with second number.\n",
    " - Find the remainder after dividing first number with second number.\n",
    " - Find the quotient after dividing first number with second number .\n",
    " - Find the result of the first num to the power of the second number."
   ]
  },
  {
   "cell_type": "code",
   "execution_count": 7,
   "id": "c947b6ca",
   "metadata": {},
   "outputs": [],
   "source": [
    "var1 = 20\n",
    "var2 = 10"
   ]
  },
  {
   "cell_type": "code",
   "execution_count": 3,
   "id": "c6ac00e0",
   "metadata": {},
   "outputs": [
    {
     "name": "stdout",
     "output_type": "stream",
     "text": [
      "30\n"
     ]
    }
   ],
   "source": [
    "# Find sum of both the numbers\n",
    "print(var1 + var2)\n",
    "\n",
    "# 30"
   ]
  },
  {
   "cell_type": "code",
   "execution_count": 8,
   "id": "44b0b0d8",
   "metadata": {},
   "outputs": [
    {
     "name": "stdout",
     "output_type": "stream",
     "text": [
      "10\n"
     ]
    }
   ],
   "source": [
    "# Find difference between them\n",
    "print(var1 - var2)\n",
    "\n",
    "# 10"
   ]
  },
  {
   "cell_type": "code",
   "execution_count": 9,
   "id": "a2642994",
   "metadata": {},
   "outputs": [
    {
     "name": "stdout",
     "output_type": "stream",
     "text": [
      "200\n"
     ]
    }
   ],
   "source": [
    "#Find the product of both numbers\n",
    "print(var1 * var2)\n",
    "\n",
    "# 200"
   ]
  },
  {
   "cell_type": "code",
   "execution_count": 10,
   "id": "52d600be",
   "metadata": {},
   "outputs": [
    {
     "name": "stdout",
     "output_type": "stream",
     "text": [
      "2.0\n"
     ]
    }
   ],
   "source": [
    "# Find value after dividing first num with second number.\n",
    "print(var1/var2)\n",
    "\n",
    "# 2.0"
   ]
  },
  {
   "cell_type": "code",
   "execution_count": 11,
   "id": "5cd0fd61",
   "metadata": {},
   "outputs": [
    {
     "name": "stdout",
     "output_type": "stream",
     "text": [
      "0\n"
     ]
    }
   ],
   "source": [
    "#Find the remainder after dividing first number with second number.\n",
    "print(var1%var2)\n",
    "\n",
    "# 0"
   ]
  },
  {
   "cell_type": "code",
   "execution_count": 12,
   "id": "ceecabab",
   "metadata": {},
   "outputs": [
    {
     "name": "stdout",
     "output_type": "stream",
     "text": [
      "2.0\n"
     ]
    }
   ],
   "source": [
    "#Find the quotient after dividing first number with second number .\n",
    "\n",
    "print(var1/var2)\n",
    "\n",
    "# 2.0"
   ]
  },
  {
   "cell_type": "code",
   "execution_count": 13,
   "id": "7d4c7685",
   "metadata": {},
   "outputs": [
    {
     "name": "stdout",
     "output_type": "stream",
     "text": [
      "10240000000000\n"
     ]
    }
   ],
   "source": [
    "# Find the result of the first num to the power of the second number.\n",
    "print(var1 ** var2)\n",
    "\n",
    "# 8"
   ]
  },
  {
   "cell_type": "markdown",
   "id": "36930cf6",
   "metadata": {},
   "source": [
    "# Comparison Operators on integers Take two different integer values. Store them in two different variables. Do below operations on them:-\n",
    "   - Compare se two numbers with below operator:-\n",
    "       - Greater than, '>'\n",
    "       - Smaller than, '<'\n",
    "       - Greater than or equal to, '>='\n",
    "       - Less than or equal to, '<='\n",
    "   - Observe their output(return type should be boolean)"
   ]
  },
  {
   "cell_type": "code",
   "execution_count": 14,
   "id": "5a434179",
   "metadata": {},
   "outputs": [],
   "source": [
    "var1 = 20\n",
    "var2 = 10"
   ]
  },
  {
   "cell_type": "code",
   "execution_count": 15,
   "id": "dca9658a",
   "metadata": {},
   "outputs": [
    {
     "name": "stdout",
     "output_type": "stream",
     "text": [
      "True\n"
     ]
    }
   ],
   "source": [
    "print(var1 > var2) # True"
   ]
  },
  {
   "cell_type": "code",
   "execution_count": 16,
   "id": "45756e81",
   "metadata": {},
   "outputs": [
    {
     "name": "stdout",
     "output_type": "stream",
     "text": [
      "False\n"
     ]
    }
   ],
   "source": [
    "print(var1 < var2) # False"
   ]
  },
  {
   "cell_type": "code",
   "execution_count": 17,
   "id": "2d46cf29",
   "metadata": {},
   "outputs": [
    {
     "name": "stdout",
     "output_type": "stream",
     "text": [
      "True\n"
     ]
    }
   ],
   "source": [
    "print(var1 >= var2) # True"
   ]
  },
  {
   "cell_type": "code",
   "execution_count": 18,
   "id": "1b7519d3",
   "metadata": {},
   "outputs": [
    {
     "name": "stdout",
     "output_type": "stream",
     "text": [
      "False\n"
     ]
    }
   ],
   "source": [
    "print(var1 <= var2) # False"
   ]
  },
  {
   "cell_type": "markdown",
   "id": "a50aa1fe",
   "metadata": {},
   "source": [
    "# Equality Operator\n",
    "- Take two different integer values.\n",
    "    - Store them in two different variables.\n",
    "    - Equate them using equality operators (==, !=) \n",
    "- Observe the output(return type should be boolean)"
   ]
  },
  {
   "cell_type": "code",
   "execution_count": 19,
   "id": "e373b304",
   "metadata": {},
   "outputs": [],
   "source": [
    "var1 = 20\n",
    "var2 = 10"
   ]
  },
  {
   "cell_type": "code",
   "execution_count": 20,
   "id": "0c8840ea",
   "metadata": {},
   "outputs": [
    {
     "name": "stdout",
     "output_type": "stream",
     "text": [
      "False\n"
     ]
    }
   ],
   "source": [
    "print(var1 == var2) # False"
   ]
  },
  {
   "cell_type": "code",
   "execution_count": 21,
   "id": "b6384257",
   "metadata": {},
   "outputs": [
    {
     "name": "stdout",
     "output_type": "stream",
     "text": [
      "True\n"
     ]
    }
   ],
   "source": [
    "print(var1 != var2) # True"
   ]
  },
  {
   "cell_type": "markdown",
   "id": "a4a85879",
   "metadata": {},
   "source": [
    "# Logical operators\n",
    "- Observe the output of below code\n",
    "- Cross check the output manually"
   ]
  },
  {
   "cell_type": "markdown",
   "id": "7c647d99",
   "metadata": {},
   "source": [
    "- AND OPERATOR\n",
    "    - Returns True if both operands are True else False\n",
    "    - 0 is interpreted as False and non zero numbers as True\n",
    "- Print statement will print the \n",
    "    - 0 if any of the operand is zero\n",
    "    - if both of operands arew non zero then second operand"
   ]
  },
  {
   "cell_type": "code",
   "execution_count": 22,
   "id": "11a9739a",
   "metadata": {},
   "outputs": [
    {
     "name": "stdout",
     "output_type": "stream",
     "text": [
      "20\n"
     ]
    }
   ],
   "source": [
    "print(10 and 20) \n",
    "\n",
    "#output -> 20"
   ]
  },
  {
   "cell_type": "code",
   "execution_count": 23,
   "id": "b7d70398",
   "metadata": {},
   "outputs": [
    {
     "name": "stdout",
     "output_type": "stream",
     "text": [
      "0\n"
     ]
    }
   ],
   "source": [
    "print(0 and 20)\n",
    "\n",
    "# output -> 0"
   ]
  },
  {
   "cell_type": "code",
   "execution_count": 24,
   "id": "947f1387",
   "metadata": {},
   "outputs": [
    {
     "name": "stdout",
     "output_type": "stream",
     "text": [
      "0\n"
     ]
    }
   ],
   "source": [
    "print(20 and 0)\n",
    "\n",
    "# output -> 0"
   ]
  },
  {
   "cell_type": "code",
   "execution_count": 25,
   "id": "0ce81afe",
   "metadata": {},
   "outputs": [
    {
     "name": "stdout",
     "output_type": "stream",
     "text": [
      "0\n"
     ]
    }
   ],
   "source": [
    "print(0 and 0)\n",
    "\n",
    "# output -> 0"
   ]
  },
  {
   "cell_type": "markdown",
   "id": "86a7c154",
   "metadata": {},
   "source": [
    "- OR OPERATOR\n",
    "    - Returns True if atleast one of the operand is True\n",
    "    - Returns False if both of the operands are False\n",
    "    - 0 is interpreted as False and non zero numbers as True\n",
    "- Print statement will print the \n",
    "    - First operand if its non zero\n",
    "    - Else second operand if first operand is zero"
   ]
  },
  {
   "cell_type": "code",
   "execution_count": 26,
   "id": "177d40bf",
   "metadata": {},
   "outputs": [
    {
     "name": "stdout",
     "output_type": "stream",
     "text": [
      "10\n"
     ]
    }
   ],
   "source": [
    "print(10 or 20)\n",
    "\n",
    "#output -> 10"
   ]
  },
  {
   "cell_type": "code",
   "execution_count": 27,
   "id": "d623ab54",
   "metadata": {},
   "outputs": [
    {
     "name": "stdout",
     "output_type": "stream",
     "text": [
      "20\n"
     ]
    }
   ],
   "source": [
    "print(0 or 20)\n",
    "\n",
    "# output -> 20"
   ]
  },
  {
   "cell_type": "code",
   "execution_count": 28,
   "id": "8acd8e33",
   "metadata": {},
   "outputs": [
    {
     "name": "stdout",
     "output_type": "stream",
     "text": [
      "20\n"
     ]
    }
   ],
   "source": [
    "print(20 or 0)\n",
    "\n",
    "# output -> 20"
   ]
  },
  {
   "cell_type": "code",
   "execution_count": 29,
   "id": "21001ba8",
   "metadata": {},
   "outputs": [
    {
     "name": "stdout",
     "output_type": "stream",
     "text": [
      "0\n"
     ]
    }
   ],
   "source": [
    "print(0 or 0)\n",
    "\n",
    "# output -> 0"
   ]
  },
  {
   "cell_type": "markdown",
   "id": "f045d185",
   "metadata": {},
   "source": [
    "- NOT OPERATOR\n",
    "    - Returns True if operand is False\n",
    "    - Returns False if operand is True"
   ]
  },
  {
   "cell_type": "code",
   "execution_count": 30,
   "id": "5fa45b88",
   "metadata": {},
   "outputs": [
    {
     "name": "stdout",
     "output_type": "stream",
     "text": [
      "False\n"
     ]
    }
   ],
   "source": [
    "print(not 10)\n",
    "\n",
    "# output -> False"
   ]
  },
  {
   "cell_type": "code",
   "execution_count": 31,
   "id": "e312883f",
   "metadata": {},
   "outputs": [
    {
     "name": "stdout",
     "output_type": "stream",
     "text": [
      "True\n"
     ]
    }
   ],
   "source": [
    "print(not 0)\n",
    "\n",
    "# output -> True"
   ]
  },
  {
   "cell_type": "markdown",
   "id": "849fc147",
   "metadata": {},
   "source": [
    "# Bitwise Operators\n",
    "- Do below operations on the values provided below:-\n",
    "    - Bitwise & truth table\n",
    "        - 0 & 0 -> 0\n",
    "        - 0 & 1 -> 0\n",
    "        - 1 & 0 -> 0\n",
    "        - 1 & 1 -> 1\n",
    "    - Bitwise | truth table \n",
    "        - 0 & 0 -> 0\n",
    "        - 0 & 1 -> 1\n",
    "        - 1 & 0 -> 1\n",
    "        - 1 & 1 -> 1\n",
    "    - Bitwise ^ truth table\n",
    "        - 0 & 0 -> 0\n",
    "        - 0 & 1 -> 1\n",
    "        - 1 & 0 -> 1\n",
    "        - 1 & 1 -> 0"
   ]
  },
  {
   "cell_type": "code",
   "execution_count": 32,
   "id": "9f556651",
   "metadata": {},
   "outputs": [
    {
     "name": "stdout",
     "output_type": "stream",
     "text": [
      "0\n"
     ]
    }
   ],
   "source": [
    "print( 10 & 20 )\n",
    "\n",
    "# 10        -> 0000 1010\n",
    "# 20        -> 0001 0100\n",
    "# 10 & 20   -> 0000 0000\n",
    "# decimal of (0000 0000) is 0\n",
    "\n",
    "# output -> 0"
   ]
  },
  {
   "cell_type": "code",
   "execution_count": 33,
   "id": "80b63d4d",
   "metadata": {},
   "outputs": [
    {
     "name": "stdout",
     "output_type": "stream",
     "text": [
      "30\n"
     ]
    }
   ],
   "source": [
    "print(10 | 20)\n",
    "\n",
    "# 10        -> 0000 1010\n",
    "# 20        -> 0001 0100\n",
    "# 10 | 20   -> 0001 1110\n",
    "# decimal of (0001 1110) is 30\n",
    "\n",
    "# output -> 30"
   ]
  },
  {
   "cell_type": "code",
   "execution_count": 34,
   "id": "246c7291",
   "metadata": {},
   "outputs": [
    {
     "name": "stdout",
     "output_type": "stream",
     "text": [
      "30\n"
     ]
    }
   ],
   "source": [
    "print(10 ^ 20)\n",
    "\n",
    "# 10        -> 0000 1010\n",
    "# 20        -> 0001 0100\n",
    "# 10 | 20   -> 0001 1110\n",
    "# decimal of (0001 1110) is 30"
   ]
  },
  {
   "cell_type": "code",
   "execution_count": 35,
   "id": "2a03965f",
   "metadata": {},
   "outputs": [
    {
     "name": "stdout",
     "output_type": "stream",
     "text": [
      "-11\n"
     ]
    }
   ],
   "source": [
    "print(~10)\n",
    "\n",
    "# The inverted bits are a complement to one, which turns zeros into ones and ones into zeros.\n",
    "# It can be expressed arithmetically as the subtraction of individual bit values from one\n",
    "\n",
    "# output -> -11"
   ]
  },
  {
   "cell_type": "code",
   "execution_count": 36,
   "id": "8dd8eca2",
   "metadata": {},
   "outputs": [
    {
     "name": "stdout",
     "output_type": "stream",
     "text": [
      "40\n"
     ]
    }
   ],
   "source": [
    "print(10 << 2)\n",
    "\n",
    "# 10        -> 0000 1010\n",
    "# 10 << 2   -> 0010 1000\n",
    "# Decimal value of 0010 1000 is 40\n",
    "\n",
    "# output -> 40"
   ]
  },
  {
   "cell_type": "code",
   "execution_count": 37,
   "id": "69c8321f",
   "metadata": {},
   "outputs": [
    {
     "name": "stdout",
     "output_type": "stream",
     "text": [
      "2\n"
     ]
    }
   ],
   "source": [
    "print(10 >> 2)\n",
    "\n",
    "# 10        -> 0000 1010\n",
    "# 10 >> 2   -> 0000 0010\n",
    "# Decimal value of 0000 0010 is 2\n",
    "\n",
    "# output -> 2"
   ]
  },
  {
   "cell_type": "markdown",
   "id": "f82d44ca",
   "metadata": {},
   "source": [
    "# What is the output of expression inside print statement. Cross check before running the program."
   ]
  },
  {
   "cell_type": "code",
   "execution_count": 38,
   "id": "e8ad1294",
   "metadata": {},
   "outputs": [
    {
     "name": "stdout",
     "output_type": "stream",
     "text": [
      "True\n",
      "False\n"
     ]
    }
   ],
   "source": [
    "a = 10\n",
    "b = 10\n",
    "\n",
    "# NOTE : ids of 'a' and 'b' are same because both are with in the range of -5 to 256.\n",
    "\n",
    "print(a is b)\n",
    "# output -> True\n",
    "\n",
    "print(a is not b)\n",
    "# output -> False"
   ]
  },
  {
   "cell_type": "code",
   "execution_count": 39,
   "id": "9b44eb3c",
   "metadata": {},
   "outputs": [
    {
     "name": "stdout",
     "output_type": "stream",
     "text": [
      "False\n",
      "True\n"
     ]
    }
   ],
   "source": [
    "a = 1000\n",
    "b = 1000\n",
    "\n",
    "# NOTE : ids of 'a' and 'b' are different because both are not with in the range of -5 to 256.\n",
    "\n",
    "print(a is b)\n",
    "# output -> False\n",
    "\n",
    "print(a is not b)\n",
    "# output -> True"
   ]
  },
  {
   "cell_type": "markdown",
   "id": "2072c0e3",
   "metadata": {},
   "source": [
    "# What is the output of expression inside print statement. Cross check before running the program."
   ]
  },
  {
   "cell_type": "code",
   "execution_count": 40,
   "id": "0d5ff895",
   "metadata": {},
   "outputs": [
    {
     "name": "stdout",
     "output_type": "stream",
     "text": [
      "20\n"
     ]
    }
   ],
   "source": [
    "print(10+(10*32)//2**5&20+(~(-10))<<2)\n",
    "\n",
    "# output -> 20\n",
    "\n",
    "# 2**5&20+(~(-10))<<2 will be evaluated to 32\n",
    "# 10 + (10*32)//32\n",
    "# 10 + (320)//32\n",
    "# 10 + 10\n",
    "# 20"
   ]
  },
  {
   "cell_type": "markdown",
   "id": "42d543dc",
   "metadata": {},
   "source": [
    "# Membership operation\n",
    "- in, not in are two membership operators and it returns boolean value\n"
   ]
  },
  {
   "cell_type": "code",
   "execution_count": 41,
   "id": "0f80ec35",
   "metadata": {},
   "outputs": [
    {
     "name": "stdout",
     "output_type": "stream",
     "text": [
      "True\n",
      "True\n",
      "True\n",
      "True\n",
      "True\n",
      "True\n"
     ]
    }
   ],
   "source": [
    "print('2' in 'Python2.7.8') \n",
    "# output -> True\n",
    "# Reason -> 2 is present in the string 'Python2.7.8'\n",
    "\n",
    "\n",
    "print(10 in [10,10.20,10+20j,'Python'])\n",
    "# output -> True\n",
    "# Reason -> 10 is present in the array [10,10.20,10+20j,'Python']\n",
    "\n",
    "print(10 in (10,10.20,10+20j,'Python'))\n",
    "# output -> True\n",
    "# Reason -> 10 is present in the tuple (10,10.20,10+20j,'Python')\n",
    "\n",
    "print(2 in {1,2,3})\n",
    "# output -> True\n",
    "# Reason -> 2 is present in the set {1,2,3}\n",
    "\n",
    "print(3 in {1:100, 2:200, 3:300})\n",
    "# output -> True\n",
    "# Reason -> 3 is present in the Dictionary {1:100, 2:200, 3:300}\n",
    "\n",
    "print(10 in range(20))\n",
    "# output -> True\n",
    "# Reason -> 10 is present in the range between 0 to 20"
   ]
  },
  {
   "cell_type": "markdown",
   "id": "c1150729",
   "metadata": {},
   "source": [
    "# An integer can be represented in binary, octal or hexadecimal form. \n",
    "- Declare one binary, one octal and one hexadecimal value and store them in three different variables.\n",
    "- Convert 9876 to its binary, octal and hexadecimal equivalent and print their corresponding value."
   ]
  },
  {
   "cell_type": "code",
   "execution_count": 42,
   "id": "9a4cd2c1",
   "metadata": {},
   "outputs": [],
   "source": [
    "a = 0b1010000 # Binary\n",
    "b = 0o7436 # Octal\n",
    "c = 0xfade #Hexa decimal\n"
   ]
  },
  {
   "cell_type": "code",
   "execution_count": 43,
   "id": "2e193a01",
   "metadata": {},
   "outputs": [
    {
     "name": "stdout",
     "output_type": "stream",
     "text": [
      "0b10011010010100\n",
      "0o23224\n",
      "0x2694\n"
     ]
    }
   ],
   "source": [
    "print(bin(9876)) # Binary of 9876 -> 0b10011010010100\n",
    "\n",
    "print(oct(9876)) # Octal of 9876 -> 0o23224\n",
    "\n",
    "print(hex(9876)) # Hexa decimal 9876 -> 0x2694\n"
   ]
  },
  {
   "cell_type": "markdown",
   "id": "b76e520c",
   "metadata": {},
   "source": [
    "# What will be the output of following:-"
   ]
  },
  {
   "cell_type": "code",
   "execution_count": 44,
   "id": "ca016a10",
   "metadata": {},
   "outputs": [
    {
     "name": "stdout",
     "output_type": "stream",
     "text": [
      "80\n",
      "3870\n",
      "64222\n"
     ]
    }
   ],
   "source": [
    "a = 0b1010000\n",
    "print(a) # prints 80\n",
    "\n",
    "b = 0o7436 \n",
    "print(b) # prints 3870\n",
    "\n",
    "c = 0xfade \n",
    "print(c) # prints 64222"
   ]
  },
  {
   "cell_type": "code",
   "execution_count": 90,
   "id": "42d360c3",
   "metadata": {},
   "outputs": [
    {
     "name": "stdout",
     "output_type": "stream",
     "text": [
      "0b1010000\n",
      "0o7436\n",
      "0xfade\n",
      "0b1010000\n",
      "0b1111101011011110\n",
      "0o175336\n",
      "0o7436\n",
      "0x50\n",
      "0xfade\n"
     ]
    }
   ],
   "source": [
    "print(bin(80)) # 0b1010000\n",
    "\n",
    "print(oct(3870)) # 0o7436\n",
    "\n",
    "print(hex(64222)) # 0xfade\n",
    "\n",
    "print(bin(0b1010000)) # 0b1010000\n",
    "\n",
    "print(bin(0xfade)) # 0b1111101011011110\n",
    "\n",
    "print(oct(0xfade)) # 0o175336\n",
    "\n",
    "print(oct(0o7436)) # 0o7436\n",
    "\n",
    "print(hex(0b1010000)) # 0x50\n",
    "\n",
    "print(hex(0xfade)) # 0xfade"
   ]
  },
  {
   "cell_type": "code",
   "execution_count": null,
   "id": "b84d9eb0",
   "metadata": {},
   "outputs": [],
   "source": []
  }
 ],
 "metadata": {
  "kernelspec": {
   "display_name": "Python 3 (ipykernel)",
   "language": "python",
   "name": "python3"
  },
  "language_info": {
   "codemirror_mode": {
    "name": "ipython",
    "version": 3
   },
   "file_extension": ".py",
   "mimetype": "text/x-python",
   "name": "python",
   "nbconvert_exporter": "python",
   "pygments_lexer": "ipython3",
   "version": "3.9.12"
  }
 },
 "nbformat": 4,
 "nbformat_minor": 5
}
