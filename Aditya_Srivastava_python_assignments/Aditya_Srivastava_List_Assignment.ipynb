{
 "cells": [
  {
   "cell_type": "code",
   "execution_count": 1,
   "metadata": {
    "id": "gtlAv2oq9yzd"
   },
   "outputs": [
    {
     "name": "stdout",
     "output_type": "stream",
     "text": [
      "100\n"
     ]
    }
   ],
   "source": [
    "#Write a Python program to find the sum of all elements in a list using loop.\n",
    "#Input:- [10,20,30,40]\n",
    "#Output:- 100\n",
    "\n",
    "def listSum(lst):\n",
    "    sum_of_elements = 0\n",
    "    for i in lst:\n",
    "        sum_of_elements += i\n",
    "    return sum_of_elements\n",
    "\n",
    "print(listSum([10,20,30,40]))"
   ]
  },
  {
   "cell_type": "code",
   "execution_count": 2,
   "metadata": {
    "id": "gTbA8psa93Y_"
   },
   "outputs": [
    {
     "name": "stdout",
     "output_type": "stream",
     "text": [
      "240000\n"
     ]
    }
   ],
   "source": [
    "#Write a Python program to find the multiplication of all elements in a list using loop.\n",
    "#Input:- [10,20,30,40]\n",
    "#Output:- 240000\n",
    "\n",
    "\n",
    "def listMultiplication(lst):\n",
    "    multiplication_of_elements = 1\n",
    "    for i in lst:\n",
    "        multiplication_of_elements *= i\n",
    "    return multiplication_of_elements\n",
    "\n",
    "print(listMultiplication([10,20,30,40]))"
   ]
  },
  {
   "cell_type": "code",
   "execution_count": 3,
   "metadata": {
    "id": "XBCrEtLN94Lj"
   },
   "outputs": [
    {
     "name": "stdout",
     "output_type": "stream",
     "text": [
      "2321\n"
     ]
    }
   ],
   "source": [
    "#Write a Python program to find the largest number from a list using loop.\n",
    "#Input:- [10,100,2321, 1,200,2]\n",
    "#Output:- 2321\n",
    "\n",
    "def largestElement(lst):\n",
    "    max_element = -1000000000000000000000000000000000000000 # Initialize with extremly small value. \n",
    "    for i in lst:\n",
    "        if i > max_element:\n",
    "            max_element = i\n",
    "    return max_element\n",
    "\n",
    "print(largestElement([10,100,2321, 1,200,2]))"
   ]
  },
  {
   "cell_type": "code",
   "execution_count": 4,
   "metadata": {
    "id": "l3paUtbH94Vw"
   },
   "outputs": [
    {
     "name": "stdout",
     "output_type": "stream",
     "text": [
      "1\n"
     ]
    }
   ],
   "source": [
    "#Write a Python program to find the smallest number from a list using loop.\n",
    "#Input:- [10,100,2321, 1,200,2]\n",
    "#Output:- 1\n",
    "\n",
    "\n",
    "def smallestElement(lst):\n",
    "    min_element = 1000000000000000000000000000000000000000 # Initialize with extremly large value. \n",
    "    for i in lst:\n",
    "        if i < min_element:\n",
    "            min_element = i\n",
    "    return min_element\n",
    "\n",
    "print(smallestElement([10,100,2321, 1,200,2]))"
   ]
  },
  {
   "cell_type": "code",
   "execution_count": 5,
   "metadata": {
    "id": "JTVgy5VD94cE"
   },
   "outputs": [
    {
     "name": "stdout",
     "output_type": "stream",
     "text": [
      "2\n"
     ]
    }
   ],
   "source": [
    "#Write a Python program to count the number of strings having length more than 2 and are palindrome in a list using loop.\n",
    "#Input:- ['ab', 'abc', 'aba', 'xyz', '1991']\n",
    "#Output:- 2\n",
    "\n",
    "def checkPalimdrome(s):\n",
    "    return s == s[::-1]\n",
    "\n",
    "\n",
    "def palindromeMoreThanSizeTwo(lst):\n",
    "    palindrome_count = 0\n",
    "    for i in lst:\n",
    "        if len(i) >= 2:\n",
    "            if checkPalimdrome(i):\n",
    "                palindrome_count += 1\n",
    "    return palindrome_count      \n",
    "\n",
    "\n",
    "print(palindromeMoreThanSizeTwo(['ab', 'abc', 'aba', 'xyz', '1991']))"
   ]
  },
  {
   "cell_type": "code",
   "execution_count": 6,
   "metadata": {
    "id": "xs-ZGJbJ94gr"
   },
   "outputs": [
    {
     "name": "stdout",
     "output_type": "stream",
     "text": [
      "[1, 2, 9, 10, 65, 80, 100, 298, 483, 9213, 49876]\n"
     ]
    }
   ],
   "source": [
    "#Write a Python program to sort a list in ascending order using loop.\n",
    "#Input:- [100,10,1,298,65,483,49876,2,80,9,9213]\n",
    "#Output:- [1,2,9,10,65,80,100,298,483,9213,49876]\n",
    "\n",
    "\n",
    "def swap(lst,i, j):\n",
    "    lst[i],lst[j] = lst[j],lst[i]\n",
    "\n",
    "\n",
    "def sortAscending(lst):\n",
    "    for index, i in enumerate(lst):\n",
    "        min_element_index = index\n",
    "        j = min_element_index + 1\n",
    "        while(j < len(lst)):\n",
    "            if lst[j] < lst[min_element_index]:\n",
    "                min_element_index = j\n",
    "            j += 1\n",
    "        swap(lst,index,min_element_index )\n",
    "    return lst\n",
    "        \n",
    "    \n",
    "print(sortAscending([100,10,1,298,65,483,49876,2,80,9,9213]))\n",
    "# [1, 2, 9, 10, 65, 80, 100, 298, 483, 9213, 49876]\n"
   ]
  },
  {
   "cell_type": "code",
   "execution_count": 7,
   "metadata": {
    "id": "VhKQJizZ94kg"
   },
   "outputs": [
    {
     "name": "stdout",
     "output_type": "stream",
     "text": [
      "[(9, 1), (2, 3), (5, 4), (5, 5), (7, 6), (5, 9)]\n"
     ]
    }
   ],
   "source": [
    "#Write a Python program to get a sorted list in increasing order of last element in each tuple in a given list using loop.\n",
    "#Input:- [(5,4),(9,1),(2,3),(5,9),(7,6),(5,5)]\n",
    "#output:- [(9,1),(2,3),(5,4),(5,5),(7,6),(5,9)]\n",
    "\n",
    "\n",
    "def swap(lst,i, j):\n",
    "    lst[i],lst[j] = lst[j],lst[i]\n",
    "\n",
    "\n",
    "def sortAscendingTuple(lst):\n",
    "    for index, i in enumerate(lst):\n",
    "        min_element_index = index\n",
    "        j = min_element_index + 1\n",
    "        while(j < len(lst)):\n",
    "            if lst[j][1] < lst[min_element_index][1]:\n",
    "                min_element_index = j\n",
    "            j += 1\n",
    "        swap(lst,index,min_element_index )\n",
    "    return lst\n",
    "\n",
    "\n",
    "print(sortAscendingTuple([(5,4),(9,1),(2,3),(5,9),(7,6),(5,5)]))\n",
    "# [(9, 1), (2, 3), (5, 4), (5, 5), (7, 6), (5, 9)]"
   ]
  },
  {
   "cell_type": "code",
   "execution_count": 8,
   "metadata": {
    "id": "YJrCLYp694n_"
   },
   "outputs": [
    {
     "name": "stdout",
     "output_type": "stream",
     "text": [
      "[10, 1, 11, 29, 876, 768, 92]\n"
     ]
    }
   ],
   "source": [
    "#Write a Python program to remove fuplicate element from a list using loop.\n",
    "#Input:- [10,1,11,1,29,876,768,10,11,1,92,29,876]\n",
    "#Output:- [10,1,11,29,876,768,92]\n",
    "\n",
    "\n",
    "def removeDuplicate(lst):\n",
    "    final_list = []\n",
    "    for i in lst:\n",
    "        if not i in final_list:\n",
    "            final_list.append(i)\n",
    "    return final_list\n",
    "\n",
    "\n",
    "print(removeDuplicate([10,1,11,1,29,876,768,10,11,1,92,29,876]))\n",
    "# [10,1,11,29,876,768,92]"
   ]
  },
  {
   "cell_type": "code",
   "execution_count": 9,
   "metadata": {
    "id": "koYe4YCu94rh"
   },
   "outputs": [
    {
     "name": "stdout",
     "output_type": "stream",
     "text": [
      "List is empty\n",
      "List is not empty\n"
     ]
    }
   ],
   "source": [
    "#Write a Python program to check a list is empty or not?\n",
    "#Input:- []\n",
    "#Output:- List is empty\n",
    "#Input:- [10,20,30]\n",
    "#Output:- List is not empty\n",
    "\n",
    "\n",
    "def isEmpty(lst):\n",
    "    if lst:\n",
    "        return 'List is not empty' \n",
    "    else:\n",
    "        return 'List is empty'\n",
    "    \n",
    "\n",
    "print(isEmpty([]))\n",
    "# List is empty\n",
    "\n",
    "\n",
    "print(isEmpty([10,20,30]))\n",
    "# List is not empty"
   ]
  },
  {
   "cell_type": "code",
   "execution_count": 10,
   "metadata": {
    "id": "mES1WANa94u5"
   },
   "outputs": [
    {
     "name": "stdout",
     "output_type": "stream",
     "text": [
      "[10, 10.2, (10+20j), 'Python', [10, 20], (10, 20)]\n",
      "140223334425536\n",
      "140223334426688\n"
     ]
    }
   ],
   "source": [
    "#Write a Python program to copy a list using loop.\n",
    "#inp_lst = [10,10.20,10+20j, 'Python', [10,20], (10,20)]\n",
    "#out_lst = [10,10.20,10+20j, 'Python', [10,20], (10,20)]\n",
    "\n",
    "\n",
    "def copyList(lst):\n",
    "    copy = []\n",
    "    for i in lst:\n",
    "        copy.append(i)\n",
    "    return copy\n",
    "\n",
    "\n",
    "input_list = [10,10.20,10+20j, 'Python', [10,20], (10,20)]\n",
    "\n",
    "output_list = copyList(input_list) # Copy of input list\n",
    "\n",
    "print(output_list) # [10, 10.2, (10+20j), 'Python', [10, 20], (10, 20)]\n",
    "\n",
    "print(id(input_list))\n",
    "print(id(output_list))\n",
    "\n",
    "# Since ids are different its a copy of given input list"
   ]
  },
  {
   "cell_type": "code",
   "execution_count": 11,
   "metadata": {
    "id": "CpBh31WO94yi"
   },
   "outputs": [
    {
     "name": "stdout",
     "output_type": "stream",
     "text": [
      "['much', 'wood', 'would', 'woodchuck', 'chuck', 'woodchuck', 'could', 'chuck', 'wood']\n"
     ]
    }
   ],
   "source": [
    "#Write a Python program to find the list of words that are longer than or equal to 4 from a given string.\n",
    "#Input:- 'How much wood would a woodchuck chuck if a woodchuck could chuck wood'\n",
    "#Output:- ['much', 'wood', 'would', 'woodchuck', 'chuck', 'could']\n",
    "#Note:- Duplicate should be avoided.\n",
    "\n",
    "\n",
    "def wordsLongerThanFourCharacters(input_str):\n",
    "    final_lst = []\n",
    "    for i in input_str.split(' '):\n",
    "        if len(i) >= 4:\n",
    "            final_lst.append(i)\n",
    "    return final_lst\n",
    "\n",
    "\n",
    "print(wordsLongerThanFourCharacters('How much wood would a woodchuck chuck if a woodchuck could chuck wood'))\n",
    "# ['much', 'wood', 'would', 'woodchuck', 'chuck', 'woodchuck', 'could', 'chuck', 'wood']        \n"
   ]
  },
  {
   "cell_type": "code",
   "execution_count": 12,
   "metadata": {
    "id": "YVfj0fgZ9416"
   },
   "outputs": [
    {
     "name": "stdout",
     "output_type": "stream",
     "text": [
      "True\n"
     ]
    }
   ],
   "source": [
    "#Write a Python program which takes two list as input and returns True if they have at least 3 common elements.\n",
    "#inp_lst1 = [10,20,'Python', 10.20, 10+20j, [10,20,30], (10,20,30)]\n",
    "#inp_lst2 = [(10,20,30),1,20+3j,100.2, 10+20j, [10,20,30],'Python']\n",
    "#Output:- True\n",
    "\n",
    "\n",
    "def checkCommonElements(lst1, lst2):\n",
    "    common_elements_count = 0\n",
    "    for i in lst1:\n",
    "        for j in lst2:\n",
    "            if i == j:\n",
    "                common_elements_count += 1\n",
    "    return common_elements_count >= 3\n",
    "\n",
    "print(checkCommonElements([10,20,'Python', 10.20, 10+20j, [10,20,30], (10,20,30)], \n",
    "                          [(10,20,30),1,20+3j,100.2, 10+20j, [10,20,30],'Python']))\n",
    "# True"
   ]
  },
  {
   "cell_type": "code",
   "execution_count": 13,
   "metadata": {
    "id": "7vwc3pjR945O"
   },
   "outputs": [
    {
     "name": "stdout",
     "output_type": "stream",
     "text": [
      "[[0, 0, 0, 0], [0, 1, 2, 3], [0, 2, 4, 6], [0, 3, 6, 9]]\n"
     ]
    }
   ],
   "source": [
    "#Write a Python program to create a 4X4 2D matrix with below elements using loop and list comprehension both.\n",
    "#Output:- [[0,0,0,0],[0,1,2,3],[0,2,4,6],[0,3,6,9]]\n",
    "\n",
    "\n",
    "def create4X4Matrix():\n",
    "    x = 0\n",
    "    final_4x4_matrix = []\n",
    "    while(x < 4): # Loop \n",
    "        final_4x4_matrix.append([x * i for i in range(4)]) # list comprehension\n",
    "        x += 1        \n",
    "    return final_4x4_matrix\n",
    "\n",
    "\n",
    "\n",
    "print(create4X4Matrix()) \n",
    "# [[0, 0, 0, 0], [0, 1, 2, 3], [0, 2, 4, 6], [0, 3, 6, 9]]"
   ]
  },
  {
   "cell_type": "code",
   "execution_count": 14,
   "metadata": {
    "id": "Pxafor84948b"
   },
   "outputs": [
    {
     "name": "stdout",
     "output_type": "stream",
     "text": [
      "[[[0, 0, 0, 0, 0, 0], [0, 0, 0, 0, 0, 0], [0, 0, 0, 0, 0, 0], [0, 0, 0, 0, 0, 0]], [[0, 0, 0, 0, 0, 0], [1, 1, 1, 1, 1, 1], [2, 2, 2, 2, 2, 2], [3, 3, 3, 3, 3, 3]], [[0, 0, 0, 0, 0, 0], [2, 2, 2, 2, 2, 2], [4, 4, 4, 4, 4, 4], [6, 6, 6, 6, 6, 6]]]\n"
     ]
    }
   ],
   "source": [
    "#Write a Python program to create a 3X4X6 3D matrix wiith below elements using loop\n",
    "#Output:- \n",
    "# [\n",
    "#     [[0,0,0,0,0,0],[0,0,0,0,0,0],[0,0,0,0,0,0],[0,0,0,0,0,0]],\n",
    "#     [[0,0,0,0,0,0],[1,1,1,1,1,1],[2,2,2,2,2,2],[3,3,3,3,3,3]],\n",
    "#     [[0,0,0,0,0,0],[2,2,2,2,2,2],[4,4,4,4,4,4],[6,6,6,6,6,6]]\n",
    "# ]\n",
    "\n",
    "\n",
    "\n",
    "def create3X4X63DMatrix():\n",
    "    x = 0\n",
    "    final_3X4X6_matrix = []\n",
    "    \n",
    "    while(x < 3): # Loop \n",
    "        y = 0\n",
    "        tmp = []\n",
    "        \n",
    "        while(y < 4): # Loop\n",
    "            tmp.append([x * y for i in range(6)]) # list comprehension\n",
    "            y += 1\n",
    "            \n",
    "        final_3X4X6_matrix.append(tmp)\n",
    "        x += 1    \n",
    "        \n",
    "    return final_3X4X6_matrix\n",
    "\n",
    "\n",
    "\n",
    "print(create3X4X63DMatrix())\n",
    "# [[[0, 0, 0, 0, 0, 0], [0, 0, 0, 0, 0, 0], [0, 0, 0, 0, 0, 0], [0, 0, 0, 0, 0, 0]], \n",
    "# [[0, 0, 0, 0, 0, 0], [1, 1, 1, 1, 1, 1], [2, 2, 2, 2, 2, 2], [3, 3, 3, 3, 3, 3]], \n",
    "# [[0, 0, 0, 0, 0, 0], [2, 2, 2, 2, 2, 2], [4, 4, 4, 4, 4, 4], [6, 6, 6, 6, 6, 6]]]"
   ]
  },
  {
   "cell_type": "code",
   "execution_count": 15,
   "metadata": {
    "id": "lYNv8gk794_p"
   },
   "outputs": [
    {
     "name": "stdout",
     "output_type": "stream",
     "text": [
      "[21, 87, 45, 33, 1]\n"
     ]
    }
   ],
   "source": [
    "#Write a Python program which takes a list of numbers as input and prints a new list after removing even numbers from it.\n",
    "#Input:- [10,21,22,98,87,45,33,1,2,100]\n",
    "#Output:- [21,87,45,33,1]\n",
    "\n",
    "\n",
    "def removeEvenNumber(lst):\n",
    "    odd_numbers = []\n",
    "    for i in lst:\n",
    "        if i % 2 != 0:\n",
    "            odd_numbers.append(i)\n",
    "    return odd_numbers\n",
    "\n",
    "\n",
    "\n",
    "print(removeEvenNumber([10,21,22,98,87,45,33,1,2,100]))\n",
    "# [21, 87, 45, 33, 1]\n"
   ]
  },
  {
   "cell_type": "code",
   "execution_count": null,
   "metadata": {
    "id": "3BaCb-rB95B7"
   },
   "outputs": [],
   "source": [
    "\n",
    "\n",
    "\n"
   ]
  }
 ],
 "metadata": {
  "colab": {
   "name": "List_Assignment.ipynb",
   "provenance": []
  },
  "kernelspec": {
   "display_name": "Python 3 (ipykernel)",
   "language": "python",
   "name": "python3"
  },
  "language_info": {
   "codemirror_mode": {
    "name": "ipython",
    "version": 3
   },
   "file_extension": ".py",
   "mimetype": "text/x-python",
   "name": "python",
   "nbconvert_exporter": "python",
   "pygments_lexer": "ipython3",
   "version": "3.9.12"
  }
 },
 "nbformat": 4,
 "nbformat_minor": 1
}
