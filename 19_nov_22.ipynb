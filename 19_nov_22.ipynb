{
 "cells": [
  {
   "cell_type": "code",
   "execution_count": null,
   "id": "aa3f0882",
   "metadata": {},
   "outputs": [],
   "source": [
    "#Syntax \n",
    "# Fort loop\n",
    "\n",
    "for var in iterable:\n",
    "    stat1\n",
    "    stat2\n",
    "    stat3\n",
    "\n",
    "# While loop\n",
    "while condition:\n",
    "    stat2"
   ]
  },
  {
   "cell_type": "code",
   "execution_count": 7,
   "id": "f50b310c",
   "metadata": {},
   "outputs": [
    {
     "name": "stdout",
     "output_type": "stream",
     "text": [
      "p\n",
      "yy\n",
      "ttt\n",
      "hhhh\n",
      "ooooo\n",
      "nnnnnn\n"
     ]
    },
    {
     "data": {
      "text/plain": [
       "6"
      ]
     },
     "execution_count": 7,
     "metadata": {},
     "output_type": "execute_result"
    }
   ],
   "source": [
    "a = 'python'\n",
    "index = 1\n",
    "for var in a:\n",
    "    print(var * index)\n",
    "    index += 1\n",
    "len(a)"
   ]
  },
  {
   "cell_type": "code",
   "execution_count": 9,
   "id": "9091ddd4",
   "metadata": {},
   "outputs": [
    {
     "name": "stdout",
     "output_type": "stream",
     "text": [
      "p\n",
      "yy\n",
      "ttt\n",
      "hhhh\n",
      "ooooo\n",
      "nnnnnn\n"
     ]
    }
   ],
   "source": [
    "index = 1\n",
    "while index <= len(a):\n",
    "    print(a[index -1 ] * index)\n",
    "    index += 1"
   ]
  },
  {
   "cell_type": "code",
   "execution_count": 17,
   "id": "abb37d4f",
   "metadata": {},
   "outputs": [
    {
     "name": "stdout",
     "output_type": "stream",
     "text": [
      "0\n",
      "1\n",
      "2\n",
      "0\n",
      "1\n",
      "2\n",
      "4\n",
      "5\n",
      "6\n",
      "7\n",
      "8\n",
      "v1f1\n",
      "v1f2\n",
      "v2f2\n",
      "v2f3\n",
      "v1f4\n",
      "v2f4\n"
     ]
    }
   ],
   "source": [
    "# break, continue, pass\n",
    "for i in range(9):\n",
    "    if i == 3:\n",
    "        break\n",
    "    print(i)\n",
    "    \n",
    "for i in range(9):\n",
    "    if i == 3:\n",
    "        continue\n",
    "    print(i)\n",
    "\n",
    "lst = ['file1', 'file2', 'file3', 'file4']\n",
    "for i in lst:\n",
    "    if i == 'file1':\n",
    "        print('v1f1')\n",
    "        continue\n",
    "    if i == 'file2':\n",
    "        print('v1f2')\n",
    "    if i == 'file3':\n",
    "        pass\n",
    "    if i == 'file4':\n",
    "        print('v1f4')\n",
    "    if i == 'file1':\n",
    "        print('v2f1')\n",
    "    if i == 'file2':\n",
    "        print('v2f2')\n",
    "    if i == 'file3':\n",
    "        print('v2f3')\n",
    "    if i == 'file4':\n",
    "        print('v2f4')\n",
    "    "
   ]
  },
  {
   "cell_type": "code",
   "execution_count": 4,
   "id": "8209c566",
   "metadata": {},
   "outputs": [
    {
     "name": "stdout",
     "output_type": "stream",
     "text": [
      "nnnnnn\n",
      "ooooo\n",
      "hhhh\n",
      "ttt\n",
      "yy\n",
      "p\n"
     ]
    },
    {
     "ename": "IndexError",
     "evalue": "string index out of range",
     "output_type": "error",
     "traceback": [
      "\u001b[0;31m---------------------------------------------------------------------------\u001b[0m",
      "\u001b[0;31mIndexError\u001b[0m                                Traceback (most recent call last)",
      "Input \u001b[0;32mIn [4]\u001b[0m, in \u001b[0;36m<cell line: 5>\u001b[0;34m()\u001b[0m\n\u001b[1;32m      4\u001b[0m size_of_a \u001b[38;5;241m=\u001b[39m \u001b[38;5;28mlen\u001b[39m(a)\n\u001b[1;32m      5\u001b[0m \u001b[38;5;28;01mwhile\u001b[39;00m index \u001b[38;5;241m<\u001b[39m\u001b[38;5;241m=\u001b[39m \u001b[38;5;28mlen\u001b[39m(a):\n\u001b[0;32m----> 6\u001b[0m     \u001b[38;5;28mprint\u001b[39m(\u001b[43ma\u001b[49m\u001b[43m[\u001b[49m\u001b[43mindex\u001b[49m\u001b[43m]\u001b[49m \u001b[38;5;241m*\u001b[39m (size_of_a))\n\u001b[1;32m      7\u001b[0m     index \u001b[38;5;241m+\u001b[39m\u001b[38;5;241m=\u001b[39m \u001b[38;5;241m1\u001b[39m\n\u001b[1;32m      8\u001b[0m     size_of_a \u001b[38;5;241m-\u001b[39m\u001b[38;5;241m=\u001b[39m \u001b[38;5;241m1\u001b[39m\n",
      "\u001b[0;31mIndexError\u001b[0m: string index out of range"
     ]
    }
   ],
   "source": [
    "a = 'python'\n",
    "a = a[::-1]\n",
    "index = 0\n",
    "size_of_a = len(a)\n",
    "while index <= len(a):\n",
    "    print(a[index] * (size_of_a))\n",
    "    index += 1\n",
    "    size_of_a -= 1"
   ]
  },
  {
   "cell_type": "code",
   "execution_count": 7,
   "id": "9c23d3ca",
   "metadata": {},
   "outputs": [
    {
     "name": "stdout",
     "output_type": "stream",
     "text": [
      "nnnnnn\n",
      "ooooo\n",
      "hhhh\n",
      "ttt\n",
      "yy\n",
      "p\n"
     ]
    }
   ],
   "source": [
    "a = 'python'\n",
    "a = a[::-1]\n",
    "size_of_a = len(a)\n",
    "for index in a:\n",
    "    print(index * (size_of_a))\n",
    "    size_of_a -= 1"
   ]
  },
  {
   "cell_type": "code",
   "execution_count": null,
   "id": "365526ca",
   "metadata": {},
   "outputs": [],
   "source": [
    "#Function\n",
    "def funtion_name(parameters):\n",
    "    stat1\n",
    "    stat2\n",
    "    "
   ]
  },
  {
   "cell_type": "code",
   "execution_count": 8,
   "id": "8cfa7dff",
   "metadata": {},
   "outputs": [
    {
     "name": "stdout",
     "output_type": "stream",
     "text": [
      "30\n"
     ]
    }
   ],
   "source": [
    "def add():\n",
    "    print(10 + 20)\n",
    "add()"
   ]
  },
  {
   "cell_type": "code",
   "execution_count": 19,
   "id": "de885091",
   "metadata": {},
   "outputs": [
    {
     "name": "stdout",
     "output_type": "stream",
     "text": [
      "palindrom\n"
     ]
    }
   ],
   "source": [
    "def is_palindrome(str):\n",
    "    '''This is a function to know whether the give string is palindrome or not'''\n",
    "    if str == str[::-1]:\n",
    "        print('palindrom')\n",
    "    else:\n",
    "        print('no')\n",
    "        \n",
    "is_palindrome('level')"
   ]
  },
  {
   "cell_type": "code",
   "execution_count": 12,
   "id": "c91be555",
   "metadata": {},
   "outputs": [
    {
     "name": "stdout",
     "output_type": "stream",
     "text": [
      "palindrom\n"
     ]
    }
   ],
   "source": [
    "is_palindrome('level')"
   ]
  },
  {
   "cell_type": "code",
   "execution_count": 18,
   "id": "077892d1",
   "metadata": {},
   "outputs": [
    {
     "ename": "SyntaxError",
     "evalue": "invalid syntax (1181043404.py, line 7)",
     "output_type": "error",
     "traceback": [
      "\u001b[0;36m  Input \u001b[0;32mIn [18]\u001b[0;36m\u001b[0m\n\u001b[0;31m    Positional arguments\u001b[0m\n\u001b[0m               ^\u001b[0m\n\u001b[0;31mSyntaxError\u001b[0m\u001b[0;31m:\u001b[0m invalid syntax\n"
     ]
    }
   ],
   "source": [
    "#Types of arguments\n",
    "# 3 type of arguments\n",
    "# 1 Positional arguments\n",
    "# 2 Default arguments\n",
    "# 3 Keywords arguments\n",
    "\n",
    "Positional arguments\n",
    "- Order is important\n",
    "- Number of arguments is imp\n",
    "\n",
    "Default Arguments\n",
    "def funtion_name(a, b, c = default_value):\n",
    "    stat1\n",
    "\n",
    "Keyword argument\n",
    "def funtion_name(emp_name = 'xyz', emp_sal = 100)"
   ]
  },
  {
   "cell_type": "code",
   "execution_count": 20,
   "id": "38879dab",
   "metadata": {},
   "outputs": [
    {
     "ename": "TypeError",
     "evalue": "add() takes 1 positional argument but 3 were given",
     "output_type": "error",
     "traceback": [
      "\u001b[0;31m---------------------------------------------------------------------------\u001b[0m",
      "\u001b[0;31mTypeError\u001b[0m                                 Traceback (most recent call last)",
      "Input \u001b[0;32mIn [20]\u001b[0m, in \u001b[0;36m<cell line: 4>\u001b[0;34m()\u001b[0m\n\u001b[1;32m      2\u001b[0m     \u001b[38;5;28;01mfor\u001b[39;00m i \u001b[38;5;129;01min\u001b[39;00m arr:\n\u001b[1;32m      3\u001b[0m         \u001b[38;5;28msum\u001b[39m \u001b[38;5;241m+\u001b[39m\u001b[38;5;241m=\u001b[39m i\n\u001b[0;32m----> 4\u001b[0m \u001b[43madd\u001b[49m\u001b[43m(\u001b[49m\u001b[38;5;241;43m1\u001b[39;49m\u001b[43m,\u001b[49m\u001b[38;5;241;43m2\u001b[39;49m\u001b[43m,\u001b[49m\u001b[38;5;241;43m3\u001b[39;49m\u001b[43m)\u001b[49m\n",
      "\u001b[0;31mTypeError\u001b[0m: add() takes 1 positional argument but 3 were given"
     ]
    }
   ],
   "source": [
    "def add(arr):\n",
    "    for i in arr:\n",
    "        sum += i\n",
    "add(1,2,3)"
   ]
  },
  {
   "cell_type": "code",
   "execution_count": null,
   "id": "e9df88c3",
   "metadata": {},
   "outputs": [],
   "source": []
  }
 ],
 "metadata": {
  "kernelspec": {
   "display_name": "Python 3 (ipykernel)",
   "language": "python",
   "name": "python3"
  },
  "language_info": {
   "codemirror_mode": {
    "name": "ipython",
    "version": 3
   },
   "file_extension": ".py",
   "mimetype": "text/x-python",
   "name": "python",
   "nbconvert_exporter": "python",
   "pygments_lexer": "ipython3",
   "version": "3.9.12"
  }
 },
 "nbformat": 4,
 "nbformat_minor": 5
}
