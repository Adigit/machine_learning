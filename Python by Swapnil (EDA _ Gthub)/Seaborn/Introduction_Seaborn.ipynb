{
 "cells": [
  {
   "cell_type": "markdown",
   "id": "03bc74e5",
   "metadata": {},
   "source": [
    "\n",
    "# Introduction to Seaborn – Python"
   ]
  },
  {
   "cell_type": "markdown",
   "id": "28420afc",
   "metadata": {},
   "source": [
    "<h3>\n",
    "Seaborn is an amazing visualization library for statistical graphics plotting in Python. \n",
    "\n",
    "It provides beautiful default styles and color palettes to make statistical plots more attractive. \n",
    "\n",
    "It is built on the top of matplotlib library and also closely integrated to the data structures from pandas.\n",
    "\n",
    "Seaborn aims to make visualization the central part of exploring and understanding data. \n",
    "\n",
    "It provides dataset-oriented APIs, so that we can switch between different visual representations \n",
    "for same variables for better understanding of dataset.\n",
    "</h3>\n",
    "\n"
   ]
  },
  {
   "cell_type": "markdown",
   "id": "d9d23d28",
   "metadata": {},
   "source": [
    "\n",
    "## Different categories of plot in Seaborn "
   ]
  },
  {
   "cell_type": "markdown",
   "id": "be2034e6",
   "metadata": {},
   "source": [
    "<h3>\n",
    "\n",
    "Plots are basically used for visualizing the relationship between variables. Those variables can be either be completely numerical or a category like a group, class or division. Seaborn divides plot into the below categories – \n",
    " \n",
    "\n",
    "Relational plots: This plot is used to understand the relation between two variables.\n",
    "    \n",
    "Categorical plots: This plot deals with categorical variables and how they can be visualized.\n",
    "    \n",
    "Distribution plots: This plot is used for examining univariate and bivariate distributions\n",
    "    \n",
    "Regression plots: The regression plots in seaborn are primarily intended to add a visual guide that helps to emphasize patterns in a dataset during exploratory data analyses.\n",
    "    \n",
    "Matrix plots: A matrix plot is an array of scatterplots.\n",
    "    \n",
    "Multi-plot grids: It is an useful approach is to draw multiple instances of the same plot on different subsets of the dataset.\n",
    "</h3>\n"
   ]
  },
  {
   "cell_type": "markdown",
   "id": "725a8615",
   "metadata": {},
   "source": [
    "## Installation"
   ]
  },
  {
   "cell_type": "markdown",
   "id": "f4302efd",
   "metadata": {},
   "source": [
    "\n",
    "### For conda environment : \n",
    "\n",
    "conda install seaborn\n",
    "\n",
    "pip install seaborn"
   ]
  },
  {
   "cell_type": "code",
   "execution_count": 1,
   "id": "b805ca0f",
   "metadata": {},
   "outputs": [],
   "source": [
    "#import seaborn\n",
    "import seaborn as sns"
   ]
  },
  {
   "cell_type": "code",
   "execution_count": null,
   "id": "3793136e",
   "metadata": {},
   "outputs": [],
   "source": []
  }
 ],
 "metadata": {
  "kernelspec": {
   "display_name": "Python 3 (ipykernel)",
   "language": "python",
   "name": "python3"
  },
  "language_info": {
   "codemirror_mode": {
    "name": "ipython",
    "version": 3
   },
   "file_extension": ".py",
   "mimetype": "text/x-python",
   "name": "python",
   "nbconvert_exporter": "python",
   "pygments_lexer": "ipython3",
   "version": "3.9.7"
  }
 },
 "nbformat": 4,
 "nbformat_minor": 5
}
