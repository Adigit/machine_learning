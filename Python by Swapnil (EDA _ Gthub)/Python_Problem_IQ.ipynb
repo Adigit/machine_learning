{
 "cells": [
  {
   "cell_type": "code",
   "execution_count": null,
   "id": "69f822eb",
   "metadata": {},
   "outputs": [],
   "source": [
    "Q1)#find the the character of the 2nd lowest number\n",
    "new_list=[[\"V\",45],[\"P\",21],[\"Q\",55],[\"L\",90],[\"B\",19]]\n",
    "new_list\n",
    "\n",
    "#output: P\n",
    "\n",
    "def find_secnodn_lowest(new_list):\n",
    "    return character\n"
   ]
  },
  {
   "cell_type": "code",
   "execution_count": 2,
   "id": "ccda09c6",
   "metadata": {},
   "outputs": [
    {
     "ename": "SyntaxError",
     "evalue": "unmatched ')' (24659817.py, line 1)",
     "output_type": "error",
     "traceback": [
      "\u001b[0;36m  File \u001b[0;32m\"/var/folders/5p/f9n8xtwn5c9_kq2bc72mf9p00000gn/T/ipykernel_33401/24659817.py\"\u001b[0;36m, line \u001b[0;32m1\u001b[0m\n\u001b[0;31m    Q2) return value of the given key of the dictionary\u001b[0m\n\u001b[0m      ^\u001b[0m\n\u001b[0;31mSyntaxError\u001b[0m\u001b[0;31m:\u001b[0m unmatched ')'\n"
     ]
    }
   ],
   "source": [
    "Q2) return value of the given key of the dictionary\n",
    "\n",
    "\n",
    "\n",
    "new_dict={\"A\":{\"B\":{\"C\":{\"D\"}}}}\n",
    "new_dict"
   ]
  },
  {
   "cell_type": "code",
   "execution_count": null,
   "id": "e964923f",
   "metadata": {},
   "outputs": [],
   "source": [
    "Q3) check if valid parenthisis\n",
    "\n",
    "sample_1=\"()\" #True\n",
    "sample_2=\"{()}\"#True\n",
    "sample_3=\"([)\"#False\n",
    "sample_4=\"{}()]\"#False\n"
   ]
  },
  {
   "cell_type": "code",
   "execution_count": null,
   "id": "9025b238",
   "metadata": {},
   "outputs": [],
   "source": [
    "Q4) move all zeros to end in the given list\n",
    "new_list=[2,31,0,90,0,34,11,0,87,43,0]\n",
    "# output: new_list=[2,31,90,34,11,87,43,0,0,0,0]\n"
   ]
  },
  {
   "cell_type": "code",
   "execution_count": null,
   "id": "69e7d863",
   "metadata": {},
   "outputs": [],
   "source": []
  },
  {
   "cell_type": "code",
   "execution_count": null,
   "id": "8bf4ab8c",
   "metadata": {},
   "outputs": [],
   "source": []
  }
 ],
 "metadata": {
  "kernelspec": {
   "display_name": "Python 3 (ipykernel)",
   "language": "python",
   "name": "python3"
  },
  "language_info": {
   "codemirror_mode": {
    "name": "ipython",
    "version": 3
   },
   "file_extension": ".py",
   "mimetype": "text/x-python",
   "name": "python",
   "nbconvert_exporter": "python",
   "pygments_lexer": "ipython3",
   "version": "3.9.7"
  }
 },
 "nbformat": 4,
 "nbformat_minor": 5
}
