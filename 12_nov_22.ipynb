{
 "cells": [
  {
   "cell_type": "code",
   "execution_count": 1,
   "id": "991136cc",
   "metadata": {},
   "outputs": [
    {
     "name": "stdout",
     "output_type": "stream",
     "text": [
      "140456436927104\n",
      "140456436927104\n"
     ]
    }
   ],
   "source": [
    "a = [1,2,3]\n",
    "b = a\n",
    "\n",
    "print(id(a))\n",
    "print(id(b))"
   ]
  },
  {
   "cell_type": "code",
   "execution_count": 2,
   "id": "d0ca49a3",
   "metadata": {},
   "outputs": [
    {
     "name": "stdout",
     "output_type": "stream",
     "text": [
      "140456436930880\n",
      "140456436930880\n",
      "[10, 2, 3]\n",
      "[10, 2, 3]\n"
     ]
    }
   ],
   "source": [
    "a = [1,2,3]\n",
    "b = a\n",
    "\n",
    "print(id(a))\n",
    "print(id(b))\n",
    "\n",
    "b[0] = 10\n",
    "print(a)\n",
    "print(b)"
   ]
  },
  {
   "cell_type": "code",
   "execution_count": 5,
   "id": "ef332aee",
   "metadata": {},
   "outputs": [
    {
     "name": "stdout",
     "output_type": "stream",
     "text": [
      "140456449775936\n",
      "140456449951744\n",
      "[1, 2, 3]\n",
      "[500, 2, 3]\n"
     ]
    }
   ],
   "source": [
    "a = [1,2,3]\n",
    "b = a.copy() #Shallow copy\n",
    "\n",
    "print(id(a))\n",
    "print(id(b))\n",
    "\n",
    "b[0] = 500\n",
    "print(a)\n",
    "print(b)"
   ]
  },
  {
   "cell_type": "code",
   "execution_count": 6,
   "id": "cac373a7",
   "metadata": {
    "scrolled": true
   },
   "outputs": [
    {
     "name": "stdout",
     "output_type": "stream",
     "text": [
      "140456449949824\n",
      "140456449949824\n",
      "[1, 2, 3, [4, 5, 10]]\n",
      "[1, 2, 3, [4, 5, 10]]\n"
     ]
    }
   ],
   "source": [
    "a = [1,2,3, [4,5,5]]\n",
    "b = a.copy() #Shallow copy\n",
    "\n",
    "print(id(a[-1]))\n",
    "print(id(b[-1]))\n",
    "\n",
    "b[-1][-1] = 10\n",
    "print(a)\n",
    "print(b)"
   ]
  },
  {
   "cell_type": "code",
   "execution_count": 9,
   "id": "189206ab",
   "metadata": {},
   "outputs": [],
   "source": [
    "from copy import deepcopy"
   ]
  },
  {
   "cell_type": "code",
   "execution_count": null,
   "id": "cd6f4e32",
   "metadata": {},
   "outputs": [],
   "source": []
  },
  {
   "cell_type": "code",
   "execution_count": 11,
   "id": "9f8a8cea",
   "metadata": {},
   "outputs": [
    {
     "name": "stdout",
     "output_type": "stream",
     "text": [
      "140456450528896\n",
      "140456450539456\n",
      "[1, 2, 3]\n",
      "[500, 2, 3]\n"
     ]
    }
   ],
   "source": [
    "a = [1,2,3]\n",
    "b = deepcopy(a) #Deep copy\n",
    "\n",
    "print(id(a))\n",
    "print(id(b))\n",
    "\n",
    "b[0] = 500\n",
    "print(a)\n",
    "print(b)"
   ]
  },
  {
   "cell_type": "code",
   "execution_count": 18,
   "id": "9bf290fd",
   "metadata": {},
   "outputs": [
    {
     "name": "stdout",
     "output_type": "stream",
     "text": [
      "['abhishail', 'aditi']\n"
     ]
    }
   ],
   "source": [
    "a= ['abhishail@gmail.com' , 'abhijeet_xyz@hotmail.com' , 'Abhishek_123@yahoo.com' , 'aditi@gmail.com']\n",
    "usernames = []\n",
    "for i in a:\n",
    "    if i.split('@')[1] == 'gmail.com':\n",
    "        usernames.append(i.split('@')[0])\n",
    "        #usernames += [i.split('@')[0]]\n",
    "    \n",
    "print(usernames)"
   ]
  },
  {
   "cell_type": "code",
   "execution_count": 19,
   "id": "dbe386a2",
   "metadata": {},
   "outputs": [
    {
     "name": "stdout",
     "output_type": "stream",
     "text": [
      "[2, 34, 4, 6, 8, 8]\n"
     ]
    }
   ],
   "source": [
    "a = [1,2,3,34,4,5,6,7,8,8]\n",
    "even_nums = []\n",
    "for i in a:\n",
    "   if i%2 == 0:\n",
    "    even_nums.append(i)\n",
    "    #even_nums += [i]\n",
    "\n",
    "        \n",
    "print(even_nums)"
   ]
  },
  {
   "cell_type": "code",
   "execution_count": 20,
   "id": "ba131e3f",
   "metadata": {},
   "outputs": [],
   "source": [
    "#List comprehension\n",
    "\n",
    "- Syntax -\n",
    "[_expression_for_variable_in_iterable]\n",
    "[_expression_for_variable_in_iterable_if_condition]"
   ]
  },
  {
   "cell_type": "code",
   "execution_count": 22,
   "id": "2f71c03e",
   "metadata": {},
   "outputs": [
    {
     "name": "stdout",
     "output_type": "stream",
     "text": [
      "['abhishail', 'abhijeet_xyz', 'Abhishek_123', 'aditi']\n"
     ]
    }
   ],
   "source": [
    "a= ['abhishail@gmail.com' , 'abhijeet_xyz@hotmail.com' , 'Abhishek_123@yahoo.com' , 'aditi@gmail.com']\n",
    "b = [gmails.split('@')[0] for gmails in a]\n",
    "print(b)"
   ]
  },
  {
   "cell_type": "code",
   "execution_count": 24,
   "id": "9a14f2ad",
   "metadata": {},
   "outputs": [
    {
     "name": "stdout",
     "output_type": "stream",
     "text": [
      "[2, 34, 4, 6, 8, 8]\n"
     ]
    }
   ],
   "source": [
    "a = [1,2,3,34,4,5,6,7,8,8]\n",
    "b = [i for i in a if i%2 == 0]\n",
    "print(b)"
   ]
  },
  {
   "cell_type": "code",
   "execution_count": 25,
   "id": "93fb556e",
   "metadata": {},
   "outputs": [
    {
     "name": "stdout",
     "output_type": "stream",
     "text": [
      "['abhishail', 'aditi']\n"
     ]
    }
   ],
   "source": [
    "a= ['abhishail@gmail.com' , 'abhijeet_xyz@hotmail.com' , 'Abhishek_123@yahoo.com' , 'aditi@gmail.com']\n",
    "b = [gmails.split('@')[0] for gmails in a if gmails.split('@')[1] == 'gmail.com']\n",
    "print(b)"
   ]
  },
  {
   "cell_type": "code",
   "execution_count": 26,
   "id": "779165fb",
   "metadata": {},
   "outputs": [
    {
     "name": "stdout",
     "output_type": "stream",
     "text": [
      "enter a number : 15\n",
      "15 * 1 = 15\n",
      "15 * 2 = 30\n",
      "15 * 3 = 45\n",
      "15 * 4 = 60\n",
      "15 * 5 = 75\n",
      "15 * 6 = 90\n",
      "15 * 7 = 105\n",
      "15 * 8 = 120\n",
      "15 * 9 = 135\n",
      "15 * 10 = 150\n"
     ]
    }
   ],
   "source": [
    "a = [1,2,3,4,5,6,7,8,9,10]\n",
    "# take an user input 15\n",
    "\n",
    "\n",
    "num = int(input('enter a number : '))\n",
    "\n",
    "for var in a:\n",
    "    print(f'{num} * {var} = {var*num}') # format string"
   ]
  },
  {
   "cell_type": "code",
   "execution_count": 33,
   "id": "ba0f707b",
   "metadata": {},
   "outputs": [
    {
     "name": "stdout",
     "output_type": "stream",
     "text": [
      "enter a number : 18\n",
      "['18 * 1 = 18', '18 * 2 = 36', '18 * 3 = 54', '18 * 4 = 72', '18 * 5 = 90', '18 * 6 = 108', '18 * 7 = 126', '18 * 8 = 144', '18 * 9 = 162', '18 * 10 = 180']\n"
     ]
    }
   ],
   "source": [
    "a = [1,2,3,4,5,6,7,8,9,10]\n",
    "# take an user input 15\n",
    "\n",
    "\n",
    "num = int(input('enter a number : '))\n",
    "b = [f'{num} * {var} = {var*num}' for var in a]\n",
    "print(b)"
   ]
  },
  {
   "cell_type": "code",
   "execution_count": 28,
   "id": "0d2c583c",
   "metadata": {},
   "outputs": [
    {
     "name": "stdout",
     "output_type": "stream",
     "text": [
      "[2, 4, 6, 8, 10]\n"
     ]
    }
   ],
   "source": [
    "a  = [1,2,3,4,5]\n",
    "b = [i*2 for i in a]\n",
    "print(b)"
   ]
  },
  {
   "cell_type": "code",
   "execution_count": 30,
   "id": "a32660fb",
   "metadata": {},
   "outputs": [
    {
     "name": "stdout",
     "output_type": "stream",
     "text": [
      "[4, 8]\n"
     ]
    }
   ],
   "source": [
    "a  = [1,2,3,4,5]\n",
    "b = [i*2 for i in a if i%2 == 0]\n",
    "print(b)"
   ]
  },
  {
   "cell_type": "code",
   "execution_count": 35,
   "id": "a1f7faa3",
   "metadata": {},
   "outputs": [],
   "source": [
    "#Tuple"
   ]
  },
  {
   "cell_type": "code",
   "execution_count": 36,
   "id": "3b5498cd",
   "metadata": {},
   "outputs": [
    {
     "name": "stdout",
     "output_type": "stream",
     "text": [
      "(1, 2, 3, 4) <class 'tuple'>\n"
     ]
    }
   ],
   "source": [
    "a = (1,2,3,4)\n",
    "print(a, type(a))"
   ]
  },
  {
   "cell_type": "code",
   "execution_count": 37,
   "id": "116b0377",
   "metadata": {},
   "outputs": [
    {
     "name": "stdout",
     "output_type": "stream",
     "text": [
      "('a', 3, True, 3.4)\n"
     ]
    }
   ],
   "source": [
    "# Creating a tuple\n",
    "tup = ('a', 3, True, 3.4)\n",
    "print(tup)"
   ]
  },
  {
   "cell_type": "code",
   "execution_count": 1,
   "id": "1ad29b49",
   "metadata": {},
   "outputs": [
    {
     "name": "stdout",
     "output_type": "stream",
     "text": [
      "enter the numbers: 1,2,3\n",
      "(1, 2, 3) <class 'tuple'>\n"
     ]
    }
   ],
   "source": [
    "tup = eval(input(\"enter the numbers: \"))\n",
    "print(tup, type(tup))"
   ]
  },
  {
   "cell_type": "code",
   "execution_count": 3,
   "id": "a21e2d83",
   "metadata": {},
   "outputs": [
    {
     "name": "stdout",
     "output_type": "stream",
     "text": [
      "(1, 2, 3, 4, 5) <class 'tuple'>\n"
     ]
    }
   ],
   "source": [
    "a = 1,2,3,4,5\n",
    "print(a, type(a))"
   ]
  },
  {
   "cell_type": "code",
   "execution_count": null,
   "id": "376a8a23",
   "metadata": {},
   "outputs": [],
   "source": [
    "#Properties of tuple\n",
    "- Seq data type\n",
    "- +ive and -ive indexing both are supported\n",
    "- It can hold any data type\n",
    "- Allows duplication\n",
    "- Basic operations are allowed. Concatenation, Identity, membership, repetation\n",
    "\n",
    "Difference b/w List and Tuple\n",
    "Tuple is immmutable "
   ]
  },
  {
   "cell_type": "code",
   "execution_count": 7,
   "id": "734a5ab6",
   "metadata": {},
   "outputs": [
    {
     "ename": "TypeError",
     "evalue": "'tuple' object does not support item assignment",
     "output_type": "error",
     "traceback": [
      "\u001b[0;31m---------------------------------------------------------------------------\u001b[0m",
      "\u001b[0;31mTypeError\u001b[0m                                 Traceback (most recent call last)",
      "Input \u001b[0;32mIn [7]\u001b[0m, in \u001b[0;36m<cell line: 2>\u001b[0;34m()\u001b[0m\n\u001b[1;32m      1\u001b[0m a \u001b[38;5;241m=\u001b[39m (\u001b[38;5;241m1\u001b[39m,\u001b[38;5;241m2\u001b[39m,\u001b[38;5;241m3\u001b[39m)\n\u001b[0;32m----> 2\u001b[0m a[\u001b[38;5;241m1\u001b[39m] \u001b[38;5;241m=\u001b[39m \u001b[38;5;241m4\u001b[39m\n\u001b[1;32m      3\u001b[0m \u001b[38;5;28mprint\u001b[39m(a[\u001b[38;5;241m1\u001b[39m])\n",
      "\u001b[0;31mTypeError\u001b[0m: 'tuple' object does not support item assignment"
     ]
    }
   ],
   "source": [
    "a = (1,2,3)\n",
    "a[1] = 4\n",
    "print(a[1])"
   ]
  },
  {
   "cell_type": "code",
   "execution_count": 8,
   "id": "ddfe76be",
   "metadata": {},
   "outputs": [
    {
     "name": "stdout",
     "output_type": "stream",
     "text": [
      "5\n"
     ]
    }
   ],
   "source": [
    "# Indexing \n",
    "a = 1,2,3,4,5\n",
    "print(a[-1])"
   ]
  },
  {
   "cell_type": "code",
   "execution_count": 9,
   "id": "22a87e68",
   "metadata": {},
   "outputs": [
    {
     "data": {
      "text/plain": [
       "(1, 2, 3, 4)"
      ]
     },
     "execution_count": 9,
     "metadata": {},
     "output_type": "execute_result"
    }
   ],
   "source": [
    "#Slicing\n",
    "a = 1,2,3,4,5\n",
    "a[0:4]"
   ]
  },
  {
   "cell_type": "code",
   "execution_count": 10,
   "id": "e97e2331",
   "metadata": {},
   "outputs": [
    {
     "data": {
      "text/plain": [
       "(2, 3, 4)"
      ]
     },
     "execution_count": 10,
     "metadata": {},
     "output_type": "execute_result"
    }
   ],
   "source": [
    "a = 1,2,3,4,5\n",
    "a[-4:-1]"
   ]
  },
  {
   "cell_type": "code",
   "execution_count": null,
   "id": "86b38201",
   "metadata": {},
   "outputs": [],
   "source": [
    "#Concatenation"
   ]
  },
  {
   "cell_type": "code",
   "execution_count": 11,
   "id": "52fe1245",
   "metadata": {},
   "outputs": [
    {
     "name": "stdout",
     "output_type": "stream",
     "text": [
      "(1, 2, 3, 5, 6, 7)\n"
     ]
    }
   ],
   "source": [
    "a = (1,2,3)\n",
    "b = (5,6,7)\n",
    "print(a + b)"
   ]
  },
  {
   "cell_type": "code",
   "execution_count": null,
   "id": "73102de5",
   "metadata": {},
   "outputs": [],
   "source": [
    "# Repetation"
   ]
  },
  {
   "cell_type": "code",
   "execution_count": 12,
   "id": "5aa9ce45",
   "metadata": {},
   "outputs": [
    {
     "name": "stdout",
     "output_type": "stream",
     "text": [
      "(1, 2, 3, 4, 1, 2, 3, 4)\n"
     ]
    }
   ],
   "source": [
    "a = (1,2,3,4)\n",
    "b = 2\n",
    "print(a*b)"
   ]
  },
  {
   "cell_type": "code",
   "execution_count": null,
   "id": "150b5900",
   "metadata": {},
   "outputs": [],
   "source": [
    "#Identity\n",
    "# is and is not"
   ]
  },
  {
   "cell_type": "code",
   "execution_count": 14,
   "id": "6d387394",
   "metadata": {},
   "outputs": [
    {
     "name": "stdout",
     "output_type": "stream",
     "text": [
      "140622469302848\n",
      "140622467549440\n",
      "False\n"
     ]
    }
   ],
   "source": [
    "a = 1,2,3\n",
    "b = 1,2,3\n",
    "\n",
    "print(id(a))\n",
    "print(id(b))\n",
    "\n",
    "print(a is b)"
   ]
  },
  {
   "cell_type": "code",
   "execution_count": null,
   "id": "b532a6bc",
   "metadata": {},
   "outputs": [],
   "source": [
    "#Membership\n",
    "# in and not in"
   ]
  },
  {
   "cell_type": "code",
   "execution_count": 15,
   "id": "06f573dd",
   "metadata": {},
   "outputs": [
    {
     "name": "stdout",
     "output_type": "stream",
     "text": [
      "True\n"
     ]
    }
   ],
   "source": [
    "a = 1,2,3\n",
    "print(2 in a)"
   ]
  },
  {
   "cell_type": "code",
   "execution_count": 16,
   "id": "c8e68a3a",
   "metadata": {},
   "outputs": [
    {
     "name": "stdout",
     "output_type": "stream",
     "text": [
      "False\n"
     ]
    }
   ],
   "source": [
    "a = 1,2,3\n",
    "print(5 in a)"
   ]
  },
  {
   "cell_type": "code",
   "execution_count": 17,
   "id": "26f4b84e",
   "metadata": {},
   "outputs": [
    {
     "name": "stdout",
     "output_type": "stream",
     "text": [
      "['__add__', '__class__', '__class_getitem__', '__contains__', '__delattr__', '__dir__', '__doc__', '__eq__', '__format__', '__ge__', '__getattribute__', '__getitem__', '__getnewargs__', '__gt__', '__hash__', '__init__', '__init_subclass__', '__iter__', '__le__', '__len__', '__lt__', '__mul__', '__ne__', '__new__', '__reduce__', '__reduce_ex__', '__repr__', '__rmul__', '__setattr__', '__sizeof__', '__str__', '__subclasshook__', 'count', 'index']\n"
     ]
    }
   ],
   "source": [
    "#Methods of tuple\n",
    "print(dir(tuple))"
   ]
  },
  {
   "cell_type": "code",
   "execution_count": 22,
   "id": "1d37011c",
   "metadata": {},
   "outputs": [
    {
     "data": {
      "text/plain": [
       "7"
      ]
     },
     "execution_count": 22,
     "metadata": {},
     "output_type": "execute_result"
    }
   ],
   "source": [
    "a = 1,2,3,4,5,6,5,4, 4\n",
    "a.count(4)\n",
    "a.index(4, 5)"
   ]
  },
  {
   "cell_type": "code",
   "execution_count": 25,
   "id": "1cf14aee",
   "metadata": {},
   "outputs": [
    {
     "name": "stdout",
     "output_type": "stream",
     "text": [
      "(2, 32, 4)\n",
      "1\n",
      "2\n",
      "3\n"
     ]
    }
   ],
   "source": [
    "# Tuple packing and unpacking\n",
    "# Tuple packing : assigning multiple values to a single varibale\n",
    "a = 2,32,4\n",
    "print(a)\n",
    "\n",
    "#Tuple unpacking \n",
    "a,b,c = 1,2,3\n",
    "print(a)\n",
    "print(b)\n",
    "print(c)"
   ]
  },
  {
   "cell_type": "code",
   "execution_count": 26,
   "id": "df52dbe1",
   "metadata": {},
   "outputs": [
    {
     "data": {
      "text/plain": [
       "[(0, 'p'), (1, 'y'), (2, 't'), (3, 'h'), (4, 'o'), (5, 'n')]"
      ]
     },
     "execution_count": 26,
     "metadata": {},
     "output_type": "execute_result"
    }
   ],
   "source": [
    "a = 'python'\n",
    "list(enumerate(a))"
   ]
  },
  {
   "cell_type": "code",
   "execution_count": 27,
   "id": "3fad3e6b",
   "metadata": {},
   "outputs": [
    {
     "name": "stdout",
     "output_type": "stream",
     "text": [
      "(0, 'p')\n",
      "(1, 'y')\n",
      "(2, 't')\n",
      "(3, 'h')\n",
      "(4, 'o')\n",
      "(5, 'n')\n"
     ]
    }
   ],
   "source": [
    "a = 'python'\n",
    "for i in list(enumerate(a)):\n",
    "    print(i)"
   ]
  },
  {
   "cell_type": "code",
   "execution_count": 29,
   "id": "bd066f99",
   "metadata": {},
   "outputs": [
    {
     "name": "stdout",
     "output_type": "stream",
     "text": [
      "0 <class 'int'>\n",
      "p <class 'str'>\n",
      "1 <class 'int'>\n",
      "y <class 'str'>\n",
      "2 <class 'int'>\n",
      "t <class 'str'>\n",
      "3 <class 'int'>\n",
      "h <class 'str'>\n",
      "4 <class 'int'>\n",
      "o <class 'str'>\n",
      "5 <class 'int'>\n",
      "n <class 'str'>\n"
     ]
    }
   ],
   "source": [
    "a = 'python'\n",
    "for i,j in list(enumerate(a)):\n",
    "    print(i, type(i))\n",
    "    print(j, type(j))"
   ]
  },
  {
   "cell_type": "code",
   "execution_count": 38,
   "id": "a2fdcccb",
   "metadata": {},
   "outputs": [
    {
     "name": "stdout",
     "output_type": "stream",
     "text": [
      "8\n",
      "16\n",
      "28\n"
     ]
    }
   ],
   "source": [
    "a = 'this is python, python is a programing language'\n",
    "index = 0\n",
    "for i in a:\n",
    "    if i =='p':\n",
    "     print(index)\n",
    "    index += 1"
   ]
  },
  {
   "cell_type": "code",
   "execution_count": 42,
   "id": "280eb423",
   "metadata": {},
   "outputs": [
    {
     "name": "stdout",
     "output_type": "stream",
     "text": [
      "8\n",
      "16\n",
      "28\n"
     ]
    }
   ],
   "source": [
    "a = 'this is python, python is a programing language'\n",
    "index = 0\n",
    "for i,j in enumerate(a):\n",
    "    if j == 'p':\n",
    "     print(i)\n",
    "    "
   ]
  },
  {
   "cell_type": "code",
   "execution_count": 44,
   "id": "3ddd5283",
   "metadata": {},
   "outputs": [
    {
     "name": "stdout",
     "output_type": "stream",
     "text": [
      "Aditya\n"
     ]
    }
   ],
   "source": [
    "#Dictionary\n",
    "emp_data = {'name': 'Aditya', 'age': 30}\n",
    "print(emp_data['name'])"
   ]
  },
  {
   "cell_type": "code",
   "execution_count": 50,
   "id": "b6421470",
   "metadata": {},
   "outputs": [
    {
     "name": "stdout",
     "output_type": "stream",
     "text": [
      "{'a': 23, 'b': 22, 'c': 211, 'd': 45}\n"
     ]
    }
   ],
   "source": [
    "#Zip\n",
    "column1  = ['a', 'b', 'c', 'd']\n",
    "column2 = [23, 22, 211, 45]\n",
    "\n",
    "print(dict(list(zip(column1, column2))))\n"
   ]
  },
  {
   "cell_type": "code",
   "execution_count": 2,
   "id": "151c5f6e",
   "metadata": {},
   "outputs": [
    {
     "ename": "IndentationError",
     "evalue": "unindent does not match any outer indentation level (<tokenize>, line 7)",
     "output_type": "error",
     "traceback": [
      "\u001b[0;36m  File \u001b[0;32m<tokenize>:7\u001b[0;36m\u001b[0m\n\u001b[0;31m    return a\u001b[0m\n\u001b[0m    ^\u001b[0m\n\u001b[0;31mIndentationError\u001b[0m\u001b[0;31m:\u001b[0m unindent does not match any outer indentation level\n"
     ]
    }
   ],
   "source": [
    "def example(a):\n",
    "\n",
    "     a = a + '2'\n",
    "\n",
    "         a = a*2\n",
    "\n",
    "        return a\n",
    "\n",
    "example(\"hello\")"
   ]
  },
  {
   "cell_type": "code",
   "execution_count": null,
   "id": "c63a6306",
   "metadata": {},
   "outputs": [],
   "source": []
  }
 ],
 "metadata": {
  "kernelspec": {
   "display_name": "Python 3 (ipykernel)",
   "language": "python",
   "name": "python3"
  },
  "language_info": {
   "codemirror_mode": {
    "name": "ipython",
    "version": 3
   },
   "file_extension": ".py",
   "mimetype": "text/x-python",
   "name": "python",
   "nbconvert_exporter": "python",
   "pygments_lexer": "ipython3",
   "version": "3.9.12"
  }
 },
 "nbformat": 4,
 "nbformat_minor": 5
}
