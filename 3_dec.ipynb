{
 "cells": [
  {
   "cell_type": "markdown",
   "id": "d36ebe4e",
   "metadata": {},
   "source": [
    "# Regular Expression"
   ]
  },
  {
   "cell_type": "code",
   "execution_count": 55,
   "id": "f114f536",
   "metadata": {},
   "outputs": [],
   "source": [
    "text_to_search = '''\n",
    "abcdefghijklmnopqurtuvwxyz\n",
    "ABCDEFGHIJKLMNOPQRSTUVWXYZ\\s\n",
    "321-555-4321\n",
    "1234567890\n",
    "Ha HaHa\n",
    "MetaCharacters (Need to be escaped):\n",
    ". ^ $ * + ? { } [ ] \\ | ( )\n",
    "Salahuddin11@learnbay.com\n",
    "321-555-4321\n",
    "123.555.1234\n",
    "123*555*-1234\n",
    "123.555.1234\n",
    "800-555-1234\n",
    "900-555-1234\n",
    "Mr. Schafer\n",
    "Mr Smith\n",
    "Ms Davis\n",
    "Mrs. Robinson\n",
    "Mr. T\n",
    "Mr_hello\n",
    "'''"
   ]
  },
  {
   "cell_type": "code",
   "execution_count": 54,
   "id": "231f1a5a",
   "metadata": {},
   "outputs": [
    {
     "data": {
      "text/plain": [
       "'\\n.       - Any Character Except New Line\\n\\\\d      - Digit (0-9)\\n\\\\D      - Not a Digit (0-9)\\n\\\\w      - Word Character (a-z, A-Z, 0-9, _)\\n\\\\W      - Not a Word Character\\n\\\\s      - Whitespace (space, tab, newline)\\n\\\\S      - Not Whitespace (space, tab, newline)\\n\\n\\x08      - Word Boundary\\n\\\\B      - Not a Word Boundary\\n^       - Beginning of a String\\n$       - End of a String\\n\\n[]      - Matches Characters in brackets\\n[^ ]    - Matches Characters NOT in brackets\\n|       - Either Or\\n( )     - Group\\n\\nQuantifiers:\\n*       - 0 or More\\n+       - 1 or More\\n?       - 0 or One\\n{3}     - Exact Number\\n{3,4}   - Range of Numbers (Minimum, Maximum)\\n'"
      ]
     },
     "execution_count": 54,
     "metadata": {},
     "output_type": "execute_result"
    }
   ],
   "source": [
    "'''\n",
    ".       - Any Character Except New Line\n",
    "\\d      - Digit (0-9)\n",
    "\\D      - Not a Digit (0-9)\n",
    "\\w      - Word Character (a-z, A-Z, 0-9, _)\n",
    "\\W      - Not a Word Character\n",
    "\\s      - Whitespace (space, tab, newline)\n",
    "\\S      - Not Whitespace (space, tab, newline)\n",
    "\n",
    "\\b      - Word Boundary\n",
    "\\B      - Not a Word Boundary\n",
    "^       - Beginning of a String\n",
    "$       - End of a String\n",
    "\n",
    "[]      - Matches Characters in brackets\n",
    "[^ ]    - Matches Characters NOT in brackets\n",
    "|       - Either Or\n",
    "( )     - Group\n",
    "\n",
    "Quantifiers:\n",
    "*       - 0 or More\n",
    "+       - 1 or More\n",
    "?       - 0 or One\n",
    "{3}     - Exact Number\n",
    "{3,4}   - Range of Numbers (Minimum, Maximum)\n",
    "'''"
   ]
  },
  {
   "cell_type": "code",
   "execution_count": 92,
   "id": "72219bd7",
   "metadata": {},
   "outputs": [],
   "source": [
    "import re"
   ]
  },
  {
   "cell_type": "code",
   "execution_count": 95,
   "id": "9e1d6daf",
   "metadata": {},
   "outputs": [
    {
     "name": "stdout",
     "output_type": "stream",
     "text": [
      "<re.Match object; span=(259, 270), match='Mr. Schafer'>\n",
      "<re.Match object; span=(271, 279), match='Mr Smith'>\n",
      "<re.Match object; span=(280, 288), match='Ms Davis'>\n",
      "<re.Match object; span=(289, 292), match='Mrs'>\n",
      "<re.Match object; span=(303, 308), match='Mr. T'>\n",
      "<re.Match object; span=(309, 317), match='Mr_hello'>\n"
     ]
    }
   ],
   "source": [
    "pattern = re.compile(r'M(r|s|rs)_[a-z]*')\n",
    "pattern = re.compile(r'M(r|s|rs)(.|_)?\\s*[A-Za-z][a-z]*')\n",
    "\n",
    "match = pattern.finditer(text_to_search)\n",
    "\n",
    "for i in match:\n",
    "    print(i)\n",
    "\n",
    "# match = pattern.findall(text_to_search)"
   ]
  },
  {
   "cell_type": "code",
   "execution_count": 115,
   "id": "d5eb251e",
   "metadata": {},
   "outputs": [],
   "source": [
    "lst = ['akzelxw@hotmail.com',\n",
    "'elum@@gmail.com', # invalid\n",
    "'12345akbar.caakaterasu@gmail.com', # invalid\n",
    "'akarui$kibuno@gmail.com', # invalid\n",
    "'23545436@hotmail.com', # valid\n",
    "'ajmeia@yahoo.com',\n",
    "'ajhnstn87@gmail.com',\n",
    "'ailuvzhoko4@hotmail.com',\n",
    "'ailuvzhoko3@hotmail.com',\n",
    "'ailuvzhoko2@hotmail.com',\n",
    "'ailuvzhoko@hot123mail.com', # invalid\n",
    "'aillensiquioco@aol.co.in', # valid\n",
    "'ahmovic_ines@hotmail.com.in', # invalid\n",
    "'ahmed__g300@yahoo.com', # invalid\n",
    "'ahmadjazlan@gmail.com.com', # invalid\n",
    "'ahmad_ridho19@yahoo.in'] # valid\n",
    "\n",
    "# extract all the valid maild ids\n",
    "# extract valid mail IDs only from gmail.com"
   ]
  },
  {
   "cell_type": "code",
   "execution_count": 140,
   "id": "0985c4d5",
   "metadata": {},
   "outputs": [
    {
     "name": "stdout",
     "output_type": "stream",
     "text": [
      "[['akzelxw@hotmail.com'], [], ['akbar.caakaterasu@gmail.com'], ['kibuno@gmail.com'], [], ['ajmeia@yahoo.com'], ['ajhnstn87@gmail.com'], ['ailuvzhoko4@hotmail.com'], ['ailuvzhoko3@hotmail.com'], ['ailuvzhoko2@hotmail.com'], ['ailuvzhoko@hot123mail.com'], ['aillensiquioco@aol.co.in'], ['ines@hotmail.com.in'], ['g300@yahoo.com'], ['ahmadjazlan@gmail.com.com'], ['ridho19@yahoo.in']]\n"
     ]
    }
   ],
   "source": [
    "pattern = '[A-Za-z.]+[0-9]*@[A-Za-z0-9.-]+\\\\.[A-Za-z]{2,4}'\n",
    "match = [re.findall(pattern, email)  for email in lst]\n",
    "print(match)"
   ]
  },
  {
   "cell_type": "code",
   "execution_count": 141,
   "id": "5e29a048",
   "metadata": {},
   "outputs": [
    {
     "name": "stdout",
     "output_type": "stream",
     "text": [
      "===========VALID EMAIL LIST=============\n",
      "['akzelxw@hotmail.com', '23545436@hotmail.com', 'ajmeia@yahoo.com', 'ajhnstn87@gmail.com', 'ailuvzhoko4@hotmail.com', 'ailuvzhoko3@hotmail.com', 'ailuvzhoko2@hotmail.com', 'aillensiquioco@aol.co.in', 'ahmad_ridho19@yahoo.in']\n",
      "\n",
      "===========GMAIL LIST=============\n"
     ]
    },
    {
     "data": {
      "text/plain": [
       "['ajhnstn87@gmail.com']"
      ]
     },
     "execution_count": 141,
     "metadata": {},
     "output_type": "execute_result"
    }
   ],
   "source": [
    "pattern = re.compile(\"^[A-Za-z0-9]+_?[A-Za-z0-9]*@[A-Za-z]*\\..*\")\n",
    "new_list = []\n",
    "for i in list(filter(lambda x: len(pattern.findall(x)) > 0,lst)):\n",
    "    if not('com.com' in i or 'com.in' in i):\n",
    "        new_list.append(i)\n",
    "print(\"===========VALID EMAIL LIST=============\")        \n",
    "print(new_list)\n",
    "print()\n",
    "print(\"===========GMAIL LIST=============\")\n",
    "gmail_list = list(filter(lambda x: '@gmail' in x,new_list))\n",
    "gmail_list"
   ]
  },
  {
   "cell_type": "markdown",
   "id": "f2588d94",
   "metadata": {},
   "source": [
    "# Numpy -> Numerical Python"
   ]
  },
  {
   "cell_type": "code",
   "execution_count": 73,
   "id": "cff913d3",
   "metadata": {},
   "outputs": [],
   "source": [
    "import numpy as np)"
   ]
  },
  {
   "cell_type": "code",
   "execution_count": 64,
   "id": "821f9c21",
   "metadata": {},
   "outputs": [
    {
     "name": "stdout",
     "output_type": "stream",
     "text": [
      "[1 2 3 4 5] <class 'numpy.ndarray'>\n"
     ]
    }
   ],
   "source": [
    "lst = [1,2,3,4,5]\n",
    "arr = np.array(lst)\n",
    "\n",
    "print(arr, type(arr))"
   ]
  },
  {
   "cell_type": "code",
   "execution_count": 65,
   "id": "7a151b67",
   "metadata": {},
   "outputs": [
    {
     "name": "stdout",
     "output_type": "stream",
     "text": [
      "5\n"
     ]
    }
   ],
   "source": [
    "print(arr.size)"
   ]
  },
  {
   "cell_type": "code",
   "execution_count": 66,
   "id": "9087bb5e",
   "metadata": {},
   "outputs": [
    {
     "name": "stdout",
     "output_type": "stream",
     "text": [
      "(5,)\n"
     ]
    }
   ],
   "source": [
    "print(arr.shape)"
   ]
  },
  {
   "cell_type": "code",
   "execution_count": 68,
   "id": "67207df4",
   "metadata": {},
   "outputs": [
    {
     "name": "stdout",
     "output_type": "stream",
     "text": [
      "1\n"
     ]
    }
   ],
   "source": [
    "print(arr.ndim) # Dimention "
   ]
  },
  {
   "cell_type": "code",
   "execution_count": 69,
   "id": "d62a9a2e",
   "metadata": {},
   "outputs": [],
   "source": [
    "lst = [[1,2,3,4,5], [6,7,8,9,10]]\n",
    "arr = np.array(lst)"
   ]
  },
  {
   "cell_type": "code",
   "execution_count": 70,
   "id": "af036fdf",
   "metadata": {},
   "outputs": [
    {
     "name": "stdout",
     "output_type": "stream",
     "text": [
      "(2, 5)\n"
     ]
    }
   ],
   "source": [
    "print(arr.shape)"
   ]
  },
  {
   "cell_type": "code",
   "execution_count": 71,
   "id": "1033f8ab",
   "metadata": {},
   "outputs": [
    {
     "name": "stdout",
     "output_type": "stream",
     "text": [
      "2\n"
     ]
    }
   ],
   "source": [
    "print(arr.ndim)"
   ]
  },
  {
   "cell_type": "code",
   "execution_count": 75,
   "id": "3f75e5c0",
   "metadata": {},
   "outputs": [
    {
     "data": {
      "text/plain": [
       "array([[[ 0,  1,  2],\n",
       "        [ 3,  4,  5],\n",
       "        [ 6,  7,  8]],\n",
       "\n",
       "       [[ 9, 10, 11],\n",
       "        [12, 13, 14],\n",
       "        [15, 16, 17]],\n",
       "\n",
       "       [[18, 19, 20],\n",
       "        [21, 22, 23],\n",
       "        [24, 25, 26]],\n",
       "\n",
       "       [[27, 28, 29],\n",
       "        [30, 31, 32],\n",
       "        [33, 34, 35]]])"
      ]
     },
     "execution_count": 75,
     "metadata": {},
     "output_type": "execute_result"
    }
   ],
   "source": [
    "np.arange(36).reshape(4,3,3)"
   ]
  },
  {
   "cell_type": "code",
   "execution_count": 76,
   "id": "6e6a7eac",
   "metadata": {},
   "outputs": [
    {
     "data": {
      "text/plain": [
       "array([0, 1, 2, 3, 4, 5, 6, 7, 8, 9])"
      ]
     },
     "execution_count": 76,
     "metadata": {},
     "output_type": "execute_result"
    }
   ],
   "source": [
    "np.arange(0,10)"
   ]
  },
  {
   "cell_type": "code",
   "execution_count": 77,
   "id": "444716d8",
   "metadata": {},
   "outputs": [
    {
     "data": {
      "text/plain": [
       "array([0, 2, 4, 6, 8])"
      ]
     },
     "execution_count": 77,
     "metadata": {},
     "output_type": "execute_result"
    }
   ],
   "source": [
    "np.arange(0,10,2)"
   ]
  },
  {
   "cell_type": "markdown",
   "id": "f9869d0d",
   "metadata": {},
   "source": [
    "# Linspace"
   ]
  },
  {
   "cell_type": "code",
   "execution_count": 78,
   "id": "56e606e7",
   "metadata": {},
   "outputs": [
    {
     "data": {
      "text/plain": [
       "array([ 1.        ,  1.47368421,  1.94736842,  2.42105263,  2.89473684,\n",
       "        3.36842105,  3.84210526,  4.31578947,  4.78947368,  5.26315789,\n",
       "        5.73684211,  6.21052632,  6.68421053,  7.15789474,  7.63157895,\n",
       "        8.10526316,  8.57894737,  9.05263158,  9.52631579, 10.        ])"
      ]
     },
     "execution_count": 78,
     "metadata": {},
     "output_type": "execute_result"
    }
   ],
   "source": [
    "np.linspace(1,10,20)"
   ]
  },
  {
   "cell_type": "markdown",
   "id": "93dbf37e",
   "metadata": {},
   "source": [
    "# Zeros and Zeros like"
   ]
  },
  {
   "cell_type": "code",
   "execution_count": 83,
   "id": "7366c628",
   "metadata": {},
   "outputs": [
    {
     "data": {
      "text/plain": [
       "array([[[0, 0, 0],\n",
       "        [0, 0, 0],\n",
       "        [0, 0, 0],\n",
       "        [0, 0, 0]],\n",
       "\n",
       "       [[0, 0, 0],\n",
       "        [0, 0, 0],\n",
       "        [0, 0, 0],\n",
       "        [0, 0, 0]]])"
      ]
     },
     "execution_count": 83,
     "metadata": {},
     "output_type": "execute_result"
    }
   ],
   "source": [
    "np.zeros((2,4,3), dtype = int)"
   ]
  },
  {
   "cell_type": "code",
   "execution_count": null,
   "id": "34e16138",
   "metadata": {},
   "outputs": [],
   "source": [
    "lst = [[1,2], [3,4], [5,6]]\n",
    "arr = np.array(lst)\n",
    "\n",
    "np.zeros_like\n",
    "np.ones\n",
    "np.ones_like"
   ]
  },
  {
   "cell_type": "code",
   "execution_count": 85,
   "id": "823b02d6",
   "metadata": {},
   "outputs": [
    {
     "data": {
      "text/plain": [
       "array([[1, 0, 0, 0],\n",
       "       [0, 1, 0, 0],\n",
       "       [0, 0, 1, 0],\n",
       "       [0, 0, 0, 1]])"
      ]
     },
     "execution_count": 85,
     "metadata": {},
     "output_type": "execute_result"
    }
   ],
   "source": [
    "np.identity(4, dtype= int)"
   ]
  },
  {
   "cell_type": "code",
   "execution_count": null,
   "id": "07f15a34",
   "metadata": {},
   "outputs": [],
   "source": []
  }
 ],
 "metadata": {
  "kernelspec": {
   "display_name": "Python 3 (ipykernel)",
   "language": "python",
   "name": "python3"
  },
  "language_info": {
   "codemirror_mode": {
    "name": "ipython",
    "version": 3
   },
   "file_extension": ".py",
   "mimetype": "text/x-python",
   "name": "python",
   "nbconvert_exporter": "python",
   "pygments_lexer": "ipython3",
   "version": "3.9.12"
  }
 },
 "nbformat": 4,
 "nbformat_minor": 5
}
