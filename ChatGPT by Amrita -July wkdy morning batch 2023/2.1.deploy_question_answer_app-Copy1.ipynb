{
 "cells": [
  {
   "cell_type": "markdown",
   "id": "dbfcc87a",
   "metadata": {},
   "source": [
    "#### Authentication"
   ]
  },
  {
   "cell_type": "code",
   "execution_count": 1,
   "id": "fc93f0f7",
   "metadata": {},
   "outputs": [],
   "source": [
    "import openai\n",
    "import os\n",
    "from secret_key import api_key\n",
    "openai.api_key = api_key"
   ]
  },
  {
   "cell_type": "markdown",
   "id": "49b699ef",
   "metadata": {},
   "source": [
    "#### Openai API Call"
   ]
  },
  {
   "cell_type": "code",
   "execution_count": 2,
   "id": "e92718c4",
   "metadata": {},
   "outputs": [],
   "source": [
    "def qa_app(input_text):\n",
    "    # Create a list of messages containing the user input\n",
    "    messages = [\n",
    "        {\n",
    "            \"role\": \"system\",\n",
    "            \"content\": \"You will be provided with a question, and your task is to answer it correctly.\"\n",
    "        },\n",
    "        {\n",
    "            \"role\": \"user\",\n",
    "            \"content\": input_text\n",
    "        }\n",
    "    ]\n",
    "\n",
    "    # Generate response from the model\n",
    "    response = openai.ChatCompletion.create(\n",
    "        model=\"gpt-3.5-turbo\",\n",
    "        messages=messages,\n",
    "        temperature=0,\n",
    "        max_tokens=256\n",
    "    )\n",
    "\n",
    "    # Return the generated output\n",
    "    return response['choices'][0]['message']['content']"
   ]
  }
 ],
 "metadata": {
  "kernelspec": {
   "display_name": "Python 3 (ipykernel)",
   "language": "python",
   "name": "python3"
  },
  "language_info": {
   "codemirror_mode": {
    "name": "ipython",
    "version": 3
   },
   "file_extension": ".py",
   "mimetype": "text/x-python",
   "name": "python",
   "nbconvert_exporter": "python",
   "pygments_lexer": "ipython3",
   "version": "3.9.12"
  }
 },
 "nbformat": 4,
 "nbformat_minor": 5
}
