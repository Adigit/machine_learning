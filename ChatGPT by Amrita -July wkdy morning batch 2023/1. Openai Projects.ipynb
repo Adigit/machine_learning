{
 "cells": [
  {
   "cell_type": "markdown",
   "id": "a1f8e435",
   "metadata": {},
   "source": [
    "##### openai.ChatCompletion.create(...): This line calls the OpenAI API to generate a response using the GPT-3.5-turbo model. The *create* method is used to interact with the model and request a completion for the conversation provided in the messages list.\n",
    "\n",
    "- model=\"gpt-3.5-turbo\": This specifies the model to use, which is GPT-3.5-turbo in this case.\n",
    "- \n",
    "- messages=messages: This is the conversation history provided as input to the model. It  includes both the system message and the user message.\n",
    "- \n",
    "- temperature=0: The temperature determines the randomness of the output. A higher value like 0.8 would make the output more diverse, while 0 will make it deterministic.\n",
    "- \n",
    "- max_tokens=256: This sets the maximum length of the generated response in tokens. Tokens are chunks of text used for language modeling. Here, the maximum response length is set to 256 tokens.\n",
    "- "
   ]
  },
  {
   "cell_type": "markdown",
   "id": "ec98e2d3",
   "metadata": {},
   "source": [
    "### Authorized Access to Openai API"
   ]
  },
  {
   "cell_type": "code",
   "execution_count": 1,
   "id": "e7083780",
   "metadata": {},
   "outputs": [],
   "source": [
    "import openai\n",
    "import os\n",
    "# from secret_key import api_key\n",
    "\n",
    "openai.api_key = \"\""
   ]
  },
  {
   "cell_type": "markdown",
   "id": "e7b4ceb8",
   "metadata": {},
   "source": [
    "#### First: Grammar Correction App"
   ]
  },
  {
   "cell_type": "code",
   "execution_count": 3,
   "id": "98169e9a",
   "metadata": {},
   "outputs": [
    {
     "name": "stdout",
     "output_type": "stream",
     "text": [
      "Enter a statement: I going class\n",
      "Generated Output:\n",
      "{\n",
      "  \"id\": \"chatcmpl-7gPW25Y23EJ7GR41ANMmRP1PiI8Zl\",\n",
      "  \"object\": \"chat.completion\",\n",
      "  \"created\": 1690342214,\n",
      "  \"model\": \"gpt-3.5-turbo-0613\",\n",
      "  \"choices\": [\n",
      "    {\n",
      "      \"index\": 0,\n",
      "      \"message\": {\n",
      "        \"role\": \"assistant\",\n",
      "        \"content\": \"I am going to class.\"\n",
      "      },\n",
      "      \"finish_reason\": \"stop\"\n",
      "    }\n",
      "  ],\n",
      "  \"usage\": {\n",
      "    \"prompt_tokens\": 32,\n",
      "    \"completion_tokens\": 6,\n",
      "    \"total_tokens\": 38\n",
      "  }\n",
      "}\n"
     ]
    },
    {
     "data": {
      "text/plain": [
       "'I am going to class.'"
      ]
     },
     "execution_count": 3,
     "metadata": {},
     "output_type": "execute_result"
    }
   ],
   "source": [
    "# Get user input\n",
    "user_input = input(\"Enter a statement: \")\n",
    "\n",
    "# role: system means: standard instructions are provided\n",
    "\n",
    "#role: user: give different statements for every single execution\n",
    "\n",
    "\n",
    "# Create a list of messages containing the user input\n",
    "messages = [\n",
    "    {\n",
    "        \"role\": \"system\",\n",
    "        \"content\": \"You will be provided with statements, and your task is to convert them to standard English.\"\n",
    "    },\n",
    "    {\n",
    "        \"role\": \"user\",\n",
    "        \"content\": user_input\n",
    "    }\n",
    "]\n",
    "\n",
    "# Generate response from the model\n",
    "response = openai.ChatCompletion.create(\n",
    "    model=\"gpt-3.5-turbo\",\n",
    "    messages=messages,\n",
    "    temperature=0,\n",
    "    max_tokens=256\n",
    ")\n",
    "\n",
    "# Print the generated output\n",
    "print(\"Generated Output:\")\n",
    "# print(response['choices'][0]['message']['content'])"
   ]
  },
  {
   "cell_type": "code",
   "execution_count": 4,
   "id": "32e46d08",
   "metadata": {},
   "outputs": [
    {
     "name": "stdout",
     "output_type": "stream",
     "text": [
      "I am going to class.\n"
     ]
    }
   ],
   "source": [
    "# print(response)\n",
    "print(response[\"choices\"][0]['message']['content'])"
   ]
  },
  {
   "cell_type": "markdown",
   "id": "065b75cc",
   "metadata": {},
   "source": [
    "#### Second: Language Translator App"
   ]
  },
  {
   "cell_type": "code",
   "execution_count": 6,
   "id": "24621f9e",
   "metadata": {},
   "outputs": [
    {
     "name": "stdout",
     "output_type": "stream",
     "text": [
      "Input your statement in English language only: I am going to the market\n",
      "Je vais au marché.\n"
     ]
    }
   ],
   "source": [
    "user_input = input('Input your statement in English language only: ')\n",
    "\n",
    "response = openai.ChatCompletion.create(\n",
    "  model=\"gpt-3.5-turbo\",\n",
    "  messages=[\n",
    "    {\n",
    "      \"role\": \"system\",\n",
    "      \"content\": \"You will be provided with a sentence in English, and your task is to translate it into French.\"\n",
    "    },\n",
    "    {\n",
    "      \"role\": \"user\",\n",
    "      \"content\": user_input\n",
    "    }\n",
    "  ],\n",
    "  temperature=0,\n",
    "  max_tokens=256\n",
    ")\n",
    "\n",
    "print(response['choices'][0]['message']['content'])"
   ]
  },
  {
   "cell_type": "markdown",
   "id": "ac7339ba",
   "metadata": {},
   "source": [
    "#### Third: Audio to text (using whisper)"
   ]
  },
  {
   "cell_type": "code",
   "execution_count": 8,
   "id": "a62871fc",
   "metadata": {},
   "outputs": [
    {
     "data": {
      "text/plain": [
       "'\"\\'It is eleven, Concierge, and it\\'s ignoring. Is it\\'s mile where?\\' may send a little. \"\\'Nay, and the she knew whither o\\'er, men. I had dealt a frail.\"'"
      ]
     },
     "execution_count": 8,
     "metadata": {},
     "output_type": "execute_result"
    }
   ],
   "source": [
    "audio_file= open(\"audio.mp3\", \"rb\")\n",
    "transcript = openai.Audio.transcribe(\"whisper-1\", audio_file)\n",
    "transcript['text']"
   ]
  },
  {
   "cell_type": "markdown",
   "id": "02e9cf2e",
   "metadata": {},
   "source": [
    "#### Fourth: Image Generator (using Dalle 2)"
   ]
  },
  {
   "cell_type": "code",
   "execution_count": 16,
   "id": "cff4141d",
   "metadata": {},
   "outputs": [
    {
     "name": "stdout",
     "output_type": "stream",
     "text": [
      "Write your prompt for Dall-e 2:  bird sitting on tree\n"
     ]
    }
   ],
   "source": [
    "user_input = input(\"Write your prompt for Dall-e 2:  \")\n",
    "\n",
    "response = openai.Image.create(prompt = user_input, n = 1, size = '1024x1024')"
   ]
  },
  {
   "cell_type": "code",
   "execution_count": 17,
   "id": "70790524",
   "metadata": {},
   "outputs": [
    {
     "name": "stdout",
     "output_type": "stream",
     "text": [
      "https://oaidalleapiprodscus.blob.core.windows.net/private/org-0nkLMnHiMlB0QUYRAVzlnUb3/user-qRm1t0sRgo20vIsNn4McXXt4/img-dc8hQg8d007ZF2M9h16MmXxz.png?st=2023-07-26T03%3A04%3A09Z&se=2023-07-26T05%3A04%3A09Z&sp=r&sv=2021-08-06&sr=b&rscd=inline&rsct=image/png&skoid=6aaadede-4fb3-4698-a8f6-684d7786b067&sktid=a48cca56-e6da-484e-a814-9c849652bcb3&skt=2023-07-25T23%3A38%3A31Z&ske=2023-07-26T23%3A38%3A31Z&sks=b&skv=2021-08-06&sig=VKgCXqq5Yi6wCavwU/WJ38f5iawRZ0v3c12lHuxLFm8%3D\n"
     ]
    }
   ],
   "source": [
    "print(response['data'][0][\"url\"])"
   ]
  },
  {
   "cell_type": "markdown",
   "id": "5dce589c",
   "metadata": {},
   "source": [
    "#### Fifth: Keyword Extraction App"
   ]
  },
  {
   "cell_type": "code",
   "execution_count": 18,
   "id": "e93cb592",
   "metadata": {},
   "outputs": [
    {
     "name": "stdout",
     "output_type": "stream",
     "text": [
      "Responsibilities, Requirements, Bachelor's degree, Master's degree, Computer Science, Statistics, Mathematics, related field, Data Scientist, similar role, data science techniques, programming skills, Python, R, Java, data manipulation, cleaning, preprocessing techniques, machine learning algorithms, supervised methods, unsupervised methods, data visualization tools, Tableau, Matplotlib, ggplot, findings, communicate, technical concepts, non-technical stakeholders, problem-solving skills, analytical mindset, Big Data technologies, cloud platforms, Hadoop, Spark, AWS, Azure, database systems, SQL, advantage.\n"
     ]
    }
   ],
   "source": [
    "user_input = \"\"\"Responsibilities:\n",
    "Requirements:\n",
    "Bachelor's or Master's degree in Computer Science, Statistics, Mathematics, or a related field.\n",
    "Proven experience as a Data Scientist or similar role, demonstrating successful application of data science techniques.\n",
    "Strong programming skills in languages such as Python, R, or Java.\n",
    "Proficiency in data manipulation, cleaning, and preprocessing techniques.\n",
    "Solid understanding of machine learning algorithms, including supervised and unsupervised methods.\n",
    "Familiarity with data visualization tools (e.g., Tableau, Matplotlib, or ggplot) to present findings effectively.\n",
    "Ability to communicate complex technical concepts to non-technical stakeholders clearly.\n",
    "Strong problem-solving skills and an analytical mindset.\n",
    "Experience with Big Data technologies and cloud platforms (e.g., Hadoop, Spark, AWS, or Azure) is a plus.\n",
    "Knowledge of database systems and SQL is an advantage.\"\"\"\n",
    "\n",
    "response = openai.ChatCompletion.create(\n",
    "  model=\"gpt-3.5-turbo\",\n",
    "  messages=[\n",
    "    {\n",
    "      \"role\": \"system\",\n",
    "      \"content\": \"You will be provided with a block of text, and your task is to extract a list of keywords from it.\"\n",
    "    },\n",
    "    {\n",
    "      \"role\": \"user\",\n",
    "      \"content\": user_input\n",
    "    }\n",
    "  ],\n",
    "  temperature=0.5,   #0 and 2\n",
    "  max_tokens=300\n",
    ")\n",
    "\n",
    "print(response['choices'][0]['message']['content'])"
   ]
  },
  {
   "cell_type": "markdown",
   "id": "49c21c2e",
   "metadata": {},
   "source": [
    "#### Sixth: Airport Code Generator"
   ]
  },
  {
   "cell_type": "code",
   "execution_count": null,
   "id": "22240c05",
   "metadata": {},
   "outputs": [],
   "source": [
    "response = openai.ChatCompletion.create(\n",
    "  model=\"gpt-3.5-turbo\",\n",
    "  messages=[\n",
    "    {\n",
    "      \"role\": \"system\",\n",
    "      \"content\": \"You will be provided with a text, and your task is to extract the airport codes from it.\"\n",
    "    },\n",
    "    {\n",
    "      \"role\": \"user\",\n",
    "      \"content\": \"I want to fly from Orlando to Boston\"\n",
    "    }\n",
    "  ],\n",
    "  temperature=0,\n",
    "  max_tokens=256\n",
    ")\n",
    "\n",
    "print(response['choices'][0]['message']['content'])"
   ]
  },
  {
   "cell_type": "markdown",
   "id": "7d079cab",
   "metadata": {},
   "source": [
    "#### Seventh: Startup Idea Generator"
   ]
  },
  {
   "cell_type": "code",
   "execution_count": null,
   "id": "2a0b609d",
   "metadata": {},
   "outputs": [],
   "source": [
    "response = openai.ChatCompletion.create(\n",
    "  model=\"gpt-3.5-turbo\",\n",
    "  messages=[\n",
    "    {\n",
    "      \"role\": \"user\",\n",
    "      \"content\": \"Brainstorm some ideas combining Generative AI and corporate online courses.\"\n",
    "    }\n",
    "  ],\n",
    "  temperature=0.6,\n",
    "  max_tokens=256\n",
    ")\n",
    "\n",
    "print(response['choices'][0]['message']['content'])"
   ]
  }
 ],
 "metadata": {
  "kernelspec": {
   "display_name": "Python 3 (ipykernel)",
   "language": "python",
   "name": "python3"
  },
  "language_info": {
   "codemirror_mode": {
    "name": "ipython",
    "version": 3
   },
   "file_extension": ".py",
   "mimetype": "text/x-python",
   "name": "python",
   "nbconvert_exporter": "python",
   "pygments_lexer": "ipython3",
   "version": "3.9.12"
  }
 },
 "nbformat": 4,
 "nbformat_minor": 5
}
