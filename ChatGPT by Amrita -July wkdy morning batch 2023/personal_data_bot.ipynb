{
 "cells": [
  {
   "cell_type": "code",
   "execution_count": 1,
   "id": "159c78d2",
   "metadata": {},
   "outputs": [],
   "source": [
    "with open ('data.txt', 'r') as file:\n",
    "    content = file.read()"
   ]
  },
  {
   "cell_type": "code",
   "execution_count": null,
   "id": "eb6cb543",
   "metadata": {},
   "outputs": [],
   "source": [
    "content"
   ]
  },
  {
   "cell_type": "code",
   "execution_count": null,
   "id": "5aa7c3ab",
   "metadata": {},
   "outputs": [],
   "source": [
    "import os\n",
    "import openai\n",
    "from secret_key import api_key\n",
    "\n",
    "openai.api_key = api_key\n",
    "\n",
    "with open('data.txt','r') as file:\n",
    "    content = file.read()\n",
    "    \n",
    "def mychatbot(user_input):\n",
    "    response = openai.ChatCompletion.create(\n",
    "        model=\"gpt-3.5-turbo\",\n",
    "        messages=[\n",
    "            {'role':\"system\",\"content\":\"You are a helpful assistant\"},\n",
    "            {'role':\"user\",\"content\":\"Please answer my queries according to the given context \\nContext: {}\".format(str(content))},\n",
    "            {'role':\"assistant\",\"content\": \"Okay, sure !\"},\n",
    "            {'role': \"user\",\"content\": user_input}])\n",
    "    return response\n",
    "\n",
    "user_input = input(\"Ask your question related to Paris: \")\n",
    "generated_response = mychatbot(user_input)\n",
    "\n",
    "print(generated_response[\"choices\"][0][\"message\"][\"content\"])"
   ]
  },
  {
   "cell_type": "code",
   "execution_count": 7,
   "id": "2c6e6894",
   "metadata": {},
   "outputs": [
    {
     "name": "stdout",
     "output_type": "stream",
     "text": [
      "Ask your question related to the context: where is India?\n",
      "This data is not available on this site. Please ask a relevant question.\n"
     ]
    }
   ],
   "source": [
    "import os\n",
    "import openai\n",
    "from secret_key import api_key\n",
    "\n",
    "openai.api_key = api_key\n",
    "\n",
    "with open('data.txt','r') as file:\n",
    "    content = file.read()\n",
    "\n",
    "def mychatbot(user_input):\n",
    "    response = openai.ChatCompletion.create(\n",
    "        model=\"gpt-3.5-turbo\",\n",
    "        messages=[\n",
    "            {\"role\": \"system\", \"content\": \"You are a helpful assistant that only answers questions strictly based on the given text.\"},\n",
    "            {\"role\": \"user\", \"content\": f\"Do not provide answers from general context. If the context does not have answer say I don't know.The text for you to strictly base your answers on is as follows: {content}\"},\n",
    "            {\"role\": \"user\", \"content\": user_input},\n",
    "        ],\n",
    "        temperature=0,  # Make output more focused and deterministic\n",
    "    )\n",
    "\n",
    "    # Check if the answer is valid\n",
    "    if \"I don't know\" in response.choices[0].message['content']:\n",
    "        return \"This data is not available on this site. Please ask a relevant question.\"\n",
    "    else:\n",
    "        return response.choices[0].message['content']\n",
    "\n",
    "user_input = input(\"Ask your question related to the context: \")\n",
    "generated_response = mychatbot(user_input)\n",
    "\n",
    "print(generated_response)\n"
   ]
  },
  {
   "cell_type": "code",
   "execution_count": null,
   "id": "524fde6f",
   "metadata": {},
   "outputs": [],
   "source": []
  },
  {
   "cell_type": "code",
   "execution_count": null,
   "id": "8d8f273c",
   "metadata": {},
   "outputs": [],
   "source": []
  },
  {
   "cell_type": "code",
   "execution_count": null,
   "id": "7acf7f01",
   "metadata": {},
   "outputs": [],
   "source": []
  },
  {
   "cell_type": "code",
   "execution_count": null,
   "id": "9fc58bf1",
   "metadata": {},
   "outputs": [],
   "source": []
  }
 ],
 "metadata": {
  "kernelspec": {
   "display_name": "Python 3 (ipykernel)",
   "language": "python",
   "name": "python3"
  },
  "language_info": {
   "codemirror_mode": {
    "name": "ipython",
    "version": 3
   },
   "file_extension": ".py",
   "mimetype": "text/x-python",
   "name": "python",
   "nbconvert_exporter": "python",
   "pygments_lexer": "ipython3",
   "version": "3.9.12"
  }
 },
 "nbformat": 4,
 "nbformat_minor": 5
}
