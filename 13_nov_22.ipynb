{
 "cells": [
  {
   "cell_type": "code",
   "execution_count": 1,
   "id": "e8778d8f",
   "metadata": {},
   "outputs": [],
   "source": [
    "emp_data = {'emp_1':{'Age': 26 , 'Salary': 901000 , 'Name': 'Salahuddin'},\n",
    "           'emp_2':{'Age': 27 , 'Salary': 1000000 , 'Name': 'Abhijeet'},\n",
    "           'emp_3':{'Age': 28 , 'Salary': 1000002 , 'Name': 'Abhishail'},\n",
    "           'emp_4':{'Age': 29 , 'Salary': 1100000 , 'Name': 'Abhishek'}}"
   ]
  },
  {
   "cell_type": "code",
   "execution_count": 5,
   "id": "cb185eb1",
   "metadata": {},
   "outputs": [
    {
     "name": "stdout",
     "output_type": "stream",
     "text": [
      "{'Age': 27, 'Salary': 1000000, 'Name': 'Abhijeet'}\n"
     ]
    }
   ],
   "source": [
    "print(emp_data.get('emp_2'))"
   ]
  },
  {
   "cell_type": "code",
   "execution_count": 4,
   "id": "4e307e2f",
   "metadata": {},
   "outputs": [
    {
     "name": "stdout",
     "output_type": "stream",
     "text": [
      "None\n"
     ]
    }
   ],
   "source": [
    "print(emp_data.get('emp_5'))"
   ]
  },
  {
   "cell_type": "code",
   "execution_count": 6,
   "id": "4fb92b6d",
   "metadata": {},
   "outputs": [
    {
     "name": "stdout",
     "output_type": "stream",
     "text": [
      "Data not avialble\n"
     ]
    }
   ],
   "source": [
    "print(emp_data.get('emp_5', 'Data not avialble'))"
   ]
  },
  {
   "cell_type": "code",
   "execution_count": 11,
   "id": "90eafcb5",
   "metadata": {},
   "outputs": [
    {
     "name": "stdout",
     "output_type": "stream",
     "text": [
      "None\n",
      "{'emp_1': {'Age': 26, 'Salary': 901000, 'Name': 'Salahuddin'}, 'emp_2': {'Age': 27, 'Salary': 1000000, 'Name': 'Abhijeet'}, 'emp_3': {'Age': 28, 'Salary': 1000002, 'Name': 'Abhishail'}, 'emp_4': {'Age': 29, 'Salary': 1100000, 'Name': 'Abhishek'}, 'emp_5': {'Age': 26, 'Salary': 901000, 'Name': 'Salahuddin 1'}, 'emp_6': {'Age': 27, 'Salary': 1000000, 'Name': 'Abhijeet 1'}, 'emp7': {'Age': 29, 'Salary': 1100000, 'Name': 'Abhishek'}}\n"
     ]
    }
   ],
   "source": [
    "new_emp_data = {'emp_5':{'Age': 26 , 'Salary': 901000 , 'Name': 'Salahuddin 1'},\n",
    "           'emp_6':{'Age': 27 , 'Salary': 1000000 , 'Name': 'Abhijeet 1'}}\n",
    "print(emp_data.update(new_emp_data))\n",
    "print(emp_data)"
   ]
  },
  {
   "cell_type": "code",
   "execution_count": 10,
   "id": "598a5aaa",
   "metadata": {},
   "outputs": [
    {
     "name": "stdout",
     "output_type": "stream",
     "text": [
      "{'Age': 29, 'Salary': 1100000, 'Name': 'Abhishek'}\n"
     ]
    }
   ],
   "source": [
    "print(emp_data.setdefault('emp7', {'Age': 29 , 'Salary': 1100000 , 'Name': 'Abhishek'}))"
   ]
  },
  {
   "cell_type": "code",
   "execution_count": 12,
   "id": "6ab7c394",
   "metadata": {},
   "outputs": [
    {
     "name": "stdout",
     "output_type": "stream",
     "text": [
      "{'emp_1': {'Age': 26, 'Salary': 901000, 'Name': 'Salahuddin'}, 'emp_2': {'Age': 27, 'Salary': 1000000, 'Name': 'Abhijeet'}, 'emp_3': {'Age': 28, 'Salary': 1000002, 'Name': 'Abhishail'}, 'emp_4': {'Age': 29, 'Salary': 1100000, 'Name': 'Abhishek'}, 'emp_5': {'Age': 26, 'Salary': 901000, 'Name': 'Salahuddin 1'}, 'emp_6': {'Age': 27, 'Salary': 1000000, 'Name': 'Abhijeet 1'}, 'emp7': {'Age': 29, 'Salary': 1100000, 'Name': 'Abhishek'}}\n"
     ]
    }
   ],
   "source": [
    "print(emp_data)"
   ]
  },
  {
   "cell_type": "code",
   "execution_count": null,
   "id": "2723be28",
   "metadata": {},
   "outputs": [],
   "source": [
    "- Age\n",
    "- salary\n",
    "- name\n",
    "\n",
    "\n",
    "\n",
    "emp_5 - Age\n",
    "- salary\n",
    "- name\n",
    "\n",
    "\n",
    "emp_6 - Age\n",
    "- salary\n",
    "- name"
   ]
  },
  {
   "cell_type": "code",
   "execution_count": 17,
   "id": "36eec7cc",
   "metadata": {},
   "outputs": [
    {
     "name": "stdout",
     "output_type": "stream",
     "text": [
      "Enter the age : 10\n",
      "Enter the salary : 100\n",
      "Enter the name : adi\n",
      "{'emp_1': {'Age': 26, 'Salary': 901000, 'Name': 'Salahuddin'}, 'emp_2': {'Age': 27, 'Salary': 1000000, 'Name': 'Abhijeet'}, 'emp_3': {'Age': 28, 'Salary': 1000002, 'Name': 'Abhishail'}, 'emp_4': {'Age': 29, 'Salary': 1100000, 'Name': 'Abhishek'}, 'emp_5': {'Age': 26, 'Salary': 901000, 'Name': 'Salahuddin 1'}, 'emp_6': {'Age': 27, 'Salary': 1000000, 'Name': 'Abhijeet 1'}, 'emp7': {'Age': 29, 'Salary': 1100000, 'Name': 'Abhishek'}, 'emp_8': {'age': '10', 'salary': '100', 'name': 'aditya'}, 'emp_9': {'age': '10', 'salary': '100', 'name': 'adi'}}\n"
     ]
    }
   ],
   "source": [
    "age = input('Enter the age : ')\n",
    "salary = input('Enter the salary : ')\n",
    "name = input('Enter the name : ')\n",
    "\n",
    "key = f'emp_{len(emp_data) + 1}'\n",
    "emp_data.setdefault(key, {'age': age, 'salary': salary, 'name' : name })\n",
    "print(emp_data)"
   ]
  },
  {
   "cell_type": "code",
   "execution_count": 18,
   "id": "4924815c",
   "metadata": {},
   "outputs": [
    {
     "data": {
      "text/plain": [
       "('emp_9', {'age': '10', 'salary': '100', 'name': 'adi'})"
      ]
     },
     "execution_count": 18,
     "metadata": {},
     "output_type": "execute_result"
    }
   ],
   "source": [
    "#Method to remove items from dictionary\n",
    "# pop\n",
    "# popitem\n",
    "emp_data.popitem()"
   ]
  },
  {
   "cell_type": "code",
   "execution_count": 19,
   "id": "d345e6d1",
   "metadata": {},
   "outputs": [
    {
     "name": "stdout",
     "output_type": "stream",
     "text": [
      "{'emp_1': {'Age': 26, 'Salary': 901000, 'Name': 'Salahuddin'}, 'emp_2': {'Age': 27, 'Salary': 1000000, 'Name': 'Abhijeet'}, 'emp_3': {'Age': 28, 'Salary': 1000002, 'Name': 'Abhishail'}, 'emp_4': {'Age': 29, 'Salary': 1100000, 'Name': 'Abhishek'}, 'emp_5': {'Age': 26, 'Salary': 901000, 'Name': 'Salahuddin 1'}, 'emp_6': {'Age': 27, 'Salary': 1000000, 'Name': 'Abhijeet 1'}, 'emp7': {'Age': 29, 'Salary': 1100000, 'Name': 'Abhishek'}, 'emp_8': {'age': '10', 'salary': '100', 'name': 'aditya'}}\n"
     ]
    }
   ],
   "source": [
    "print(emp_data)"
   ]
  },
  {
   "cell_type": "code",
   "execution_count": 3,
   "id": "83ce173f",
   "metadata": {},
   "outputs": [
    {
     "name": "stdout",
     "output_type": "stream",
     "text": [
      "Enter the emp id : -98\n",
      "{'emp_-98': {'Age': 656, 'Salary': 12312121, 'Name': 'gfd'}}\n",
      "{'emp_1': {'Age': 26, 'Salary': 901000, 'Name': 'Salahuddin'}, 'emp_2': {'Age': 27, 'Salary': 1000000, 'Name': 'Abhijeet'}, 'emp_3': {'Age': 28, 'Salary': 1000002, 'Name': 'Abhishail'}, 'emp_4': {'Age': 29, 'Salary': 1100000, 'Name': 'Abhishek'}, 'emp_5': {'Age': 55, 'Salary': 655656, 'Name': 'vgfgvg'}}\n"
     ]
    }
   ],
   "source": [
    "curr_emp_data = {'emp_1': {'Age': 26, 'Salary': 901000, 'Name': 'Salahuddin'},\n",
    " 'emp_2': {'Age': 27, 'Salary': 1000000, 'Name': 'Abhijeet'},\n",
    " 'emp_3': {'Age': 28, 'Salary': 1000002, 'Name': 'Abhishail'},\n",
    " 'emp_4': {'Age': 29, 'Salary': 1100000, 'Name': 'Abhishek'},\n",
    " 'emp_5': {'Age': 55, 'Salary': 655656, 'Name': 'vgfgvg'},\n",
    " 'emp_-98': {'Age': 656, 'Salary': 12312121, 'Name': 'gfd'}}\n",
    "\n",
    "ex_emp = {}\n",
    "emp_id = int(input('Enter the emp id : '))\n",
    "ex_emp.setdefault(f'emp_{emp_id}', curr_emp_data.pop(f'emp_{emp_id}'))\n",
    "print(ex_emp)\n",
    "print(curr_emp_data)"
   ]
  },
  {
   "cell_type": "code",
   "execution_count": 4,
   "id": "1400e7a8",
   "metadata": {},
   "outputs": [
    {
     "name": "stdout",
     "output_type": "stream",
     "text": [
      "['__class__', '__class_getitem__', '__contains__', '__delattr__', '__delitem__', '__dir__', '__doc__', '__eq__', '__format__', '__ge__', '__getattribute__', '__getitem__', '__gt__', '__hash__', '__init__', '__init_subclass__', '__ior__', '__iter__', '__le__', '__len__', '__lt__', '__ne__', '__new__', '__or__', '__reduce__', '__reduce_ex__', '__repr__', '__reversed__', '__ror__', '__setattr__', '__setitem__', '__sizeof__', '__str__', '__subclasshook__', 'clear', 'copy', 'fromkeys', 'get', 'items', 'keys', 'pop', 'popitem', 'setdefault', 'update', 'values']\n"
     ]
    }
   ],
   "source": [
    "print(dir(dict))"
   ]
  },
  {
   "cell_type": "code",
   "execution_count": 7,
   "id": "f415ec1f",
   "metadata": {},
   "outputs": [
    {
     "data": {
      "text/plain": [
       "dict_keys(['emp_1', 'emp_2', 'emp_3', 'emp_4', 'emp_5'])"
      ]
     },
     "execution_count": 7,
     "metadata": {},
     "output_type": "execute_result"
    }
   ],
   "source": [
    "curr_emp_data.keys()"
   ]
  },
  {
   "cell_type": "code",
   "execution_count": 8,
   "id": "7edb30d9",
   "metadata": {},
   "outputs": [
    {
     "data": {
      "text/plain": [
       "dict_values([{'Age': 26, 'Salary': 901000, 'Name': 'Salahuddin'}, {'Age': 27, 'Salary': 1000000, 'Name': 'Abhijeet'}, {'Age': 28, 'Salary': 1000002, 'Name': 'Abhishail'}, {'Age': 29, 'Salary': 1100000, 'Name': 'Abhishek'}, {'Age': 55, 'Salary': 655656, 'Name': 'vgfgvg'}])"
      ]
     },
     "execution_count": 8,
     "metadata": {},
     "output_type": "execute_result"
    }
   ],
   "source": [
    "curr_emp_data.values()"
   ]
  },
  {
   "cell_type": "code",
   "execution_count": 9,
   "id": "816456eb",
   "metadata": {},
   "outputs": [
    {
     "data": {
      "text/plain": [
       "dict_items([('emp_1', {'Age': 26, 'Salary': 901000, 'Name': 'Salahuddin'}), ('emp_2', {'Age': 27, 'Salary': 1000000, 'Name': 'Abhijeet'}), ('emp_3', {'Age': 28, 'Salary': 1000002, 'Name': 'Abhishail'}), ('emp_4', {'Age': 29, 'Salary': 1100000, 'Name': 'Abhishek'}), ('emp_5', {'Age': 55, 'Salary': 655656, 'Name': 'vgfgvg'})])"
      ]
     },
     "execution_count": 9,
     "metadata": {},
     "output_type": "execute_result"
    }
   ],
   "source": [
    "curr_emp_data.items()"
   ]
  },
  {
   "cell_type": "code",
   "execution_count": 10,
   "id": "c3493d56",
   "metadata": {},
   "outputs": [
    {
     "name": "stdout",
     "output_type": "stream",
     "text": [
      "Salahuddin\n",
      "Abhijeet\n",
      "Abhishail\n",
      "Abhishek\n",
      "vgfgvg\n",
      "gfd\n"
     ]
    }
   ],
   "source": [
    "curr_emp_data = {'emp_1': {'Age': 26, 'Salary': 901000, 'Name': 'Salahuddin'},\n",
    " 'emp_2': {'Age': 27, 'Salary': 1000000, 'Name': 'Abhijeet'},\n",
    " 'emp_3': {'Age': 28, 'Salary': 1000002, 'Name': 'Abhishail'},\n",
    " 'emp_4': {'Age': 29, 'Salary': 1100000, 'Name': 'Abhishek'},\n",
    " 'emp_5': {'Age': 55, 'Salary': 655656, 'Name': 'vgfgvg'},\n",
    " 'emp_-98': {'Age': 656, 'Salary': 12312121, 'Name': 'gfd'}}\n",
    "\n",
    "for i in curr_emp_data.values():\n",
    "    print(curr_emp_data[i]['Name'])"
   ]
  },
  {
   "cell_type": "code",
   "execution_count": 11,
   "id": "6126a35a",
   "metadata": {},
   "outputs": [
    {
     "name": "stdout",
     "output_type": "stream",
     "text": [
      "{}\n"
     ]
    }
   ],
   "source": [
    "#clear\n",
    "curr_emp_data.clear()\n",
    "print(curr_emp_data)"
   ]
  },
  {
   "cell_type": "code",
   "execution_count": 12,
   "id": "91e05427",
   "metadata": {},
   "outputs": [
    {
     "ename": "NameError",
     "evalue": "name 'curr_emp_data' is not defined",
     "output_type": "error",
     "traceback": [
      "\u001b[0;31m---------------------------------------------------------------------------\u001b[0m",
      "\u001b[0;31mNameError\u001b[0m                                 Traceback (most recent call last)",
      "Input \u001b[0;32mIn [12]\u001b[0m, in \u001b[0;36m<cell line: 8>\u001b[0;34m()\u001b[0m\n\u001b[1;32m      1\u001b[0m curr_emp_data \u001b[38;5;241m=\u001b[39m {\u001b[38;5;124m'\u001b[39m\u001b[38;5;124memp_1\u001b[39m\u001b[38;5;124m'\u001b[39m: {\u001b[38;5;124m'\u001b[39m\u001b[38;5;124mAge\u001b[39m\u001b[38;5;124m'\u001b[39m: \u001b[38;5;241m26\u001b[39m, \u001b[38;5;124m'\u001b[39m\u001b[38;5;124mSalary\u001b[39m\u001b[38;5;124m'\u001b[39m: \u001b[38;5;241m901000\u001b[39m, \u001b[38;5;124m'\u001b[39m\u001b[38;5;124mName\u001b[39m\u001b[38;5;124m'\u001b[39m: \u001b[38;5;124m'\u001b[39m\u001b[38;5;124mSalahuddin\u001b[39m\u001b[38;5;124m'\u001b[39m},\n\u001b[1;32m      2\u001b[0m  \u001b[38;5;124m'\u001b[39m\u001b[38;5;124memp_2\u001b[39m\u001b[38;5;124m'\u001b[39m: {\u001b[38;5;124m'\u001b[39m\u001b[38;5;124mAge\u001b[39m\u001b[38;5;124m'\u001b[39m: \u001b[38;5;241m27\u001b[39m, \u001b[38;5;124m'\u001b[39m\u001b[38;5;124mSalary\u001b[39m\u001b[38;5;124m'\u001b[39m: \u001b[38;5;241m1000000\u001b[39m, \u001b[38;5;124m'\u001b[39m\u001b[38;5;124mName\u001b[39m\u001b[38;5;124m'\u001b[39m: \u001b[38;5;124m'\u001b[39m\u001b[38;5;124mAbhijeet\u001b[39m\u001b[38;5;124m'\u001b[39m},\n\u001b[1;32m      3\u001b[0m  \u001b[38;5;124m'\u001b[39m\u001b[38;5;124memp_3\u001b[39m\u001b[38;5;124m'\u001b[39m: {\u001b[38;5;124m'\u001b[39m\u001b[38;5;124mAge\u001b[39m\u001b[38;5;124m'\u001b[39m: \u001b[38;5;241m28\u001b[39m, \u001b[38;5;124m'\u001b[39m\u001b[38;5;124mSalary\u001b[39m\u001b[38;5;124m'\u001b[39m: \u001b[38;5;241m1000002\u001b[39m, \u001b[38;5;124m'\u001b[39m\u001b[38;5;124mName\u001b[39m\u001b[38;5;124m'\u001b[39m: \u001b[38;5;124m'\u001b[39m\u001b[38;5;124mAbhishail\u001b[39m\u001b[38;5;124m'\u001b[39m},\n\u001b[1;32m      4\u001b[0m  \u001b[38;5;124m'\u001b[39m\u001b[38;5;124memp_4\u001b[39m\u001b[38;5;124m'\u001b[39m: {\u001b[38;5;124m'\u001b[39m\u001b[38;5;124mAge\u001b[39m\u001b[38;5;124m'\u001b[39m: \u001b[38;5;241m29\u001b[39m, \u001b[38;5;124m'\u001b[39m\u001b[38;5;124mSalary\u001b[39m\u001b[38;5;124m'\u001b[39m: \u001b[38;5;241m1100000\u001b[39m, \u001b[38;5;124m'\u001b[39m\u001b[38;5;124mName\u001b[39m\u001b[38;5;124m'\u001b[39m: \u001b[38;5;124m'\u001b[39m\u001b[38;5;124mAbhishek\u001b[39m\u001b[38;5;124m'\u001b[39m},\n\u001b[1;32m      5\u001b[0m  \u001b[38;5;124m'\u001b[39m\u001b[38;5;124memp_5\u001b[39m\u001b[38;5;124m'\u001b[39m: {\u001b[38;5;124m'\u001b[39m\u001b[38;5;124mAge\u001b[39m\u001b[38;5;124m'\u001b[39m: \u001b[38;5;241m55\u001b[39m, \u001b[38;5;124m'\u001b[39m\u001b[38;5;124mSalary\u001b[39m\u001b[38;5;124m'\u001b[39m: \u001b[38;5;241m655656\u001b[39m, \u001b[38;5;124m'\u001b[39m\u001b[38;5;124mName\u001b[39m\u001b[38;5;124m'\u001b[39m: \u001b[38;5;124m'\u001b[39m\u001b[38;5;124mvgfgvg\u001b[39m\u001b[38;5;124m'\u001b[39m},\n\u001b[1;32m      6\u001b[0m  \u001b[38;5;124m'\u001b[39m\u001b[38;5;124memp_-98\u001b[39m\u001b[38;5;124m'\u001b[39m: {\u001b[38;5;124m'\u001b[39m\u001b[38;5;124mAge\u001b[39m\u001b[38;5;124m'\u001b[39m: \u001b[38;5;241m656\u001b[39m, \u001b[38;5;124m'\u001b[39m\u001b[38;5;124mSalary\u001b[39m\u001b[38;5;124m'\u001b[39m: \u001b[38;5;241m12312121\u001b[39m, \u001b[38;5;124m'\u001b[39m\u001b[38;5;124mName\u001b[39m\u001b[38;5;124m'\u001b[39m: \u001b[38;5;124m'\u001b[39m\u001b[38;5;124mgfd\u001b[39m\u001b[38;5;124m'\u001b[39m}}\n\u001b[1;32m      7\u001b[0m \u001b[38;5;28;01mdel\u001b[39;00m curr_emp_data\n\u001b[0;32m----> 8\u001b[0m \u001b[38;5;28mprint\u001b[39m(\u001b[43mcurr_emp_data\u001b[49m)\n",
      "\u001b[0;31mNameError\u001b[0m: name 'curr_emp_data' is not defined"
     ]
    }
   ],
   "source": [
    "curr_emp_data = {'emp_1': {'Age': 26, 'Salary': 901000, 'Name': 'Salahuddin'},\n",
    " 'emp_2': {'Age': 27, 'Salary': 1000000, 'Name': 'Abhijeet'},\n",
    " 'emp_3': {'Age': 28, 'Salary': 1000002, 'Name': 'Abhishail'},\n",
    " 'emp_4': {'Age': 29, 'Salary': 1100000, 'Name': 'Abhishek'},\n",
    " 'emp_5': {'Age': 55, 'Salary': 655656, 'Name': 'vgfgvg'},\n",
    " 'emp_-98': {'Age': 656, 'Salary': 12312121, 'Name': 'gfd'}}\n",
    "del curr_emp_data\n",
    "print(curr_emp_data) # deleted the variable as well"
   ]
  },
  {
   "cell_type": "code",
   "execution_count": 13,
   "id": "23b32f13",
   "metadata": {},
   "outputs": [
    {
     "name": "stdout",
     "output_type": "stream",
     "text": [
      "140243495859584\n",
      "140243495859584\n"
     ]
    }
   ],
   "source": [
    "#copy\n",
    "curr_emp_data = {'emp_1': {'Age': 26, 'Salary': 901000, 'Name': 'Salahuddin'},\n",
    " 'emp_2': {'Age': 27, 'Salary': 1000000, 'Name': 'Abhijeet'},\n",
    " 'emp_3': {'Age': 28, 'Salary': 1000002, 'Name': 'Abhishail'},\n",
    " 'emp_4': {'Age': 29, 'Salary': 1100000, 'Name': 'Abhishek'},\n",
    " 'emp_5': {'Age': 55, 'Salary': 655656, 'Name': 'vgfgvg'},\n",
    " 'emp_-98': {'Age': 656, 'Salary': 12312121, 'Name': 'gfd'}}\n",
    "\n",
    "b = curr_emp_data # Aliasing\n",
    "print(id(curr_emp_data))\n",
    "print(id(b))"
   ]
  },
  {
   "cell_type": "code",
   "execution_count": 14,
   "id": "f1bfde33",
   "metadata": {},
   "outputs": [
    {
     "name": "stdout",
     "output_type": "stream",
     "text": [
      "140243496293568\n",
      "140243496293696\n"
     ]
    }
   ],
   "source": [
    "#copy\n",
    "curr_emp_data = {'emp_1': {'Age': 26, 'Salary': 901000, 'Name': 'Salahuddin'},\n",
    " 'emp_2': {'Age': 27, 'Salary': 1000000, 'Name': 'Abhijeet'},\n",
    " 'emp_3': {'Age': 28, 'Salary': 1000002, 'Name': 'Abhishail'},\n",
    " 'emp_4': {'Age': 29, 'Salary': 1100000, 'Name': 'Abhishek'},\n",
    " 'emp_5': {'Age': 55, 'Salary': 655656, 'Name': 'vgfgvg'},\n",
    " 'emp_-98': {'Age': 656, 'Salary': 12312121, 'Name': 'gfd'}}\n",
    "\n",
    "b = curr_emp_data.copy() # Shallow copy\n",
    "print(id(curr_emp_data))\n",
    "print(id(b))"
   ]
  },
  {
   "cell_type": "code",
   "execution_count": 15,
   "id": "438b3e61",
   "metadata": {},
   "outputs": [],
   "source": [
    "# From Keys\n",
    "d1 = dict.fromkeys([1,2,3,4,5,6,7,8,9])"
   ]
  },
  {
   "cell_type": "code",
   "execution_count": 18,
   "id": "fa77a926",
   "metadata": {},
   "outputs": [
    {
     "name": "stdout",
     "output_type": "stream",
     "text": [
      "{1: 0, 2: 0, 3: 0, 4: 0, 5: 0, 6: 0, 7: 0, 8: 0, 9: 0}\n"
     ]
    }
   ],
   "source": [
    "print(d1)"
   ]
  },
  {
   "cell_type": "code",
   "execution_count": 17,
   "id": "aee5863d",
   "metadata": {},
   "outputs": [],
   "source": [
    "d1 = dict.fromkeys([1,2,3,4,5,6,7,8,9], 0)"
   ]
  },
  {
   "cell_type": "code",
   "execution_count": 19,
   "id": "48ae2d67",
   "metadata": {},
   "outputs": [
    {
     "name": "stdout",
     "output_type": "stream",
     "text": [
      "{1: 0, 2: 0, 3: 0, 4: 0, 5: 0, 6: 0, 7: 0, 8: 0, 9: 0}\n"
     ]
    }
   ],
   "source": [
    "print(d1)"
   ]
  },
  {
   "cell_type": "code",
   "execution_count": 20,
   "id": "110b29f7",
   "metadata": {},
   "outputs": [
    {
     "name": "stdout",
     "output_type": "stream",
     "text": [
      "{0: 0, 1: 0, 2: 0, 3: 0, 4: 0, 5: 0, 6: 0, 7: 0, 8: 0, 9: 0, 10: 0, 11: 0, 12: 0, 13: 0, 14: 0, 15: 0, 16: 0, 17: 0, 18: 0, 19: 0, 20: 0, 21: 0, 22: 0, 23: 0, 24: 0, 25: 0, 26: 0, 27: 0, 28: 0, 29: 0, 30: 0, 31: 0, 32: 0, 33: 0, 34: 0, 35: 0, 36: 0, 37: 0, 38: 0, 39: 0, 40: 0, 41: 0, 42: 0, 43: 0, 44: 0, 45: 0, 46: 0, 47: 0, 48: 0, 49: 0, 50: 0, 51: 0, 52: 0, 53: 0, 54: 0, 55: 0, 56: 0, 57: 0, 58: 0, 59: 0, 60: 0, 61: 0, 62: 0, 63: 0, 64: 0, 65: 0, 66: 0, 67: 0, 68: 0, 69: 0, 70: 0, 71: 0, 72: 0, 73: 0, 74: 0, 75: 0, 76: 0, 77: 0, 78: 0, 79: 0, 80: 0, 81: 0, 82: 0, 83: 0, 84: 0, 85: 0, 86: 0, 87: 0, 88: 0, 89: 0, 90: 0, 91: 0, 92: 0, 93: 0, 94: 0, 95: 0, 96: 0, 97: 0, 98: 0, 99: 0}\n"
     ]
    }
   ],
   "source": [
    "d1 = dict.fromkeys(range(100), 0)\n",
    "print(d1)"
   ]
  },
  {
   "cell_type": "code",
   "execution_count": 22,
   "id": "88a23887",
   "metadata": {},
   "outputs": [
    {
     "name": "stdout",
     "output_type": "stream",
     "text": [
      "{'a': 5, 'b': 5, 'c': 5, 'd': 5, 'e': 5, 'f': 5}\n"
     ]
    }
   ],
   "source": [
    "list_of_students = ['a', 'b', 'c', 'd', 'e', 'f']\n",
    "dict_students = dict.fromkeys(list_of_students, 5)\n",
    "print(dict_students)\n"
   ]
  },
  {
   "cell_type": "code",
   "execution_count": 23,
   "id": "618b56f8",
   "metadata": {},
   "outputs": [
    {
     "data": {
      "text/plain": [
       "[1, 2, 3, 4, 5, 6, 7, 8, 9]"
      ]
     },
     "execution_count": 23,
     "metadata": {},
     "output_type": "execute_result"
    }
   ],
   "source": [
    "# Range\n",
    "list(range(1,10))"
   ]
  },
  {
   "cell_type": "code",
   "execution_count": 24,
   "id": "d70552b7",
   "metadata": {},
   "outputs": [
    {
     "data": {
      "text/plain": [
       "[1, 3, 5, 7, 9]"
      ]
     },
     "execution_count": 24,
     "metadata": {},
     "output_type": "execute_result"
    }
   ],
   "source": [
    "list(range(1,10,2))"
   ]
  },
  {
   "cell_type": "code",
   "execution_count": 28,
   "id": "3b2c5856",
   "metadata": {},
   "outputs": [
    {
     "data": {
      "text/plain": [
       "[-1, -2, -3, -4, -5, -6, -7, -8, -9]"
      ]
     },
     "execution_count": 28,
     "metadata": {},
     "output_type": "execute_result"
    }
   ],
   "source": [
    "list(range(-1,-10,-1))"
   ]
  },
  {
   "cell_type": "code",
   "execution_count": 30,
   "id": "07650843",
   "metadata": {},
   "outputs": [
    {
     "name": "stdout",
     "output_type": "stream",
     "text": [
      "{1, 2, 3, 4, 5} <class 'set'>\n"
     ]
    }
   ],
   "source": [
    "#Set\n",
    "a = {1,2,3,4,5}\n",
    "print(a, type(a))"
   ]
  },
  {
   "cell_type": "code",
   "execution_count": 33,
   "id": "a0937393",
   "metadata": {},
   "outputs": [
    {
     "name": "stdout",
     "output_type": "stream",
     "text": [
      "{1, 2, 3, 4, 5, 6}\n"
     ]
    }
   ],
   "source": [
    "a.add(6)\n",
    "print(a)"
   ]
  },
  {
   "cell_type": "code",
   "execution_count": null,
   "id": "5dad0dec",
   "metadata": {},
   "outputs": [],
   "source": [
    "# deriveved \n",
    "int ->\n",
    "float - >\n",
    "complex\n",
    "bool\n",
    "\n",
    "\n",
    "# immutable \n",
    "- string\n",
    "- tuple\n",
    "\n",
    "\n",
    "# mutable\n",
    "- list\n",
    "- dict\n",
    "- set"
   ]
  },
  {
   "cell_type": "code",
   "execution_count": null,
   "id": "e4cf791f",
   "metadata": {},
   "outputs": [],
   "source": [
    "#Conditional Stetments\n"
   ]
  }
 ],
 "metadata": {
  "kernelspec": {
   "display_name": "Python 3 (ipykernel)",
   "language": "python",
   "name": "python3"
  },
  "language_info": {
   "codemirror_mode": {
    "name": "ipython",
    "version": 3
   },
   "file_extension": ".py",
   "mimetype": "text/x-python",
   "name": "python",
   "nbconvert_exporter": "python",
   "pygments_lexer": "ipython3",
   "version": "3.9.12"
  }
 },
 "nbformat": 4,
 "nbformat_minor": 5
}
