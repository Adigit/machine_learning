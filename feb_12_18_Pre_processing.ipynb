{
 "cells": [
  {
   "cell_type": "code",
   "execution_count": 1,
   "id": "16dbed15",
   "metadata": {},
   "outputs": [
    {
     "data": {
      "text/plain": [
       "'\\nYes, because many machine learning algorithm do not allow missing value.\\n'"
      ]
     },
     "execution_count": 1,
     "metadata": {},
     "output_type": "execute_result"
    }
   ],
   "source": [
    "# handling missing value in dataset is necessary?\n",
    "\"\"\"\n",
    "Yes, because many machine learning algorithm do not allow missing value.\n",
    "\"\"\""
   ]
  },
  {
   "cell_type": "code",
   "execution_count": 2,
   "id": "a0b6265b",
   "metadata": {},
   "outputs": [],
   "source": [
    "# pre_processing_2 excel file"
   ]
  },
  {
   "cell_type": "code",
   "execution_count": 3,
   "id": "57833455",
   "metadata": {},
   "outputs": [],
   "source": [
    "# import basic libraries\n",
    "import numpy as np\n",
    "import pandas as pd\n",
    "import warnings\n",
    "warnings.filterwarnings(\"ignore\")\n",
    "import matplotlib.pyplot as plt\n",
    "import seaborn as sns\n",
    "%matplotlib inline"
   ]
  },
  {
   "cell_type": "code",
   "execution_count": 8,
   "id": "0c299d14",
   "metadata": {},
   "outputs": [
    {
     "data": {
      "text/html": [
       "<div>\n",
       "<style scoped>\n",
       "    .dataframe tbody tr th:only-of-type {\n",
       "        vertical-align: middle;\n",
       "    }\n",
       "\n",
       "    .dataframe tbody tr th {\n",
       "        vertical-align: top;\n",
       "    }\n",
       "\n",
       "    .dataframe thead th {\n",
       "        text-align: right;\n",
       "    }\n",
       "</style>\n",
       "<table border=\"1\" class=\"dataframe\">\n",
       "  <thead>\n",
       "    <tr style=\"text-align: right;\">\n",
       "      <th></th>\n",
       "      <th>Dept</th>\n",
       "      <th>Age</th>\n",
       "      <th>Experience</th>\n",
       "      <th>Salary</th>\n",
       "      <th>Education</th>\n",
       "    </tr>\n",
       "  </thead>\n",
       "  <tbody>\n",
       "    <tr>\n",
       "      <th>0</th>\n",
       "      <td>HR</td>\n",
       "      <td>32.0</td>\n",
       "      <td>9</td>\n",
       "      <td>40000.0</td>\n",
       "      <td>Under_Graduate</td>\n",
       "    </tr>\n",
       "    <tr>\n",
       "      <th>1</th>\n",
       "      <td>HR</td>\n",
       "      <td>33.0</td>\n",
       "      <td>12</td>\n",
       "      <td>48000.0</td>\n",
       "      <td>Master</td>\n",
       "    </tr>\n",
       "    <tr>\n",
       "      <th>2</th>\n",
       "      <td>IT</td>\n",
       "      <td>35.0</td>\n",
       "      <td>12</td>\n",
       "      <td>45000.0</td>\n",
       "      <td>Master</td>\n",
       "    </tr>\n",
       "    <tr>\n",
       "      <th>3</th>\n",
       "      <td>IT</td>\n",
       "      <td>NaN</td>\n",
       "      <td>12</td>\n",
       "      <td>46000.0</td>\n",
       "      <td>Graduate</td>\n",
       "    </tr>\n",
       "    <tr>\n",
       "      <th>4</th>\n",
       "      <td>HR</td>\n",
       "      <td>34.0</td>\n",
       "      <td>11</td>\n",
       "      <td>NaN</td>\n",
       "      <td>Graduate</td>\n",
       "    </tr>\n",
       "  </tbody>\n",
       "</table>\n",
       "</div>"
      ],
      "text/plain": [
       "  Dept   Age Experience   Salary       Education\n",
       "0   HR  32.0          9  40000.0  Under_Graduate\n",
       "1   HR  33.0         12  48000.0          Master\n",
       "2   IT  35.0         12  45000.0          Master\n",
       "3   IT   NaN         12  46000.0        Graduate\n",
       "4   HR  34.0         11      NaN        Graduate"
      ]
     },
     "execution_count": 8,
     "metadata": {},
     "output_type": "execute_result"
    }
   ],
   "source": [
    "# reading the dataset\n",
    "df=pd.read_excel(\"datasets/preprocessing_2.xlsx\")\n",
    "df.head()"
   ]
  },
  {
   "cell_type": "code",
   "execution_count": 9,
   "id": "86e07c4c",
   "metadata": {},
   "outputs": [
    {
     "name": "stdout",
     "output_type": "stream",
     "text": [
      "<class 'pandas.core.frame.DataFrame'>\n",
      "RangeIndex: 28 entries, 0 to 27\n",
      "Data columns (total 5 columns):\n",
      " #   Column      Non-Null Count  Dtype  \n",
      "---  ------      --------------  -----  \n",
      " 0   Dept        26 non-null     object \n",
      " 1   Age         26 non-null     float64\n",
      " 2   Experience  24 non-null     object \n",
      " 3   Salary      26 non-null     float64\n",
      " 4   Education   26 non-null     object \n",
      "dtypes: float64(2), object(3)\n",
      "memory usage: 1.2+ KB\n"
     ]
    }
   ],
   "source": [
    "df.info()"
   ]
  },
  {
   "cell_type": "code",
   "execution_count": 10,
   "id": "50641cfc",
   "metadata": {},
   "outputs": [
    {
     "data": {
      "text/html": [
       "<div>\n",
       "<style scoped>\n",
       "    .dataframe tbody tr th:only-of-type {\n",
       "        vertical-align: middle;\n",
       "    }\n",
       "\n",
       "    .dataframe tbody tr th {\n",
       "        vertical-align: top;\n",
       "    }\n",
       "\n",
       "    .dataframe thead th {\n",
       "        text-align: right;\n",
       "    }\n",
       "</style>\n",
       "<table border=\"1\" class=\"dataframe\">\n",
       "  <thead>\n",
       "    <tr style=\"text-align: right;\">\n",
       "      <th></th>\n",
       "      <th>Age</th>\n",
       "      <th>Salary</th>\n",
       "    </tr>\n",
       "  </thead>\n",
       "  <tbody>\n",
       "    <tr>\n",
       "      <th>count</th>\n",
       "      <td>26.000000</td>\n",
       "      <td>26.000000</td>\n",
       "    </tr>\n",
       "    <tr>\n",
       "      <th>mean</th>\n",
       "      <td>35.538462</td>\n",
       "      <td>39326.923077</td>\n",
       "    </tr>\n",
       "    <tr>\n",
       "      <th>std</th>\n",
       "      <td>16.966392</td>\n",
       "      <td>10157.698861</td>\n",
       "    </tr>\n",
       "    <tr>\n",
       "      <th>min</th>\n",
       "      <td>0.000000</td>\n",
       "      <td>22000.000000</td>\n",
       "    </tr>\n",
       "    <tr>\n",
       "      <th>25%</th>\n",
       "      <td>29.500000</td>\n",
       "      <td>35250.000000</td>\n",
       "    </tr>\n",
       "    <tr>\n",
       "      <th>50%</th>\n",
       "      <td>34.500000</td>\n",
       "      <td>41000.000000</td>\n",
       "    </tr>\n",
       "    <tr>\n",
       "      <th>75%</th>\n",
       "      <td>44.250000</td>\n",
       "      <td>45000.000000</td>\n",
       "    </tr>\n",
       "    <tr>\n",
       "      <th>max</th>\n",
       "      <td>75.000000</td>\n",
       "      <td>60000.000000</td>\n",
       "    </tr>\n",
       "  </tbody>\n",
       "</table>\n",
       "</div>"
      ],
      "text/plain": [
       "             Age        Salary\n",
       "count  26.000000     26.000000\n",
       "mean   35.538462  39326.923077\n",
       "std    16.966392  10157.698861\n",
       "min     0.000000  22000.000000\n",
       "25%    29.500000  35250.000000\n",
       "50%    34.500000  41000.000000\n",
       "75%    44.250000  45000.000000\n",
       "max    75.000000  60000.000000"
      ]
     },
     "execution_count": 10,
     "metadata": {},
     "output_type": "execute_result"
    }
   ],
   "source": [
    "df.describe()"
   ]
  },
  {
   "cell_type": "code",
   "execution_count": 11,
   "id": "27508d7a",
   "metadata": {},
   "outputs": [
    {
     "data": {
      "text/html": [
       "<div>\n",
       "<style scoped>\n",
       "    .dataframe tbody tr th:only-of-type {\n",
       "        vertical-align: middle;\n",
       "    }\n",
       "\n",
       "    .dataframe tbody tr th {\n",
       "        vertical-align: top;\n",
       "    }\n",
       "\n",
       "    .dataframe thead th {\n",
       "        text-align: right;\n",
       "    }\n",
       "</style>\n",
       "<table border=\"1\" class=\"dataframe\">\n",
       "  <thead>\n",
       "    <tr style=\"text-align: right;\">\n",
       "      <th></th>\n",
       "      <th>Dept</th>\n",
       "      <th>Experience</th>\n",
       "      <th>Education</th>\n",
       "    </tr>\n",
       "  </thead>\n",
       "  <tbody>\n",
       "    <tr>\n",
       "      <th>count</th>\n",
       "      <td>26</td>\n",
       "      <td>24</td>\n",
       "      <td>26</td>\n",
       "    </tr>\n",
       "    <tr>\n",
       "      <th>unique</th>\n",
       "      <td>4</td>\n",
       "      <td>12</td>\n",
       "      <td>4</td>\n",
       "    </tr>\n",
       "    <tr>\n",
       "      <th>top</th>\n",
       "      <td>HR</td>\n",
       "      <td>12</td>\n",
       "      <td>Master</td>\n",
       "    </tr>\n",
       "    <tr>\n",
       "      <th>freq</th>\n",
       "      <td>11</td>\n",
       "      <td>5</td>\n",
       "      <td>10</td>\n",
       "    </tr>\n",
       "  </tbody>\n",
       "</table>\n",
       "</div>"
      ],
      "text/plain": [
       "       Dept  Experience Education\n",
       "count    26          24        26\n",
       "unique    4          12         4\n",
       "top      HR          12    Master\n",
       "freq     11           5        10"
      ]
     },
     "execution_count": 11,
     "metadata": {},
     "output_type": "execute_result"
    }
   ],
   "source": [
    "df.describe(include=\"O\")#view the categorical info also"
   ]
  },
  {
   "cell_type": "code",
   "execution_count": 12,
   "id": "f675a6aa",
   "metadata": {},
   "outputs": [
    {
     "data": {
      "text/plain": [
       "<AxesSubplot:xlabel='Salary'>"
      ]
     },
     "execution_count": 12,
     "metadata": {},
     "output_type": "execute_result"
    },
    {
     "data": {
      "image/png": "[encoded data removed]",
      "text/plain": [
       "<Figure size 640x480 with 1 Axes>"
      ]
     },
     "metadata": {},
     "output_type": "display_data"
    }
   ],
   "source": [
    "# finding the outlier visualization\n",
    "sns.boxplot(df[\"Salary\"])"
   ]
  },
  {
   "cell_type": "code",
   "execution_count": 13,
   "id": "152bbc16",
   "metadata": {},
   "outputs": [
    {
     "data": {
      "text/plain": [
       "<AxesSubplot:xlabel='Age'>"
      ]
     },
     "execution_count": 13,
     "metadata": {},
     "output_type": "execute_result"
    },
    {
     "data": {
      "image/png": "[encoded data removed]",
      "text/plain": [
       "<Figure size 640x480 with 1 Axes>"
      ]
     },
     "metadata": {},
     "output_type": "display_data"
    }
   ],
   "source": [
    "sns.boxplot(df[\"Age\"])"
   ]
  },
  {
   "cell_type": "code",
   "execution_count": 14,
   "id": "a7fec5c0",
   "metadata": {},
   "outputs": [
    {
     "data": {
      "text/plain": [
       "<bound method NDFrame._add_numeric_operations.<locals>.any of      Dept    Age  Experience  Salary  Education\n",
       "0   False  False       False   False      False\n",
       "1   False  False       False   False      False\n",
       "2   False  False       False   False      False\n",
       "3   False   True       False   False      False\n",
       "4   False  False       False    True      False\n",
       "5   False  False       False   False       True\n",
       "6   False  False       False   False      False\n",
       "7   False   True       False   False      False\n",
       "8   False  False        True   False      False\n",
       "9   False  False       False    True      False\n",
       "10  False  False        True   False      False\n",
       "11   True  False       False   False      False\n",
       "12   True  False       False   False       True\n",
       "13  False  False       False   False      False\n",
       "14  False  False        True   False      False\n",
       "15  False  False        True   False      False\n",
       "16  False  False       False   False      False\n",
       "17  False  False       False   False      False\n",
       "18  False  False       False   False      False\n",
       "19  False  False       False   False      False\n",
       "20  False  False       False   False      False\n",
       "21  False  False       False   False      False\n",
       "22  False  False       False   False      False\n",
       "23  False  False       False   False      False\n",
       "24  False  False       False   False      False\n",
       "25  False  False       False   False      False\n",
       "26  False  False       False   False      False\n",
       "27  False  False       False   False      False>"
      ]
     },
     "execution_count": 14,
     "metadata": {},
     "output_type": "execute_result"
    }
   ],
   "source": [
    "df.isnull().any"
   ]
  },
  {
   "cell_type": "code",
   "execution_count": 15,
   "id": "d3c15c14",
   "metadata": {},
   "outputs": [
    {
     "data": {
      "text/plain": [
       "Dept          True\n",
       "Age           True\n",
       "Experience    True\n",
       "Salary        True\n",
       "Education     True\n",
       "dtype: bool"
      ]
     },
     "execution_count": 15,
     "metadata": {},
     "output_type": "execute_result"
    }
   ],
   "source": [
    "df.isnull().any()"
   ]
  },
  {
   "cell_type": "code",
   "execution_count": 16,
   "id": "faa3aa0b",
   "metadata": {},
   "outputs": [
    {
     "data": {
      "text/plain": [
       "Dept          2\n",
       "Age           2\n",
       "Experience    4\n",
       "Salary        2\n",
       "Education     2\n",
       "dtype: int64"
      ]
     },
     "execution_count": 16,
     "metadata": {},
     "output_type": "execute_result"
    }
   ],
   "source": [
    "df.isnull().sum()"
   ]
  },
  {
   "cell_type": "code",
   "execution_count": 17,
   "id": "ee8bd2ea",
   "metadata": {},
   "outputs": [
    {
     "data": {
      "text/plain": [
       "12"
      ]
     },
     "execution_count": 17,
     "metadata": {},
     "output_type": "execute_result"
    }
   ],
   "source": [
    "df.isnull().sum().sum()"
   ]
  },
  {
   "cell_type": "code",
   "execution_count": 18,
   "id": "cddcb311",
   "metadata": {},
   "outputs": [
    {
     "data": {
      "text/plain": [
       "Dept           7.142857\n",
       "Age            7.142857\n",
       "Experience    14.285714\n",
       "Salary         7.142857\n",
       "Education      7.142857\n",
       "dtype: float64"
      ]
     },
     "execution_count": 18,
     "metadata": {},
     "output_type": "execute_result"
    }
   ],
   "source": [
    "# calculate the percentage of missing value\n",
    "df.isnull().sum()/len(df)*100"
   ]
  },
  {
   "cell_type": "code",
   "execution_count": 19,
   "id": "019119df",
   "metadata": {},
   "outputs": [],
   "source": [
    "# isna() and isnull() functions are used for finding missing value"
   ]
  },
  {
   "cell_type": "code",
   "execution_count": 20,
   "id": "d9d53dd7",
   "metadata": {},
   "outputs": [
    {
     "data": {
      "text/plain": [
       "12"
      ]
     },
     "execution_count": 20,
     "metadata": {},
     "output_type": "execute_result"
    }
   ],
   "source": [
    "df.isna().sum().sum()"
   ]
  },
  {
   "cell_type": "code",
   "execution_count": 21,
   "id": "fca87ed5",
   "metadata": {},
   "outputs": [
    {
     "data": {
      "text/plain": [
       "'\\ndf[\"Experience\"]=df[\"Experience\"].fillna(df[\"Experience\"].mean())\\ndf[\"Experience\"]=df[\"Experience\"].fillna(df[\"Experience\"].median())\\ndf[\"Dept\"]=df[\"Dept\"].fillna(df[\"Dept\"].mode()[0])\\n# important:- There can be multiple modes , it will take the first one by default.\\n\\n'"
      ]
     },
     "execution_count": 21,
     "metadata": {},
     "output_type": "execute_result"
    }
   ],
   "source": [
    "# imputation approach :- MEAN , MEDIAN ,MODE.\n",
    "\"\"\"\n",
    "df[\"Experience\"]=df[\"Experience\"].fillna(df[\"Experience\"].mean())\n",
    "df[\"Experience\"]=df[\"Experience\"].fillna(df[\"Experience\"].median())\n",
    "df[\"Dept\"]=df[\"Dept\"].fillna(df[\"Dept\"].mode()[0])\n",
    "# important:- There can be multiple modes , it will take the first one by default.\n",
    "\n",
    "\"\"\""
   ]
  },
  {
   "cell_type": "code",
   "execution_count": 22,
   "id": "d7f13ccb",
   "metadata": {},
   "outputs": [],
   "source": [
    "df1=df.copy()"
   ]
  },
  {
   "cell_type": "code",
   "execution_count": 23,
   "id": "65cbe05c",
   "metadata": {},
   "outputs": [
    {
     "name": "stdout",
     "output_type": "stream",
     "text": [
      "<class 'pandas.core.frame.DataFrame'>\n",
      "RangeIndex: 28 entries, 0 to 27\n",
      "Data columns (total 5 columns):\n",
      " #   Column      Non-Null Count  Dtype  \n",
      "---  ------      --------------  -----  \n",
      " 0   Dept        26 non-null     object \n",
      " 1   Age         26 non-null     float64\n",
      " 2   Experience  24 non-null     object \n",
      " 3   Salary      26 non-null     float64\n",
      " 4   Education   26 non-null     object \n",
      "dtypes: float64(2), object(3)\n",
      "memory usage: 1.2+ KB\n"
     ]
    }
   ],
   "source": [
    "df1.info()"
   ]
  },
  {
   "cell_type": "code",
   "execution_count": 24,
   "id": "2879c8d6",
   "metadata": {},
   "outputs": [],
   "source": [
    "df1[\"Age\"]=df1[\"Age\"].fillna(df1[\"Age\"].mean())"
   ]
  },
  {
   "cell_type": "code",
   "execution_count": 25,
   "id": "f417d30b",
   "metadata": {},
   "outputs": [
    {
     "name": "stdout",
     "output_type": "stream",
     "text": [
      "<class 'pandas.core.frame.DataFrame'>\n",
      "RangeIndex: 28 entries, 0 to 27\n",
      "Data columns (total 5 columns):\n",
      " #   Column      Non-Null Count  Dtype  \n",
      "---  ------      --------------  -----  \n",
      " 0   Dept        26 non-null     object \n",
      " 1   Age         28 non-null     float64\n",
      " 2   Experience  24 non-null     object \n",
      " 3   Salary      26 non-null     float64\n",
      " 4   Education   26 non-null     object \n",
      "dtypes: float64(2), object(3)\n",
      "memory usage: 1.2+ KB\n"
     ]
    }
   ],
   "source": [
    "df1.info()"
   ]
  },
  {
   "cell_type": "code",
   "execution_count": 26,
   "id": "83687d4c",
   "metadata": {},
   "outputs": [],
   "source": [
    "#df1[\"Experience\"]=df1[\"Experience\"].fillna(df1[\"Experience\"].mean())"
   ]
  },
  {
   "cell_type": "code",
   "execution_count": 27,
   "id": "8d3b51cb",
   "metadata": {},
   "outputs": [],
   "source": [
    "# recheck the data type of experience , we find it is not numeric\n",
    "# convert it into numeric\n",
    "#df1[\"Experience\"]=pd.to_numeric(df1[\"Experience\"])"
   ]
  },
  {
   "cell_type": "code",
   "execution_count": 28,
   "id": "a5d15c5c",
   "metadata": {},
   "outputs": [],
   "source": [
    "# first convert the non numeric  or symbols as Null value\n",
    "df1[\"Experience\"].mask((df1[\"Experience\"].eq(\".\")),inplace=True)"
   ]
  },
  {
   "cell_type": "code",
   "execution_count": 29,
   "id": "5051ae9f",
   "metadata": {},
   "outputs": [
    {
     "name": "stdout",
     "output_type": "stream",
     "text": [
      "<class 'pandas.core.frame.DataFrame'>\n",
      "RangeIndex: 28 entries, 0 to 27\n",
      "Data columns (total 5 columns):\n",
      " #   Column      Non-Null Count  Dtype  \n",
      "---  ------      --------------  -----  \n",
      " 0   Dept        26 non-null     object \n",
      " 1   Age         28 non-null     float64\n",
      " 2   Experience  23 non-null     object \n",
      " 3   Salary      26 non-null     float64\n",
      " 4   Education   26 non-null     object \n",
      "dtypes: float64(2), object(3)\n",
      "memory usage: 1.2+ KB\n"
     ]
    }
   ],
   "source": [
    "df1.info()"
   ]
  },
  {
   "cell_type": "code",
   "execution_count": 26,
   "id": "1a68dcfd",
   "metadata": {},
   "outputs": [],
   "source": [
    "# now in the experience column we have 5 missing value becuase we converted \".\" as null"
   ]
  },
  {
   "cell_type": "code",
   "execution_count": 27,
   "id": "572fa343",
   "metadata": {},
   "outputs": [],
   "source": [
    "# try again to convert it into numeric\n",
    "#df1[\"Experience\"]=pd.to_numeric(df1[\"Experience\"])"
   ]
  },
  {
   "cell_type": "code",
   "execution_count": 30,
   "id": "05f7a12a",
   "metadata": {},
   "outputs": [],
   "source": [
    "# first convert the non numeric  or symbols as Null value\n",
    "df1[\"Experience\"].mask((df1[\"Experience\"].eq(\"%\")),inplace=True)"
   ]
  },
  {
   "cell_type": "code",
   "execution_count": 31,
   "id": "8b4c74ec",
   "metadata": {},
   "outputs": [
    {
     "name": "stdout",
     "output_type": "stream",
     "text": [
      "<class 'pandas.core.frame.DataFrame'>\n",
      "RangeIndex: 28 entries, 0 to 27\n",
      "Data columns (total 5 columns):\n",
      " #   Column      Non-Null Count  Dtype  \n",
      "---  ------      --------------  -----  \n",
      " 0   Dept        26 non-null     object \n",
      " 1   Age         28 non-null     float64\n",
      " 2   Experience  22 non-null     object \n",
      " 3   Salary      26 non-null     float64\n",
      " 4   Education   26 non-null     object \n",
      "dtypes: float64(2), object(3)\n",
      "memory usage: 1.2+ KB\n"
     ]
    }
   ],
   "source": [
    "df1.info()"
   ]
  },
  {
   "cell_type": "code",
   "execution_count": 32,
   "id": "a7b558a4",
   "metadata": {},
   "outputs": [],
   "source": [
    "# now in the experience column we have 6 missing value becuase we converted \"%\" as null"
   ]
  },
  {
   "cell_type": "code",
   "execution_count": 33,
   "id": "9c9e52a7",
   "metadata": {},
   "outputs": [],
   "source": [
    "# try again to convert it into numeric\n",
    "#df1[\"Experience\"]=pd.to_numeric(df1[\"Experience\"])"
   ]
  },
  {
   "cell_type": "code",
   "execution_count": 34,
   "id": "d7197d5d",
   "metadata": {},
   "outputs": [],
   "source": [
    "# first convert the non numeric  or symbols as Null value\n",
    "df1[\"Experience\"].mask((df1[\"Experience\"].eq(\"a\")),inplace=True)"
   ]
  },
  {
   "cell_type": "code",
   "execution_count": 35,
   "id": "ad512d37",
   "metadata": {},
   "outputs": [
    {
     "name": "stdout",
     "output_type": "stream",
     "text": [
      "<class 'pandas.core.frame.DataFrame'>\n",
      "RangeIndex: 28 entries, 0 to 27\n",
      "Data columns (total 5 columns):\n",
      " #   Column      Non-Null Count  Dtype  \n",
      "---  ------      --------------  -----  \n",
      " 0   Dept        26 non-null     object \n",
      " 1   Age         28 non-null     float64\n",
      " 2   Experience  21 non-null     object \n",
      " 3   Salary      26 non-null     float64\n",
      " 4   Education   26 non-null     object \n",
      "dtypes: float64(2), object(3)\n",
      "memory usage: 1.2+ KB\n"
     ]
    }
   ],
   "source": [
    "df1.info()"
   ]
  },
  {
   "cell_type": "code",
   "execution_count": 36,
   "id": "85c14c4c",
   "metadata": {},
   "outputs": [],
   "source": [
    "df1[\"Experience\"]=pd.to_numeric(df1[\"Experience\"])"
   ]
  },
  {
   "cell_type": "code",
   "execution_count": 37,
   "id": "9ea293ea",
   "metadata": {},
   "outputs": [
    {
     "name": "stdout",
     "output_type": "stream",
     "text": [
      "<class 'pandas.core.frame.DataFrame'>\n",
      "RangeIndex: 28 entries, 0 to 27\n",
      "Data columns (total 5 columns):\n",
      " #   Column      Non-Null Count  Dtype  \n",
      "---  ------      --------------  -----  \n",
      " 0   Dept        26 non-null     object \n",
      " 1   Age         28 non-null     float64\n",
      " 2   Experience  21 non-null     float64\n",
      " 3   Salary      26 non-null     float64\n",
      " 4   Education   26 non-null     object \n",
      "dtypes: float64(3), object(2)\n",
      "memory usage: 1.2+ KB\n"
     ]
    }
   ],
   "source": [
    "df1.info()"
   ]
  },
  {
   "cell_type": "code",
   "execution_count": 38,
   "id": "23f7bf5d",
   "metadata": {},
   "outputs": [],
   "source": [
    "df1[\"Experience\"]=df1[\"Experience\"].fillna(df1[\"Experience\"].mean())"
   ]
  },
  {
   "cell_type": "code",
   "execution_count": 37,
   "id": "99143e3d",
   "metadata": {},
   "outputs": [
    {
     "name": "stdout",
     "output_type": "stream",
     "text": [
      "<class 'pandas.core.frame.DataFrame'>\n",
      "RangeIndex: 28 entries, 0 to 27\n",
      "Data columns (total 5 columns):\n",
      " #   Column      Non-Null Count  Dtype  \n",
      "---  ------      --------------  -----  \n",
      " 0   Dept        26 non-null     object \n",
      " 1   Age         28 non-null     float64\n",
      " 2   Experience  28 non-null     float64\n",
      " 3   Salary      26 non-null     float64\n",
      " 4   Education   26 non-null     object \n",
      "dtypes: float64(3), object(2)\n",
      "memory usage: 1.2+ KB\n"
     ]
    }
   ],
   "source": [
    "df1.info()"
   ]
  },
  {
   "cell_type": "code",
   "execution_count": 40,
   "id": "d38d7cd0",
   "metadata": {},
   "outputs": [],
   "source": [
    "df1[\"Salary\"]=df1[\"Salary\"].fillna(df1[\"Salary\"].mean())"
   ]
  },
  {
   "cell_type": "code",
   "execution_count": 42,
   "id": "6ffa0a4a",
   "metadata": {},
   "outputs": [
    {
     "name": "stdout",
     "output_type": "stream",
     "text": [
      "<class 'pandas.core.frame.DataFrame'>\n",
      "RangeIndex: 28 entries, 0 to 27\n",
      "Data columns (total 5 columns):\n",
      " #   Column      Non-Null Count  Dtype  \n",
      "---  ------      --------------  -----  \n",
      " 0   Dept        26 non-null     object \n",
      " 1   Age         28 non-null     float64\n",
      " 2   Experience  28 non-null     float64\n",
      " 3   Salary      28 non-null     float64\n",
      " 4   Education   26 non-null     object \n",
      "dtypes: float64(3), object(2)\n",
      "memory usage: 1.2+ KB\n"
     ]
    }
   ],
   "source": [
    "df1.info()"
   ]
  },
  {
   "cell_type": "code",
   "execution_count": 43,
   "id": "370a1d83",
   "metadata": {},
   "outputs": [
    {
     "data": {
      "text/plain": [
       "HR           11\n",
       "IT            7\n",
       "Sales         5\n",
       "Marketing     3\n",
       "Name: Dept, dtype: int64"
      ]
     },
     "execution_count": 43,
     "metadata": {},
     "output_type": "execute_result"
    }
   ],
   "source": [
    "df1[\"Dept\"].value_counts()"
   ]
  },
  {
   "cell_type": "code",
   "execution_count": 44,
   "id": "071dc134",
   "metadata": {},
   "outputs": [
    {
     "data": {
      "text/plain": [
       "Master            10\n",
       "Under_Graduate     8\n",
       "Graduate           7\n",
       "a                  1\n",
       "Name: Education, dtype: int64"
      ]
     },
     "execution_count": 44,
     "metadata": {},
     "output_type": "execute_result"
    }
   ],
   "source": [
    "df1[\"Education\"].value_counts()"
   ]
  },
  {
   "cell_type": "code",
   "execution_count": 45,
   "id": "9922c35a",
   "metadata": {},
   "outputs": [],
   "source": [
    "df1[\"Education\"].mask((df1[\"Education\"].eq(\"a\")),inplace=True)"
   ]
  },
  {
   "cell_type": "code",
   "execution_count": 46,
   "id": "e99eff3f",
   "metadata": {},
   "outputs": [
    {
     "data": {
      "text/plain": [
       "3"
      ]
     },
     "execution_count": 46,
     "metadata": {},
     "output_type": "execute_result"
    }
   ],
   "source": [
    "df1[\"Education\"].isnull().sum()"
   ]
  },
  {
   "cell_type": "code",
   "execution_count": 48,
   "id": "ada6e55b",
   "metadata": {},
   "outputs": [],
   "source": [
    "df1[\"Education\"]=df1[\"Education\"].fillna(df1[\"Education\"].mode())"
   ]
  },
  {
   "cell_type": "code",
   "execution_count": 49,
   "id": "74fa5715",
   "metadata": {},
   "outputs": [
    {
     "data": {
      "text/plain": [
       "3"
      ]
     },
     "execution_count": 49,
     "metadata": {},
     "output_type": "execute_result"
    }
   ],
   "source": [
    "df1[\"Education\"].isnull().sum()"
   ]
  },
  {
   "cell_type": "code",
   "execution_count": 50,
   "id": "562931bd",
   "metadata": {},
   "outputs": [
    {
     "data": {
      "text/plain": [
       "0"
      ]
     },
     "execution_count": 50,
     "metadata": {},
     "output_type": "execute_result"
    }
   ],
   "source": [
    "df1[\"Education\"]=df1[\"Education\"].fillna(df1[\"Education\"].mode()[0])\n",
    "df1[\"Education\"].isnull().sum()"
   ]
  },
  {
   "cell_type": "code",
   "execution_count": 51,
   "id": "8951a4f8",
   "metadata": {},
   "outputs": [
    {
     "name": "stdout",
     "output_type": "stream",
     "text": [
      "<class 'pandas.core.frame.DataFrame'>\n",
      "RangeIndex: 28 entries, 0 to 27\n",
      "Data columns (total 5 columns):\n",
      " #   Column      Non-Null Count  Dtype  \n",
      "---  ------      --------------  -----  \n",
      " 0   Dept        26 non-null     object \n",
      " 1   Age         28 non-null     float64\n",
      " 2   Experience  28 non-null     float64\n",
      " 3   Salary      28 non-null     float64\n",
      " 4   Education   28 non-null     object \n",
      "dtypes: float64(3), object(2)\n",
      "memory usage: 1.2+ KB\n"
     ]
    }
   ],
   "source": [
    "df1.info()"
   ]
  },
  {
   "cell_type": "code",
   "execution_count": 52,
   "id": "31a5582f",
   "metadata": {},
   "outputs": [
    {
     "data": {
      "text/plain": [
       "0"
      ]
     },
     "execution_count": 52,
     "metadata": {},
     "output_type": "execute_result"
    }
   ],
   "source": [
    "df1[\"Dept\"]=df1[\"Dept\"].fillna(df1[\"Dept\"].mode()[0])\n",
    "df1[\"Dept\"].isnull().sum()"
   ]
  },
  {
   "cell_type": "code",
   "execution_count": 53,
   "id": "39236e35",
   "metadata": {},
   "outputs": [
    {
     "name": "stdout",
     "output_type": "stream",
     "text": [
      "<class 'pandas.core.frame.DataFrame'>\n",
      "RangeIndex: 28 entries, 0 to 27\n",
      "Data columns (total 5 columns):\n",
      " #   Column      Non-Null Count  Dtype  \n",
      "---  ------      --------------  -----  \n",
      " 0   Dept        28 non-null     object \n",
      " 1   Age         28 non-null     float64\n",
      " 2   Experience  28 non-null     float64\n",
      " 3   Salary      28 non-null     float64\n",
      " 4   Education   28 non-null     object \n",
      "dtypes: float64(3), object(2)\n",
      "memory usage: 1.2+ KB\n"
     ]
    }
   ],
   "source": [
    "df1.info()"
   ]
  },
  {
   "cell_type": "code",
   "execution_count": 54,
   "id": "24a51a18",
   "metadata": {},
   "outputs": [],
   "source": [
    "# in the age column there is one observation with 0 year\n",
    "df1[\"Age\"]=np.where(df1[\"Age\"]==0,(df1[\"Age\"].mean()),df1[\"Age\"])"
   ]
  },
  {
   "cell_type": "code",
   "execution_count": 55,
   "id": "d0bb03c5",
   "metadata": {},
   "outputs": [
    {
     "data": {
      "text/html": [
       "<div>\n",
       "<style scoped>\n",
       "    .dataframe tbody tr th:only-of-type {\n",
       "        vertical-align: middle;\n",
       "    }\n",
       "\n",
       "    .dataframe tbody tr th {\n",
       "        vertical-align: top;\n",
       "    }\n",
       "\n",
       "    .dataframe thead th {\n",
       "        text-align: right;\n",
       "    }\n",
       "</style>\n",
       "<table border=\"1\" class=\"dataframe\">\n",
       "  <thead>\n",
       "    <tr style=\"text-align: right;\">\n",
       "      <th></th>\n",
       "      <th>Age</th>\n",
       "      <th>Experience</th>\n",
       "      <th>Salary</th>\n",
       "    </tr>\n",
       "  </thead>\n",
       "  <tbody>\n",
       "    <tr>\n",
       "      <th>count</th>\n",
       "      <td>28.000000</td>\n",
       "      <td>28.000000</td>\n",
       "      <td>28.000000</td>\n",
       "    </tr>\n",
       "    <tr>\n",
       "      <th>mean</th>\n",
       "      <td>39.346154</td>\n",
       "      <td>11.023810</td>\n",
       "      <td>39326.923077</td>\n",
       "    </tr>\n",
       "    <tr>\n",
       "      <th>std</th>\n",
       "      <td>10.543659</td>\n",
       "      <td>5.935574</td>\n",
       "      <td>9774.250286</td>\n",
       "    </tr>\n",
       "    <tr>\n",
       "      <th>min</th>\n",
       "      <td>27.000000</td>\n",
       "      <td>2.000000</td>\n",
       "      <td>22000.000000</td>\n",
       "    </tr>\n",
       "    <tr>\n",
       "      <th>25%</th>\n",
       "      <td>32.750000</td>\n",
       "      <td>10.750000</td>\n",
       "      <td>35750.000000</td>\n",
       "    </tr>\n",
       "    <tr>\n",
       "      <th>50%</th>\n",
       "      <td>35.538462</td>\n",
       "      <td>11.023810</td>\n",
       "      <td>39663.461538</td>\n",
       "    </tr>\n",
       "    <tr>\n",
       "      <th>75%</th>\n",
       "      <td>42.750000</td>\n",
       "      <td>12.000000</td>\n",
       "      <td>45000.000000</td>\n",
       "    </tr>\n",
       "    <tr>\n",
       "      <th>max</th>\n",
       "      <td>75.000000</td>\n",
       "      <td>35.000000</td>\n",
       "      <td>60000.000000</td>\n",
       "    </tr>\n",
       "  </tbody>\n",
       "</table>\n",
       "</div>"
      ],
      "text/plain": [
       "             Age  Experience        Salary\n",
       "count  28.000000   28.000000     28.000000\n",
       "mean   39.346154   11.023810  39326.923077\n",
       "std    10.543659    5.935574   9774.250286\n",
       "min    27.000000    2.000000  22000.000000\n",
       "25%    32.750000   10.750000  35750.000000\n",
       "50%    35.538462   11.023810  39663.461538\n",
       "75%    42.750000   12.000000  45000.000000\n",
       "max    75.000000   35.000000  60000.000000"
      ]
     },
     "execution_count": 55,
     "metadata": {},
     "output_type": "execute_result"
    }
   ],
   "source": [
    "df1.describe()"
   ]
  },
  {
   "cell_type": "code",
   "execution_count": 56,
   "id": "58fca8a8",
   "metadata": {},
   "outputs": [],
   "source": [
    "# one line of code to apply in many columns\n",
    "col1=[\"Age\",\"Experience\",\"Salary\"]\n",
    "df1[col1]=df1[col1].fillna(df1[col1].median())"
   ]
  },
  {
   "cell_type": "code",
   "execution_count": 57,
   "id": "fd2662b8",
   "metadata": {},
   "outputs": [],
   "source": [
    "# we can drop all missing value by using this code"
   ]
  },
  {
   "cell_type": "code",
   "execution_count": 58,
   "id": "a555fefd",
   "metadata": {},
   "outputs": [
    {
     "name": "stdout",
     "output_type": "stream",
     "text": [
      "<class 'pandas.core.frame.DataFrame'>\n",
      "RangeIndex: 28 entries, 0 to 27\n",
      "Data columns (total 5 columns):\n",
      " #   Column      Non-Null Count  Dtype  \n",
      "---  ------      --------------  -----  \n",
      " 0   Dept        26 non-null     object \n",
      " 1   Age         26 non-null     float64\n",
      " 2   Experience  24 non-null     object \n",
      " 3   Salary      26 non-null     float64\n",
      " 4   Education   26 non-null     object \n",
      "dtypes: float64(2), object(3)\n",
      "memory usage: 1.2+ KB\n"
     ]
    }
   ],
   "source": [
    "df3=df.copy()\n",
    "df3.info()"
   ]
  },
  {
   "cell_type": "code",
   "execution_count": 59,
   "id": "a3b5bb1d",
   "metadata": {},
   "outputs": [],
   "source": [
    "df3.dropna(inplace=True)"
   ]
  },
  {
   "cell_type": "code",
   "execution_count": 60,
   "id": "a404021e",
   "metadata": {},
   "outputs": [
    {
     "name": "stdout",
     "output_type": "stream",
     "text": [
      "<class 'pandas.core.frame.DataFrame'>\n",
      "Int64Index: 17 entries, 0 to 27\n",
      "Data columns (total 5 columns):\n",
      " #   Column      Non-Null Count  Dtype  \n",
      "---  ------      --------------  -----  \n",
      " 0   Dept        17 non-null     object \n",
      " 1   Age         17 non-null     float64\n",
      " 2   Experience  17 non-null     object \n",
      " 3   Salary      17 non-null     float64\n",
      " 4   Education   17 non-null     object \n",
      "dtypes: float64(2), object(3)\n",
      "memory usage: 816.0+ bytes\n"
     ]
    }
   ],
   "source": [
    "df3.info()"
   ]
  },
  {
   "cell_type": "code",
   "execution_count": 61,
   "id": "9ab8b7e7",
   "metadata": {},
   "outputs": [
    {
     "data": {
      "text/html": [
       "<div>\n",
       "<style scoped>\n",
       "    .dataframe tbody tr th:only-of-type {\n",
       "        vertical-align: middle;\n",
       "    }\n",
       "\n",
       "    .dataframe tbody tr th {\n",
       "        vertical-align: top;\n",
       "    }\n",
       "\n",
       "    .dataframe thead th {\n",
       "        text-align: right;\n",
       "    }\n",
       "</style>\n",
       "<table border=\"1\" class=\"dataframe\">\n",
       "  <thead>\n",
       "    <tr style=\"text-align: right;\">\n",
       "      <th></th>\n",
       "      <th>Age</th>\n",
       "      <th>Salary</th>\n",
       "    </tr>\n",
       "  </thead>\n",
       "  <tbody>\n",
       "    <tr>\n",
       "      <th>count</th>\n",
       "      <td>17.000000</td>\n",
       "      <td>17.000000</td>\n",
       "    </tr>\n",
       "    <tr>\n",
       "      <th>mean</th>\n",
       "      <td>34.647059</td>\n",
       "      <td>38823.529412</td>\n",
       "    </tr>\n",
       "    <tr>\n",
       "      <th>std</th>\n",
       "      <td>15.783461</td>\n",
       "      <td>12115.255332</td>\n",
       "    </tr>\n",
       "    <tr>\n",
       "      <th>min</th>\n",
       "      <td>0.000000</td>\n",
       "      <td>22000.000000</td>\n",
       "    </tr>\n",
       "    <tr>\n",
       "      <th>25%</th>\n",
       "      <td>29.000000</td>\n",
       "      <td>26000.000000</td>\n",
       "    </tr>\n",
       "    <tr>\n",
       "      <th>50%</th>\n",
       "      <td>35.000000</td>\n",
       "      <td>40000.000000</td>\n",
       "    </tr>\n",
       "    <tr>\n",
       "      <th>75%</th>\n",
       "      <td>42.000000</td>\n",
       "      <td>45000.000000</td>\n",
       "    </tr>\n",
       "    <tr>\n",
       "      <th>max</th>\n",
       "      <td>56.000000</td>\n",
       "      <td>60000.000000</td>\n",
       "    </tr>\n",
       "  </tbody>\n",
       "</table>\n",
       "</div>"
      ],
      "text/plain": [
       "             Age        Salary\n",
       "count  17.000000     17.000000\n",
       "mean   34.647059  38823.529412\n",
       "std    15.783461  12115.255332\n",
       "min     0.000000  22000.000000\n",
       "25%    29.000000  26000.000000\n",
       "50%    35.000000  40000.000000\n",
       "75%    42.000000  45000.000000\n",
       "max    56.000000  60000.000000"
      ]
     },
     "execution_count": 61,
     "metadata": {},
     "output_type": "execute_result"
    }
   ],
   "source": [
    "df3.describe()"
   ]
  },
  {
   "cell_type": "code",
   "execution_count": 62,
   "id": "dc0981a2",
   "metadata": {},
   "outputs": [],
   "source": [
    "# feature Engineering -outlier treatment"
   ]
  },
  {
   "cell_type": "code",
   "execution_count": 63,
   "id": "1a0cd80f",
   "metadata": {},
   "outputs": [
    {
     "data": {
      "text/plain": [
       "<AxesSubplot:ylabel='Age'>"
      ]
     },
     "execution_count": 63,
     "metadata": {},
     "output_type": "execute_result"
    },
    {
     "data": {
      "image/png": "[encoded data removed]",
      "text/plain": [
       "<Figure size 640x480 with 1 Axes>"
      ]
     },
     "metadata": {},
     "output_type": "display_data"
    }
   ],
   "source": [
    "sns.boxplot(y=\"Age\",data=df1)"
   ]
  },
  {
   "cell_type": "code",
   "execution_count": 65,
   "id": "7d74a51a",
   "metadata": {},
   "outputs": [
    {
     "data": {
      "text/plain": [
       "<AxesSubplot:>"
      ]
     },
     "execution_count": 65,
     "metadata": {},
     "output_type": "execute_result"
    },
    {
     "data": {
      "image/png": "[encoded data removed]",
      "text/plain": [
       "<Figure size 640x480 with 1 Axes>"
      ]
     },
     "metadata": {},
     "output_type": "display_data"
    }
   ],
   "source": [
    "sns.boxplot(data=df1)"
   ]
  },
  {
   "cell_type": "code",
   "execution_count": 66,
   "id": "6b399eb7",
   "metadata": {},
   "outputs": [
    {
     "data": {
      "text/plain": [
       "<AxesSubplot:ylabel='Salary'>"
      ]
     },
     "execution_count": 66,
     "metadata": {},
     "output_type": "execute_result"
    },
    {
     "data": {
      "image/png": "[encoded data removed]",
      "text/plain": [
       "<Figure size 640x480 with 1 Axes>"
      ]
     },
     "metadata": {},
     "output_type": "display_data"
    }
   ],
   "source": [
    "sns.boxplot(y=\"Salary\",data=df1)"
   ]
  },
  {
   "cell_type": "code",
   "execution_count": 67,
   "id": "0d647a00",
   "metadata": {},
   "outputs": [
    {
     "data": {
      "text/plain": [
       "<AxesSubplot:ylabel='Experience'>"
      ]
     },
     "execution_count": 67,
     "metadata": {},
     "output_type": "execute_result"
    },
    {
     "data": {
      "image/png": "[encoded data removed]",
      "text/plain": [
       "<Figure size 640x480 with 1 Axes>"
      ]
     },
     "metadata": {},
     "output_type": "display_data"
    }
   ],
   "source": [
    "sns.boxplot(y=\"Experience\",data=df1)"
   ]
  },
  {
   "cell_type": "code",
   "execution_count": 68,
   "id": "c0754239",
   "metadata": {},
   "outputs": [
    {
     "data": {
      "text/plain": [
       "<AxesSubplot:xlabel='Experience', ylabel='Salary'>"
      ]
     },
     "execution_count": 68,
     "metadata": {},
     "output_type": "execute_result"
    },
    {
     "data": {
      "image/png": "[encoded data removed]",
      "text/plain": [
       "<Figure size 640x480 with 1 Axes>"
      ]
     },
     "metadata": {},
     "output_type": "display_data"
    }
   ],
   "source": [
    "sns.scatterplot(x=\"Experience\",y=\"Salary\",data=df1)"
   ]
  },
  {
   "cell_type": "code",
   "execution_count": 69,
   "id": "e3d73e41",
   "metadata": {},
   "outputs": [
    {
     "data": {
      "text/plain": [
       "<AxesSubplot:xlabel='Age', ylabel='Salary'>"
      ]
     },
     "execution_count": 69,
     "metadata": {},
     "output_type": "execute_result"
    },
    {
     "data": {
      "image/png": "[encoded data removed]",
      "text/plain": [
       "<Figure size 640x480 with 1 Axes>"
      ]
     },
     "metadata": {},
     "output_type": "display_data"
    }
   ],
   "source": [
    "sns.scatterplot(x=\"Age\",y=\"Salary\",data=df1)"
   ]
  },
  {
   "cell_type": "code",
   "execution_count": 70,
   "id": "d0cb0a26",
   "metadata": {},
   "outputs": [
    {
     "data": {
      "text/plain": [
       "<AxesSubplot:xlabel='Experience', ylabel='Salary'>"
      ]
     },
     "execution_count": 70,
     "metadata": {},
     "output_type": "execute_result"
    },
    {
     "data": {
      "image/png": "[encoded data removed]",
      "text/plain": [
       "<Figure size 640x480 with 1 Axes>"
      ]
     },
     "metadata": {},
     "output_type": "display_data"
    }
   ],
   "source": [
    "sns.scatterplot(x=\"Experience\",y=\"Salary\",data=df1)"
   ]
  },
  {
   "cell_type": "code",
   "execution_count": 71,
   "id": "a672f80d",
   "metadata": {},
   "outputs": [
    {
     "data": {
      "text/plain": [
       "'\\n# IQR approach \\npositive outlier>Q3+1.5IQR\\nnegative outlier<Q1-1.5IQR\\n\\n#Z Score approach\\npositive outlier>mean+3 SD\\nnegative outlier<mean-3 SD\\n'"
      ]
     },
     "execution_count": 71,
     "metadata": {},
     "output_type": "execute_result"
    }
   ],
   "source": [
    "\"\"\"\n",
    "# IQR approach \n",
    "positive outlier>Q3+1.5IQR\n",
    "negative outlier<Q1-1.5IQR\n",
    "\n",
    "#Z Score approach\n",
    "positive outlier>mean+3 SD\n",
    "negative outlier<mean-3 SD\n",
    "\"\"\""
   ]
  },
  {
   "cell_type": "markdown",
   "id": "e0a68335",
   "metadata": {},
   "source": [
    "# removal of outlier= trimming approach"
   ]
  },
  {
   "cell_type": "code",
   "execution_count": 72,
   "id": "ace0ea39",
   "metadata": {},
   "outputs": [],
   "source": [
    "df3=df1.copy()"
   ]
  },
  {
   "cell_type": "code",
   "execution_count": 73,
   "id": "66e47c9b",
   "metadata": {},
   "outputs": [
    {
     "name": "stdout",
     "output_type": "stream",
     "text": [
      "Upper_limit \n",
      " Age              57.750\n",
      "Experience       13.875\n",
      "Salary        58875.000\n",
      "dtype: float64\n",
      "Lower_limit \n",
      " Age              17.750\n",
      "Experience        8.875\n",
      "Salary        21875.000\n",
      "dtype: float64\n"
     ]
    }
   ],
   "source": [
    "# using IQR approach\n",
    "\"\"\"\n",
    "find the Q1,Q3,IQR, Upper_limit lower_limit\n",
    "\"\"\"\n",
    "Q1=df3.quantile(0.25)\n",
    "Q3=df3.quantile(0.75)\n",
    "IQR=Q3-Q1\n",
    "upper_limit=Q3+1.5*IQR\n",
    "print(\"Upper_limit \\n\",upper_limit)\n",
    "lower_limit=Q1-1.5*IQR\n",
    "print(\"Lower_limit \\n\",lower_limit)"
   ]
  },
  {
   "cell_type": "code",
   "execution_count": 74,
   "id": "76792941",
   "metadata": {},
   "outputs": [
    {
     "data": {
      "text/plain": [
       "'\\n(|)pipe function mean or either\\n(~)tilda function , it is comparing\\nany(axis=1) move column wise find the outlier and drop it.\\n'"
      ]
     },
     "execution_count": 74,
     "metadata": {},
     "output_type": "execute_result"
    }
   ],
   "source": [
    "\"\"\"\n",
    "(|)pipe function mean or either\n",
    "(~)tilda function , it is comparing\n",
    "any(axis=1) move column wise find the outlier and drop it.\n",
    "\"\"\""
   ]
  },
  {
   "cell_type": "code",
   "execution_count": 75,
   "id": "cbc5e853",
   "metadata": {},
   "outputs": [],
   "source": [
    "df4=df3[~((df3<(lower_limit))|(df3>(upper_limit))).any(axis=1)]"
   ]
  },
  {
   "cell_type": "code",
   "execution_count": 76,
   "id": "7cc4a766",
   "metadata": {},
   "outputs": [
    {
     "data": {
      "text/html": [
       "<div>\n",
       "<style scoped>\n",
       "    .dataframe tbody tr th:only-of-type {\n",
       "        vertical-align: middle;\n",
       "    }\n",
       "\n",
       "    .dataframe tbody tr th {\n",
       "        vertical-align: top;\n",
       "    }\n",
       "\n",
       "    .dataframe thead th {\n",
       "        text-align: right;\n",
       "    }\n",
       "</style>\n",
       "<table border=\"1\" class=\"dataframe\">\n",
       "  <thead>\n",
       "    <tr style=\"text-align: right;\">\n",
       "      <th></th>\n",
       "      <th>Age</th>\n",
       "      <th>Experience</th>\n",
       "      <th>Salary</th>\n",
       "    </tr>\n",
       "  </thead>\n",
       "  <tbody>\n",
       "    <tr>\n",
       "      <th>count</th>\n",
       "      <td>18.000000</td>\n",
       "      <td>18.000000</td>\n",
       "      <td>18.000000</td>\n",
       "    </tr>\n",
       "    <tr>\n",
       "      <th>mean</th>\n",
       "      <td>37.867521</td>\n",
       "      <td>11.341270</td>\n",
       "      <td>40351.495726</td>\n",
       "    </tr>\n",
       "    <tr>\n",
       "      <th>std</th>\n",
       "      <td>7.431497</td>\n",
       "      <td>0.967320</td>\n",
       "      <td>5558.401940</td>\n",
       "    </tr>\n",
       "    <tr>\n",
       "      <th>min</th>\n",
       "      <td>29.000000</td>\n",
       "      <td>9.000000</td>\n",
       "      <td>26000.000000</td>\n",
       "    </tr>\n",
       "    <tr>\n",
       "      <th>25%</th>\n",
       "      <td>33.000000</td>\n",
       "      <td>11.005952</td>\n",
       "      <td>39000.000000</td>\n",
       "    </tr>\n",
       "    <tr>\n",
       "      <th>50%</th>\n",
       "      <td>35.538462</td>\n",
       "      <td>11.023810</td>\n",
       "      <td>41000.000000</td>\n",
       "    </tr>\n",
       "    <tr>\n",
       "      <th>75%</th>\n",
       "      <td>41.000000</td>\n",
       "      <td>12.000000</td>\n",
       "      <td>45000.000000</td>\n",
       "    </tr>\n",
       "    <tr>\n",
       "      <th>max</th>\n",
       "      <td>56.000000</td>\n",
       "      <td>13.000000</td>\n",
       "      <td>48000.000000</td>\n",
       "    </tr>\n",
       "  </tbody>\n",
       "</table>\n",
       "</div>"
      ],
      "text/plain": [
       "             Age  Experience        Salary\n",
       "count  18.000000   18.000000     18.000000\n",
       "mean   37.867521   11.341270  40351.495726\n",
       "std     7.431497    0.967320   5558.401940\n",
       "min    29.000000    9.000000  26000.000000\n",
       "25%    33.000000   11.005952  39000.000000\n",
       "50%    35.538462   11.023810  41000.000000\n",
       "75%    41.000000   12.000000  45000.000000\n",
       "max    56.000000   13.000000  48000.000000"
      ]
     },
     "execution_count": 76,
     "metadata": {},
     "output_type": "execute_result"
    }
   ],
   "source": [
    "df4.describe()"
   ]
  },
  {
   "cell_type": "code",
   "execution_count": 77,
   "id": "55a642c5",
   "metadata": {},
   "outputs": [
    {
     "data": {
      "text/html": [
       "<div>\n",
       "<style scoped>\n",
       "    .dataframe tbody tr th:only-of-type {\n",
       "        vertical-align: middle;\n",
       "    }\n",
       "\n",
       "    .dataframe tbody tr th {\n",
       "        vertical-align: top;\n",
       "    }\n",
       "\n",
       "    .dataframe thead th {\n",
       "        text-align: right;\n",
       "    }\n",
       "</style>\n",
       "<table border=\"1\" class=\"dataframe\">\n",
       "  <thead>\n",
       "    <tr style=\"text-align: right;\">\n",
       "      <th></th>\n",
       "      <th>Age</th>\n",
       "      <th>Experience</th>\n",
       "      <th>Salary</th>\n",
       "    </tr>\n",
       "  </thead>\n",
       "  <tbody>\n",
       "    <tr>\n",
       "      <th>count</th>\n",
       "      <td>28.000000</td>\n",
       "      <td>28.000000</td>\n",
       "      <td>28.000000</td>\n",
       "    </tr>\n",
       "    <tr>\n",
       "      <th>mean</th>\n",
       "      <td>39.346154</td>\n",
       "      <td>11.023810</td>\n",
       "      <td>39326.923077</td>\n",
       "    </tr>\n",
       "    <tr>\n",
       "      <th>std</th>\n",
       "      <td>10.543659</td>\n",
       "      <td>5.935574</td>\n",
       "      <td>9774.250286</td>\n",
       "    </tr>\n",
       "    <tr>\n",
       "      <th>min</th>\n",
       "      <td>27.000000</td>\n",
       "      <td>2.000000</td>\n",
       "      <td>22000.000000</td>\n",
       "    </tr>\n",
       "    <tr>\n",
       "      <th>25%</th>\n",
       "      <td>32.750000</td>\n",
       "      <td>10.750000</td>\n",
       "      <td>35750.000000</td>\n",
       "    </tr>\n",
       "    <tr>\n",
       "      <th>50%</th>\n",
       "      <td>35.538462</td>\n",
       "      <td>11.023810</td>\n",
       "      <td>39663.461538</td>\n",
       "    </tr>\n",
       "    <tr>\n",
       "      <th>75%</th>\n",
       "      <td>42.750000</td>\n",
       "      <td>12.000000</td>\n",
       "      <td>45000.000000</td>\n",
       "    </tr>\n",
       "    <tr>\n",
       "      <th>max</th>\n",
       "      <td>75.000000</td>\n",
       "      <td>35.000000</td>\n",
       "      <td>60000.000000</td>\n",
       "    </tr>\n",
       "  </tbody>\n",
       "</table>\n",
       "</div>"
      ],
      "text/plain": [
       "             Age  Experience        Salary\n",
       "count  28.000000   28.000000     28.000000\n",
       "mean   39.346154   11.023810  39326.923077\n",
       "std    10.543659    5.935574   9774.250286\n",
       "min    27.000000    2.000000  22000.000000\n",
       "25%    32.750000   10.750000  35750.000000\n",
       "50%    35.538462   11.023810  39663.461538\n",
       "75%    42.750000   12.000000  45000.000000\n",
       "max    75.000000   35.000000  60000.000000"
      ]
     },
     "execution_count": 77,
     "metadata": {},
     "output_type": "execute_result"
    }
   ],
   "source": [
    "df3.describe()"
   ]
  },
  {
   "cell_type": "code",
   "execution_count": 78,
   "id": "1c5ee0e6",
   "metadata": {},
   "outputs": [
    {
     "data": {
      "text/plain": [
       "(28, 5)"
      ]
     },
     "execution_count": 78,
     "metadata": {},
     "output_type": "execute_result"
    }
   ],
   "source": [
    "df3.shape"
   ]
  },
  {
   "cell_type": "code",
   "execution_count": 79,
   "id": "4f70c81c",
   "metadata": {},
   "outputs": [
    {
     "data": {
      "text/plain": [
       "(18, 5)"
      ]
     },
     "execution_count": 79,
     "metadata": {},
     "output_type": "execute_result"
    }
   ],
   "source": [
    "df4.shape"
   ]
  },
  {
   "cell_type": "markdown",
   "id": "2862079f",
   "metadata": {},
   "source": [
    "# Flooring caping approach adjustment of outliers - no delete"
   ]
  },
  {
   "cell_type": "code",
   "execution_count": 80,
   "id": "c0085c35",
   "metadata": {},
   "outputs": [
    {
     "data": {
      "text/plain": [
       "'Outliers Treatment\\nFlooring And Capping :-quantile-based technique, (e.g 25th percentile) for the lower \\nvalues and capping(e.g for the 75th percentile) for the higher values. \\nThese percentile values will be used for the quantile-based flooring and capping.\\n'"
      ]
     },
     "execution_count": 80,
     "metadata": {},
     "output_type": "execute_result"
    }
   ],
   "source": [
    "\"\"\"Outliers Treatment\n",
    "Flooring And Capping :-quantile-based technique, (e.g 25th percentile) for the lower \n",
    "values and capping(e.g for the 75th percentile) for the higher values. \n",
    "These percentile values will be used for the quantile-based flooring and capping.\n",
    "\"\"\""
   ]
  },
  {
   "cell_type": "code",
   "execution_count": 83,
   "id": "89e87881",
   "metadata": {},
   "outputs": [
    {
     "data": {
      "text/html": [
       "<div>\n",
       "<style scoped>\n",
       "    .dataframe tbody tr th:only-of-type {\n",
       "        vertical-align: middle;\n",
       "    }\n",
       "\n",
       "    .dataframe tbody tr th {\n",
       "        vertical-align: top;\n",
       "    }\n",
       "\n",
       "    .dataframe thead th {\n",
       "        text-align: right;\n",
       "    }\n",
       "</style>\n",
       "<table border=\"1\" class=\"dataframe\">\n",
       "  <thead>\n",
       "    <tr style=\"text-align: right;\">\n",
       "      <th></th>\n",
       "      <th>Age</th>\n",
       "      <th>Experience</th>\n",
       "      <th>Salary</th>\n",
       "    </tr>\n",
       "  </thead>\n",
       "  <tbody>\n",
       "    <tr>\n",
       "      <th>count</th>\n",
       "      <td>28.000000</td>\n",
       "      <td>28.000000</td>\n",
       "      <td>28.000000</td>\n",
       "    </tr>\n",
       "    <tr>\n",
       "      <th>mean</th>\n",
       "      <td>39.346154</td>\n",
       "      <td>11.023810</td>\n",
       "      <td>39326.923077</td>\n",
       "    </tr>\n",
       "    <tr>\n",
       "      <th>std</th>\n",
       "      <td>10.543659</td>\n",
       "      <td>5.935574</td>\n",
       "      <td>9774.250286</td>\n",
       "    </tr>\n",
       "    <tr>\n",
       "      <th>min</th>\n",
       "      <td>27.000000</td>\n",
       "      <td>2.000000</td>\n",
       "      <td>22000.000000</td>\n",
       "    </tr>\n",
       "    <tr>\n",
       "      <th>25%</th>\n",
       "      <td>32.750000</td>\n",
       "      <td>10.750000</td>\n",
       "      <td>35750.000000</td>\n",
       "    </tr>\n",
       "    <tr>\n",
       "      <th>50%</th>\n",
       "      <td>35.538462</td>\n",
       "      <td>11.023810</td>\n",
       "      <td>39663.461538</td>\n",
       "    </tr>\n",
       "    <tr>\n",
       "      <th>75%</th>\n",
       "      <td>42.750000</td>\n",
       "      <td>12.000000</td>\n",
       "      <td>45000.000000</td>\n",
       "    </tr>\n",
       "    <tr>\n",
       "      <th>max</th>\n",
       "      <td>75.000000</td>\n",
       "      <td>35.000000</td>\n",
       "      <td>60000.000000</td>\n",
       "    </tr>\n",
       "  </tbody>\n",
       "</table>\n",
       "</div>"
      ],
      "text/plain": [
       "             Age  Experience        Salary\n",
       "count  28.000000   28.000000     28.000000\n",
       "mean   39.346154   11.023810  39326.923077\n",
       "std    10.543659    5.935574   9774.250286\n",
       "min    27.000000    2.000000  22000.000000\n",
       "25%    32.750000   10.750000  35750.000000\n",
       "50%    35.538462   11.023810  39663.461538\n",
       "75%    42.750000   12.000000  45000.000000\n",
       "max    75.000000   35.000000  60000.000000"
      ]
     },
     "execution_count": 83,
     "metadata": {},
     "output_type": "execute_result"
    }
   ],
   "source": [
    "data3=df3.copy()\n",
    "data3.describe()"
   ]
  },
  {
   "cell_type": "code",
   "execution_count": 84,
   "id": "3dc1b9ec",
   "metadata": {},
   "outputs": [
    {
     "name": "stdout",
     "output_type": "stream",
     "text": [
      "Upper_limit \n",
      " Age              57.750\n",
      "Experience       13.875\n",
      "Salary        58875.000\n",
      "dtype: float64\n",
      "Lower_limit \n",
      " Age              17.750\n",
      "Experience        8.875\n",
      "Salary        21875.000\n",
      "dtype: float64\n"
     ]
    }
   ],
   "source": [
    "# we have to decide the upper limit and lower limit\n",
    "# using IQR approach\n",
    "\"\"\"\n",
    "find the Q1,Q3,IQR, Upper_limit lower_limit\n",
    "\"\"\"\n",
    "Q1=data3.quantile(0.25)\n",
    "Q3=data3.quantile(0.75)\n",
    "IQR=Q3-Q1\n",
    "upper_limit=Q3+1.5*IQR\n",
    "print(\"Upper_limit \\n\",upper_limit)\n",
    "lower_limit=Q1-1.5*IQR\n",
    "print(\"Lower_limit \\n\",lower_limit)"
   ]
  },
  {
   "cell_type": "code",
   "execution_count": 86,
   "id": "3017b715",
   "metadata": {},
   "outputs": [],
   "source": [
    "data3[\"Age\"]=np.where(data3[\"Age\"]>57.750,57.750,np.where(data3[\"Age\"]<47.750,47.750,data3[\"Age\"]))"
   ]
  },
  {
   "cell_type": "markdown",
   "id": "5e4a1575",
   "metadata": {},
   "source": []
  },
  {
   "cell_type": "code",
   "execution_count": 89,
   "id": "7fcc6ce3",
   "metadata": {},
   "outputs": [
    {
     "data": {
      "text/html": [
       "<div>\n",
       "<style scoped>\n",
       "    .dataframe tbody tr th:only-of-type {\n",
       "        vertical-align: middle;\n",
       "    }\n",
       "\n",
       "    .dataframe tbody tr th {\n",
       "        vertical-align: top;\n",
       "    }\n",
       "\n",
       "    .dataframe thead th {\n",
       "        text-align: right;\n",
       "    }\n",
       "</style>\n",
       "<table border=\"1\" class=\"dataframe\">\n",
       "  <thead>\n",
       "    <tr style=\"text-align: right;\">\n",
       "      <th></th>\n",
       "      <th>Age</th>\n",
       "      <th>Experience</th>\n",
       "      <th>Salary</th>\n",
       "    </tr>\n",
       "  </thead>\n",
       "  <tbody>\n",
       "    <tr>\n",
       "      <th>count</th>\n",
       "      <td>28.000000</td>\n",
       "      <td>28.000000</td>\n",
       "      <td>28.000000</td>\n",
       "    </tr>\n",
       "    <tr>\n",
       "      <th>mean</th>\n",
       "      <td>48.830357</td>\n",
       "      <td>11.023810</td>\n",
       "      <td>39326.923077</td>\n",
       "    </tr>\n",
       "    <tr>\n",
       "      <th>std</th>\n",
       "      <td>2.539552</td>\n",
       "      <td>5.935574</td>\n",
       "      <td>9774.250286</td>\n",
       "    </tr>\n",
       "    <tr>\n",
       "      <th>min</th>\n",
       "      <td>47.750000</td>\n",
       "      <td>2.000000</td>\n",
       "      <td>22000.000000</td>\n",
       "    </tr>\n",
       "    <tr>\n",
       "      <th>25%</th>\n",
       "      <td>47.750000</td>\n",
       "      <td>10.750000</td>\n",
       "      <td>35750.000000</td>\n",
       "    </tr>\n",
       "    <tr>\n",
       "      <th>50%</th>\n",
       "      <td>47.750000</td>\n",
       "      <td>11.023810</td>\n",
       "      <td>39663.461538</td>\n",
       "    </tr>\n",
       "    <tr>\n",
       "      <th>75%</th>\n",
       "      <td>47.750000</td>\n",
       "      <td>12.000000</td>\n",
       "      <td>45000.000000</td>\n",
       "    </tr>\n",
       "    <tr>\n",
       "      <th>max</th>\n",
       "      <td>57.750000</td>\n",
       "      <td>35.000000</td>\n",
       "      <td>60000.000000</td>\n",
       "    </tr>\n",
       "  </tbody>\n",
       "</table>\n",
       "</div>"
      ],
      "text/plain": [
       "             Age  Experience        Salary\n",
       "count  28.000000   28.000000     28.000000\n",
       "mean   48.830357   11.023810  39326.923077\n",
       "std     2.539552    5.935574   9774.250286\n",
       "min    47.750000    2.000000  22000.000000\n",
       "25%    47.750000   10.750000  35750.000000\n",
       "50%    47.750000   11.023810  39663.461538\n",
       "75%    47.750000   12.000000  45000.000000\n",
       "max    57.750000   35.000000  60000.000000"
      ]
     },
     "execution_count": 89,
     "metadata": {},
     "output_type": "execute_result"
    }
   ],
   "source": [
    "data3.describe()"
   ]
  },
  {
   "cell_type": "code",
   "execution_count": 90,
   "id": "8cad668b",
   "metadata": {},
   "outputs": [
    {
     "name": "stdout",
     "output_type": "stream",
     "text": [
      "<class 'pandas.core.frame.DataFrame'>\n",
      "RangeIndex: 28 entries, 0 to 27\n",
      "Data columns (total 5 columns):\n",
      " #   Column      Non-Null Count  Dtype  \n",
      "---  ------      --------------  -----  \n",
      " 0   Dept        28 non-null     object \n",
      " 1   Age         28 non-null     float64\n",
      " 2   Experience  28 non-null     float64\n",
      " 3   Salary      28 non-null     float64\n",
      " 4   Education   28 non-null     object \n",
      "dtypes: float64(3), object(2)\n",
      "memory usage: 1.2+ KB\n"
     ]
    }
   ],
   "source": [
    "df3.info()"
   ]
  },
  {
   "cell_type": "code",
   "execution_count": 91,
   "id": "cbb7c1c8",
   "metadata": {},
   "outputs": [
    {
     "name": "stdout",
     "output_type": "stream",
     "text": [
      "<class 'pandas.core.frame.DataFrame'>\n",
      "RangeIndex: 28 entries, 0 to 27\n",
      "Data columns (total 5 columns):\n",
      " #   Column      Non-Null Count  Dtype  \n",
      "---  ------      --------------  -----  \n",
      " 0   Dept        28 non-null     object \n",
      " 1   Age         28 non-null     float64\n",
      " 2   Experience  28 non-null     float64\n",
      " 3   Salary      28 non-null     float64\n",
      " 4   Education   28 non-null     object \n",
      "dtypes: float64(3), object(2)\n",
      "memory usage: 1.2+ KB\n"
     ]
    }
   ],
   "source": [
    "data3.info()"
   ]
  },
  {
   "cell_type": "code",
   "execution_count": 94,
   "id": "65ffaf68",
   "metadata": {},
   "outputs": [],
   "source": [
    "data3[\"Experience\"]=np.where(data3[\"Experience\"]>14,14,np.where(data3[\"Experience\"]<8,8,data3[\"Experience\"]))"
   ]
  },
  {
   "cell_type": "code",
   "execution_count": 83,
   "id": "4b14a6d8",
   "metadata": {},
   "outputs": [],
   "source": [
    "# same approach we can do for the salary"
   ]
  },
  {
   "cell_type": "code",
   "execution_count": 95,
   "id": "63952909",
   "metadata": {},
   "outputs": [
    {
     "data": {
      "text/plain": [
       "<AxesSubplot:>"
      ]
     },
     "execution_count": 95,
     "metadata": {},
     "output_type": "execute_result"
    },
    {
     "data": {
      "image/png": "[encoded data removed]",
      "text/plain": [
       "<Figure size 640x480 with 1 Axes>"
      ]
     },
     "metadata": {},
     "output_type": "display_data"
    }
   ],
   "source": [
    "sns.boxplot(data=data3)"
   ]
  },
  {
   "cell_type": "code",
   "execution_count": 96,
   "id": "531f8359",
   "metadata": {},
   "outputs": [],
   "source": [
    "data4=df3.copy()"
   ]
  },
  {
   "cell_type": "code",
   "execution_count": 97,
   "id": "81f82ead",
   "metadata": {},
   "outputs": [
    {
     "name": "stdout",
     "output_type": "stream",
     "text": [
      "Upper limit Z score \n",
      " Age              70.977131\n",
      "Experience       28.830532\n",
      "Salary        68649.673936\n",
      "dtype: float64\n",
      "Lower limit Z score \n",
      " Age               7.715176\n",
      "Experience       -6.782913\n",
      "Salary        10004.172218\n",
      "dtype: float64\n"
     ]
    }
   ],
   "source": [
    "#USING Z score concept\n",
    "#Capping approach\n",
    "# define the upper and lower limit\n",
    "up_limit=data4.mean()+3*data4.std()\n",
    "low_limit=data4.mean()-3*data4.std()\n",
    "print(\"Upper limit Z score \\n\",up_limit)\n",
    "print(\"Lower limit Z score \\n\",low_limit)"
   ]
  },
  {
   "cell_type": "code",
   "execution_count": 98,
   "id": "85f32c31",
   "metadata": {},
   "outputs": [
    {
     "data": {
      "text/html": [
       "<div>\n",
       "<style scoped>\n",
       "    .dataframe tbody tr th:only-of-type {\n",
       "        vertical-align: middle;\n",
       "    }\n",
       "\n",
       "    .dataframe tbody tr th {\n",
       "        vertical-align: top;\n",
       "    }\n",
       "\n",
       "    .dataframe thead th {\n",
       "        text-align: right;\n",
       "    }\n",
       "</style>\n",
       "<table border=\"1\" class=\"dataframe\">\n",
       "  <thead>\n",
       "    <tr style=\"text-align: right;\">\n",
       "      <th></th>\n",
       "      <th>Age</th>\n",
       "      <th>Experience</th>\n",
       "      <th>Salary</th>\n",
       "    </tr>\n",
       "  </thead>\n",
       "  <tbody>\n",
       "    <tr>\n",
       "      <th>count</th>\n",
       "      <td>28.000000</td>\n",
       "      <td>28.000000</td>\n",
       "      <td>28.000000</td>\n",
       "    </tr>\n",
       "    <tr>\n",
       "      <th>mean</th>\n",
       "      <td>39.346154</td>\n",
       "      <td>11.023810</td>\n",
       "      <td>39326.923077</td>\n",
       "    </tr>\n",
       "    <tr>\n",
       "      <th>std</th>\n",
       "      <td>10.543659</td>\n",
       "      <td>5.935574</td>\n",
       "      <td>9774.250286</td>\n",
       "    </tr>\n",
       "    <tr>\n",
       "      <th>min</th>\n",
       "      <td>27.000000</td>\n",
       "      <td>2.000000</td>\n",
       "      <td>22000.000000</td>\n",
       "    </tr>\n",
       "    <tr>\n",
       "      <th>25%</th>\n",
       "      <td>32.750000</td>\n",
       "      <td>10.750000</td>\n",
       "      <td>35750.000000</td>\n",
       "    </tr>\n",
       "    <tr>\n",
       "      <th>50%</th>\n",
       "      <td>35.538462</td>\n",
       "      <td>11.023810</td>\n",
       "      <td>39663.461538</td>\n",
       "    </tr>\n",
       "    <tr>\n",
       "      <th>75%</th>\n",
       "      <td>42.750000</td>\n",
       "      <td>12.000000</td>\n",
       "      <td>45000.000000</td>\n",
       "    </tr>\n",
       "    <tr>\n",
       "      <th>max</th>\n",
       "      <td>75.000000</td>\n",
       "      <td>35.000000</td>\n",
       "      <td>60000.000000</td>\n",
       "    </tr>\n",
       "  </tbody>\n",
       "</table>\n",
       "</div>"
      ],
      "text/plain": [
       "             Age  Experience        Salary\n",
       "count  28.000000   28.000000     28.000000\n",
       "mean   39.346154   11.023810  39326.923077\n",
       "std    10.543659    5.935574   9774.250286\n",
       "min    27.000000    2.000000  22000.000000\n",
       "25%    32.750000   10.750000  35750.000000\n",
       "50%    35.538462   11.023810  39663.461538\n",
       "75%    42.750000   12.000000  45000.000000\n",
       "max    75.000000   35.000000  60000.000000"
      ]
     },
     "execution_count": 98,
     "metadata": {},
     "output_type": "execute_result"
    }
   ],
   "source": [
    "df3.describe()"
   ]
  },
  {
   "cell_type": "code",
   "execution_count": null,
   "id": "4717ece5",
   "metadata": {},
   "outputs": [],
   "source": [
    "# capping approach using Z score limit"
   ]
  },
  {
   "cell_type": "code",
   "execution_count": 99,
   "id": "2442f95c",
   "metadata": {},
   "outputs": [],
   "source": [
    "data4[\"Age\"]=np.where(data4[\"Age\"]>70,70,np.where(data4[\"Age\"]<7,7,data4[\"Age\"]))"
   ]
  },
  {
   "cell_type": "code",
   "execution_count": null,
   "id": "aefb258d",
   "metadata": {},
   "outputs": [],
   "source": [
    "# for the trimming approach same as discussed above with IQR "
   ]
  },
  {
   "cell_type": "code",
   "execution_count": 100,
   "id": "3cd11926",
   "metadata": {},
   "outputs": [
    {
     "data": {
      "text/html": [
       "<div>\n",
       "<style scoped>\n",
       "    .dataframe tbody tr th:only-of-type {\n",
       "        vertical-align: middle;\n",
       "    }\n",
       "\n",
       "    .dataframe tbody tr th {\n",
       "        vertical-align: top;\n",
       "    }\n",
       "\n",
       "    .dataframe thead th {\n",
       "        text-align: right;\n",
       "    }\n",
       "</style>\n",
       "<table border=\"1\" class=\"dataframe\">\n",
       "  <thead>\n",
       "    <tr style=\"text-align: right;\">\n",
       "      <th></th>\n",
       "      <th>Dept</th>\n",
       "      <th>Age</th>\n",
       "      <th>Experience</th>\n",
       "      <th>Salary</th>\n",
       "      <th>Education</th>\n",
       "    </tr>\n",
       "  </thead>\n",
       "  <tbody>\n",
       "    <tr>\n",
       "      <th>0</th>\n",
       "      <td>HR</td>\n",
       "      <td>32.000000</td>\n",
       "      <td>9.0</td>\n",
       "      <td>40000.000000</td>\n",
       "      <td>Under_Graduate</td>\n",
       "    </tr>\n",
       "    <tr>\n",
       "      <th>1</th>\n",
       "      <td>HR</td>\n",
       "      <td>33.000000</td>\n",
       "      <td>12.0</td>\n",
       "      <td>48000.000000</td>\n",
       "      <td>Master</td>\n",
       "    </tr>\n",
       "    <tr>\n",
       "      <th>2</th>\n",
       "      <td>IT</td>\n",
       "      <td>35.000000</td>\n",
       "      <td>12.0</td>\n",
       "      <td>45000.000000</td>\n",
       "      <td>Master</td>\n",
       "    </tr>\n",
       "    <tr>\n",
       "      <th>3</th>\n",
       "      <td>IT</td>\n",
       "      <td>35.538462</td>\n",
       "      <td>12.0</td>\n",
       "      <td>46000.000000</td>\n",
       "      <td>Graduate</td>\n",
       "    </tr>\n",
       "    <tr>\n",
       "      <th>4</th>\n",
       "      <td>HR</td>\n",
       "      <td>34.000000</td>\n",
       "      <td>11.0</td>\n",
       "      <td>39326.923077</td>\n",
       "      <td>Graduate</td>\n",
       "    </tr>\n",
       "  </tbody>\n",
       "</table>\n",
       "</div>"
      ],
      "text/plain": [
       "  Dept        Age  Experience        Salary       Education\n",
       "0   HR  32.000000         9.0  40000.000000  Under_Graduate\n",
       "1   HR  33.000000        12.0  48000.000000          Master\n",
       "2   IT  35.000000        12.0  45000.000000          Master\n",
       "3   IT  35.538462        12.0  46000.000000        Graduate\n",
       "4   HR  34.000000        11.0  39326.923077        Graduate"
      ]
     },
     "execution_count": 100,
     "metadata": {},
     "output_type": "execute_result"
    }
   ],
   "source": [
    "df3.head()"
   ]
  },
  {
   "cell_type": "code",
   "execution_count": 101,
   "id": "7fa6db56",
   "metadata": {},
   "outputs": [
    {
     "data": {
      "text/plain": [
       "'\\nsquare root approach\\ncube root\\nlog # many a times it convert the data infinity also\\n\\n'"
      ]
     },
     "execution_count": 101,
     "metadata": {},
     "output_type": "execute_result"
    }
   ],
   "source": [
    "# some other methods are there\n",
    "\"\"\"\n",
    "square root approach\n",
    "cube root\n",
    "log # many a times it convert the data infinity also\n",
    "\n",
    "\"\"\""
   ]
  }
 ],
 "metadata": {
  "kernelspec": {
   "display_name": "Python 3 (ipykernel)",
   "language": "python",
   "name": "python3"
  },
  "language_info": {
   "codemirror_mode": {
    "name": "ipython",
    "version": 3
   },
   "file_extension": ".py",
   "mimetype": "text/x-python",
   "name": "python",
   "nbconvert_exporter": "python",
   "pygments_lexer": "ipython3",
   "version": "3.9.13"
  }
 },
 "nbformat": 4,
 "nbformat_minor": 5
}
