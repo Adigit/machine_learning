{
 "cells": [
  {
   "cell_type": "code",
   "execution_count": 15,
   "id": "f48930aa",
   "metadata": {},
   "outputs": [
    {
     "name": "stdout",
     "output_type": "stream",
     "text": [
      "2\n",
      "10\n"
     ]
    }
   ],
   "source": [
    "number_of_words = 0\n",
    "number_of_char = 0\n",
    "f = open('read_write_mode.txt', 'r')\n",
    "for data in f:\n",
    "    words = data.split()\n",
    "    number_of_words += len(words)\n",
    "    for c in words:\n",
    "       number_of_char += len(c) \n",
    "    \n",
    "print(number_of_words)\n",
    "print(number_of_char)"
   ]
  },
  {
   "cell_type": "code",
   "execution_count": 27,
   "id": "8c8861cf",
   "metadata": {},
   "outputs": [
    {
     "name": "stdout",
     "output_type": "stream",
     "text": [
      "2\n"
     ]
    }
   ],
   "source": [
    "with open('read_write_mode.txt', 'r') as f:\n",
    "    no_of_lines = len(f.readlines())\n",
    "    f.seek(0)\n",
    "    no_of_char = len(f.read())\n",
    "    f.seek(0)\n",
    "    no_of_words = len(f.read().split())\n",
    "    \n",
    "print(no_of_words)"
   ]
  },
  {
   "cell_type": "code",
   "execution_count": 5,
   "id": "4b3120f8",
   "metadata": {},
   "outputs": [],
   "source": [
    "f = open('write_mode.txt', 'w')\n",
    "f.writelines(['line1\\n', 'line2'])\n",
    "f.close()\n"
   ]
  },
  {
   "cell_type": "code",
   "execution_count": 31,
   "id": "523cdfca",
   "metadata": {},
   "outputs": [],
   "source": [
    "f = open('../../../Downloads/Aditya_Srivastava.jpg', 'rb')"
   ]
  },
  {
   "cell_type": "code",
   "execution_count": 22,
   "id": "eca09419",
   "metadata": {},
   "outputs": [
    {
     "data": {
      "text/plain": [
       "'/Users/punchh_adityas/Desktop/python/9th_oct_22'"
      ]
     },
     "execution_count": 22,
     "metadata": {},
     "output_type": "execute_result"
    }
   ],
   "source": [
    "pwd"
   ]
  },
  {
   "cell_type": "code",
   "execution_count": 28,
   "id": "bf627242",
   "metadata": {},
   "outputs": [
    {
     "name": "stdout",
     "output_type": "stream",
     "text": [
      "[Errno 2] No such file or directory: '/../../../../Downloads'\n",
      "/Users/punchh_adityas/Desktop/python/9th_oct_22\n"
     ]
    }
   ],
   "source": [
    "cd /../../../../Downloads\n"
   ]
  },
  {
   "cell_type": "code",
   "execution_count": 29,
   "id": "80bf88ab",
   "metadata": {},
   "outputs": [
    {
     "ename": "SyntaxError",
     "evalue": "invalid syntax (996621217.py, line 1)",
     "output_type": "error",
     "traceback": [
      "\u001b[0;36m  Input \u001b[0;32mIn [29]\u001b[0;36m\u001b[0m\n\u001b[0;31m    cd ../../\u001b[0m\n\u001b[0m        ^\u001b[0m\n\u001b[0;31mSyntaxError\u001b[0m\u001b[0;31m:\u001b[0m invalid syntax\n"
     ]
    }
   ],
   "source": [
    "cd ../../\n",
    "pwd"
   ]
  },
  {
   "cell_type": "code",
   "execution_count": 53,
   "id": "e4e7a9de",
   "metadata": {},
   "outputs": [
    {
     "name": "stdout",
     "output_type": "stream",
     "text": [
      "First number :1\n",
      "Second number :2\n",
      "unsupported operand type(s) for /: 'str' and 'str'\n"
     ]
    }
   ],
   "source": [
    "#import date\n",
    "\n",
    "file = open('error_logs.txt', 'a')\n",
    "try:\n",
    "    a = input('First number :')\n",
    "    b = input('Second number :')\n",
    "    print(a/b)\n",
    "except Exception as e:\n",
    "    #file.write(f'\\nOn the day {dt.date} and on the time {t} the error occured {str(e)}')\n",
    "    print(e)\n",
    "else:\n",
    "    print(c)\n",
    "finally:\n",
    "    file.close()"
   ]
  },
  {
   "cell_type": "code",
   "execution_count": null,
   "id": "6883e91f",
   "metadata": {},
   "outputs": [],
   "source": []
  },
  {
   "cell_type": "code",
   "execution_count": null,
   "id": "4479e48b",
   "metadata": {},
   "outputs": [],
   "source": []
  }
 ],
 "metadata": {
  "kernelspec": {
   "display_name": "Python 3 (ipykernel)",
   "language": "python",
   "name": "python3"
  },
  "language_info": {
   "codemirror_mode": {
    "name": "ipython",
    "version": 3
   },
   "file_extension": ".py",
   "mimetype": "text/x-python",
   "name": "python",
   "nbconvert_exporter": "python",
   "pygments_lexer": "ipython3",
   "version": "3.9.12"
  }
 },
 "nbformat": 4,
 "nbformat_minor": 5
}
