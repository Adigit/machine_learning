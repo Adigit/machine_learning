{
 "cells": [
  {
   "cell_type": "markdown",
   "id": "6a595d12",
   "metadata": {},
   "source": [
    "# Advertising dataset problem statement to find the effect of diferent advertising mode on sales."
   ]
  },
  {
   "cell_type": "code",
   "execution_count": 1,
   "id": "01b8eb1a",
   "metadata": {},
   "outputs": [
    {
     "data": {
      "text/plain": [
       "'/Users/punchh_adityas/Desktop/python/9th_oct_22'"
      ]
     },
     "execution_count": 1,
     "metadata": {},
     "output_type": "execute_result"
    }
   ],
   "source": [
    "import pandas as pd\n",
    "import numpy as np\n",
    "import matplotlib.pyplot as plt\n",
    "%matplotlib inline\n",
    "import seaborn as sns\n",
    "import warnings\n",
    "warnings.filterwarnings(\"ignore\")\n",
    "\n",
    "import os\n",
    "os.getcwd()\n"
   ]
  },
  {
   "cell_type": "code",
   "execution_count": 2,
   "id": "068b674d",
   "metadata": {},
   "outputs": [],
   "source": [
    "df = pd.read_csv(\"../datasets/Advertising.csv\")"
   ]
  },
  {
   "cell_type": "code",
   "execution_count": 3,
   "id": "e7edac5c",
   "metadata": {},
   "outputs": [
    {
     "data": {
      "text/html": [
       "<div>\n",
       "<style scoped>\n",
       "    .dataframe tbody tr th:only-of-type {\n",
       "        vertical-align: middle;\n",
       "    }\n",
       "\n",
       "    .dataframe tbody tr th {\n",
       "        vertical-align: top;\n",
       "    }\n",
       "\n",
       "    .dataframe thead th {\n",
       "        text-align: right;\n",
       "    }\n",
       "</style>\n",
       "<table border=\"1\" class=\"dataframe\">\n",
       "  <thead>\n",
       "    <tr style=\"text-align: right;\">\n",
       "      <th></th>\n",
       "      <th>Unnamed: 0</th>\n",
       "      <th>TV</th>\n",
       "      <th>Radio</th>\n",
       "      <th>Newspaper</th>\n",
       "      <th>Sales</th>\n",
       "    </tr>\n",
       "  </thead>\n",
       "  <tbody>\n",
       "    <tr>\n",
       "      <th>0</th>\n",
       "      <td>1</td>\n",
       "      <td>450.0</td>\n",
       "      <td>17.5</td>\n",
       "      <td>69.2</td>\n",
       "      <td>22.1</td>\n",
       "    </tr>\n",
       "    <tr>\n",
       "      <th>1</th>\n",
       "      <td>2</td>\n",
       "      <td>44.5</td>\n",
       "      <td>18.5</td>\n",
       "      <td>45.1</td>\n",
       "      <td>10.4</td>\n",
       "    </tr>\n",
       "    <tr>\n",
       "      <th>2</th>\n",
       "      <td>3</td>\n",
       "      <td>17.2</td>\n",
       "      <td>45.9</td>\n",
       "      <td>69.3</td>\n",
       "      <td>9.3</td>\n",
       "    </tr>\n",
       "    <tr>\n",
       "      <th>3</th>\n",
       "      <td>4</td>\n",
       "      <td>NaN</td>\n",
       "      <td>18.9</td>\n",
       "      <td>58.5</td>\n",
       "      <td>18.5</td>\n",
       "    </tr>\n",
       "    <tr>\n",
       "      <th>4</th>\n",
       "      <td>5</td>\n",
       "      <td>180.8</td>\n",
       "      <td>15.8</td>\n",
       "      <td>58.4</td>\n",
       "      <td>12.9</td>\n",
       "    </tr>\n",
       "  </tbody>\n",
       "</table>\n",
       "</div>"
      ],
      "text/plain": [
       "   Unnamed: 0     TV  Radio  Newspaper  Sales\n",
       "0           1  450.0   17.5       69.2   22.1\n",
       "1           2   44.5   18.5       45.1   10.4\n",
       "2           3   17.2   45.9       69.3    9.3\n",
       "3           4    NaN   18.9       58.5   18.5\n",
       "4           5  180.8   15.8       58.4   12.9"
      ]
     },
     "execution_count": 3,
     "metadata": {},
     "output_type": "execute_result"
    }
   ],
   "source": [
    "df.head()"
   ]
  },
  {
   "cell_type": "code",
   "execution_count": 4,
   "id": "8724d962",
   "metadata": {},
   "outputs": [],
   "source": [
    "# lets drop unwanted column (Unnamed)"
   ]
  },
  {
   "cell_type": "code",
   "execution_count": 5,
   "id": "1ed1b686",
   "metadata": {},
   "outputs": [],
   "source": [
    "df = df.drop([\"Unnamed: 0\"], axis =1 )"
   ]
  },
  {
   "cell_type": "code",
   "execution_count": 6,
   "id": "78dfe2af",
   "metadata": {},
   "outputs": [
    {
     "data": {
      "text/html": [
       "<div>\n",
       "<style scoped>\n",
       "    .dataframe tbody tr th:only-of-type {\n",
       "        vertical-align: middle;\n",
       "    }\n",
       "\n",
       "    .dataframe tbody tr th {\n",
       "        vertical-align: top;\n",
       "    }\n",
       "\n",
       "    .dataframe thead th {\n",
       "        text-align: right;\n",
       "    }\n",
       "</style>\n",
       "<table border=\"1\" class=\"dataframe\">\n",
       "  <thead>\n",
       "    <tr style=\"text-align: right;\">\n",
       "      <th></th>\n",
       "      <th>TV</th>\n",
       "      <th>Radio</th>\n",
       "      <th>Newspaper</th>\n",
       "      <th>Sales</th>\n",
       "    </tr>\n",
       "  </thead>\n",
       "  <tbody>\n",
       "    <tr>\n",
       "      <th>0</th>\n",
       "      <td>450.0</td>\n",
       "      <td>17.5</td>\n",
       "      <td>69.2</td>\n",
       "      <td>22.1</td>\n",
       "    </tr>\n",
       "    <tr>\n",
       "      <th>1</th>\n",
       "      <td>44.5</td>\n",
       "      <td>18.5</td>\n",
       "      <td>45.1</td>\n",
       "      <td>10.4</td>\n",
       "    </tr>\n",
       "    <tr>\n",
       "      <th>2</th>\n",
       "      <td>17.2</td>\n",
       "      <td>45.9</td>\n",
       "      <td>69.3</td>\n",
       "      <td>9.3</td>\n",
       "    </tr>\n",
       "    <tr>\n",
       "      <th>3</th>\n",
       "      <td>NaN</td>\n",
       "      <td>18.9</td>\n",
       "      <td>58.5</td>\n",
       "      <td>18.5</td>\n",
       "    </tr>\n",
       "    <tr>\n",
       "      <th>4</th>\n",
       "      <td>180.8</td>\n",
       "      <td>15.8</td>\n",
       "      <td>58.4</td>\n",
       "      <td>12.9</td>\n",
       "    </tr>\n",
       "  </tbody>\n",
       "</table>\n",
       "</div>"
      ],
      "text/plain": [
       "      TV  Radio  Newspaper  Sales\n",
       "0  450.0   17.5       69.2   22.1\n",
       "1   44.5   18.5       45.1   10.4\n",
       "2   17.2   45.9       69.3    9.3\n",
       "3    NaN   18.9       58.5   18.5\n",
       "4  180.8   15.8       58.4   12.9"
      ]
     },
     "execution_count": 6,
     "metadata": {},
     "output_type": "execute_result"
    }
   ],
   "source": [
    "df.head()"
   ]
  },
  {
   "cell_type": "code",
   "execution_count": 7,
   "id": "93776900",
   "metadata": {},
   "outputs": [
    {
     "name": "stdout",
     "output_type": "stream",
     "text": [
      "<class 'pandas.core.frame.DataFrame'>\n",
      "RangeIndex: 200 entries, 0 to 199\n",
      "Data columns (total 4 columns):\n",
      " #   Column     Non-Null Count  Dtype  \n",
      "---  ------     --------------  -----  \n",
      " 0   TV         197 non-null    float64\n",
      " 1   Radio      197 non-null    float64\n",
      " 2   Newspaper  200 non-null    float64\n",
      " 3   Sales      200 non-null    float64\n",
      "dtypes: float64(4)\n",
      "memory usage: 6.4 KB\n"
     ]
    }
   ],
   "source": [
    "df.info()"
   ]
  },
  {
   "cell_type": "code",
   "execution_count": 9,
   "id": "1342bb9e",
   "metadata": {},
   "outputs": [
    {
     "data": {
      "text/html": [
       "<div>\n",
       "<style scoped>\n",
       "    .dataframe tbody tr th:only-of-type {\n",
       "        vertical-align: middle;\n",
       "    }\n",
       "\n",
       "    .dataframe tbody tr th {\n",
       "        vertical-align: top;\n",
       "    }\n",
       "\n",
       "    .dataframe thead th {\n",
       "        text-align: right;\n",
       "    }\n",
       "</style>\n",
       "<table border=\"1\" class=\"dataframe\">\n",
       "  <thead>\n",
       "    <tr style=\"text-align: right;\">\n",
       "      <th></th>\n",
       "      <th>count</th>\n",
       "      <th>mean</th>\n",
       "      <th>std</th>\n",
       "      <th>min</th>\n",
       "      <th>25%</th>\n",
       "      <th>50%</th>\n",
       "      <th>75%</th>\n",
       "      <th>max</th>\n",
       "    </tr>\n",
       "  </thead>\n",
       "  <tbody>\n",
       "    <tr>\n",
       "      <th>TV</th>\n",
       "      <td>197.0</td>\n",
       "      <td>149.696954</td>\n",
       "      <td>90.235859</td>\n",
       "      <td>0.7</td>\n",
       "      <td>73.400</td>\n",
       "      <td>149.80</td>\n",
       "      <td>220.3</td>\n",
       "      <td>450.0</td>\n",
       "    </tr>\n",
       "    <tr>\n",
       "      <th>Radio</th>\n",
       "      <td>197.0</td>\n",
       "      <td>22.993401</td>\n",
       "      <td>14.665662</td>\n",
       "      <td>0.0</td>\n",
       "      <td>10.100</td>\n",
       "      <td>21.70</td>\n",
       "      <td>35.6</td>\n",
       "      <td>49.6</td>\n",
       "    </tr>\n",
       "    <tr>\n",
       "      <th>Newspaper</th>\n",
       "      <td>200.0</td>\n",
       "      <td>30.750000</td>\n",
       "      <td>22.179668</td>\n",
       "      <td>0.3</td>\n",
       "      <td>12.750</td>\n",
       "      <td>25.75</td>\n",
       "      <td>45.1</td>\n",
       "      <td>114.0</td>\n",
       "    </tr>\n",
       "    <tr>\n",
       "      <th>Sales</th>\n",
       "      <td>200.0</td>\n",
       "      <td>14.022500</td>\n",
       "      <td>5.217457</td>\n",
       "      <td>1.6</td>\n",
       "      <td>10.375</td>\n",
       "      <td>12.90</td>\n",
       "      <td>17.4</td>\n",
       "      <td>27.0</td>\n",
       "    </tr>\n",
       "  </tbody>\n",
       "</table>\n",
       "</div>"
      ],
      "text/plain": [
       "           count        mean        std  min     25%     50%    75%    max\n",
       "TV         197.0  149.696954  90.235859  0.7  73.400  149.80  220.3  450.0\n",
       "Radio      197.0   22.993401  14.665662  0.0  10.100   21.70   35.6   49.6\n",
       "Newspaper  200.0   30.750000  22.179668  0.3  12.750   25.75   45.1  114.0\n",
       "Sales      200.0   14.022500   5.217457  1.6  10.375   12.90   17.4   27.0"
      ]
     },
     "execution_count": 9,
     "metadata": {},
     "output_type": "execute_result"
    }
   ],
   "source": [
    "df.describe().T"
   ]
  },
  {
   "cell_type": "code",
   "execution_count": 11,
   "id": "415051ee",
   "metadata": {},
   "outputs": [
    {
     "data": {
      "text/plain": [
       "TV           0.143365\n",
       "Radio        0.137004\n",
       "Newspaper    0.937312\n",
       "Sales        0.407571\n",
       "dtype: float64"
      ]
     },
     "execution_count": 11,
     "metadata": {},
     "output_type": "execute_result"
    }
   ],
   "source": [
    "#  skewness and Kurtosis \n",
    "df.skew() # should be between -3 to 3. If its in the range then it means its normally distributed else not"
   ]
  },
  {
   "cell_type": "code",
   "execution_count": 12,
   "id": "77c83192",
   "metadata": {},
   "outputs": [
    {
     "data": {
      "text/plain": [
       "TV          -0.618442\n",
       "Radio       -1.183558\n",
       "Newspaper    0.715567\n",
       "Sales       -0.408869\n",
       "dtype: float64"
      ]
     },
     "execution_count": 12,
     "metadata": {},
     "output_type": "execute_result"
    }
   ],
   "source": [
    "df.kurtosis() # should be between -7 to 7. If its in the range then it means its normally distributed else not"
   ]
  },
  {
   "cell_type": "code",
   "execution_count": 13,
   "id": "d3cbac85",
   "metadata": {},
   "outputs": [],
   "source": [
    "# after EDA we can work on preprocrssing"
   ]
  },
  {
   "cell_type": "code",
   "execution_count": 14,
   "id": "66613bbd",
   "metadata": {},
   "outputs": [],
   "source": [
    "# Finding the missing value"
   ]
  },
  {
   "cell_type": "code",
   "execution_count": 15,
   "id": "2cf0b9cd",
   "metadata": {},
   "outputs": [
    {
     "data": {
      "text/plain": [
       "TV           3\n",
       "Radio        3\n",
       "Newspaper    0\n",
       "Sales        0\n",
       "dtype: int64"
      ]
     },
     "execution_count": 15,
     "metadata": {},
     "output_type": "execute_result"
    }
   ],
   "source": [
    "df.isnull().sum()"
   ]
  },
  {
   "cell_type": "code",
   "execution_count": 16,
   "id": "758ba307",
   "metadata": {},
   "outputs": [
    {
     "data": {
      "text/plain": [
       "TV           1.5\n",
       "Radio        1.5\n",
       "Newspaper    0.0\n",
       "Sales        0.0\n",
       "dtype: float64"
      ]
     },
     "execution_count": 16,
     "metadata": {},
     "output_type": "execute_result"
    }
   ],
   "source": [
    "df.isnull().sum()/len(df)*100"
   ]
  },
  {
   "cell_type": "code",
   "execution_count": 17,
   "id": "dedbad59",
   "metadata": {},
   "outputs": [
    {
     "data": {
      "text/plain": [
       "200"
      ]
     },
     "execution_count": 17,
     "metadata": {},
     "output_type": "execute_result"
    }
   ],
   "source": [
    "len(df)"
   ]
  },
  {
   "cell_type": "code",
   "execution_count": 18,
   "id": "b3887a81",
   "metadata": {},
   "outputs": [],
   "source": [
    "# checking outliers"
   ]
  },
  {
   "cell_type": "code",
   "execution_count": 19,
   "id": "4a389bd0",
   "metadata": {},
   "outputs": [
    {
     "data": {
      "text/plain": [
       "<AxesSubplot:>"
      ]
     },
     "execution_count": 19,
     "metadata": {},
     "output_type": "execute_result"
    },
    {
     "data": {
      "image/png": "[encoded data removed]",
      "text/plain": [
       "<Figure size 640x480 with 1 Axes>"
      ]
     },
     "metadata": {},
     "output_type": "display_data"
    }
   ],
   "source": [
    "sns.boxplot(data=df)"
   ]
  },
  {
   "cell_type": "code",
   "execution_count": 20,
   "id": "86350852",
   "metadata": {},
   "outputs": [],
   "source": [
    "# we can use histogram also to see the skenwee trend"
   ]
  },
  {
   "cell_type": "code",
   "execution_count": 21,
   "id": "217eff14",
   "metadata": {},
   "outputs": [],
   "source": [
    "# Handling the missing value: Mean, median, mode"
   ]
  },
  {
   "cell_type": "code",
   "execution_count": 22,
   "id": "e3fa5d2f",
   "metadata": {},
   "outputs": [],
   "source": [
    "df['TV'] = df['TV'].fillna(df['TV'].median()) # It will input the median value"
   ]
  },
  {
   "cell_type": "code",
   "execution_count": 23,
   "id": "1c523035",
   "metadata": {},
   "outputs": [],
   "source": [
    "df['Radio'] = df['Radio'].fillna(df['Radio'].mean()) # It will input the mean value"
   ]
  },
  {
   "cell_type": "code",
   "execution_count": 24,
   "id": "ad1ec352",
   "metadata": {},
   "outputs": [
    {
     "name": "stdout",
     "output_type": "stream",
     "text": [
      "<class 'pandas.core.frame.DataFrame'>\n",
      "RangeIndex: 200 entries, 0 to 199\n",
      "Data columns (total 4 columns):\n",
      " #   Column     Non-Null Count  Dtype  \n",
      "---  ------     --------------  -----  \n",
      " 0   TV         200 non-null    float64\n",
      " 1   Radio      200 non-null    float64\n",
      " 2   Newspaper  200 non-null    float64\n",
      " 3   Sales      200 non-null    float64\n",
      "dtypes: float64(4)\n",
      "memory usage: 6.4 KB\n"
     ]
    }
   ],
   "source": [
    "df.info()"
   ]
  },
  {
   "cell_type": "code",
   "execution_count": 25,
   "id": "66ed5c0b",
   "metadata": {},
   "outputs": [
    {
     "data": {
      "text/plain": [
       "<AxesSubplot:xlabel='Radio', ylabel='Count'>"
      ]
     },
     "execution_count": 25,
     "metadata": {},
     "output_type": "execute_result"
    },
    {
     "data": {
      "image/png": "[encoded data removed]",
      "text/plain": [
       "<Figure size 1000x500 with 1 Axes>"
      ]
     },
     "metadata": {},
     "output_type": "display_data"
    }
   ],
   "source": [
    "plt.figure(figsize=(10,5))\n",
    "sns.histplot(df[\"Radio\"])"
   ]
  },
  {
   "cell_type": "code",
   "execution_count": 26,
   "id": "1f1cc750",
   "metadata": {},
   "outputs": [
    {
     "data": {
      "text/plain": [
       "<AxesSubplot:xlabel='Radio', ylabel='Count'>"
      ]
     },
     "execution_count": 26,
     "metadata": {},
     "output_type": "execute_result"
    },
    {
     "data": {
      "image/png": "[encoded data removed]",
      "text/plain": [
       "<Figure size 640x480 with 1 Axes>"
      ]
     },
     "metadata": {},
     "output_type": "display_data"
    }
   ],
   "source": [
    "sns.histplot(df[\"Radio\"], kde=True)"
   ]
  },
  {
   "cell_type": "code",
   "execution_count": 27,
   "id": "3b4f115a",
   "metadata": {},
   "outputs": [
    {
     "data": {
      "text/plain": [
       "<AxesSubplot:xlabel='Radio', ylabel='Density'>"
      ]
     },
     "execution_count": 27,
     "metadata": {},
     "output_type": "execute_result"
    },
    {
     "data": {
      "image/png": "[encoded data removed]",
      "text/plain": [
       "<Figure size 640x480 with 1 Axes>"
      ]
     },
     "metadata": {},
     "output_type": "display_data"
    }
   ],
   "source": [
    "sns.histplot(df[\"Radio\"], stat=\"density\", kde=True)"
   ]
  },
  {
   "cell_type": "code",
   "execution_count": 28,
   "id": "121af862",
   "metadata": {},
   "outputs": [
    {
     "data": {
      "text/plain": [
       "<AxesSubplot:xlabel='Newspaper', ylabel='Density'>"
      ]
     },
     "execution_count": 28,
     "metadata": {},
     "output_type": "execute_result"
    },
    {
     "data": {
      "image/png": "[encoded data removed]",
      "text/plain": [
       "<Figure size 640x480 with 1 Axes>"
      ]
     },
     "metadata": {},
     "output_type": "display_data"
    }
   ],
   "source": [
    "sns.histplot(df[\"Newspaper\"], stat=\"density\", kde=True)"
   ]
  },
  {
   "cell_type": "code",
   "execution_count": 30,
   "id": "f4aa40b8",
   "metadata": {},
   "outputs": [
    {
     "data": {
      "text/plain": [
       "<AxesSubplot:xlabel='Sales', ylabel='Density'>"
      ]
     },
     "execution_count": 30,
     "metadata": {},
     "output_type": "execute_result"
    },
    {
     "data": {
      "image/png": "[encoded data removed]",
      "text/plain": [
       "<Figure size 640x480 with 1 Axes>"
      ]
     },
     "metadata": {},
     "output_type": "display_data"
    }
   ],
   "source": [
    "sns.histplot(df[\"Sales\"], stat=\"density\", kde=True)"
   ]
  },
  {
   "cell_type": "code",
   "execution_count": 31,
   "id": "32b3d5cf",
   "metadata": {},
   "outputs": [],
   "source": [
    "# Handling outlier - IQR approach"
   ]
  },
  {
   "cell_type": "code",
   "execution_count": 33,
   "id": "bfae7156",
   "metadata": {},
   "outputs": [
    {
     "name": "stdout",
     "output_type": "stream",
     "text": [
      "Upper_fence \n",
      " TV           437.8000\n",
      "Radio         73.2500\n",
      "Newspaper     93.6250\n",
      "Sales         27.9375\n",
      "dtype: float64\n",
      "Lower_fence \n",
      " TV          -143.2000\n",
      "Radio        -27.5500\n",
      "Newspaper    -35.7750\n",
      "Sales         -0.1625\n",
      "dtype: float64\n"
     ]
    }
   ],
   "source": [
    "Q1 = df.quantile(0.25)\n",
    "Q3 = df.quantile(0.75)\n",
    "IQR = Q3 - Q1\n",
    "Upper_fence = Q3 + 1.5*IQR\n",
    "Lower_fence = Q1 - 1.5*IQR\n",
    "\n",
    "print(\"Upper_fence \\n\", Upper_fence)\n",
    "print(\"Lower_fence \\n\", Lower_fence)\n"
   ]
  },
  {
   "cell_type": "code",
   "execution_count": 34,
   "id": "97007e46",
   "metadata": {},
   "outputs": [
    {
     "data": {
      "text/html": [
       "<div>\n",
       "<style scoped>\n",
       "    .dataframe tbody tr th:only-of-type {\n",
       "        vertical-align: middle;\n",
       "    }\n",
       "\n",
       "    .dataframe tbody tr th {\n",
       "        vertical-align: top;\n",
       "    }\n",
       "\n",
       "    .dataframe thead th {\n",
       "        text-align: right;\n",
       "    }\n",
       "</style>\n",
       "<table border=\"1\" class=\"dataframe\">\n",
       "  <thead>\n",
       "    <tr style=\"text-align: right;\">\n",
       "      <th></th>\n",
       "      <th>count</th>\n",
       "      <th>mean</th>\n",
       "      <th>std</th>\n",
       "      <th>min</th>\n",
       "      <th>25%</th>\n",
       "      <th>50%</th>\n",
       "      <th>75%</th>\n",
       "      <th>max</th>\n",
       "    </tr>\n",
       "  </thead>\n",
       "  <tbody>\n",
       "    <tr>\n",
       "      <th>TV</th>\n",
       "      <td>200.0</td>\n",
       "      <td>149.698500</td>\n",
       "      <td>89.553107</td>\n",
       "      <td>0.7</td>\n",
       "      <td>74.675</td>\n",
       "      <td>149.80</td>\n",
       "      <td>219.925</td>\n",
       "      <td>450.0</td>\n",
       "    </tr>\n",
       "    <tr>\n",
       "      <th>Radio</th>\n",
       "      <td>200.0</td>\n",
       "      <td>22.993401</td>\n",
       "      <td>14.554697</td>\n",
       "      <td>0.0</td>\n",
       "      <td>10.250</td>\n",
       "      <td>22.15</td>\n",
       "      <td>35.450</td>\n",
       "      <td>49.6</td>\n",
       "    </tr>\n",
       "    <tr>\n",
       "      <th>Newspaper</th>\n",
       "      <td>200.0</td>\n",
       "      <td>30.750000</td>\n",
       "      <td>22.179668</td>\n",
       "      <td>0.3</td>\n",
       "      <td>12.750</td>\n",
       "      <td>25.75</td>\n",
       "      <td>45.100</td>\n",
       "      <td>114.0</td>\n",
       "    </tr>\n",
       "    <tr>\n",
       "      <th>Sales</th>\n",
       "      <td>200.0</td>\n",
       "      <td>14.022500</td>\n",
       "      <td>5.217457</td>\n",
       "      <td>1.6</td>\n",
       "      <td>10.375</td>\n",
       "      <td>12.90</td>\n",
       "      <td>17.400</td>\n",
       "      <td>27.0</td>\n",
       "    </tr>\n",
       "  </tbody>\n",
       "</table>\n",
       "</div>"
      ],
      "text/plain": [
       "           count        mean        std  min     25%     50%      75%    max\n",
       "TV         200.0  149.698500  89.553107  0.7  74.675  149.80  219.925  450.0\n",
       "Radio      200.0   22.993401  14.554697  0.0  10.250   22.15   35.450   49.6\n",
       "Newspaper  200.0   30.750000  22.179668  0.3  12.750   25.75   45.100  114.0\n",
       "Sales      200.0   14.022500   5.217457  1.6  10.375   12.90   17.400   27.0"
      ]
     },
     "execution_count": 34,
     "metadata": {},
     "output_type": "execute_result"
    }
   ],
   "source": [
    "df.describe().T"
   ]
  },
  {
   "cell_type": "code",
   "execution_count": 36,
   "id": "b0cf06c1",
   "metadata": {},
   "outputs": [
    {
     "data": {
      "text/html": [
       "<div>\n",
       "<style scoped>\n",
       "    .dataframe tbody tr th:only-of-type {\n",
       "        vertical-align: middle;\n",
       "    }\n",
       "\n",
       "    .dataframe tbody tr th {\n",
       "        vertical-align: top;\n",
       "    }\n",
       "\n",
       "    .dataframe thead th {\n",
       "        text-align: right;\n",
       "    }\n",
       "</style>\n",
       "<table border=\"1\" class=\"dataframe\">\n",
       "  <thead>\n",
       "    <tr style=\"text-align: right;\">\n",
       "      <th></th>\n",
       "      <th>TV</th>\n",
       "      <th>Radio</th>\n",
       "      <th>Newspaper</th>\n",
       "      <th>Sales</th>\n",
       "    </tr>\n",
       "  </thead>\n",
       "  <tbody>\n",
       "    <tr>\n",
       "      <th>0</th>\n",
       "      <td>450.0</td>\n",
       "      <td>17.5</td>\n",
       "      <td>69.2</td>\n",
       "      <td>22.1</td>\n",
       "    </tr>\n",
       "    <tr>\n",
       "      <th>1</th>\n",
       "      <td>44.5</td>\n",
       "      <td>18.5</td>\n",
       "      <td>45.1</td>\n",
       "      <td>10.4</td>\n",
       "    </tr>\n",
       "    <tr>\n",
       "      <th>2</th>\n",
       "      <td>17.2</td>\n",
       "      <td>45.9</td>\n",
       "      <td>69.3</td>\n",
       "      <td>9.3</td>\n",
       "    </tr>\n",
       "    <tr>\n",
       "      <th>3</th>\n",
       "      <td>149.8</td>\n",
       "      <td>18.9</td>\n",
       "      <td>58.5</td>\n",
       "      <td>18.5</td>\n",
       "    </tr>\n",
       "    <tr>\n",
       "      <th>4</th>\n",
       "      <td>180.8</td>\n",
       "      <td>15.8</td>\n",
       "      <td>58.4</td>\n",
       "      <td>12.9</td>\n",
       "    </tr>\n",
       "  </tbody>\n",
       "</table>\n",
       "</div>"
      ],
      "text/plain": [
       "      TV  Radio  Newspaper  Sales\n",
       "0  450.0   17.5       69.2   22.1\n",
       "1   44.5   18.5       45.1   10.4\n",
       "2   17.2   45.9       69.3    9.3\n",
       "3  149.8   18.9       58.5   18.5\n",
       "4  180.8   15.8       58.4   12.9"
      ]
     },
     "execution_count": 36,
     "metadata": {},
     "output_type": "execute_result"
    }
   ],
   "source": [
    "df.head()"
   ]
  },
  {
   "cell_type": "code",
   "execution_count": 37,
   "id": "3ced1a04",
   "metadata": {},
   "outputs": [],
   "source": [
    "# Square root approach help us data tranformation towards more normality\n",
    "# It also do the scaling \n",
    "# it also help outlier treatment"
   ]
  },
  {
   "cell_type": "code",
   "execution_count": 38,
   "id": "9bcc2b8d",
   "metadata": {},
   "outputs": [],
   "source": [
    "df = np.sqrt(df)"
   ]
  },
  {
   "cell_type": "code",
   "execution_count": 39,
   "id": "db68b47d",
   "metadata": {},
   "outputs": [
    {
     "data": {
      "text/html": [
       "<div>\n",
       "<style scoped>\n",
       "    .dataframe tbody tr th:only-of-type {\n",
       "        vertical-align: middle;\n",
       "    }\n",
       "\n",
       "    .dataframe tbody tr th {\n",
       "        vertical-align: top;\n",
       "    }\n",
       "\n",
       "    .dataframe thead th {\n",
       "        text-align: right;\n",
       "    }\n",
       "</style>\n",
       "<table border=\"1\" class=\"dataframe\">\n",
       "  <thead>\n",
       "    <tr style=\"text-align: right;\">\n",
       "      <th></th>\n",
       "      <th>TV</th>\n",
       "      <th>Radio</th>\n",
       "      <th>Newspaper</th>\n",
       "      <th>Sales</th>\n",
       "    </tr>\n",
       "  </thead>\n",
       "  <tbody>\n",
       "    <tr>\n",
       "      <th>0</th>\n",
       "      <td>21.213203</td>\n",
       "      <td>4.183300</td>\n",
       "      <td>8.318654</td>\n",
       "      <td>4.701064</td>\n",
       "    </tr>\n",
       "    <tr>\n",
       "      <th>1</th>\n",
       "      <td>6.670832</td>\n",
       "      <td>4.301163</td>\n",
       "      <td>6.715653</td>\n",
       "      <td>3.224903</td>\n",
       "    </tr>\n",
       "    <tr>\n",
       "      <th>2</th>\n",
       "      <td>4.147288</td>\n",
       "      <td>6.774954</td>\n",
       "      <td>8.324662</td>\n",
       "      <td>3.049590</td>\n",
       "    </tr>\n",
       "    <tr>\n",
       "      <th>3</th>\n",
       "      <td>12.239281</td>\n",
       "      <td>4.347413</td>\n",
       "      <td>7.648529</td>\n",
       "      <td>4.301163</td>\n",
       "    </tr>\n",
       "    <tr>\n",
       "      <th>4</th>\n",
       "      <td>13.446189</td>\n",
       "      <td>3.974921</td>\n",
       "      <td>7.641989</td>\n",
       "      <td>3.591657</td>\n",
       "    </tr>\n",
       "  </tbody>\n",
       "</table>\n",
       "</div>"
      ],
      "text/plain": [
       "          TV     Radio  Newspaper     Sales\n",
       "0  21.213203  4.183300   8.318654  4.701064\n",
       "1   6.670832  4.301163   6.715653  3.224903\n",
       "2   4.147288  6.774954   8.324662  3.049590\n",
       "3  12.239281  4.347413   7.648529  4.301163\n",
       "4  13.446189  3.974921   7.641989  3.591657"
      ]
     },
     "execution_count": 39,
     "metadata": {},
     "output_type": "execute_result"
    }
   ],
   "source": [
    "df.head()"
   ]
  },
  {
   "cell_type": "code",
   "execution_count": 41,
   "id": "6a3f4840",
   "metadata": {},
   "outputs": [
    {
     "data": {
      "text/plain": [
       "<seaborn.axisgrid.PairGrid at 0x7f93fc928c70>"
      ]
     },
     "execution_count": 41,
     "metadata": {},
     "output_type": "execute_result"
    },
    {
     "data": {
      "image/png": "[encoded data removed]",
      "text/plain": [
       "<Figure size 1000x1000 with 20 Axes>"
      ]
     },
     "metadata": {},
     "output_type": "display_data"
    }
   ],
   "source": [
    "# pairplot \n",
    "sns.pairplot(df)"
   ]
  },
  {
   "cell_type": "code",
   "execution_count": 45,
   "id": "2d3fc9d6",
   "metadata": {},
   "outputs": [],
   "source": [
    "corr = df.corr(method=\"spearman\")"
   ]
  },
  {
   "cell_type": "code",
   "execution_count": 46,
   "id": "b55b2b41",
   "metadata": {},
   "outputs": [
    {
     "data": {
      "text/plain": [
       "<AxesSubplot:>"
      ]
     },
     "execution_count": 46,
     "metadata": {},
     "output_type": "execute_result"
    },
    {
     "data": {
      "image/png": "[encoded data removed]",
      "text/plain": [
       "<Figure size 640x480 with 2 Axes>"
      ]
     },
     "metadata": {},
     "output_type": "display_data"
    }
   ],
   "source": [
    "sns.heatmap(corr)"
   ]
  },
  {
   "cell_type": "code",
   "execution_count": 44,
   "id": "0333a0ba",
   "metadata": {},
   "outputs": [
    {
     "data": {
      "text/plain": [
       "<AxesSubplot:>"
      ]
     },
     "execution_count": 44,
     "metadata": {},
     "output_type": "execute_result"
    },
    {
     "data": {
      "image/png": "[encoded data removed]",
      "text/plain": [
       "<Figure size 640x480 with 2 Axes>"
      ]
     },
     "metadata": {},
     "output_type": "display_data"
    }
   ],
   "source": [
    "sns.heatmap(corr, annot=True)"
   ]
  },
  {
   "cell_type": "code",
   "execution_count": 48,
   "id": "19dfb96c",
   "metadata": {},
   "outputs": [
    {
     "data": {
      "text/html": [
       "<div>\n",
       "<style scoped>\n",
       "    .dataframe tbody tr th:only-of-type {\n",
       "        vertical-align: middle;\n",
       "    }\n",
       "\n",
       "    .dataframe tbody tr th {\n",
       "        vertical-align: top;\n",
       "    }\n",
       "\n",
       "    .dataframe thead th {\n",
       "        text-align: right;\n",
       "    }\n",
       "</style>\n",
       "<table border=\"1\" class=\"dataframe\">\n",
       "  <thead>\n",
       "    <tr style=\"text-align: right;\">\n",
       "      <th></th>\n",
       "      <th>TV</th>\n",
       "      <th>Radio</th>\n",
       "      <th>Newspaper</th>\n",
       "      <th>Sales</th>\n",
       "    </tr>\n",
       "  </thead>\n",
       "  <tbody>\n",
       "    <tr>\n",
       "      <th>0</th>\n",
       "      <td>21.213203</td>\n",
       "      <td>4.183300</td>\n",
       "      <td>8.318654</td>\n",
       "      <td>4.701064</td>\n",
       "    </tr>\n",
       "    <tr>\n",
       "      <th>1</th>\n",
       "      <td>6.670832</td>\n",
       "      <td>4.301163</td>\n",
       "      <td>6.715653</td>\n",
       "      <td>3.224903</td>\n",
       "    </tr>\n",
       "    <tr>\n",
       "      <th>2</th>\n",
       "      <td>4.147288</td>\n",
       "      <td>6.774954</td>\n",
       "      <td>8.324662</td>\n",
       "      <td>3.049590</td>\n",
       "    </tr>\n",
       "    <tr>\n",
       "      <th>3</th>\n",
       "      <td>12.239281</td>\n",
       "      <td>4.347413</td>\n",
       "      <td>7.648529</td>\n",
       "      <td>4.301163</td>\n",
       "    </tr>\n",
       "    <tr>\n",
       "      <th>4</th>\n",
       "      <td>13.446189</td>\n",
       "      <td>3.974921</td>\n",
       "      <td>7.641989</td>\n",
       "      <td>3.591657</td>\n",
       "    </tr>\n",
       "  </tbody>\n",
       "</table>\n",
       "</div>"
      ],
      "text/plain": [
       "          TV     Radio  Newspaper     Sales\n",
       "0  21.213203  4.183300   8.318654  4.701064\n",
       "1   6.670832  4.301163   6.715653  3.224903\n",
       "2   4.147288  6.774954   8.324662  3.049590\n",
       "3  12.239281  4.347413   7.648529  4.301163\n",
       "4  13.446189  3.974921   7.641989  3.591657"
      ]
     },
     "execution_count": 48,
     "metadata": {},
     "output_type": "execute_result"
    }
   ],
   "source": [
    "df.head()"
   ]
  },
  {
   "cell_type": "code",
   "execution_count": 67,
   "id": "27df4d15",
   "metadata": {},
   "outputs": [],
   "source": [
    "# Now our data is ready to play. We can apply algorithm\n",
    "# split the data into independent and dependent variables"
   ]
  },
  {
   "cell_type": "code",
   "execution_count": 49,
   "id": "b6933eb2",
   "metadata": {},
   "outputs": [],
   "source": [
    "X = df.drop([\"Sales\"], axis=1)\n",
    "Y = df[\"Sales\"]"
   ]
  },
  {
   "cell_type": "code",
   "execution_count": 50,
   "id": "8ceeb13c",
   "metadata": {},
   "outputs": [
    {
     "data": {
      "text/html": [
       "<div>\n",
       "<style scoped>\n",
       "    .dataframe tbody tr th:only-of-type {\n",
       "        vertical-align: middle;\n",
       "    }\n",
       "\n",
       "    .dataframe tbody tr th {\n",
       "        vertical-align: top;\n",
       "    }\n",
       "\n",
       "    .dataframe thead th {\n",
       "        text-align: right;\n",
       "    }\n",
       "</style>\n",
       "<table border=\"1\" class=\"dataframe\">\n",
       "  <thead>\n",
       "    <tr style=\"text-align: right;\">\n",
       "      <th></th>\n",
       "      <th>TV</th>\n",
       "      <th>Radio</th>\n",
       "      <th>Newspaper</th>\n",
       "    </tr>\n",
       "  </thead>\n",
       "  <tbody>\n",
       "    <tr>\n",
       "      <th>0</th>\n",
       "      <td>21.213203</td>\n",
       "      <td>4.183300</td>\n",
       "      <td>8.318654</td>\n",
       "    </tr>\n",
       "    <tr>\n",
       "      <th>1</th>\n",
       "      <td>6.670832</td>\n",
       "      <td>4.301163</td>\n",
       "      <td>6.715653</td>\n",
       "    </tr>\n",
       "    <tr>\n",
       "      <th>2</th>\n",
       "      <td>4.147288</td>\n",
       "      <td>6.774954</td>\n",
       "      <td>8.324662</td>\n",
       "    </tr>\n",
       "    <tr>\n",
       "      <th>3</th>\n",
       "      <td>12.239281</td>\n",
       "      <td>4.347413</td>\n",
       "      <td>7.648529</td>\n",
       "    </tr>\n",
       "    <tr>\n",
       "      <th>4</th>\n",
       "      <td>13.446189</td>\n",
       "      <td>3.974921</td>\n",
       "      <td>7.641989</td>\n",
       "    </tr>\n",
       "  </tbody>\n",
       "</table>\n",
       "</div>"
      ],
      "text/plain": [
       "          TV     Radio  Newspaper\n",
       "0  21.213203  4.183300   8.318654\n",
       "1   6.670832  4.301163   6.715653\n",
       "2   4.147288  6.774954   8.324662\n",
       "3  12.239281  4.347413   7.648529\n",
       "4  13.446189  3.974921   7.641989"
      ]
     },
     "execution_count": 50,
     "metadata": {},
     "output_type": "execute_result"
    }
   ],
   "source": [
    "X.head()"
   ]
  },
  {
   "cell_type": "code",
   "execution_count": 51,
   "id": "35abc6bf",
   "metadata": {},
   "outputs": [
    {
     "data": {
      "text/plain": [
       "0    4.701064\n",
       "1    3.224903\n",
       "2    3.049590\n",
       "3    4.301163\n",
       "4    3.591657\n",
       "Name: Sales, dtype: float64"
      ]
     },
     "execution_count": 51,
     "metadata": {},
     "output_type": "execute_result"
    }
   ],
   "source": [
    "Y.head()"
   ]
  },
  {
   "cell_type": "markdown",
   "id": "20590f31",
   "metadata": {},
   "source": [
    "# Working on OLS Algorithm (Adding a constant is required in this Algorithm)"
   ]
  },
  {
   "cell_type": "code",
   "execution_count": 52,
   "id": "197b96b9",
   "metadata": {},
   "outputs": [],
   "source": [
    "import statsmodels.api as sm # Required for adding a constant\n",
    "X = sm.add_constant(X)"
   ]
  },
  {
   "cell_type": "code",
   "execution_count": 54,
   "id": "b8548d1c",
   "metadata": {},
   "outputs": [
    {
     "data": {
      "text/html": [
       "<div>\n",
       "<style scoped>\n",
       "    .dataframe tbody tr th:only-of-type {\n",
       "        vertical-align: middle;\n",
       "    }\n",
       "\n",
       "    .dataframe tbody tr th {\n",
       "        vertical-align: top;\n",
       "    }\n",
       "\n",
       "    .dataframe thead th {\n",
       "        text-align: right;\n",
       "    }\n",
       "</style>\n",
       "<table border=\"1\" class=\"dataframe\">\n",
       "  <thead>\n",
       "    <tr style=\"text-align: right;\">\n",
       "      <th></th>\n",
       "      <th>const</th>\n",
       "      <th>TV</th>\n",
       "      <th>Radio</th>\n",
       "      <th>Newspaper</th>\n",
       "    </tr>\n",
       "  </thead>\n",
       "  <tbody>\n",
       "    <tr>\n",
       "      <th>0</th>\n",
       "      <td>1.0</td>\n",
       "      <td>21.213203</td>\n",
       "      <td>4.183300</td>\n",
       "      <td>8.318654</td>\n",
       "    </tr>\n",
       "    <tr>\n",
       "      <th>1</th>\n",
       "      <td>1.0</td>\n",
       "      <td>6.670832</td>\n",
       "      <td>4.301163</td>\n",
       "      <td>6.715653</td>\n",
       "    </tr>\n",
       "    <tr>\n",
       "      <th>2</th>\n",
       "      <td>1.0</td>\n",
       "      <td>4.147288</td>\n",
       "      <td>6.774954</td>\n",
       "      <td>8.324662</td>\n",
       "    </tr>\n",
       "    <tr>\n",
       "      <th>3</th>\n",
       "      <td>1.0</td>\n",
       "      <td>12.239281</td>\n",
       "      <td>4.347413</td>\n",
       "      <td>7.648529</td>\n",
       "    </tr>\n",
       "    <tr>\n",
       "      <th>4</th>\n",
       "      <td>1.0</td>\n",
       "      <td>13.446189</td>\n",
       "      <td>3.974921</td>\n",
       "      <td>7.641989</td>\n",
       "    </tr>\n",
       "  </tbody>\n",
       "</table>\n",
       "</div>"
      ],
      "text/plain": [
       "   const         TV     Radio  Newspaper\n",
       "0    1.0  21.213203  4.183300   8.318654\n",
       "1    1.0   6.670832  4.301163   6.715653\n",
       "2    1.0   4.147288  6.774954   8.324662\n",
       "3    1.0  12.239281  4.347413   7.648529\n",
       "4    1.0  13.446189  3.974921   7.641989"
      ]
     },
     "execution_count": 54,
     "metadata": {},
     "output_type": "execute_result"
    }
   ],
   "source": [
    "X.head()"
   ]
  },
  {
   "cell_type": "code",
   "execution_count": 55,
   "id": "98352e2c",
   "metadata": {},
   "outputs": [],
   "source": [
    "# Split the data into training and testing "
   ]
  },
  {
   "cell_type": "code",
   "execution_count": 57,
   "id": "0b5f61af",
   "metadata": {},
   "outputs": [],
   "source": [
    "from sklearn.model_selection import train_test_split"
   ]
  },
  {
   "cell_type": "code",
   "execution_count": 58,
   "id": "9cc8a17f",
   "metadata": {},
   "outputs": [],
   "source": [
    "X_train, X_test, Y_train, Y_test = train_test_split(X,Y,train_size=0.75, random_state=110)"
   ]
  },
  {
   "cell_type": "code",
   "execution_count": 78,
   "id": "14a2e8e8",
   "metadata": {},
   "outputs": [],
   "source": [
    "# Model Building - Linear Regression from sklearn"
   ]
  },
  {
   "cell_type": "code",
   "execution_count": 59,
   "id": "f7698c27",
   "metadata": {},
   "outputs": [],
   "source": [
    "from sklearn.linear_model import LinearRegression"
   ]
  },
  {
   "cell_type": "code",
   "execution_count": 62,
   "id": "c9245e62",
   "metadata": {},
   "outputs": [],
   "source": [
    "lin_mod = LinearRegression()"
   ]
  },
  {
   "cell_type": "code",
   "execution_count": 63,
   "id": "1e81dc5a",
   "metadata": {},
   "outputs": [
    {
     "data": {
      "text/plain": [
       "LinearRegression()"
      ]
     },
     "execution_count": 63,
     "metadata": {},
     "output_type": "execute_result"
    }
   ],
   "source": [
    "lin_mod.fit(X_train, Y_train)"
   ]
  },
  {
   "cell_type": "code",
   "execution_count": 64,
   "id": "0c33db78",
   "metadata": {},
   "outputs": [
    {
     "name": "stdout",
     "output_type": "stream",
     "text": [
      "1.2238864251966177\n"
     ]
    }
   ],
   "source": [
    "print(lin_mod.intercept_)"
   ]
  },
  {
   "cell_type": "code",
   "execution_count": 65,
   "id": "764517d2",
   "metadata": {},
   "outputs": [
    {
     "name": "stdout",
     "output_type": "stream",
     "text": [
      "[0.         0.13773378 0.18577039 0.00705425]\n"
     ]
    }
   ],
   "source": [
    "print(lin_mod.coef_)"
   ]
  },
  {
   "cell_type": "code",
   "execution_count": 66,
   "id": "507cba99",
   "metadata": {},
   "outputs": [],
   "source": [
    "# checking the performance of the model"
   ]
  },
  {
   "cell_type": "code",
   "execution_count": 67,
   "id": "3b8d54ac",
   "metadata": {},
   "outputs": [],
   "source": [
    "Y_predict = lin_mod.predict(X_test)"
   ]
  },
  {
   "cell_type": "code",
   "execution_count": 68,
   "id": "35782a54",
   "metadata": {},
   "outputs": [
    {
     "name": "stdout",
     "output_type": "stream",
     "text": [
      "[4.20134528 3.64068471 4.71917151 4.42700632 3.19519143 2.97088566\n",
      " 3.3266001  4.28863953 3.40935108 3.42939435 3.99099486 3.71292441\n",
      " 4.39725032 4.15101327 2.60693455 4.57111015 4.47473405 4.52670389\n",
      " 4.80470764 3.256721   3.9593506  3.10443015 4.61572843 4.15321402\n",
      " 3.29629277 3.75414938 4.40181596 3.04844847 3.47525553 2.82578498\n",
      " 4.38551014 3.12982345 3.58710061 4.83763441 3.5677335  3.16931856\n",
      " 3.65999971 4.16091266 3.36643214 4.54433605 3.740562   3.83582357\n",
      " 3.77971084 3.65083977 3.72844895 3.91218328 4.86810443 1.87558251\n",
      " 2.84796365 3.83907536]\n"
     ]
    }
   ],
   "source": [
    "print(Y_predict)"
   ]
  },
  {
   "cell_type": "code",
   "execution_count": 69,
   "id": "575dd5e7",
   "metadata": {},
   "outputs": [
    {
     "name": "stdout",
     "output_type": "stream",
     "text": [
      "168    4.135215\n",
      "197    3.577709\n",
      "147    5.039841\n",
      "124    4.438468\n",
      "140    3.301515\n",
      "65     3.049590\n",
      "151    3.405877\n",
      "20     4.242641\n",
      "71     3.521363\n",
      "86     3.464102\n",
      "41     4.135215\n",
      "100    3.420526\n",
      "28     4.347413\n",
      "27     3.987480\n",
      "119    2.569047\n",
      "42     4.549725\n",
      "185    4.753946\n",
      "55     4.868265\n",
      "198    5.049752\n",
      "79     3.316625\n",
      "118    3.987480\n",
      "138    3.098387\n",
      "30     4.626013\n",
      "187    4.159327\n",
      "82     3.361547\n",
      "77     3.768289\n",
      "53     4.604346\n",
      "191    3.146427\n",
      "135    3.405877\n",
      "10     2.932576\n",
      "92     4.404543\n",
      "38     3.178050\n",
      "116    3.492850\n",
      "183    5.118594\n",
      "115    3.549648\n",
      "29     3.240370\n",
      "161    3.646917\n",
      "105    4.381780\n",
      "6      3.435113\n",
      "111    4.669047\n",
      "165    3.449638\n",
      "25     3.464102\n",
      "43     3.591657\n",
      "63     3.741657\n",
      "181    3.492850\n",
      "103    3.834058\n",
      "11     4.171331\n",
      "108    2.302173\n",
      "32     3.098387\n",
      "21     3.535534\n",
      "Name: Sales, dtype: float64\n"
     ]
    }
   ],
   "source": [
    "print(Y_test)"
   ]
  },
  {
   "cell_type": "code",
   "execution_count": 70,
   "id": "e15dbad9",
   "metadata": {},
   "outputs": [],
   "source": [
    "# How to evaluate the performace -- regrression model\n",
    "# r2_score -- accuracy\n",
    "# sum of square error\n",
    "# absolute error"
   ]
  },
  {
   "cell_type": "code",
   "execution_count": 71,
   "id": "42868e7f",
   "metadata": {},
   "outputs": [],
   "source": [
    "from sklearn.metrics import r2_score, median_absolute_error, mean_squared_error"
   ]
  },
  {
   "cell_type": "code",
   "execution_count": 73,
   "id": "3212e875",
   "metadata": {},
   "outputs": [
    {
     "data": {
      "text/plain": [
       "0.9062813385996976"
      ]
     },
     "execution_count": 73,
     "metadata": {},
     "output_type": "execute_result"
    }
   ],
   "source": [
    "r2_score(Y_predict, Y_test)"
   ]
  },
  {
   "cell_type": "code",
   "execution_count": 75,
   "id": "bb6f1749",
   "metadata": {},
   "outputs": [
    {
     "data": {
      "text/plain": [
       "0.03868713110924657"
      ]
     },
     "execution_count": 75,
     "metadata": {},
     "output_type": "execute_result"
    }
   ],
   "source": [
    "mean_squared_error(Y_predict, Y_test)"
   ]
  },
  {
   "cell_type": "code",
   "execution_count": 76,
   "id": "28e69d0b",
   "metadata": {},
   "outputs": [
    {
     "data": {
      "text/plain": [
       "0.08504739270109618"
      ]
     },
     "execution_count": 76,
     "metadata": {},
     "output_type": "execute_result"
    }
   ],
   "source": [
    "median_absolute_error(Y_predict, Y_test)"
   ]
  },
  {
   "cell_type": "code",
   "execution_count": 94,
   "id": "f8364109",
   "metadata": {},
   "outputs": [],
   "source": [
    "# Lets make the prediction using OLS method    "
   ]
  },
  {
   "cell_type": "code",
   "execution_count": 79,
   "id": "4281e2a3",
   "metadata": {},
   "outputs": [],
   "source": [
    "from statsmodels.regression.linear_model import OLS\n",
    "import statsmodels.regression.linear_model as smf"
   ]
  },
  {
   "cell_type": "code",
   "execution_count": 83,
   "id": "737aec4d",
   "metadata": {},
   "outputs": [],
   "source": [
    "OLS_training = smf.OLS(Y_train, X_train)"
   ]
  },
  {
   "cell_type": "code",
   "execution_count": 85,
   "id": "bcd710ba",
   "metadata": {},
   "outputs": [],
   "source": [
    "OLS_training = OLS_training.fit()"
   ]
  },
  {
   "cell_type": "code",
   "execution_count": 86,
   "id": "b1ffb944",
   "metadata": {},
   "outputs": [
    {
     "data": {
      "text/html": [
       "<table class=\"simpletable\">\n",
       "<caption>OLS Regression Results</caption>\n",
       "<tr>\n",
       "  <th>Dep. Variable:</th>          <td>Sales</td>      <th>  R-squared:         </th> <td>   0.902</td>\n",
       "</tr>\n",
       "<tr>\n",
       "  <th>Model:</th>                   <td>OLS</td>       <th>  Adj. R-squared:    </th> <td>   0.900</td>\n",
       "</tr>\n",
       "<tr>\n",
       "  <th>Method:</th>             <td>Least Squares</td>  <th>  F-statistic:       </th> <td>   449.1</td>\n",
       "</tr>\n",
       "<tr>\n",
       "  <th>Date:</th>             <td>Sat, 20 May 2023</td> <th>  Prob (F-statistic):</th> <td>1.79e-73</td>\n",
       "</tr>\n",
       "<tr>\n",
       "  <th>Time:</th>                 <td>16:36:33</td>     <th>  Log-Likelihood:    </th> <td>  10.374</td>\n",
       "</tr>\n",
       "<tr>\n",
       "  <th>No. Observations:</th>      <td>   150</td>      <th>  AIC:               </th> <td>  -12.75</td>\n",
       "</tr>\n",
       "<tr>\n",
       "  <th>Df Residuals:</th>          <td>   146</td>      <th>  BIC:               </th> <td> -0.7052</td>\n",
       "</tr>\n",
       "<tr>\n",
       "  <th>Df Model:</th>              <td>     3</td>      <th>                     </th>     <td> </td>   \n",
       "</tr>\n",
       "<tr>\n",
       "  <th>Covariance Type:</th>      <td>nonrobust</td>    <th>                     </th>     <td> </td>   \n",
       "</tr>\n",
       "</table>\n",
       "<table class=\"simpletable\">\n",
       "<tr>\n",
       "      <td></td>         <th>coef</th>     <th>std err</th>      <th>t</th>      <th>P>|t|</th>  <th>[0.025</th>    <th>0.975]</th>  \n",
       "</tr>\n",
       "<tr>\n",
       "  <th>const</th>     <td>    1.2239</td> <td>    0.077</td> <td>   15.853</td> <td> 0.000</td> <td>    1.071</td> <td>    1.376</td>\n",
       "</tr>\n",
       "<tr>\n",
       "  <th>TV</th>        <td>    0.1377</td> <td>    0.004</td> <td>   31.991</td> <td> 0.000</td> <td>    0.129</td> <td>    0.146</td>\n",
       "</tr>\n",
       "<tr>\n",
       "  <th>Radio</th>     <td>    0.1858</td> <td>    0.011</td> <td>   16.759</td> <td> 0.000</td> <td>    0.164</td> <td>    0.208</td>\n",
       "</tr>\n",
       "<tr>\n",
       "  <th>Newspaper</th> <td>    0.0071</td> <td>    0.009</td> <td>    0.746</td> <td> 0.457</td> <td>   -0.012</td> <td>    0.026</td>\n",
       "</tr>\n",
       "</table>\n",
       "<table class=\"simpletable\">\n",
       "<tr>\n",
       "  <th>Omnibus:</th>       <td>48.111</td> <th>  Durbin-Watson:     </th> <td>   1.931</td>\n",
       "</tr>\n",
       "<tr>\n",
       "  <th>Prob(Omnibus):</th> <td> 0.000</td> <th>  Jarque-Bera (JB):  </th> <td> 222.598</td>\n",
       "</tr>\n",
       "<tr>\n",
       "  <th>Skew:</th>          <td>-1.053</td> <th>  Prob(JB):          </th> <td>4.61e-49</td>\n",
       "</tr>\n",
       "<tr>\n",
       "  <th>Kurtosis:</th>      <td> 8.584</td> <th>  Cond. No.          </th> <td>    56.9</td>\n",
       "</tr>\n",
       "</table><br/><br/>Notes:<br/>[1] Standard Errors assume that the covariance matrix of the errors is correctly specified."
      ],
      "text/plain": [
       "<class 'statsmodels.iolib.summary.Summary'>\n",
       "\"\"\"\n",
       "                            OLS Regression Results                            \n",
       "==============================================================================\n",
       "Dep. Variable:                  Sales   R-squared:                       0.902\n",
       "Model:                            OLS   Adj. R-squared:                  0.900\n",
       "Method:                 Least Squares   F-statistic:                     449.1\n",
       "Date:                Sat, 20 May 2023   Prob (F-statistic):           1.79e-73\n",
       "Time:                        16:36:33   Log-Likelihood:                 10.374\n",
       "No. Observations:                 150   AIC:                            -12.75\n",
       "Df Residuals:                     146   BIC:                           -0.7052\n",
       "Df Model:                           3                                         \n",
       "Covariance Type:            nonrobust                                         \n",
       "==============================================================================\n",
       "                 coef    std err          t      P>|t|      [0.025      0.975]\n",
       "------------------------------------------------------------------------------\n",
       "const          1.2239      0.077     15.853      0.000       1.071       1.376\n",
       "TV             0.1377      0.004     31.991      0.000       0.129       0.146\n",
       "Radio          0.1858      0.011     16.759      0.000       0.164       0.208\n",
       "Newspaper      0.0071      0.009      0.746      0.457      -0.012       0.026\n",
       "==============================================================================\n",
       "Omnibus:                       48.111   Durbin-Watson:                   1.931\n",
       "Prob(Omnibus):                  0.000   Jarque-Bera (JB):              222.598\n",
       "Skew:                          -1.053   Prob(JB):                     4.61e-49\n",
       "Kurtosis:                       8.584   Cond. No.                         56.9\n",
       "==============================================================================\n",
       "\n",
       "Notes:\n",
       "[1] Standard Errors assume that the covariance matrix of the errors is correctly specified.\n",
       "\"\"\""
      ]
     },
     "execution_count": 86,
     "metadata": {},
     "output_type": "execute_result"
    }
   ],
   "source": [
    "OLS_training.summary()"
   ]
  },
  {
   "cell_type": "code",
   "execution_count": 87,
   "id": "432c2a53",
   "metadata": {},
   "outputs": [],
   "source": [
    "# If the model is good the Adjusted R-squared must be less than or equal to R-squared value"
   ]
  },
  {
   "cell_type": "code",
   "execution_count": 88,
   "id": "3d3e91a9",
   "metadata": {},
   "outputs": [
    {
     "name": "stdout",
     "output_type": "stream",
     "text": [
      "const        0.077204\n",
      "TV           0.004305\n",
      "Radio        0.011085\n",
      "Newspaper    0.009461\n",
      "dtype: float64\n"
     ]
    }
   ],
   "source": [
    "print(OLS_training.bse)"
   ]
  },
  {
   "cell_type": "code",
   "execution_count": 89,
   "id": "a27b6c86",
   "metadata": {},
   "outputs": [],
   "source": [
    "X1 = X.drop([\"TV\"], axis=1)"
   ]
  },
  {
   "cell_type": "code",
   "execution_count": 91,
   "id": "7d501a8a",
   "metadata": {},
   "outputs": [],
   "source": [
    "X1_train, X1_test, Y1_train, Y1_test = train_test_split(X1,Y, train_size=0.75,random_state=120)"
   ]
  },
  {
   "cell_type": "code",
   "execution_count": 92,
   "id": "e54bab25",
   "metadata": {},
   "outputs": [],
   "source": [
    "lin_mod1 = LinearRegression()"
   ]
  },
  {
   "cell_type": "code",
   "execution_count": 93,
   "id": "11f7103f",
   "metadata": {},
   "outputs": [
    {
     "data": {
      "text/plain": [
       "LinearRegression()"
      ]
     },
     "execution_count": 93,
     "metadata": {},
     "output_type": "execute_result"
    }
   ],
   "source": [
    "lin_mod1.fit(X1_train, Y1_train)"
   ]
  },
  {
   "cell_type": "code",
   "execution_count": 94,
   "id": "f7a3b75d",
   "metadata": {},
   "outputs": [],
   "source": [
    "Y1_predict = lin_mod1.predict(X1_test)"
   ]
  },
  {
   "cell_type": "code",
   "execution_count": 95,
   "id": "74f3164c",
   "metadata": {},
   "outputs": [
    {
     "data": {
      "text/plain": [
       "-0.7501845317039118"
      ]
     },
     "execution_count": 95,
     "metadata": {},
     "output_type": "execute_result"
    }
   ],
   "source": [
    "r2_score(Y1_predict, Y1_test)"
   ]
  },
  {
   "cell_type": "code",
   "execution_count": 96,
   "id": "3ec0c109",
   "metadata": {},
   "outputs": [],
   "source": [
    "OLS_training1 = smf.OLS(Y, X1)"
   ]
  },
  {
   "cell_type": "code",
   "execution_count": 97,
   "id": "00cc17df",
   "metadata": {},
   "outputs": [],
   "source": [
    "OLS_training1 = OLS_training1.fit()"
   ]
  },
  {
   "cell_type": "code",
   "execution_count": 98,
   "id": "cc9e5ca3",
   "metadata": {},
   "outputs": [
    {
     "data": {
      "text/html": [
       "<table class=\"simpletable\">\n",
       "<caption>OLS Regression Results</caption>\n",
       "<tr>\n",
       "  <th>Dep. Variable:</th>          <td>Sales</td>      <th>  R-squared:         </th> <td>   0.274</td>\n",
       "</tr>\n",
       "<tr>\n",
       "  <th>Model:</th>                   <td>OLS</td>       <th>  Adj. R-squared:    </th> <td>   0.267</td>\n",
       "</tr>\n",
       "<tr>\n",
       "  <th>Method:</th>             <td>Least Squares</td>  <th>  F-statistic:       </th> <td>   37.24</td>\n",
       "</tr>\n",
       "<tr>\n",
       "  <th>Date:</th>             <td>Sat, 20 May 2023</td> <th>  Prob (F-statistic):</th> <td>1.91e-14</td>\n",
       "</tr>\n",
       "<tr>\n",
       "  <th>Time:</th>                 <td>16:54:57</td>     <th>  Log-Likelihood:    </th> <td> -182.67</td>\n",
       "</tr>\n",
       "<tr>\n",
       "  <th>No. Observations:</th>      <td>   200</td>      <th>  AIC:               </th> <td>   371.3</td>\n",
       "</tr>\n",
       "<tr>\n",
       "  <th>Df Residuals:</th>          <td>   197</td>      <th>  BIC:               </th> <td>   381.2</td>\n",
       "</tr>\n",
       "<tr>\n",
       "  <th>Df Model:</th>              <td>     2</td>      <th>                     </th>     <td> </td>   \n",
       "</tr>\n",
       "<tr>\n",
       "  <th>Covariance Type:</th>      <td>nonrobust</td>    <th>                     </th>     <td> </td>   \n",
       "</tr>\n",
       "</table>\n",
       "<table class=\"simpletable\">\n",
       "<tr>\n",
       "      <td></td>         <th>coef</th>     <th>std err</th>      <th>t</th>      <th>P>|t|</th>  <th>[0.025</th>    <th>0.975]</th>  \n",
       "</tr>\n",
       "<tr>\n",
       "  <th>const</th>     <td>    2.6480</td> <td>    0.143</td> <td>   18.554</td> <td> 0.000</td> <td>    2.367</td> <td>    2.929</td>\n",
       "</tr>\n",
       "<tr>\n",
       "  <th>Radio</th>     <td>    0.2039</td> <td>    0.026</td> <td>    7.910</td> <td> 0.000</td> <td>    0.153</td> <td>    0.255</td>\n",
       "</tr>\n",
       "<tr>\n",
       "  <th>Newspaper</th> <td>    0.0230</td> <td>    0.022</td> <td>    1.051</td> <td> 0.294</td> <td>   -0.020</td> <td>    0.066</td>\n",
       "</tr>\n",
       "</table>\n",
       "<table class=\"simpletable\">\n",
       "<tr>\n",
       "  <th>Omnibus:</th>       <td>39.769</td> <th>  Durbin-Watson:     </th> <td>   2.036</td>\n",
       "</tr>\n",
       "<tr>\n",
       "  <th>Prob(Omnibus):</th> <td> 0.000</td> <th>  Jarque-Bera (JB):  </th> <td>  63.077</td>\n",
       "</tr>\n",
       "<tr>\n",
       "  <th>Skew:</th>          <td>-1.077</td> <th>  Prob(JB):          </th> <td>2.01e-14</td>\n",
       "</tr>\n",
       "<tr>\n",
       "  <th>Kurtosis:</th>      <td> 4.712</td> <th>  Cond. No.          </th> <td>    24.2</td>\n",
       "</tr>\n",
       "</table><br/><br/>Notes:<br/>[1] Standard Errors assume that the covariance matrix of the errors is correctly specified."
      ],
      "text/plain": [
       "<class 'statsmodels.iolib.summary.Summary'>\n",
       "\"\"\"\n",
       "                            OLS Regression Results                            \n",
       "==============================================================================\n",
       "Dep. Variable:                  Sales   R-squared:                       0.274\n",
       "Model:                            OLS   Adj. R-squared:                  0.267\n",
       "Method:                 Least Squares   F-statistic:                     37.24\n",
       "Date:                Sat, 20 May 2023   Prob (F-statistic):           1.91e-14\n",
       "Time:                        16:54:57   Log-Likelihood:                -182.67\n",
       "No. Observations:                 200   AIC:                             371.3\n",
       "Df Residuals:                     197   BIC:                             381.2\n",
       "Df Model:                           2                                         \n",
       "Covariance Type:            nonrobust                                         \n",
       "==============================================================================\n",
       "                 coef    std err          t      P>|t|      [0.025      0.975]\n",
       "------------------------------------------------------------------------------\n",
       "const          2.6480      0.143     18.554      0.000       2.367       2.929\n",
       "Radio          0.2039      0.026      7.910      0.000       0.153       0.255\n",
       "Newspaper      0.0230      0.022      1.051      0.294      -0.020       0.066\n",
       "==============================================================================\n",
       "Omnibus:                       39.769   Durbin-Watson:                   2.036\n",
       "Prob(Omnibus):                  0.000   Jarque-Bera (JB):               63.077\n",
       "Skew:                          -1.077   Prob(JB):                     2.01e-14\n",
       "Kurtosis:                       4.712   Cond. No.                         24.2\n",
       "==============================================================================\n",
       "\n",
       "Notes:\n",
       "[1] Standard Errors assume that the covariance matrix of the errors is correctly specified.\n",
       "\"\"\""
      ]
     },
     "execution_count": 98,
     "metadata": {},
     "output_type": "execute_result"
    }
   ],
   "source": [
    "OLS_training1.summary()"
   ]
  },
  {
   "cell_type": "code",
   "execution_count": null,
   "id": "6c8dbd5b",
   "metadata": {},
   "outputs": [],
   "source": []
  }
 ],
 "metadata": {
  "kernelspec": {
   "display_name": "Python 3 (ipykernel)",
   "language": "python",
   "name": "python3"
  },
  "language_info": {
   "codemirror_mode": {
    "name": "ipython",
    "version": 3
   },
   "file_extension": ".py",
   "mimetype": "text/x-python",
   "name": "python",
   "nbconvert_exporter": "python",
   "pygments_lexer": "ipython3",
   "version": "3.9.13"
  }
 },
 "nbformat": 4,
 "nbformat_minor": 5
}
