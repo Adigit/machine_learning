{
 "cells": [
  {
   "cell_type": "code",
   "execution_count": 1,
   "metadata": {},
   "outputs": [
    {
     "data": {
      "text/plain": [
       "'/Users/punchh_adityas/Desktop/python/9th_oct_22'"
      ]
     },
     "execution_count": 1,
     "metadata": {},
     "output_type": "execute_result"
    }
   ],
   "source": [
    "import numpy as np\n",
    "import pandas as pd\n",
    "import matplotlib.pyplot as plt\n",
    "%matplotlib inline\n",
    "import seaborn as sns\n",
    "import os\n",
    "os.getcwd()"
   ]
  },
  {
   "cell_type": "code",
   "execution_count": 2,
   "metadata": {},
   "outputs": [],
   "source": [
    "import warnings\n",
    "warnings.filterwarnings(\"ignore\")"
   ]
  },
  {
   "cell_type": "code",
   "execution_count": 3,
   "metadata": {},
   "outputs": [],
   "source": [
    "df =pd.read_csv(\"../datasets/BreastCancer.csv\")"
   ]
  },
  {
   "cell_type": "code",
   "execution_count": 4,
   "metadata": {},
   "outputs": [
    {
     "data": {
      "text/html": [
       "<div>\n",
       "<style scoped>\n",
       "    .dataframe tbody tr th:only-of-type {\n",
       "        vertical-align: middle;\n",
       "    }\n",
       "\n",
       "    .dataframe tbody tr th {\n",
       "        vertical-align: top;\n",
       "    }\n",
       "\n",
       "    .dataframe thead th {\n",
       "        text-align: right;\n",
       "    }\n",
       "</style>\n",
       "<table border=\"1\" class=\"dataframe\">\n",
       "  <thead>\n",
       "    <tr style=\"text-align: right;\">\n",
       "      <th></th>\n",
       "      <th>Id</th>\n",
       "      <th>Cl.thickness</th>\n",
       "      <th>Cell.size</th>\n",
       "      <th>Cell.shape</th>\n",
       "      <th>Marg.adhesion</th>\n",
       "      <th>Epith.c.size</th>\n",
       "      <th>Bare.nuclei</th>\n",
       "      <th>Bl.cromatin</th>\n",
       "      <th>Normal.nucleoli</th>\n",
       "      <th>Mitoses</th>\n",
       "      <th>Class</th>\n",
       "    </tr>\n",
       "  </thead>\n",
       "  <tbody>\n",
       "    <tr>\n",
       "      <th>0</th>\n",
       "      <td>1000025</td>\n",
       "      <td>5</td>\n",
       "      <td>1</td>\n",
       "      <td>1</td>\n",
       "      <td>1</td>\n",
       "      <td>2</td>\n",
       "      <td>1.0</td>\n",
       "      <td>3</td>\n",
       "      <td>1</td>\n",
       "      <td>1</td>\n",
       "      <td>0</td>\n",
       "    </tr>\n",
       "    <tr>\n",
       "      <th>1</th>\n",
       "      <td>1002945</td>\n",
       "      <td>5</td>\n",
       "      <td>4</td>\n",
       "      <td>4</td>\n",
       "      <td>5</td>\n",
       "      <td>7</td>\n",
       "      <td>10.0</td>\n",
       "      <td>3</td>\n",
       "      <td>2</td>\n",
       "      <td>1</td>\n",
       "      <td>0</td>\n",
       "    </tr>\n",
       "    <tr>\n",
       "      <th>2</th>\n",
       "      <td>1015425</td>\n",
       "      <td>3</td>\n",
       "      <td>1</td>\n",
       "      <td>1</td>\n",
       "      <td>1</td>\n",
       "      <td>2</td>\n",
       "      <td>2.0</td>\n",
       "      <td>3</td>\n",
       "      <td>1</td>\n",
       "      <td>1</td>\n",
       "      <td>0</td>\n",
       "    </tr>\n",
       "    <tr>\n",
       "      <th>3</th>\n",
       "      <td>1016277</td>\n",
       "      <td>6</td>\n",
       "      <td>8</td>\n",
       "      <td>8</td>\n",
       "      <td>1</td>\n",
       "      <td>3</td>\n",
       "      <td>4.0</td>\n",
       "      <td>3</td>\n",
       "      <td>7</td>\n",
       "      <td>1</td>\n",
       "      <td>0</td>\n",
       "    </tr>\n",
       "    <tr>\n",
       "      <th>4</th>\n",
       "      <td>1017023</td>\n",
       "      <td>4</td>\n",
       "      <td>1</td>\n",
       "      <td>1</td>\n",
       "      <td>3</td>\n",
       "      <td>2</td>\n",
       "      <td>1.0</td>\n",
       "      <td>3</td>\n",
       "      <td>1</td>\n",
       "      <td>1</td>\n",
       "      <td>0</td>\n",
       "    </tr>\n",
       "  </tbody>\n",
       "</table>\n",
       "</div>"
      ],
      "text/plain": [
       "        Id  Cl.thickness  Cell.size  Cell.shape  Marg.adhesion  Epith.c.size  \\\n",
       "0  1000025             5          1           1              1             2   \n",
       "1  1002945             5          4           4              5             7   \n",
       "2  1015425             3          1           1              1             2   \n",
       "3  1016277             6          8           8              1             3   \n",
       "4  1017023             4          1           1              3             2   \n",
       "\n",
       "   Bare.nuclei  Bl.cromatin  Normal.nucleoli  Mitoses  Class  \n",
       "0          1.0            3                1        1      0  \n",
       "1         10.0            3                2        1      0  \n",
       "2          2.0            3                1        1      0  \n",
       "3          4.0            3                7        1      0  \n",
       "4          1.0            3                1        1      0  "
      ]
     },
     "execution_count": 4,
     "metadata": {},
     "output_type": "execute_result"
    }
   ],
   "source": [
    "df.head()"
   ]
  },
  {
   "cell_type": "code",
   "execution_count": 5,
   "metadata": {},
   "outputs": [
    {
     "name": "stdout",
     "output_type": "stream",
     "text": [
      "<class 'pandas.core.frame.DataFrame'>\n",
      "RangeIndex: 699 entries, 0 to 698\n",
      "Data columns (total 11 columns):\n",
      " #   Column           Non-Null Count  Dtype  \n",
      "---  ------           --------------  -----  \n",
      " 0   Id               699 non-null    int64  \n",
      " 1   Cl.thickness     699 non-null    int64  \n",
      " 2   Cell.size        699 non-null    int64  \n",
      " 3   Cell.shape       699 non-null    int64  \n",
      " 4   Marg.adhesion    699 non-null    int64  \n",
      " 5   Epith.c.size     699 non-null    int64  \n",
      " 6   Bare.nuclei      683 non-null    float64\n",
      " 7   Bl.cromatin      699 non-null    int64  \n",
      " 8   Normal.nucleoli  699 non-null    int64  \n",
      " 9   Mitoses          699 non-null    int64  \n",
      " 10  Class            699 non-null    int64  \n",
      "dtypes: float64(1), int64(10)\n",
      "memory usage: 60.2 KB\n"
     ]
    }
   ],
   "source": [
    "df.info()"
   ]
  },
  {
   "cell_type": "code",
   "execution_count": 6,
   "metadata": {},
   "outputs": [
    {
     "data": {
      "text/plain": [
       "0    458\n",
       "1    241\n",
       "Name: Class, dtype: int64"
      ]
     },
     "execution_count": 6,
     "metadata": {},
     "output_type": "execute_result"
    }
   ],
   "source": [
    "df[\"Class\"].value_counts()"
   ]
  },
  {
   "cell_type": "code",
   "execution_count": 7,
   "metadata": {},
   "outputs": [
    {
     "data": {
      "text/plain": [
       "0    0.655222\n",
       "1    0.344778\n",
       "Name: Class, dtype: float64"
      ]
     },
     "execution_count": 7,
     "metadata": {},
     "output_type": "execute_result"
    }
   ],
   "source": [
    "df[\"Class\"].value_counts(normalize=True)"
   ]
  },
  {
   "cell_type": "code",
   "execution_count": 9,
   "metadata": {},
   "outputs": [],
   "source": [
    "df.drop([\"Id\"], axis=1,inplace=True)"
   ]
  },
  {
   "cell_type": "code",
   "execution_count": 10,
   "metadata": {},
   "outputs": [
    {
     "name": "stdout",
     "output_type": "stream",
     "text": [
      "<class 'pandas.core.frame.DataFrame'>\n",
      "RangeIndex: 699 entries, 0 to 698\n",
      "Data columns (total 10 columns):\n",
      " #   Column           Non-Null Count  Dtype  \n",
      "---  ------           --------------  -----  \n",
      " 0   Cl.thickness     699 non-null    int64  \n",
      " 1   Cell.size        699 non-null    int64  \n",
      " 2   Cell.shape       699 non-null    int64  \n",
      " 3   Marg.adhesion    699 non-null    int64  \n",
      " 4   Epith.c.size     699 non-null    int64  \n",
      " 5   Bare.nuclei      683 non-null    float64\n",
      " 6   Bl.cromatin      699 non-null    int64  \n",
      " 7   Normal.nucleoli  699 non-null    int64  \n",
      " 8   Mitoses          699 non-null    int64  \n",
      " 9   Class            699 non-null    int64  \n",
      "dtypes: float64(1), int64(9)\n",
      "memory usage: 54.7 KB\n"
     ]
    }
   ],
   "source": [
    "df.info()"
   ]
  },
  {
   "cell_type": "code",
   "execution_count": 11,
   "metadata": {},
   "outputs": [
    {
     "data": {
      "text/plain": [
       "Cl.thickness        0\n",
       "Cell.size           0\n",
       "Cell.shape          0\n",
       "Marg.adhesion       0\n",
       "Epith.c.size        0\n",
       "Bare.nuclei        16\n",
       "Bl.cromatin         0\n",
       "Normal.nucleoli     0\n",
       "Mitoses             0\n",
       "Class               0\n",
       "dtype: int64"
      ]
     },
     "execution_count": 11,
     "metadata": {},
     "output_type": "execute_result"
    }
   ],
   "source": [
    "df.isnull().sum()"
   ]
  },
  {
   "cell_type": "code",
   "execution_count": 14,
   "metadata": {},
   "outputs": [
    {
     "data": {
      "text/plain": [
       "<AxesSubplot:xlabel='Bare.nuclei'>"
      ]
     },
     "execution_count": 14,
     "metadata": {},
     "output_type": "execute_result"
    },
    {
     "data": {
      "image/png": "[encoded data removed]",
      "text/plain": [
       "<Figure size 640x480 with 1 Axes>"
      ]
     },
     "metadata": {},
     "output_type": "display_data"
    }
   ],
   "source": [
    "sns.boxplot(x=df[\"Bare.nuclei\"])"
   ]
  },
  {
   "cell_type": "code",
   "execution_count": 15,
   "metadata": {},
   "outputs": [],
   "source": [
    "df[\"Bare.nuclei\"] = df[\"Bare.nuclei\"].fillna(df[\"Bare.nuclei\"].mean())"
   ]
  },
  {
   "cell_type": "code",
   "execution_count": 16,
   "metadata": {},
   "outputs": [
    {
     "name": "stdout",
     "output_type": "stream",
     "text": [
      "<class 'pandas.core.frame.DataFrame'>\n",
      "RangeIndex: 699 entries, 0 to 698\n",
      "Data columns (total 10 columns):\n",
      " #   Column           Non-Null Count  Dtype  \n",
      "---  ------           --------------  -----  \n",
      " 0   Cl.thickness     699 non-null    int64  \n",
      " 1   Cell.size        699 non-null    int64  \n",
      " 2   Cell.shape       699 non-null    int64  \n",
      " 3   Marg.adhesion    699 non-null    int64  \n",
      " 4   Epith.c.size     699 non-null    int64  \n",
      " 5   Bare.nuclei      699 non-null    float64\n",
      " 6   Bl.cromatin      699 non-null    int64  \n",
      " 7   Normal.nucleoli  699 non-null    int64  \n",
      " 8   Mitoses          699 non-null    int64  \n",
      " 9   Class            699 non-null    int64  \n",
      "dtypes: float64(1), int64(9)\n",
      "memory usage: 54.7 KB\n"
     ]
    }
   ],
   "source": [
    "df.info()"
   ]
  },
  {
   "cell_type": "code",
   "execution_count": 17,
   "metadata": {},
   "outputs": [],
   "source": [
    "# Corr Matrix"
   ]
  },
  {
   "cell_type": "code",
   "execution_count": 20,
   "metadata": {},
   "outputs": [
    {
     "data": {
      "text/html": [
       "<div>\n",
       "<style scoped>\n",
       "    .dataframe tbody tr th:only-of-type {\n",
       "        vertical-align: middle;\n",
       "    }\n",
       "\n",
       "    .dataframe tbody tr th {\n",
       "        vertical-align: top;\n",
       "    }\n",
       "\n",
       "    .dataframe thead th {\n",
       "        text-align: right;\n",
       "    }\n",
       "</style>\n",
       "<table border=\"1\" class=\"dataframe\">\n",
       "  <thead>\n",
       "    <tr style=\"text-align: right;\">\n",
       "      <th></th>\n",
       "      <th>Cl.thickness</th>\n",
       "      <th>Cell.size</th>\n",
       "      <th>Cell.shape</th>\n",
       "      <th>Marg.adhesion</th>\n",
       "      <th>Epith.c.size</th>\n",
       "      <th>Bare.nuclei</th>\n",
       "      <th>Bl.cromatin</th>\n",
       "      <th>Normal.nucleoli</th>\n",
       "      <th>Mitoses</th>\n",
       "      <th>Class</th>\n",
       "    </tr>\n",
       "  </thead>\n",
       "  <tbody>\n",
       "    <tr>\n",
       "      <th>Cl.thickness</th>\n",
       "      <td>1.000000</td>\n",
       "      <td>0.666463</td>\n",
       "      <td>0.664121</td>\n",
       "      <td>0.541593</td>\n",
       "      <td>0.583979</td>\n",
       "      <td>0.575350</td>\n",
       "      <td>0.538093</td>\n",
       "      <td>0.570398</td>\n",
       "      <td>0.418717</td>\n",
       "      <td>0.682452</td>\n",
       "    </tr>\n",
       "    <tr>\n",
       "      <th>Cell.size</th>\n",
       "      <td>0.666463</td>\n",
       "      <td>1.000000</td>\n",
       "      <td>0.891904</td>\n",
       "      <td>0.742517</td>\n",
       "      <td>0.787159</td>\n",
       "      <td>0.754716</td>\n",
       "      <td>0.719330</td>\n",
       "      <td>0.757199</td>\n",
       "      <td>0.508780</td>\n",
       "      <td>0.855487</td>\n",
       "    </tr>\n",
       "    <tr>\n",
       "      <th>Cell.shape</th>\n",
       "      <td>0.664121</td>\n",
       "      <td>0.891904</td>\n",
       "      <td>1.000000</td>\n",
       "      <td>0.711730</td>\n",
       "      <td>0.759234</td>\n",
       "      <td>0.744729</td>\n",
       "      <td>0.692316</td>\n",
       "      <td>0.725268</td>\n",
       "      <td>0.472749</td>\n",
       "      <td>0.836394</td>\n",
       "    </tr>\n",
       "    <tr>\n",
       "      <th>Marg.adhesion</th>\n",
       "      <td>0.541593</td>\n",
       "      <td>0.742517</td>\n",
       "      <td>0.711730</td>\n",
       "      <td>1.000000</td>\n",
       "      <td>0.667809</td>\n",
       "      <td>0.678587</td>\n",
       "      <td>0.624515</td>\n",
       "      <td>0.634310</td>\n",
       "      <td>0.446992</td>\n",
       "      <td>0.727995</td>\n",
       "    </tr>\n",
       "    <tr>\n",
       "      <th>Epith.c.size</th>\n",
       "      <td>0.583979</td>\n",
       "      <td>0.787159</td>\n",
       "      <td>0.759234</td>\n",
       "      <td>0.667809</td>\n",
       "      <td>1.000000</td>\n",
       "      <td>0.675704</td>\n",
       "      <td>0.639507</td>\n",
       "      <td>0.705997</td>\n",
       "      <td>0.480255</td>\n",
       "      <td>0.762731</td>\n",
       "    </tr>\n",
       "    <tr>\n",
       "      <th>Bare.nuclei</th>\n",
       "      <td>0.575350</td>\n",
       "      <td>0.754716</td>\n",
       "      <td>0.744729</td>\n",
       "      <td>0.678587</td>\n",
       "      <td>0.675704</td>\n",
       "      <td>1.000000</td>\n",
       "      <td>0.669415</td>\n",
       "      <td>0.648848</td>\n",
       "      <td>0.464049</td>\n",
       "      <td>0.818962</td>\n",
       "    </tr>\n",
       "    <tr>\n",
       "      <th>Bl.cromatin</th>\n",
       "      <td>0.538093</td>\n",
       "      <td>0.719330</td>\n",
       "      <td>0.692316</td>\n",
       "      <td>0.624515</td>\n",
       "      <td>0.639507</td>\n",
       "      <td>0.669415</td>\n",
       "      <td>1.000000</td>\n",
       "      <td>0.662309</td>\n",
       "      <td>0.386944</td>\n",
       "      <td>0.740350</td>\n",
       "    </tr>\n",
       "    <tr>\n",
       "      <th>Normal.nucleoli</th>\n",
       "      <td>0.570398</td>\n",
       "      <td>0.757199</td>\n",
       "      <td>0.725268</td>\n",
       "      <td>0.634310</td>\n",
       "      <td>0.705997</td>\n",
       "      <td>0.648848</td>\n",
       "      <td>0.662309</td>\n",
       "      <td>1.000000</td>\n",
       "      <td>0.504140</td>\n",
       "      <td>0.743823</td>\n",
       "    </tr>\n",
       "    <tr>\n",
       "      <th>Mitoses</th>\n",
       "      <td>0.418717</td>\n",
       "      <td>0.508780</td>\n",
       "      <td>0.472749</td>\n",
       "      <td>0.446992</td>\n",
       "      <td>0.480255</td>\n",
       "      <td>0.464049</td>\n",
       "      <td>0.386944</td>\n",
       "      <td>0.504140</td>\n",
       "      <td>1.000000</td>\n",
       "      <td>0.526766</td>\n",
       "    </tr>\n",
       "    <tr>\n",
       "      <th>Class</th>\n",
       "      <td>0.682452</td>\n",
       "      <td>0.855487</td>\n",
       "      <td>0.836394</td>\n",
       "      <td>0.727995</td>\n",
       "      <td>0.762731</td>\n",
       "      <td>0.818962</td>\n",
       "      <td>0.740350</td>\n",
       "      <td>0.743823</td>\n",
       "      <td>0.526766</td>\n",
       "      <td>1.000000</td>\n",
       "    </tr>\n",
       "  </tbody>\n",
       "</table>\n",
       "</div>"
      ],
      "text/plain": [
       "                 Cl.thickness  Cell.size  Cell.shape  Marg.adhesion  \\\n",
       "Cl.thickness         1.000000   0.666463    0.664121       0.541593   \n",
       "Cell.size            0.666463   1.000000    0.891904       0.742517   \n",
       "Cell.shape           0.664121   0.891904    1.000000       0.711730   \n",
       "Marg.adhesion        0.541593   0.742517    0.711730       1.000000   \n",
       "Epith.c.size         0.583979   0.787159    0.759234       0.667809   \n",
       "Bare.nuclei          0.575350   0.754716    0.744729       0.678587   \n",
       "Bl.cromatin          0.538093   0.719330    0.692316       0.624515   \n",
       "Normal.nucleoli      0.570398   0.757199    0.725268       0.634310   \n",
       "Mitoses              0.418717   0.508780    0.472749       0.446992   \n",
       "Class                0.682452   0.855487    0.836394       0.727995   \n",
       "\n",
       "                 Epith.c.size  Bare.nuclei  Bl.cromatin  Normal.nucleoli  \\\n",
       "Cl.thickness         0.583979     0.575350     0.538093         0.570398   \n",
       "Cell.size            0.787159     0.754716     0.719330         0.757199   \n",
       "Cell.shape           0.759234     0.744729     0.692316         0.725268   \n",
       "Marg.adhesion        0.667809     0.678587     0.624515         0.634310   \n",
       "Epith.c.size         1.000000     0.675704     0.639507         0.705997   \n",
       "Bare.nuclei          0.675704     1.000000     0.669415         0.648848   \n",
       "Bl.cromatin          0.639507     0.669415     1.000000         0.662309   \n",
       "Normal.nucleoli      0.705997     0.648848     0.662309         1.000000   \n",
       "Mitoses              0.480255     0.464049     0.386944         0.504140   \n",
       "Class                0.762731     0.818962     0.740350         0.743823   \n",
       "\n",
       "                  Mitoses     Class  \n",
       "Cl.thickness     0.418717  0.682452  \n",
       "Cell.size        0.508780  0.855487  \n",
       "Cell.shape       0.472749  0.836394  \n",
       "Marg.adhesion    0.446992  0.727995  \n",
       "Epith.c.size     0.480255  0.762731  \n",
       "Bare.nuclei      0.464049  0.818962  \n",
       "Bl.cromatin      0.386944  0.740350  \n",
       "Normal.nucleoli  0.504140  0.743823  \n",
       "Mitoses          1.000000  0.526766  \n",
       "Class            0.526766  1.000000  "
      ]
     },
     "execution_count": 20,
     "metadata": {},
     "output_type": "execute_result"
    }
   ],
   "source": [
    "corr = df.corr(method=\"spearman\")\n",
    "corr"
   ]
  },
  {
   "cell_type": "code",
   "execution_count": 22,
   "metadata": {},
   "outputs": [
    {
     "data": {
      "text/plain": [
       "<AxesSubplot:>"
      ]
     },
     "execution_count": 22,
     "metadata": {},
     "output_type": "execute_result"
    },
    {
     "data": {
      "image/png": "[encoded data removed]",
      "text/plain": [
       "<Figure size 1400x400 with 2 Axes>"
      ]
     },
     "metadata": {},
     "output_type": "display_data"
    }
   ],
   "source": [
    "plt.figure(figsize=(14,4))\n",
    "sns.heatmap(corr,annot=True)"
   ]
  },
  {
   "cell_type": "code",
   "execution_count": 23,
   "metadata": {},
   "outputs": [],
   "source": [
    "X = df.drop([\"Class\"], axis=1)\n",
    "Y = df[\"Class\"]"
   ]
  },
  {
   "cell_type": "code",
   "execution_count": 24,
   "metadata": {},
   "outputs": [],
   "source": [
    "from sklearn.model_selection import train_test_split\n"
   ]
  },
  {
   "cell_type": "code",
   "execution_count": 26,
   "metadata": {},
   "outputs": [],
   "source": [
    "X_train, X_test, Y_train, Y_test = train_test_split(X,Y, test_size=0.2, random_state=100, stratify=Y)"
   ]
  },
  {
   "cell_type": "code",
   "execution_count": 28,
   "metadata": {},
   "outputs": [],
   "source": [
    "from sklearn.linear_model import LogisticRegression\n",
    "lr = LogisticRegression(class_weight='balanced')"
   ]
  },
  {
   "cell_type": "code",
   "execution_count": 29,
   "metadata": {},
   "outputs": [
    {
     "data": {
      "text/plain": [
       "LogisticRegression(class_weight='balanced')"
      ]
     },
     "execution_count": 29,
     "metadata": {},
     "output_type": "execute_result"
    }
   ],
   "source": [
    "lr.fit(X_train, Y_train)"
   ]
  },
  {
   "cell_type": "code",
   "execution_count": 30,
   "metadata": {},
   "outputs": [],
   "source": [
    "Y_pred_training = lr.predict(X_train)"
   ]
  },
  {
   "cell_type": "code",
   "execution_count": 31,
   "metadata": {},
   "outputs": [],
   "source": [
    "Y_pred_test = lr.predict(X_test)"
   ]
  },
  {
   "cell_type": "code",
   "execution_count": 32,
   "metadata": {},
   "outputs": [],
   "source": [
    "from sklearn.metrics import accuracy_score,confusion_matrix,classification_report,roc_auc_score"
   ]
  },
  {
   "cell_type": "code",
   "execution_count": 33,
   "metadata": {},
   "outputs": [
    {
     "name": "stdout",
     "output_type": "stream",
     "text": [
      "0.9749552772808586\n"
     ]
    }
   ],
   "source": [
    "print(accuracy_score(Y_train, Y_pred_training))"
   ]
  },
  {
   "cell_type": "code",
   "execution_count": 34,
   "metadata": {},
   "outputs": [
    {
     "name": "stdout",
     "output_type": "stream",
     "text": [
      "0.9642857142857143\n"
     ]
    }
   ],
   "source": [
    "print(accuracy_score(Y_test, Y_pred_test))"
   ]
  },
  {
   "attachments": {},
   "cell_type": "markdown",
   "metadata": {},
   "source": [
    "# KNN Method"
   ]
  },
  {
   "cell_type": "code",
   "execution_count": 35,
   "metadata": {},
   "outputs": [],
   "source": [
    "from sklearn.neighbors import KNeighborsClassifier\n",
    "from sklearn.neighbors import KNeighborsRegressor"
   ]
  },
  {
   "cell_type": "code",
   "execution_count": 36,
   "metadata": {},
   "outputs": [],
   "source": [
    "knn= KNeighborsClassifier()"
   ]
  },
  {
   "cell_type": "code",
   "execution_count": 37,
   "metadata": {},
   "outputs": [
    {
     "data": {
      "text/plain": [
       "KNeighborsClassifier()"
      ]
     },
     "execution_count": 37,
     "metadata": {},
     "output_type": "execute_result"
    }
   ],
   "source": [
    "knn.fit(X_train, Y_train)"
   ]
  },
  {
   "cell_type": "code",
   "execution_count": 39,
   "metadata": {},
   "outputs": [],
   "source": [
    "Y_pred_knn = knn.predict(X_test)"
   ]
  },
  {
   "cell_type": "code",
   "execution_count": 40,
   "metadata": {},
   "outputs": [
    {
     "name": "stdout",
     "output_type": "stream",
     "text": [
      "0.9714285714285714\n"
     ]
    }
   ],
   "source": [
    "print(accuracy_score(Y_test, Y_pred_knn))"
   ]
  },
  {
   "cell_type": "code",
   "execution_count": 42,
   "metadata": {},
   "outputs": [
    {
     "name": "stdout",
     "output_type": "stream",
     "text": [
      "              precision    recall  f1-score   support\n",
      "\n",
      "           0       0.98      0.98      0.98        92\n",
      "           1       0.96      0.96      0.96        48\n",
      "\n",
      "    accuracy                           0.97       140\n",
      "   macro avg       0.97      0.97      0.97       140\n",
      "weighted avg       0.97      0.97      0.97       140\n",
      "\n"
     ]
    }
   ],
   "source": [
    "print(classification_report(Y_test, Y_pred_knn))"
   ]
  },
  {
   "cell_type": "code",
   "execution_count": null,
   "metadata": {},
   "outputs": [],
   "source": [
    "accuracy = []\n",
    "for k in range(1,50):\n",
    "    knn = KNeighborsClassifier(n_neighbors=k)\n",
    "    "
   ]
  },
  {
   "cell_type": "code",
   "execution_count": null,
   "metadata": {},
   "outputs": [],
   "source": []
  }
 ],
 "metadata": {
  "kernelspec": {
   "display_name": "base",
   "language": "python",
   "name": "python3"
  },
  "language_info": {
   "codemirror_mode": {
    "name": "ipython",
    "version": 3
   },
   "file_extension": ".py",
   "mimetype": "text/x-python",
   "name": "python",
   "nbconvert_exporter": "python",
   "pygments_lexer": "ipython3",
   "version": "3.9.13"
  },
  "orig_nbformat": 4
 },
 "nbformat": 4,
 "nbformat_minor": 2
}
