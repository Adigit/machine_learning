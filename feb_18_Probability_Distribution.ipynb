{
 "cells": [
  {
   "cell_type": "markdown",
   "id": "716cdb77",
   "metadata": {},
   "source": [
    "# Probability Distribution"
   ]
  },
  {
   "cell_type": "code",
   "execution_count": null,
   "id": "59c2b887",
   "metadata": {},
   "outputs": [],
   "source": [
    "\"\"\"A Probability Distribution is a statistical method that determines \n",
    "all the probable values and possibilities that a random variable \n",
    "can deliver from a particular range. This range of values will have a \n",
    "lower bound and an upper bound, which we call the minimum and the maximum possible values.\n",
    "\"\"\""
   ]
  },
  {
   "cell_type": "code",
   "execution_count": null,
   "id": "2cbe95e8",
   "metadata": {},
   "outputs": [],
   "source": [
    "\"\"\"\n",
    "Significance of Probability distributions in Data Science :-\n",
    "\n",
    "In a way, most of the data science and machine learning operations \n",
    "are dependent on several assumptions about the probability of your data. \n",
    "Probability distribution allows a skilled data analyst to recognize and \n",
    "comprehend patterns from large data sets; that is, otherwise, entirely \n",
    "random variables and values. Thus, it makes probability distribution a \n",
    "toolkit based on which we can summarize a large data set. \n",
    "\n",
    "The density function and distribution techniques can also help in plotting data, \n",
    "thus supporting data analysts to visualize data and extract meaning. \n",
    "\n",
    "\"\"\""
   ]
  },
  {
   "cell_type": "code",
   "execution_count": null,
   "id": "1046fe34",
   "metadata": {},
   "outputs": [],
   "source": [
    "\"\"\"\n",
    "General Properties of Probability Distributions \n",
    "Probability distribution determines the likelihood of any outcome. \n",
    "The mathematical expression takes a specific value of x and shows the possibility \n",
    "of a random variable with p(x). Some general properties of the probability distribution are – \n",
    "\n",
    "The total of all probabilities for any possible value becomes equal to 1. \n",
    "In a probability distribution, the possibility of finding any specific \n",
    "value or a range of values must lie between 0 and 1. \n",
    "Probability distributions tell us the dispersal of the values from the random variable. \n",
    "Consequently, the type of variable also helps determine the type of probability distribution.\n",
    "\n",
    "\"\"\""
   ]
  },
  {
   "cell_type": "code",
   "execution_count": 2,
   "id": "c16124ef",
   "metadata": {},
   "outputs": [],
   "source": [
    "import os\n",
    "\n",
    "os.getcwd()\n",
    "\n",
    "import numpy as np\n",
    "import pandas as pd\n",
    "\n"
   ]
  },
  {
   "cell_type": "code",
   "execution_count": null,
   "id": "2fe1f0b0",
   "metadata": {},
   "outputs": [],
   "source": [
    "\"\"\"A random variable, usually denoted as X, is a variable whose values are \n",
    "numerical outcomes of some random process. There are two types of random variables: \n",
    "    discrete and continuous.\n",
    "\n",
    "Discrete Random Variables\n",
    "\n",
    "A discrete random variable is one which can take on only a countable \n",
    "number of distinct values like 0, 1, 2, 3, 4, 5…100, 1 million, etc. \n",
    "Some examples of discrete random variables include:\n",
    "\n",
    "The number of times a coin lands on tails after being flipped 20 times.\n",
    "The number of times a dice lands on the number 4 after being rolled 100 times.\n",
    "Continuous Random Variables\n",
    "\n",
    "A continuous random variable is one which can take on an infinite number \n",
    "of possible values. Some examples of continuous random variables include:\n",
    "\n",
    "Height of a person\n",
    "Weight of an animal\n",
    "Time required to run a mile\"\"\""
   ]
  },
  {
   "cell_type": "code",
   "execution_count": null,
   "id": "46d619a8",
   "metadata": {},
   "outputs": [],
   "source": [
    "\"\"\"\n",
    "Probability Density Functions\n",
    "A probability density function (pdf) tells us the probability that a random \n",
    "variable takes on a certain value.\n",
    "\n",
    "For example, suppose we roll a dice one time. If we let x denote the number \n",
    "that the dice lands on, then the probability density function for the outcome \n",
    "can be described as follows:\n",
    "\n",
    "P(x < 1) : 0\n",
    "\n",
    "P(x = 1) : 1/6\n",
    "\n",
    "P(x = 2) : 1/6\n",
    "\n",
    "P(x = 3) : 1/6\n",
    "P(x = 4) : 1/6\n",
    "\n",
    "P(x = 5) : 1/6\n",
    "\n",
    "P(x = 6) : 1/6\n",
    "\n",
    "P(x > 6) : 0\n",
    "Note that this is an example of a discrete random variable, \n",
    "since x can only take on integer values.\n",
    "\"\"\""
   ]
  },
  {
   "cell_type": "code",
   "execution_count": null,
   "id": "ab005e80",
   "metadata": {},
   "outputs": [],
   "source": [
    "\"\"\"\n",
    "For a continuous random variable, we cannot use a PDF directly, \n",
    "since the probability that x takes on any exact value is zero.\n",
    "\n",
    "For example, suppose we want to know the probability that a burger \n",
    "from a particular restaurant weighs a quarter-pound (0.25 lbs). Since weight is a \n",
    "continuous variable, it can take on an infinite number of values.\n",
    "\n",
    "For example, a given burger might actually weight 0.250001 pounds, \n",
    "or 0.24 pounds, or 0.2488 pounds. The probability that a given burger \n",
    "weights exactly .25 pounds is essentially zero.\n",
    "\"\"\""
   ]
  },
  {
   "cell_type": "code",
   "execution_count": null,
   "id": "3cfaeb83",
   "metadata": {},
   "outputs": [],
   "source": [
    "\"\"\"\n",
    "Cumulative Distribution Functions\n",
    "A cumulative distribution function (cdf) tells us the probability that \n",
    "a random variable takes on a value less than or equal to x.\n",
    "\n",
    "For example, suppose we roll a dice one time. If we let x denote the number \n",
    "that the dice lands on, then the cumulative distribution function for the outcome \n",
    "can be described as follows:\n",
    "\n",
    "P(x ≤ 0) : 0\n",
    "\n",
    "P(x ≤ 1) : 1/6\n",
    "\n",
    "P(x ≤ 2) : 2/6\n",
    "\n",
    "P(x ≤ 3) : 3/6\n",
    "\n",
    "P(x ≤ 4) : 4/6\n",
    "\n",
    "P(x ≤ 5) : 5/6\n",
    "\n",
    "P(x ≤ 6) : 6/6\n",
    "\n",
    "P(x > 6) : 0\n",
    "\n",
    "\"\"\""
   ]
  },
  {
   "cell_type": "code",
   "execution_count": null,
   "id": "4d1529c1",
   "metadata": {},
   "outputs": [],
   "source": [
    "\"\"\"\n",
    "Notice that the probability that x is less than or equal to 6 is 6/6, \n",
    "which is equal to 1. This is because the dice will land on either 1, 2, 3, 4, 5, or 6 \n",
    "with 100% probability.\n",
    "\n",
    "This example uses a discrete random variable, but a continuous density function \n",
    "can also be used for a continuous random variable.\n",
    "\n",
    "Cumulative distribution functions have the following properties:\n",
    "\n",
    "The probability that a random variable takes on a value less than the smallest \n",
    "possible value is zero. For example, the probability that a dice lands on a value \n",
    "less than 1 is zero.\n",
    "The probability that a random variable takes on a value less than or equal to \n",
    "the largest possible value is one. For example, the probability that a dice \n",
    "lands on a value of 1, 2, 3, 4, 5, or 6 is one. It must land on one of those numbers.\n",
    "The cdf is always non-decreasing. That is, the probability that a dice lands on a \n",
    "number less than or equal to 1 is 1/6, the probability that it lands on a number \n",
    "less than or equal to 2 is 2/6, the probability that it lands on a number less\n",
    "than or equal to 3 is 3/6, etc. The cumulative probabilities are always non-decreasing.\n",
    "\n",
    "\"\"\""
   ]
  },
  {
   "cell_type": "code",
   "execution_count": null,
   "id": "7c2979cf",
   "metadata": {},
   "outputs": [],
   "source": [
    "\"\"\"\n",
    "The Relationship Between a CDF and a PDF\n",
    "In technical terms, a probability density function (pdf) \n",
    "is the derivative of a cumulative distribution function (cdf). \n",
    "\n",
    "Furthermore, the area under the curve of a pdf between negative \n",
    "infinity and x is equal to the value of x on the cdf.\n",
    "\n",
    "For an in-depth explanation of the relationship between a pdf and a cdf, \n",
    "along with the proof for why the pdf is the derivative of the cdf, \n",
    "refer to a statistical textbook.\n",
    "\"\"\""
   ]
  },
  {
   "cell_type": "markdown",
   "id": "ffe906b7",
   "metadata": {},
   "source": [
    "# Type of distribution"
   ]
  },
  {
   "cell_type": "code",
   "execution_count": null,
   "id": "5f678cb8",
   "metadata": {},
   "outputs": [],
   "source": [
    "\"\"\"\n",
    "dataset can consist of two types of data elements:\n",
    "\n",
    "Numerical(integers, float, etc): This type of data can \n",
    "further be categorized into two types:\n",
    "\n",
    "Discrete: This type of numerical data can be only a certain value \n",
    "like the number of apples in the basket and number of people in a team, etc.\n",
    "\n",
    "Discrete data: They take specific values where the outcome of the data remains fixed. \n",
    "Like, for example, the consequence of rolling two dice or the number of overs in a T-20 match. \n",
    "In the first case, the result lies between 2 and 12. In the second case, the event \n",
    "will be less than 20. \n",
    "\n",
    "Continuous: This type of numerical data can be real or fractional values, \n",
    "for example, the height of the tree, the width of the tree, etc. \n",
    "It can obtain any value irrespective of bound or limit. Example: weight, height, \n",
    "any trigonometric value, age etc.\n",
    "\n",
    "Categorical (names, labels, etc): It can be the categories such as gender, state, etc.\n",
    "\n",
    "\n",
    "\n",
    "\n",
    "\"\"\""
   ]
  },
  {
   "cell_type": "code",
   "execution_count": null,
   "id": "2c9eae70",
   "metadata": {},
   "outputs": [],
   "source": [
    "\"\"\"\n",
    "\n",
    "\n",
    "There are different types of probability distribution for machine learning projects. \n",
    "This is important because certain ML models assume specific probability distribution \n",
    "of the underlying data to work efficiently so this knowledge will help us to \n",
    "choose the right model. Also, the knowledge of probability distribution will help \n",
    " to understand the characteristics of data during the \n",
    "exploratory data analysis (EDA) phase.\n",
    "some of the popular types of Probability distributions\n",
    "\n",
    "continuous Probability Distribution:-\n",
    "(1)Normal Distribution\n",
    "(2)Bernouli Distribution\n",
    "(3)Continuous Uniform Distribution\n",
    "(4)Log-Normal Distribution\n",
    "\n",
    "\n",
    "Types of Discrete prabability distribution:-\n",
    "(1)Binomial Distribution\n",
    "(2)Geometric Distribution\n",
    "(3)Poisson Distribution\n",
    "(4)Multinomial Distribution\n",
    "(5)Negative Binomial Distribution\n",
    "\n",
    "\n",
    "\n",
    "\"\"\""
   ]
  },
  {
   "cell_type": "markdown",
   "id": "b4113e86",
   "metadata": {},
   "source": [
    "# probability mass function"
   ]
  },
  {
   "cell_type": "code",
   "execution_count": null,
   "id": "d5efa01e",
   "metadata": {},
   "outputs": [],
   "source": [
    "\"\"\"\n",
    "Using the discrete random variables from the dataset \n",
    "we can calculate the probability mass function PMF\"\"\"\n"
   ]
  },
  {
   "cell_type": "markdown",
   "id": "01d54cfc",
   "metadata": {},
   "source": [
    "# probability density function PDF. "
   ]
  },
  {
   "cell_type": "code",
   "execution_count": null,
   "id": "7d414292",
   "metadata": {},
   "outputs": [],
   "source": [
    "#using the continuous random variable we can calculate the probability density function PDF. "
   ]
  },
  {
   "attachments": {
    "Probability_density_function.png": {
     "image/png": "[encoded data removed]"
    }
   },
   "cell_type": "markdown",
   "id": "fdec0569",
   "metadata": {},
   "source": [
    "![Probability_density_function.png](attachment:Probability_density_function.png)# "
   ]
  },
  {
   "cell_type": "code",
   "execution_count": null,
   "id": "5409c332",
   "metadata": {},
   "outputs": [],
   "source": [
    "#Probability density function:also call it continuous probability distribution."
   ]
  },
  {
   "cell_type": "markdown",
   "id": "c058d2bb",
   "metadata": {},
   "source": [
    "# Normal (Gaussian) Distribution"
   ]
  },
  {
   "cell_type": "code",
   "execution_count": null,
   "id": "93d7dcad",
   "metadata": {},
   "outputs": [],
   "source": [
    "\"\"\"\n",
    "Normal (Gaussian) Distribution\n",
    "The Normal Distribution is one of the most important distributions.\n",
    "This probability distribution is symmetrical around its mean value. \n",
    "Most of the real-world scenarios can be represented with Normal \n",
    "Probability Distribution.\n",
    "\n",
    "The normal distribution can be mathematically represented as, \n",
    "where µ is mean and σ is the standard deviation.\n",
    "\n",
    "It fits the probability distribution of many events, eg. IQ Scores, Heartbeat etc.\n",
    "\"\"\""
   ]
  },
  {
   "cell_type": "code",
   "execution_count": 2,
   "id": "3ceb0a20",
   "metadata": {},
   "outputs": [
    {
     "name": "stdout",
     "output_type": "stream",
     "text": [
      "[ 4.66820402e-01 -5.97415642e-01 -1.75947403e+00 -1.34276764e+00\n",
      " -4.15470498e-01  4.24088245e-01 -1.65854769e+00 -1.45287550e-01\n",
      " -1.93351260e-01  1.12824666e+00 -1.15914414e+00  9.76669312e-02\n",
      "  2.85329397e-01  1.34358983e+00  8.02028329e-02  1.88207397e+00\n",
      " -1.71563698e+00  7.19277401e-01  1.49886210e+00 -1.50471172e+00\n",
      " -1.41523958e-01  7.69308901e-02  1.51116271e-01  1.10428035e+00\n",
      "  1.26029866e+00 -1.77107749e-01  2.32708350e-01  1.29262320e-01\n",
      "  3.45550725e-01  5.24075014e-01  3.28924612e-01  9.02729384e-01\n",
      "  1.31185747e+00 -1.74171370e+00 -8.64134665e-01  6.86566447e-01\n",
      " -1.74063089e+00  8.47216693e-01  4.67810350e-01  1.50805536e+00\n",
      " -4.63735955e-01  1.88960358e+00  1.46365961e+00 -9.03375677e-01\n",
      " -9.57193551e-01 -1.50638860e+00 -3.20406457e-01 -7.51761553e-02\n",
      " -6.28721040e-01 -3.14377401e-01 -9.01770194e-01 -1.87927320e+00\n",
      " -1.62514800e+00  2.71536323e-01 -1.63526744e-01 -2.69073459e-01\n",
      "  2.19876990e-01  1.39940233e+00 -7.26188283e-01  1.30723968e+00\n",
      " -2.45875911e+00  3.83330155e-01 -6.09274214e-01  1.41108083e+00\n",
      " -6.11334131e-01 -1.10942364e+00  6.87996334e-02 -2.82595554e-01\n",
      " -1.19143012e+00 -9.37547909e-01 -1.40093027e+00  6.99343173e-01\n",
      "  2.34874041e+00 -3.94585229e-01 -8.54808922e-01 -1.62467278e-01\n",
      "  6.72488592e-01 -1.05033653e+00 -8.23887661e-01  1.78909212e+00\n",
      "  1.85534582e+00 -7.77002856e-01  4.19293512e-01  1.31460916e+00\n",
      "  9.67085278e-01  1.00042600e-01 -2.26239687e+00  1.47828057e+00\n",
      " -4.43526872e-01 -9.10324485e-01  1.45932885e-01 -1.04048208e-01\n",
      "  8.55942533e-01 -3.96832061e-01  2.96890332e-02  2.15810125e-01\n",
      " -1.28794977e-01  3.23919676e-01  1.22881996e+00  2.21625596e-01\n",
      " -2.51090727e+00 -7.12573195e-01 -1.09244089e+00 -8.16122768e-01\n",
      " -8.62580035e-02  1.34905685e-01 -4.28378620e-01  4.63919670e-01\n",
      " -2.04232981e+00 -1.06288167e+00 -4.66429939e-01 -1.13303572e+00\n",
      "  2.16658698e-01 -3.11520941e-01 -4.84352133e-01  1.44966448e-01\n",
      " -1.28777814e+00 -8.04034393e-01  4.33605987e-01  1.09290323e+00\n",
      "  7.55675394e-01  1.39938774e+00  7.23433855e-01  3.28561168e-01\n",
      " -1.72450321e+00 -8.50664507e-01 -2.05457855e+00 -5.42585541e-01\n",
      " -1.11385505e+00 -3.46447179e-01  7.23773609e-01  9.14697318e-01\n",
      "  5.02702752e-01 -9.73847370e-01 -7.38422460e-01  3.78457910e-02\n",
      "  5.61647065e-01 -4.27050195e-01 -1.10148050e+00 -6.03490031e-01\n",
      " -4.13485929e-01 -1.03725817e+00 -1.30885811e-01  2.01753913e+00\n",
      " -1.26572581e+00  1.13910194e+00  1.01413657e-02  9.68738974e-01\n",
      " -2.09787154e+00  4.91119069e-01  3.27954823e-01  1.46698577e-01\n",
      "  5.53042546e-01 -1.65544735e-01  6.10858221e-01  8.05249904e-02\n",
      " -1.68453566e-02 -1.60818537e-01 -1.52299050e-01  8.96771699e-01\n",
      " -4.80064851e-01 -1.93254360e-01  5.25424614e-01 -1.29678452e+00\n",
      " -4.06852439e-01 -9.38932310e-01 -1.08427956e+00  8.84773802e-01\n",
      "  6.27520769e-01 -4.51800756e-01 -9.43922033e-02  1.72363511e-01\n",
      "  2.73554693e-01  1.20092956e+00  7.68603882e-01  1.15013152e-01\n",
      "  1.29331061e+00 -1.33751384e+00 -6.24342163e-01 -1.40732636e+00\n",
      " -2.55873967e-02 -6.06638466e-01 -2.83125755e-01  5.89006619e-01\n",
      " -1.33172132e-02  2.59900523e-01 -4.50886922e-01  9.28762623e-01\n",
      " -1.01840261e+00 -1.27953265e+00 -7.86080756e-01  5.26861435e-01\n",
      "  2.10692891e-01  1.53371463e-01 -7.38816592e-01 -1.01957811e+00\n",
      "  8.19089784e-01 -2.15901559e+00  2.19178850e-01 -1.48453011e+00\n",
      " -1.25128470e+00  1.09876787e+00  2.88303449e-01 -5.85824760e-01\n",
      "  1.32451212e+00 -1.79249339e+00 -9.51266391e-01  9.98578045e-02\n",
      " -5.01460100e-01 -1.97242465e+00  1.33227636e+00  7.86268403e-01\n",
      "  6.92260355e-01  1.23166503e+00  1.11105237e+00 -7.69031519e-02\n",
      "  5.81895173e-01 -1.29577116e+00 -4.91973443e-01  1.51299497e-01\n",
      " -4.52891645e-01 -2.59454712e-01 -3.54985460e-01  6.94584430e-01\n",
      "  1.35068060e+00  3.18249678e-01  7.27601132e-01  5.86523806e-01\n",
      " -2.13956525e+00  3.94600459e-01  1.06156868e+00  1.91534782e-01\n",
      " -7.73082144e-02 -1.51466542e+00  6.06262127e-01  1.67375299e+00\n",
      " -1.16047490e+00 -3.25682904e-02  1.74572707e+00 -1.25356729e+00\n",
      " -9.60191577e-02  3.99258830e-01 -1.88311347e+00  4.87198668e-01\n",
      "  3.16614380e-04 -1.69942576e-01  1.34059112e+00 -1.02824917e+00\n",
      " -1.91616030e-01 -2.07506465e+00 -1.89042903e+00 -1.67950733e-01\n",
      "  1.71794362e+00  6.46952789e-01  4.92907231e-01  1.40863645e+00\n",
      " -1.46431862e+00 -1.59855038e+00  3.33617460e-01 -1.97920127e-02\n",
      " -4.72585878e-01 -1.55106445e-01 -6.38502360e-01  3.46613307e-01\n",
      " -1.15994574e+00 -2.49755822e-01 -2.14926322e-01 -2.43710173e-01\n",
      "  8.87944237e-01 -1.94526002e-01  1.25760679e+00 -7.12552293e-01\n",
      "  1.23072207e+00 -7.81254513e-01 -1.06949100e+00  1.15635771e+00\n",
      " -6.53832170e-01  1.34577706e+00 -1.73567231e+00  5.76480743e-01\n",
      "  1.34958042e+00 -4.91067557e-02 -2.98698154e-01 -8.55969821e-01\n",
      " -1.35547680e-01  3.44979929e-01  6.85453306e-01 -7.56757875e-01\n",
      "  2.91062218e-01  3.23786224e-01 -5.15374208e-03 -2.98747605e-01\n",
      "  1.63502592e-03 -1.72877749e-01  1.69119904e+00  5.58025922e-01\n",
      "  3.49226087e-01 -8.42689381e-01 -1.46287123e+00 -4.10488701e-01\n",
      " -1.17590171e+00  4.85163760e-02  1.11585241e+00 -8.66032602e-01\n",
      " -1.67013767e+00 -2.19516342e+00 -5.77037507e-01 -2.78697932e-01\n",
      " -1.98665297e+00  6.15175863e-01 -1.26285494e+00 -2.50934572e-01\n",
      " -8.64583684e-01  1.23856239e+00  6.51138575e-01  4.30681951e-01\n",
      "  1.40808700e+00  1.54115701e+00  4.82822111e-02 -1.46406777e-02\n",
      "  4.97832367e-01 -7.47790586e-01 -1.33845200e+00  1.18010929e-02\n",
      " -7.12280390e-01  7.97021598e-01  7.26253967e-01  8.04223302e-01\n",
      " -4.44349779e-02 -9.88672506e-01  1.23702607e+00 -6.21031913e-01\n",
      "  6.87866606e-01  1.25158808e+00  1.83017278e-01 -4.94384557e-01\n",
      " -1.21338774e+00 -2.66504708e+00 -2.82073131e+00 -3.99799071e-01\n",
      "  1.38182456e-01  7.02619847e-01  1.41048403e-01 -9.12697075e-01\n",
      "  9.26793450e-01 -1.21328429e-01 -1.25938279e+00 -3.49951650e-01\n",
      "  8.31112479e-01  4.52948954e-01 -2.28311052e+00  3.55408231e-02\n",
      "  8.79890541e-02 -1.13856001e+00 -1.65738811e+00  5.97095920e-01\n",
      "  2.04388652e+00 -1.13354903e-01  8.00615734e-01  4.70020942e-02\n",
      "  1.31951134e-01  6.50580997e-02  3.96067338e-02 -5.72454331e-01\n",
      "  4.91781914e-01 -2.61863069e-01  3.83635392e-01 -8.94832694e-01\n",
      " -8.73877803e-01  1.17456121e+00 -9.44397648e-01  1.32578778e+00\n",
      "  7.32204454e-01  7.11455369e-01  5.46456736e-01  1.13874203e-01\n",
      "  1.67239226e-01  2.20634105e-01  7.55056784e-01 -5.83258879e-01\n",
      " -4.29843065e-02 -1.17308332e+00 -9.74056014e-01  3.94594245e-01\n",
      " -3.04900462e-01 -3.09303215e-01 -3.54447208e-01  4.64876260e-01\n",
      " -2.66428057e-01  2.23736178e-01 -7.25609802e-01 -1.14265772e+00\n",
      " -2.03699817e-01  1.25301739e+00  1.94110903e+00 -5.82032937e-01\n",
      " -1.16273987e+00  8.83548227e-01 -4.18958930e-01  6.79121320e-01\n",
      "  7.63812240e-01 -1.55730074e-01  1.95683874e+00  6.09054154e-01\n",
      "  2.04797967e-01 -4.70577894e-01  2.49271270e-01 -5.11478531e-01\n",
      "  7.43187811e-01 -1.46060189e+00  2.09485167e-01  1.15907453e+00\n",
      "  4.40861498e-02 -1.02420212e+00 -8.21766083e-01 -6.60731628e-01\n",
      "  8.93075002e-01 -4.51182090e-01 -1.69209072e-01  2.04685116e-01\n",
      " -4.70885624e-02 -1.18299268e+00 -1.07744158e+00  3.56080135e-02\n",
      " -3.98045287e-01 -1.81858752e+00  3.18472056e-01  3.30378699e-01\n",
      "  5.56417574e-01 -7.01345171e-01 -2.22169324e+00  1.03883700e-01\n",
      "  7.54928192e-01 -1.11288103e-01  1.39828686e+00 -1.23881789e-01\n",
      " -4.59533089e-01  1.08742419e+00  1.44254912e-01  1.64655723e+00\n",
      "  6.65559345e-02 -1.18133299e+00  7.62119256e-02 -4.54651637e-02\n",
      "  1.75060184e+00 -7.74164849e-01 -2.33613416e+00 -7.81749311e-01\n",
      "  2.35477419e-01 -2.01380900e+00 -1.49701416e-01  1.01155165e+00\n",
      "  3.38723423e-01 -1.30480681e+00 -4.83515682e-01 -6.96814281e-01\n",
      "  8.46270444e-01 -1.15370565e+00 -2.62455882e-01 -3.99689670e-01\n",
      " -8.03956499e-01 -1.42438619e+00  3.34110609e-01 -5.18243133e-01\n",
      " -2.04079712e-01 -4.96473140e-01 -6.43620770e-01 -6.63170378e-01\n",
      "  1.57332373e+00 -3.70524453e-01 -3.11043148e-01  3.78041007e-01\n",
      " -9.50675136e-01 -1.79039950e+00 -5.83135704e-02 -2.83790888e-01\n",
      "  2.42941726e-01 -7.32885699e-01  9.41136249e-01  4.94238417e-01\n",
      " -4.64951837e-01  3.10367520e-01  1.28038712e+00  1.43364522e+00\n",
      "  7.54008916e-01 -3.75587799e-01  2.35463991e-01 -3.33014324e-01\n",
      "  2.28733426e+00  1.34888347e+00 -5.98736122e-01  1.41439659e+00\n",
      "  5.16549174e-01 -4.93383914e-03  1.49352859e+00  1.41850899e+00\n",
      "  1.96116698e-02  1.57106891e+00  7.79854338e-01 -1.41080039e+00\n",
      " -1.20389263e+00 -1.31080655e+00  2.50099897e+00 -8.35775750e-01\n",
      "  1.48186134e+00  2.57515058e-01 -1.19203932e+00 -5.65299728e-01\n",
      "  4.98730352e-01  1.31789040e+00  1.46983801e+00  1.87321603e+00\n",
      "  2.91102327e-01 -2.42449752e-01 -3.30685666e-01  1.24437920e+00\n",
      "  4.07701265e-01 -1.02930750e+00 -3.75109853e-02  1.74613385e+00\n",
      " -8.99201494e-02  1.86756067e+00 -1.05237568e-01  7.88962463e-01\n",
      "  2.48826964e-01 -1.59103610e-02  2.04040072e-01 -6.60321181e-01\n",
      " -3.49254025e-01  5.05929394e-02 -2.59070357e-01 -9.59623061e-01\n",
      " -6.86471567e-01 -2.51952281e-01 -2.75502444e-01 -6.85878256e-01\n",
      "  1.14408524e+00 -1.73057363e-01  5.63692718e-01 -4.82827161e-01\n",
      " -1.04725727e+00  9.36535982e-01  6.92198255e-01  8.43116721e-01\n",
      "  7.55949169e-01  1.56646122e-01 -1.32083927e+00 -8.63328713e-01\n",
      "  1.64258564e+00  5.51668124e-02 -1.83344344e-01  2.77775030e-01\n",
      " -2.65649204e-01  5.65214172e-01 -3.07354568e-01 -6.68540778e-01\n",
      "  3.25584005e-01 -2.14428732e+00  1.14176520e+00  1.75229370e+00\n",
      "  8.23693424e-02 -5.19402260e-01  4.42738644e-01  3.78801930e-04\n",
      " -5.09030070e-01 -1.40925448e+00  1.71378475e+00 -6.01638720e-01\n",
      " -5.15937870e-01  1.27929853e+00 -2.21847060e-01  4.44403755e-01\n",
      "  8.45055171e-01  1.64344900e-01 -2.23290036e-01  1.14652444e+00\n",
      "  1.72267100e-01  3.54621182e-01 -6.99572214e-01 -1.49062399e+00\n",
      "  5.77825975e-01  1.22046413e+00  1.34920607e-01  1.44019548e+00\n",
      " -1.09114917e+00  5.03138134e-01  8.46821226e-01  1.00128740e+00\n",
      " -2.76703118e+00 -3.68284009e-01  6.59196401e-02 -8.04413857e-01\n",
      " -1.22067624e+00  1.46223298e+00  5.40003211e-02 -2.13709119e-01\n",
      "  2.98162594e-02 -5.27880490e-01  4.33511797e-01  2.34730724e-01\n",
      " -5.18133608e-02 -5.32573008e-01  4.58556608e-01 -1.59887102e+00\n",
      " -1.97951794e+00  7.25872823e-01 -5.24286845e-01  1.37767698e+00\n",
      "  1.51594171e+00  1.04029602e+00  4.64609424e-01 -2.43425270e+00\n",
      "  4.38800982e-01  1.42440340e-01  1.05081934e+00  8.52016287e-01\n",
      "  5.43202163e-01 -1.03263546e+00  1.85455927e-01 -7.54323853e-01\n",
      "  1.46770290e+00  8.49015435e-02 -4.40300187e-03 -1.64684414e-01\n",
      "  8.20092212e-01 -8.08405424e-01 -1.05202775e+00 -7.61748389e-04\n",
      " -5.25708269e-01 -1.04487136e+00  5.30150026e-01  2.52607278e-01\n",
      " -8.75582584e-01  5.86162742e-01  1.46754171e+00  2.47723351e-01\n",
      "  1.01102959e+00  1.32472195e+00 -1.19874975e+00  1.69847870e+00\n",
      " -5.64208843e-01 -8.47495881e-01  1.02673119e+00 -8.16745725e-01\n",
      " -1.69098294e+00 -9.50711320e-01  7.36954606e-02 -5.37619849e-01\n",
      " -2.70057345e+00  9.40846460e-01  1.55011519e+00 -2.86040007e-01\n",
      "  1.68781210e+00 -3.41426521e-01 -1.01159557e+00 -7.97112748e-01\n",
      "  9.24818593e-02 -3.24842644e-02  3.65949308e-01  1.18295720e-01\n",
      " -1.19583745e+00 -6.98049693e-01 -3.72206449e-01 -1.78171555e-01\n",
      " -1.37968152e-01  1.45296802e+00  4.30733006e-01 -9.50130560e-01\n",
      "  1.09917301e+00 -1.01243313e+00 -1.72825063e+00  5.87430972e-01\n",
      " -1.18097186e+00 -1.11605923e+00 -7.97085626e-01 -1.60108149e-01\n",
      " -1.34635330e+00 -3.82155153e-03 -2.79511526e+00  1.31457613e+00\n",
      " -1.52459639e+00  2.37104064e-01  3.94089573e-01  5.71902380e-01\n",
      "  1.82984744e+00 -3.78674809e-01 -9.05511083e-01 -3.60371459e-02\n",
      " -6.81423848e-01 -1.10578728e+00 -1.34523947e-01 -5.87958795e-01\n",
      "  6.98780272e-01  2.16202561e+00  1.45633423e-01  1.03545163e+00\n",
      " -1.97497450e+00 -2.51796631e-01 -1.91622686e+00 -7.89281582e-01\n",
      "  8.65802132e-01 -1.43978947e-02  1.02045212e+00  7.58043265e-01\n",
      "  5.22425350e-01  1.14189507e+00  4.47200891e-01 -1.16595032e+00\n",
      " -1.52372894e+00  4.02361317e-01  1.67918474e+00  2.70203871e+00\n",
      " -4.61091660e-02 -3.16489120e-01 -1.57097824e-02 -1.92202959e+00\n",
      "  7.57692395e-01  1.91843527e+00 -3.50376286e-01 -9.69477810e-01\n",
      " -1.14348629e+00  2.10342443e-01 -4.75287943e-01  5.05096539e-01\n",
      "  9.95935573e-01  5.38781317e-01  1.62484507e+00  6.57500298e-01\n",
      " -1.58165711e-01 -1.64165411e-01  8.17073169e-01  1.23692955e+00\n",
      "  4.82177752e-01  8.04967154e-01  9.61134432e-02 -1.43251637e+00\n",
      " -2.72528426e-02 -1.02644859e+00  1.55514626e+00 -6.30396578e-01\n",
      "  4.21822814e-01 -6.79261776e-01  9.40139149e-02  1.01932067e-01\n",
      "  3.86284614e-01 -1.20676610e-01 -7.54680430e-01 -2.71862503e-01\n",
      "  5.28620054e-01 -1.18354595e+00  6.40571700e-01 -1.23743752e+00\n",
      "  1.48242942e+00 -1.89600298e-01 -3.67610270e-01  1.62054946e-01\n",
      " -9.52143541e-01 -1.30865422e-01 -3.80804279e-01 -4.83867582e-01\n",
      "  1.19611673e+00 -4.66638470e-02 -1.02297476e+00  6.09269975e-01\n",
      " -1.81963477e+00  4.94155742e-01 -2.82429149e-01  3.99442977e-01\n",
      " -4.58559833e-01  2.66037063e-01 -9.44337909e-01  3.99986762e-01\n",
      " -1.25180443e-01  1.07822999e+00  1.04244548e+00 -1.43304316e+00\n",
      "  1.46500812e+00  1.41046088e-01 -9.20591447e-01 -5.55225402e-02\n",
      "  1.35409983e+00 -5.16967282e-02  3.77902889e-01  1.08223526e+00\n",
      "  5.71335700e-01  1.78618935e-01  3.05522533e+00  1.43817696e+00\n",
      "  1.89800142e-01  8.95004220e-01  2.12679052e-01  7.57930413e-01\n",
      "  6.43811785e-01  2.18997162e+00  6.36285497e-01 -1.14130508e+00\n",
      "  1.26103162e+00  2.78142922e-01 -1.90612214e+00 -1.15196898e-01\n",
      " -1.01084367e+00 -6.90945330e-01  1.43131063e+00 -2.04348693e-01\n",
      " -4.45707477e-01  1.45628236e-01  1.73287717e+00 -1.96577638e-01\n",
      " -2.23774351e-01 -4.58239496e-01  7.85143650e-01 -1.45789149e+00\n",
      " -5.06605227e-01 -1.38764658e+00  8.45735124e-01 -2.67671202e-01\n",
      " -1.52961231e+00  4.58102493e-01 -4.29117245e-02  6.07265269e-01\n",
      " -4.84558616e-01  2.05649529e-01  1.57398893e+00  3.38144451e-01\n",
      " -5.10843127e-01 -1.00749524e+00 -6.23798480e-01  3.09942678e+00\n",
      "  2.58466607e-01  4.65056949e-01 -5.23418476e-01  3.90536796e-01\n",
      " -2.05129792e+00 -2.85778622e-01 -1.34662950e+00  8.74227373e-01\n",
      " -6.28199546e-01  1.15375955e+00  3.87219092e-01 -2.76242432e-01\n",
      " -3.35532995e-01 -9.27752329e-01 -9.34440999e-01 -8.98149710e-01\n",
      "  4.73752013e-01  5.94788038e-01 -3.82557850e-01  9.82457651e-01\n",
      " -6.84400736e-01 -3.71952281e-01  1.64298362e-01  4.17896428e-01\n",
      " -1.78129559e+00  1.88127795e+00  4.28674194e-01  1.45920775e+00\n",
      "  8.53539188e-01 -1.67794911e+00  1.19145900e+00 -2.91368976e-01\n",
      "  1.74338934e+00 -1.04009282e+00  2.83386209e-01  1.00013458e+00\n",
      "  1.12298089e+00 -1.12953578e+00 -1.23078317e+00  6.48483685e-01\n",
      " -1.67095920e+00  4.47889484e-01 -1.25324648e+00  8.40363110e-02\n",
      "  1.05956077e+00  1.36294104e+00  3.71107017e-01  6.04247929e-01\n",
      "  5.63893821e-01  5.63828215e-02  5.32095541e-03 -7.97603545e-01\n",
      "  4.06084883e-01 -1.83110081e-01 -7.63907883e-01  1.79107571e+00\n",
      " -6.91234062e-01  2.91044429e-02 -3.44847589e-01  2.54343175e-01\n",
      " -2.18890361e+00  7.83044288e-01  6.24748672e-01  1.88531634e+00\n",
      "  6.89242409e-02 -1.64249901e+00 -2.50202654e-01  1.12639369e+00\n",
      "  9.57978274e-01  8.29071072e-01  7.34182263e-01 -2.98165558e-01\n",
      "  1.77304724e+00 -4.70873869e-02  2.61627118e-01  1.26843779e-01\n",
      "  7.44014563e-01  2.81480668e-01  1.04470357e+00 -4.21801822e-01\n",
      " -5.72771196e-01  8.47878334e-01  5.50181924e-01  1.02461993e+00\n",
      "  1.85073179e+00 -5.58646360e-01  3.33564912e-01  3.39945120e-01\n",
      " -8.64542287e-01  1.02973669e+00 -6.85128359e-01 -1.85072067e+00\n",
      "  7.39945646e-02 -2.80749786e-01  1.29677575e+00  2.15407149e-02\n",
      "  9.60670114e-01 -1.78187816e+00 -2.38929248e-01 -1.51953308e+00\n",
      "  7.98702652e-03  2.78507135e-01  3.05185801e-01 -1.64142900e+00\n",
      " -4.52504654e-02 -2.16563232e-01 -8.03516545e-01 -2.44946611e-02\n",
      " -4.43344963e-02  2.27489568e+00  2.01984958e+00  4.44761335e-01\n",
      " -1.68492717e+00 -1.01680808e+00  3.49349742e-01 -7.69973027e-01\n",
      "  1.26280341e-01  4.19361567e-01  9.66214602e-01 -4.71869952e-01\n",
      "  2.99408238e-01  1.02699032e+00  2.77464336e+00  9.92289260e-01\n",
      " -3.40263691e-01 -2.69332014e-01  7.01715437e-01  6.53131505e-01\n",
      "  5.60625176e-01 -1.04534889e+00 -9.45557715e-02  3.99393872e-01\n",
      "  9.54543276e-01 -8.55966580e-01  7.58794847e-02 -1.50771833e+00\n",
      " -1.04282769e+00  5.17050577e-01  4.23911782e-01  3.75707323e-01\n",
      " -3.58510089e-01  6.20999902e-02 -1.86701831e-01 -2.60314013e-02\n",
      "  7.00908183e-01 -1.45712790e-01  2.55320779e+00 -1.23325516e+00\n",
      " -4.98572134e-01 -2.31312349e-01  2.51325868e-01  3.03156180e-01\n",
      "  1.29508426e+00 -2.34191849e-01 -2.18392265e-02  5.45534886e-01\n",
      "  5.63264620e-02  1.26256684e+00 -1.36649585e+00 -2.79106406e-01\n",
      "  2.75887840e-02  1.25977209e+00 -4.12105205e-01  6.10150867e-01\n",
      "  5.14852178e-01  9.35625771e-01  1.00404272e-01 -4.36076630e-01\n",
      "  5.86369127e-01 -1.63368432e+00  5.36065149e-01  4.65213442e-01]\n"
     ]
    },
    {
     "name": "stderr",
     "output_type": "stream",
     "text": [
      "C:\\Users\\User\\anaconda3\\lib\\site-packages\\seaborn\\distributions.py:2619: FutureWarning: `distplot` is a deprecated function and will be removed in a future version. Please adapt your code to use either `displot` (a figure-level function with similar flexibility) or `kdeplot` (an axes-level function for kernel density plots).\n",
      "  warnings.warn(msg, FutureWarning)\n"
     ]
    },
    {
     "data": {
      "image/png": "[encoded data removed]",
      "text/plain": [
       "<Figure size 432x288 with 1 Axes>"
      ]
     },
     "metadata": {
      "needs_background": "light"
     },
     "output_type": "display_data"
    }
   ],
   "source": [
    "from numpy import random\n",
    "import matplotlib.pyplot as plt\n",
    "import seaborn as sns\n",
    "data1=random.normal(size=1000)\n",
    "print(data1)\n",
    "sns.distplot(random.normal(size=1000), hist=False,norm_hist=True)\n",
    "\n",
    "plt.show()"
   ]
  },
  {
   "cell_type": "code",
   "execution_count": null,
   "id": "1eb770e3",
   "metadata": {},
   "outputs": [],
   "source": [
    "# Probability Distribution function cumulative distribution function"
   ]
  },
  {
   "attachments": {
    "PDF_CDF.png": {
     "image/png": "[encoded data removed]"
    }
   },
   "cell_type": "markdown",
   "id": "bc1b3cb2",
   "metadata": {},
   "source": [
    "![PDF_CDF.png](attachment:PDF_CDF.png)"
   ]
  },
  {
   "cell_type": "markdown",
   "id": "5e65b38d",
   "metadata": {},
   "source": [
    "# probability mass function "
   ]
  },
  {
   "cell_type": "code",
   "execution_count": null,
   "id": "0a19911b",
   "metadata": {},
   "outputs": [],
   "source": [
    "\"\"\"\n",
    "Using the discrete random variables from the dataset \n",
    "we can calculate the probability mass function PMF\"\"\""
   ]
  },
  {
   "cell_type": "markdown",
   "id": "5f418304",
   "metadata": {},
   "source": [
    "# Bernoulli Distribution"
   ]
  },
  {
   "cell_type": "code",
   "execution_count": null,
   "id": "7fb7c98d",
   "metadata": {},
   "outputs": [],
   "source": [
    "\"\"\"\n",
    "Bernoulli Distribution: It is the simplest type of probability distribution. \n",
    "It is a particular case of Binomial distribution, where n=1. \n",
    "\n",
    "It means a binomial distribution takes 'n' number of trials, where n > 1 whereas, \n",
    "the Bernoulli distribution takes only a single trial. \n",
    "\n",
    "\n",
    "A Bernoulli Distribution denotes the random probability of an event \n",
    "that only has two possible discrete outcomes like 0 and 1. \n",
    "\n",
    "\"\"\""
   ]
  },
  {
   "cell_type": "code",
   "execution_count": null,
   "id": "fb472d19",
   "metadata": {},
   "outputs": [],
   "source": [
    "\"\"\"\n",
    "The tossing of a coin is a Bernoulli event since it has only two \n",
    "possible discrete outcomes – Head (i.e. 1) and Tail (i.e. 0). \n",
    "Hence it follows the Bernoulli probability distribution.\n",
    "\"\"\""
   ]
  },
  {
   "cell_type": "code",
   "execution_count": 10,
   "id": "da13edec",
   "metadata": {},
   "outputs": [
    {
     "name": "stdout",
     "output_type": "stream",
     "text": [
      "[0 1 1 ... 0 1 1]\n"
     ]
    },
    {
     "name": "stderr",
     "output_type": "stream",
     "text": [
      "C:\\Users\\User\\anaconda3\\lib\\site-packages\\seaborn\\distributions.py:2619: FutureWarning: `distplot` is a deprecated function and will be removed in a future version. Please adapt your code to use either `displot` (a figure-level function with similar flexibility) or `histplot` (an axes-level function for histograms).\n",
      "  warnings.warn(msg, FutureWarning)\n"
     ]
    },
    {
     "data": {
      "text/plain": [
       "[Text(0.5, 0, 'Bernoulli Distribution'), Text(0, 0.5, 'Frequency')]"
      ]
     },
     "execution_count": 10,
     "metadata": {},
     "output_type": "execute_result"
    },
    {
     "data": {
      "image/png": "[encoded data removed]",
      "text/plain": [
       "<Figure size 432x288 with 1 Axes>"
      ]
     },
     "metadata": {
      "needs_background": "light"
     },
     "output_type": "display_data"
    }
   ],
   "source": [
    "from scipy.stats import bernoulli\n",
    "import seaborn as sns\n",
    "data_bern = bernoulli.rvs(size=5000,p=0.5)\n",
    "print(data_bern)\n",
    "ax= sns.distplot(data_bern,\n",
    "                 kde=True,\n",
    "                 color=\"g\",\n",
    "                 hist_kws={\"linewidth\": 15,'alpha':1})\n",
    "ax.set(xlabel='Bernoulli Distribution', ylabel='Frequency')"
   ]
  },
  {
   "cell_type": "code",
   "execution_count": null,
   "id": "95433f4f",
   "metadata": {},
   "outputs": [],
   "source": []
  },
  {
   "cell_type": "markdown",
   "id": "ab084449",
   "metadata": {},
   "source": [
    "# Binomial Distribution"
   ]
  },
  {
   "cell_type": "code",
   "execution_count": null,
   "id": "7a58084d",
   "metadata": {},
   "outputs": [],
   "source": [
    "\"\"\"\n",
    "Binomial Distribution: It is one of the popular discrete distributions \n",
    "that determine the probability of x success in the 'n' trial. \n",
    "We can use Binomial distribution in situations where we want to extract the \n",
    "probability of SUCCESS or FAILURE from an experiment or survey which\n",
    "went through multiple repetitions. A Binomial distribution holds a \n",
    "fixed number of trials. Also, a binomial event should be independent, \n",
    "and the probability of obtaining failure or success should remain the same. \n",
    "\n",
    "The binomial distribution is the sum of independent Bernoulli events that have just \n",
    "two outcomes like 0 or 1 repeated multiple times.\n",
    "\n",
    "tossing of a coin is a Bernoulli event.\n",
    "\n",
    "Now if we keep on repeating the tossing of the coin \n",
    "it will assume the Binomial probability distribution.\n",
    "\n",
    "Binomial Distribution is a Discrete Distribution.\n",
    "\n",
    "It describes the outcome of binary scenarios, \n",
    "e.g. toss of a coin, it will either be head or tails.\n",
    "\n",
    "It has three parameters:\n",
    "\n",
    "n - number of trials.\n",
    "\n",
    "p - probability of occurence of each trial \n",
    "(e.g. for toss of a coin 0.5 each).\n",
    "\n",
    "size - The shape of the returned array.\n",
    "\n",
    "Discrete Distribution:The distribution is \n",
    "    defined at separate set of events, e.g. \n",
    "    a coin toss's result is discrete as it can be only head or tails\n",
    "    whereas height of people is continuous as it can be 170, 170.1, 170.11 and so on.\n",
    "    \n",
    "\"\"\""
   ]
  },
  {
   "cell_type": "code",
   "execution_count": null,
   "id": "29837878",
   "metadata": {},
   "outputs": [],
   "source": [
    "#Example:-Given 10 trials for coin toss generate 10 data points:"
   ]
  },
  {
   "cell_type": "code",
   "execution_count": 5,
   "id": "f1a7ab23",
   "metadata": {},
   "outputs": [
    {
     "name": "stdout",
     "output_type": "stream",
     "text": [
      "[ 5  4  8  8  9  3 10  3  8  8  8  5  7  8  9  6  6  7 10  6  9  5  8  8\n",
      "  7  8  8  7  7  9  9  8  8  7  4  7  7  7  8  5  8  9  9  8  7  8  6  9\n",
      "  9  9  7  8  7  6  9  3  8  8  6  8  7  7  8  6  6  6  7  4  8  6  6  7\n",
      "  7 10  9  5  7  6  8  7  8  4  7  8  7  6  3  7  9  6  9  7  6  8  7  9\n",
      "  8  6  7  9  5  8  5  7  8  6  7  6  8  8  6  8  6  8  8  9  6  9  8  8\n",
      "  8  7  6  6  7  8  8  8  7  7  8  7  7  6  7  7  8  9  6 10  7  8  7  6\n",
      " 10  6  7  6  7  7  7  6  8  6  9  6  7  9  6  7  5  8  6  6  4  8  5  7\n",
      "  8  7  9  7  9  7  7  9  6  7  7 10  8  7  7  9  7  8  6  9  7  7  5  7\n",
      "  6  7  9  8  6  5  7  5  7  6  6  7  5  7  6  6  9  9  9  6  4  6  8  9\n",
      "  6  8  9  8  8  8  8  6  7  8  6  8  6  6  6  8  6  5  6  8  9  7  4  8\n",
      "  6  9  5  6  5  8  4  8  9  6  6  6  6  8  6  8  7  7  5  5  8  6  7  7\n",
      "  8 10  6  7  7  7  6  5  4  6  9  5  6  9  9  7  7  8  7  7  7  9 10  8\n",
      "  9  5  7  8  8  9  6  5  7  8  8  7  6  9  9  7  5  9  7  9  6  8  8  6\n",
      "  6  7  6  6  9  7  5  5  7  8  5  7  5  6  6  7  6  9  8  8  6  8  6  7\n",
      "  8  7  5  7  7  8  6  8  7  8  7  7  6  8  7  7  6  8  5  9 10  9  8  7\n",
      "  5  7  7  8  6  9  7  7  8  8  7  8  8  7  8 10  7  4  7  7  6  8  8  7\n",
      "  6  7  7 10  8  4  7  8  6  7  7  6  8  8  5  7 10  7 10  7  6  8  8  5\n",
      "  7  7  5  8  8  6  9  6  9  8  9  7  5  6  9  5  9  7  8  9  8  8  6  6\n",
      "  6  7  7  7  6  4  7  5  6  7  8  7  7  6  7  8  9 10  7  7  7  7  6  7\n",
      "  6  5  7  7  8  7  7  7  7  7  5  5  9  7  6 10  5  9  6 10  9  8  9  6\n",
      "  7  8  8  6  6  8  7  7  7  8  6  5  8  9  5  7  8  8  9  4]\n"
     ]
    },
    {
     "name": "stderr",
     "output_type": "stream",
     "text": [
      "C:\\Users\\User\\anaconda3\\lib\\site-packages\\seaborn\\distributions.py:2619: FutureWarning: `distplot` is a deprecated function and will be removed in a future version. Please adapt your code to use either `displot` (a figure-level function with similar flexibility) or `histplot` (an axes-level function for histograms).\n",
      "  warnings.warn(msg, FutureWarning)\n",
      "C:\\Users\\User\\anaconda3\\lib\\site-packages\\seaborn\\distributions.py:2619: FutureWarning: `distplot` is a deprecated function and will be removed in a future version. Please adapt your code to use either `displot` (a figure-level function with similar flexibility) or `histplot` (an axes-level function for histograms).\n",
      "  warnings.warn(msg, FutureWarning)\n"
     ]
    },
    {
     "data": {
      "image/png": "[encoded data removed]",
      "text/plain": [
       "<Figure size 432x288 with 1 Axes>"
      ]
     },
     "metadata": {
      "needs_background": "light"
     },
     "output_type": "display_data"
    }
   ],
   "source": [
    "from numpy import random\n",
    "import matplotlib.pyplot as plt\n",
    "import seaborn as sns\n",
    "data2=random.binomial(n=10, p=0.7, size=500)\n",
    "print(data2)\n",
    "sns.distplot(random.binomial(n=100, p=0.7, size=500), hist=True, kde=True,label=\"binomial\")\n",
    "sns.distplot(random.normal(loc=100, scale=5, size=500), hist=True, kde=True,label=\"normal\")\n",
    "plt.show()"
   ]
  },
  {
   "cell_type": "code",
   "execution_count": null,
   "id": "e9cfca78",
   "metadata": {},
   "outputs": [],
   "source": []
  },
  {
   "cell_type": "code",
   "execution_count": 14,
   "id": "90182b96",
   "metadata": {},
   "outputs": [
    {
     "data": {
      "text/plain": [
       "0.24609375000000003"
      ]
     },
     "execution_count": 14,
     "metadata": {},
     "output_type": "execute_result"
    }
   ],
   "source": [
    "from scipy.stats import binom\n",
    "\"\"\"\n",
    "binom.pmf(k,n,p)# k exactly , n total,p probability of success\n",
    "#coin tossed 10 times probability of getting exactly 6 head.\n",
    "\"\"\"\n",
    "binom.pmf(5,10,0.5)"
   ]
  },
  {
   "cell_type": "code",
   "execution_count": null,
   "id": "59978219",
   "metadata": {},
   "outputs": [],
   "source": [
    "#dice tossed 10 times probability of getting exactly 6 time  1 number."
   ]
  },
  {
   "cell_type": "code",
   "execution_count": 15,
   "id": "c3f09a1b",
   "metadata": {},
   "outputs": [
    {
     "data": {
      "text/plain": [
       "0.06470514598949517"
      ]
     },
     "execution_count": 15,
     "metadata": {},
     "output_type": "execute_result"
    }
   ],
   "source": [
    "binom.pmf(6,20,1/6)"
   ]
  },
  {
   "cell_type": "code",
   "execution_count": null,
   "id": "54110520",
   "metadata": {},
   "outputs": [],
   "source": [
    "#Cumulative distribution function evaluated at `k`"
   ]
  },
  {
   "cell_type": "code",
   "execution_count": 17,
   "id": "04e5b49a",
   "metadata": {},
   "outputs": [
    {
     "data": {
      "text/plain": [
       "0.0107421875"
      ]
     },
     "execution_count": 17,
     "metadata": {},
     "output_type": "execute_result"
    }
   ],
   "source": [
    "\"\"\"\n",
    "binom.cdf(k,n,p)# k less than or equal to , n total,p probability of success\n",
    "coin tossed 10 times probability of getting less than or equal to  6 head.\n",
    "\"\"\"\n",
    "binom.cdf(1,10,0.5)"
   ]
  },
  {
   "cell_type": "code",
   "execution_count": null,
   "id": "f9984de3",
   "metadata": {},
   "outputs": [],
   "source": [
    "\"\"\"Ramesh flips a fair coin 20 times. \n",
    "What is the probability that the coin lands on heads 5 times or fewer?\n",
    "\"\"\""
   ]
  },
  {
   "cell_type": "code",
   "execution_count": 27,
   "id": "1f04af1d",
   "metadata": {},
   "outputs": [
    {
     "data": {
      "text/plain": [
       "0.020694732666015625"
      ]
     },
     "execution_count": 27,
     "metadata": {},
     "output_type": "execute_result"
    }
   ],
   "source": [
    "binom.cdf(5,20,0.5)"
   ]
  },
  {
   "cell_type": "code",
   "execution_count": null,
   "id": "6dc53159",
   "metadata": {},
   "outputs": [],
   "source": [
    "\"\"\"Ramesh flips a fair coin 5 times. \n",
    "What is the probability that the coin lands on heads 2 times or fewer?\n",
    "\"\"\""
   ]
  },
  {
   "cell_type": "code",
   "execution_count": 28,
   "id": "926177a4",
   "metadata": {},
   "outputs": [
    {
     "data": {
      "text/plain": [
       "0.5"
      ]
     },
     "execution_count": 28,
     "metadata": {},
     "output_type": "execute_result"
    }
   ],
   "source": [
    "binom.cdf(2,5,0.5)"
   ]
  },
  {
   "cell_type": "code",
   "execution_count": null,
   "id": "9d8fb326",
   "metadata": {},
   "outputs": [],
   "source": [
    "\"\"\"\n",
    "It is known that 80% of individuals support a Traffic Rules. \n",
    "If 10 individuals are randomly selected, \n",
    "what is the probability that between 4 and 6 of them support the Traffic Rules?\n",
    "\"\"\"\n"
   ]
  },
  {
   "cell_type": "code",
   "execution_count": 18,
   "id": "5b4b7a67",
   "metadata": {},
   "outputs": [
    {
     "data": {
      "text/plain": [
       "0.06946032108926481"
      ]
     },
     "execution_count": 18,
     "metadata": {},
     "output_type": "execute_result"
    }
   ],
   "source": [
    "from scipy.stats import binom\n",
    "\n",
    "#calculate binomial probability , getting 4 or 5\n",
    "binom.cdf(k=6, n=10, p=1/6) - binom.cdf(k=3, n=10, p=1/6)"
   ]
  },
  {
   "cell_type": "markdown",
   "id": "4f4d7822",
   "metadata": {},
   "source": []
  },
  {
   "cell_type": "code",
   "execution_count": 32,
   "id": "3bd52f9d",
   "metadata": {},
   "outputs": [
    {
     "data": {
      "text/plain": [
       "0.12087388159999991"
      ]
     },
     "execution_count": 32,
     "metadata": {},
     "output_type": "execute_result"
    }
   ],
   "source": [
    "from scipy.stats import binom\n",
    "\n",
    "#calculate binomial probability\n",
    "binom.cdf(k=6, n=10, p=0.8)"
   ]
  },
  {
   "cell_type": "code",
   "execution_count": 37,
   "id": "1d3e11de",
   "metadata": {},
   "outputs": [
    {
     "data": {
      "text/plain": [
       "0.8926258175999999"
      ]
     },
     "execution_count": 37,
     "metadata": {},
     "output_type": "execute_result"
    }
   ],
   "source": [
    "binom.cdf(k=9, n=10, p=0.8)"
   ]
  },
  {
   "cell_type": "markdown",
   "id": "2d197783",
   "metadata": {},
   "source": [
    "# Poisson Distribution\n"
   ]
  },
  {
   "cell_type": "code",
   "execution_count": null,
   "id": "122fd4ec",
   "metadata": {},
   "outputs": [],
   "source": [
    "\"\"\"\n",
    "The Poisson distribution, named after the French mathematician \n",
    "Denis Simon Poisson, is a discrete distribution function.\n",
    "\n",
    "It describe the probability that an event will occur a certain \n",
    "number of times in a fixed time (or space) interval.\n",
    "\n",
    "It is used to model count-based data, like the number of emails \n",
    "arriving in your mailbox in one hour or the number of \n",
    "customers walking into a shop in one day, for instance.\n",
    "\"\"\""
   ]
  },
  {
   "cell_type": "markdown",
   "id": "80d1f67b",
   "metadata": {},
   "source": []
  },
  {
   "cell_type": "code",
   "execution_count": null,
   "id": "fb7497d0",
   "metadata": {},
   "outputs": [],
   "source": [
    "\"\"\"\n",
    "Poisson Distribution is a Discrete Distribution.\n",
    "\n",
    "It has two parameters:\n",
    "\n",
    "lam - rate or known number of occurences .\n",
    "size - The shape of the returned array.\n",
    "\"\"\""
   ]
  },
  {
   "cell_type": "code",
   "execution_count": 19,
   "id": "f68959d3",
   "metadata": {},
   "outputs": [
    {
     "name": "stdout",
     "output_type": "stream",
     "text": [
      "[2 1 0 4 4 1 3 2 0 2 2 4 2 3 2 3 2 4 1 7 2 1 6 4 1 1 4 5 1 2 0 0 3 1 3 1 0\n",
      " 3 1 3 0 2 1 2 3 4 1 3 3 4 4 1 1 2 0 2 6 1 2 2 3 6 0 0 3 2 4 2 1 2 0 3 1 1\n",
      " 4 1 2 1 2 1 1 1 2 2 2 1 1 3 4 3 3 2 2 3 1 4 1 1 2 2 2 1 2 0 3 2 0 1 1 2 4\n",
      " 2 2 5 3 2 0 0 1 1 1 1 1 4 0 3 5 1 0 2 1 0 1 1 2 1 3 2 0 5 2 2 1 0 3 2 1 1\n",
      " 3 3 5 3 1 3 0 0 1 3 2 2 0 3 2 2 0 0 4 3 0 3 2 2 1 4 2 1 2 3 1 4 0 3 3 1 4\n",
      " 0 0 5 1 2 0 4 1 1 3 1 3 1 3 4 1 1 2 3 0 5 2 0 3 3 1 1 3 0 3 2 3 1 1 2 2 5\n",
      " 0 2 3 3 3 2 1 2 3 5 1 0 0 1 2 0 2 4 0 2 4 5 0 3 3 0 1 2 3 4 2 4 1 2 0 2 0\n",
      " 4 2 1 1 1 3 6 2 3 5 2 3 2 0 1 0 3 2 2 1 4 3 1 2 2 2 2 2 4 1 4 3 1 1 0 1 0\n",
      " 1 1 2 1 2 3 3 2 5 5 0 1 0 1 0 2 3 1 3 3 0 2 2 0 3 1 0 3 4 0 1 0 2 2 2 3 1\n",
      " 1 1 1 3 3 0 2 0 2 3 0 3 3 3 0 2 2 5 3 2 4 4 2 5 1 3 2 2 1 2 5 2 1 1 3 4 0\n",
      " 2 2 3 0 1 2 5 1 1 0 4 1 3 2 5 2 2 0 2 2 1 2 1 1 1 1 1 2 2 2 1 1 1 2 3 4 2\n",
      " 1 2 2 3 5 2 1 4 1 2 2 4 1 0 2 3 2 2 2 0 2 3 3 1 3 1 1 2 3 6 4 3 1 1 1 3 2\n",
      " 1 1 2 1 3 1 1 1 2 4 3 3 2 0 3 0 4 3 0 1 0 1 0 2 2 3 0 3 2 4 4 0 3 3 0 5 1\n",
      " 3 0 3 3 1 4 4 2 3 1 2 2 0 2 2 1 2 3 4 0 4 1 1 2 4 1 0 2 3 0 5 3 1 1 1 3 2\n",
      " 3 2 2 1 0 3 3 1 1 1 1 1 1 2 2 1 2 3 2 2 2 2 3 2 2 0 0 4 2 3 1 2 4 1 2 2 2\n",
      " 2 2 1 1 1 2 1 1 4 4 1 2 1 4 2 2 1 2 3 1 1 3 2 0 4 7 2 2 0 3 2 1 2 4 2 3 1\n",
      " 3 1 3 1 2 3 8 2 0 0 1 3 3 0 2 2 2 1 0 0 3 1 1 4 0 3 1 2 2 0 6 2 1 3 2 3 3\n",
      " 3 3 3 4 3 4 4 6 1 1 3 0 2 1 0 2 3 3 2 3 0 3 2 4 2 3 2 2 1 2 2 1 2 2 2 2 3\n",
      " 1 1 2 0 2 1 3 1 1 0 2 1 4 0 3 3 2 0 3 0 0 3 2 0 3 1 0 1 2 3 2 2 0 1 3 3 2\n",
      " 2 1 3 3 2 1 4 2 2 1 2 3 3 3 2 4 4 2 0 0 1 1 2 1 4 2 8 1 1 2 4 2 2 3 5 3 2\n",
      " 2 2 2 2 7 2 2 1 2 1 2 3 1 2 6 3 2 3 3 2 3 2 5 2 5 3 5 1 1 0 4 3 1 3 3 0 1\n",
      " 3 2 2 1 1 2 2 1 1 3 6 2 3 0 1 2 3 2 1 0 2 3 2 4 2 3 3 3 2 1 4 3 3 1 4 1 2\n",
      " 1 2 5 2 2 4 1 2 3 1 2 2 0 4 3 0 2 1 2 2 4 2 4 1 4 3 2 7 3 3 3 5 2 1 2 2 2\n",
      " 3 0 1 1 1 2 2 1 1 2 2 2 3 0 0 2 2 3 1 0 2 1 1 1 3 2 3 1 3 3 2 2 0 2 0 2 3\n",
      " 1 0 2 1 2 2 2 4 2 2 2 3 3 1 3 4 3 1 4 2 1 3 2 1 2 2 1 0 1 0 2 3 2 3 0 1 2\n",
      " 2 0 2 5 2 1 3 0 2 0 2 2 2 2 2 0 1 1 1 0 3 2 5 0 0 1 1 2 2 2 0 2 2 2 3 2 0\n",
      " 3 1 4 1 1 1 0 2 0 2 3 5 3 1 2 3 2 1 3 3 1 1 3 3 2 2 3 5 4 1 1 1 0 0 1 2 1\n",
      " 4]\n"
     ]
    },
    {
     "name": "stderr",
     "output_type": "stream",
     "text": [
      "C:\\Users\\User\\anaconda3\\lib\\site-packages\\seaborn\\distributions.py:2619: FutureWarning: `distplot` is a deprecated function and will be removed in a future version. Please adapt your code to use either `displot` (a figure-level function with similar flexibility) or `histplot` (an axes-level function for histograms).\n",
      "  warnings.warn(msg, FutureWarning)\n"
     ]
    },
    {
     "data": {
      "image/png": "[encoded data removed]",
      "text/plain": [
       "<Figure size 432x288 with 1 Axes>"
      ]
     },
     "metadata": {
      "needs_background": "light"
     },
     "output_type": "display_data"
    }
   ],
   "source": [
    "#Visualization of Poisson Distribution\n",
    "\n",
    "from numpy import random\n",
    "import matplotlib.pyplot as plt\n",
    "import seaborn as sns\n",
    "data4=random.poisson(lam=2, size=1000)\n",
    "print(data4)\n",
    "sns.distplot(random.poisson(lam=2, size=1000), kde=False)\n",
    "\n",
    "plt.show()"
   ]
  },
  {
   "cell_type": "code",
   "execution_count": null,
   "id": "99a1848c",
   "metadata": {},
   "outputs": [],
   "source": [
    "\"\"\"\n",
    "Example 1: Probability Equal to Some Value\n",
    "\n",
    "A store sells 3 apples per day on average. \n",
    "What is the probability that they will sell 5 apples on a given day? \n",
    "\"\"\"\n"
   ]
  },
  {
   "cell_type": "code",
   "execution_count": 20,
   "id": "e36540a1",
   "metadata": {},
   "outputs": [
    {
     "data": {
      "text/plain": [
       "0.10081881344492458"
      ]
     },
     "execution_count": 20,
     "metadata": {},
     "output_type": "execute_result"
    }
   ],
   "source": [
    "from scipy.stats import poisson\n",
    "\n",
    "#calculate probability\n",
    "poisson.pmf(k=5, mu=3)"
   ]
  },
  {
   "cell_type": "code",
   "execution_count": 17,
   "id": "58432c16",
   "metadata": {},
   "outputs": [
    {
     "data": {
      "text/plain": [
       "'A pizza counter 50 customer per hour on average. \\nWhat is the probability that 100  customer on a given hour? '"
      ]
     },
     "execution_count": 17,
     "metadata": {},
     "output_type": "execute_result"
    }
   ],
   "source": [
    "\"\"\"A pizza counter 50 customer per hour on average. \n",
    "What is the probability that 100  customer on a given hour? \"\"\""
   ]
  },
  {
   "cell_type": "code",
   "execution_count": 16,
   "id": "f426a48b",
   "metadata": {},
   "outputs": [
    {
     "data": {
      "text/plain": [
       "1.6303193521477733e-10"
      ]
     },
     "execution_count": 16,
     "metadata": {},
     "output_type": "execute_result"
    }
   ],
   "source": [
    "#calculate probability\n",
    "poisson.pmf(k=100, mu=50)"
   ]
  },
  {
   "cell_type": "code",
   "execution_count": null,
   "id": "4d883e2d",
   "metadata": {},
   "outputs": [],
   "source": [
    "\"\"\"\n",
    "Example 2\n",
    "\n",
    "It is known that a certain website makes 10 sales per hour. \n",
    "    In a given hour, what is the probability that the site makes exactly 8 sales?\n",
    "\n",
    "Answer: Using the Poisson Distribution Calculator with \n",
    "    λ = 10 and x = 8, we find that P(X=8) \n",
    "\"\"\""
   ]
  },
  {
   "cell_type": "code",
   "execution_count": 19,
   "id": "ebf6c6be",
   "metadata": {},
   "outputs": [
    {
     "data": {
      "text/plain": [
       "0.11259903214902009"
      ]
     },
     "execution_count": 19,
     "metadata": {},
     "output_type": "execute_result"
    }
   ],
   "source": [
    "from scipy.stats import poisson\n",
    "\n",
    "#calculate probability\n",
    "poisson.pmf(k=8, mu=10)"
   ]
  },
  {
   "cell_type": "code",
   "execution_count": null,
   "id": "900f4a2d",
   "metadata": {},
   "outputs": [],
   "source": []
  },
  {
   "cell_type": "code",
   "execution_count": null,
   "id": "695f5c16",
   "metadata": {},
   "outputs": [],
   "source": [
    "\n",
    "Example 3: Probability Less than Some Value\n",
    "A certain store sells 7 footballs per day on average. \n",
    "What is the probability that this store sells \n",
    "4 or less footballs in a given day?"
   ]
  },
  {
   "cell_type": "code",
   "execution_count": 10,
   "id": "09e1bf9c",
   "metadata": {},
   "outputs": [
    {
     "data": {
      "text/plain": [
       "0.17299160788207146"
      ]
     },
     "execution_count": 10,
     "metadata": {},
     "output_type": "execute_result"
    }
   ],
   "source": [
    "from scipy.stats import poisson\n",
    "\n",
    "#calculate probability\n",
    "poisson.cdf(k=4, mu=7)\n",
    "\n"
   ]
  },
  {
   "cell_type": "code",
   "execution_count": null,
   "id": "f43bfbfe",
   "metadata": {},
   "outputs": [],
   "source": [
    "\"\"\"\n",
    "Example 4\n",
    "\n",
    " It is known that a certain hospital \n",
    "    experience 4 births per hour. In a given hour, \n",
    "    what is the probability that 4 or less births occur?\n",
    "\n",
    "Answer: Using the Poisson Distribution Calculator with \n",
    "    λ = 4 and x = 4, we find that P(X≤4) .\"\"\""
   ]
  },
  {
   "cell_type": "code",
   "execution_count": 21,
   "id": "d16df6aa",
   "metadata": {},
   "outputs": [
    {
     "data": {
      "text/plain": [
       "0.6288369351798734"
      ]
     },
     "execution_count": 21,
     "metadata": {},
     "output_type": "execute_result"
    }
   ],
   "source": [
    "from scipy.stats import poisson\n",
    "\n",
    "#calculate probability\n",
    "poisson.cdf(k=4, mu=4)"
   ]
  },
  {
   "cell_type": "code",
   "execution_count": null,
   "id": "54a7f1d0",
   "metadata": {},
   "outputs": [],
   "source": [
    "\"\"\"\n",
    "Example 5: Probability Greater than Some Value\n",
    "\n",
    "A certain store sells 15 Mobile Phone per day on average. \n",
    "What is the probability that this store sells \n",
    "more than 20 Mobile Phone in a given day?\"\"\""
   ]
  },
  {
   "cell_type": "code",
   "execution_count": 11,
   "id": "6bf7cf77",
   "metadata": {},
   "outputs": [
    {
     "data": {
      "text/plain": [
       "0.08297091003146029"
      ]
     },
     "execution_count": 11,
     "metadata": {},
     "output_type": "execute_result"
    }
   ],
   "source": [
    "from scipy.stats import poisson\n",
    "\n",
    "#calculate probability\n",
    "1-poisson.cdf(k=20, mu=15)"
   ]
  },
  {
   "cell_type": "code",
   "execution_count": null,
   "id": "fffc17db",
   "metadata": {},
   "outputs": [],
   "source": [
    "\"\"\"\n",
    "Example 6\n",
    "\n",
    "It is known that a certain Property dealer makes an average of \n",
    "    5 house sales per month. In a given month, what is the probability \n",
    "    that he makes more than 7 house sales?\n",
    "\n",
    "Answer: Using the Poisson Distribution Calculator with \n",
    "    λ = 5 and x = 7, we find that P(X>7).\"\"\""
   ]
  },
  {
   "cell_type": "code",
   "execution_count": 20,
   "id": "0e9f3fda",
   "metadata": {},
   "outputs": [
    {
     "data": {
      "text/plain": [
       "0.1333716740700075"
      ]
     },
     "execution_count": 20,
     "metadata": {},
     "output_type": "execute_result"
    }
   ],
   "source": [
    "from scipy.stats import poisson\n",
    "\n",
    "#calculate probability\n",
    "1-poisson.cdf(k=7, mu=5)"
   ]
  },
  {
   "cell_type": "code",
   "execution_count": null,
   "id": "ecb23647",
   "metadata": {},
   "outputs": [],
   "source": []
  },
  {
   "cell_type": "code",
   "execution_count": null,
   "id": "3e9f3a17",
   "metadata": {},
   "outputs": [],
   "source": []
  },
  {
   "cell_type": "code",
   "execution_count": null,
   "id": "babf5efc",
   "metadata": {},
   "outputs": [],
   "source": []
  },
  {
   "cell_type": "code",
   "execution_count": null,
   "id": "cf75a0e1",
   "metadata": {},
   "outputs": [],
   "source": []
  },
  {
   "cell_type": "markdown",
   "id": "fa015bb3",
   "metadata": {},
   "source": [
    "# Difference Between Normal and Poisson Distribution\n"
   ]
  },
  {
   "cell_type": "code",
   "execution_count": null,
   "id": "af4dee49",
   "metadata": {},
   "outputs": [],
   "source": [
    "\"\"\"\n",
    "Normal distribution is continous whereas poisson is discrete.\n",
    "\n",
    "But we can see that similar to binomial for a large\n",
    "enough poisson distribution it will become similar to \n",
    "normal distribution with certain std dev and mean.\n",
    "\"\"\""
   ]
  },
  {
   "cell_type": "code",
   "execution_count": 102,
   "id": "6acf5f70",
   "metadata": {},
   "outputs": [
    {
     "data": {
      "image/png": "[encoded data removed]",
      "text/plain": [
       "<Figure size 432x288 with 1 Axes>"
      ]
     },
     "metadata": {
      "needs_background": "light"
     },
     "output_type": "display_data"
    }
   ],
   "source": [
    "from numpy import random\n",
    "import matplotlib.pyplot as plt\n",
    "import seaborn as sns\n",
    "\n",
    "sns.distplot(random.normal(loc=50, scale=7, size=1000), hist=False, label='normal')\n",
    "sns.distplot(random.poisson(lam=50, size=1000), hist=False, label='poisson')\n",
    "\n",
    "plt.show()"
   ]
  },
  {
   "cell_type": "markdown",
   "id": "3f93f049",
   "metadata": {},
   "source": [
    "# Difference Between Poisson and Binomial Distribution\n"
   ]
  },
  {
   "cell_type": "code",
   "execution_count": null,
   "id": "79e4bb6f",
   "metadata": {},
   "outputs": [],
   "source": [
    "\"\"\"\n",
    "The difference is very subtle it is that, binomial distribution\n",
    "is for discrete trials, whereas poisson distribution is for continuous trials.\n",
    "\n",
    "But for very large n and near-zero p binomial distribution is near \n",
    "identical to poisson distribution such that n * p is nearly equal to lam.\n",
    "\"\"\""
   ]
  },
  {
   "cell_type": "code",
   "execution_count": 103,
   "id": "6648ea8c",
   "metadata": {},
   "outputs": [
    {
     "data": {
      "image/png": "[encoded data removed]",
      "text/plain": [
       "<Figure size 432x288 with 1 Axes>"
      ]
     },
     "metadata": {
      "needs_background": "light"
     },
     "output_type": "display_data"
    }
   ],
   "source": [
    "from numpy import random\n",
    "import matplotlib.pyplot as plt\n",
    "import seaborn as sns\n",
    "\n",
    "sns.distplot(random.binomial(n=1000, p=0.01, size=1000), hist=False, label='binomial')\n",
    "sns.distplot(random.poisson(lam=10, size=1000), hist=False, label='poisson')\n",
    "\n",
    "plt.show()"
   ]
  },
  {
   "cell_type": "markdown",
   "id": "0c9c8c06",
   "metadata": {},
   "source": [
    "# Uniform Distribution\n"
   ]
  },
  {
   "cell_type": "code",
   "execution_count": null,
   "id": "78592717",
   "metadata": {},
   "outputs": [],
   "source": [
    "#This distribution is a subcategory of a continuous distribution, \n",
    "#this distribution represents a similar probability for all the events to occur. "
   ]
  },
  {
   "cell_type": "code",
   "execution_count": null,
   "id": "f3e09341",
   "metadata": {},
   "outputs": [],
   "source": [
    "\"\"\"An event follows a Uniform Probability Distribution when \n",
    "it’s all possible outcomes have an equal probability of occurrence. \n",
    "It is also known as rectangular distribution.\n",
    "Used to describe probability where every event has equal chances of occuring.\n",
    "\n",
    "E.g. Generation of random numbers.\n",
    "\n",
    "It has three parameters:\n",
    "\n",
    "a - lower bound - default 0 .0.\n",
    "\n",
    "b - upper bound - default 1.0.\n",
    "\n",
    "size - The shape of the returned array.\n",
    "\"\"\""
   ]
  },
  {
   "cell_type": "code",
   "execution_count": 104,
   "id": "1c0a1139",
   "metadata": {},
   "outputs": [
    {
     "data": {
      "image/png": "[encoded data removed]",
      "text/plain": [
       "<Figure size 432x288 with 1 Axes>"
      ]
     },
     "metadata": {
      "needs_background": "light"
     },
     "output_type": "display_data"
    }
   ],
   "source": [
    "from numpy import random\n",
    "import matplotlib.pyplot as plt\n",
    "import seaborn as sns\n",
    "\n",
    "sns.distplot(random.uniform(size=1000), hist=False)\n",
    "\n",
    "plt.show()"
   ]
  },
  {
   "cell_type": "code",
   "execution_count": null,
   "id": "aefc8d1e",
   "metadata": {},
   "outputs": [],
   "source": [
    "scipy.stats.uniform(x, loc, scale)\n",
    "\"\"\"\n",
    "where:\n",
    "\n",
    "x: The value of the uniform distribution\n",
    "loc: The minimum possible value\n",
    "loc + scale: The maximum possible value\n",
    "\"\"\""
   ]
  },
  {
   "cell_type": "code",
   "execution_count": null,
   "id": "91357ae0",
   "metadata": {},
   "outputs": [],
   "source": [
    "\"\"\"\n",
    "Example:-Suppose a bus arrive at a bus stop every 30 minutes. If you arrive at the bus stop, \n",
    "what is the probability that the bus will arrive in 12 minutes or less?\n",
    "\"\"\""
   ]
  },
  {
   "cell_type": "code",
   "execution_count": 20,
   "id": "adf33fae",
   "metadata": {},
   "outputs": [
    {
     "data": {
      "text/plain": [
       "0.4"
      ]
     },
     "execution_count": 20,
     "metadata": {},
     "output_type": "execute_result"
    }
   ],
   "source": [
    "from scipy.stats import uniform\n",
    "\n",
    "#calculate uniform probability\n",
    "# here x=0, 12 , loc=minimum possible time =0 , \n",
    "# max possible time =30. loc+scale=30, hence, scale=30-loc=30-0=30\n",
    "uniform.cdf(x=12, loc=0, scale=30) - uniform.cdf(x=0, loc=0, scale=30)\n",
    "\n"
   ]
  },
  {
   "cell_type": "code",
   "execution_count": null,
   "id": "f9f1b5c8",
   "metadata": {},
   "outputs": [],
   "source": [
    "#The probability that the bus shows up in 12 minutes or less is 0.4."
   ]
  },
  {
   "cell_type": "code",
   "execution_count": null,
   "id": "7f96ce31",
   "metadata": {},
   "outputs": [],
   "source": [
    "\"\"\"\n",
    "Example 2\n",
    "The weight of a certain species of frog is uniformly \n",
    "distributed between 15 and 25 grams. If you randomly \n",
    "select a frog, what is the probability that the frog weighs between 17 and 19 grams?\n",
    "\"\"\""
   ]
  },
  {
   "cell_type": "code",
   "execution_count": 21,
   "id": "43fe82af",
   "metadata": {},
   "outputs": [
    {
     "data": {
      "text/plain": [
       "0.2"
      ]
     },
     "execution_count": 21,
     "metadata": {},
     "output_type": "execute_result"
    }
   ],
   "source": [
    "from scipy.stats import uniform\n",
    "\n",
    "#calculate uniform probability\n",
    "# here x=17,19 , loc=minimum possible weight =15 , \n",
    "# max possible weight =25. loc+scale=25, hence, scale=25-15=10\n",
    "uniform.cdf(x=19, loc=15, scale=10) - uniform.cdf(x=17, loc=15, scale=10)"
   ]
  },
  {
   "cell_type": "code",
   "execution_count": null,
   "id": "d52397c5",
   "metadata": {},
   "outputs": [],
   "source": [
    "\"\"\"\n",
    "example 3\n",
    "The length of an Bollywood movie is uniformly distributed \n",
    "between 120 and 170 minutes. What is the probability \n",
    "that a randomly selected Bollywood movie lasts more than 150 minutes?\n",
    "\"\"\""
   ]
  },
  {
   "cell_type": "code",
   "execution_count": 23,
   "id": "929e75c6",
   "metadata": {},
   "outputs": [
    {
     "data": {
      "text/plain": [
       "0.4"
      ]
     },
     "execution_count": 23,
     "metadata": {},
     "output_type": "execute_result"
    }
   ],
   "source": [
    "from scipy.stats import uniform\n",
    "\n",
    "#calculate uniform probability \n",
    "# here x=150,170 , loc=minimum possible time =120 , \n",
    "# max possible time =170. loc+scale=170, hence, scale=170-120=50\n",
    "uniform.cdf(x=170, loc=120, scale=50) - uniform.cdf(x=150, loc=120, scale=50)\n"
   ]
  }
 ],
 "metadata": {
  "kernelspec": {
   "display_name": "Python 3 (ipykernel)",
   "language": "python",
   "name": "python3"
  },
  "language_info": {
   "codemirror_mode": {
    "name": "ipython",
    "version": 3
   },
   "file_extension": ".py",
   "mimetype": "text/x-python",
   "name": "python",
   "nbconvert_exporter": "python",
   "pygments_lexer": "ipython3",
   "version": "3.9.13"
  }
 },
 "nbformat": 4,
 "nbformat_minor": 5
}
