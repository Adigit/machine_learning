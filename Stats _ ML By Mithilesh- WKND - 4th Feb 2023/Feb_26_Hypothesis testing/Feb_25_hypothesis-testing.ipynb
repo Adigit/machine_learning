{
 "cells": [
  {
   "cell_type": "markdown",
   "id": "d458e94a",
   "metadata": {},
   "source": [
    "# Feb_25_Hypothesis testing"
   ]
  },
  {
   "cell_type": "markdown",
   "id": "fd71abe8",
   "metadata": {},
   "source": [
    "# Hypothesis Testing"
   ]
  },
  {
   "cell_type": "code",
   "execution_count": 1,
   "id": "a1a51b2a",
   "metadata": {},
   "outputs": [
    {
     "data": {
      "text/plain": [
       "'C:\\\\Users\\\\User\\\\Desktop\\\\Batch Weekend Feb_4th\\\\Feb_25_26_Hypothesis Testing'"
      ]
     },
     "execution_count": 1,
     "metadata": {},
     "output_type": "execute_result"
    }
   ],
   "source": [
    "import os\n",
    "os.getcwd()"
   ]
  },
  {
   "cell_type": "code",
   "execution_count": 2,
   "id": "d7b69098",
   "metadata": {},
   "outputs": [],
   "source": [
    "import pandas as pd\n",
    "import numpy as np\n",
    "import scipy.stats as stats"
   ]
  },
  {
   "cell_type": "markdown",
   "id": "56691a1a",
   "metadata": {},
   "source": [
    "# Left-tailed test"
   ]
  },
  {
   "cell_type": "code",
   "execution_count": 3,
   "id": "57f7f5ac",
   "metadata": {},
   "outputs": [
    {
     "data": {
      "text/plain": [
       "'Left-tailed test\\nSuppose we want to find the p-value associated with a z-score of -0.77 \\nin a left-tailed hypothesis test.\\n(as this Z value fall the left side of Bell curve)\\n'"
      ]
     },
     "execution_count": 3,
     "metadata": {},
     "output_type": "execute_result"
    }
   ],
   "source": [
    "\"\"\"Left-tailed test\n",
    "Suppose we want to find the p-value associated with a z-score of -0.77 \n",
    "in a left-tailed hypothesis test.\n",
    "(as this Z value fall the left side of Bell curve)\n",
    "\"\"\"\n"
   ]
  },
  {
   "cell_type": "code",
   "execution_count": 4,
   "id": "af22092d",
   "metadata": {},
   "outputs": [
    {
     "name": "stdout",
     "output_type": "stream",
     "text": [
      "p_value when  z score = -0.77, left-tailed hypothesis test:     0.22064994634264962\n"
     ]
    }
   ],
   "source": [
    "import scipy.stats\n",
    "\n",
    "#find p-value\n",
    "\n",
    "p_value=scipy.stats.norm.sf(abs(-0.77))\n",
    "\n",
    "print(\"p_value when  z score = -0.77, left-tailed hypothesis test:    \",p_value)\n"
   ]
  },
  {
   "cell_type": "code",
   "execution_count": 5,
   "id": "99864f6c",
   "metadata": {},
   "outputs": [
    {
     "data": {
      "text/plain": [
       "'The p-value is 0.2206 it is more than significant level, α = 0.05, \\nwe would fail to reject the null hypothesis '"
      ]
     },
     "execution_count": 5,
     "metadata": {},
     "output_type": "execute_result"
    }
   ],
   "source": [
    "\"\"\"The p-value is 0.2206 it is more than significant level, α = 0.05, \n",
    "we would fail to reject the null hypothesis \"\"\""
   ]
  },
  {
   "cell_type": "markdown",
   "id": "0189e934",
   "metadata": {},
   "source": [
    "# Right-tailed hypothesis test"
   ]
  },
  {
   "cell_type": "code",
   "execution_count": 6,
   "id": "bd8ca5d1",
   "metadata": {},
   "outputs": [
    {
     "data": {
      "text/plain": [
       "'Right-tailed hypothesis test\\nSuppose we want to find the p-value associated with a \\nz-score of 1.87 in a right-tailed hypothesis test.'"
      ]
     },
     "execution_count": 6,
     "metadata": {},
     "output_type": "execute_result"
    }
   ],
   "source": [
    "\"\"\"Right-tailed hypothesis test\n",
    "Suppose we want to find the p-value associated with a \n",
    "z-score of 1.87 in a right-tailed hypothesis test.\"\"\"\n"
   ]
  },
  {
   "cell_type": "code",
   "execution_count": 7,
   "id": "19cc8484",
   "metadata": {},
   "outputs": [
    {
     "name": "stdout",
     "output_type": "stream",
     "text": [
      "p_value when  z score = 1.87 , Right-tailed hypothesis test:     0.030741908929465954\n"
     ]
    }
   ],
   "source": [
    "import scipy.stats\n",
    "\n",
    "#find p-value\n",
    "p_value=scipy.stats.norm.sf(abs(1.87))\n",
    "\n",
    "print(\"p_value when  z score = 1.87 , Right-tailed hypothesis test:    \",p_value)"
   ]
  },
  {
   "cell_type": "code",
   "execution_count": 8,
   "id": "a19c8729",
   "metadata": {},
   "outputs": [
    {
     "data": {
      "text/plain": [
       "'The p-value is 0.0307. If we use a significance level of α = 0.05, we would reject the \\nnull hypothesis of our hypothesis test because this p-value is less than 0.05.'"
      ]
     },
     "execution_count": 8,
     "metadata": {},
     "output_type": "execute_result"
    }
   ],
   "source": [
    "\"\"\"The p-value is 0.0307. If we use a significance level of α = 0.05, we would reject the \n",
    "null hypothesis of our hypothesis test because this p-value is less than 0.05.\"\"\""
   ]
  },
  {
   "cell_type": "markdown",
   "id": "5f86f3e1",
   "metadata": {},
   "source": [
    "# Two-tailed hypothesis test"
   ]
  },
  {
   "cell_type": "code",
   "execution_count": 9,
   "id": "01e60e74",
   "metadata": {},
   "outputs": [
    {
     "data": {
      "text/plain": [
       "'Two-tailed hypothesis test\\nSuppose we want to find the p-value associated with a \\nz-score of 1.24 in a two-tailed hypothesis test.'"
      ]
     },
     "execution_count": 9,
     "metadata": {},
     "output_type": "execute_result"
    }
   ],
   "source": [
    "\"\"\"Two-tailed hypothesis test\n",
    "Suppose we want to find the p-value associated with a \n",
    "z-score of 1.24 in a two-tailed hypothesis test.\"\"\"\n"
   ]
  },
  {
   "cell_type": "code",
   "execution_count": 10,
   "id": "222bec5f",
   "metadata": {},
   "outputs": [
    {
     "name": "stdout",
     "output_type": "stream",
     "text": [
      "p_value when  z score = 1.24 , Two-tailed hypothesis test:     0.21497539414917388\n"
     ]
    }
   ],
   "source": [
    "import scipy.stats\n",
    "\n",
    "#find p-value for two-tailed test\n",
    "p_value=scipy.stats.norm.sf(abs(1.24))*2\n",
    "print(\"p_value when  z score = 1.24 , Two-tailed hypothesis test:    \",p_value)"
   ]
  },
  {
   "cell_type": "code",
   "execution_count": 11,
   "id": "3f2dc918",
   "metadata": {},
   "outputs": [
    {
     "data": {
      "text/plain": [
       "'To find this two-tailed p-value we simply multiplied the one-tailed p-value by two.\\nThe p-value is 0.2149. If we use a significance level of α = 0.05, \\nwe would fail to reject the null hypothesis of our hypothesis test because \\nthis p-value is more than 0.05.'"
      ]
     },
     "execution_count": 11,
     "metadata": {},
     "output_type": "execute_result"
    }
   ],
   "source": [
    "\"\"\"To find this two-tailed p-value we simply multiplied the one-tailed p-value by two.\n",
    "The p-value is 0.2149. If we use a significance level of α = 0.05, \n",
    "we would fail to reject the null hypothesis of our hypothesis test because \n",
    "this p-value is more than 0.05.\"\"\"\n"
   ]
  },
  {
   "cell_type": "code",
   "execution_count": null,
   "id": "bfa022ea",
   "metadata": {},
   "outputs": [],
   "source": []
  },
  {
   "cell_type": "code",
   "execution_count": null,
   "id": "9ef1d62a",
   "metadata": {},
   "outputs": [],
   "source": []
  },
  {
   "cell_type": "markdown",
   "id": "389292b3",
   "metadata": {},
   "source": [
    "# One Sample t-test in Python"
   ]
  },
  {
   "cell_type": "code",
   "execution_count": 12,
   "id": "d592acb4",
   "metadata": {},
   "outputs": [
    {
     "data": {
      "text/plain": [
       "'One Sample t-test in Python\\nA one sample t-test is used to test whether or \\nnot the mean of a population is equal to some value.\\n\\n'"
      ]
     },
     "execution_count": 12,
     "metadata": {},
     "output_type": "execute_result"
    }
   ],
   "source": [
    "\"\"\"One Sample t-test in Python\n",
    "A one sample t-test is used to test whether or \n",
    "not the mean of a population is equal to some value.\n",
    "\n",
    "\"\"\""
   ]
  },
  {
   "cell_type": "code",
   "execution_count": 13,
   "id": "5e3121e2",
   "metadata": {},
   "outputs": [
    {
     "data": {
      "text/plain": [
       "'For example, suppose we want to know whether or not \\nthe mean weight of a certain species of some turtle is \\nequal to 310 pounds.\\n\\nTo test this, we go out and collect a simple \\nrandom sample of turtles with the following weights:\\n\\nWeights: 300, 315, 320, 311, 314, 309, 300, 308, 305, 303, 305, 301, 303\\n\\nttest_1samp() function from the scipy.stats library to perform a one sample t-test:'"
      ]
     },
     "execution_count": 13,
     "metadata": {},
     "output_type": "execute_result"
    }
   ],
   "source": [
    "\"\"\"For example, suppose we want to know whether or not \n",
    "the mean weight of a certain species of some turtle is \n",
    "equal to 310 pounds.\n",
    "\n",
    "To test this, we go out and collect a simple \n",
    "random sample of turtles with the following weights:\n",
    "\n",
    "Weights: 300, 315, 320, 311, 314, 309, 300, 308, 305, 303, 305, 301, 303\n",
    "\n",
    "ttest_1samp() function from the scipy.stats library to perform a one sample t-test:\"\"\""
   ]
  },
  {
   "cell_type": "code",
   "execution_count": 14,
   "id": "76bc1802",
   "metadata": {},
   "outputs": [
    {
     "data": {
      "text/plain": [
       "'\\nThe two hypotheses for this particular one sample t-test are as follows:\\n\\nH0: µ = 310 (the mean weight for this species of turtle is 310 pounds)\\nHA: µ ≠310 (the mean weight is not 310 pounds)\\n'"
      ]
     },
     "execution_count": 14,
     "metadata": {},
     "output_type": "execute_result"
    }
   ],
   "source": [
    "\"\"\"\n",
    "The two hypotheses for this particular one sample t-test are as follows:\n",
    "\n",
    "H0: µ = 310 (the mean weight for this species of turtle is 310 pounds)\n",
    "HA: µ ≠310 (the mean weight is not 310 pounds)\n",
    "\"\"\""
   ]
  },
  {
   "cell_type": "code",
   "execution_count": 15,
   "id": "4a6c4f7b",
   "metadata": {},
   "outputs": [
    {
     "data": {
      "text/plain": [
       "Ttest_1sampResult(statistic=-1.5848116313861254, pvalue=0.1389944275158753)"
      ]
     },
     "execution_count": 15,
     "metadata": {},
     "output_type": "execute_result"
    }
   ],
   "source": [
    "import scipy.stats as stats\n",
    "\n",
    "#define data\n",
    "data = [300, 315, 320, 311, 314, 309, 300, 308, 305, 303, 305, 301, 303]\n",
    "\n",
    "#perform one sample t-test\n",
    "stats.ttest_1samp(a=data, popmean=310)\n",
    "#popmean: the expected population mean"
   ]
  },
  {
   "cell_type": "code",
   "execution_count": 16,
   "id": "4e369eef",
   "metadata": {},
   "outputs": [
    {
     "data": {
      "text/plain": [
       "'The t test statistic is -1.5848 and the corresponding two-sided p-value is 0.1389.\\n\\nBecause the p-value of our test (0.1389) is greater than alpha = 0.05, \\nwe fail to reject the null hypothesis of the test.\\n\\nWe do not have sufficient evidence to say that the mean weight \\nfor this particular species of turtle is \\ndifferent from 310 pounds.'"
      ]
     },
     "execution_count": 16,
     "metadata": {},
     "output_type": "execute_result"
    }
   ],
   "source": [
    "\"\"\"The t test statistic is -1.5848 and the corresponding two-sided p-value is 0.1389.\n",
    "\n",
    "Because the p-value of our test (0.1389) is greater than alpha = 0.05, \n",
    "we fail to reject the null hypothesis of the test.\n",
    "\n",
    "We do not have sufficient evidence to say that the mean weight \n",
    "for this particular species of turtle is \n",
    "different from 310 pounds.\"\"\""
   ]
  },
  {
   "cell_type": "code",
   "execution_count": null,
   "id": "e5de70d7",
   "metadata": {},
   "outputs": [],
   "source": []
  },
  {
   "cell_type": "code",
   "execution_count": 17,
   "id": "b7fb4507",
   "metadata": {},
   "outputs": [
    {
     "data": {
      "text/plain": [
       "'Brinell Hardness Scores\\nAn engineer measured the Brinell hardness of 25 pieces of \\nductile iron that were subcritically annealed. The resulting data were:\\n\\n170\\t167\\t174\\t179\\t179\\t187\\t179\\t183\\t179\\n156\\t163\\t156\\t187\\t156\\t167\\t156\\t174\\t170\\n183\\t179\\t174\\t179\\t170\\t159\\t187 \\n\\nThe engineer hypothesized that the mean Brinell hardness of all \\nsuch ductile iron pieces is greater than 170. Therefore, he was interested in testing the hypotheses:\\n\\nH0 : μ = 170\\nHA: μ > 170'"
      ]
     },
     "execution_count": 17,
     "metadata": {},
     "output_type": "execute_result"
    }
   ],
   "source": [
    "\"\"\"Brinell Hardness Scores\n",
    "An engineer measured the Brinell hardness of 25 pieces of \n",
    "ductile iron that were subcritically annealed. The resulting data were:\n",
    "\n",
    "170\t167\t174\t179\t179\t187\t179\t183\t179\n",
    "156\t163\t156\t187\t156\t167\t156\t174\t170\n",
    "183\t179\t174\t179\t170\t159\t187 \n",
    "\n",
    "The engineer hypothesized that the mean Brinell hardness of all \n",
    "such ductile iron pieces is greater than 170. Therefore, he was interested in testing the hypotheses:\n",
    "\n",
    "H0 : μ = 170\n",
    "HA: μ > 170\"\"\""
   ]
  },
  {
   "cell_type": "code",
   "execution_count": 18,
   "id": "8b4730d1",
   "metadata": {},
   "outputs": [
    {
     "data": {
      "text/plain": [
       "Ttest_1sampResult(statistic=1.2218430153659992, pvalue=0.23363279636357662)"
      ]
     },
     "execution_count": 18,
     "metadata": {},
     "output_type": "execute_result"
    }
   ],
   "source": [
    "import scipy.stats as stats\n",
    "\n",
    "#define data\n",
    "data = [170,167,174,179,179,187,179,183,179,156,163,156,187,156,167,156,174,170,183,\n",
    "        179,174,179,170,159,187]\n",
    "\n",
    "#perform one sample t-test\n",
    "stats.ttest_1samp(a=data, popmean=170)\n",
    "#popmean: the expected population mean"
   ]
  },
  {
   "cell_type": "code",
   "execution_count": 19,
   "id": "e9f02582",
   "metadata": {},
   "outputs": [],
   "source": [
    "# we got t test statistic is 1.22184"
   ]
  },
  {
   "cell_type": "code",
   "execution_count": null,
   "id": "a649a06c",
   "metadata": {},
   "outputs": [],
   "source": []
  },
  {
   "cell_type": "code",
   "execution_count": null,
   "id": "a8308c3d",
   "metadata": {},
   "outputs": [],
   "source": []
  },
  {
   "cell_type": "code",
   "execution_count": null,
   "id": "ae30aa19",
   "metadata": {},
   "outputs": [],
   "source": []
  },
  {
   "cell_type": "markdown",
   "id": "ec5fb05d",
   "metadata": {},
   "source": [
    "# Two Sample or Two side  t-test in Python\n"
   ]
  },
  {
   "cell_type": "code",
   "execution_count": 20,
   "id": "dbed1d6f",
   "metadata": {},
   "outputs": [
    {
     "data": {
      "text/plain": [
       "'A two sample t-test is used to test whether or \\nnot the means of two populations are equal.\\n\\nFor example, suppose we want to know whether or \\nnot the mean weight between two different species of turtles is equal.'"
      ]
     },
     "execution_count": 20,
     "metadata": {},
     "output_type": "execute_result"
    }
   ],
   "source": [
    "\"\"\"A two sample t-test is used to test whether or \n",
    "not the means of two populations are equal.\n",
    "\n",
    "For example, suppose we want to know whether or \n",
    "not the mean weight between two different species of turtles is equal.\"\"\""
   ]
  },
  {
   "cell_type": "code",
   "execution_count": 21,
   "id": "41e13cc3",
   "metadata": {},
   "outputs": [
    {
     "data": {
      "text/plain": [
       "'To test this, we collect a simple random sample of \\nturtles from each species with the following weights:\\n\\nSample 1: 300, 315, 320, 311, 314, 309, 300, 308, 305, 303, 305, 301, 303\\n\\nSample 2: 335, 329, 322, 321, 324, 319, 304, 308, 305, 311, 307, 300, 305\\n\\nThe following code shows how to use the ttest_ind() \\nfunction from the scipy.stats library to perform this two sample t-test:'"
      ]
     },
     "execution_count": 21,
     "metadata": {},
     "output_type": "execute_result"
    }
   ],
   "source": [
    "\"\"\"To test this, we collect a simple random sample of \n",
    "turtles from each species with the following weights:\n",
    "\n",
    "Sample 1: 300, 315, 320, 311, 314, 309, 300, 308, 305, 303, 305, 301, 303\n",
    "\n",
    "Sample 2: 335, 329, 322, 321, 324, 319, 304, 308, 305, 311, 307, 300, 305\n",
    "\n",
    "The following code shows how to use the ttest_ind() \n",
    "function from the scipy.stats library to perform this two sample t-test:\"\"\""
   ]
  },
  {
   "cell_type": "code",
   "execution_count": 22,
   "id": "a2d2d971",
   "metadata": {},
   "outputs": [
    {
     "data": {
      "text/plain": [
       "'The two hypotheses for this particular two sample t-test are as follows:\\n\\nH0: µ1 = µ2 (the mean weight between the two species is equal)\\nHA: µ1 ≠ µ2 (the mean weight between the two species is not equal)'"
      ]
     },
     "execution_count": 22,
     "metadata": {},
     "output_type": "execute_result"
    }
   ],
   "source": [
    "\"\"\"The two hypotheses for this particular two sample t-test are as follows:\n",
    "\n",
    "H0: µ1 = µ2 (the mean weight between the two species is equal)\n",
    "HA: µ1 ≠ µ2 (the mean weight between the two species is not equal)\"\"\""
   ]
  },
  {
   "cell_type": "code",
   "execution_count": 23,
   "id": "31c2548d",
   "metadata": {},
   "outputs": [
    {
     "data": {
      "text/plain": [
       "Ttest_indResult(statistic=-2.1009029257555696, pvalue=0.04633501389516516)"
      ]
     },
     "execution_count": 23,
     "metadata": {},
     "output_type": "execute_result"
    }
   ],
   "source": [
    "import scipy.stats as stats \n",
    "\n",
    "#define array of turtle weights for each sample\n",
    "sample1 = [300, 315, 320, 311, 314, 309, 300, 308, 305, 303, 305, 301, 303]\n",
    "sample2 = [335, 329, 322, 321, 324, 319, 304, 308, 305, 311, 307, 300, 305]\n",
    "\n",
    "#perform two sample t-test\n",
    "stats.ttest_ind(a=sample1, b=sample2) \n"
   ]
  },
  {
   "cell_type": "code",
   "execution_count": 24,
   "id": "5db35a3f",
   "metadata": {},
   "outputs": [
    {
     "data": {
      "text/plain": [
       "'The t test statistic is –2.1009 and the corresponding two-sided p-value is 0.0463.\\n\\n'"
      ]
     },
     "execution_count": 24,
     "metadata": {},
     "output_type": "execute_result"
    }
   ],
   "source": [
    "\"\"\"The t test statistic is –2.1009 and the corresponding two-sided p-value is 0.0463.\n",
    "\n",
    "\"\"\""
   ]
  },
  {
   "cell_type": "code",
   "execution_count": 25,
   "id": "bc9b1c6e",
   "metadata": {},
   "outputs": [
    {
     "data": {
      "text/plain": [
       "'Since the p-value of the test (0.0463) is less than .05, we reject the null hypothesis.\\n\\nThis means we have sufficient evidence to say that the mean weight between the two species is not equal.'"
      ]
     },
     "execution_count": 25,
     "metadata": {},
     "output_type": "execute_result"
    }
   ],
   "source": [
    "\"\"\"Since the p-value of the test (0.0463) is less than .05, we reject the null hypothesis.\n",
    "\n",
    "This means we have sufficient evidence to say that the mean weight between the two species is not equal.\"\"\""
   ]
  },
  {
   "cell_type": "markdown",
   "id": "c776e51d",
   "metadata": {},
   "source": [
    "# another example "
   ]
  },
  {
   "cell_type": "code",
   "execution_count": 26,
   "id": "0328d0f9",
   "metadata": {},
   "outputs": [
    {
     "data": {
      "text/plain": [
       "'A two sample t-test is used to test whether or \\nnot the means of two populations are equal.\\n\\nExample : \\nResearchers want to know whether or not two \\ndifferent species of plants have the same mean height. To test this, \\nthey collect a simple random sample of 20 plants from each species.\\n\\nUse the following steps to conduct a two \\nsample t-test to determine if the two species of plants have the same height.'"
      ]
     },
     "execution_count": 26,
     "metadata": {},
     "output_type": "execute_result"
    }
   ],
   "source": [
    "\"\"\"A two sample t-test is used to test whether or \n",
    "not the means of two populations are equal.\n",
    "\n",
    "Example : \n",
    "Researchers want to know whether or not two \n",
    "different species of plants have the same mean height. To test this, \n",
    "they collect a simple random sample of 20 plants from each species.\n",
    "\n",
    "Use the following steps to conduct a two \n",
    "sample t-test to determine if the two species of plants have the same height.\"\"\""
   ]
  },
  {
   "cell_type": "code",
   "execution_count": 27,
   "id": "9775c94a",
   "metadata": {},
   "outputs": [],
   "source": [
    "import numpy as np\n",
    "\n",
    "group1 = np.array([14, 15, 15, 16, 13, 8, 14, 17, 16, 14, 19, 20, 21, 15, 15, 16, 16, 13, 14, 12])\n",
    "group2 = np.array([15, 17, 14, 17, 14, 8, 12, 19, 19, 14, 17, 22, 24, 16, 13, 16, 13, 18, 15, 13])"
   ]
  },
  {
   "cell_type": "code",
   "execution_count": 28,
   "id": "f7a37253",
   "metadata": {},
   "outputs": [
    {
     "name": "stdout",
     "output_type": "stream",
     "text": [
      "7.727500000000001 12.260000000000002\n"
     ]
    }
   ],
   "source": [
    "#find variance for each group\n",
    "print(np.var(group1), np.var(group2))"
   ]
  },
  {
   "cell_type": "code",
   "execution_count": 29,
   "id": "d9fe96db",
   "metadata": {},
   "outputs": [
    {
     "data": {
      "text/plain": [
       "'The ratio of the larger sample variance to the smaller \\nsample variance is 12.26 / 7.73 = 1.586, which is less than 4. \\nThis means we can assume that the population variances are equal.\\n\\nThus, we can proceed to perform the two sample t-test with equal variances:\\n\\n'"
      ]
     },
     "execution_count": 29,
     "metadata": {},
     "output_type": "execute_result"
    }
   ],
   "source": [
    "\"\"\"The ratio of the larger sample variance to the smaller \n",
    "sample variance is 12.26 / 7.73 = 1.586, which is less than 4. \n",
    "This means we can assume that the population variances are equal.\n",
    "\n",
    "Thus, we can proceed to perform the two sample t-test with equal variances:\n",
    "\n",
    "\"\"\""
   ]
  },
  {
   "cell_type": "code",
   "execution_count": 30,
   "id": "6a6250f7",
   "metadata": {},
   "outputs": [
    {
     "data": {
      "text/plain": [
       "Ttest_indResult(statistic=-0.6337397070250238, pvalue=0.5300471010405257)"
      ]
     },
     "execution_count": 30,
     "metadata": {},
     "output_type": "execute_result"
    }
   ],
   "source": [
    "import scipy.stats as stats\n",
    "\n",
    "#perform two sample t-test with un-equal variances\n",
    "stats.ttest_ind(a=group1, b=group2,equal_var=True)"
   ]
  },
  {
   "cell_type": "code",
   "execution_count": 31,
   "id": "b29a11d5",
   "metadata": {},
   "outputs": [],
   "source": [
    "# Incase variance are not equal"
   ]
  },
  {
   "cell_type": "code",
   "execution_count": 32,
   "id": "49f3c2ec",
   "metadata": {},
   "outputs": [
    {
     "data": {
      "text/plain": [
       "Ttest_indResult(statistic=-0.6337397070250238, pvalue=0.5302413334606599)"
      ]
     },
     "execution_count": 32,
     "metadata": {},
     "output_type": "execute_result"
    }
   ],
   "source": [
    "import scipy.stats as stats\n",
    "\n",
    "#perform two sample t-test with un-equal variances\n",
    "stats.ttest_ind(a=group1, b=group2,equal_var=False)"
   ]
  },
  {
   "cell_type": "code",
   "execution_count": 33,
   "id": "94840c21",
   "metadata": {},
   "outputs": [
    {
     "data": {
      "text/plain": [
       "'The t test statistic is -0.6337 and the corresponding two-sided p-value is 0.53005.\\n\\nStep 3: Interpret the results.\\n\\nThe two hypotheses for this particular two sample t-test are as follows:\\n\\nH0: µ1 = µ2 (the two population means are equal)\\n\\nHA: µ1 ≠µ2 (the two population means are not equal)\\n\\nBecause the p-value of our test (0.53005) is greater than alpha = 0.05, \\nwe fail to reject the null hypothesis of the test. \\nWe do not have sufficient evidence to say that the mean height \\nof plants between the two populations is different.'"
      ]
     },
     "execution_count": 33,
     "metadata": {},
     "output_type": "execute_result"
    }
   ],
   "source": [
    "\"\"\"The t test statistic is -0.6337 and the corresponding two-sided p-value is 0.53005.\n",
    "\n",
    "Step 3: Interpret the results.\n",
    "\n",
    "The two hypotheses for this particular two sample t-test are as follows:\n",
    "\n",
    "H0: µ1 = µ2 (the two population means are equal)\n",
    "\n",
    "HA: µ1 ≠µ2 (the two population means are not equal)\n",
    "\n",
    "Because the p-value of our test (0.53005) is greater than alpha = 0.05, \n",
    "we fail to reject the null hypothesis of the test. \n",
    "We do not have sufficient evidence to say that the mean height \n",
    "of plants between the two populations is different.\"\"\""
   ]
  },
  {
   "cell_type": "code",
   "execution_count": null,
   "id": "5ad62ac5",
   "metadata": {},
   "outputs": [],
   "source": []
  },
  {
   "cell_type": "markdown",
   "id": "c51299d0",
   "metadata": {},
   "source": [
    "# Paired Samples t-test in Python"
   ]
  },
  {
   "cell_type": "code",
   "execution_count": 34,
   "id": "bf07a58f",
   "metadata": {},
   "outputs": [
    {
     "data": {
      "text/plain": [
       "'Example 3: Paired Samples t-test in Python\\nA paired samples t-test is used to compare the means of \\ntwo samples when each observation in one sample \\ncan be paired with an observation in the other sample.\\n\\n'"
      ]
     },
     "execution_count": 34,
     "metadata": {},
     "output_type": "execute_result"
    }
   ],
   "source": [
    "\"\"\"Example 3: Paired Samples t-test in Python\n",
    "A paired samples t-test is used to compare the means of \n",
    "two samples when each observation in one sample \n",
    "can be paired with an observation in the other sample.\n",
    "\n",
    "\"\"\""
   ]
  },
  {
   "cell_type": "code",
   "execution_count": 35,
   "id": "a5ff82a7",
   "metadata": {},
   "outputs": [
    {
     "data": {
      "text/plain": [
       "'For example, suppose we want to know whether or not a \\ncertain training program is able to increase \\nthe max vertical jump (in inches) of basketball players.\\n\\nTo test this, we may recruit a simple random sample of \\n12 college basketball players and measure each of \\ntheir max vertical jumps. Then, we may have each player \\nuse the training program for one month and then measure \\ntheir max vertical jump again at the end of the month.\\n\\nThe following data shows the max jump height (in inches) \\nbefore and after using the training program for each player:\\n\\nBefore: 22, 24, 20, 19, 19, 20, 22, 25, 24, 23, 22, 21\\n\\nAfter: 23, 25, 20, 24, 18, 22, 23, 28, 24, 25, 24, 20  '"
      ]
     },
     "execution_count": 35,
     "metadata": {},
     "output_type": "execute_result"
    }
   ],
   "source": [
    "\"\"\"For example, suppose we want to know whether or not a \n",
    "certain training program is able to increase \n",
    "the max vertical jump (in inches) of basketball players.\n",
    "\n",
    "To test this, we may recruit a simple random sample of \n",
    "12 college basketball players and measure each of \n",
    "their max vertical jumps. Then, we may have each player \n",
    "use the training program for one month and then measure \n",
    "their max vertical jump again at the end of the month.\n",
    "\n",
    "The following data shows the max jump height (in inches) \n",
    "before and after using the training program for each player:\n",
    "\n",
    "Before: 22, 24, 20, 19, 19, 20, 22, 25, 24, 23, 22, 21\n",
    "\n",
    "After: 23, 25, 20, 24, 18, 22, 23, 28, 24, 25, 24, 20  \"\"\""
   ]
  },
  {
   "cell_type": "code",
   "execution_count": 36,
   "id": "b9e2fd50",
   "metadata": {},
   "outputs": [
    {
     "data": {
      "text/plain": [
       "'The two hypotheses for this particular paired samples t-test are as follows:\\n\\nH0: µ1 = µ2 (the mean jump height before and after using the program is equal)\\nHA: µ1 ≠ µ2 (the mean jump height before and after using the program is not equal) '"
      ]
     },
     "execution_count": 36,
     "metadata": {},
     "output_type": "execute_result"
    }
   ],
   "source": [
    "\"\"\"The two hypotheses for this particular paired samples t-test are as follows:\n",
    "\n",
    "H0: µ1 = µ2 (the mean jump height before and after using the program is equal)\n",
    "HA: µ1 ≠ µ2 (the mean jump height before and after using the program is not equal) \"\"\""
   ]
  },
  {
   "cell_type": "code",
   "execution_count": 37,
   "id": "8d02ef20",
   "metadata": {},
   "outputs": [
    {
     "data": {
      "text/plain": [
       "'The following code shows how to use the ttest_rel() \\nfunction from the scipy.stats library to perform this paired \\nsamples t-test:'"
      ]
     },
     "execution_count": 37,
     "metadata": {},
     "output_type": "execute_result"
    }
   ],
   "source": [
    "\"\"\"The following code shows how to use the ttest_rel() \n",
    "function from the scipy.stats library to perform this paired \n",
    "samples t-test:\"\"\""
   ]
  },
  {
   "cell_type": "code",
   "execution_count": 38,
   "id": "879dafd2",
   "metadata": {},
   "outputs": [],
   "source": [
    "import scipy.stats as stats  \n",
    "\n",
    "#define before and after max jump heights\n",
    "before = [22, 24, 20, 19, 19, 20, 22, 25, 24, 23, 22, 21]\n",
    "after = [23, 25, 20, 24, 18, 22, 23, 28, 24, 25, 24, 20]\n",
    "\n"
   ]
  },
  {
   "cell_type": "code",
   "execution_count": 39,
   "id": "4a0fb112",
   "metadata": {},
   "outputs": [
    {
     "name": "stdout",
     "output_type": "stream",
     "text": [
      "3.6875 6.666666666666667\n"
     ]
    }
   ],
   "source": [
    "import numpy as np\n",
    "#find variance for each group\n",
    "print(np.var(before), np.var(after))"
   ]
  },
  {
   "cell_type": "code",
   "execution_count": 40,
   "id": "53f174c8",
   "metadata": {},
   "outputs": [
    {
     "data": {
      "text/plain": [
       "Ttest_relResult(statistic=-2.5289026942943655, pvalue=0.02802807458682508)"
      ]
     },
     "execution_count": 40,
     "metadata": {},
     "output_type": "execute_result"
    }
   ],
   "source": [
    "#perform paired samples t-test\n",
    "stats.ttest_rel(a=before, b=after)"
   ]
  },
  {
   "cell_type": "code",
   "execution_count": 41,
   "id": "874965ad",
   "metadata": {},
   "outputs": [
    {
     "data": {
      "text/plain": [
       "'The t test statistic is –2.5289 and the corresponding two-sided p-value is 0.0280.\\n\\nSince the p-value of the test (0.0280) is less than .05, we reject the null hypothesis. \\ndata is not normally distributed'"
      ]
     },
     "execution_count": 41,
     "metadata": {},
     "output_type": "execute_result"
    }
   ],
   "source": [
    "\"\"\"The t test statistic is –2.5289 and the corresponding two-sided p-value is 0.0280.\n",
    "\n",
    "Since the p-value of the test (0.0280) is less than .05, we reject the null hypothesis. \n",
    "data is not normally distributed\"\"\""
   ]
  },
  {
   "cell_type": "code",
   "execution_count": 42,
   "id": "9f0c8864",
   "metadata": {},
   "outputs": [
    {
     "data": {
      "text/plain": [
       "'This means we have sufficient evidence to \\nsay that the mean jump height before and after using the training program \\nis not equal.'"
      ]
     },
     "execution_count": 42,
     "metadata": {},
     "output_type": "execute_result"
    }
   ],
   "source": [
    "\"\"\"This means we have sufficient evidence to \n",
    "say that the mean jump height before and after using the training program \n",
    "is not equal.\"\"\""
   ]
  },
  {
   "cell_type": "code",
   "execution_count": null,
   "id": "9cc9ce86",
   "metadata": {},
   "outputs": [],
   "source": []
  },
  {
   "cell_type": "markdown",
   "id": "2e14f1a8",
   "metadata": {},
   "source": [
    "# hypothesis test university exam"
   ]
  },
  {
   "cell_type": "code",
   "execution_count": 43,
   "id": "0c948610",
   "metadata": {},
   "outputs": [
    {
     "data": {
      "text/plain": [
       "'A university professor gave online lectures instead of \\nface-to-face classes due to Covid-19. Later, \\nhe uploaded recorded lectures to the cloud for students who \\nfollowed the course asynchronously \\n(those who did not attend the lesson but later watched the records). \\n\\nHowever, he believes that the students who attend class at the class \\ntime and participate in the process are more successful. \\n\\nTherefore, he recorded the average grades of the students \\nat the end of the semester. The data is below.\\n\\nsynchronous = [94. , 84.9, 82.6, 69.5, 80.1, 79.6, 81.4, \\n77.8, 81.7, 78.8, 73.2, 87.9, 87.9, 93.5, 82.3, 79.3, 78.3, 71.6, 88.6, 74.6, 74.1, 80.6]\\n\\nasynchronous = [77.1, 71.7, 91. , 72.2, 74.8, 85.1, 67.6, \\n69.9, 75.3, 71.7, 65.7, 72.6, 71.5, 78.2]\\n\\nConduct the hypothesis testing to check whether the professor’s \\nbelief is statistically significant by using a 0.05 \\nsignificance level to evaluate the null and alternative hypotheses. \\nBefore doing hypothesis testing, check the related assumptions.'"
      ]
     },
     "execution_count": 43,
     "metadata": {},
     "output_type": "execute_result"
    }
   ],
   "source": [
    "\"\"\"A university professor gave online lectures instead of \n",
    "face-to-face classes due to Covid-19. Later, \n",
    "he uploaded recorded lectures to the cloud for students who \n",
    "followed the course asynchronously \n",
    "(those who did not attend the lesson but later watched the records). \n",
    "\n",
    "However, he believes that the students who attend class at the class \n",
    "time and participate in the process are more successful. \n",
    "\n",
    "Therefore, he recorded the average grades of the students \n",
    "at the end of the semester. The data is below.\n",
    "\n",
    "synchronous = [94. , 84.9, 82.6, 69.5, 80.1, 79.6, 81.4, \n",
    "77.8, 81.7, 78.8, 73.2, 87.9, 87.9, 93.5, 82.3, 79.3, 78.3, 71.6, 88.6, 74.6, 74.1, 80.6]\n",
    "\n",
    "asynchronous = [77.1, 71.7, 91. , 72.2, 74.8, 85.1, 67.6, \n",
    "69.9, 75.3, 71.7, 65.7, 72.6, 71.5, 78.2]\n",
    "\n",
    "Conduct the hypothesis testing to check whether the professor’s \n",
    "belief is statistically significant by using a 0.05 \n",
    "significance level to evaluate the null and alternative hypotheses. \n",
    "Before doing hypothesis testing, check the related assumptions.\"\"\""
   ]
  },
  {
   "cell_type": "code",
   "execution_count": 44,
   "id": "71aed9b7",
   "metadata": {},
   "outputs": [
    {
     "data": {
      "text/plain": [
       "'1. Defining Hypothesis\\nSince the grades are obtained from the different individuals, the data is unpaired.\\n\\nH₀: μₛ≤μₐ\\nH₁: μₛ>μₐ\\n\\n2. Assumption Check\\nH₀: The data is normally distributed.\\nH₁: The data is not normally distributed.\\nAssume that α=0.05. If the p-value is >0.05, it can be said \\nthat data is normally distributed.'"
      ]
     },
     "execution_count": 44,
     "metadata": {},
     "output_type": "execute_result"
    }
   ],
   "source": [
    "\"\"\"1. Defining Hypothesis\n",
    "Since the grades are obtained from the different individuals, the data is unpaired.\n",
    "\n",
    "H₀: μₛ≤μₐ\n",
    "H₁: μₛ>μₐ\n",
    "\n",
    "2. Assumption Check\n",
    "H₀: The data is normally distributed.\n",
    "H₁: The data is not normally distributed.\n",
    "Assume that α=0.05. If the p-value is >0.05, it can be said \n",
    "that data is normally distributed.\"\"\""
   ]
  },
  {
   "cell_type": "code",
   "execution_count": 45,
   "id": "ba5efe46",
   "metadata": {},
   "outputs": [],
   "source": [
    "sync = np.array([94. , 84.9, 82.6, 69.5, 80.1, 79.6, 81.4, 77.8, 81.7, 78.8, 73.2,\n",
    "       87.9, 87.9, 93.5, 82.3, 79.3, 78.3, 71.6, 88.6, 74.6, 74.1, 80.6])\n",
    "asyncr = np.array([77.1, 71.7, 91. , 72.2, 74.8, 85.1, 67.6, 69.9, 75.3, 71.7, 65.7, 72.6, 71.5, 78.2])"
   ]
  },
  {
   "cell_type": "code",
   "execution_count": 46,
   "id": "c21c565f",
   "metadata": {},
   "outputs": [
    {
     "name": "stdout",
     "output_type": "stream",
     "text": [
      "40.75208677685952 41.81714285714285\n"
     ]
    }
   ],
   "source": [
    "#find variance for each group\n",
    "print(np.var(sync), np.var(asyncr))"
   ]
  },
  {
   "cell_type": "code",
   "execution_count": 47,
   "id": "05481c91",
   "metadata": {},
   "outputs": [
    {
     "data": {
      "text/plain": [
       "Ttest_indResult(statistic=2.8241907458142563, pvalue=0.008754235249671019)"
      ]
     },
     "execution_count": 47,
     "metadata": {},
     "output_type": "execute_result"
    }
   ],
   "source": [
    "import scipy.stats as stats\n",
    "\n",
    "#perform two sample t-test with un-equal variances\n",
    "stats.ttest_ind(a=sync, b=asyncr,equal_var=False)"
   ]
  },
  {
   "cell_type": "code",
   "execution_count": 48,
   "id": "a2a7adb0",
   "metadata": {},
   "outputs": [],
   "source": [
    "# pvalue=0.00875 which is less than alpha value 0.05. \n",
    "#we reject null hypothesis. data is not normally distributed"
   ]
  },
  {
   "cell_type": "code",
   "execution_count": null,
   "id": "8f6575a0",
   "metadata": {},
   "outputs": [],
   "source": []
  },
  {
   "cell_type": "markdown",
   "id": "88e70c1e",
   "metadata": {},
   "source": [
    "# Perform t-Tests in Pandas"
   ]
  },
  {
   "cell_type": "code",
   "execution_count": null,
   "id": "36782d6c",
   "metadata": {},
   "outputs": [],
   "source": []
  },
  {
   "cell_type": "code",
   "execution_count": 49,
   "id": "86d29b70",
   "metadata": {},
   "outputs": [
    {
     "data": {
      "text/plain": [
       "'\\nFor example, suppose a professor wants to know if \\ntwo different studying methods lead to different mean exam scores.\\n\\nTo test this, he recruits 10 students to use method A and 10 students to use method B.\\n\\n :'"
      ]
     },
     "execution_count": 49,
     "metadata": {},
     "output_type": "execute_result"
    }
   ],
   "source": [
    "\"\"\"\n",
    "For example, suppose a professor wants to know if \n",
    "two different studying methods lead to different mean exam scores.\n",
    "\n",
    "To test this, he recruits 10 students to use method A and 10 students to use method B.\n",
    "\n",
    " :\"\"\""
   ]
  },
  {
   "cell_type": "code",
   "execution_count": 50,
   "id": "9f1cce32",
   "metadata": {},
   "outputs": [
    {
     "data": {
      "text/html": [
       "<div>\n",
       "<style scoped>\n",
       "    .dataframe tbody tr th:only-of-type {\n",
       "        vertical-align: middle;\n",
       "    }\n",
       "\n",
       "    .dataframe tbody tr th {\n",
       "        vertical-align: top;\n",
       "    }\n",
       "\n",
       "    .dataframe thead th {\n",
       "        text-align: right;\n",
       "    }\n",
       "</style>\n",
       "<table border=\"1\" class=\"dataframe\">\n",
       "  <thead>\n",
       "    <tr style=\"text-align: right;\">\n",
       "      <th></th>\n",
       "      <th>method</th>\n",
       "      <th>score</th>\n",
       "    </tr>\n",
       "  </thead>\n",
       "  <tbody>\n",
       "    <tr>\n",
       "      <th>0</th>\n",
       "      <td>A</td>\n",
       "      <td>71</td>\n",
       "    </tr>\n",
       "    <tr>\n",
       "      <th>1</th>\n",
       "      <td>A</td>\n",
       "      <td>72</td>\n",
       "    </tr>\n",
       "    <tr>\n",
       "      <th>2</th>\n",
       "      <td>A</td>\n",
       "      <td>72</td>\n",
       "    </tr>\n",
       "    <tr>\n",
       "      <th>3</th>\n",
       "      <td>A</td>\n",
       "      <td>75</td>\n",
       "    </tr>\n",
       "    <tr>\n",
       "      <th>4</th>\n",
       "      <td>A</td>\n",
       "      <td>78</td>\n",
       "    </tr>\n",
       "  </tbody>\n",
       "</table>\n",
       "</div>"
      ],
      "text/plain": [
       "  method  score\n",
       "0      A     71\n",
       "1      A     72\n",
       "2      A     72\n",
       "3      A     75\n",
       "4      A     78"
      ]
     },
     "execution_count": 50,
     "metadata": {},
     "output_type": "execute_result"
    }
   ],
   "source": [
    "import pandas as pd\n",
    "from scipy.stats import ttest_ind\n",
    "\n",
    "#create pandas DataFrame\n",
    "df = pd.DataFrame({'method': ['A', 'A', 'A', 'A', 'A', 'A', 'A', 'A', 'A', 'A',\n",
    "                              'B', 'B', 'B', 'B', 'B', 'B', 'B', 'B', 'B', 'B'],\n",
    "                   'score': [71, 72, 72, 75, 78, 81, 82, 83, 89, 91, 80, 81, 81,\n",
    "                             84, 88, 88, 89, 90, 90, 91]})\n",
    "\n",
    "#view first five rows of DataFrame\n",
    "df.head()"
   ]
  },
  {
   "cell_type": "code",
   "execution_count": 51,
   "id": "3dbe6bd8",
   "metadata": {},
   "outputs": [
    {
     "data": {
      "text/plain": [
       "Ttest_indResult(statistic=-2.6034304605397938, pvalue=0.017969284594810425)"
      ]
     },
     "execution_count": 51,
     "metadata": {},
     "output_type": "execute_result"
    }
   ],
   "source": [
    "#define samples\n",
    "group1 = df[df['method']=='A']\n",
    "group2 = df[df['method']=='B']\n",
    "\n",
    "#the ttest_ind() function from the SciPy library to perform an independent two sample t-test\n",
    "\n",
    "ttest_ind(group1['score'], group2['score'])\n"
   ]
  },
  {
   "cell_type": "code",
   "execution_count": 52,
   "id": "9127c768",
   "metadata": {},
   "outputs": [
    {
     "data": {
      "text/plain": [
       "'From the output we can see:\\n\\nt test statistic: –2.6034\\np-value: 0.0179\\nSince the p-value is less than .05, we reject the null hypothesis of the t-test and conclude that there is \\nsufficient evidence to say that the two methods lead to different mean exam scores.'"
      ]
     },
     "execution_count": 52,
     "metadata": {},
     "output_type": "execute_result"
    }
   ],
   "source": [
    "\"\"\"From the output we can see:\n",
    "\n",
    "t test statistic: –2.6034\n",
    "p-value: 0.0179\n",
    "Since the p-value is less than .05, we reject the null hypothesis of the t-test and conclude that there is \n",
    "sufficient evidence to say that the two methods lead to different mean exam scores.\"\"\""
   ]
  },
  {
   "cell_type": "code",
   "execution_count": null,
   "id": "0f5740b4",
   "metadata": {},
   "outputs": [],
   "source": []
  },
  {
   "cell_type": "markdown",
   "id": "f4832a0f",
   "metadata": {},
   "source": [
    "# Welch’s t-Test in Pandas"
   ]
  },
  {
   "cell_type": "code",
   "execution_count": 53,
   "id": "1e47dd10",
   "metadata": {},
   "outputs": [
    {
     "data": {
      "text/plain": [
       "'Welch’s t-Test in Pandas\\nWelch’s t-test is similar to the independent two sample t-test, \\nexcept it does not assume that the two \\npopulations that the samples came from have equal variance.\\n\\nTo perform Welch’s t-test on the exact same dataset as the \\nprevious example, we simply need to \\nspecify equal_var=False within the ttest_ind() function as follows:'"
      ]
     },
     "execution_count": 53,
     "metadata": {},
     "output_type": "execute_result"
    }
   ],
   "source": [
    "\"\"\"Welch’s t-Test in Pandas\n",
    "Welch’s t-test is similar to the independent two sample t-test, \n",
    "except it does not assume that the two \n",
    "populations that the samples came from have equal variance.\n",
    "\n",
    "To perform Welch’s t-test on the exact same dataset as the \n",
    "previous example, we simply need to \n",
    "specify equal_var=False within the ttest_ind() function as follows:\"\"\""
   ]
  },
  {
   "cell_type": "code",
   "execution_count": 54,
   "id": "bd68ed2d",
   "metadata": {},
   "outputs": [
    {
     "data": {
      "text/plain": [
       "Ttest_indResult(statistic=-2.603430460539794, pvalue=0.02014688617423973)"
      ]
     },
     "execution_count": 54,
     "metadata": {},
     "output_type": "execute_result"
    }
   ],
   "source": [
    "import pandas as pd\n",
    "from scipy.stats import ttest_ind\n",
    "\n",
    "#create pandas DataFrame\n",
    "df = pd.DataFrame({'method': ['A', 'A', 'A', 'A', 'A', 'A', 'A', 'A', 'A', 'A',\n",
    "                              'B', 'B', 'B', 'B', 'B', 'B', 'B', 'B', 'B', 'B'],\n",
    "                   'score': [71, 72, 72, 75, 78, 81, 82, 83, 89, 91, 80, 81, 81,\n",
    "                             84, 88, 88, 89, 90, 90, 91]})\n",
    "\n",
    "#define samples\n",
    "group1 = df[df['method']=='A']\n",
    "group2 = df[df['method']=='B']\n",
    "\n",
    "#perform Welch's t-test\n",
    "ttest_ind(group1['score'], group2['score'], equal_var=False)"
   ]
  },
  {
   "cell_type": "code",
   "execution_count": 55,
   "id": "760c6503",
   "metadata": {},
   "outputs": [
    {
     "data": {
      "text/plain": [
       "'From the output we can see:\\n\\nt test statistic: –2.6034\\np-value: 0.0201\\nSince the p-value is less than .05, we reject the null hypothesis of Welch’s t-test and conclude that \\nthere is sufficient evidence to say that the two methods lead to different mean exam scores.'"
      ]
     },
     "execution_count": 55,
     "metadata": {},
     "output_type": "execute_result"
    }
   ],
   "source": [
    "\"\"\"From the output we can see:\n",
    "\n",
    "t test statistic: –2.6034\n",
    "p-value: 0.0201\n",
    "Since the p-value is less than .05, we reject the null hypothesis of Welch’s t-test and conclude that \n",
    "there is sufficient evidence to say that the two methods lead to different mean exam scores.\"\"\""
   ]
  },
  {
   "cell_type": "code",
   "execution_count": null,
   "id": "0de13be9",
   "metadata": {},
   "outputs": [],
   "source": []
  },
  {
   "cell_type": "code",
   "execution_count": null,
   "id": "a58c1d57",
   "metadata": {},
   "outputs": [],
   "source": []
  },
  {
   "cell_type": "markdown",
   "id": "a85da1c9",
   "metadata": {},
   "source": [
    "# Test for Normality "
   ]
  },
  {
   "cell_type": "markdown",
   "id": "8a6ac5da",
   "metadata": {},
   "source": [
    "# Traqnsforming  non symmetrical data to symmetrical data"
   ]
  },
  {
   "cell_type": "code",
   "execution_count": 56,
   "id": "3feaf59d",
   "metadata": {},
   "outputs": [
    {
     "data": {
      "text/plain": [
       "'\\nWhen a sample is not normally distributed and is not even symmetric, \\nthen sometimes it can be useful to transform the data so that \\nthe transformed data is more normal or at least roughly symmetric. '"
      ]
     },
     "execution_count": 56,
     "metadata": {},
     "output_type": "execute_result"
    }
   ],
   "source": [
    "\"\"\"\n",
    "When a sample is not normally distributed and is not even symmetric, \n",
    "then sometimes it can be useful to transform the data so that \n",
    "the transformed data is more normal or at least roughly symmetric. \"\"\"\n"
   ]
  },
  {
   "cell_type": "code",
   "execution_count": 57,
   "id": "9c0f8671",
   "metadata": {},
   "outputs": [],
   "source": [
    "import math\n",
    "import numpy as np\n",
    "from scipy.stats import lognorm\n",
    "\n",
    "import matplotlib.pyplot as plt\n",
    "\n",
    "#Logarithmic can be used to transform a normal distribution into a log-normal distribution. \n",
    "# result from a set of random variables that are normally distributed\n",
    "\n",
    "# Random variable generation.\n",
    "np.random.seed(1)\n",
    "\n",
    "#generate dataset that contains 1000 log-normal distributed values\n",
    "lognorm_dataset = lognorm.rvs(s=0.5,scale=1, size=1000)\n",
    "\n"
   ]
  },
  {
   "cell_type": "code",
   "execution_count": 58,
   "id": "d8ae52e0",
   "metadata": {},
   "outputs": [
    {
     "data": {
      "text/plain": [
       "(array([110., 307., 247., 168.,  84.,  37.,  28.,  10.,   3.,   3.,   0.,\n",
       "          0.,   1.,   0.,   1.,   0.,   0.,   0.,   0.,   1.]),\n",
       " array([0.21721184, 0.56823548, 0.91925912, 1.27028276, 1.6213064 ,\n",
       "        1.97233003, 2.32335367, 2.67437731, 3.02540095, 3.37642459,\n",
       "        3.72744823, 4.07847187, 4.42949551, 4.78051915, 5.13154279,\n",
       "        5.48256643, 5.83359007, 6.18461371, 6.53563735, 6.88666099,\n",
       "        7.23768462]),\n",
       " <BarContainer object of 20 artists>)"
      ]
     },
     "execution_count": 58,
     "metadata": {},
     "output_type": "execute_result"
    },
    {
     "data": {
      "image/png": "[encoded data removed]",
      "text/plain": [
       "<Figure size 432x288 with 1 Axes>"
      ]
     },
     "metadata": {
      "needs_background": "light"
     },
     "output_type": "display_data"
    }
   ],
   "source": [
    "\"\"\"\n",
    "Method1 creating a histogram :-(Visual Method to observe the data symmetric) \n",
    "Create a histogram.\n",
    "\n",
    "If the histogram is roughly “bell-shaped”, \n",
    "then the data is assumed to be normally distributed.\"\"\"\n",
    "\n",
    "#create histogram to visualize values in dataset\n",
    "plt.hist(lognorm_dataset, edgecolor='black', bins=20)"
   ]
  },
  {
   "cell_type": "code",
   "execution_count": 59,
   "id": "fa4a79b7",
   "metadata": {},
   "outputs": [
    {
     "data": {
      "text/plain": [
       "'\\nBy simply looking at this histogram, \\nwe can tell the dataset does not exhibit a\\n“bell-shape” and is not normally distributed.\\n'"
      ]
     },
     "execution_count": 59,
     "metadata": {},
     "output_type": "execute_result"
    }
   ],
   "source": [
    "\"\"\"\n",
    "By simply looking at this histogram, \n",
    "we can tell the dataset does not exhibit a\n",
    "“bell-shape” and is not normally distributed.\n",
    "\"\"\""
   ]
  },
  {
   "cell_type": "markdown",
   "id": "708cfa3f",
   "metadata": {},
   "source": [
    "# Create a Q-Q plot"
   ]
  },
  {
   "cell_type": "code",
   "execution_count": 60,
   "id": "84080a7b",
   "metadata": {},
   "outputs": [],
   "source": [
    "# 2: Create a Q-Q plot\n"
   ]
  },
  {
   "cell_type": "code",
   "execution_count": 61,
   "id": "e8590760",
   "metadata": {},
   "outputs": [
    {
     "name": "stderr",
     "output_type": "stream",
     "text": [
      "C:\\Users\\User\\anaconda3\\lib\\site-packages\\statsmodels\\graphics\\gofplots.py:993: UserWarning: marker is redundantly defined by the 'marker' keyword argument and the fmt string \"bo\" (-> marker='o'). The keyword argument will take precedence.\n",
      "  ax.plot(x, y, fmt, **plot_style)\n"
     ]
    },
    {
     "data": {
      "image/png": "[encoded data removed]",
      "text/plain": [
       "<Figure size 432x288 with 1 Axes>"
      ]
     },
     "metadata": {
      "needs_background": "light"
     },
     "output_type": "display_data"
    }
   ],
   "source": [
    "import math\n",
    "import numpy as np\n",
    "from scipy.stats import lognorm\n",
    "import statsmodels.api as sm\n",
    "import matplotlib.pyplot as plt\n",
    "\n",
    "#make this example reproducible\n",
    "np.random.seed(1)\n",
    "\n",
    "#generate dataset that contains 1000 log-normal distributed values\n",
    "#lognorm_dataset = lognorm.rvs(s=0.5, scale=math.exp(1), size=1000)\n",
    "#lognorm_dataset = lognorm.rvs(s=0.5, scale=1, size=1000)\n",
    "#create Q-Q plot with 45-degree line added to plot\n",
    "fig = sm.qqplot(lognorm_dataset, line='45')\n",
    "\n",
    "plt.show()"
   ]
  },
  {
   "cell_type": "code",
   "execution_count": 62,
   "id": "2be69be9",
   "metadata": {},
   "outputs": [
    {
     "data": {
      "text/plain": [
       "array([2.25279729, 0.73647631, 0.76790759, 0.58480062, 1.54141961,\n",
       "       0.31639326, 2.39266039, 0.68344886, 1.17294719, 0.88277477,\n",
       "       2.07726883, 0.35698184, 0.85111451, 0.82528444, 1.76276698,\n",
       "       0.57698118, 0.91739779, 0.64472642, 1.0213312 , 1.33830998,\n",
       "       0.57677122, 1.77244838, 1.56956005, 1.28562781, 1.56898353,\n",
       "       0.71044487, 0.94040456, 0.62632572, 0.87463901, 1.30366266,\n",
       "       0.70763251, 0.82006083, 0.70922224, 0.65533887, 0.71489252,\n",
       "       0.99368771, 0.57197776, 1.1243531 , 2.29309192, 1.44921507,\n",
       "       0.90853872, 0.64158444, 0.68826651, 2.3308367 , 1.02572931,\n",
       "       0.72724066, 1.10016233, 2.85801569, 1.06192094, 1.36151977,\n",
       "       1.16193319, 0.83851323, 0.56481383, 0.83973294, 0.90082243,\n",
       "       1.34086053, 1.52118815, 1.5928917 , 1.15349177, 1.55670371,\n",
       "       0.68577961, 1.87092709, 1.29235342, 0.86152912, 1.27667504,\n",
       "       0.96291912, 1.76088178, 2.13808038, 2.98257703, 0.497456  ,\n",
       "       0.48575208, 0.77706371, 1.08330715, 1.54973579, 1.17095245,\n",
       "       0.36381834, 0.85804219, 1.51283795, 1.12192658, 1.46375579,\n",
       "       0.89479193, 0.90449452, 1.09776983, 1.22755676, 1.10423177,\n",
       "       1.06131035, 0.71510125, 1.2077775 , 1.06280393, 1.75899382,\n",
       "       1.82113319, 1.09699893, 0.82891101, 0.72661014, 1.2358354 ,\n",
       "       1.03942745, 0.84204078, 1.02203775, 0.73344665, 1.4176719 ,\n",
       "       0.79966349, 1.84458414, 1.22353697, 1.34553171, 0.57841948,\n",
       "       1.08838094, 1.44813747, 0.62073545, 0.87536945, 1.01644096,\n",
       "       0.50330514, 1.17067405, 1.52665692, 0.65066656, 1.19157146,\n",
       "       0.51884935, 0.98083821, 0.44579941, 1.75191391, 1.22685044,\n",
       "       0.98776696, 0.67869679, 1.89056923, 2.67393421, 0.39495204,\n",
       "       1.85536606, 2.25652355, 1.18412706, 0.54901253, 1.53983098,\n",
       "       0.91351074, 0.73936741, 0.54062518, 1.31688454, 1.48646889,\n",
       "       0.7321533 , 1.29730387, 0.56429919, 1.49321351, 1.02355683,\n",
       "       0.91093395, 0.95039942, 1.54410288, 1.45529091, 1.30308257,\n",
       "       1.07127615, 1.03967749, 1.36232137, 1.1232736 , 1.40674103,\n",
       "       0.85636518, 0.29599318, 1.68103941, 2.9846719 , 1.24692712,\n",
       "       0.9511556 , 0.93405274, 0.94221001, 1.0087427 , 0.5706328 ,\n",
       "       0.77217256, 0.60743299, 1.13246829, 0.86215468, 1.2809547 ,\n",
       "       0.91635487, 1.63749493, 1.11267492, 2.99022868, 0.38744535,\n",
       "       0.7236421 , 1.56947857, 3.54012789, 0.88309951, 1.02207461,\n",
       "       0.89301034, 1.94590771, 0.86618746, 1.40499665, 0.85222833,\n",
       "       0.52925793, 1.16973106, 1.28607174, 1.90906376, 0.94627362,\n",
       "       0.73441499, 1.32495772, 1.12791246, 1.15065637, 0.96410376,\n",
       "       1.78634081, 1.20291329, 2.59173971, 1.74286158, 1.39030743,\n",
       "       0.44320664, 1.35142507, 1.23385215, 1.50001609, 1.68576766,\n",
       "       0.81837133, 1.50983868, 0.75491304, 2.6576414 , 0.51377193,\n",
       "       0.41464013, 0.43807698, 0.64064628, 0.57146177, 2.65923756,\n",
       "       0.84937903, 0.51102442, 1.74576261, 0.74582673, 0.53879146,\n",
       "       1.54948011, 1.36571908, 0.80454503, 2.02135888, 1.06667975,\n",
       "       2.24448209, 1.2857863 , 2.18016981, 1.05622512, 0.54342031,\n",
       "       3.40309164, 0.76117873, 0.90536334, 0.70454769, 0.90330301,\n",
       "       1.12900275, 1.10618271, 1.3916779 , 2.44997815, 0.9415458 ,\n",
       "       0.53979795, 0.55368516, 0.71685818, 0.43296521, 1.51061207,\n",
       "       0.77949673, 0.85599351, 0.99905471, 0.49742514, 0.65008108,\n",
       "       1.40123748, 1.36242958, 0.80124704, 2.47259315, 0.52055306,\n",
       "       0.84156367, 0.89099196, 0.24745105, 2.63468705, 1.20101377,\n",
       "       0.59315787, 2.78873119, 1.34021627, 1.23956817, 0.73823048,\n",
       "       1.05454708, 0.46634006, 1.48811921, 0.82926198, 1.06932125,\n",
       "       1.82399186, 1.15300786, 1.14023425, 1.14826218, 0.69306201,\n",
       "       1.51892426, 2.16339675, 1.46141162, 1.55652288, 0.64491242,\n",
       "       0.64798119, 0.4865391 , 1.85174148, 0.88065447, 2.01359558,\n",
       "       0.67641002, 0.80351896, 1.04886911, 1.58522291, 1.03084113,\n",
       "       1.11133542, 1.00829802, 1.0926368 , 0.57221813, 1.04129335,\n",
       "       0.91092975, 0.97198759, 1.2791148 , 0.71152902, 0.95862625,\n",
       "       0.86184405, 1.23201495, 1.48050808, 0.6202004 , 1.34038276,\n",
       "       2.80917729, 0.47922816, 0.66028353, 0.64385045, 0.86975053,\n",
       "       2.25111251, 1.00669867, 0.70656025, 1.36465514, 0.74089063,\n",
       "       1.75366184, 1.16489799, 2.00248658, 0.71844069, 4.55137123,\n",
       "       1.51027584, 1.38720381, 0.97473053, 0.69572657, 0.6479872 ,\n",
       "       0.93427107, 0.67123573, 1.15181373, 0.66163005, 1.3641634 ,\n",
       "       1.61294363, 0.70263322, 1.81546754, 0.88783358, 1.78183538,\n",
       "       1.24493482, 1.75271175, 0.60743513, 0.94800359, 2.06620715,\n",
       "       0.73416724, 0.36109991, 0.3785926 , 0.28558364, 0.34746826,\n",
       "       0.81397992, 1.89508566, 0.80162478, 1.17558239, 0.94648918,\n",
       "       1.00428362, 0.91933985, 0.91659444, 1.25933279, 0.55544186,\n",
       "       1.65709089, 1.58408819, 0.90707633, 1.49585315, 0.70421455,\n",
       "       0.76444017, 1.0812653 , 0.90927244, 0.79902023, 0.71446303,\n",
       "       0.75673106, 1.59932933, 0.37845364, 1.19273284, 0.88850192,\n",
       "       1.43894003, 1.29373943, 0.24875987, 1.33953603, 1.17602149,\n",
       "       1.01099138, 0.79109524, 1.53210194, 0.81341434, 2.50267163,\n",
       "       1.32603254, 2.91221521, 0.67518605, 0.41562876, 1.42960016,\n",
       "       1.53165987, 1.01783727, 0.46329252, 0.79935703, 1.36205252,\n",
       "       0.91202474, 0.94365694, 0.91600864, 0.62690684, 0.76604822,\n",
       "       0.49003537, 2.42051414, 0.78844988, 1.26973103, 0.59992959,\n",
       "       1.48774882, 0.39196588, 1.58456126, 0.98247148, 2.87284413,\n",
       "       0.52034302, 1.03892886, 1.20155423, 1.8523398 , 0.80942717,\n",
       "       1.04418033, 0.34258572, 0.66028453, 1.25333497, 1.73687438,\n",
       "       0.86860384, 2.79596627, 2.41120016, 0.97012898, 0.29916755,\n",
       "       0.41115575, 0.67778211, 1.74703585, 1.16781694, 0.35094565,\n",
       "       0.89191636, 2.24045885, 0.82911008, 0.68729972, 2.79354682,\n",
       "       1.02706454, 0.78695946, 1.19134578, 1.0086193 , 0.80688741,\n",
       "       1.82983933, 1.74691417, 1.52261733, 0.94985721, 1.77437844,\n",
       "       0.97545496, 1.26278757, 1.67672659, 1.49843642, 2.44703562,\n",
       "       1.25312698, 0.43083504, 0.55985075, 1.96413788, 0.84734988,\n",
       "       1.2132098 , 0.65329413, 1.64944804, 0.82496351, 2.07311876,\n",
       "       0.76634945, 1.74903936, 1.40101651, 0.69684244, 1.73238343,\n",
       "       0.63710727, 0.66283208, 1.43455636, 0.73149053, 0.74310232,\n",
       "       0.84202097, 0.60647935, 1.68623327, 1.35561788, 0.96592958,\n",
       "       0.9472464 , 1.2524201 , 2.41733949, 1.5457124 , 0.77551452,\n",
       "       1.47507613, 0.94234334, 0.90529077, 2.54272334, 0.81101482,\n",
       "       0.78694851, 0.37679551, 0.49600733, 1.25302605, 0.70647995,\n",
       "       1.2939595 , 0.57267579, 0.68136652, 1.40113883, 2.07600669,\n",
       "       1.34478803, 1.82014364, 2.3450274 , 1.68210263, 0.63177623,\n",
       "       0.94869079, 1.37039338, 0.81267545, 1.25354184, 0.45403629,\n",
       "       0.66079344, 1.30270109, 0.32675545, 0.57472923, 0.99117997,\n",
       "       0.42329022, 1.02897226, 0.67047173, 0.86433289, 0.87854212,\n",
       "       1.0992703 , 0.75435336, 1.04586386, 0.74038986, 1.32053473,\n",
       "       2.33241581, 1.10344256, 1.0886459 , 0.55877746, 1.41436846,\n",
       "       0.68452257, 0.66736137, 1.32143693, 1.09474271, 1.73948262,\n",
       "       2.05739057, 0.76350105, 1.06629337, 2.41140024, 1.62136701,\n",
       "       1.42835656, 1.92149405, 0.7391152 , 1.37477723, 2.02309131,\n",
       "       2.24893359, 0.66825034, 0.88175847, 1.21089237, 0.86545606,\n",
       "       0.82208776, 1.40776123, 0.83802697, 0.40903423, 1.19832369,\n",
       "       0.8087654 , 0.69366545, 0.45709269, 1.66015543, 0.32838903,\n",
       "       0.42755737, 0.87116574, 1.84869095, 1.92485945, 0.56130474,\n",
       "       0.91501383, 0.46990338, 1.65798587, 0.47793462, 0.93090516,\n",
       "       1.67613725, 0.8947535 , 2.0856492 , 0.64726201, 1.20273152,\n",
       "       1.53210268, 0.93252822, 2.0000199 , 1.31530002, 0.44099365,\n",
       "       7.23768462, 1.38309235, 1.05513809, 0.49688016, 1.04173116,\n",
       "       0.79455631, 1.38012881, 1.20422372, 2.52566588, 1.07371617,\n",
       "       1.29272545, 1.20469741, 0.92844429, 0.91237873, 1.73412004,\n",
       "       1.47700083, 0.72999266, 0.57308682, 0.96685667, 1.78732483,\n",
       "       0.98632961, 2.39460321, 0.67872778, 1.07338829, 0.28417872,\n",
       "       0.74242462, 0.85679152, 1.29106684, 2.35215262, 1.01762532,\n",
       "       2.06877944, 1.39213778, 1.63750885, 0.79209224, 1.99869741,\n",
       "       0.58480189, 1.28092094, 0.62124419, 0.77176685, 0.4815709 ,\n",
       "       0.77246085, 1.19191165, 0.96619922, 0.50972574, 2.08625361,\n",
       "       1.18365898, 1.65538352, 1.48084587, 0.71717608, 0.37812764,\n",
       "       0.63272956, 1.84518201, 0.59050744, 1.50384001, 0.73623679,\n",
       "       1.21720181, 0.40173608, 1.79236788, 0.98036106, 1.55723669,\n",
       "       1.09958279, 1.49038116, 0.95031096, 1.45016635, 0.47011105,\n",
       "       0.58254121, 1.43725781, 0.98060149, 0.89192156, 0.91410837,\n",
       "       1.28513344, 0.74328786, 1.29066011, 0.63261331, 0.81576739,\n",
       "       1.63636257, 1.7085178 , 0.57777129, 1.52092298, 0.59476366,\n",
       "       1.44269316, 0.3869708 , 0.57203486, 0.7753148 , 0.92012755,\n",
       "       2.03767044, 1.5714513 , 2.19840908, 1.82814894, 0.8681144 ,\n",
       "       0.87532202, 1.70657052, 1.02039082, 0.92450498, 0.51293745,\n",
       "       0.94816185, 0.2477096 , 0.79607747, 0.61266001, 1.41380857,\n",
       "       0.78715022, 0.84829589, 1.96119255, 0.59183117, 1.1715521 ,\n",
       "       0.38765734, 1.04588619, 1.22768818, 1.53715835, 0.63804811,\n",
       "       1.1733096 , 1.17242834, 0.99043027, 1.07789292, 1.26082612,\n",
       "       1.22010902, 0.60774163, 0.54994844, 3.5007952 , 2.61142525,\n",
       "       0.49865194, 1.25245907, 1.3685045 , 1.45596457, 1.07272026,\n",
       "       0.6291183 , 0.91282581, 0.78226434, 1.06949498, 0.87442771,\n",
       "       0.9362827 , 1.66408636, 1.85017291, 0.55402161, 0.79456137,\n",
       "       0.67341064, 1.84385983, 0.97075229, 2.06368806, 0.78757992,\n",
       "       1.01308486, 0.50948839, 1.91797083, 0.83418002, 0.47588539,\n",
       "       0.7436159 , 0.31586071, 0.98421729, 1.05785563, 1.15492925,\n",
       "       2.11499848, 0.86028799, 1.49739654, 1.1689657 , 0.90786388,\n",
       "       0.3540203 , 1.60600637, 0.77725486, 1.00901837, 0.52981341,\n",
       "       1.15199793, 1.05550087, 1.01481752, 0.93482441, 1.68979825,\n",
       "       1.62110892, 1.43757609, 5.26214837, 0.74073476, 0.82715866,\n",
       "       0.60205779, 1.24357848, 0.70911065, 0.2594527 , 0.54516375,\n",
       "       1.03678642, 1.65680934, 0.45910755, 0.73622385, 0.93269606,\n",
       "       0.69470447, 1.30418966, 1.00200242, 1.17425389, 0.69585953,\n",
       "       2.15602913, 0.99981251, 1.9093728 , 0.8029211 , 1.34315286,\n",
       "       0.71198966, 0.6216024 , 0.70315694, 0.97732763, 0.89640162,\n",
       "       2.15891009, 0.56306956, 0.5797437 , 2.33986696, 1.35580019,\n",
       "       0.39035237, 1.28227334, 1.12599417, 0.34224719, 0.83128614,\n",
       "       0.9913105 , 1.44152454, 1.61163281, 1.04903782, 1.67652869,\n",
       "       0.92947382, 0.65132377, 0.6268231 , 1.31169822, 0.37565484,\n",
       "       1.40340831, 0.57505676, 0.83559432, 1.28748532, 1.83853756,\n",
       "       0.37895399, 0.66825255, 1.0248342 , 0.7422693 , 1.53850559,\n",
       "       0.3523271 , 1.19829633, 1.23733527, 1.02484379, 1.73519251,\n",
       "       0.540756  , 1.74073664, 0.70365985, 1.4373128 , 0.85035437,\n",
       "       1.50256187, 1.47732787, 0.48093325, 0.92566249, 0.95483554,\n",
       "       0.88786317, 0.68534605, 2.523682  , 1.11020906, 2.1760428 ,\n",
       "       0.75233443, 0.58807642, 1.06835907, 0.75456164, 3.30379888,\n",
       "       1.13055812, 1.77944153, 0.89393887, 0.84956515, 0.98466312,\n",
       "       1.19465642, 1.52927447, 0.94075079, 0.71146732, 0.58629143,\n",
       "       0.96238598, 1.33173335, 1.25730877, 0.99113079, 0.74076681,\n",
       "       1.07614222, 1.3309626 , 0.98175958, 1.05779256, 0.92750957,\n",
       "       1.58051325, 0.80324128, 1.09720695, 1.21800468, 1.43729271,\n",
       "       2.11264852, 1.40175764, 1.3493279 , 0.47944862, 1.35418795,\n",
       "       3.14828798, 0.66033665, 0.60063976, 0.89823197, 1.66633077,\n",
       "       1.30001428, 0.78775976, 0.98216585, 1.67953923, 1.39977271,\n",
       "       3.36840212, 1.65341582, 1.19337283, 1.35983469, 0.83988349,\n",
       "       0.61330893, 1.08978297, 1.27797976, 0.49775788, 0.77014364,\n",
       "       0.83141355, 1.14204578, 0.87789083, 1.24925623, 1.05027929,\n",
       "       1.69921054, 0.42503497, 2.29002405, 2.03162712, 1.02547769,\n",
       "       1.38425433, 1.35428576, 0.69167104, 1.08581682, 1.47563306,\n",
       "       1.16755098, 1.69157557, 1.04864416, 1.04120167, 0.68119827,\n",
       "       0.83337711, 0.79464577, 2.3460704 , 1.12778189, 0.60670461,\n",
       "       1.22054709, 0.90846234, 0.21721184, 1.27115532, 0.46008253,\n",
       "       1.33540179, 0.61839257, 0.48231289, 1.28039782, 0.47373988,\n",
       "       0.79983518, 1.10759245, 1.3581402 , 1.45127469, 0.98202291,\n",
       "       0.65954988, 2.6166836 , 0.73860599, 2.46402081, 0.79750874,\n",
       "       1.78718695, 1.70741882, 0.59287771, 1.19439795, 1.45891939,\n",
       "       1.41976457, 0.90531826, 1.16297342, 0.8209075 , 0.55660097,\n",
       "       1.63559413, 0.75590414, 1.9934745 , 1.35151401, 0.63997681,\n",
       "       0.92256342, 0.86658727, 0.64697746, 1.28494356, 0.78717315,\n",
       "       2.26108719, 1.53794271, 0.64397554, 0.99054472, 0.89281124,\n",
       "       0.45737396, 1.59301403, 1.60786049, 1.58843715, 0.79573113,\n",
       "       1.70658276, 0.90043575, 1.59611714, 2.47505819, 1.07256711,\n",
       "       0.49185349, 0.85346513, 1.37780676, 1.8403158 , 0.56728355,\n",
       "       0.90912367, 1.12374804, 1.24296439, 1.57650725, 0.62237042,\n",
       "       0.80917574, 1.65530162, 1.21673064, 1.25130915, 1.75533856,\n",
       "       1.05340386, 1.30213042, 0.85446313, 0.51042835, 0.52328505,\n",
       "       1.03785935, 0.90503618, 0.72086631, 1.17234633, 0.64073727,\n",
       "       1.05724729, 0.99028621, 0.65705046, 0.31692094, 2.07148076,\n",
       "       1.17153941, 0.26393222, 0.80798296, 1.2176148 , 0.89219519,\n",
       "       1.33664809, 0.6146921 , 1.0915338 , 0.97361255, 0.91253303,\n",
       "       0.89537339, 1.10503806, 1.59418193, 0.76716   , 0.8157723 ,\n",
       "       1.08359314, 0.94169392, 1.21264163, 1.43210497, 1.90712038,\n",
       "       0.94344041, 0.32025139, 0.96578671, 1.19355376, 0.9107585 ])"
      ]
     },
     "execution_count": 62,
     "metadata": {},
     "output_type": "execute_result"
    }
   ],
   "source": [
    "lognorm_dataset"
   ]
  },
  {
   "cell_type": "code",
   "execution_count": 63,
   "id": "8c2d03e5",
   "metadata": {},
   "outputs": [
    {
     "data": {
      "text/plain": [
       "'If the points on the plot fall roughly along a \\nstraight diagonal line, then we typically assume a dataset is normally \\ndistributed.\\n\\nHowever, the points on this plot clearly don’t fall \\nalong the red line, so we would not assume that this dataset is normally \\ndistributed.\\n'"
      ]
     },
     "execution_count": 63,
     "metadata": {},
     "output_type": "execute_result"
    }
   ],
   "source": [
    "\"\"\"If the points on the plot fall roughly along a \n",
    "straight diagonal line, then we typically assume a dataset is normally \n",
    "distributed.\n",
    "\n",
    "However, the points on this plot clearly don’t fall \n",
    "along the red line, so we would not assume that this dataset is normally \n",
    "distributed.\n",
    "\"\"\""
   ]
  },
  {
   "cell_type": "markdown",
   "id": "6deda656",
   "metadata": {},
   "source": [
    "# Shapiro-Wilk Test"
   ]
  },
  {
   "cell_type": "code",
   "execution_count": 64,
   "id": "2d26ffbb",
   "metadata": {},
   "outputs": [],
   "source": [
    "#3: Perform a Shapiro-Wilk Test\n"
   ]
  },
  {
   "cell_type": "code",
   "execution_count": 65,
   "id": "2962d7c9",
   "metadata": {},
   "outputs": [
    {
     "data": {
      "text/plain": [
       "ShapiroResult(statistic=0.8573322892189026, pvalue=3.880496661488187e-29)"
      ]
     },
     "execution_count": 65,
     "metadata": {},
     "output_type": "execute_result"
    }
   ],
   "source": [
    "import math\n",
    "import numpy as np\n",
    "from scipy.stats import shapiro \n",
    "from scipy.stats import lognorm\n",
    "\n",
    "#make this example reproducible\n",
    "np.random.seed(1)\n",
    "\n",
    "#generate dataset that contains 1000 log-normal distributed values\n",
    "\n",
    "#lognorm_dataset = lognorm.rvs(s=.5, scale=math.exp(1), size=1000)\n",
    "\n",
    "lognorm_dataset = lognorm.rvs(s=.5, scale=1, size=1000)\n",
    "#s: This is the shape parameter of the lognormal distribution.\n",
    "#scale: It is used to indicate the standard deviation.\n",
    "#size: It is the size of the sample.\n",
    "#perform Shapiro-Wilk test for normality\n",
    "\n",
    "shapiro(lognorm_dataset)\n",
    "\n"
   ]
  },
  {
   "cell_type": "code",
   "execution_count": 66,
   "id": "be8c6edd",
   "metadata": {},
   "outputs": [
    {
     "data": {
      "text/plain": [
       "'From the output we can see that the test statistic is 0.857 \\nand the corresponding p-value is 3.88e-29 (extremely close to zero).\\n\\nSince the p-value is less than .05, we reject the null \\nhypothesis of the Shapiro-Wilk test.\\n\\nThis means we have sufficient evidence to say that \\nthe sample data does not come from a normal distribution.'"
      ]
     },
     "execution_count": 66,
     "metadata": {},
     "output_type": "execute_result"
    }
   ],
   "source": [
    "\"\"\"From the output we can see that the test statistic is 0.857 \n",
    "and the corresponding p-value is 3.88e-29 (extremely close to zero).\n",
    "\n",
    "Since the p-value is less than .05, we reject the null \n",
    "hypothesis of the Shapiro-Wilk test.\n",
    "\n",
    "This means we have sufficient evidence to say that \n",
    "the sample data does not come from a normal distribution.\"\"\""
   ]
  },
  {
   "cell_type": "markdown",
   "id": "ad6ce89a",
   "metadata": {},
   "source": [
    "# Kolmogorov-Smirnov Test"
   ]
  },
  {
   "cell_type": "code",
   "execution_count": 67,
   "id": "86ef492a",
   "metadata": {},
   "outputs": [],
   "source": [
    "# 4: Perform a Kolmogorov-Smirnov Test\n"
   ]
  },
  {
   "cell_type": "code",
   "execution_count": 68,
   "id": "c61655e9",
   "metadata": {},
   "outputs": [
    {
     "data": {
      "text/plain": [
       "KstestResult(statistic=0.6241977896082778, pvalue=0.0)"
      ]
     },
     "execution_count": 68,
     "metadata": {},
     "output_type": "execute_result"
    }
   ],
   "source": [
    "import math\n",
    "import numpy as np\n",
    "from scipy.stats import kstest\n",
    "from scipy.stats import lognorm\n",
    "\n",
    "#make this example reproducible\n",
    "np.random.seed(1)\n",
    "\n",
    "#generate dataset that contains 1000 log-normal distributed values\n",
    "lognorm_dataset = lognorm.rvs(s=.5, scale=1, size=1000)\n",
    "\n",
    "#perform Kolmogorov-Smirnov test for normality\n",
    "kstest(lognorm_dataset, 'norm')"
   ]
  },
  {
   "cell_type": "code",
   "execution_count": 69,
   "id": "de7ae3af",
   "metadata": {},
   "outputs": [
    {
     "data": {
      "text/plain": [
       "'From the output we can see that the test statistic \\nis 0.841 and the corresponding p-value is 0.0.\\n\\nSince the p-value is less than .05, we reject the null \\nhypothesis of the Kolmogorov-Smirnov test.\\n\\nThis means we have sufficient evidence to say that the \\nsample data does not come from a normal distribution.'"
      ]
     },
     "execution_count": 69,
     "metadata": {},
     "output_type": "execute_result"
    }
   ],
   "source": [
    "\"\"\"From the output we can see that the test statistic \n",
    "is 0.841 and the corresponding p-value is 0.0.\n",
    "\n",
    "Since the p-value is less than .05, we reject the null \n",
    "hypothesis of the Kolmogorov-Smirnov test.\n",
    "\n",
    "This means we have sufficient evidence to say that the \n",
    "sample data does not come from a normal distribution.\"\"\""
   ]
  },
  {
   "cell_type": "code",
   "execution_count": null,
   "id": "cc419474",
   "metadata": {},
   "outputs": [],
   "source": []
  },
  {
   "cell_type": "code",
   "execution_count": null,
   "id": "7832c070",
   "metadata": {},
   "outputs": [],
   "source": []
  },
  {
   "cell_type": "markdown",
   "id": "f126a532",
   "metadata": {},
   "source": [
    "# Handling Not-Normal distributed Data"
   ]
  },
  {
   "cell_type": "code",
   "execution_count": 70,
   "id": "d5188a0b",
   "metadata": {},
   "outputs": [
    {
     "data": {
      "text/plain": [
       "'Handle Non-Normal Data\\nIf a given dataset is not normally distributed, we can often perform one of \\nthe following transformations to make it more normally distributed:\\n\\n1. Log Transformation: Transform the values from x to log(x).\\n2. Square Root Transformation: Transform the values from x to √x.\\n\\n3. Cube Root Transformation: Transform the values from x to x1/3.\\n\\nBy performing these transformations, the dataset typically becomes more \\nnormally distributed.'"
      ]
     },
     "execution_count": 70,
     "metadata": {},
     "output_type": "execute_result"
    }
   ],
   "source": [
    "\"\"\"Handle Non-Normal Data\n",
    "If a given dataset is not normally distributed, we can often perform one of \n",
    "the following transformations to make it more normally distributed:\n",
    "\n",
    "1. Log Transformation: Transform the values from x to log(x).\n",
    "2. Square Root Transformation: Transform the values from x to √x.\n",
    "\n",
    "3. Cube Root Transformation: Transform the values from x to x1/3.\n",
    "\n",
    "By performing these transformations, the dataset typically becomes more \n",
    "normally distributed.\"\"\""
   ]
  },
  {
   "cell_type": "markdown",
   "id": "c7677070",
   "metadata": {},
   "source": [
    "# Log Transformation in Python"
   ]
  },
  {
   "cell_type": "code",
   "execution_count": 71,
   "id": "838ba9a4",
   "metadata": {},
   "outputs": [
    {
     "data": {
      "text/plain": [
       "'Log Transformation in Python\\nThe following code shows how to perform a log transformation on a \\nvariable and create side-by-side plots to \\nview the original distribution and the log-transformed distribution of the data:'"
      ]
     },
     "execution_count": 71,
     "metadata": {},
     "output_type": "execute_result"
    }
   ],
   "source": [
    "\"\"\"Log Transformation in Python\n",
    "The following code shows how to perform a log transformation on a \n",
    "variable and create side-by-side plots to \n",
    "view the original distribution and the log-transformed distribution of the data:\"\"\""
   ]
  },
  {
   "cell_type": "code",
   "execution_count": 72,
   "id": "aa7e2de8",
   "metadata": {},
   "outputs": [
    {
     "data": {
      "text/plain": [
       "Text(0.5, 1.0, 'Log-Transformed Data')"
      ]
     },
     "execution_count": 72,
     "metadata": {},
     "output_type": "execute_result"
    },
    {
     "data": {
      "image/png": "[encoded data removed]",
      "text/plain": [
       "<Figure size 432x288 with 2 Axes>"
      ]
     },
     "metadata": {
      "needs_background": "light"
     },
     "output_type": "display_data"
    }
   ],
   "source": [
    "import numpy as np\n",
    "import matplotlib.pyplot as plt\n",
    "\n",
    "#make this example reproducible\n",
    "np.random.seed(0)\n",
    "\n",
    "#create beta distributed random variable with 200 values\n",
    "data = np.random.beta(a=4, b=15, size=300)\n",
    "\n",
    "\n",
    "#create log-transformed data\n",
    "data_log = np.log(data)\n",
    "\n",
    "# GRAPH PLOT BY MATPLOTLIB METHOD\n",
    "\n",
    "#define grid of plots\n",
    "fig, axs = plt.subplots(nrows=1, ncols=2)\n",
    "\n",
    "#create histograms\n",
    "axs[0].hist(data, edgecolor='black')\n",
    "axs[1].hist(data_log, edgecolor='black')\n",
    "\n",
    "#add title to each histogram\n",
    "axs[0].set_title('Original Data')\n",
    "axs[1].set_title('Log-Transformed Data')"
   ]
  },
  {
   "cell_type": "code",
   "execution_count": 73,
   "id": "79b1d0f4",
   "metadata": {},
   "outputs": [
    {
     "name": "stderr",
     "output_type": "stream",
     "text": [
      "C:\\Users\\User\\anaconda3\\lib\\site-packages\\seaborn\\distributions.py:2619: FutureWarning: `distplot` is a deprecated function and will be removed in a future version. Please adapt your code to use either `displot` (a figure-level function with similar flexibility) or `histplot` (an axes-level function for histograms).\n",
      "  warnings.warn(msg, FutureWarning)\n"
     ]
    },
    {
     "data": {
      "text/plain": [
       "<AxesSubplot:title={'center':'Original Data: NOT Much linear'}, ylabel='Density'>"
      ]
     },
     "execution_count": 73,
     "metadata": {},
     "output_type": "execute_result"
    },
    {
     "data": {
      "image/png": "[encoded data removed]",
      "text/plain": [
       "<Figure size 432x288 with 1 Axes>"
      ]
     },
     "metadata": {
      "needs_background": "light"
     },
     "output_type": "display_data"
    }
   ],
   "source": [
    "#GRAPH PLOT BY SEABORN METHOD\n",
    "#plt.title('Original Data')\n",
    "plt.title(label=\"Original Data: NOT Much linear\",\n",
    "          fontsize=20,\n",
    "          color=\"green\")\n",
    "  \n",
    "# displaying the title\n",
    "\n",
    "import seaborn as sns\n",
    "sns.distplot((data))"
   ]
  },
  {
   "cell_type": "code",
   "execution_count": 74,
   "id": "8d79066b",
   "metadata": {},
   "outputs": [
    {
     "name": "stderr",
     "output_type": "stream",
     "text": [
      "C:\\Users\\User\\anaconda3\\lib\\site-packages\\seaborn\\distributions.py:2619: FutureWarning: `distplot` is a deprecated function and will be removed in a future version. Please adapt your code to use either `displot` (a figure-level function with similar flexibility) or `histplot` (an axes-level function for histograms).\n",
      "  warnings.warn(msg, FutureWarning)\n"
     ]
    },
    {
     "data": {
      "text/plain": [
       "<AxesSubplot:title={'center':'Log Tranformed Data: Much linear'}, ylabel='Density'>"
      ]
     },
     "execution_count": 74,
     "metadata": {},
     "output_type": "execute_result"
    },
    {
     "data": {
      "image/png": "[encoded data removed]",
      "text/plain": [
       "<Figure size 432x288 with 1 Axes>"
      ]
     },
     "metadata": {
      "needs_background": "light"
     },
     "output_type": "display_data"
    }
   ],
   "source": [
    "plt.title(label=\"Log Tranformed Data: Much linear\",\n",
    "          fontsize=20,\n",
    "          color=\"green\")\n",
    "import seaborn as sns\n",
    "sns.distplot((data_log))"
   ]
  },
  {
   "cell_type": "code",
   "execution_count": 75,
   "id": "5b32ac7b",
   "metadata": {},
   "outputs": [
    {
     "data": {
      "text/plain": [
       "'Notice how the log-transformed distribution is more normally \\ndistributed compared to the original distribution.\\nIt’s still not a perfect “bell shape” but it’s closer to a \\nnormal distribution that the original distribution.'"
      ]
     },
     "execution_count": 75,
     "metadata": {},
     "output_type": "execute_result"
    }
   ],
   "source": [
    "\"\"\"Notice how the log-transformed distribution is more normally \n",
    "distributed compared to the original distribution.\n",
    "It’s still not a perfect “bell shape” but it’s closer to a \n",
    "normal distribution that the original distribution.\"\"\""
   ]
  },
  {
   "cell_type": "markdown",
   "id": "efc03b02",
   "metadata": {},
   "source": [
    "# Square Root Transformation in Python"
   ]
  },
  {
   "cell_type": "code",
   "execution_count": 76,
   "id": "46b7d0ba",
   "metadata": {},
   "outputs": [],
   "source": [
    "#Square Root Transformation in Python\n"
   ]
  },
  {
   "cell_type": "code",
   "execution_count": 77,
   "id": "8ace2140",
   "metadata": {},
   "outputs": [
    {
     "data": {
      "text/plain": [
       "Text(0.5, 1.0, 'Square Root Transformed Data')"
      ]
     },
     "execution_count": 77,
     "metadata": {},
     "output_type": "execute_result"
    },
    {
     "data": {
      "image/png": "[encoded data removed]",
      "text/plain": [
       "<Figure size 432x288 with 2 Axes>"
      ]
     },
     "metadata": {
      "needs_background": "light"
     },
     "output_type": "display_data"
    }
   ],
   "source": [
    "import numpy as np\n",
    "import matplotlib.pyplot as plt\n",
    "\n",
    "#make this example reproducible\n",
    "np.random.seed(0)\n",
    "\n",
    "#create beta distributed random variable with 200 values\n",
    "data = np.random.beta(a=1, b=5, size=300)\n",
    "\n",
    "#create sqrt-transformed data\n",
    "data_sqrt = np.sqrt(data)\n",
    "\n",
    "#define grid of plots\n",
    "fig, axs = plt.subplots(nrows=1, ncols=2)\n",
    "\n",
    "#create histograms\n",
    "axs[0].hist(data, edgecolor='black')\n",
    "axs[1].hist(data_sqrt, edgecolor='black')\n",
    "\n",
    "#add title to each histogram\n",
    "axs[0].set_title('Original Data')\n",
    "axs[1].set_title('Square Root Transformed Data')"
   ]
  },
  {
   "cell_type": "code",
   "execution_count": 78,
   "id": "17d83c03",
   "metadata": {},
   "outputs": [
    {
     "name": "stderr",
     "output_type": "stream",
     "text": [
      "C:\\Users\\User\\anaconda3\\lib\\site-packages\\seaborn\\distributions.py:2619: FutureWarning: `distplot` is a deprecated function and will be removed in a future version. Please adapt your code to use either `displot` (a figure-level function with similar flexibility) or `histplot` (an axes-level function for histograms).\n",
      "  warnings.warn(msg, FutureWarning)\n"
     ]
    },
    {
     "data": {
      "text/plain": [
       "<AxesSubplot:title={'center':'Original Data: NOT Much linear'}, ylabel='Density'>"
      ]
     },
     "execution_count": 78,
     "metadata": {},
     "output_type": "execute_result"
    },
    {
     "data": {
      "image/png": "[encoded data removed]",
      "text/plain": [
       "<Figure size 432x288 with 1 Axes>"
      ]
     },
     "metadata": {
      "needs_background": "light"
     },
     "output_type": "display_data"
    }
   ],
   "source": [
    "#plt.title('Original Data')\n",
    "plt.title(label=\"Original Data: NOT Much linear\",\n",
    "          fontsize=20,\n",
    "          color=\"green\")\n",
    "  \n",
    "# displaying the title\n",
    "\n",
    "import seaborn as sns\n",
    "sns.distplot((data))"
   ]
  },
  {
   "cell_type": "code",
   "execution_count": 79,
   "id": "d10bdba9",
   "metadata": {},
   "outputs": [
    {
     "name": "stderr",
     "output_type": "stream",
     "text": [
      "C:\\Users\\User\\anaconda3\\lib\\site-packages\\seaborn\\distributions.py:2619: FutureWarning: `distplot` is a deprecated function and will be removed in a future version. Please adapt your code to use either `displot` (a figure-level function with similar flexibility) or `histplot` (an axes-level function for histograms).\n",
      "  warnings.warn(msg, FutureWarning)\n"
     ]
    },
    {
     "data": {
      "text/plain": [
       "<AxesSubplot:title={'center':'Square Root Transforemd Data: Much linear'}, ylabel='Density'>"
      ]
     },
     "execution_count": 79,
     "metadata": {},
     "output_type": "execute_result"
    },
    {
     "data": {
      "image/png": "[encoded data removed]",
      "text/plain": [
       "<Figure size 432x288 with 1 Axes>"
      ]
     },
     "metadata": {
      "needs_background": "light"
     },
     "output_type": "display_data"
    }
   ],
   "source": [
    "#plt.title('Original Data')\n",
    "plt.title(label=\"Square Root Transforemd Data: Much linear\",\n",
    "          fontsize=20,\n",
    "          color=\"green\")\n",
    "  \n",
    "import seaborn as sns\n",
    "sns.distplot((data_sqrt))"
   ]
  },
  {
   "cell_type": "code",
   "execution_count": 80,
   "id": "5a5fd5f2",
   "metadata": {},
   "outputs": [],
   "source": [
    "#Notice how the square root transformed data is much more normally distributed than the original data."
   ]
  },
  {
   "cell_type": "markdown",
   "id": "109ccad7",
   "metadata": {},
   "source": [
    "# Cube Root Transformation in Python"
   ]
  },
  {
   "cell_type": "code",
   "execution_count": 81,
   "id": "11d85fdc",
   "metadata": {},
   "outputs": [],
   "source": [
    "#Cube Root Transformation in Python\n"
   ]
  },
  {
   "cell_type": "code",
   "execution_count": 82,
   "id": "bfd0b1f3",
   "metadata": {},
   "outputs": [
    {
     "data": {
      "text/plain": [
       "Text(0.5, 1.0, 'Cube Root Transformed Data')"
      ]
     },
     "execution_count": 82,
     "metadata": {},
     "output_type": "execute_result"
    },
    {
     "data": {
      "image/png": "[encoded data removed]",
      "text/plain": [
       "<Figure size 432x288 with 2 Axes>"
      ]
     },
     "metadata": {
      "needs_background": "light"
     },
     "output_type": "display_data"
    }
   ],
   "source": [
    "import numpy as np\n",
    "import matplotlib.pyplot as plt\n",
    "\n",
    "#make this example reproducible\n",
    "np.random.seed(0)\n",
    "\n",
    "#create beta distributed random variable with 200 values\n",
    "data = np.random.beta(a=1, b=5, size=300)\n",
    "\n",
    "#create cbrt-transformed data\n",
    "data_cbrt = np.cbrt(data)\n",
    "\n",
    "#define grid of plots\n",
    "fig, axs = plt.subplots(nrows=1, ncols=2)\n",
    "\n",
    "#create histograms\n",
    "axs[0].hist(data, edgecolor='black')\n",
    "axs[1].hist(data_cbrt, edgecolor='black')\n",
    "\n",
    "#add title to each histogram\n",
    "axs[0].set_title('Original Data')\n",
    "axs[1].set_title('Cube Root Transformed Data')"
   ]
  },
  {
   "cell_type": "code",
   "execution_count": 83,
   "id": "1ee36db9",
   "metadata": {},
   "outputs": [
    {
     "name": "stderr",
     "output_type": "stream",
     "text": [
      "C:\\Users\\User\\anaconda3\\lib\\site-packages\\seaborn\\distributions.py:2619: FutureWarning: `distplot` is a deprecated function and will be removed in a future version. Please adapt your code to use either `displot` (a figure-level function with similar flexibility) or `histplot` (an axes-level function for histograms).\n",
      "  warnings.warn(msg, FutureWarning)\n"
     ]
    },
    {
     "data": {
      "text/plain": [
       "<AxesSubplot:title={'center':'Original Data: NOT Much linear'}, ylabel='Density'>"
      ]
     },
     "execution_count": 83,
     "metadata": {},
     "output_type": "execute_result"
    },
    {
     "data": {
      "image/png": "[encoded data removed]",
      "text/plain": [
       "<Figure size 432x288 with 1 Axes>"
      ]
     },
     "metadata": {
      "needs_background": "light"
     },
     "output_type": "display_data"
    }
   ],
   "source": [
    "plt.title(label=\"Original Data: NOT Much linear\",\n",
    "          fontsize=20,\n",
    "          color=\"green\")\n",
    "  \n",
    "import seaborn as sns\n",
    "sns.distplot((data))"
   ]
  },
  {
   "cell_type": "code",
   "execution_count": 84,
   "id": "1ff8b83c",
   "metadata": {},
   "outputs": [
    {
     "name": "stderr",
     "output_type": "stream",
     "text": [
      "C:\\Users\\User\\anaconda3\\lib\\site-packages\\seaborn\\distributions.py:2619: FutureWarning: `distplot` is a deprecated function and will be removed in a future version. Please adapt your code to use either `displot` (a figure-level function with similar flexibility) or `histplot` (an axes-level function for histograms).\n",
      "  warnings.warn(msg, FutureWarning)\n"
     ]
    },
    {
     "data": {
      "text/plain": [
       "<AxesSubplot:title={'center':'Cube Root Data: Much linear'}, ylabel='Density'>"
      ]
     },
     "execution_count": 84,
     "metadata": {},
     "output_type": "execute_result"
    },
    {
     "data": {
      "image/png": "[encoded data removed]",
      "text/plain": [
       "<Figure size 432x288 with 1 Axes>"
      ]
     },
     "metadata": {
      "needs_background": "light"
     },
     "output_type": "display_data"
    }
   ],
   "source": [
    "plt.title(label=\"Cube Root Data: Much linear\",\n",
    "          fontsize=20,\n",
    "          color=\"green\")\n",
    "  \n",
    "# displaying the title\n",
    "\n",
    "import seaborn as sns\n",
    "sns.distplot((data_cbrt))"
   ]
  },
  {
   "cell_type": "code",
   "execution_count": 85,
   "id": "246580e7",
   "metadata": {},
   "outputs": [],
   "source": [
    "#Notice  cube root transformed data is much more normally distributed than the original data."
   ]
  }
 ],
 "metadata": {
  "kernelspec": {
   "display_name": "Python 3 (ipykernel)",
   "language": "python",
   "name": "python3"
  },
  "language_info": {
   "codemirror_mode": {
    "name": "ipython",
    "version": 3
   },
   "file_extension": ".py",
   "mimetype": "text/x-python",
   "name": "python",
   "nbconvert_exporter": "python",
   "pygments_lexer": "ipython3",
   "version": "3.9.7"
  }
 },
 "nbformat": 4,
 "nbformat_minor": 5
}
