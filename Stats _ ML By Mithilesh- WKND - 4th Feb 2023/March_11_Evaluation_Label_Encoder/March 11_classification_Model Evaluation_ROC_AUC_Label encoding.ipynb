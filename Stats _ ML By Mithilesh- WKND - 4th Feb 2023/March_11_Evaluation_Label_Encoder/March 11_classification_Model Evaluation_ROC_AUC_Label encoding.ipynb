{
 "cells": [
  {
   "cell_type": "code",
   "execution_count": null,
   "id": "26ab380f",
   "metadata": {},
   "outputs": [],
   "source": [
    "# classification model evaluation -confusion matrix Recall precision ROC AUC"
   ]
  },
  {
   "cell_type": "code",
   "execution_count": 2,
   "id": "f0ceae0b",
   "metadata": {},
   "outputs": [
    {
     "data": {
      "text/plain": [
       "'C:\\\\Users\\\\User\\\\Desktop\\\\Batch Weekend Feb_4th\\\\March_11_Evaluation_Label_encoding'"
      ]
     },
     "execution_count": 2,
     "metadata": {},
     "output_type": "execute_result"
    }
   ],
   "source": [
    "import seaborn as sns\n",
    "import matplotlib.pyplot as plt\n",
    "from sklearn.metrics import confusion_matrix,classification_report,accuracy_score,roc_auc_score\n",
    "import os\n",
    "os.getcwd()"
   ]
  },
  {
   "cell_type": "code",
   "execution_count": 1,
   "id": "1ea98fb3",
   "metadata": {},
   "outputs": [],
   "source": [
    "%matplotlib inline # magic command of matplotlib\n",
    "%%time#time span it is also a magic command"
   ]
  },
  {
   "cell_type": "code",
   "execution_count": 3,
   "id": "bb24df1e",
   "metadata": {},
   "outputs": [],
   "source": [
    "y_test=[1,1,1,0,0,\n",
    "       1,1,1,1,1,\n",
    "       1,1,1,1,1,\n",
    "       1,1,1,1,1]\n",
    "pred=[1,1,1,0,0,\n",
    "      1,1,1,1,1,\n",
    "       1,1,1,1,1,\n",
    "       1,1,1,1,1]\n",
    "\n",
    "# In true data set 18 patient has disease, \n",
    "#2 patient has NO Disease"
   ]
  },
  {
   "cell_type": "code",
   "execution_count": 4,
   "id": "646b93ab",
   "metadata": {},
   "outputs": [
    {
     "data": {
      "text/plain": [
       "array([[ 2,  0],\n",
       "       [ 0, 18]], dtype=int64)"
      ]
     },
     "execution_count": 4,
     "metadata": {},
     "output_type": "execute_result"
    }
   ],
   "source": [
    "# confusion matrix\n",
    "cm=confusion_matrix(y_test,pred)\n",
    "cm"
   ]
  },
  {
   "cell_type": "code",
   "execution_count": 6,
   "id": "f736fd89",
   "metadata": {},
   "outputs": [
    {
     "data": {
      "text/plain": [
       "Text(33.0, 0.5, 'True Value')"
      ]
     },
     "execution_count": 6,
     "metadata": {},
     "output_type": "execute_result"
    },
    {
     "data": {
      "image/png": "[encoded data removed]",
      "text/plain": [
       "<Figure size 432x288 with 2 Axes>"
      ]
     },
     "metadata": {
      "needs_background": "light"
     },
     "output_type": "display_data"
    }
   ],
   "source": [
    "# heatmap of confusion matrix\n",
    "sns.heatmap(cm,annot=True,cmap=\"rocket_r\")\n",
    "plt.xlabel(\"Prediction\")\n",
    "plt.ylabel(\"True Value\")"
   ]
  },
  {
   "cell_type": "code",
   "execution_count": 7,
   "id": "f009bd4a",
   "metadata": {},
   "outputs": [],
   "source": [
    "y_test=[1,1,1,0,0,\n",
    "       0,0,0,1,1,\n",
    "       1,1,1,1,1,\n",
    "       1,1,1,1,1]\n",
    "pred=[1,1,1,0,0,\n",
    "      1,1,1,1,1,\n",
    "       1,1,1,1,1,\n",
    "       1,1,1,1,1]\n",
    "\n",
    "# In true data set 15 patient has disease, \n",
    "#5 patient has NO Disease"
   ]
  },
  {
   "cell_type": "code",
   "execution_count": 8,
   "id": "77797d6b",
   "metadata": {},
   "outputs": [
    {
     "data": {
      "text/plain": [
       "array([[ 2,  3],\n",
       "       [ 0, 15]], dtype=int64)"
      ]
     },
     "execution_count": 8,
     "metadata": {},
     "output_type": "execute_result"
    }
   ],
   "source": [
    "# confusion matrix\n",
    "cm=confusion_matrix(y_test,pred)\n",
    "cm"
   ]
  },
  {
   "cell_type": "code",
   "execution_count": 9,
   "id": "5ff6b5ff",
   "metadata": {},
   "outputs": [
    {
     "data": {
      "text/plain": [
       "Text(33.0, 0.5, 'True Value')"
      ]
     },
     "execution_count": 9,
     "metadata": {},
     "output_type": "execute_result"
    },
    {
     "data": {
      "image/png": "[encoded data removed]",
      "text/plain": [
       "<Figure size 432x288 with 2 Axes>"
      ]
     },
     "metadata": {
      "needs_background": "light"
     },
     "output_type": "display_data"
    }
   ],
   "source": [
    "# heatmap of confusion matrix\n",
    "sns.heatmap(cm,annot=True,cmap=\"rocket_r\")\n",
    "plt.xlabel(\"Prediction\")\n",
    "plt.ylabel(\"True Value\")"
   ]
  },
  {
   "cell_type": "code",
   "execution_count": 10,
   "id": "72879587",
   "metadata": {},
   "outputs": [
    {
     "data": {
      "text/plain": [
       "array([[ 2,  0],\n",
       "       [ 3, 15]], dtype=int64)"
      ]
     },
     "execution_count": 10,
     "metadata": {},
     "output_type": "execute_result"
    }
   ],
   "source": [
    "# confusion matrix\n",
    "cm=confusion_matrix(pred,y_test)\n",
    "cm"
   ]
  },
  {
   "cell_type": "code",
   "execution_count": null,
   "id": "9562b95a",
   "metadata": {},
   "outputs": [],
   "source": [
    "# always plugin the variable as (true, pred )"
   ]
  },
  {
   "cell_type": "code",
   "execution_count": 12,
   "id": "ad8c6a4c",
   "metadata": {},
   "outputs": [],
   "source": [
    "y_test=[1,1,1,0,0,\n",
    "       1,1,1,1,0,\n",
    "       1,1,1,1,1,\n",
    "       1,1,1,1,1]\n",
    "pred=[1,1,1,0,0,\n",
    "      1,1,1,1,1,\n",
    "       1,1,1,1,1,\n",
    "       0,0,0,0,0]\n",
    "\n",
    "# In true data set 17 patient has disease, \n",
    "#3 patient has NO Disease"
   ]
  },
  {
   "cell_type": "code",
   "execution_count": 13,
   "id": "6129b684",
   "metadata": {},
   "outputs": [
    {
     "data": {
      "text/plain": [
       "array([[ 2,  1],\n",
       "       [ 5, 12]], dtype=int64)"
      ]
     },
     "execution_count": 13,
     "metadata": {},
     "output_type": "execute_result"
    }
   ],
   "source": [
    "# confusion matrix\n",
    "cm=confusion_matrix(y_test,pred)\n",
    "cm"
   ]
  },
  {
   "cell_type": "code",
   "execution_count": 14,
   "id": "5f1d84b1",
   "metadata": {},
   "outputs": [
    {
     "data": {
      "text/plain": [
       "Text(33.0, 0.5, 'True Value')"
      ]
     },
     "execution_count": 14,
     "metadata": {},
     "output_type": "execute_result"
    },
    {
     "data": {
      "image/png": "[encoded data removed]",
      "text/plain": [
       "<Figure size 432x288 with 2 Axes>"
      ]
     },
     "metadata": {
      "needs_background": "light"
     },
     "output_type": "display_data"
    }
   ],
   "source": [
    "# heatmap of confusion matrix\n",
    "sns.heatmap(cm,annot=True,cmap=\"rocket_r\")\n",
    "plt.xlabel(\"Prediction\")\n",
    "plt.ylabel(\"True Value\")"
   ]
  },
  {
   "cell_type": "code",
   "execution_count": null,
   "id": "bc248ec5",
   "metadata": {},
   "outputs": [],
   "source": [
    "# recall, precision,specificity,sensitivity,accuracy\n",
    "\n",
    "y_test=[1,1,1,0,0,\n",
    "       1,1,1,1,0,\n",
    "       1,1,1,1,1,\n",
    "       1,1,1,1,1]\n",
    "pred=[1,1,1,0,0,\n",
    "      1,1,1,1,1,\n",
    "       1,1,1,1,1,\n",
    "       0,0,0,0,0]\n",
    "\n",
    "# In true data set 17 patient has disease, \n",
    "#3 patient has NO Disease"
   ]
  },
  {
   "cell_type": "code",
   "execution_count": 19,
   "id": "11e5af2a",
   "metadata": {},
   "outputs": [],
   "source": [
    "# recall, precision,specificity,sensitivity,accuracy\n",
    "\n",
    "y_test=[0,0,0,1,1,\n",
    "       0,0,0,0,0,\n",
    "       0,0,0,0,0,\n",
    "       0,0,0,1,1]\n",
    "pred=[0,0,0,1,0,\n",
    "      1,1,0,0,0,\n",
    "       1,1,0,1,1,\n",
    "       0,0,0,1,1]\n",
    "\n",
    "# TRUE VALUE\n",
    "# In true data set 4 patient has disease, \n",
    "#16 patient has NO Disease\n",
    "\n",
    "#PREDICTION\n",
    "# 11 PATIENT HAS NO DISEASE\n",
    "# 9 PATIENT HAS DISEASE"
   ]
  },
  {
   "cell_type": "code",
   "execution_count": 20,
   "id": "5a93832e",
   "metadata": {},
   "outputs": [
    {
     "name": "stdout",
     "output_type": "stream",
     "text": [
      "              precision    recall  f1-score   support\n",
      "\n",
      "           0       0.91      0.62      0.74        16\n",
      "           1       0.33      0.75      0.46         4\n",
      "\n",
      "    accuracy                           0.65        20\n",
      "   macro avg       0.62      0.69      0.60        20\n",
      "weighted avg       0.79      0.65      0.68        20\n",
      "\n"
     ]
    }
   ],
   "source": [
    "print(classification_report(y_test,pred))"
   ]
  },
  {
   "cell_type": "code",
   "execution_count": null,
   "id": "c13c2c17",
   "metadata": {},
   "outputs": [],
   "source": [
    "# recall=sensitivity=TP/(TP+FN)\n",
    "\n",
    "# how many we correctly identified a patient having the actual disease"
   ]
  },
  {
   "cell_type": "code",
   "execution_count": null,
   "id": "9595460c",
   "metadata": {},
   "outputs": [],
   "source": [
    "#precision=TP/(TP+FP)"
   ]
  },
  {
   "cell_type": "code",
   "execution_count": null,
   "id": "3889bd99",
   "metadata": {},
   "outputs": [],
   "source": [
    "#accuracy=TP+TN/(TP+FP+TN+FN)"
   ]
  },
  {
   "cell_type": "code",
   "execution_count": null,
   "id": "7be050f6",
   "metadata": {},
   "outputs": [],
   "source": [
    "#sensitivity:RECALL:True positive rate"
   ]
  },
  {
   "cell_type": "code",
   "execution_count": null,
   "id": "e3f46f17",
   "metadata": {},
   "outputs": [],
   "source": [
    "#specificity=True Negative Rate"
   ]
  },
  {
   "cell_type": "code",
   "execution_count": null,
   "id": "f4f9444b",
   "metadata": {},
   "outputs": [],
   "source": [
    "# total misclassification:the % of total incorrect classification "
   ]
  },
  {
   "cell_type": "markdown",
   "id": "13fce0ea",
   "metadata": {},
   "source": [
    "F1 SCORE is the harmonic mean of precision and recall\n",
    "F1 score=2*precision*Recall/(Precision+Recall)"
   ]
  },
  {
   "cell_type": "code",
   "execution_count": 21,
   "id": "1e0f3fb6",
   "metadata": {},
   "outputs": [
    {
     "name": "stdout",
     "output_type": "stream",
     "text": [
      "2 1 5 12\n"
     ]
    }
   ],
   "source": [
    "TN,FP,FN,TP=cm.ravel()\n",
    "print(TN,FP,FN,TP)"
   ]
  },
  {
   "cell_type": "code",
   "execution_count": 22,
   "id": "e978d7dd",
   "metadata": {},
   "outputs": [
    {
     "data": {
      "text/plain": [
       "array([[ 2,  1],\n",
       "       [ 5, 12]], dtype=int64)"
      ]
     },
     "execution_count": 22,
     "metadata": {},
     "output_type": "execute_result"
    }
   ],
   "source": [
    "cm"
   ]
  },
  {
   "cell_type": "code",
   "execution_count": null,
   "id": "335f473c",
   "metadata": {},
   "outputs": [],
   "source": [
    "# (1)Medical dataset 1- disease or Malignant\n",
    "# (2)email dataset 1 spam \n",
    "#(3)finance 1 fraud\n",
    "#(4)marketing 1 will buy\n",
    "#(5)employee/ customer churning 1 churn"
   ]
  },
  {
   "cell_type": "code",
   "execution_count": null,
   "id": "89b86fd7",
   "metadata": {},
   "outputs": [],
   "source": []
  },
  {
   "cell_type": "code",
   "execution_count": null,
   "id": "dfd3ac77",
   "metadata": {},
   "outputs": [],
   "source": [
    "# ROC AUC CURVE"
   ]
  },
  {
   "cell_type": "code",
   "execution_count": 23,
   "id": "9c272ab6",
   "metadata": {},
   "outputs": [],
   "source": [
    "y_test=[0,0,0,0,1,0,0,0,0,1]"
   ]
  },
  {
   "cell_type": "code",
   "execution_count": null,
   "id": "aea0a053",
   "metadata": {},
   "outputs": [],
   "source": [
    "# proba_score=lr.predict_proba(X_test)"
   ]
  },
  {
   "cell_type": "code",
   "execution_count": null,
   "id": "ea8b8f28",
   "metadata": {},
   "outputs": [],
   "source": [
    "# proba_score of positive class=lr.predict_proba(X_test)[:,1]"
   ]
  },
  {
   "cell_type": "code",
   "execution_count": 39,
   "id": "773b66f6",
   "metadata": {},
   "outputs": [],
   "source": [
    "proba_score_positive_class=[0.4,0.49,0.35,0.39,0.7,0.28,0.34,0.33,0.19,0.9]"
   ]
  },
  {
   "cell_type": "code",
   "execution_count": 40,
   "id": "b1cabb6e",
   "metadata": {},
   "outputs": [],
   "source": [
    "from sklearn import metrics\n",
    "fpr,tpr,thersholds=metrics.roc_curve(y_test,proba_score_positive_class,pos_label=1)"
   ]
  },
  {
   "cell_type": "code",
   "execution_count": 41,
   "id": "c7cbb687",
   "metadata": {},
   "outputs": [
    {
     "name": "stdout",
     "output_type": "stream",
     "text": [
      "FPR [0. 0. 0. 1.]\n",
      "TPR [0.  0.5 1.  1. ]\n",
      "Threshold value [1.9  0.9  0.7  0.19]\n"
     ]
    }
   ],
   "source": [
    "print(\"FPR\",fpr)\n",
    "print(\"TPR\",tpr)\n",
    "print(\"Threshold value\",thersholds)"
   ]
  },
  {
   "cell_type": "code",
   "execution_count": null,
   "id": "e0adb643",
   "metadata": {},
   "outputs": [],
   "source": [
    "from sklearn.metrics import roc_auc_score"
   ]
  },
  {
   "cell_type": "code",
   "execution_count": 42,
   "id": "be1fd36b",
   "metadata": {},
   "outputs": [],
   "source": [
    "auc_score=roc_auc_score(y_test,proba_score_positive_class)"
   ]
  },
  {
   "cell_type": "code",
   "execution_count": 43,
   "id": "0de0a3be",
   "metadata": {},
   "outputs": [
    {
     "data": {
      "text/plain": [
       "1.0"
      ]
     },
     "execution_count": 43,
     "metadata": {},
     "output_type": "execute_result"
    }
   ],
   "source": [
    "auc_score"
   ]
  },
  {
   "cell_type": "code",
   "execution_count": null,
   "id": "22099e5e",
   "metadata": {},
   "outputs": [],
   "source": []
  },
  {
   "cell_type": "code",
   "execution_count": null,
   "id": "bddf463f",
   "metadata": {},
   "outputs": [],
   "source": []
  },
  {
   "cell_type": "code",
   "execution_count": null,
   "id": "70d5ac1c",
   "metadata": {},
   "outputs": [],
   "source": []
  },
  {
   "cell_type": "code",
   "execution_count": null,
   "id": "14b5eccb",
   "metadata": {},
   "outputs": [],
   "source": []
  },
  {
   "cell_type": "code",
   "execution_count": null,
   "id": "e1d9ec18",
   "metadata": {},
   "outputs": [],
   "source": []
  },
  {
   "cell_type": "code",
   "execution_count": null,
   "id": "841421bb",
   "metadata": {},
   "outputs": [],
   "source": []
  },
  {
   "cell_type": "code",
   "execution_count": null,
   "id": "7a7eb173",
   "metadata": {},
   "outputs": [],
   "source": []
  },
  {
   "cell_type": "markdown",
   "id": "75ee9913",
   "metadata": {},
   "source": [
    "# LABEL ENCODER"
   ]
  },
  {
   "cell_type": "code",
   "execution_count": 44,
   "id": "8099e597",
   "metadata": {},
   "outputs": [
    {
     "data": {
      "text/plain": [
       "'C:\\\\Users\\\\User\\\\Desktop\\\\Batch Weekend Feb_4th\\\\March_11_Evaluation_Label_encoding'"
      ]
     },
     "execution_count": 44,
     "metadata": {},
     "output_type": "execute_result"
    }
   ],
   "source": [
    "import numpy as np\n",
    "import pandas as pd\n",
    "import seaborn as sns\n",
    "import matplotlib.pyplot as plt\n",
    "from sklearn.metrics import confusion_matrix,classification_report,accuracy_score,roc_auc_score\n",
    "import os\n",
    "os.getcwd()"
   ]
  },
  {
   "cell_type": "code",
   "execution_count": 45,
   "id": "ef3fb5b2",
   "metadata": {},
   "outputs": [
    {
     "data": {
      "text/html": [
       "<div>\n",
       "<style scoped>\n",
       "    .dataframe tbody tr th:only-of-type {\n",
       "        vertical-align: middle;\n",
       "    }\n",
       "\n",
       "    .dataframe tbody tr th {\n",
       "        vertical-align: top;\n",
       "    }\n",
       "\n",
       "    .dataframe thead th {\n",
       "        text-align: right;\n",
       "    }\n",
       "</style>\n",
       "<table border=\"1\" class=\"dataframe\">\n",
       "  <thead>\n",
       "    <tr style=\"text-align: right;\">\n",
       "      <th></th>\n",
       "      <th>Unnamed: 0</th>\n",
       "      <th>Dept</th>\n",
       "      <th>Age</th>\n",
       "      <th>Experience</th>\n",
       "      <th>Salary</th>\n",
       "      <th>Education</th>\n",
       "    </tr>\n",
       "  </thead>\n",
       "  <tbody>\n",
       "    <tr>\n",
       "      <th>0</th>\n",
       "      <td>0</td>\n",
       "      <td>HR</td>\n",
       "      <td>32.000000</td>\n",
       "      <td>9.5</td>\n",
       "      <td>13.5</td>\n",
       "      <td>Under_Graduate</td>\n",
       "    </tr>\n",
       "    <tr>\n",
       "      <th>1</th>\n",
       "      <td>1</td>\n",
       "      <td>HR</td>\n",
       "      <td>33.000000</td>\n",
       "      <td>12.0</td>\n",
       "      <td>13.5</td>\n",
       "      <td>Master</td>\n",
       "    </tr>\n",
       "    <tr>\n",
       "      <th>2</th>\n",
       "      <td>2</td>\n",
       "      <td>IT</td>\n",
       "      <td>35.000000</td>\n",
       "      <td>12.0</td>\n",
       "      <td>13.5</td>\n",
       "      <td>Master</td>\n",
       "    </tr>\n",
       "    <tr>\n",
       "      <th>3</th>\n",
       "      <td>3</td>\n",
       "      <td>IT</td>\n",
       "      <td>37.333333</td>\n",
       "      <td>12.0</td>\n",
       "      <td>13.5</td>\n",
       "      <td>Graduate</td>\n",
       "    </tr>\n",
       "    <tr>\n",
       "      <th>4</th>\n",
       "      <td>4</td>\n",
       "      <td>HR</td>\n",
       "      <td>34.000000</td>\n",
       "      <td>11.0</td>\n",
       "      <td>13.5</td>\n",
       "      <td>Graduate</td>\n",
       "    </tr>\n",
       "  </tbody>\n",
       "</table>\n",
       "</div>"
      ],
      "text/plain": [
       "   Unnamed: 0 Dept        Age  Experience  Salary       Education\n",
       "0           0   HR  32.000000         9.5    13.5  Under_Graduate\n",
       "1           1   HR  33.000000        12.0    13.5          Master\n",
       "2           2   IT  35.000000        12.0    13.5          Master\n",
       "3           3   IT  37.333333        12.0    13.5        Graduate\n",
       "4           4   HR  34.000000        11.0    13.5        Graduate"
      ]
     },
     "execution_count": 45,
     "metadata": {},
     "output_type": "execute_result"
    }
   ],
   "source": [
    "df=pd.read_csv(\"LABEL_ENCODER.csv\")\n",
    "df.head()"
   ]
  },
  {
   "cell_type": "code",
   "execution_count": 46,
   "id": "b530ec15",
   "metadata": {},
   "outputs": [
    {
     "data": {
      "text/html": [
       "<div>\n",
       "<style scoped>\n",
       "    .dataframe tbody tr th:only-of-type {\n",
       "        vertical-align: middle;\n",
       "    }\n",
       "\n",
       "    .dataframe tbody tr th {\n",
       "        vertical-align: top;\n",
       "    }\n",
       "\n",
       "    .dataframe thead th {\n",
       "        text-align: right;\n",
       "    }\n",
       "</style>\n",
       "<table border=\"1\" class=\"dataframe\">\n",
       "  <thead>\n",
       "    <tr style=\"text-align: right;\">\n",
       "      <th></th>\n",
       "      <th>Dept</th>\n",
       "      <th>Age</th>\n",
       "      <th>Experience</th>\n",
       "      <th>Salary</th>\n",
       "      <th>Education</th>\n",
       "    </tr>\n",
       "  </thead>\n",
       "  <tbody>\n",
       "    <tr>\n",
       "      <th>0</th>\n",
       "      <td>HR</td>\n",
       "      <td>32.000000</td>\n",
       "      <td>9.5</td>\n",
       "      <td>13.5</td>\n",
       "      <td>Under_Graduate</td>\n",
       "    </tr>\n",
       "    <tr>\n",
       "      <th>1</th>\n",
       "      <td>HR</td>\n",
       "      <td>33.000000</td>\n",
       "      <td>12.0</td>\n",
       "      <td>13.5</td>\n",
       "      <td>Master</td>\n",
       "    </tr>\n",
       "    <tr>\n",
       "      <th>2</th>\n",
       "      <td>IT</td>\n",
       "      <td>35.000000</td>\n",
       "      <td>12.0</td>\n",
       "      <td>13.5</td>\n",
       "      <td>Master</td>\n",
       "    </tr>\n",
       "    <tr>\n",
       "      <th>3</th>\n",
       "      <td>IT</td>\n",
       "      <td>37.333333</td>\n",
       "      <td>12.0</td>\n",
       "      <td>13.5</td>\n",
       "      <td>Graduate</td>\n",
       "    </tr>\n",
       "    <tr>\n",
       "      <th>4</th>\n",
       "      <td>HR</td>\n",
       "      <td>34.000000</td>\n",
       "      <td>11.0</td>\n",
       "      <td>13.5</td>\n",
       "      <td>Graduate</td>\n",
       "    </tr>\n",
       "  </tbody>\n",
       "</table>\n",
       "</div>"
      ],
      "text/plain": [
       "  Dept        Age  Experience  Salary       Education\n",
       "0   HR  32.000000         9.5    13.5  Under_Graduate\n",
       "1   HR  33.000000        12.0    13.5          Master\n",
       "2   IT  35.000000        12.0    13.5          Master\n",
       "3   IT  37.333333        12.0    13.5        Graduate\n",
       "4   HR  34.000000        11.0    13.5        Graduate"
      ]
     },
     "execution_count": 46,
     "metadata": {},
     "output_type": "execute_result"
    }
   ],
   "source": [
    "df1=df.drop([\"Unnamed: 0\"],axis=1)\n",
    "df1.head()"
   ]
  },
  {
   "cell_type": "code",
   "execution_count": 47,
   "id": "b55bf291",
   "metadata": {},
   "outputs": [
    {
     "name": "stdout",
     "output_type": "stream",
     "text": [
      "<class 'pandas.core.frame.DataFrame'>\n",
      "RangeIndex: 33 entries, 0 to 32\n",
      "Data columns (total 5 columns):\n",
      " #   Column      Non-Null Count  Dtype  \n",
      "---  ------      --------------  -----  \n",
      " 0   Dept        33 non-null     object \n",
      " 1   Age         33 non-null     float64\n",
      " 2   Experience  33 non-null     float64\n",
      " 3   Salary      33 non-null     float64\n",
      " 4   Education   33 non-null     object \n",
      "dtypes: float64(3), object(2)\n",
      "memory usage: 1.4+ KB\n"
     ]
    }
   ],
   "source": [
    "df1.info()"
   ]
  },
  {
   "cell_type": "code",
   "execution_count": 48,
   "id": "422537e8",
   "metadata": {},
   "outputs": [
    {
     "data": {
      "text/plain": [
       "HR           15\n",
       "IT            8\n",
       "Sales         6\n",
       "Marketing     4\n",
       "Name: Dept, dtype: int64"
      ]
     },
     "execution_count": 48,
     "metadata": {},
     "output_type": "execute_result"
    }
   ],
   "source": [
    "df1[\"Dept\"].value_counts()"
   ]
  },
  {
   "cell_type": "code",
   "execution_count": 49,
   "id": "d61cf60b",
   "metadata": {},
   "outputs": [
    {
     "data": {
      "text/plain": [
       "Master            16\n",
       "Under_Graduate     9\n",
       "Graduate           8\n",
       "Name: Education, dtype: int64"
      ]
     },
     "execution_count": 49,
     "metadata": {},
     "output_type": "execute_result"
    }
   ],
   "source": [
    "df1[\"Education\"].value_counts()"
   ]
  },
  {
   "cell_type": "markdown",
   "id": "35f600f5",
   "metadata": {},
   "source": [
    "# one approach - using function \"astype\""
   ]
  },
  {
   "cell_type": "code",
   "execution_count": 50,
   "id": "21261693",
   "metadata": {},
   "outputs": [],
   "source": [
    "df2=df1.copy()\n"
   ]
  },
  {
   "cell_type": "code",
   "execution_count": 51,
   "id": "b0868aa2",
   "metadata": {},
   "outputs": [],
   "source": [
    "df2[\"Dept\"]=df2[\"Dept\"].astype(\"category\")"
   ]
  },
  {
   "cell_type": "code",
   "execution_count": 52,
   "id": "250db633",
   "metadata": {},
   "outputs": [],
   "source": [
    "df2[\"Dept\"]=df2[\"Dept\"].cat.codes"
   ]
  },
  {
   "cell_type": "code",
   "execution_count": 53,
   "id": "fe2a5029",
   "metadata": {},
   "outputs": [
    {
     "data": {
      "text/html": [
       "<div>\n",
       "<style scoped>\n",
       "    .dataframe tbody tr th:only-of-type {\n",
       "        vertical-align: middle;\n",
       "    }\n",
       "\n",
       "    .dataframe tbody tr th {\n",
       "        vertical-align: top;\n",
       "    }\n",
       "\n",
       "    .dataframe thead th {\n",
       "        text-align: right;\n",
       "    }\n",
       "</style>\n",
       "<table border=\"1\" class=\"dataframe\">\n",
       "  <thead>\n",
       "    <tr style=\"text-align: right;\">\n",
       "      <th></th>\n",
       "      <th>Dept</th>\n",
       "      <th>Age</th>\n",
       "      <th>Experience</th>\n",
       "      <th>Salary</th>\n",
       "      <th>Education</th>\n",
       "    </tr>\n",
       "  </thead>\n",
       "  <tbody>\n",
       "    <tr>\n",
       "      <th>0</th>\n",
       "      <td>0</td>\n",
       "      <td>32.000000</td>\n",
       "      <td>9.5</td>\n",
       "      <td>13.5</td>\n",
       "      <td>Under_Graduate</td>\n",
       "    </tr>\n",
       "    <tr>\n",
       "      <th>1</th>\n",
       "      <td>0</td>\n",
       "      <td>33.000000</td>\n",
       "      <td>12.0</td>\n",
       "      <td>13.5</td>\n",
       "      <td>Master</td>\n",
       "    </tr>\n",
       "    <tr>\n",
       "      <th>2</th>\n",
       "      <td>1</td>\n",
       "      <td>35.000000</td>\n",
       "      <td>12.0</td>\n",
       "      <td>13.5</td>\n",
       "      <td>Master</td>\n",
       "    </tr>\n",
       "    <tr>\n",
       "      <th>3</th>\n",
       "      <td>1</td>\n",
       "      <td>37.333333</td>\n",
       "      <td>12.0</td>\n",
       "      <td>13.5</td>\n",
       "      <td>Graduate</td>\n",
       "    </tr>\n",
       "    <tr>\n",
       "      <th>4</th>\n",
       "      <td>0</td>\n",
       "      <td>34.000000</td>\n",
       "      <td>11.0</td>\n",
       "      <td>13.5</td>\n",
       "      <td>Graduate</td>\n",
       "    </tr>\n",
       "  </tbody>\n",
       "</table>\n",
       "</div>"
      ],
      "text/plain": [
       "   Dept        Age  Experience  Salary       Education\n",
       "0     0  32.000000         9.5    13.5  Under_Graduate\n",
       "1     0  33.000000        12.0    13.5          Master\n",
       "2     1  35.000000        12.0    13.5          Master\n",
       "3     1  37.333333        12.0    13.5        Graduate\n",
       "4     0  34.000000        11.0    13.5        Graduate"
      ]
     },
     "execution_count": 53,
     "metadata": {},
     "output_type": "execute_result"
    }
   ],
   "source": [
    "df2.head()"
   ]
  },
  {
   "cell_type": "code",
   "execution_count": 54,
   "id": "4549a55d",
   "metadata": {},
   "outputs": [
    {
     "name": "stdout",
     "output_type": "stream",
     "text": [
      "<class 'pandas.core.frame.DataFrame'>\n",
      "RangeIndex: 33 entries, 0 to 32\n",
      "Data columns (total 5 columns):\n",
      " #   Column      Non-Null Count  Dtype  \n",
      "---  ------      --------------  -----  \n",
      " 0   Dept        33 non-null     int8   \n",
      " 1   Age         33 non-null     float64\n",
      " 2   Experience  33 non-null     float64\n",
      " 3   Salary      33 non-null     float64\n",
      " 4   Education   33 non-null     object \n",
      "dtypes: float64(3), int8(1), object(1)\n",
      "memory usage: 1.2+ KB\n"
     ]
    }
   ],
   "source": [
    "df2.info()"
   ]
  },
  {
   "cell_type": "code",
   "execution_count": 55,
   "id": "dce44dc0",
   "metadata": {},
   "outputs": [],
   "source": [
    "df2[\"Education\"]=df2[\"Education\"].astype(\"category\").cat.codes"
   ]
  },
  {
   "cell_type": "code",
   "execution_count": 56,
   "id": "26839a81",
   "metadata": {},
   "outputs": [
    {
     "data": {
      "text/html": [
       "<div>\n",
       "<style scoped>\n",
       "    .dataframe tbody tr th:only-of-type {\n",
       "        vertical-align: middle;\n",
       "    }\n",
       "\n",
       "    .dataframe tbody tr th {\n",
       "        vertical-align: top;\n",
       "    }\n",
       "\n",
       "    .dataframe thead th {\n",
       "        text-align: right;\n",
       "    }\n",
       "</style>\n",
       "<table border=\"1\" class=\"dataframe\">\n",
       "  <thead>\n",
       "    <tr style=\"text-align: right;\">\n",
       "      <th></th>\n",
       "      <th>Dept</th>\n",
       "      <th>Age</th>\n",
       "      <th>Experience</th>\n",
       "      <th>Salary</th>\n",
       "      <th>Education</th>\n",
       "    </tr>\n",
       "  </thead>\n",
       "  <tbody>\n",
       "    <tr>\n",
       "      <th>0</th>\n",
       "      <td>0</td>\n",
       "      <td>32.000000</td>\n",
       "      <td>9.5</td>\n",
       "      <td>13.5</td>\n",
       "      <td>2</td>\n",
       "    </tr>\n",
       "    <tr>\n",
       "      <th>1</th>\n",
       "      <td>0</td>\n",
       "      <td>33.000000</td>\n",
       "      <td>12.0</td>\n",
       "      <td>13.5</td>\n",
       "      <td>1</td>\n",
       "    </tr>\n",
       "    <tr>\n",
       "      <th>2</th>\n",
       "      <td>1</td>\n",
       "      <td>35.000000</td>\n",
       "      <td>12.0</td>\n",
       "      <td>13.5</td>\n",
       "      <td>1</td>\n",
       "    </tr>\n",
       "    <tr>\n",
       "      <th>3</th>\n",
       "      <td>1</td>\n",
       "      <td>37.333333</td>\n",
       "      <td>12.0</td>\n",
       "      <td>13.5</td>\n",
       "      <td>0</td>\n",
       "    </tr>\n",
       "    <tr>\n",
       "      <th>4</th>\n",
       "      <td>0</td>\n",
       "      <td>34.000000</td>\n",
       "      <td>11.0</td>\n",
       "      <td>13.5</td>\n",
       "      <td>0</td>\n",
       "    </tr>\n",
       "  </tbody>\n",
       "</table>\n",
       "</div>"
      ],
      "text/plain": [
       "   Dept        Age  Experience  Salary  Education\n",
       "0     0  32.000000         9.5    13.5          2\n",
       "1     0  33.000000        12.0    13.5          1\n",
       "2     1  35.000000        12.0    13.5          1\n",
       "3     1  37.333333        12.0    13.5          0\n",
       "4     0  34.000000        11.0    13.5          0"
      ]
     },
     "execution_count": 56,
     "metadata": {},
     "output_type": "execute_result"
    }
   ],
   "source": [
    "df2.head()"
   ]
  },
  {
   "cell_type": "code",
   "execution_count": 57,
   "id": "62766537",
   "metadata": {},
   "outputs": [
    {
     "name": "stdout",
     "output_type": "stream",
     "text": [
      "<class 'pandas.core.frame.DataFrame'>\n",
      "RangeIndex: 33 entries, 0 to 32\n",
      "Data columns (total 5 columns):\n",
      " #   Column      Non-Null Count  Dtype  \n",
      "---  ------      --------------  -----  \n",
      " 0   Dept        33 non-null     int8   \n",
      " 1   Age         33 non-null     float64\n",
      " 2   Experience  33 non-null     float64\n",
      " 3   Salary      33 non-null     float64\n",
      " 4   Education   33 non-null     int8   \n",
      "dtypes: float64(3), int8(2)\n",
      "memory usage: 986.0 bytes\n"
     ]
    }
   ],
   "source": [
    "df2.info()"
   ]
  },
  {
   "cell_type": "markdown",
   "id": "a398b40d",
   "metadata": {},
   "source": [
    "# another approach -sklearn \"labelencoder\""
   ]
  },
  {
   "cell_type": "code",
   "execution_count": 58,
   "id": "7efdcfd8",
   "metadata": {},
   "outputs": [],
   "source": [
    "df3=df1.copy()"
   ]
  },
  {
   "cell_type": "code",
   "execution_count": 61,
   "id": "5036ee84",
   "metadata": {},
   "outputs": [
    {
     "data": {
      "text/html": [
       "<div>\n",
       "<style scoped>\n",
       "    .dataframe tbody tr th:only-of-type {\n",
       "        vertical-align: middle;\n",
       "    }\n",
       "\n",
       "    .dataframe tbody tr th {\n",
       "        vertical-align: top;\n",
       "    }\n",
       "\n",
       "    .dataframe thead th {\n",
       "        text-align: right;\n",
       "    }\n",
       "</style>\n",
       "<table border=\"1\" class=\"dataframe\">\n",
       "  <thead>\n",
       "    <tr style=\"text-align: right;\">\n",
       "      <th></th>\n",
       "      <th>Dept</th>\n",
       "      <th>Age</th>\n",
       "      <th>Experience</th>\n",
       "      <th>Salary</th>\n",
       "      <th>Education</th>\n",
       "    </tr>\n",
       "  </thead>\n",
       "  <tbody>\n",
       "    <tr>\n",
       "      <th>0</th>\n",
       "      <td>HR</td>\n",
       "      <td>32.000000</td>\n",
       "      <td>9.5</td>\n",
       "      <td>13.5</td>\n",
       "      <td>Under_Graduate</td>\n",
       "    </tr>\n",
       "    <tr>\n",
       "      <th>1</th>\n",
       "      <td>HR</td>\n",
       "      <td>33.000000</td>\n",
       "      <td>12.0</td>\n",
       "      <td>13.5</td>\n",
       "      <td>Master</td>\n",
       "    </tr>\n",
       "    <tr>\n",
       "      <th>2</th>\n",
       "      <td>IT</td>\n",
       "      <td>35.000000</td>\n",
       "      <td>12.0</td>\n",
       "      <td>13.5</td>\n",
       "      <td>Master</td>\n",
       "    </tr>\n",
       "    <tr>\n",
       "      <th>3</th>\n",
       "      <td>IT</td>\n",
       "      <td>37.333333</td>\n",
       "      <td>12.0</td>\n",
       "      <td>13.5</td>\n",
       "      <td>Graduate</td>\n",
       "    </tr>\n",
       "    <tr>\n",
       "      <th>4</th>\n",
       "      <td>HR</td>\n",
       "      <td>34.000000</td>\n",
       "      <td>11.0</td>\n",
       "      <td>13.5</td>\n",
       "      <td>Graduate</td>\n",
       "    </tr>\n",
       "  </tbody>\n",
       "</table>\n",
       "</div>"
      ],
      "text/plain": [
       "  Dept        Age  Experience  Salary       Education\n",
       "0   HR  32.000000         9.5    13.5  Under_Graduate\n",
       "1   HR  33.000000        12.0    13.5          Master\n",
       "2   IT  35.000000        12.0    13.5          Master\n",
       "3   IT  37.333333        12.0    13.5        Graduate\n",
       "4   HR  34.000000        11.0    13.5        Graduate"
      ]
     },
     "execution_count": 61,
     "metadata": {},
     "output_type": "execute_result"
    }
   ],
   "source": [
    "df3.head()"
   ]
  },
  {
   "cell_type": "code",
   "execution_count": 59,
   "id": "843ab563",
   "metadata": {},
   "outputs": [],
   "source": [
    "from sklearn import preprocessing"
   ]
  },
  {
   "cell_type": "code",
   "execution_count": 60,
   "id": "c97e66d6",
   "metadata": {},
   "outputs": [],
   "source": [
    "label=preprocessing.LabelEncoder()"
   ]
  },
  {
   "cell_type": "code",
   "execution_count": 62,
   "id": "50550a08",
   "metadata": {},
   "outputs": [],
   "source": [
    "df3[\"Dept\"]=label.fit_transform(df3[\"Dept\"])"
   ]
  },
  {
   "cell_type": "code",
   "execution_count": 63,
   "id": "07a6fd24",
   "metadata": {},
   "outputs": [],
   "source": [
    "df3[\"Education\"]=label.fit_transform(df3[\"Education\"])"
   ]
  },
  {
   "cell_type": "code",
   "execution_count": 64,
   "id": "222bd7d3",
   "metadata": {},
   "outputs": [
    {
     "data": {
      "text/html": [
       "<div>\n",
       "<style scoped>\n",
       "    .dataframe tbody tr th:only-of-type {\n",
       "        vertical-align: middle;\n",
       "    }\n",
       "\n",
       "    .dataframe tbody tr th {\n",
       "        vertical-align: top;\n",
       "    }\n",
       "\n",
       "    .dataframe thead th {\n",
       "        text-align: right;\n",
       "    }\n",
       "</style>\n",
       "<table border=\"1\" class=\"dataframe\">\n",
       "  <thead>\n",
       "    <tr style=\"text-align: right;\">\n",
       "      <th></th>\n",
       "      <th>Dept</th>\n",
       "      <th>Age</th>\n",
       "      <th>Experience</th>\n",
       "      <th>Salary</th>\n",
       "      <th>Education</th>\n",
       "    </tr>\n",
       "  </thead>\n",
       "  <tbody>\n",
       "    <tr>\n",
       "      <th>0</th>\n",
       "      <td>0</td>\n",
       "      <td>32.000000</td>\n",
       "      <td>9.5</td>\n",
       "      <td>13.5</td>\n",
       "      <td>2</td>\n",
       "    </tr>\n",
       "    <tr>\n",
       "      <th>1</th>\n",
       "      <td>0</td>\n",
       "      <td>33.000000</td>\n",
       "      <td>12.0</td>\n",
       "      <td>13.5</td>\n",
       "      <td>1</td>\n",
       "    </tr>\n",
       "    <tr>\n",
       "      <th>2</th>\n",
       "      <td>1</td>\n",
       "      <td>35.000000</td>\n",
       "      <td>12.0</td>\n",
       "      <td>13.5</td>\n",
       "      <td>1</td>\n",
       "    </tr>\n",
       "    <tr>\n",
       "      <th>3</th>\n",
       "      <td>1</td>\n",
       "      <td>37.333333</td>\n",
       "      <td>12.0</td>\n",
       "      <td>13.5</td>\n",
       "      <td>0</td>\n",
       "    </tr>\n",
       "    <tr>\n",
       "      <th>4</th>\n",
       "      <td>0</td>\n",
       "      <td>34.000000</td>\n",
       "      <td>11.0</td>\n",
       "      <td>13.5</td>\n",
       "      <td>0</td>\n",
       "    </tr>\n",
       "  </tbody>\n",
       "</table>\n",
       "</div>"
      ],
      "text/plain": [
       "   Dept        Age  Experience  Salary  Education\n",
       "0     0  32.000000         9.5    13.5          2\n",
       "1     0  33.000000        12.0    13.5          1\n",
       "2     1  35.000000        12.0    13.5          1\n",
       "3     1  37.333333        12.0    13.5          0\n",
       "4     0  34.000000        11.0    13.5          0"
      ]
     },
     "execution_count": 64,
     "metadata": {},
     "output_type": "execute_result"
    }
   ],
   "source": [
    "df3.head()"
   ]
  },
  {
   "cell_type": "code",
   "execution_count": 65,
   "id": "1021b59a",
   "metadata": {},
   "outputs": [
    {
     "name": "stdout",
     "output_type": "stream",
     "text": [
      "<class 'pandas.core.frame.DataFrame'>\n",
      "RangeIndex: 33 entries, 0 to 32\n",
      "Data columns (total 5 columns):\n",
      " #   Column      Non-Null Count  Dtype  \n",
      "---  ------      --------------  -----  \n",
      " 0   Dept        33 non-null     int32  \n",
      " 1   Age         33 non-null     float64\n",
      " 2   Experience  33 non-null     float64\n",
      " 3   Salary      33 non-null     float64\n",
      " 4   Education   33 non-null     int32  \n",
      "dtypes: float64(3), int32(2)\n",
      "memory usage: 1.2 KB\n"
     ]
    }
   ],
   "source": [
    "df3.info()"
   ]
  },
  {
   "cell_type": "code",
   "execution_count": null,
   "id": "81858f33",
   "metadata": {},
   "outputs": [],
   "source": [
    "# one hot encoding will increase the dimension columns.. but all values will be 0 and 1"
   ]
  },
  {
   "cell_type": "code",
   "execution_count": null,
   "id": "3eb0937c",
   "metadata": {},
   "outputs": [],
   "source": [
    "# pandas having one function --- \"get_dummies\""
   ]
  },
  {
   "cell_type": "code",
   "execution_count": 66,
   "id": "a58cab1d",
   "metadata": {},
   "outputs": [],
   "source": [
    "df4=df1.copy()"
   ]
  },
  {
   "cell_type": "code",
   "execution_count": 67,
   "id": "dff12da1",
   "metadata": {},
   "outputs": [
    {
     "data": {
      "text/html": [
       "<div>\n",
       "<style scoped>\n",
       "    .dataframe tbody tr th:only-of-type {\n",
       "        vertical-align: middle;\n",
       "    }\n",
       "\n",
       "    .dataframe tbody tr th {\n",
       "        vertical-align: top;\n",
       "    }\n",
       "\n",
       "    .dataframe thead th {\n",
       "        text-align: right;\n",
       "    }\n",
       "</style>\n",
       "<table border=\"1\" class=\"dataframe\">\n",
       "  <thead>\n",
       "    <tr style=\"text-align: right;\">\n",
       "      <th></th>\n",
       "      <th>Dept</th>\n",
       "      <th>Age</th>\n",
       "      <th>Experience</th>\n",
       "      <th>Salary</th>\n",
       "      <th>Education</th>\n",
       "    </tr>\n",
       "  </thead>\n",
       "  <tbody>\n",
       "    <tr>\n",
       "      <th>0</th>\n",
       "      <td>HR</td>\n",
       "      <td>32.000000</td>\n",
       "      <td>9.5</td>\n",
       "      <td>13.5</td>\n",
       "      <td>Under_Graduate</td>\n",
       "    </tr>\n",
       "    <tr>\n",
       "      <th>1</th>\n",
       "      <td>HR</td>\n",
       "      <td>33.000000</td>\n",
       "      <td>12.0</td>\n",
       "      <td>13.5</td>\n",
       "      <td>Master</td>\n",
       "    </tr>\n",
       "    <tr>\n",
       "      <th>2</th>\n",
       "      <td>IT</td>\n",
       "      <td>35.000000</td>\n",
       "      <td>12.0</td>\n",
       "      <td>13.5</td>\n",
       "      <td>Master</td>\n",
       "    </tr>\n",
       "    <tr>\n",
       "      <th>3</th>\n",
       "      <td>IT</td>\n",
       "      <td>37.333333</td>\n",
       "      <td>12.0</td>\n",
       "      <td>13.5</td>\n",
       "      <td>Graduate</td>\n",
       "    </tr>\n",
       "    <tr>\n",
       "      <th>4</th>\n",
       "      <td>HR</td>\n",
       "      <td>34.000000</td>\n",
       "      <td>11.0</td>\n",
       "      <td>13.5</td>\n",
       "      <td>Graduate</td>\n",
       "    </tr>\n",
       "  </tbody>\n",
       "</table>\n",
       "</div>"
      ],
      "text/plain": [
       "  Dept        Age  Experience  Salary       Education\n",
       "0   HR  32.000000         9.5    13.5  Under_Graduate\n",
       "1   HR  33.000000        12.0    13.5          Master\n",
       "2   IT  35.000000        12.0    13.5          Master\n",
       "3   IT  37.333333        12.0    13.5        Graduate\n",
       "4   HR  34.000000        11.0    13.5        Graduate"
      ]
     },
     "execution_count": 67,
     "metadata": {},
     "output_type": "execute_result"
    }
   ],
   "source": [
    "df4.head()"
   ]
  },
  {
   "cell_type": "code",
   "execution_count": 69,
   "id": "6a4780de",
   "metadata": {},
   "outputs": [],
   "source": [
    "df4=pd.get_dummies(df4,columns=[\"Dept\",\"Education\"])"
   ]
  },
  {
   "cell_type": "code",
   "execution_count": 70,
   "id": "f546c0c9",
   "metadata": {},
   "outputs": [
    {
     "data": {
      "text/html": [
       "<div>\n",
       "<style scoped>\n",
       "    .dataframe tbody tr th:only-of-type {\n",
       "        vertical-align: middle;\n",
       "    }\n",
       "\n",
       "    .dataframe tbody tr th {\n",
       "        vertical-align: top;\n",
       "    }\n",
       "\n",
       "    .dataframe thead th {\n",
       "        text-align: right;\n",
       "    }\n",
       "</style>\n",
       "<table border=\"1\" class=\"dataframe\">\n",
       "  <thead>\n",
       "    <tr style=\"text-align: right;\">\n",
       "      <th></th>\n",
       "      <th>Age</th>\n",
       "      <th>Experience</th>\n",
       "      <th>Salary</th>\n",
       "      <th>Dept_HR</th>\n",
       "      <th>Dept_IT</th>\n",
       "      <th>Dept_Marketing</th>\n",
       "      <th>Dept_Sales</th>\n",
       "      <th>Education_Graduate</th>\n",
       "      <th>Education_Master</th>\n",
       "      <th>Education_Under_Graduate</th>\n",
       "    </tr>\n",
       "  </thead>\n",
       "  <tbody>\n",
       "    <tr>\n",
       "      <th>0</th>\n",
       "      <td>32.000000</td>\n",
       "      <td>9.5</td>\n",
       "      <td>13.5</td>\n",
       "      <td>1</td>\n",
       "      <td>0</td>\n",
       "      <td>0</td>\n",
       "      <td>0</td>\n",
       "      <td>0</td>\n",
       "      <td>0</td>\n",
       "      <td>1</td>\n",
       "    </tr>\n",
       "    <tr>\n",
       "      <th>1</th>\n",
       "      <td>33.000000</td>\n",
       "      <td>12.0</td>\n",
       "      <td>13.5</td>\n",
       "      <td>1</td>\n",
       "      <td>0</td>\n",
       "      <td>0</td>\n",
       "      <td>0</td>\n",
       "      <td>0</td>\n",
       "      <td>1</td>\n",
       "      <td>0</td>\n",
       "    </tr>\n",
       "    <tr>\n",
       "      <th>2</th>\n",
       "      <td>35.000000</td>\n",
       "      <td>12.0</td>\n",
       "      <td>13.5</td>\n",
       "      <td>0</td>\n",
       "      <td>1</td>\n",
       "      <td>0</td>\n",
       "      <td>0</td>\n",
       "      <td>0</td>\n",
       "      <td>1</td>\n",
       "      <td>0</td>\n",
       "    </tr>\n",
       "    <tr>\n",
       "      <th>3</th>\n",
       "      <td>37.333333</td>\n",
       "      <td>12.0</td>\n",
       "      <td>13.5</td>\n",
       "      <td>0</td>\n",
       "      <td>1</td>\n",
       "      <td>0</td>\n",
       "      <td>0</td>\n",
       "      <td>1</td>\n",
       "      <td>0</td>\n",
       "      <td>0</td>\n",
       "    </tr>\n",
       "    <tr>\n",
       "      <th>4</th>\n",
       "      <td>34.000000</td>\n",
       "      <td>11.0</td>\n",
       "      <td>13.5</td>\n",
       "      <td>1</td>\n",
       "      <td>0</td>\n",
       "      <td>0</td>\n",
       "      <td>0</td>\n",
       "      <td>1</td>\n",
       "      <td>0</td>\n",
       "      <td>0</td>\n",
       "    </tr>\n",
       "  </tbody>\n",
       "</table>\n",
       "</div>"
      ],
      "text/plain": [
       "         Age  Experience  Salary  Dept_HR  Dept_IT  Dept_Marketing  \\\n",
       "0  32.000000         9.5    13.5        1        0               0   \n",
       "1  33.000000        12.0    13.5        1        0               0   \n",
       "2  35.000000        12.0    13.5        0        1               0   \n",
       "3  37.333333        12.0    13.5        0        1               0   \n",
       "4  34.000000        11.0    13.5        1        0               0   \n",
       "\n",
       "   Dept_Sales  Education_Graduate  Education_Master  Education_Under_Graduate  \n",
       "0           0                   0                 0                         1  \n",
       "1           0                   0                 1                         0  \n",
       "2           0                   0                 1                         0  \n",
       "3           0                   1                 0                         0  \n",
       "4           0                   1                 0                         0  "
      ]
     },
     "execution_count": 70,
     "metadata": {},
     "output_type": "execute_result"
    }
   ],
   "source": [
    "df4.head()"
   ]
  },
  {
   "cell_type": "code",
   "execution_count": null,
   "id": "a5b32459",
   "metadata": {},
   "outputs": [],
   "source": [
    "# dopping the dummy column because we are not learning a new info"
   ]
  },
  {
   "cell_type": "code",
   "execution_count": 71,
   "id": "aec2f6b2",
   "metadata": {},
   "outputs": [],
   "source": [
    "df4=df4.drop([\"Dept_HR\",\"Education_Master\"],axis=1)"
   ]
  },
  {
   "cell_type": "code",
   "execution_count": 72,
   "id": "3f325999",
   "metadata": {},
   "outputs": [
    {
     "data": {
      "text/html": [
       "<div>\n",
       "<style scoped>\n",
       "    .dataframe tbody tr th:only-of-type {\n",
       "        vertical-align: middle;\n",
       "    }\n",
       "\n",
       "    .dataframe tbody tr th {\n",
       "        vertical-align: top;\n",
       "    }\n",
       "\n",
       "    .dataframe thead th {\n",
       "        text-align: right;\n",
       "    }\n",
       "</style>\n",
       "<table border=\"1\" class=\"dataframe\">\n",
       "  <thead>\n",
       "    <tr style=\"text-align: right;\">\n",
       "      <th></th>\n",
       "      <th>Age</th>\n",
       "      <th>Experience</th>\n",
       "      <th>Salary</th>\n",
       "      <th>Dept_IT</th>\n",
       "      <th>Dept_Marketing</th>\n",
       "      <th>Dept_Sales</th>\n",
       "      <th>Education_Graduate</th>\n",
       "      <th>Education_Under_Graduate</th>\n",
       "    </tr>\n",
       "  </thead>\n",
       "  <tbody>\n",
       "    <tr>\n",
       "      <th>0</th>\n",
       "      <td>32.000000</td>\n",
       "      <td>9.5</td>\n",
       "      <td>13.5</td>\n",
       "      <td>0</td>\n",
       "      <td>0</td>\n",
       "      <td>0</td>\n",
       "      <td>0</td>\n",
       "      <td>1</td>\n",
       "    </tr>\n",
       "    <tr>\n",
       "      <th>1</th>\n",
       "      <td>33.000000</td>\n",
       "      <td>12.0</td>\n",
       "      <td>13.5</td>\n",
       "      <td>0</td>\n",
       "      <td>0</td>\n",
       "      <td>0</td>\n",
       "      <td>0</td>\n",
       "      <td>0</td>\n",
       "    </tr>\n",
       "    <tr>\n",
       "      <th>2</th>\n",
       "      <td>35.000000</td>\n",
       "      <td>12.0</td>\n",
       "      <td>13.5</td>\n",
       "      <td>1</td>\n",
       "      <td>0</td>\n",
       "      <td>0</td>\n",
       "      <td>0</td>\n",
       "      <td>0</td>\n",
       "    </tr>\n",
       "    <tr>\n",
       "      <th>3</th>\n",
       "      <td>37.333333</td>\n",
       "      <td>12.0</td>\n",
       "      <td>13.5</td>\n",
       "      <td>1</td>\n",
       "      <td>0</td>\n",
       "      <td>0</td>\n",
       "      <td>1</td>\n",
       "      <td>0</td>\n",
       "    </tr>\n",
       "    <tr>\n",
       "      <th>4</th>\n",
       "      <td>34.000000</td>\n",
       "      <td>11.0</td>\n",
       "      <td>13.5</td>\n",
       "      <td>0</td>\n",
       "      <td>0</td>\n",
       "      <td>0</td>\n",
       "      <td>1</td>\n",
       "      <td>0</td>\n",
       "    </tr>\n",
       "  </tbody>\n",
       "</table>\n",
       "</div>"
      ],
      "text/plain": [
       "         Age  Experience  Salary  Dept_IT  Dept_Marketing  Dept_Sales  \\\n",
       "0  32.000000         9.5    13.5        0               0           0   \n",
       "1  33.000000        12.0    13.5        0               0           0   \n",
       "2  35.000000        12.0    13.5        1               0           0   \n",
       "3  37.333333        12.0    13.5        1               0           0   \n",
       "4  34.000000        11.0    13.5        0               0           0   \n",
       "\n",
       "   Education_Graduate  Education_Under_Graduate  \n",
       "0                   0                         1  \n",
       "1                   0                         0  \n",
       "2                   0                         0  \n",
       "3                   1                         0  \n",
       "4                   1                         0  "
      ]
     },
     "execution_count": 72,
     "metadata": {},
     "output_type": "execute_result"
    }
   ],
   "source": [
    "df4.head()"
   ]
  },
  {
   "cell_type": "code",
   "execution_count": null,
   "id": "1943ecf5",
   "metadata": {},
   "outputs": [],
   "source": []
  },
  {
   "cell_type": "code",
   "execution_count": null,
   "id": "ec2c0aee",
   "metadata": {},
   "outputs": [],
   "source": []
  },
  {
   "cell_type": "code",
   "execution_count": null,
   "id": "44a8f8ec",
   "metadata": {},
   "outputs": [],
   "source": []
  },
  {
   "cell_type": "code",
   "execution_count": null,
   "id": "11f04f21",
   "metadata": {},
   "outputs": [],
   "source": []
  },
  {
   "cell_type": "code",
   "execution_count": null,
   "id": "aa2c93ec",
   "metadata": {},
   "outputs": [],
   "source": []
  }
 ],
 "metadata": {
  "kernelspec": {
   "display_name": "Python 3 (ipykernel)",
   "language": "python",
   "name": "python3"
  },
  "language_info": {
   "codemirror_mode": {
    "name": "ipython",
    "version": 3
   },
   "file_extension": ".py",
   "mimetype": "text/x-python",
   "name": "python",
   "nbconvert_exporter": "python",
   "pygments_lexer": "ipython3",
   "version": "3.9.7"
  }
 },
 "nbformat": 4,
 "nbformat_minor": 5
}
