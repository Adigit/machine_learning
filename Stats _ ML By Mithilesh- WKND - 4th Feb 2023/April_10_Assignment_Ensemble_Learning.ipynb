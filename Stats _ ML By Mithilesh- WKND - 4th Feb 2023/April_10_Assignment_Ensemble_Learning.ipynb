{
 "cells": [
  {
   "cell_type": "code",
   "execution_count": null,
   "id": "e874367b",
   "metadata": {},
   "outputs": [],
   "source": [
    "REGRESSION PROBLEM:- (1)USA Housing"
   ]
  },
  {
   "cell_type": "code",
   "execution_count": null,
   "id": "d693e0ac",
   "metadata": {},
   "outputs": [],
   "source": [
    "# Pre processing- misisng value, label encoding,corr()"
   ]
  },
  {
   "cell_type": "code",
   "execution_count": null,
   "id": "e1b151ad",
   "metadata": {},
   "outputs": [],
   "source": [
    "# apply algorithm (1)Linear regression(2)KNN (3)SVR (4)DecisionTreeRegressor\n",
    "(5)RandomForestRegressor(6)BaggingRegressor(7)GradientBoostingRegressor\n",
    "(8)AdaBoostRegressor(9)LightboostRegressor\n",
    "(10)XGBoostRegressor(11)CatBoostRegressor."
   ]
  },
  {
   "cell_type": "code",
   "execution_count": null,
   "id": "1ef2ca6b",
   "metadata": {},
   "outputs": [],
   "source": [
    "# Apply the model evaluation-- R2 score, mabsolute mean , root square mean."
   ]
  },
  {
   "cell_type": "code",
   "execution_count": null,
   "id": "159bc318",
   "metadata": {},
   "outputs": [],
   "source": [
    "#Learn the concept Hyperparameter tunning - apply RandomizedSearchCV (Linear Regression, knn,decisiontree,randomforest)"
   ]
  },
  {
   "cell_type": "code",
   "execution_count": null,
   "id": "712d2688",
   "metadata": {},
   "outputs": [],
   "source": []
  },
  {
   "cell_type": "code",
   "execution_count": null,
   "id": "ee5df358",
   "metadata": {},
   "outputs": [],
   "source": [
    "CLASSIFICATION PROBLEM:- (1)BANKING_FINANCE dataset.(2)Employee Attrition (3)Cardio_Vascular"
   ]
  },
  {
   "cell_type": "code",
   "execution_count": null,
   "id": "d8f37161",
   "metadata": {},
   "outputs": [],
   "source": [
    "# Pre processing-- misisng value, label encoding,corr()"
   ]
  },
  {
   "cell_type": "code",
   "execution_count": null,
   "id": "b94599f7",
   "metadata": {},
   "outputs": [],
   "source": [
    "# apply algorithm (1)Logistic regression(2)KNN (3)SVC (4)DecisionTreeclassifier\n",
    "(5)RandomForestClassifier(6)BaggingClassifier(7)GradientBoostingClassifier(8)AdaBoostClassifier\n",
    "(9)LightboostClassifier\n",
    "(10)XGBoostClassifier(11)CatBoostClassifier.\n",
    "(12)GaussianNaiveBayesclassifier"
   ]
  },
  {
   "cell_type": "code",
   "execution_count": null,
   "id": "88dbd4f3",
   "metadata": {},
   "outputs": [],
   "source": [
    "# Apply the model evaluation-- Accuracy,Confusion matrix, classification report, ROC_AUC CURVE.\n"
   ]
  },
  {
   "cell_type": "code",
   "execution_count": null,
   "id": "decef138",
   "metadata": {},
   "outputs": [],
   "source": [
    "#Learn the concept Hyperparameter tunning - apply RandomizedSearchCV (Logistic Regression, knn,decisiontree,randomforestclassifier)"
   ]
  },
  {
   "cell_type": "code",
   "execution_count": null,
   "id": "3c3c76aa",
   "metadata": {},
   "outputs": [],
   "source": []
  },
  {
   "cell_type": "code",
   "execution_count": null,
   "id": "4bb6173d",
   "metadata": {},
   "outputs": [],
   "source": [
    "# after completion of above dataset TRY the following\n",
    "\n",
    "(1)Advance house price prediction.-- Regression problem\n",
    "(2)Wine quality prediction----- Multi_class_classification\n"
   ]
  },
  {
   "cell_type": "code",
   "execution_count": null,
   "id": "9c3be564",
   "metadata": {},
   "outputs": [],
   "source": []
  },
  {
   "cell_type": "code",
   "execution_count": null,
   "id": "a73acf70",
   "metadata": {},
   "outputs": [],
   "source": []
  }
 ],
 "metadata": {
  "kernelspec": {
   "display_name": "Python 3 (ipykernel)",
   "language": "python",
   "name": "python3"
  },
  "language_info": {
   "codemirror_mode": {
    "name": "ipython",
    "version": 3
   },
   "file_extension": ".py",
   "mimetype": "text/x-python",
   "name": "python",
   "nbconvert_exporter": "python",
   "pygments_lexer": "ipython3",
   "version": "3.9.7"
  }
 },
 "nbformat": 4,
 "nbformat_minor": 5
}
