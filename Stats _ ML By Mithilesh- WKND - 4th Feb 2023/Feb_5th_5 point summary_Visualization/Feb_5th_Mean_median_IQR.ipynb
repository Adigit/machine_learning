{
 "cells": [
  {
   "cell_type": "code",
   "execution_count": null,
   "id": "be3fed4d",
   "metadata": {},
   "outputs": [],
   "source": [
    "# MEAN MEDIAN IQR"
   ]
  },
  {
   "cell_type": "code",
   "execution_count": 1,
   "id": "fa13a687",
   "metadata": {},
   "outputs": [],
   "source": [
    "import pandas as pd # to create data frame and working on rows columns\n",
    "import numpy as np # help in mathematical calculation"
   ]
  },
  {
   "cell_type": "code",
   "execution_count": null,
   "id": "96e95b2d",
   "metadata": {},
   "outputs": [],
   "source": [
    "# create a basic dataset"
   ]
  },
  {
   "cell_type": "code",
   "execution_count": 10,
   "id": "0f02be71",
   "metadata": {},
   "outputs": [
    {
     "data": {
      "text/plain": [
       "array([46, 75, 55, 20, 72, 48, 11, 39, 65, 34, 37, 63, 57,  8, 46, 41, 41,\n",
       "       16, 69,  7,  9, 94, 49, 49,  5, 80, 41, 98, 65, 99, 84, 24, 57, 20,\n",
       "        0, 97, 76, 58, 38, 54, 60, 98, 96, 95,  9, 67,  2, 75,  4, 81, 51,\n",
       "       89, 86,  3, 91, 14, 35, 18,  9, 83, 59, 75, 45, 45, 45, 81, 51, 46,\n",
       "       43, 36, 90, 55, 79, 29, 11, 78, 58, 13, 71, 76, 48, 29, 92, 25, 30,\n",
       "       61, 55, 51, 38, 56, 58, 43, 57, 96, 91, 33, 77, 59, 91, 97, 97,  0,\n",
       "       39, 42, 60, 29, 80, 11,  8, 43, 40, 65, 99, 21, 25, 85, 55, 18, 47,\n",
       "       24, 35, 35, 91, 78, 13, 67, 71, 37, 59, 37, 63,  2,  7, 70, 23, 14,\n",
       "       29, 80,  4, 85,  6, 73, 57, 41, 94, 24, 17, 69,  4, 82, 50, 20, 85,\n",
       "       66, 95, 24, 10,  4, 61, 63, 49, 56, 65,  1, 44, 42, 73, 63, 98, 25,\n",
       "       36,  5,  6, 71,  7, 24, 45, 12, 57, 50, 62, 63, 19, 18, 28, 49, 34,\n",
       "        5, 75, 12, 15, 91, 59, 54, 92, 97, 90, 62, 45,  1, 91, 37, 92, 79,\n",
       "       22, 12, 18, 49, 41, 22, 46, 97, 70, 66, 87, 73, 77, 96, 87, 43,  0,\n",
       "       30, 73, 49, 37, 13, 79, 18, 95, 78, 81, 29, 50, 81, 37, 33, 58, 69,\n",
       "       91, 89, 46, 47, 14, 74, 73, 49, 67, 46, 68, 27, 51,  6,  9, 10, 68,\n",
       "       47, 68, 74, 91, 47, 82, 27, 64, 20,  0, 50, 14, 42, 17, 27, 33, 54,\n",
       "        0, 76, 40, 93, 62, 53, 48, 36, 49, 19, 52, 50, 56, 30, 36, 59, 43,\n",
       "       96, 84, 58, 94, 35,  3, 17,  3,  8, 75,  9, 58, 50, 20, 38, 15, 11,\n",
       "       46, 90, 93, 88, 74, 62, 26, 66, 68, 94, 32, 22,  1, 45, 98, 84, 87,\n",
       "       88, 40, 46, 24, 22, 56, 59, 80, 91,  1, 99, 55, 64, 19, 18, 65,  2,\n",
       "       18, 10, 42, 93, 95, 29, 39, 60, 86, 11, 40, 26, 88, 18, 17, 56, 84,\n",
       "       23, 33, 95, 64, 37, 93,  5,  4, 32,  5, 58, 75, 92, 67, 96, 87,  6,\n",
       "       94, 11, 49, 70,  8, 69, 68,  6, 39, 42, 89, 69, 23, 98, 45, 24, 99,\n",
       "       42, 55, 59, 34, 75, 84, 31, 35, 58, 87, 84, 93,  1, 99, 60, 95, 89,\n",
       "       98, 79,  7, 82, 62, 67, 97, 65, 56, 77, 11, 59, 28,  1, 33, 69, 79,\n",
       "        0, 82,  7, 55, 51, 87, 16,  1, 74, 25, 78,  4, 45, 58, 17, 18, 99,\n",
       "       48, 49, 61, 13, 11, 28, 17, 81, 59, 43, 46, 12, 98, 55, 75, 75, 59,\n",
       "        3, 80, 67,  7, 95, 93, 43, 97, 72,  3,  1, 83, 66, 64, 39, 46, 94,\n",
       "       59, 16, 51, 76, 34, 73, 11, 28, 75, 18, 26, 90, 86, 65, 14, 65, 38,\n",
       "       60, 43, 39, 70, 11, 74, 41, 86, 60, 24, 99, 79, 37,  2, 55, 63, 49,\n",
       "       27, 58, 48,  7, 22, 61, 34, 17,  5, 21,  9, 73, 19, 28, 87, 75, 89,\n",
       "       45, 30, 58, 10,  2, 86, 38, 87, 22, 90, 65, 40, 47, 49, 67, 83,  6,\n",
       "       22,  6, 40, 43, 51, 67, 76, 57, 66, 60, 61, 74, 19, 80, 38, 12, 69,\n",
       "       95, 11, 76, 79, 42, 11, 83, 21, 42, 28, 22, 43, 17, 72, 65, 58, 67,\n",
       "       19, 11, 58, 28, 82, 67, 27, 79, 87, 64,  3, 48, 37, 50, 41, 86, 65,\n",
       "       67, 30, 98, 72, 30, 94, 83, 95, 48, 78, 67, 87, 96, 95, 36, 55, 48,\n",
       "        0, 70, 70, 83, 80, 55, 53, 45, 62, 18, 22, 65, 28, 34, 78, 60, 30,\n",
       "       48, 62, 93, 60, 25, 22, 13, 31, 80, 49, 99, 80, 73, 73,  8, 34, 98,\n",
       "       93, 68,  5,  9, 59, 99, 99, 56, 11, 67, 55, 52, 30, 95, 84, 69, 93,\n",
       "       43, 75, 70, 99, 20, 74, 81, 49, 68, 26,  8, 92, 97, 63, 56, 38, 22,\n",
       "       40,  6, 11, 40, 26, 68, 50, 84, 29, 79, 19, 19, 87, 58, 15, 16,  6,\n",
       "        0, 80, 89, 94,  0, 11, 65, 46,  2,  6, 73,  4, 14, 70, 59, 17, 82,\n",
       "       70, 85, 47,  0, 45, 95, 42, 68,  8,  5, 73, 50, 90, 88, 93, 47, 21,\n",
       "       31, 40,  4, 59, 39, 85, 13, 75, 37, 41, 64, 36, 33, 37, 93,  5, 56,\n",
       "       71, 72, 22, 78,  1, 22, 59, 91, 41, 73, 76, 60, 73,  8, 44, 40, 50,\n",
       "       71, 54, 58, 69, 63, 92, 62,  7, 62, 29, 93, 85, 18, 82, 74, 68, 54,\n",
       "       50, 10, 57,  1, 17, 64, 24, 51, 63,  8, 60, 49,  4, 10,  8,  8, 72,\n",
       "       42, 83, 82,  3, 19, 89, 18, 94, 50, 23, 30, 31, 27,  9, 73, 68, 48,\n",
       "       48, 21, 80, 33, 60,  1, 99, 51, 29, 26, 94, 66, 89, 92, 12, 90, 83,\n",
       "       10, 64,  3, 91, 56, 31, 83, 29, 42, 59, 73, 79, 22, 38, 39, 16, 11,\n",
       "       24, 10, 89, 18, 17, 48, 35,  7, 20, 34, 14, 33, 65, 11, 93, 75, 86,\n",
       "       95, 43, 41, 65,  0, 30, 43, 63,  0, 74, 60, 72, 79, 90, 14, 33, 94,\n",
       "       59, 89, 40,  4, 41, 26, 50, 86, 22, 82, 43, 81, 84, 34,  8, 79, 80,\n",
       "       21, 10, 18, 24, 62, 98, 51, 45, 42, 17, 27,  5, 16, 64, 78, 40, 44,\n",
       "       86, 76, 54, 57, 97, 31, 44, 48, 13, 31, 72, 99,  5, 51, 24, 92, 66,\n",
       "       10, 13, 97, 34, 65, 63, 16,  0, 87, 21, 24,  0, 80, 90, 47, 59, 85,\n",
       "       55,  0, 93, 92,  2, 54, 93, 40, 85, 31, 13, 29, 33, 33, 11, 70, 91,\n",
       "       21, 79, 91,  2, 40, 92, 51, 70, 64, 26, 25, 49, 52, 45, 61,  4, 46,\n",
       "       72, 21, 21, 10, 72, 36, 73, 98, 41, 17, 34, 73, 54, 33])"
      ]
     },
     "execution_count": 10,
     "metadata": {},
     "output_type": "execute_result"
    }
   ],
   "source": [
    "dataset=np.random.randint(0,100,1000)\n",
    "dataset"
   ]
  },
  {
   "cell_type": "code",
   "execution_count": 4,
   "id": "f824a2d2",
   "metadata": {},
   "outputs": [
    {
     "data": {
      "text/plain": [
       "numpy.ndarray"
      ]
     },
     "execution_count": 4,
     "metadata": {},
     "output_type": "execute_result"
    }
   ],
   "source": [
    "type(dataset)"
   ]
  },
  {
   "cell_type": "code",
   "execution_count": 11,
   "id": "77111fa4",
   "metadata": {},
   "outputs": [],
   "source": [
    "# creating a smaple size of 50\n",
    "dataset_1=np.random.choice(dataset,50)"
   ]
  },
  {
   "cell_type": "code",
   "execution_count": 12,
   "id": "02f61705",
   "metadata": {},
   "outputs": [
    {
     "data": {
      "text/plain": [
       "array([ 8, 30, 39, 28, 47, 26,  0, 89, 43, 40, 18, 41, 43, 43, 66, 72, 80,\n",
       "       74, 10, 87, 38, 50, 29, 94, 73, 73, 56, 78, 57, 78, 74, 13, 13, 24,\n",
       "       41, 14, 10, 48, 26,  4, 26, 55,  7, 99,  1, 73, 47, 31, 46, 57])"
      ]
     },
     "execution_count": 12,
     "metadata": {},
     "output_type": "execute_result"
    }
   ],
   "source": [
    "dataset_1"
   ]
  },
  {
   "cell_type": "code",
   "execution_count": 13,
   "id": "e54c18c7",
   "metadata": {},
   "outputs": [
    {
     "data": {
      "text/plain": [
       "44.38"
      ]
     },
     "execution_count": 13,
     "metadata": {},
     "output_type": "execute_result"
    }
   ],
   "source": [
    "mean_1=np.mean(dataset_1)\n",
    "mean_1"
   ]
  },
  {
   "cell_type": "code",
   "execution_count": 14,
   "id": "19fae047",
   "metadata": {},
   "outputs": [],
   "source": [
    "# creating a smaple size of 100\n",
    "dataset_2=np.random.choice(dataset,100)"
   ]
  },
  {
   "cell_type": "code",
   "execution_count": 15,
   "id": "d5d8a07f",
   "metadata": {},
   "outputs": [
    {
     "data": {
      "text/plain": [
       "51.23"
      ]
     },
     "execution_count": 15,
     "metadata": {},
     "output_type": "execute_result"
    }
   ],
   "source": [
    "mean_2=np.mean(dataset_2)\n",
    "mean_2"
   ]
  },
  {
   "cell_type": "code",
   "execution_count": null,
   "id": "8e2fbe87",
   "metadata": {},
   "outputs": [],
   "source": [
    "#median"
   ]
  },
  {
   "cell_type": "code",
   "execution_count": 16,
   "id": "92904134",
   "metadata": {},
   "outputs": [
    {
     "name": "stdout",
     "output_type": "stream",
     "text": [
      "43.0\n"
     ]
    }
   ],
   "source": [
    "print(np.median(dataset_1))"
   ]
  },
  {
   "cell_type": "code",
   "execution_count": 17,
   "id": "7c9093d7",
   "metadata": {},
   "outputs": [
    {
     "name": "stdout",
     "output_type": "stream",
     "text": [
      "49.5\n"
     ]
    }
   ],
   "source": [
    "print(np.median(dataset_2))"
   ]
  },
  {
   "cell_type": "code",
   "execution_count": null,
   "id": "9d4c535b",
   "metadata": {},
   "outputs": [],
   "source": [
    "# mode"
   ]
  },
  {
   "cell_type": "code",
   "execution_count": 18,
   "id": "82bc4652",
   "metadata": {},
   "outputs": [],
   "source": [
    "from scipy.stats import mode"
   ]
  },
  {
   "cell_type": "code",
   "execution_count": 20,
   "id": "f983ea8f",
   "metadata": {},
   "outputs": [
    {
     "name": "stdout",
     "output_type": "stream",
     "text": [
      "ModeResult(mode=array([11]), count=array([19]))\n"
     ]
    }
   ],
   "source": [
    "print(mode(dataset))"
   ]
  },
  {
   "cell_type": "code",
   "execution_count": 21,
   "id": "46b2ea89",
   "metadata": {},
   "outputs": [
    {
     "name": "stdout",
     "output_type": "stream",
     "text": [
      "ModeResult(mode=array([26]), count=array([3]))\n"
     ]
    }
   ],
   "source": [
    "print(mode(dataset_1))"
   ]
  },
  {
   "cell_type": "code",
   "execution_count": 22,
   "id": "b2f3a412",
   "metadata": {},
   "outputs": [
    {
     "name": "stdout",
     "output_type": "stream",
     "text": [
      "ModeResult(mode=array([0]), count=array([4]))\n"
     ]
    }
   ],
   "source": [
    "print(mode(dataset_2))"
   ]
  },
  {
   "cell_type": "code",
   "execution_count": null,
   "id": "11b35118",
   "metadata": {},
   "outputs": [],
   "source": [
    "# variance"
   ]
  },
  {
   "cell_type": "code",
   "execution_count": 23,
   "id": "a1a430bb",
   "metadata": {},
   "outputs": [
    {
     "name": "stdout",
     "output_type": "stream",
     "text": [
      "841.4759839999999\n"
     ]
    }
   ],
   "source": [
    "print(np.var(dataset))"
   ]
  },
  {
   "cell_type": "code",
   "execution_count": 24,
   "id": "6a080001",
   "metadata": {},
   "outputs": [
    {
     "name": "stdout",
     "output_type": "stream",
     "text": [
      "708.8756\n"
     ]
    }
   ],
   "source": [
    "print(np.var(dataset_1))"
   ]
  },
  {
   "cell_type": "code",
   "execution_count": null,
   "id": "d5ca70ba",
   "metadata": {},
   "outputs": [],
   "source": [
    "# population variance"
   ]
  },
  {
   "cell_type": "code",
   "execution_count": 25,
   "id": "b968c438",
   "metadata": {},
   "outputs": [
    {
     "data": {
      "text/plain": [
       "841"
      ]
     },
     "execution_count": 25,
     "metadata": {},
     "output_type": "execute_result"
    }
   ],
   "source": [
    "from statistics import pvariance\n",
    "pvariance(dataset)"
   ]
  },
  {
   "cell_type": "code",
   "execution_count": 36,
   "id": "d2e0e4f8",
   "metadata": {},
   "outputs": [
    {
     "data": {
      "text/plain": [
       "29.0"
      ]
     },
     "execution_count": 36,
     "metadata": {},
     "output_type": "execute_result"
    }
   ],
   "source": [
    "# population SD\n",
    "from statistics import pstdev\n",
    "pstdev(dataset)"
   ]
  },
  {
   "cell_type": "code",
   "execution_count": null,
   "id": "9188b282",
   "metadata": {},
   "outputs": [],
   "source": [
    "# standard deviation"
   ]
  },
  {
   "cell_type": "code",
   "execution_count": 26,
   "id": "f0040af6",
   "metadata": {},
   "outputs": [],
   "source": [
    "# by default sample SD\n",
    "from statistics import stdev"
   ]
  },
  {
   "cell_type": "code",
   "execution_count": 27,
   "id": "d9fb1ff2",
   "metadata": {},
   "outputs": [
    {
     "data": {
      "text/plain": [
       "29.017236257093817"
      ]
     },
     "execution_count": 27,
     "metadata": {},
     "output_type": "execute_result"
    }
   ],
   "source": [
    "stdev(dataset)"
   ]
  },
  {
   "cell_type": "code",
   "execution_count": null,
   "id": "f4ce094f",
   "metadata": {},
   "outputs": [],
   "source": [
    "# range "
   ]
  },
  {
   "cell_type": "code",
   "execution_count": 28,
   "id": "cb8f2dd4",
   "metadata": {},
   "outputs": [
    {
     "data": {
      "text/plain": [
       "99"
      ]
     },
     "execution_count": 28,
     "metadata": {},
     "output_type": "execute_result"
    }
   ],
   "source": [
    "max(dataset)"
   ]
  },
  {
   "cell_type": "code",
   "execution_count": 29,
   "id": "be4ab6ba",
   "metadata": {},
   "outputs": [
    {
     "data": {
      "text/plain": [
       "0"
      ]
     },
     "execution_count": 29,
     "metadata": {},
     "output_type": "execute_result"
    }
   ],
   "source": [
    "min(dataset)"
   ]
  },
  {
   "cell_type": "code",
   "execution_count": null,
   "id": "741503c7",
   "metadata": {},
   "outputs": [],
   "source": [
    "# Quantile "
   ]
  },
  {
   "cell_type": "code",
   "execution_count": 30,
   "id": "85f1e133",
   "metadata": {},
   "outputs": [],
   "source": [
    "Q1=np.percentile(dataset,25)"
   ]
  },
  {
   "cell_type": "code",
   "execution_count": 31,
   "id": "e8f4b818",
   "metadata": {},
   "outputs": [
    {
     "data": {
      "text/plain": [
       "24.0"
      ]
     },
     "execution_count": 31,
     "metadata": {},
     "output_type": "execute_result"
    }
   ],
   "source": [
    "Q1"
   ]
  },
  {
   "cell_type": "code",
   "execution_count": 32,
   "id": "0e95c2e9",
   "metadata": {},
   "outputs": [
    {
     "data": {
      "text/plain": [
       "50.0"
      ]
     },
     "execution_count": 32,
     "metadata": {},
     "output_type": "execute_result"
    }
   ],
   "source": [
    "Q2=np.percentile(dataset,50)\n",
    "Q2"
   ]
  },
  {
   "cell_type": "code",
   "execution_count": 33,
   "id": "7c2c334d",
   "metadata": {},
   "outputs": [
    {
     "data": {
      "text/plain": [
       "74.0"
      ]
     },
     "execution_count": 33,
     "metadata": {},
     "output_type": "execute_result"
    }
   ],
   "source": [
    "Q3=np.percentile(dataset,75)\n",
    "Q3"
   ]
  },
  {
   "cell_type": "code",
   "execution_count": 34,
   "id": "96b82e23",
   "metadata": {},
   "outputs": [
    {
     "data": {
      "text/plain": [
       "55.0"
      ]
     },
     "execution_count": 34,
     "metadata": {},
     "output_type": "execute_result"
    }
   ],
   "source": [
    "Q2=np.percentile(dataset+5,50)\n",
    "Q2"
   ]
  },
  {
   "cell_type": "code",
   "execution_count": 35,
   "id": "fffc6a79",
   "metadata": {},
   "outputs": [
    {
     "data": {
      "text/plain": [
       "94.0"
      ]
     },
     "execution_count": 35,
     "metadata": {},
     "output_type": "execute_result"
    }
   ],
   "source": [
    "Q3=np.percentile(dataset+20,75)\n",
    "Q3"
   ]
  },
  {
   "cell_type": "code",
   "execution_count": 38,
   "id": "990b8697",
   "metadata": {},
   "outputs": [
    {
     "data": {
      "text/plain": [
       "70.0"
      ]
     },
     "execution_count": 38,
     "metadata": {},
     "output_type": "execute_result"
    }
   ],
   "source": [
    "IQR=Q3-Q1\n",
    "IQR"
   ]
  },
  {
   "cell_type": "code",
   "execution_count": 40,
   "id": "caee072a",
   "metadata": {},
   "outputs": [
    {
     "data": {
      "text/plain": [
       "-81.0"
      ]
     },
     "execution_count": 40,
     "metadata": {},
     "output_type": "execute_result"
    }
   ],
   "source": [
    "Min_neg_range=Q1-1.5*IQR\n",
    "Min_neg_range"
   ]
  },
  {
   "cell_type": "code",
   "execution_count": 41,
   "id": "22a9f9d5",
   "metadata": {},
   "outputs": [
    {
     "data": {
      "text/plain": [
       "199.0"
      ]
     },
     "execution_count": 41,
     "metadata": {},
     "output_type": "execute_result"
    }
   ],
   "source": [
    "MAX_POS_range=Q3+1.5*IQR\n",
    "MAX_POS_range"
   ]
  },
  {
   "cell_type": "code",
   "execution_count": null,
   "id": "562f7fac",
   "metadata": {},
   "outputs": [],
   "source": []
  }
 ],
 "metadata": {
  "kernelspec": {
   "display_name": "Python 3 (ipykernel)",
   "language": "python",
   "name": "python3"
  },
  "language_info": {
   "codemirror_mode": {
    "name": "ipython",
    "version": 3
   },
   "file_extension": ".py",
   "mimetype": "text/x-python",
   "name": "python",
   "nbconvert_exporter": "python",
   "pygments_lexer": "ipython3",
   "version": "3.9.7"
  }
 },
 "nbformat": 4,
 "nbformat_minor": 5
}
