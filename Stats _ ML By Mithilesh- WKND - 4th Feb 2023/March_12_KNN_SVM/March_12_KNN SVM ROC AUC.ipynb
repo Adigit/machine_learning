{
 "cells": [
  {
   "cell_type": "code",
   "execution_count": null,
   "id": "b42bd33d",
   "metadata": {},
   "outputs": [],
   "source": [
    "# SVM KNN EVALUATION BREAST CANCER DATASET"
   ]
  },
  {
   "cell_type": "code",
   "execution_count": 1,
   "id": "592e455c",
   "metadata": {},
   "outputs": [
    {
     "data": {
      "text/plain": [
       "'C:\\\\Users\\\\User\\\\Desktop\\\\Batch Weekend Feb_4th\\\\March_12_KNN_SVM'"
      ]
     },
     "execution_count": 1,
     "metadata": {},
     "output_type": "execute_result"
    }
   ],
   "source": [
    "import numpy as np\n",
    "import pandas as pd\n",
    "import matplotlib.pyplot as plt\n",
    "%matplotlib inline\n",
    "import seaborn as sns\n",
    "import os\n",
    "os.getcwd()"
   ]
  },
  {
   "cell_type": "code",
   "execution_count": 2,
   "id": "8a64699a",
   "metadata": {},
   "outputs": [],
   "source": [
    "import warnings\n",
    "warnings.filterwarnings(\"ignore\")"
   ]
  },
  {
   "cell_type": "code",
   "execution_count": 3,
   "id": "90fdb452",
   "metadata": {},
   "outputs": [
    {
     "data": {
      "text/html": [
       "<div>\n",
       "<style scoped>\n",
       "    .dataframe tbody tr th:only-of-type {\n",
       "        vertical-align: middle;\n",
       "    }\n",
       "\n",
       "    .dataframe tbody tr th {\n",
       "        vertical-align: top;\n",
       "    }\n",
       "\n",
       "    .dataframe thead th {\n",
       "        text-align: right;\n",
       "    }\n",
       "</style>\n",
       "<table border=\"1\" class=\"dataframe\">\n",
       "  <thead>\n",
       "    <tr style=\"text-align: right;\">\n",
       "      <th></th>\n",
       "      <th>Id</th>\n",
       "      <th>Cl.thickness</th>\n",
       "      <th>Cell.size</th>\n",
       "      <th>Cell.shape</th>\n",
       "      <th>Marg.adhesion</th>\n",
       "      <th>Epith.c.size</th>\n",
       "      <th>Bare.nuclei</th>\n",
       "      <th>Bl.cromatin</th>\n",
       "      <th>Normal.nucleoli</th>\n",
       "      <th>Mitoses</th>\n",
       "      <th>Class</th>\n",
       "    </tr>\n",
       "  </thead>\n",
       "  <tbody>\n",
       "    <tr>\n",
       "      <th>0</th>\n",
       "      <td>1000025</td>\n",
       "      <td>5</td>\n",
       "      <td>1</td>\n",
       "      <td>1</td>\n",
       "      <td>1</td>\n",
       "      <td>2</td>\n",
       "      <td>1.0</td>\n",
       "      <td>3</td>\n",
       "      <td>1</td>\n",
       "      <td>1</td>\n",
       "      <td>0</td>\n",
       "    </tr>\n",
       "    <tr>\n",
       "      <th>1</th>\n",
       "      <td>1002945</td>\n",
       "      <td>5</td>\n",
       "      <td>4</td>\n",
       "      <td>4</td>\n",
       "      <td>5</td>\n",
       "      <td>7</td>\n",
       "      <td>10.0</td>\n",
       "      <td>3</td>\n",
       "      <td>2</td>\n",
       "      <td>1</td>\n",
       "      <td>0</td>\n",
       "    </tr>\n",
       "    <tr>\n",
       "      <th>2</th>\n",
       "      <td>1015425</td>\n",
       "      <td>3</td>\n",
       "      <td>1</td>\n",
       "      <td>1</td>\n",
       "      <td>1</td>\n",
       "      <td>2</td>\n",
       "      <td>2.0</td>\n",
       "      <td>3</td>\n",
       "      <td>1</td>\n",
       "      <td>1</td>\n",
       "      <td>0</td>\n",
       "    </tr>\n",
       "    <tr>\n",
       "      <th>3</th>\n",
       "      <td>1016277</td>\n",
       "      <td>6</td>\n",
       "      <td>8</td>\n",
       "      <td>8</td>\n",
       "      <td>1</td>\n",
       "      <td>3</td>\n",
       "      <td>4.0</td>\n",
       "      <td>3</td>\n",
       "      <td>7</td>\n",
       "      <td>1</td>\n",
       "      <td>0</td>\n",
       "    </tr>\n",
       "    <tr>\n",
       "      <th>4</th>\n",
       "      <td>1017023</td>\n",
       "      <td>4</td>\n",
       "      <td>1</td>\n",
       "      <td>1</td>\n",
       "      <td>3</td>\n",
       "      <td>2</td>\n",
       "      <td>1.0</td>\n",
       "      <td>3</td>\n",
       "      <td>1</td>\n",
       "      <td>1</td>\n",
       "      <td>0</td>\n",
       "    </tr>\n",
       "  </tbody>\n",
       "</table>\n",
       "</div>"
      ],
      "text/plain": [
       "        Id  Cl.thickness  Cell.size  Cell.shape  Marg.adhesion  Epith.c.size  \\\n",
       "0  1000025             5          1           1              1             2   \n",
       "1  1002945             5          4           4              5             7   \n",
       "2  1015425             3          1           1              1             2   \n",
       "3  1016277             6          8           8              1             3   \n",
       "4  1017023             4          1           1              3             2   \n",
       "\n",
       "   Bare.nuclei  Bl.cromatin  Normal.nucleoli  Mitoses  Class  \n",
       "0          1.0            3                1        1      0  \n",
       "1         10.0            3                2        1      0  \n",
       "2          2.0            3                1        1      0  \n",
       "3          4.0            3                7        1      0  \n",
       "4          1.0            3                1        1      0  "
      ]
     },
     "execution_count": 3,
     "metadata": {},
     "output_type": "execute_result"
    }
   ],
   "source": [
    "df=pd.read_csv(\"BreastCancer.csv\")\n",
    "df.head()"
   ]
  },
  {
   "cell_type": "code",
   "execution_count": 4,
   "id": "9bb5261b",
   "metadata": {},
   "outputs": [
    {
     "name": "stdout",
     "output_type": "stream",
     "text": [
      "<class 'pandas.core.frame.DataFrame'>\n",
      "RangeIndex: 699 entries, 0 to 698\n",
      "Data columns (total 11 columns):\n",
      " #   Column           Non-Null Count  Dtype  \n",
      "---  ------           --------------  -----  \n",
      " 0   Id               699 non-null    int64  \n",
      " 1   Cl.thickness     699 non-null    int64  \n",
      " 2   Cell.size        699 non-null    int64  \n",
      " 3   Cell.shape       699 non-null    int64  \n",
      " 4   Marg.adhesion    699 non-null    int64  \n",
      " 5   Epith.c.size     699 non-null    int64  \n",
      " 6   Bare.nuclei      683 non-null    float64\n",
      " 7   Bl.cromatin      699 non-null    int64  \n",
      " 8   Normal.nucleoli  699 non-null    int64  \n",
      " 9   Mitoses          699 non-null    int64  \n",
      " 10  Class            699 non-null    int64  \n",
      "dtypes: float64(1), int64(10)\n",
      "memory usage: 60.2 KB\n"
     ]
    }
   ],
   "source": [
    "df.info()"
   ]
  },
  {
   "cell_type": "code",
   "execution_count": 5,
   "id": "e117939e",
   "metadata": {},
   "outputs": [
    {
     "data": {
      "text/plain": [
       "0    458\n",
       "1    241\n",
       "Name: Class, dtype: int64"
      ]
     },
     "execution_count": 5,
     "metadata": {},
     "output_type": "execute_result"
    }
   ],
   "source": [
    "df[\"Class\"].value_counts()"
   ]
  },
  {
   "cell_type": "code",
   "execution_count": null,
   "id": "88e84938",
   "metadata": {},
   "outputs": [],
   "source": [
    "# there are two classes of tumor 1- Malignant and 0- benign"
   ]
  },
  {
   "cell_type": "code",
   "execution_count": 6,
   "id": "50162968",
   "metadata": {},
   "outputs": [
    {
     "data": {
      "text/plain": [
       "0    0.655222\n",
       "1    0.344778\n",
       "Name: Class, dtype: float64"
      ]
     },
     "execution_count": 6,
     "metadata": {},
     "output_type": "execute_result"
    }
   ],
   "source": [
    "df[\"Class\"].value_counts(normalize=True)"
   ]
  },
  {
   "cell_type": "code",
   "execution_count": 7,
   "id": "1dff1a08",
   "metadata": {},
   "outputs": [],
   "source": [
    "df.drop([\"Id\"],axis=1,inplace=True)"
   ]
  },
  {
   "cell_type": "code",
   "execution_count": 8,
   "id": "7ce2c6b3",
   "metadata": {},
   "outputs": [
    {
     "name": "stdout",
     "output_type": "stream",
     "text": [
      "<class 'pandas.core.frame.DataFrame'>\n",
      "RangeIndex: 699 entries, 0 to 698\n",
      "Data columns (total 10 columns):\n",
      " #   Column           Non-Null Count  Dtype  \n",
      "---  ------           --------------  -----  \n",
      " 0   Cl.thickness     699 non-null    int64  \n",
      " 1   Cell.size        699 non-null    int64  \n",
      " 2   Cell.shape       699 non-null    int64  \n",
      " 3   Marg.adhesion    699 non-null    int64  \n",
      " 4   Epith.c.size     699 non-null    int64  \n",
      " 5   Bare.nuclei      683 non-null    float64\n",
      " 6   Bl.cromatin      699 non-null    int64  \n",
      " 7   Normal.nucleoli  699 non-null    int64  \n",
      " 8   Mitoses          699 non-null    int64  \n",
      " 9   Class            699 non-null    int64  \n",
      "dtypes: float64(1), int64(9)\n",
      "memory usage: 54.7 KB\n"
     ]
    }
   ],
   "source": [
    "df.info()"
   ]
  },
  {
   "cell_type": "code",
   "execution_count": 9,
   "id": "fb617c50",
   "metadata": {},
   "outputs": [
    {
     "data": {
      "text/plain": [
       "Cl.thickness        0\n",
       "Cell.size           0\n",
       "Cell.shape          0\n",
       "Marg.adhesion       0\n",
       "Epith.c.size        0\n",
       "Bare.nuclei        16\n",
       "Bl.cromatin         0\n",
       "Normal.nucleoli     0\n",
       "Mitoses             0\n",
       "Class               0\n",
       "dtype: int64"
      ]
     },
     "execution_count": 9,
     "metadata": {},
     "output_type": "execute_result"
    }
   ],
   "source": [
    "df.isnull().sum()"
   ]
  },
  {
   "cell_type": "code",
   "execution_count": 10,
   "id": "56cce601",
   "metadata": {},
   "outputs": [
    {
     "data": {
      "text/plain": [
       "<AxesSubplot:xlabel='Bare.nuclei'>"
      ]
     },
     "execution_count": 10,
     "metadata": {},
     "output_type": "execute_result"
    },
    {
     "data": {
      "image/png": "[encoded data removed]",
      "text/plain": [
       "<Figure size 432x288 with 1 Axes>"
      ]
     },
     "metadata": {
      "needs_background": "light"
     },
     "output_type": "display_data"
    }
   ],
   "source": [
    "sns.boxplot(x=df[\"Bare.nuclei\"])"
   ]
  },
  {
   "cell_type": "code",
   "execution_count": 11,
   "id": "8e1f4012",
   "metadata": {},
   "outputs": [],
   "source": [
    "df[\"Bare.nuclei\"]=df[\"Bare.nuclei\"].fillna(df[\"Bare.nuclei\"].mean())"
   ]
  },
  {
   "cell_type": "code",
   "execution_count": 12,
   "id": "209e4bfc",
   "metadata": {},
   "outputs": [
    {
     "name": "stdout",
     "output_type": "stream",
     "text": [
      "<class 'pandas.core.frame.DataFrame'>\n",
      "RangeIndex: 699 entries, 0 to 698\n",
      "Data columns (total 10 columns):\n",
      " #   Column           Non-Null Count  Dtype  \n",
      "---  ------           --------------  -----  \n",
      " 0   Cl.thickness     699 non-null    int64  \n",
      " 1   Cell.size        699 non-null    int64  \n",
      " 2   Cell.shape       699 non-null    int64  \n",
      " 3   Marg.adhesion    699 non-null    int64  \n",
      " 4   Epith.c.size     699 non-null    int64  \n",
      " 5   Bare.nuclei      699 non-null    float64\n",
      " 6   Bl.cromatin      699 non-null    int64  \n",
      " 7   Normal.nucleoli  699 non-null    int64  \n",
      " 8   Mitoses          699 non-null    int64  \n",
      " 9   Class            699 non-null    int64  \n",
      "dtypes: float64(1), int64(9)\n",
      "memory usage: 54.7 KB\n"
     ]
    }
   ],
   "source": [
    "df.info()"
   ]
  },
  {
   "cell_type": "code",
   "execution_count": null,
   "id": "7df3bce4",
   "metadata": {},
   "outputs": [],
   "source": [
    "# corr matrix"
   ]
  },
  {
   "cell_type": "code",
   "execution_count": 13,
   "id": "90999a3d",
   "metadata": {},
   "outputs": [
    {
     "data": {
      "text/html": [
       "<div>\n",
       "<style scoped>\n",
       "    .dataframe tbody tr th:only-of-type {\n",
       "        vertical-align: middle;\n",
       "    }\n",
       "\n",
       "    .dataframe tbody tr th {\n",
       "        vertical-align: top;\n",
       "    }\n",
       "\n",
       "    .dataframe thead th {\n",
       "        text-align: right;\n",
       "    }\n",
       "</style>\n",
       "<table border=\"1\" class=\"dataframe\">\n",
       "  <thead>\n",
       "    <tr style=\"text-align: right;\">\n",
       "      <th></th>\n",
       "      <th>Cl.thickness</th>\n",
       "      <th>Cell.size</th>\n",
       "      <th>Cell.shape</th>\n",
       "      <th>Marg.adhesion</th>\n",
       "      <th>Epith.c.size</th>\n",
       "      <th>Bare.nuclei</th>\n",
       "      <th>Bl.cromatin</th>\n",
       "      <th>Normal.nucleoli</th>\n",
       "      <th>Mitoses</th>\n",
       "      <th>Class</th>\n",
       "    </tr>\n",
       "  </thead>\n",
       "  <tbody>\n",
       "    <tr>\n",
       "      <th>Cl.thickness</th>\n",
       "      <td>1.000000</td>\n",
       "      <td>0.666463</td>\n",
       "      <td>0.664121</td>\n",
       "      <td>0.541593</td>\n",
       "      <td>0.583979</td>\n",
       "      <td>0.575350</td>\n",
       "      <td>0.538093</td>\n",
       "      <td>0.570398</td>\n",
       "      <td>0.418717</td>\n",
       "      <td>0.682452</td>\n",
       "    </tr>\n",
       "    <tr>\n",
       "      <th>Cell.size</th>\n",
       "      <td>0.666463</td>\n",
       "      <td>1.000000</td>\n",
       "      <td>0.891904</td>\n",
       "      <td>0.742517</td>\n",
       "      <td>0.787159</td>\n",
       "      <td>0.754716</td>\n",
       "      <td>0.719330</td>\n",
       "      <td>0.757199</td>\n",
       "      <td>0.508780</td>\n",
       "      <td>0.855487</td>\n",
       "    </tr>\n",
       "    <tr>\n",
       "      <th>Cell.shape</th>\n",
       "      <td>0.664121</td>\n",
       "      <td>0.891904</td>\n",
       "      <td>1.000000</td>\n",
       "      <td>0.711730</td>\n",
       "      <td>0.759234</td>\n",
       "      <td>0.744729</td>\n",
       "      <td>0.692316</td>\n",
       "      <td>0.725268</td>\n",
       "      <td>0.472749</td>\n",
       "      <td>0.836394</td>\n",
       "    </tr>\n",
       "    <tr>\n",
       "      <th>Marg.adhesion</th>\n",
       "      <td>0.541593</td>\n",
       "      <td>0.742517</td>\n",
       "      <td>0.711730</td>\n",
       "      <td>1.000000</td>\n",
       "      <td>0.667809</td>\n",
       "      <td>0.678587</td>\n",
       "      <td>0.624515</td>\n",
       "      <td>0.634310</td>\n",
       "      <td>0.446992</td>\n",
       "      <td>0.727995</td>\n",
       "    </tr>\n",
       "    <tr>\n",
       "      <th>Epith.c.size</th>\n",
       "      <td>0.583979</td>\n",
       "      <td>0.787159</td>\n",
       "      <td>0.759234</td>\n",
       "      <td>0.667809</td>\n",
       "      <td>1.000000</td>\n",
       "      <td>0.675704</td>\n",
       "      <td>0.639507</td>\n",
       "      <td>0.705997</td>\n",
       "      <td>0.480255</td>\n",
       "      <td>0.762731</td>\n",
       "    </tr>\n",
       "    <tr>\n",
       "      <th>Bare.nuclei</th>\n",
       "      <td>0.575350</td>\n",
       "      <td>0.754716</td>\n",
       "      <td>0.744729</td>\n",
       "      <td>0.678587</td>\n",
       "      <td>0.675704</td>\n",
       "      <td>1.000000</td>\n",
       "      <td>0.669415</td>\n",
       "      <td>0.648848</td>\n",
       "      <td>0.464049</td>\n",
       "      <td>0.818962</td>\n",
       "    </tr>\n",
       "    <tr>\n",
       "      <th>Bl.cromatin</th>\n",
       "      <td>0.538093</td>\n",
       "      <td>0.719330</td>\n",
       "      <td>0.692316</td>\n",
       "      <td>0.624515</td>\n",
       "      <td>0.639507</td>\n",
       "      <td>0.669415</td>\n",
       "      <td>1.000000</td>\n",
       "      <td>0.662309</td>\n",
       "      <td>0.386944</td>\n",
       "      <td>0.740350</td>\n",
       "    </tr>\n",
       "    <tr>\n",
       "      <th>Normal.nucleoli</th>\n",
       "      <td>0.570398</td>\n",
       "      <td>0.757199</td>\n",
       "      <td>0.725268</td>\n",
       "      <td>0.634310</td>\n",
       "      <td>0.705997</td>\n",
       "      <td>0.648848</td>\n",
       "      <td>0.662309</td>\n",
       "      <td>1.000000</td>\n",
       "      <td>0.504140</td>\n",
       "      <td>0.743823</td>\n",
       "    </tr>\n",
       "    <tr>\n",
       "      <th>Mitoses</th>\n",
       "      <td>0.418717</td>\n",
       "      <td>0.508780</td>\n",
       "      <td>0.472749</td>\n",
       "      <td>0.446992</td>\n",
       "      <td>0.480255</td>\n",
       "      <td>0.464049</td>\n",
       "      <td>0.386944</td>\n",
       "      <td>0.504140</td>\n",
       "      <td>1.000000</td>\n",
       "      <td>0.526766</td>\n",
       "    </tr>\n",
       "    <tr>\n",
       "      <th>Class</th>\n",
       "      <td>0.682452</td>\n",
       "      <td>0.855487</td>\n",
       "      <td>0.836394</td>\n",
       "      <td>0.727995</td>\n",
       "      <td>0.762731</td>\n",
       "      <td>0.818962</td>\n",
       "      <td>0.740350</td>\n",
       "      <td>0.743823</td>\n",
       "      <td>0.526766</td>\n",
       "      <td>1.000000</td>\n",
       "    </tr>\n",
       "  </tbody>\n",
       "</table>\n",
       "</div>"
      ],
      "text/plain": [
       "                 Cl.thickness  Cell.size  Cell.shape  Marg.adhesion  \\\n",
       "Cl.thickness         1.000000   0.666463    0.664121       0.541593   \n",
       "Cell.size            0.666463   1.000000    0.891904       0.742517   \n",
       "Cell.shape           0.664121   0.891904    1.000000       0.711730   \n",
       "Marg.adhesion        0.541593   0.742517    0.711730       1.000000   \n",
       "Epith.c.size         0.583979   0.787159    0.759234       0.667809   \n",
       "Bare.nuclei          0.575350   0.754716    0.744729       0.678587   \n",
       "Bl.cromatin          0.538093   0.719330    0.692316       0.624515   \n",
       "Normal.nucleoli      0.570398   0.757199    0.725268       0.634310   \n",
       "Mitoses              0.418717   0.508780    0.472749       0.446992   \n",
       "Class                0.682452   0.855487    0.836394       0.727995   \n",
       "\n",
       "                 Epith.c.size  Bare.nuclei  Bl.cromatin  Normal.nucleoli  \\\n",
       "Cl.thickness         0.583979     0.575350     0.538093         0.570398   \n",
       "Cell.size            0.787159     0.754716     0.719330         0.757199   \n",
       "Cell.shape           0.759234     0.744729     0.692316         0.725268   \n",
       "Marg.adhesion        0.667809     0.678587     0.624515         0.634310   \n",
       "Epith.c.size         1.000000     0.675704     0.639507         0.705997   \n",
       "Bare.nuclei          0.675704     1.000000     0.669415         0.648848   \n",
       "Bl.cromatin          0.639507     0.669415     1.000000         0.662309   \n",
       "Normal.nucleoli      0.705997     0.648848     0.662309         1.000000   \n",
       "Mitoses              0.480255     0.464049     0.386944         0.504140   \n",
       "Class                0.762731     0.818962     0.740350         0.743823   \n",
       "\n",
       "                  Mitoses     Class  \n",
       "Cl.thickness     0.418717  0.682452  \n",
       "Cell.size        0.508780  0.855487  \n",
       "Cell.shape       0.472749  0.836394  \n",
       "Marg.adhesion    0.446992  0.727995  \n",
       "Epith.c.size     0.480255  0.762731  \n",
       "Bare.nuclei      0.464049  0.818962  \n",
       "Bl.cromatin      0.386944  0.740350  \n",
       "Normal.nucleoli  0.504140  0.743823  \n",
       "Mitoses          1.000000  0.526766  \n",
       "Class            0.526766  1.000000  "
      ]
     },
     "execution_count": 13,
     "metadata": {},
     "output_type": "execute_result"
    }
   ],
   "source": [
    "corr=df.corr(method=\"spearman\")\n",
    "corr"
   ]
  },
  {
   "cell_type": "code",
   "execution_count": 14,
   "id": "45a063f7",
   "metadata": {},
   "outputs": [
    {
     "data": {
      "text/plain": [
       "<AxesSubplot:>"
      ]
     },
     "execution_count": 14,
     "metadata": {},
     "output_type": "execute_result"
    },
    {
     "data": {
      "image/png": "[encoded data removed]",
      "text/plain": [
       "<Figure size 1008x1008 with 2 Axes>"
      ]
     },
     "metadata": {
      "needs_background": "light"
     },
     "output_type": "display_data"
    }
   ],
   "source": [
    "plt.figure(figsize=(14,14))\n",
    "sns.heatmap(corr,annot=True)"
   ]
  },
  {
   "cell_type": "code",
   "execution_count": null,
   "id": "db2ee657",
   "metadata": {},
   "outputs": [],
   "source": [
    "# here there is NO multi collinearity"
   ]
  },
  {
   "cell_type": "code",
   "execution_count": 15,
   "id": "b59b2c80",
   "metadata": {},
   "outputs": [],
   "source": [
    "# split into dependent and independent variable\n",
    "X=df.drop(\"Class\",axis=1)\n",
    "Y=df[\"Class\"]"
   ]
  },
  {
   "cell_type": "code",
   "execution_count": 17,
   "id": "a74fbbb5",
   "metadata": {},
   "outputs": [],
   "source": [
    "# split the data in training and testing\n",
    "from sklearn.model_selection import train_test_split\n",
    "X_train,X_test,Y_train,Y_test=train_test_split(X,Y,test_size=0.2,random_state=100,stratify=Y)"
   ]
  },
  {
   "cell_type": "code",
   "execution_count": 19,
   "id": "b796a33e",
   "metadata": {},
   "outputs": [],
   "source": [
    "# logistic regression\n",
    "from sklearn.linear_model import LogisticRegression\n",
    "lr=LogisticRegression(class_weight='balanced')"
   ]
  },
  {
   "cell_type": "code",
   "execution_count": 20,
   "id": "7c61e236",
   "metadata": {},
   "outputs": [
    {
     "data": {
      "text/html": [
       "<style>#sk-container-id-1 {color: black;background-color: white;}#sk-container-id-1 pre{padding: 0;}#sk-container-id-1 div.sk-toggleable {background-color: white;}#sk-container-id-1 label.sk-toggleable__label {cursor: pointer;display: block;width: 100%;margin-bottom: 0;padding: 0.3em;box-sizing: border-box;text-align: center;}#sk-container-id-1 label.sk-toggleable__label-arrow:before {content: \"▸\";float: left;margin-right: 0.25em;color: #696969;}#sk-container-id-1 label.sk-toggleable__label-arrow:hover:before {color: black;}#sk-container-id-1 div.sk-estimator:hover label.sk-toggleable__label-arrow:before {color: black;}#sk-container-id-1 div.sk-toggleable__content {max-height: 0;max-width: 0;overflow: hidden;text-align: left;background-color: #f0f8ff;}#sk-container-id-1 div.sk-toggleable__content pre {margin: 0.2em;color: black;border-radius: 0.25em;background-color: #f0f8ff;}#sk-container-id-1 input.sk-toggleable__control:checked~div.sk-toggleable__content {max-height: 200px;max-width: 100%;overflow: auto;}#sk-container-id-1 input.sk-toggleable__control:checked~label.sk-toggleable__label-arrow:before {content: \"▾\";}#sk-container-id-1 div.sk-estimator input.sk-toggleable__control:checked~label.sk-toggleable__label {background-color: #d4ebff;}#sk-container-id-1 div.sk-label input.sk-toggleable__control:checked~label.sk-toggleable__label {background-color: #d4ebff;}#sk-container-id-1 input.sk-hidden--visually {border: 0;clip: rect(1px 1px 1px 1px);clip: rect(1px, 1px, 1px, 1px);height: 1px;margin: -1px;overflow: hidden;padding: 0;position: absolute;width: 1px;}#sk-container-id-1 div.sk-estimator {font-family: monospace;background-color: #f0f8ff;border: 1px dotted black;border-radius: 0.25em;box-sizing: border-box;margin-bottom: 0.5em;}#sk-container-id-1 div.sk-estimator:hover {background-color: #d4ebff;}#sk-container-id-1 div.sk-parallel-item::after {content: \"\";width: 100%;border-bottom: 1px solid gray;flex-grow: 1;}#sk-container-id-1 div.sk-label:hover label.sk-toggleable__label {background-color: #d4ebff;}#sk-container-id-1 div.sk-serial::before {content: \"\";position: absolute;border-left: 1px solid gray;box-sizing: border-box;top: 0;bottom: 0;left: 50%;z-index: 0;}#sk-container-id-1 div.sk-serial {display: flex;flex-direction: column;align-items: center;background-color: white;padding-right: 0.2em;padding-left: 0.2em;position: relative;}#sk-container-id-1 div.sk-item {position: relative;z-index: 1;}#sk-container-id-1 div.sk-parallel {display: flex;align-items: stretch;justify-content: center;background-color: white;position: relative;}#sk-container-id-1 div.sk-item::before, #sk-container-id-1 div.sk-parallel-item::before {content: \"\";position: absolute;border-left: 1px solid gray;box-sizing: border-box;top: 0;bottom: 0;left: 50%;z-index: -1;}#sk-container-id-1 div.sk-parallel-item {display: flex;flex-direction: column;z-index: 1;position: relative;background-color: white;}#sk-container-id-1 div.sk-parallel-item:first-child::after {align-self: flex-end;width: 50%;}#sk-container-id-1 div.sk-parallel-item:last-child::after {align-self: flex-start;width: 50%;}#sk-container-id-1 div.sk-parallel-item:only-child::after {width: 0;}#sk-container-id-1 div.sk-dashed-wrapped {border: 1px dashed gray;margin: 0 0.4em 0.5em 0.4em;box-sizing: border-box;padding-bottom: 0.4em;background-color: white;}#sk-container-id-1 div.sk-label label {font-family: monospace;font-weight: bold;display: inline-block;line-height: 1.2em;}#sk-container-id-1 div.sk-label-container {text-align: center;}#sk-container-id-1 div.sk-container {/* jupyter's `normalize.less` sets `[hidden] { display: none; }` but bootstrap.min.css set `[hidden] { display: none !important; }` so we also need the `!important` here to be able to override the default hidden behavior on the sphinx rendered scikit-learn.org. See: https://github.com/scikit-learn/scikit-learn/issues/21755 */display: inline-block !important;position: relative;}#sk-container-id-1 div.sk-text-repr-fallback {display: none;}</style><div id=\"sk-container-id-1\" class=\"sk-top-container\"><div class=\"sk-text-repr-fallback\"><pre>LogisticRegression(class_weight=&#x27;balanced&#x27;)</pre><b>In a Jupyter environment, please rerun this cell to show the HTML representation or trust the notebook. <br />On GitHub, the HTML representation is unable to render, please try loading this page with nbviewer.org.</b></div><div class=\"sk-container\" hidden><div class=\"sk-item\"><div class=\"sk-estimator sk-toggleable\"><input class=\"sk-toggleable__control sk-hidden--visually\" id=\"sk-estimator-id-1\" type=\"checkbox\" checked><label for=\"sk-estimator-id-1\" class=\"sk-toggleable__label sk-toggleable__label-arrow\">LogisticRegression</label><div class=\"sk-toggleable__content\"><pre>LogisticRegression(class_weight=&#x27;balanced&#x27;)</pre></div></div></div></div></div>"
      ],
      "text/plain": [
       "LogisticRegression(class_weight='balanced')"
      ]
     },
     "execution_count": 20,
     "metadata": {},
     "output_type": "execute_result"
    }
   ],
   "source": [
    "lr.fit(X_train,Y_train)\n"
   ]
  },
  {
   "cell_type": "code",
   "execution_count": 21,
   "id": "7a756df8",
   "metadata": {},
   "outputs": [],
   "source": [
    "Y_pred_training=lr.predict(X_train)"
   ]
  },
  {
   "cell_type": "code",
   "execution_count": 22,
   "id": "3fc79a6c",
   "metadata": {},
   "outputs": [],
   "source": [
    "Y_pred_test=lr.predict(X_test)"
   ]
  },
  {
   "cell_type": "code",
   "execution_count": 24,
   "id": "761def31",
   "metadata": {},
   "outputs": [],
   "source": [
    "from sklearn.metrics import accuracy_score,confusion_matrix,classification_report,roc_auc_score"
   ]
  },
  {
   "cell_type": "code",
   "execution_count": 25,
   "id": "379338c5",
   "metadata": {},
   "outputs": [
    {
     "name": "stdout",
     "output_type": "stream",
     "text": [
      "training performance \n",
      " 0.9749552772808586\n"
     ]
    }
   ],
   "source": [
    "print(\"training performance \\n\",accuracy_score(Y_train,Y_pred_training))"
   ]
  },
  {
   "cell_type": "code",
   "execution_count": 26,
   "id": "df409166",
   "metadata": {},
   "outputs": [
    {
     "name": "stdout",
     "output_type": "stream",
     "text": [
      "testing performance \n",
      " 0.9642857142857143\n"
     ]
    }
   ],
   "source": [
    "print(\"testing performance \\n\",accuracy_score(Y_test,Y_pred_test))"
   ]
  },
  {
   "cell_type": "markdown",
   "id": "d2e8a436",
   "metadata": {},
   "source": [
    "# ROC AUC CURVE"
   ]
  },
  {
   "cell_type": "code",
   "execution_count": 86,
   "id": "2051e38a",
   "metadata": {},
   "outputs": [],
   "source": [
    "probability_score=lr.predict_proba(X_test)"
   ]
  },
  {
   "cell_type": "code",
   "execution_count": 87,
   "id": "d3221938",
   "metadata": {},
   "outputs": [
    {
     "data": {
      "text/plain": [
       "array([[9.94949289e-01, 5.05071128e-03],\n",
       "       [9.90768645e-01, 9.23135504e-03],\n",
       "       [9.61469596e-01, 3.85304038e-02],\n",
       "       [4.61910180e-06, 9.99995381e-01],\n",
       "       [9.92020766e-01, 7.97923407e-03],\n",
       "       [9.96903361e-01, 3.09663887e-03],\n",
       "       [7.53760722e-02, 9.24623928e-01],\n",
       "       [9.93429385e-01, 6.57061540e-03],\n",
       "       [5.89594716e-03, 9.94104053e-01],\n",
       "       [5.79456717e-04, 9.99420543e-01],\n",
       "       [4.79106485e-01, 5.20893515e-01],\n",
       "       [9.61183776e-01, 3.88162244e-02],\n",
       "       [8.80669584e-02, 9.11933042e-01],\n",
       "       [9.96489389e-01, 3.51061073e-03],\n",
       "       [9.97121268e-01, 2.87873222e-03],\n",
       "       [9.68700183e-01, 3.12998167e-02],\n",
       "       [3.13721721e-04, 9.99686278e-01],\n",
       "       [9.71783041e-01, 2.82169592e-02],\n",
       "       [8.59044661e-01, 1.40955339e-01],\n",
       "       [9.68700183e-01, 3.12998167e-02],\n",
       "       [7.38959499e-05, 9.99926104e-01],\n",
       "       [9.91516656e-01, 8.48334375e-03],\n",
       "       [9.87131681e-01, 1.28683191e-02],\n",
       "       [9.95857219e-01, 4.14278090e-03],\n",
       "       [9.82808213e-01, 1.71917872e-02],\n",
       "       [9.97505399e-01, 2.49460103e-03],\n",
       "       [9.95949443e-01, 4.05055690e-03],\n",
       "       [9.97121268e-01, 2.87873222e-03],\n",
       "       [9.83978989e-01, 1.60210113e-02],\n",
       "       [9.61227182e-01, 3.87728176e-02],\n",
       "       [9.94303337e-01, 5.69666257e-03],\n",
       "       [1.52896195e-01, 8.47103805e-01],\n",
       "       [1.37256834e-03, 9.98627432e-01],\n",
       "       [9.85073654e-01, 1.49263460e-02],\n",
       "       [4.45754947e-03, 9.95542451e-01],\n",
       "       [9.83780684e-01, 1.62193162e-02],\n",
       "       [3.31571158e-02, 9.66842884e-01],\n",
       "       [7.02965400e-03, 9.92970346e-01],\n",
       "       [9.82808213e-01, 1.71917872e-02],\n",
       "       [9.98227887e-01, 1.77211290e-03],\n",
       "       [2.97645225e-04, 9.99702355e-01],\n",
       "       [9.61469596e-01, 3.85304038e-02],\n",
       "       [9.97121268e-01, 2.87873222e-03],\n",
       "       [9.92422376e-01, 7.57762380e-03],\n",
       "       [9.84920384e-01, 1.50796159e-02],\n",
       "       [6.14589356e-03, 9.93854106e-01],\n",
       "       [9.97505399e-01, 2.49460103e-03],\n",
       "       [9.94303337e-01, 5.69666257e-03],\n",
       "       [9.71001056e-01, 2.89989444e-02],\n",
       "       [9.32382805e-06, 9.99990676e-01],\n",
       "       [9.97505399e-01, 2.49460103e-03],\n",
       "       [7.76833244e-04, 9.99223167e-01],\n",
       "       [9.61469596e-01, 3.85304038e-02],\n",
       "       [9.71001056e-01, 2.89989444e-02],\n",
       "       [8.88360158e-01, 1.11639842e-01],\n",
       "       [9.76110623e-01, 2.38893767e-02],\n",
       "       [7.83409416e-03, 9.92165906e-01],\n",
       "       [6.22452081e-03, 9.93775479e-01],\n",
       "       [2.48181722e-02, 9.75181828e-01],\n",
       "       [9.81842564e-01, 1.81574359e-02],\n",
       "       [9.98227887e-01, 1.77211290e-03],\n",
       "       [2.08636771e-05, 9.99979136e-01],\n",
       "       [1.08683662e-02, 9.89131634e-01],\n",
       "       [9.39949123e-01, 6.00508769e-02],\n",
       "       [1.88406599e-04, 9.99811593e-01],\n",
       "       [9.89373302e-01, 1.06266982e-02],\n",
       "       [9.98429532e-01, 1.57046805e-03],\n",
       "       [8.71691547e-04, 9.99128308e-01],\n",
       "       [4.48155999e-04, 9.99551844e-01],\n",
       "       [6.59692795e-01, 3.40307205e-01],\n",
       "       [5.21272535e-04, 9.99478727e-01],\n",
       "       [9.98227887e-01, 1.77211290e-03],\n",
       "       [9.54638652e-01, 4.53613481e-02],\n",
       "       [9.86092334e-01, 1.39076656e-02],\n",
       "       [5.36889817e-02, 9.46311018e-01],\n",
       "       [1.13186313e-04, 9.99886814e-01],\n",
       "       [5.45824061e-04, 9.99454176e-01],\n",
       "       [9.94071288e-01, 5.92871221e-03],\n",
       "       [6.11887789e-05, 9.99938811e-01],\n",
       "       [9.96731563e-01, 3.26843658e-03],\n",
       "       [9.97505399e-01, 2.49460103e-03],\n",
       "       [9.94173854e-01, 5.82614623e-03],\n",
       "       [9.93429385e-01, 6.57061540e-03],\n",
       "       [2.86939822e-03, 9.97130602e-01],\n",
       "       [9.93429385e-01, 6.57061540e-03],\n",
       "       [7.64662130e-04, 9.99235338e-01],\n",
       "       [2.49868951e-05, 9.99975013e-01],\n",
       "       [9.96489389e-01, 3.51061073e-03],\n",
       "       [9.96489389e-01, 3.51061073e-03],\n",
       "       [9.89117567e-01, 1.08824331e-02],\n",
       "       [9.98227887e-01, 1.77211290e-03],\n",
       "       [9.31713565e-01, 6.82864353e-02],\n",
       "       [9.87930326e-01, 1.20696736e-02],\n",
       "       [9.97789072e-01, 2.21092792e-03],\n",
       "       [9.59354943e-01, 4.06450571e-02],\n",
       "       [6.15325288e-03, 9.93846747e-01],\n",
       "       [2.58965801e-05, 9.99974103e-01],\n",
       "       [1.17284407e-04, 9.99882716e-01],\n",
       "       [6.28016062e-01, 3.71983938e-01],\n",
       "       [1.60641949e-03, 9.98393581e-01],\n",
       "       [8.37866573e-03, 9.91621334e-01],\n",
       "       [3.61766719e-05, 9.99963823e-01],\n",
       "       [9.79097131e-01, 2.09028685e-02],\n",
       "       [6.09441807e-04, 9.99390558e-01],\n",
       "       [9.95805314e-01, 4.19468617e-03],\n",
       "       [9.93451671e-01, 6.54832881e-03],\n",
       "       [9.98429532e-01, 1.57046805e-03],\n",
       "       [9.85178899e-01, 1.48211008e-02],\n",
       "       [9.95348033e-01, 4.65196742e-03],\n",
       "       [9.61522660e-01, 3.84773401e-02],\n",
       "       [9.47096819e-01, 5.29031805e-02],\n",
       "       [9.98227887e-01, 1.77211290e-03],\n",
       "       [5.82567547e-01, 4.17432453e-01],\n",
       "       [2.44019703e-03, 9.97559803e-01],\n",
       "       [2.89127962e-01, 7.10872038e-01],\n",
       "       [9.92422376e-01, 7.57762380e-03],\n",
       "       [9.81690776e-01, 1.83092239e-02],\n",
       "       [9.97505399e-01, 2.49460103e-03],\n",
       "       [9.89171802e-01, 1.08281976e-02],\n",
       "       [9.87734973e-01, 1.22650275e-02],\n",
       "       [8.51544331e-05, 9.99914846e-01],\n",
       "       [9.33630534e-01, 6.63694659e-02],\n",
       "       [1.21570751e-06, 9.99998784e-01],\n",
       "       [9.72531922e-01, 2.74680780e-02],\n",
       "       [8.59188058e-02, 9.14081194e-01],\n",
       "       [1.21623883e-04, 9.99878376e-01],\n",
       "       [4.79286353e-06, 9.99995207e-01],\n",
       "       [9.89358222e-01, 1.06417785e-02],\n",
       "       [9.93429385e-01, 6.57061540e-03],\n",
       "       [9.75950600e-01, 2.40493996e-02],\n",
       "       [9.90830996e-01, 9.16900398e-03],\n",
       "       [9.75950600e-01, 2.40493996e-02],\n",
       "       [9.82422067e-01, 1.75779329e-02],\n",
       "       [5.54844981e-05, 9.99944516e-01],\n",
       "       [9.04497070e-01, 9.55029302e-02],\n",
       "       [2.13245935e-06, 9.99997868e-01],\n",
       "       [9.80482656e-01, 1.95173443e-02],\n",
       "       [9.95326840e-01, 4.67315953e-03],\n",
       "       [9.92590496e-01, 7.40950439e-03],\n",
       "       [9.86862507e-01, 1.31374927e-02]])"
      ]
     },
     "execution_count": 87,
     "metadata": {},
     "output_type": "execute_result"
    }
   ],
   "source": [
    "probability_score"
   ]
  },
  {
   "cell_type": "code",
   "execution_count": 88,
   "id": "63d2e4ee",
   "metadata": {},
   "outputs": [
    {
     "data": {
      "text/plain": [
       "140"
      ]
     },
     "execution_count": 88,
     "metadata": {},
     "output_type": "execute_result"
    }
   ],
   "source": [
    "len(probability_score)"
   ]
  },
  {
   "cell_type": "code",
   "execution_count": 91,
   "id": "f85d1b00",
   "metadata": {},
   "outputs": [
    {
     "data": {
      "text/plain": [
       "(140, 9)"
      ]
     },
     "execution_count": 91,
     "metadata": {},
     "output_type": "execute_result"
    }
   ],
   "source": [
    "X_test.shape"
   ]
  },
  {
   "cell_type": "code",
   "execution_count": null,
   "id": "8b31a177",
   "metadata": {},
   "outputs": [],
   "source": [
    "# information of first patient 9.94949289e-01, 5.05071128e-03"
   ]
  },
  {
   "cell_type": "code",
   "execution_count": null,
   "id": "ac66145d",
   "metadata": {},
   "outputs": [],
   "source": [
    "#predict_proba return the shape(N,k)- N no. of obsewrvation , k is the class here (0,1)"
   ]
  },
  {
   "cell_type": "code",
   "execution_count": null,
   "id": "154366bf",
   "metadata": {},
   "outputs": [],
   "source": [
    "#the first patient 0.99% chance being benign and 0.0050 chance being malignant "
   ]
  },
  {
   "cell_type": "code",
   "execution_count": 93,
   "id": "70bc8b92",
   "metadata": {},
   "outputs": [],
   "source": [
    "pos_probabibility_score=lr.predict_proba(X_test)[:,1]"
   ]
  },
  {
   "cell_type": "code",
   "execution_count": 94,
   "id": "53750f50",
   "metadata": {},
   "outputs": [
    {
     "data": {
      "text/plain": [
       "array([0.00505071, 0.00923136, 0.0385304 , 0.99999538, 0.00797923,\n",
       "       0.00309664, 0.92462393, 0.00657062, 0.99410405, 0.99942054,\n",
       "       0.52089351, 0.03881622, 0.91193304, 0.00351061, 0.00287873,\n",
       "       0.03129982, 0.99968628, 0.02821696, 0.14095534, 0.03129982,\n",
       "       0.9999261 , 0.00848334, 0.01286832, 0.00414278, 0.01719179,\n",
       "       0.0024946 , 0.00405056, 0.00287873, 0.01602101, 0.03877282,\n",
       "       0.00569666, 0.84710381, 0.99862743, 0.01492635, 0.99554245,\n",
       "       0.01621932, 0.96684288, 0.99297035, 0.01719179, 0.00177211,\n",
       "       0.99970235, 0.0385304 , 0.00287873, 0.00757762, 0.01507962,\n",
       "       0.99385411, 0.0024946 , 0.00569666, 0.02899894, 0.99999068,\n",
       "       0.0024946 , 0.99922317, 0.0385304 , 0.02899894, 0.11163984,\n",
       "       0.02388938, 0.99216591, 0.99377548, 0.97518183, 0.01815744,\n",
       "       0.00177211, 0.99997914, 0.98913163, 0.06005088, 0.99981159,\n",
       "       0.0106267 , 0.00157047, 0.99912831, 0.99955184, 0.34030721,\n",
       "       0.99947873, 0.00177211, 0.04536135, 0.01390767, 0.94631102,\n",
       "       0.99988681, 0.99945418, 0.00592871, 0.99993881, 0.00326844,\n",
       "       0.0024946 , 0.00582615, 0.00657062, 0.9971306 , 0.00657062,\n",
       "       0.99923534, 0.99997501, 0.00351061, 0.00351061, 0.01088243,\n",
       "       0.00177211, 0.06828644, 0.01206967, 0.00221093, 0.04064506,\n",
       "       0.99384675, 0.9999741 , 0.99988272, 0.37198394, 0.99839358,\n",
       "       0.99162133, 0.99996382, 0.02090287, 0.99939056, 0.00419469,\n",
       "       0.00654833, 0.00157047, 0.0148211 , 0.00465197, 0.03847734,\n",
       "       0.05290318, 0.00177211, 0.41743245, 0.9975598 , 0.71087204,\n",
       "       0.00757762, 0.01830922, 0.0024946 , 0.0108282 , 0.01226503,\n",
       "       0.99991485, 0.06636947, 0.99999878, 0.02746808, 0.91408119,\n",
       "       0.99987838, 0.99999521, 0.01064178, 0.00657062, 0.0240494 ,\n",
       "       0.009169  , 0.0240494 , 0.01757793, 0.99994452, 0.09550293,\n",
       "       0.99999787, 0.01951734, 0.00467316, 0.0074095 , 0.01313749])"
      ]
     },
     "execution_count": 94,
     "metadata": {},
     "output_type": "execute_result"
    }
   ],
   "source": [
    "pos_probabibility_score"
   ]
  },
  {
   "cell_type": "code",
   "execution_count": 95,
   "id": "994ee4cf",
   "metadata": {},
   "outputs": [],
   "source": [
    "from sklearn import metrics"
   ]
  },
  {
   "cell_type": "code",
   "execution_count": 104,
   "id": "0c1304bd",
   "metadata": {},
   "outputs": [],
   "source": [
    "fpr1,tpr1,thersholds1=metrics.roc_curve(Y_test,pos_probabibility_score,pos_label=1,drop_intermediate=True)"
   ]
  },
  {
   "cell_type": "code",
   "execution_count": 105,
   "id": "5b586e14",
   "metadata": {},
   "outputs": [
    {
     "name": "stdout",
     "output_type": "stream",
     "text": [
      "*********** FPR \n",
      "[0.         0.         0.         0.01086957 0.01086957 0.02173913\n",
      " 0.02173913 0.04347826 0.04347826 0.16304348 0.19565217 0.20652174\n",
      " 0.25       0.27173913 0.29347826 0.35869565 0.38043478 0.57608696\n",
      " 0.59782609 0.60869565 0.65217391 0.68478261 0.70652174 0.77173913\n",
      " 0.80434783 0.82608696 0.85869565 0.91304348 0.92391304 0.97826087\n",
      " 1.        ]\n",
      "*********** TPR \n",
      "[0.         0.02083333 0.75       0.75       0.875      0.875\n",
      " 0.95833333 0.95833333 1.         1.         1.         1.\n",
      " 1.         1.         1.         1.         1.         1.\n",
      " 1.         1.         1.         1.         1.         1.\n",
      " 1.         1.         1.         1.         1.         1.\n",
      " 1.        ]\n",
      "*********** THERSHOLDS \n",
      "[1.99999878e+00 9.99998784e-01 9.93775479e-01 9.92970346e-01\n",
      " 9.46311018e-01 9.24623928e-01 7.10872038e-01 4.17432453e-01\n",
      " 3.40307205e-01 3.87728176e-02 3.85304038e-02 3.84773401e-02\n",
      " 2.89989444e-02 2.74680780e-02 2.40493996e-02 1.75779329e-02\n",
      " 1.71917872e-02 7.97923407e-03 7.57762380e-03 7.40950439e-03\n",
      " 6.57061540e-03 5.82614623e-03 5.69666257e-03 4.05055690e-03\n",
      " 3.51061073e-03 3.09663887e-03 2.87873222e-03 2.49460103e-03\n",
      " 2.21092792e-03 1.77211290e-03 1.57046805e-03]\n"
     ]
    }
   ],
   "source": [
    "print(\"*********** FPR \")\n",
    "print(fpr1)\n",
    "print(\"*********** TPR \")\n",
    "print(tpr1)\n",
    "print(\"*********** THERSHOLDS \")\n",
    "print(thersholds1)"
   ]
  },
  {
   "cell_type": "code",
   "execution_count": 106,
   "id": "7cffa8d2",
   "metadata": {},
   "outputs": [
    {
     "data": {
      "text/plain": [
       "31"
      ]
     },
     "execution_count": 106,
     "metadata": {},
     "output_type": "execute_result"
    }
   ],
   "source": [
    "len(thersholds1)"
   ]
  },
  {
   "cell_type": "code",
   "execution_count": 107,
   "id": "10bcb669",
   "metadata": {},
   "outputs": [
    {
     "data": {
      "text/plain": [
       "31"
      ]
     },
     "execution_count": 107,
     "metadata": {},
     "output_type": "execute_result"
    }
   ],
   "source": [
    "len(tpr1)"
   ]
  },
  {
   "cell_type": "code",
   "execution_count": null,
   "id": "ab337345",
   "metadata": {},
   "outputs": [],
   "source": []
  },
  {
   "cell_type": "code",
   "execution_count": null,
   "id": "1be43ad5",
   "metadata": {},
   "outputs": [],
   "source": [
    "# UNDERSTANDING THE CONCEPT OF THRESHOLD"
   ]
  },
  {
   "cell_type": "code",
   "execution_count": 109,
   "id": "430ae123",
   "metadata": {},
   "outputs": [],
   "source": [
    "y=np.array([0,0,1,1])\n",
    "proba_score=np.array([0.1,0.4,0.35,0.8])"
   ]
  },
  {
   "cell_type": "code",
   "execution_count": 110,
   "id": "6f034499",
   "metadata": {},
   "outputs": [],
   "source": [
    "fpr10,tpr10,thersholds10=metrics.roc_curve(y,proba_score,pos_label=1,drop_intermediate=True)"
   ]
  },
  {
   "cell_type": "code",
   "execution_count": 111,
   "id": "8ad3f2c5",
   "metadata": {},
   "outputs": [
    {
     "name": "stdout",
     "output_type": "stream",
     "text": [
      "[1.8  0.8  0.4  0.35 0.1 ]\n"
     ]
    }
   ],
   "source": [
    "print(thersholds10)"
   ]
  },
  {
   "cell_type": "code",
   "execution_count": null,
   "id": "047cbfdc",
   "metadata": {},
   "outputs": [],
   "source": [
    "proba_score=np.array([0.1,0.35,0.4,0.8])# arranged in ascending order\n",
    "y=np.array([0,1,0,1])\n",
    "thresholds=np.array([0.1,0.35,0.4,0.8,1.8])"
   ]
  },
  {
   "cell_type": "code",
   "execution_count": null,
   "id": "1fef39a5",
   "metadata": {},
   "outputs": [],
   "source": []
  },
  {
   "cell_type": "code",
   "execution_count": null,
   "id": "549ae382",
   "metadata": {},
   "outputs": [],
   "source": [
    "#ROC AUC CURVE PLOTTING"
   ]
  },
  {
   "cell_type": "code",
   "execution_count": 118,
   "id": "e5db44c4",
   "metadata": {},
   "outputs": [
    {
     "data": {
      "image/png": "[encoded data removed]",
      "text/plain": [
       "<Figure size 432x288 with 1 Axes>"
      ]
     },
     "metadata": {
      "needs_background": "light"
     },
     "output_type": "display_data"
    }
   ],
   "source": [
    "plt.plot(fpr1,tpr1,linestyle='-',color=\"red\")\n",
    "plt.plot([0,1],[0,1])\n",
    "plt.xlabel(\"False positive rate\")\n",
    "plt.ylabel(\"True positive Rate\")\n",
    "plt.show()"
   ]
  },
  {
   "cell_type": "code",
   "execution_count": 121,
   "id": "bda784df",
   "metadata": {},
   "outputs": [
    {
     "data": {
      "text/plain": [
       "0.995018115942029"
      ]
     },
     "execution_count": 121,
     "metadata": {},
     "output_type": "execute_result"
    }
   ],
   "source": [
    "from sklearn.metrics import roc_auc_score\n",
    "roc_auc_score(Y_test,pos_probabibility_score)"
   ]
  },
  {
   "cell_type": "code",
   "execution_count": null,
   "id": "cc314dd6",
   "metadata": {},
   "outputs": [],
   "source": []
  },
  {
   "cell_type": "code",
   "execution_count": null,
   "id": "839f18fe",
   "metadata": {},
   "outputs": [],
   "source": []
  },
  {
   "cell_type": "code",
   "execution_count": null,
   "id": "4f5c0bab",
   "metadata": {},
   "outputs": [],
   "source": []
  },
  {
   "cell_type": "code",
   "execution_count": null,
   "id": "571ad404",
   "metadata": {},
   "outputs": [],
   "source": []
  },
  {
   "cell_type": "markdown",
   "id": "05135142",
   "metadata": {},
   "source": [
    "# KNN method"
   ]
  },
  {
   "cell_type": "code",
   "execution_count": 28,
   "id": "f38f0811",
   "metadata": {},
   "outputs": [],
   "source": [
    "from sklearn.neighbors import KNeighborsClassifier"
   ]
  },
  {
   "cell_type": "code",
   "execution_count": null,
   "id": "3755fd2c",
   "metadata": {},
   "outputs": [],
   "source": [
    "#from sklearn.neighbors import KNeighborsRegressor # for regression problem"
   ]
  },
  {
   "cell_type": "code",
   "execution_count": 29,
   "id": "68b2fead",
   "metadata": {},
   "outputs": [],
   "source": [
    "knn=KNeighborsClassifier()"
   ]
  },
  {
   "cell_type": "code",
   "execution_count": 30,
   "id": "1f8e7d07",
   "metadata": {},
   "outputs": [
    {
     "data": {
      "text/html": [
       "<style>#sk-container-id-2 {color: black;background-color: white;}#sk-container-id-2 pre{padding: 0;}#sk-container-id-2 div.sk-toggleable {background-color: white;}#sk-container-id-2 label.sk-toggleable__label {cursor: pointer;display: block;width: 100%;margin-bottom: 0;padding: 0.3em;box-sizing: border-box;text-align: center;}#sk-container-id-2 label.sk-toggleable__label-arrow:before {content: \"▸\";float: left;margin-right: 0.25em;color: #696969;}#sk-container-id-2 label.sk-toggleable__label-arrow:hover:before {color: black;}#sk-container-id-2 div.sk-estimator:hover label.sk-toggleable__label-arrow:before {color: black;}#sk-container-id-2 div.sk-toggleable__content {max-height: 0;max-width: 0;overflow: hidden;text-align: left;background-color: #f0f8ff;}#sk-container-id-2 div.sk-toggleable__content pre {margin: 0.2em;color: black;border-radius: 0.25em;background-color: #f0f8ff;}#sk-container-id-2 input.sk-toggleable__control:checked~div.sk-toggleable__content {max-height: 200px;max-width: 100%;overflow: auto;}#sk-container-id-2 input.sk-toggleable__control:checked~label.sk-toggleable__label-arrow:before {content: \"▾\";}#sk-container-id-2 div.sk-estimator input.sk-toggleable__control:checked~label.sk-toggleable__label {background-color: #d4ebff;}#sk-container-id-2 div.sk-label input.sk-toggleable__control:checked~label.sk-toggleable__label {background-color: #d4ebff;}#sk-container-id-2 input.sk-hidden--visually {border: 0;clip: rect(1px 1px 1px 1px);clip: rect(1px, 1px, 1px, 1px);height: 1px;margin: -1px;overflow: hidden;padding: 0;position: absolute;width: 1px;}#sk-container-id-2 div.sk-estimator {font-family: monospace;background-color: #f0f8ff;border: 1px dotted black;border-radius: 0.25em;box-sizing: border-box;margin-bottom: 0.5em;}#sk-container-id-2 div.sk-estimator:hover {background-color: #d4ebff;}#sk-container-id-2 div.sk-parallel-item::after {content: \"\";width: 100%;border-bottom: 1px solid gray;flex-grow: 1;}#sk-container-id-2 div.sk-label:hover label.sk-toggleable__label {background-color: #d4ebff;}#sk-container-id-2 div.sk-serial::before {content: \"\";position: absolute;border-left: 1px solid gray;box-sizing: border-box;top: 0;bottom: 0;left: 50%;z-index: 0;}#sk-container-id-2 div.sk-serial {display: flex;flex-direction: column;align-items: center;background-color: white;padding-right: 0.2em;padding-left: 0.2em;position: relative;}#sk-container-id-2 div.sk-item {position: relative;z-index: 1;}#sk-container-id-2 div.sk-parallel {display: flex;align-items: stretch;justify-content: center;background-color: white;position: relative;}#sk-container-id-2 div.sk-item::before, #sk-container-id-2 div.sk-parallel-item::before {content: \"\";position: absolute;border-left: 1px solid gray;box-sizing: border-box;top: 0;bottom: 0;left: 50%;z-index: -1;}#sk-container-id-2 div.sk-parallel-item {display: flex;flex-direction: column;z-index: 1;position: relative;background-color: white;}#sk-container-id-2 div.sk-parallel-item:first-child::after {align-self: flex-end;width: 50%;}#sk-container-id-2 div.sk-parallel-item:last-child::after {align-self: flex-start;width: 50%;}#sk-container-id-2 div.sk-parallel-item:only-child::after {width: 0;}#sk-container-id-2 div.sk-dashed-wrapped {border: 1px dashed gray;margin: 0 0.4em 0.5em 0.4em;box-sizing: border-box;padding-bottom: 0.4em;background-color: white;}#sk-container-id-2 div.sk-label label {font-family: monospace;font-weight: bold;display: inline-block;line-height: 1.2em;}#sk-container-id-2 div.sk-label-container {text-align: center;}#sk-container-id-2 div.sk-container {/* jupyter's `normalize.less` sets `[hidden] { display: none; }` but bootstrap.min.css set `[hidden] { display: none !important; }` so we also need the `!important` here to be able to override the default hidden behavior on the sphinx rendered scikit-learn.org. See: https://github.com/scikit-learn/scikit-learn/issues/21755 */display: inline-block !important;position: relative;}#sk-container-id-2 div.sk-text-repr-fallback {display: none;}</style><div id=\"sk-container-id-2\" class=\"sk-top-container\"><div class=\"sk-text-repr-fallback\"><pre>KNeighborsClassifier()</pre><b>In a Jupyter environment, please rerun this cell to show the HTML representation or trust the notebook. <br />On GitHub, the HTML representation is unable to render, please try loading this page with nbviewer.org.</b></div><div class=\"sk-container\" hidden><div class=\"sk-item\"><div class=\"sk-estimator sk-toggleable\"><input class=\"sk-toggleable__control sk-hidden--visually\" id=\"sk-estimator-id-2\" type=\"checkbox\" checked><label for=\"sk-estimator-id-2\" class=\"sk-toggleable__label sk-toggleable__label-arrow\">KNeighborsClassifier</label><div class=\"sk-toggleable__content\"><pre>KNeighborsClassifier()</pre></div></div></div></div></div>"
      ],
      "text/plain": [
       "KNeighborsClassifier()"
      ]
     },
     "execution_count": 30,
     "metadata": {},
     "output_type": "execute_result"
    }
   ],
   "source": [
    "knn.fit(X_train,Y_train)"
   ]
  },
  {
   "cell_type": "code",
   "execution_count": 32,
   "id": "91b55808",
   "metadata": {},
   "outputs": [],
   "source": [
    "Y_pred_knn=knn.predict(X_test)"
   ]
  },
  {
   "cell_type": "code",
   "execution_count": 33,
   "id": "9972996e",
   "metadata": {},
   "outputs": [
    {
     "name": "stdout",
     "output_type": "stream",
     "text": [
      "testing performance \n",
      " 0.9714285714285714\n"
     ]
    }
   ],
   "source": [
    "print(\"testing performance \\n\",accuracy_score(Y_test,Y_pred_knn))"
   ]
  },
  {
   "cell_type": "code",
   "execution_count": 34,
   "id": "0374cb24",
   "metadata": {},
   "outputs": [
    {
     "name": "stdout",
     "output_type": "stream",
     "text": [
      "classification report \n",
      "               precision    recall  f1-score   support\n",
      "\n",
      "           0       0.98      0.98      0.98        92\n",
      "           1       0.96      0.96      0.96        48\n",
      "\n",
      "    accuracy                           0.97       140\n",
      "   macro avg       0.97      0.97      0.97       140\n",
      "weighted avg       0.97      0.97      0.97       140\n",
      "\n"
     ]
    }
   ],
   "source": [
    "print(\"classification report \\n\",classification_report(Y_test,Y_pred_knn))"
   ]
  },
  {
   "cell_type": "code",
   "execution_count": null,
   "id": "c2a5c346",
   "metadata": {},
   "outputs": [],
   "source": [
    "# how can we decide the best value of k or n_neighbors"
   ]
  },
  {
   "cell_type": "code",
   "execution_count": null,
   "id": "92cef447",
   "metadata": {},
   "outputs": [],
   "source": [
    "# create a function and a graph to decide high accuracy with effective k value"
   ]
  },
  {
   "cell_type": "code",
   "execution_count": 39,
   "id": "91f7bbc4",
   "metadata": {},
   "outputs": [
    {
     "data": {
      "text/plain": [
       "[<matplotlib.lines.Line2D at 0x1ee7ce1a280>]"
      ]
     },
     "execution_count": 39,
     "metadata": {},
     "output_type": "execute_result"
    },
    {
     "data": {
      "image/png": "[encoded data removed]",
      "text/plain": [
       "<Figure size 432x360 with 1 Axes>"
      ]
     },
     "metadata": {
      "needs_background": "light"
     },
     "output_type": "display_data"
    }
   ],
   "source": [
    "accuracy_k=[]\n",
    "for k in range(1,50):\n",
    "    knn=KNeighborsClassifier(n_neighbors=k)\n",
    "    knn.fit(X_train,Y_train)\n",
    "    Y_pred=knn.predict(X_test)\n",
    "    accuracy=accuracy_score(Y_test,Y_pred)\n",
    "    accuracy_k.append(accuracy)\n",
    "\n",
    "plt.figure(figsize=(6,5))\n",
    "plt.xlabel(\"k value\")\n",
    "plt.ylabel(\"accuracy\")\n",
    "plt.plot(accuracy_k,marker=\"o\")"
   ]
  },
  {
   "cell_type": "code",
   "execution_count": 53,
   "id": "6d189b21",
   "metadata": {},
   "outputs": [],
   "source": [
    "knn10=KNeighborsClassifier(n_neighbors=11)"
   ]
  },
  {
   "cell_type": "code",
   "execution_count": 54,
   "id": "67d5a52c",
   "metadata": {},
   "outputs": [
    {
     "data": {
      "text/plain": [
       "0.9714285714285714"
      ]
     },
     "execution_count": 54,
     "metadata": {},
     "output_type": "execute_result"
    }
   ],
   "source": [
    "knn10.fit(X_train,Y_train)\n",
    "Y_pred_10=knn10.predict(X_test)\n",
    "accuracy=accuracy_score(Y_test,Y_pred_10)\n",
    "accuracy"
   ]
  },
  {
   "cell_type": "code",
   "execution_count": 55,
   "id": "98064ebb",
   "metadata": {},
   "outputs": [
    {
     "name": "stdout",
     "output_type": "stream",
     "text": [
      "classification report \n",
      "               precision    recall  f1-score   support\n",
      "\n",
      "           0       0.98      0.98      0.98        92\n",
      "           1       0.96      0.96      0.96        48\n",
      "\n",
      "    accuracy                           0.97       140\n",
      "   macro avg       0.97      0.97      0.97       140\n",
      "weighted avg       0.97      0.97      0.97       140\n",
      "\n"
     ]
    }
   ],
   "source": [
    "print(\"classification report \\n\",classification_report(Y_test,Y_pred_10))"
   ]
  },
  {
   "cell_type": "markdown",
   "id": "2c8b2f1d",
   "metadata": {},
   "source": [
    "# SVM "
   ]
  },
  {
   "cell_type": "code",
   "execution_count": 57,
   "id": "66d70587",
   "metadata": {},
   "outputs": [],
   "source": [
    "from sklearn.svm import SVC\n",
    "#from sklearn.svm import SVR"
   ]
  },
  {
   "cell_type": "code",
   "execution_count": 82,
   "id": "f8474b4a",
   "metadata": {},
   "outputs": [],
   "source": [
    "svc_model=SVC(C=0.1,kernel='poly',degree=1,gamma='scale')"
   ]
  },
  {
   "cell_type": "code",
   "execution_count": 83,
   "id": "34165674",
   "metadata": {},
   "outputs": [],
   "source": [
    "svc_model.fit(X_train,Y_train)\n",
    "Y_pred_svc=svc_model.predict(X_test)"
   ]
  },
  {
   "cell_type": "code",
   "execution_count": 84,
   "id": "c7fd695a",
   "metadata": {},
   "outputs": [
    {
     "data": {
      "text/plain": [
       "0.95"
      ]
     },
     "execution_count": 84,
     "metadata": {},
     "output_type": "execute_result"
    }
   ],
   "source": [
    "accuracy=accuracy_score(Y_test,Y_pred_svc)\n",
    "accuracy"
   ]
  },
  {
   "cell_type": "code",
   "execution_count": 85,
   "id": "22828a13",
   "metadata": {},
   "outputs": [
    {
     "name": "stdout",
     "output_type": "stream",
     "text": [
      "classification report \n",
      "               precision    recall  f1-score   support\n",
      "\n",
      "           0       0.96      0.97      0.96        92\n",
      "           1       0.94      0.92      0.93        48\n",
      "\n",
      "    accuracy                           0.95       140\n",
      "   macro avg       0.95      0.94      0.94       140\n",
      "weighted avg       0.95      0.95      0.95       140\n",
      "\n"
     ]
    }
   ],
   "source": [
    "print(\"classification report \\n\",classification_report(Y_test,Y_pred_svc))"
   ]
  },
  {
   "cell_type": "markdown",
   "id": "bbe19bd3",
   "metadata": {},
   "source": []
  },
  {
   "cell_type": "code",
   "execution_count": null,
   "id": "369a9726",
   "metadata": {},
   "outputs": [],
   "source": []
  },
  {
   "cell_type": "code",
   "execution_count": null,
   "id": "13083bde",
   "metadata": {},
   "outputs": [],
   "source": []
  },
  {
   "cell_type": "code",
   "execution_count": null,
   "id": "62ce4f68",
   "metadata": {},
   "outputs": [],
   "source": []
  },
  {
   "cell_type": "code",
   "execution_count": null,
   "id": "8ab11e13",
   "metadata": {},
   "outputs": [],
   "source": []
  },
  {
   "cell_type": "code",
   "execution_count": null,
   "id": "b0af036a",
   "metadata": {},
   "outputs": [],
   "source": []
  },
  {
   "cell_type": "code",
   "execution_count": null,
   "id": "866e55c0",
   "metadata": {},
   "outputs": [],
   "source": []
  },
  {
   "cell_type": "code",
   "execution_count": null,
   "id": "08ccb12a",
   "metadata": {},
   "outputs": [],
   "source": []
  },
  {
   "cell_type": "code",
   "execution_count": null,
   "id": "a794d207",
   "metadata": {},
   "outputs": [],
   "source": []
  },
  {
   "cell_type": "code",
   "execution_count": null,
   "id": "89c8ad64",
   "metadata": {},
   "outputs": [],
   "source": []
  },
  {
   "cell_type": "code",
   "execution_count": null,
   "id": "2fda0c3b",
   "metadata": {},
   "outputs": [],
   "source": []
  }
 ],
 "metadata": {
  "kernelspec": {
   "display_name": "Python 3 (ipykernel)",
   "language": "python",
   "name": "python3"
  },
  "language_info": {
   "codemirror_mode": {
    "name": "ipython",
    "version": 3
   },
   "file_extension": ".py",
   "mimetype": "text/x-python",
   "name": "python",
   "nbconvert_exporter": "python",
   "pygments_lexer": "ipython3",
   "version": "3.9.7"
  }
 },
 "nbformat": 4,
 "nbformat_minor": 5
}
