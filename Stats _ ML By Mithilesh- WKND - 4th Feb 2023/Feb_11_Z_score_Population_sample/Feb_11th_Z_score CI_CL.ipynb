{
 "cells": [
  {
   "cell_type": "markdown",
   "id": "d458e94a",
   "metadata": {},
   "source": [
    "# Z score confidence level confidence interval"
   ]
  },
  {
   "cell_type": "markdown",
   "id": "fd71abe8",
   "metadata": {},
   "source": [
    "# Calculate Z-Scores in Python"
   ]
  },
  {
   "cell_type": "code",
   "execution_count": 1,
   "id": "3173d667",
   "metadata": {},
   "outputs": [],
   "source": [
    "#Pandas DataFrames\n",
    "import pandas as pd\n",
    "import numpy as np\n",
    "import scipy.stats as st\n"
   ]
  },
  {
   "cell_type": "code",
   "execution_count": null,
   "id": "527d8e87",
   "metadata": {},
   "outputs": [],
   "source": []
  },
  {
   "cell_type": "code",
   "execution_count": 2,
   "id": "d1ecddcb",
   "metadata": {},
   "outputs": [
    {
     "data": {
      "text/plain": [
       "'We use the following formula to calculate a z-score:\\n\\nz = (X – μ) / σ\\n\\nwhere:\\n\\nX is a single raw data value\\nμ is the population mean\\nσ is the population standard deviation'"
      ]
     },
     "execution_count": 2,
     "metadata": {},
     "output_type": "execute_result"
    }
   ],
   "source": [
    "#In statistics, a z-score tells us how many standard deviations away a value is from the mean. \n",
    "\"\"\"We use the following formula to calculate a z-score:\n",
    "\n",
    "z = (X – μ) / σ\n",
    "\n",
    "where:\n",
    "\n",
    "X is a single raw data value\n",
    "μ is the population mean\n",
    "σ is the population standard deviation\"\"\""
   ]
  },
  {
   "cell_type": "code",
   "execution_count": 3,
   "id": "5819587e",
   "metadata": {},
   "outputs": [
    {
     "data": {
      "text/plain": [
       "'We can calculate z-scores in Python using scipy.stats.zscore, which uses the following syntax:\\n\\nscipy.stats.zscore(a, axis=0, ddof=0, nan_policy=’propagate’)\\n\\nwhere:\\n\\na: an array like object containing data\\naxis: the axis along which to calculate the z-scores. Default is 0.\\nddof: degrees of freedom correction in the calculation of the standard deviation. Default is 0.\\nnan_policy: how to handle when input contains nan. Default is propagate, which returns nan. ‘raise’ \\n    throws an error and ‘omit’ performs calculations ignoring nan values.'"
      ]
     },
     "execution_count": 3,
     "metadata": {},
     "output_type": "execute_result"
    }
   ],
   "source": [
    "\"\"\"We can calculate z-scores in Python using scipy.stats.zscore, which uses the following syntax:\n",
    "\n",
    "scipy.stats.zscore(a, axis=0, ddof=0, nan_policy=’propagate’)\n",
    "\n",
    "where:\n",
    "\n",
    "a: an array like object containing data\n",
    "axis: the axis along which to calculate the z-scores. Default is 0.\n",
    "ddof: degrees of freedom correction in the calculation of the standard deviation. Default is 0.\n",
    "nan_policy: how to handle when input contains nan. Default is propagate, which returns nan. ‘raise’ \n",
    "    throws an error and ‘omit’ performs calculations ignoring nan values.\"\"\""
   ]
  },
  {
   "cell_type": "code",
   "execution_count": 4,
   "id": "b8464dca",
   "metadata": {},
   "outputs": [
    {
     "data": {
      "text/plain": [
       "'The following examples illustrate how to use this function to calculate z-scores for one-dimensional numpy arrays, \\nmulti-dimensional numpy arrays, and Pandas DataFrames.\\n\\nNumpy One-Dimensional Arrays\\nStep 1: Import modules.'"
      ]
     },
     "execution_count": 4,
     "metadata": {},
     "output_type": "execute_result"
    }
   ],
   "source": [
    "\"\"\"The following examples illustrate how to use this function to calculate \n",
    "z-scores for one-dimensional numpy arrays, \n",
    "multi-dimensional numpy arrays, and Pandas DataFrames.\n",
    "\n",
    "Numpy One-Dimensional Arrays\n",
    "Step 1: Import modules.\"\"\""
   ]
  },
  {
   "cell_type": "code",
   "execution_count": 5,
   "id": "d7b69098",
   "metadata": {},
   "outputs": [],
   "source": [
    "import pandas as pd\n",
    "import numpy as np\n",
    "import scipy.stats as stats"
   ]
  },
  {
   "cell_type": "code",
   "execution_count": 6,
   "id": "8ef47f45",
   "metadata": {},
   "outputs": [],
   "source": [
    "#Step 2: Create an array of values."
   ]
  },
  {
   "cell_type": "code",
   "execution_count": 7,
   "id": "6f9dbcca",
   "metadata": {},
   "outputs": [],
   "source": [
    "data = np.array([6, 7, 7, 12, 13, 13, 15, 16, 19, 22])"
   ]
  },
  {
   "cell_type": "code",
   "execution_count": 8,
   "id": "63a21927",
   "metadata": {},
   "outputs": [],
   "source": [
    "#Step 3: Calculate the z-scores for each value in the array."
   ]
  },
  {
   "cell_type": "code",
   "execution_count": 9,
   "id": "2269d7eb",
   "metadata": {},
   "outputs": [
    {
     "data": {
      "text/plain": [
       "array([-1.39443338, -1.19522861, -1.19522861, -0.19920477,  0.        ,\n",
       "        0.        ,  0.39840954,  0.5976143 ,  1.19522861,  1.79284291])"
      ]
     },
     "execution_count": 9,
     "metadata": {},
     "output_type": "execute_result"
    }
   ],
   "source": [
    "stats.zscore(data)\n",
    "\n"
   ]
  },
  {
   "cell_type": "code",
   "execution_count": 10,
   "id": "b73c9039",
   "metadata": {},
   "outputs": [
    {
     "data": {
      "text/plain": [
       "'Each z-score tells us how many standard deviations away an individual value is from the mean. For example:\\n\\nThe first value of “6” in the array is 1.394 standard deviations below the mean.\\nThe fifth value of “13” in the array is 0 standard deviations away from the mean, i.e. it is equal to the mean.\\nThe last value of “22” in the array is 1.793 standard deviations above the mean.'"
      ]
     },
     "execution_count": 10,
     "metadata": {},
     "output_type": "execute_result"
    }
   ],
   "source": [
    "\"\"\"Each z-score tells us how many standard deviations away an \n",
    "individual value is from the mean. For example:\n",
    "\n",
    "The first value of “6” in the array is 1.394 standard deviations below the mean.\n",
    "The fifth value of “13” in the array is 0 standard deviations away from the mean, \n",
    "i.e. it is equal to the mean.\n",
    "The last value of “22” in the array is 1.793 standard deviations above the mean.\"\"\""
   ]
  },
  {
   "cell_type": "code",
   "execution_count": null,
   "id": "f9a0de7c",
   "metadata": {},
   "outputs": [],
   "source": []
  },
  {
   "cell_type": "markdown",
   "id": "633ff1d6",
   "metadata": {},
   "source": [
    "# Numpy Multi-Dimensional Arrays"
   ]
  },
  {
   "cell_type": "code",
   "execution_count": 11,
   "id": "d5108f4f",
   "metadata": {},
   "outputs": [
    {
     "data": {
      "text/plain": [
       "'Numpy Multi-Dimensional Arrays\\nIf we have a multi-dimensional array, we can use the axis parameter to specify that we want to calculate each \\nz-score relative to its own array. For example, suppose we have the following multi-dimensional array:'"
      ]
     },
     "execution_count": 11,
     "metadata": {},
     "output_type": "execute_result"
    }
   ],
   "source": [
    "\"\"\"Numpy Multi-Dimensional Arrays\n",
    "If we have a multi-dimensional array, we can use the axis parameter to \n",
    "specify that we want to calculate each \n",
    "z-score relative to its own array. For example, suppose we have the \n",
    "following multi-dimensional array:\"\"\""
   ]
  },
  {
   "cell_type": "code",
   "execution_count": 12,
   "id": "7877474c",
   "metadata": {},
   "outputs": [],
   "source": [
    "data = np.array([[5, 6, 7, 7, 8],\n",
    "                 [8, 8, 8, 9, 9],\n",
    "                 [2, 2, 4, 4, 5]])"
   ]
  },
  {
   "cell_type": "code",
   "execution_count": 13,
   "id": "eb5d584b",
   "metadata": {},
   "outputs": [
    {
     "data": {
      "text/plain": [
       "array([[-1.56892908, -0.58834841,  0.39223227,  0.39223227,  1.37281295],\n",
       "       [-0.81649658, -0.81649658, -0.81649658,  1.22474487,  1.22474487],\n",
       "       [-1.16666667, -1.16666667,  0.5       ,  0.5       ,  1.33333333]])"
      ]
     },
     "execution_count": 13,
     "metadata": {},
     "output_type": "execute_result"
    }
   ],
   "source": [
    "stats.zscore(data, axis=1)"
   ]
  },
  {
   "cell_type": "code",
   "execution_count": 14,
   "id": "b97038e6",
   "metadata": {},
   "outputs": [
    {
     "data": {
      "text/plain": [
       "'The z-scores for each individual value are shown relative to the array they’re in. For example:The first value of “5” \\n    in the first array is 1.159 standard deviations below the mean of its array.\\n    The first value of “8” in the second array is .816 standard deviations below the mean of its array.'"
      ]
     },
     "execution_count": 14,
     "metadata": {},
     "output_type": "execute_result"
    }
   ],
   "source": [
    "\"\"\"The z-scores for each individual value are shown relative to the array \n",
    "they’re in. For example:The first value of “5” \n",
    "    in the first array is 1.159 standard deviations below the mean of its array.\n",
    "    The first value of “8” in the second array is .816 standard deviations \n",
    "    below the mean of its array.\"\"\""
   ]
  },
  {
   "cell_type": "code",
   "execution_count": null,
   "id": "af289d93",
   "metadata": {},
   "outputs": [],
   "source": []
  },
  {
   "cell_type": "code",
   "execution_count": 15,
   "id": "fa626245",
   "metadata": {},
   "outputs": [],
   "source": [
    "#Pandas DataFrames\n",
    "import pandas as pd\n",
    "import numpy as np\n",
    "import scipy.stats as st\n"
   ]
  },
  {
   "cell_type": "code",
   "execution_count": 16,
   "id": "1f4978dc",
   "metadata": {},
   "outputs": [
    {
     "data": {
      "text/html": [
       "<div>\n",
       "<style scoped>\n",
       "    .dataframe tbody tr th:only-of-type {\n",
       "        vertical-align: middle;\n",
       "    }\n",
       "\n",
       "    .dataframe tbody tr th {\n",
       "        vertical-align: top;\n",
       "    }\n",
       "\n",
       "    .dataframe thead th {\n",
       "        text-align: right;\n",
       "    }\n",
       "</style>\n",
       "<table border=\"1\" class=\"dataframe\">\n",
       "  <thead>\n",
       "    <tr style=\"text-align: right;\">\n",
       "      <th></th>\n",
       "      <th>age</th>\n",
       "      <th>sex</th>\n",
       "      <th>cp</th>\n",
       "      <th>trestbps</th>\n",
       "      <th>chol</th>\n",
       "      <th>fbs</th>\n",
       "      <th>restecg</th>\n",
       "      <th>thalach</th>\n",
       "      <th>exang</th>\n",
       "      <th>oldpeak</th>\n",
       "      <th>slope</th>\n",
       "      <th>ca</th>\n",
       "      <th>thal</th>\n",
       "      <th>target</th>\n",
       "    </tr>\n",
       "  </thead>\n",
       "  <tbody>\n",
       "    <tr>\n",
       "      <th>0</th>\n",
       "      <td>52</td>\n",
       "      <td>1</td>\n",
       "      <td>0</td>\n",
       "      <td>125</td>\n",
       "      <td>212</td>\n",
       "      <td>0</td>\n",
       "      <td>1</td>\n",
       "      <td>168</td>\n",
       "      <td>0</td>\n",
       "      <td>1.0</td>\n",
       "      <td>2</td>\n",
       "      <td>2</td>\n",
       "      <td>3</td>\n",
       "      <td>0</td>\n",
       "    </tr>\n",
       "    <tr>\n",
       "      <th>1</th>\n",
       "      <td>53</td>\n",
       "      <td>1</td>\n",
       "      <td>0</td>\n",
       "      <td>140</td>\n",
       "      <td>203</td>\n",
       "      <td>1</td>\n",
       "      <td>0</td>\n",
       "      <td>155</td>\n",
       "      <td>1</td>\n",
       "      <td>3.1</td>\n",
       "      <td>0</td>\n",
       "      <td>0</td>\n",
       "      <td>3</td>\n",
       "      <td>0</td>\n",
       "    </tr>\n",
       "    <tr>\n",
       "      <th>2</th>\n",
       "      <td>70</td>\n",
       "      <td>1</td>\n",
       "      <td>0</td>\n",
       "      <td>145</td>\n",
       "      <td>174</td>\n",
       "      <td>0</td>\n",
       "      <td>1</td>\n",
       "      <td>125</td>\n",
       "      <td>1</td>\n",
       "      <td>2.6</td>\n",
       "      <td>0</td>\n",
       "      <td>0</td>\n",
       "      <td>3</td>\n",
       "      <td>0</td>\n",
       "    </tr>\n",
       "    <tr>\n",
       "      <th>3</th>\n",
       "      <td>61</td>\n",
       "      <td>1</td>\n",
       "      <td>0</td>\n",
       "      <td>148</td>\n",
       "      <td>203</td>\n",
       "      <td>0</td>\n",
       "      <td>1</td>\n",
       "      <td>161</td>\n",
       "      <td>0</td>\n",
       "      <td>0.0</td>\n",
       "      <td>2</td>\n",
       "      <td>1</td>\n",
       "      <td>3</td>\n",
       "      <td>0</td>\n",
       "    </tr>\n",
       "    <tr>\n",
       "      <th>4</th>\n",
       "      <td>62</td>\n",
       "      <td>0</td>\n",
       "      <td>0</td>\n",
       "      <td>138</td>\n",
       "      <td>294</td>\n",
       "      <td>1</td>\n",
       "      <td>1</td>\n",
       "      <td>106</td>\n",
       "      <td>0</td>\n",
       "      <td>1.9</td>\n",
       "      <td>1</td>\n",
       "      <td>3</td>\n",
       "      <td>2</td>\n",
       "      <td>0</td>\n",
       "    </tr>\n",
       "  </tbody>\n",
       "</table>\n",
       "</div>"
      ],
      "text/plain": [
       "   age  sex  cp  trestbps  chol  fbs  restecg  thalach  exang  oldpeak  slope  \\\n",
       "0   52    1   0       125   212    0        1      168      0      1.0      2   \n",
       "1   53    1   0       140   203    1        0      155      1      3.1      0   \n",
       "2   70    1   0       145   174    0        1      125      1      2.6      0   \n",
       "3   61    1   0       148   203    0        1      161      0      0.0      2   \n",
       "4   62    0   0       138   294    1        1      106      0      1.9      1   \n",
       "\n",
       "   ca  thal  target  \n",
       "0   2     3       0  \n",
       "1   0     3       0  \n",
       "2   0     3       0  \n",
       "3   1     3       0  \n",
       "4   3     2       0  "
      ]
     },
     "execution_count": 16,
     "metadata": {},
     "output_type": "execute_result"
    }
   ],
   "source": [
    "cardio=pd.read_csv(\"Cardio_vascular.csv\")\n",
    "cardio.head()\n"
   ]
  },
  {
   "cell_type": "code",
   "execution_count": null,
   "id": "27efc265",
   "metadata": {},
   "outputs": [],
   "source": []
  },
  {
   "cell_type": "code",
   "execution_count": 17,
   "id": "aa9b1529",
   "metadata": {},
   "outputs": [
    {
     "data": {
      "text/plain": [
       "(242.8415586477306, 249.1584413522694)"
      ]
     },
     "execution_count": 17,
     "metadata": {},
     "output_type": "execute_result"
    }
   ],
   "source": [
    "cardio1=cardio.copy()\n",
    "st.norm.interval(alpha=0.95, loc=np.mean(cardio1[\"chol\"]), scale=st.sem(cardio1[\"chol\"]))"
   ]
  },
  {
   "cell_type": "code",
   "execution_count": 18,
   "id": "ddcc3aa5",
   "metadata": {},
   "outputs": [
    {
     "data": {
      "text/plain": [
       "(243.34935246016116, 248.65064753983884)"
      ]
     },
     "execution_count": 18,
     "metadata": {},
     "output_type": "execute_result"
    }
   ],
   "source": [
    "st.norm.interval(alpha=0.90, loc=np.mean(cardio1[\"chol\"]), scale=st.sem(cardio1[\"chol\"]))"
   ]
  },
  {
   "cell_type": "code",
   "execution_count": 19,
   "id": "55f8dec2",
   "metadata": {},
   "outputs": [
    {
     "data": {
      "text/plain": [
       "(130.5393515374625, 132.68406309668387)"
      ]
     },
     "execution_count": 19,
     "metadata": {},
     "output_type": "execute_result"
    }
   ],
   "source": [
    "st.norm.interval(alpha=0.95, loc=np.mean(cardio1[\"trestbps\"]), scale=st.sem(cardio1[\"trestbps\"]))"
   ]
  },
  {
   "cell_type": "code",
   "execution_count": 20,
   "id": "4be6e245",
   "metadata": {},
   "outputs": [
    {
     "data": {
      "text/html": [
       "<div>\n",
       "<style scoped>\n",
       "    .dataframe tbody tr th:only-of-type {\n",
       "        vertical-align: middle;\n",
       "    }\n",
       "\n",
       "    .dataframe tbody tr th {\n",
       "        vertical-align: top;\n",
       "    }\n",
       "\n",
       "    .dataframe thead th {\n",
       "        text-align: right;\n",
       "    }\n",
       "</style>\n",
       "<table border=\"1\" class=\"dataframe\">\n",
       "  <thead>\n",
       "    <tr style=\"text-align: right;\">\n",
       "      <th></th>\n",
       "      <th>age</th>\n",
       "      <th>sex</th>\n",
       "      <th>cp</th>\n",
       "      <th>trestbps</th>\n",
       "      <th>chol</th>\n",
       "      <th>fbs</th>\n",
       "      <th>restecg</th>\n",
       "      <th>thalach</th>\n",
       "      <th>exang</th>\n",
       "      <th>oldpeak</th>\n",
       "      <th>slope</th>\n",
       "      <th>ca</th>\n",
       "      <th>thal</th>\n",
       "      <th>target</th>\n",
       "    </tr>\n",
       "  </thead>\n",
       "  <tbody>\n",
       "    <tr>\n",
       "      <th>0</th>\n",
       "      <td>-0.268674</td>\n",
       "      <td>0.661504</td>\n",
       "      <td>-0.915755</td>\n",
       "      <td>-0.377636</td>\n",
       "      <td>-0.659332</td>\n",
       "      <td>-0.418878</td>\n",
       "      <td>0.891255</td>\n",
       "      <td>0.820689</td>\n",
       "      <td>-0.712287</td>\n",
       "      <td>-0.060888</td>\n",
       "      <td>0.995433</td>\n",
       "      <td>1.209221</td>\n",
       "      <td>1.089852</td>\n",
       "      <td>-1.026698</td>\n",
       "    </tr>\n",
       "    <tr>\n",
       "      <th>1</th>\n",
       "      <td>-0.158385</td>\n",
       "      <td>0.661504</td>\n",
       "      <td>-0.915755</td>\n",
       "      <td>0.479107</td>\n",
       "      <td>-0.833861</td>\n",
       "      <td>2.387330</td>\n",
       "      <td>-1.004049</td>\n",
       "      <td>0.254953</td>\n",
       "      <td>1.403928</td>\n",
       "      <td>1.727137</td>\n",
       "      <td>-2.243675</td>\n",
       "      <td>-0.731971</td>\n",
       "      <td>1.089852</td>\n",
       "      <td>-1.026698</td>\n",
       "    </tr>\n",
       "    <tr>\n",
       "      <th>2</th>\n",
       "      <td>1.716520</td>\n",
       "      <td>0.661504</td>\n",
       "      <td>-0.915755</td>\n",
       "      <td>0.764688</td>\n",
       "      <td>-1.396233</td>\n",
       "      <td>-0.418878</td>\n",
       "      <td>0.891255</td>\n",
       "      <td>-1.050593</td>\n",
       "      <td>1.403928</td>\n",
       "      <td>1.301417</td>\n",
       "      <td>-2.243675</td>\n",
       "      <td>-0.731971</td>\n",
       "      <td>1.089852</td>\n",
       "      <td>-1.026698</td>\n",
       "    </tr>\n",
       "    <tr>\n",
       "      <th>3</th>\n",
       "      <td>0.723923</td>\n",
       "      <td>0.661504</td>\n",
       "      <td>-0.915755</td>\n",
       "      <td>0.936037</td>\n",
       "      <td>-0.833861</td>\n",
       "      <td>-0.418878</td>\n",
       "      <td>0.891255</td>\n",
       "      <td>0.516062</td>\n",
       "      <td>-0.712287</td>\n",
       "      <td>-0.912329</td>\n",
       "      <td>0.995433</td>\n",
       "      <td>0.238625</td>\n",
       "      <td>1.089852</td>\n",
       "      <td>-1.026698</td>\n",
       "    </tr>\n",
       "    <tr>\n",
       "      <th>4</th>\n",
       "      <td>0.834212</td>\n",
       "      <td>-1.511706</td>\n",
       "      <td>-0.915755</td>\n",
       "      <td>0.364875</td>\n",
       "      <td>0.930822</td>\n",
       "      <td>2.387330</td>\n",
       "      <td>0.891255</td>\n",
       "      <td>-1.877438</td>\n",
       "      <td>-0.712287</td>\n",
       "      <td>0.705408</td>\n",
       "      <td>-0.624121</td>\n",
       "      <td>2.179817</td>\n",
       "      <td>-0.522122</td>\n",
       "      <td>-1.026698</td>\n",
       "    </tr>\n",
       "    <tr>\n",
       "      <th>...</th>\n",
       "      <td>...</td>\n",
       "      <td>...</td>\n",
       "      <td>...</td>\n",
       "      <td>...</td>\n",
       "      <td>...</td>\n",
       "      <td>...</td>\n",
       "      <td>...</td>\n",
       "      <td>...</td>\n",
       "      <td>...</td>\n",
       "      <td>...</td>\n",
       "      <td>...</td>\n",
       "      <td>...</td>\n",
       "      <td>...</td>\n",
       "      <td>...</td>\n",
       "    </tr>\n",
       "    <tr>\n",
       "      <th>1020</th>\n",
       "      <td>0.503346</td>\n",
       "      <td>0.661504</td>\n",
       "      <td>0.055931</td>\n",
       "      <td>0.479107</td>\n",
       "      <td>-0.484803</td>\n",
       "      <td>-0.418878</td>\n",
       "      <td>0.891255</td>\n",
       "      <td>0.646617</td>\n",
       "      <td>1.403928</td>\n",
       "      <td>-0.912329</td>\n",
       "      <td>0.995433</td>\n",
       "      <td>-0.731971</td>\n",
       "      <td>-0.522122</td>\n",
       "      <td>0.973997</td>\n",
       "    </tr>\n",
       "    <tr>\n",
       "      <th>1021</th>\n",
       "      <td>0.613635</td>\n",
       "      <td>0.661504</td>\n",
       "      <td>-0.915755</td>\n",
       "      <td>-0.377636</td>\n",
       "      <td>0.232705</td>\n",
       "      <td>-0.418878</td>\n",
       "      <td>-1.004049</td>\n",
       "      <td>-0.354302</td>\n",
       "      <td>1.403928</td>\n",
       "      <td>1.471705</td>\n",
       "      <td>-0.624121</td>\n",
       "      <td>0.238625</td>\n",
       "      <td>1.089852</td>\n",
       "      <td>-1.026698</td>\n",
       "    </tr>\n",
       "    <tr>\n",
       "      <th>1022</th>\n",
       "      <td>-0.820116</td>\n",
       "      <td>0.661504</td>\n",
       "      <td>-0.915755</td>\n",
       "      <td>-1.234378</td>\n",
       "      <td>0.562371</td>\n",
       "      <td>-0.418878</td>\n",
       "      <td>-1.004049</td>\n",
       "      <td>-1.355220</td>\n",
       "      <td>1.403928</td>\n",
       "      <td>-0.060888</td>\n",
       "      <td>-0.624121</td>\n",
       "      <td>0.238625</td>\n",
       "      <td>-0.522122</td>\n",
       "      <td>-1.026698</td>\n",
       "    </tr>\n",
       "    <tr>\n",
       "      <th>1023</th>\n",
       "      <td>-0.489251</td>\n",
       "      <td>-1.511706</td>\n",
       "      <td>-0.915755</td>\n",
       "      <td>-1.234378</td>\n",
       "      <td>0.155137</td>\n",
       "      <td>-0.418878</td>\n",
       "      <td>-1.004049</td>\n",
       "      <td>0.429026</td>\n",
       "      <td>-0.712287</td>\n",
       "      <td>-0.912329</td>\n",
       "      <td>0.995433</td>\n",
       "      <td>-0.731971</td>\n",
       "      <td>-0.522122</td>\n",
       "      <td>0.973997</td>\n",
       "    </tr>\n",
       "    <tr>\n",
       "      <th>1024</th>\n",
       "      <td>-0.048097</td>\n",
       "      <td>0.661504</td>\n",
       "      <td>-0.915755</td>\n",
       "      <td>-0.663216</td>\n",
       "      <td>-1.124743</td>\n",
       "      <td>-0.418878</td>\n",
       "      <td>0.891255</td>\n",
       "      <td>-1.572811</td>\n",
       "      <td>-0.712287</td>\n",
       "      <td>0.279688</td>\n",
       "      <td>-0.624121</td>\n",
       "      <td>0.238625</td>\n",
       "      <td>1.089852</td>\n",
       "      <td>-1.026698</td>\n",
       "    </tr>\n",
       "  </tbody>\n",
       "</table>\n",
       "<p>1025 rows × 14 columns</p>\n",
       "</div>"
      ],
      "text/plain": [
       "           age       sex        cp  trestbps      chol       fbs   restecg  \\\n",
       "0    -0.268674  0.661504 -0.915755 -0.377636 -0.659332 -0.418878  0.891255   \n",
       "1    -0.158385  0.661504 -0.915755  0.479107 -0.833861  2.387330 -1.004049   \n",
       "2     1.716520  0.661504 -0.915755  0.764688 -1.396233 -0.418878  0.891255   \n",
       "3     0.723923  0.661504 -0.915755  0.936037 -0.833861 -0.418878  0.891255   \n",
       "4     0.834212 -1.511706 -0.915755  0.364875  0.930822  2.387330  0.891255   \n",
       "...        ...       ...       ...       ...       ...       ...       ...   \n",
       "1020  0.503346  0.661504  0.055931  0.479107 -0.484803 -0.418878  0.891255   \n",
       "1021  0.613635  0.661504 -0.915755 -0.377636  0.232705 -0.418878 -1.004049   \n",
       "1022 -0.820116  0.661504 -0.915755 -1.234378  0.562371 -0.418878 -1.004049   \n",
       "1023 -0.489251 -1.511706 -0.915755 -1.234378  0.155137 -0.418878 -1.004049   \n",
       "1024 -0.048097  0.661504 -0.915755 -0.663216 -1.124743 -0.418878  0.891255   \n",
       "\n",
       "       thalach     exang   oldpeak     slope        ca      thal    target  \n",
       "0     0.820689 -0.712287 -0.060888  0.995433  1.209221  1.089852 -1.026698  \n",
       "1     0.254953  1.403928  1.727137 -2.243675 -0.731971  1.089852 -1.026698  \n",
       "2    -1.050593  1.403928  1.301417 -2.243675 -0.731971  1.089852 -1.026698  \n",
       "3     0.516062 -0.712287 -0.912329  0.995433  0.238625  1.089852 -1.026698  \n",
       "4    -1.877438 -0.712287  0.705408 -0.624121  2.179817 -0.522122 -1.026698  \n",
       "...        ...       ...       ...       ...       ...       ...       ...  \n",
       "1020  0.646617  1.403928 -0.912329  0.995433 -0.731971 -0.522122  0.973997  \n",
       "1021 -0.354302  1.403928  1.471705 -0.624121  0.238625  1.089852 -1.026698  \n",
       "1022 -1.355220  1.403928 -0.060888 -0.624121  0.238625 -0.522122 -1.026698  \n",
       "1023  0.429026 -0.712287 -0.912329  0.995433 -0.731971 -0.522122  0.973997  \n",
       "1024 -1.572811 -0.712287  0.279688 -0.624121  0.238625  1.089852 -1.026698  \n",
       "\n",
       "[1025 rows x 14 columns]"
      ]
     },
     "execution_count": 20,
     "metadata": {},
     "output_type": "execute_result"
    }
   ],
   "source": [
    "cardio.apply(stats.zscore)"
   ]
  },
  {
   "cell_type": "code",
   "execution_count": 21,
   "id": "30aee56d",
   "metadata": {},
   "outputs": [
    {
     "data": {
      "text/html": [
       "<div>\n",
       "<style scoped>\n",
       "    .dataframe tbody tr th:only-of-type {\n",
       "        vertical-align: middle;\n",
       "    }\n",
       "\n",
       "    .dataframe tbody tr th {\n",
       "        vertical-align: top;\n",
       "    }\n",
       "\n",
       "    .dataframe thead th {\n",
       "        text-align: right;\n",
       "    }\n",
       "</style>\n",
       "<table border=\"1\" class=\"dataframe\">\n",
       "  <thead>\n",
       "    <tr style=\"text-align: right;\">\n",
       "      <th></th>\n",
       "      <th>A</th>\n",
       "      <th>B</th>\n",
       "      <th>C</th>\n",
       "    </tr>\n",
       "  </thead>\n",
       "  <tbody>\n",
       "    <tr>\n",
       "      <th>0</th>\n",
       "      <td>9</td>\n",
       "      <td>7</td>\n",
       "      <td>4</td>\n",
       "    </tr>\n",
       "    <tr>\n",
       "      <th>1</th>\n",
       "      <td>2</td>\n",
       "      <td>2</td>\n",
       "      <td>3</td>\n",
       "    </tr>\n",
       "    <tr>\n",
       "      <th>2</th>\n",
       "      <td>5</td>\n",
       "      <td>8</td>\n",
       "      <td>6</td>\n",
       "    </tr>\n",
       "    <tr>\n",
       "      <th>3</th>\n",
       "      <td>7</td>\n",
       "      <td>0</td>\n",
       "      <td>6</td>\n",
       "    </tr>\n",
       "    <tr>\n",
       "      <th>4</th>\n",
       "      <td>5</td>\n",
       "      <td>0</td>\n",
       "      <td>0</td>\n",
       "    </tr>\n",
       "  </tbody>\n",
       "</table>\n",
       "</div>"
      ],
      "text/plain": [
       "   A  B  C\n",
       "0  9  7  4\n",
       "1  2  2  3\n",
       "2  5  8  6\n",
       "3  7  0  6\n",
       "4  5  0  0"
      ]
     },
     "execution_count": 21,
     "metadata": {},
     "output_type": "execute_result"
    }
   ],
   "source": [
    "data = pd.DataFrame(np.random.randint(0, 10, size=(5, 3)), columns=['A', 'B', 'C'])\n",
    "data\n",
    "\n",
    "  "
   ]
  },
  {
   "cell_type": "code",
   "execution_count": 22,
   "id": "e721b5b5",
   "metadata": {},
   "outputs": [],
   "source": [
    "#We can use the apply function to calculate the z-score of individual values by column:"
   ]
  },
  {
   "cell_type": "code",
   "execution_count": 23,
   "id": "a46e8c2a",
   "metadata": {},
   "outputs": [
    {
     "data": {
      "text/html": [
       "<div>\n",
       "<style scoped>\n",
       "    .dataframe tbody tr th:only-of-type {\n",
       "        vertical-align: middle;\n",
       "    }\n",
       "\n",
       "    .dataframe tbody tr th {\n",
       "        vertical-align: top;\n",
       "    }\n",
       "\n",
       "    .dataframe thead th {\n",
       "        text-align: right;\n",
       "    }\n",
       "</style>\n",
       "<table border=\"1\" class=\"dataframe\">\n",
       "  <thead>\n",
       "    <tr style=\"text-align: right;\">\n",
       "      <th></th>\n",
       "      <th>A</th>\n",
       "      <th>B</th>\n",
       "      <th>C</th>\n",
       "    </tr>\n",
       "  </thead>\n",
       "  <tbody>\n",
       "    <tr>\n",
       "      <th>0</th>\n",
       "      <td>1.457738</td>\n",
       "      <td>1.046229</td>\n",
       "      <td>0.089803</td>\n",
       "    </tr>\n",
       "    <tr>\n",
       "      <th>1</th>\n",
       "      <td>-1.543487</td>\n",
       "      <td>-0.406867</td>\n",
       "      <td>-0.359211</td>\n",
       "    </tr>\n",
       "    <tr>\n",
       "      <th>2</th>\n",
       "      <td>-0.257248</td>\n",
       "      <td>1.336848</td>\n",
       "      <td>0.987829</td>\n",
       "    </tr>\n",
       "    <tr>\n",
       "      <th>3</th>\n",
       "      <td>0.600245</td>\n",
       "      <td>-0.988105</td>\n",
       "      <td>0.987829</td>\n",
       "    </tr>\n",
       "    <tr>\n",
       "      <th>4</th>\n",
       "      <td>-0.257248</td>\n",
       "      <td>-0.988105</td>\n",
       "      <td>-1.706250</td>\n",
       "    </tr>\n",
       "  </tbody>\n",
       "</table>\n",
       "</div>"
      ],
      "text/plain": [
       "          A         B         C\n",
       "0  1.457738  1.046229  0.089803\n",
       "1 -1.543487 -0.406867 -0.359211\n",
       "2 -0.257248  1.336848  0.987829\n",
       "3  0.600245 -0.988105  0.987829\n",
       "4 -0.257248 -0.988105 -1.706250"
      ]
     },
     "execution_count": 23,
     "metadata": {},
     "output_type": "execute_result"
    }
   ],
   "source": [
    "data.apply(stats.zscore)"
   ]
  },
  {
   "cell_type": "markdown",
   "id": "590cdc61",
   "metadata": {},
   "source": [
    "# Confidence Intervals Using the Normal Distribution"
   ]
  },
  {
   "cell_type": "code",
   "execution_count": 24,
   "id": "11c78c80",
   "metadata": {},
   "outputs": [
    {
     "data": {
      "text/plain": [
       "'Confidence Intervals Using the Normal Distribution\\nIf we’re working with larger samples (n≥30), we can assume that the sampling distribution of the sample mean is \\nnormally distributed (thanks to the Central Limit Theorem) and can instead use the norm.interval() function from \\nthe scipy.stats library.'"
      ]
     },
     "execution_count": 24,
     "metadata": {},
     "output_type": "execute_result"
    }
   ],
   "source": [
    "\"\"\"Confidence Intervals Using the Normal Distribution\n",
    "If we’re working with larger samples (n≥30), we can assume that the \n",
    "sampling distribution of the sample mean is \n",
    "normally distributed (thanks to the Central Limit Theorem) and \n",
    "can instead use the norm.interval() function from \n",
    "the scipy.stats library.\"\"\""
   ]
  },
  {
   "cell_type": "code",
   "execution_count": 25,
   "id": "261bd792",
   "metadata": {},
   "outputs": [
    {
     "data": {
      "text/plain": [
       "'The following example shows how to calculate a confidence interval for the true population mean height (in inches) \\nof a certain species of plant, using a sample of 50 plants:'"
      ]
     },
     "execution_count": 25,
     "metadata": {},
     "output_type": "execute_result"
    }
   ],
   "source": [
    "\"\"\"The following example shows how to calculate a confidence interval for the \n",
    "true population mean height (in inches) \n",
    "of a certain species of plant, using a sample of 50 plants:\"\"\""
   ]
  },
  {
   "cell_type": "code",
   "execution_count": 26,
   "id": "3b2aa20d",
   "metadata": {},
   "outputs": [
    {
     "data": {
      "text/plain": [
       "(17.400060940568054, 21.079939059431943)"
      ]
     },
     "execution_count": 26,
     "metadata": {},
     "output_type": "execute_result"
    }
   ],
   "source": [
    "import numpy as np\n",
    "import scipy.stats as st\n",
    "\n",
    "#define sample data\n",
    "np.random.seed(0)\n",
    "data = np.random.randint(10, 30, 50)\n",
    "\n",
    "#create 95% confidence interval for population mean weight\n",
    "st.norm.interval(alpha=0.95, loc=np.mean(data), scale=st.sem(data))"
   ]
  },
  {
   "cell_type": "code",
   "execution_count": 27,
   "id": "7a66d6fe",
   "metadata": {},
   "outputs": [],
   "source": [
    "#The 95% confidence interval for the true population mean height is (17.40, 21.08)."
   ]
  },
  {
   "cell_type": "code",
   "execution_count": null,
   "id": "4a0b2a26",
   "metadata": {},
   "outputs": [],
   "source": []
  },
  {
   "cell_type": "code",
   "execution_count": 28,
   "id": "88d87447",
   "metadata": {},
   "outputs": [
    {
     "data": {
      "text/plain": [
       "'And similar to the t distribution, larger confidence levels lead to wider confidence intervals. \\nFor example, here’s how to calculate a 99% C.I. for the exact same data:'"
      ]
     },
     "execution_count": 28,
     "metadata": {},
     "output_type": "execute_result"
    }
   ],
   "source": [
    "\"\"\"And similar to the t distribution, larger confidence levels lead to wider confidence intervals. \n",
    "For example, here’s how to calculate a 99% C.I. for the exact same data:\"\"\""
   ]
  },
  {
   "cell_type": "code",
   "execution_count": 29,
   "id": "edeba954",
   "metadata": {},
   "outputs": [
    {
     "data": {
      "text/plain": [
       "(16.821910186405187, 21.65808981359481)"
      ]
     },
     "execution_count": 29,
     "metadata": {},
     "output_type": "execute_result"
    }
   ],
   "source": [
    "#create 99% confidence interval for same sample\n",
    "st.norm.interval(alpha=0.99, loc=np.mean(data), scale=st.sem(data))"
   ]
  },
  {
   "cell_type": "code",
   "execution_count": 30,
   "id": "789619df",
   "metadata": {},
   "outputs": [],
   "source": [
    "#The 95% confidence interval for the true population mean height is (16.82, 21.65)."
   ]
  },
  {
   "cell_type": "code",
   "execution_count": 31,
   "id": "39e53de3",
   "metadata": {},
   "outputs": [
    {
     "data": {
      "text/plain": [
       "'The way to interpret this confidence interval is as follows:\\n\\nThere is a 95% chance that the confidence interval of [17.40, 21.07] contains the true population mean height of plants.\\n\\nAnother way of saying the same thing is that there is only a 5% chance that the true population mean \\nlies outside of the 95% confidence interval. That is, there’s only a 5% chance that the true population mean \\nheight of plants is less than 17.40 inches or greater than 21.07 inches.'"
      ]
     },
     "execution_count": 31,
     "metadata": {},
     "output_type": "execute_result"
    }
   ],
   "source": [
    "\"\"\"The way to interpret this confidence interval is as follows:\n",
    "\n",
    "There is a 95% chance that the confidence interval of [17.40, 21.07] \n",
    "contains the true population mean height of plants.\n",
    "\n",
    "Another way of saying the same thing is that there is only a 5% chance \n",
    "that the true population mean \n",
    "lies outside of the 95% confidence interval. That is, there’s only a \n",
    "5% chance that the true population mean \n",
    "height of plants is less than 17.40 inches or greater than 21.07 inches.\"\"\"\n",
    "\n"
   ]
  },
  {
   "cell_type": "code",
   "execution_count": 32,
   "id": "33dd19fb",
   "metadata": {},
   "outputs": [],
   "source": []
  }
 ],
 "metadata": {
  "kernelspec": {
   "display_name": "Python 3 (ipykernel)",
   "language": "python",
   "name": "python3"
  },
  "language_info": {
   "codemirror_mode": {
    "name": "ipython",
    "version": 3
   },
   "file_extension": ".py",
   "mimetype": "text/x-python",
   "name": "python",
   "nbconvert_exporter": "python",
   "pygments_lexer": "ipython3",
   "version": "3.9.7"
  }
 },
 "nbformat": 4,
 "nbformat_minor": 5
}
