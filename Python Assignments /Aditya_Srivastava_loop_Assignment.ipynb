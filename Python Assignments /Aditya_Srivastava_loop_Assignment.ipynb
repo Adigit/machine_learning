{
 "cells": [
  {
   "cell_type": "markdown",
   "id": "50e87b7e",
   "metadata": {},
   "source": [
    "# W. A P. which takes one number from 0 to 9 from the user and prints it in the word. And if the word is not from 0 to 9 then it should print that number is outside of the range and program should exit.\n",
    "\n",
    "\n"
   ]
  },
  {
   "cell_type": "code",
   "execution_count": 19,
   "id": "26890918",
   "metadata": {},
   "outputs": [
    {
     "name": "stdout",
     "output_type": "stream",
     "text": [
      "Enter input value : 1\n",
      "one\n",
      "Enter input value : 11\n",
      "Number is outside the range\n"
     ]
    }
   ],
   "source": [
    "mapping = {0: 'zero',1: 'one', 2: 'two', 3: 'three', 4: 'four', 5: 'five', 6: 'six', 7: 'seven', 8: 'eight', 9: 'nine'}\n",
    "\n",
    "def takeUserInput():\n",
    "    number = input(\"Enter input value : \")\n",
    "    if number.isdigit():\n",
    "        return int(number)\n",
    "    else:\n",
    "        return -1\n",
    "        \n",
    "def printInWords():\n",
    "    number = takeUserInput()\n",
    "    while(number >= 0 and number <= 9):\n",
    "        print(mapping[number])\n",
    "        number = takeUserInput()\n",
    "    print('Number is outside the range')\n",
    "\n",
    "printInWords()"
   ]
  },
  {
   "cell_type": "markdown",
   "id": "62a49c8b",
   "metadata": {},
   "source": [
    "# W. A P. to implement calculator but the operation to be done and two numbers will be taken as input from user \n",
    "\n",
    "- Operation console should show below:-\n",
    "- Please select any one operation ​from​ below:-\n",
    "    - To add enter ​1\n",
    "    - to subtract enter ​2\n",
    "    - To multiply enter ​3\n",
    "    - To divide enter ​4\n",
    "    - To divide ​and​ find quotient enter ​5\n",
    "    - To divide ​and​ find remainder enter ​6\n",
    "    - To divide ​and​ find num1 to the power of num2 enter ​7 \n",
    "    - To Come out of the program enter ​8"
   ]
  },
  {
   "cell_type": "code",
   "execution_count": 24,
   "id": "cabd91b2",
   "metadata": {},
   "outputs": [
    {
     "name": "stdout",
     "output_type": "stream",
     "text": [
      "Enter first number : 10\n",
      "Enter second number : 4\n",
      "Enter operation : 6\n",
      "2\n",
      "Enter first number : 10\n",
      "Enter second number : 6\n",
      "Enter operation : 5\n",
      "1\n",
      "Enter first number : 10\n",
      "Enter second number : 6\n",
      "Enter operation : 4\n",
      "1.6666666666666667\n",
      "Enter first number : 10\n",
      "Enter second number : 12\n",
      "Enter operation : 8\n"
     ]
    }
   ],
   "source": [
    "def calculator():\n",
    "    while(True):\n",
    "        x = int(input(\"Enter first number : \"))\n",
    "        y = int(input(\"Enter second number : \"))\n",
    "        op = int(input(\"Enter operation : \"))\n",
    "        if op == 8:\n",
    "            return\n",
    "        elif op == 1:\n",
    "            print(x + y)\n",
    "        elif op == 2:\n",
    "            print(x - y)\n",
    "        elif op == 3:\n",
    "            print(x*y)\n",
    "        elif op == 4:\n",
    "            print(x/y)\n",
    "        elif op == 5:\n",
    "            print(int(x/y))\n",
    "        elif op == 6:\n",
    "            print(x%y)\n",
    "        elif op == 7:\n",
    "            print(x**y)\n",
    "\n",
    "        \n",
    "calculator()\n",
    "            \n",
    "# Enter first number : 10\n",
    "# Enter second number : 4\n",
    "# Enter operation : 6\n",
    "# 2\n",
    "\n",
    "# Enter first number : 10\n",
    "# Enter second number : 6\n",
    "# Enter operation : 5\n",
    "# 1\n",
    "\n",
    "# Enter first number : 10\n",
    "# Enter second number : 6\n",
    "# Enter operation : 4\n",
    "# 1.6666666666666667\n",
    "\n",
    "# Enter first number : 10\n",
    "# Enter second number : 12\n",
    "# Enter operation : 8  "
   ]
  },
  {
   "cell_type": "markdown",
   "id": "2afeb3f3",
   "metadata": {},
   "source": [
    "# W A P to check whether a year entered by user ​is​ an leap year ​or​ ​not​?\n",
    "- Check ​with​ below input:-\n",
    "    - leap year:- ​2012​, ​1968​, ​2004​, ​1200​, ​1600​,​2400 \n",
    "    - Non-lear year:- ​1971​, ​2006​, ​1700​,​1800​,​1900"
   ]
  },
  {
   "cell_type": "code",
   "execution_count": 37,
   "id": "2c351c2f",
   "metadata": {},
   "outputs": [
    {
     "name": "stdout",
     "output_type": "stream",
     "text": [
      "Enter Year : 1990\n",
      "Non Leap Year\n"
     ]
    }
   ],
   "source": [
    "def isLeapYear(year):\n",
    "    if year % 4 == 0:\n",
    "        print('Leap Year')\n",
    "    else:\n",
    "        print('Non Leap Year')\n",
    "        \n",
    "year = int(input(\"Enter Year : \"))\n",
    "\n",
    "isLeapYear(year)\n",
    "    "
   ]
  },
  {
   "cell_type": "markdown",
   "id": "83600cc2",
   "metadata": {},
   "source": [
    "# W A P which takes one number ​from​ the user ​and​ checks whether it ​is an even ​or​ odd number?, If it even then prints number ​iseven number ​else​ prints that number ​is​ odd number."
   ]
  },
  {
   "cell_type": "code",
   "execution_count": 36,
   "id": "f0d7065d",
   "metadata": {},
   "outputs": [
    {
     "name": "stdout",
     "output_type": "stream",
     "text": [
      "Enter number : 13\n",
      "Odd\n"
     ]
    }
   ],
   "source": [
    "def isEven(number):\n",
    "    if number % 2 == 0:\n",
    "        print('Even')\n",
    "    else:\n",
    "        print('Odd')\n",
    "        \n",
    "number = int(input(\"Enter number : \"))\n",
    "\n",
    "isEven(number)"
   ]
  },
  {
   "cell_type": "markdown",
   "id": "ad7d2cb3",
   "metadata": {},
   "source": [
    "# W A P which takes two numbers ​from​ the user ​and​ prints below output:-\n",
    "\n",
    "- 1​. num1 ​is​ greater than num2 ​if​ num1 ​is​ greater than num2 \n",
    "- ​2​. num1 ​is​ smaller than num2 ​if​ num1 ​is​ smaller than num2 \n",
    "- ​3​. num1 ​is​ equal to num2 ​if​ num1 ​and​ num2 are equal\n",
    "\n",
    "Note:- ​1​. Do this problem using ​if​ - ​else ​2​. Do this using ternary operator"
   ]
  },
  {
   "cell_type": "code",
   "execution_count": 41,
   "id": "3cfabf46",
   "metadata": {},
   "outputs": [
    {
     "name": "stdout",
     "output_type": "stream",
     "text": [
      "Enter first number : 10\n",
      "Enter second number : 8\n",
      "10\n"
     ]
    }
   ],
   "source": [
    "def isEqual(x,y):\n",
    "    if (x ==y):\n",
    "        print(x)\n",
    "    else:\n",
    "        print(x) if x > y else print(y)\n",
    "        \n",
    "        \n",
    "x = int(input(\"Enter first number : \"))\n",
    "y = int(input(\"Enter second number : \"))\n",
    "isEqual(x,y)"
   ]
  },
  {
   "cell_type": "markdown",
   "id": "c8df6877",
   "metadata": {},
   "source": [
    "# W A P which takes three numbers ​from​ the user ​and​ prints below output:-\n",
    "- 1​. num1 ​is​ greater than num2 ​and​ num3 ​if​ num1 ​is​ greater than num2 and​ num3\n",
    "- 2​. num2 ​is​ greater than num1 ​and​ num3 ​if​ num2 ​is​ greater than num1 and​ num3\n",
    "- 3​. num3 ​is​ greater than num1 ​and​ num2 ​if​ num3 ​is​ greater than num1 and​ num2\n",
    "\n",
    "Note:- \n",
    "- 1​. Do this problem using ​if​ - ​elif​ - ​else '\n",
    "- 2​. Do this using ternary operator\n",
    "\n",
    "    - a = a ​if​ a>b ​else​ b"
   ]
  },
  {
   "cell_type": "code",
   "execution_count": 8,
   "id": "fa44250c",
   "metadata": {},
   "outputs": [
    {
     "name": "stdout",
     "output_type": "stream",
     "text": [
      "Enter first number : 10\n",
      "Enter second number : 10\n",
      "Enter third number : 10\n",
      " All numbers are same\n"
     ]
    }
   ],
   "source": [
    "# USING IF - ELIF - ELSE\n",
    "def isEqual(x,y,z):\n",
    "    if (x > y) and (x > z):\n",
    "        print(x)\n",
    "    elif (y > x) and (y > z):\n",
    "        print(y)\n",
    "    elif (z > x) and (z > y):\n",
    "        print(z)\n",
    "    else:\n",
    "        print(x)\n",
    "\n",
    "        \n",
    "x = int(input(\"Enter first number : \"))\n",
    "y = int(input(\"Enter second number : \"))\n",
    "z = int(input(\"Enter third number : \"))\n",
    "isEqual(x,y,z)      \n"
   ]
  },
  {
   "cell_type": "code",
   "execution_count": 12,
   "id": "9d7c751f",
   "metadata": {},
   "outputs": [
    {
     "name": "stdout",
     "output_type": "stream",
     "text": [
      "Enter first number : 3\n",
      "Enter second number : 3\n",
      "Enter third number : 3\n",
      "3\n"
     ]
    }
   ],
   "source": [
    "# USING TERNARY OPERATOR\n",
    "def isEqual(x,y,z):\n",
    "    print(x) if ((x > y) and (x > z)) else print(y) if ((y > x) and (y > z)) else print(z)\n",
    "        \n",
    "x = int(input(\"Enter first number : \"))\n",
    "y = int(input(\"Enter second number : \"))\n",
    "z = int(input(\"Enter third number : \"))\n",
    "isEqual(x,y,z)"
   ]
  },
  {
   "cell_type": "markdown",
   "id": "b3edf810",
   "metadata": {},
   "source": [
    "# Write a Python program to find the length of the my_str using loop:-"
   ]
  },
  {
   "cell_type": "code",
   "execution_count": 13,
   "id": "454edfdb",
   "metadata": {},
   "outputs": [
    {
     "data": {
      "text/plain": [
       "55"
      ]
     },
     "execution_count": 13,
     "metadata": {},
     "output_type": "execute_result"
    }
   ],
   "source": [
    "def stringLength(string):\n",
    "    count = 0\n",
    "    for i in string:\n",
    "        count += 1\n",
    "    return count\n",
    "\n",
    "\n",
    "stringLength('Write a Python program to find the length of the my_str') # 55"
   ]
  },
  {
   "cell_type": "markdown",
   "id": "57de0e2f",
   "metadata": {},
   "source": [
    "# Write a Python program to find the total number of times letter ​'p' is​ appeared ​in​ the below string using loop:-"
   ]
  },
  {
   "cell_type": "code",
   "execution_count": 14,
   "id": "b18b779e",
   "metadata": {},
   "outputs": [
    {
     "data": {
      "text/plain": [
       "9"
      ]
     },
     "execution_count": 14,
     "metadata": {},
     "output_type": "execute_result"
    }
   ],
   "source": [
    "def countCharaterInString(string, char):\n",
    "    count = 0\n",
    "    for i in string:\n",
    "        if i == char:\n",
    "            count += 1\n",
    "    return count\n",
    "\n",
    "countCharaterInString('peter piper picked a peck of pickled peppers.\\n', 'p') # 9"
   ]
  },
  {
   "cell_type": "markdown",
   "id": "7009da19",
   "metadata": {},
   "source": [
    "# ​Write a Python Program, to print all the indexes of all occurences of letter ​'p'​ appeared ​in​ the string using loop:-"
   ]
  },
  {
   "cell_type": "code",
   "execution_count": 20,
   "id": "0f1f41ef",
   "metadata": {
    "scrolled": true
   },
   "outputs": [
    {
     "name": "stdout",
     "output_type": "stream",
     "text": [
      "0\n",
      "6\n",
      "8\n",
      "12\n",
      "21\n",
      "29\n",
      "37\n",
      "39\n",
      "40\n"
     ]
    }
   ],
   "source": [
    "def printGivenCharaterInString(string, char):\n",
    "    for i,j in enumerate(string):\n",
    "        if j == char:\n",
    "            print(i)\n",
    "\n",
    "            \n",
    "printGivenCharaterInString('peter piper picked a peck of pickled peppers.', 'p')\n",
    "# 0\n",
    "# 6\n",
    "# 8\n",
    "# 12\n",
    "# 21\n",
    "# 29\n",
    "# 37\n",
    "# 39\n",
    "# 40"
   ]
  },
  {
   "cell_type": "markdown",
   "id": "f3545f3e",
   "metadata": {},
   "source": [
    "# Write a python program to find below output using loop:-\n",
    "- Input:- ​'peter piper picked a peck of pickled peppers.'\n",
    "- Output:- [​'peter'​, ​'piper'​, ​'picked'​, ​'a'​, ​'peck'​, ​'of'​, ​'pickled'​, 'peppers'​]"
   ]
  },
  {
   "cell_type": "code",
   "execution_count": 22,
   "id": "6009a6d8",
   "metadata": {},
   "outputs": [
    {
     "data": {
      "text/plain": [
       "['peter', 'piper', 'picked', 'a', 'peck', 'of', 'pickled']"
      ]
     },
     "execution_count": 22,
     "metadata": {},
     "output_type": "execute_result"
    }
   ],
   "source": [
    "def splitInWords(string):\n",
    "    final_list = []\n",
    "    word = \"\"\n",
    "    for i in string:\n",
    "        if i != ' ':\n",
    "            word += i\n",
    "        else:\n",
    "            final_list.append(word)\n",
    "            word = \"\"\n",
    "    return final_list\n",
    "\n",
    "splitInWords('peter piper picked a peck of pickled peppers.')\n",
    "# ['peter', 'piper', 'picked', 'a', 'peck', 'of', 'pickled']"
   ]
  },
  {
   "cell_type": "markdown",
   "id": "c272ab0a",
   "metadata": {},
   "source": [
    "# Write a python program to find below output using loop:-\n",
    "- Input:- ​'peter piper picked a peck of pickled peppers.' \n",
    "- Output:- ​'peppers pickled of peck a picked piper peter'"
   ]
  },
  {
   "cell_type": "code",
   "execution_count": 23,
   "id": "3e2db370",
   "metadata": {},
   "outputs": [
    {
     "ename": "AttributeError",
     "evalue": "'list' object has no attribute 'push'",
     "output_type": "error",
     "traceback": [
      "\u001b[0;31m---------------------------------------------------------------------------\u001b[0m",
      "\u001b[0;31mAttributeError\u001b[0m                            Traceback (most recent call last)",
      "Input \u001b[0;32mIn [23]\u001b[0m, in \u001b[0;36m<cell line: 12>\u001b[0;34m()\u001b[0m\n\u001b[1;32m      9\u001b[0m             word \u001b[38;5;241m=\u001b[39m \u001b[38;5;124m\"\u001b[39m\u001b[38;5;124m\"\u001b[39m\n\u001b[1;32m     10\u001b[0m     \u001b[38;5;28;01mreturn\u001b[39;00m final_list\n\u001b[0;32m---> 12\u001b[0m \u001b[43mreverseWordsInString\u001b[49m\u001b[43m(\u001b[49m\u001b[38;5;124;43m'\u001b[39;49m\u001b[38;5;124;43mpeter piper picked a peck of pickled peppers.\u001b[39;49m\u001b[38;5;124;43m'\u001b[39;49m\u001b[43m)\u001b[49m\n",
      "Input \u001b[0;32mIn [23]\u001b[0m, in \u001b[0;36mreverseWordsInString\u001b[0;34m(string)\u001b[0m\n\u001b[1;32m      6\u001b[0m         word \u001b[38;5;241m+\u001b[39m\u001b[38;5;241m=\u001b[39m i\n\u001b[1;32m      7\u001b[0m     \u001b[38;5;28;01melse\u001b[39;00m:\n\u001b[0;32m----> 8\u001b[0m         \u001b[43mfinal_list\u001b[49m\u001b[38;5;241;43m.\u001b[39;49m\u001b[43mpush\u001b[49m(word)\n\u001b[1;32m      9\u001b[0m         word \u001b[38;5;241m=\u001b[39m \u001b[38;5;124m\"\u001b[39m\u001b[38;5;124m\"\u001b[39m\n\u001b[1;32m     10\u001b[0m \u001b[38;5;28;01mreturn\u001b[39;00m final_list\n",
      "\u001b[0;31mAttributeError\u001b[0m: 'list' object has no attribute 'push'"
     ]
    }
   ],
   "source": [
    "def reverseWordsInString(string):\n",
    "    final_list = []\n",
    "    word = \"\"\n",
    "    for i in string:\n",
    "        if i != ' ':\n",
    "            word += i\n",
    "        else:\n",
    "            final_list.push(word)\n",
    "            word = \"\"\n",
    "    return final_list\n",
    "\n",
    "reverseWordsInString('peter piper picked a peck of pickled peppers.')"
   ]
  },
  {
   "cell_type": "code",
   "execution_count": 49,
   "id": "5dc993bd",
   "metadata": {},
   "outputs": [
    {
     "name": "stdout",
     "output_type": "stream",
     "text": [
      "1\n",
      "2\n",
      "----\n"
     ]
    },
    {
     "data": {
      "text/plain": [
       "4"
      ]
     },
     "execution_count": 49,
     "metadata": {},
     "output_type": "execute_result"
    }
   ],
   "source": [
    "# def minJumps(arr, n):\n",
    "#     #code here\n",
    "#     if arr[0] == 0:\n",
    "#         return -1\n",
    "#     i = 0\n",
    "#     jumps = 0\n",
    "#     while(i < len(arr) - 1):        \n",
    "#         endIndex = i + arr[i]\n",
    "#         startIndex = i + 1\n",
    "#         maxIndex = i\n",
    "# #         print(i)\n",
    "#         while(startIndex <= endIndex and startIndex < len(arr)):\n",
    "#             if (maxIndex < startIndex + arr[startIndex]):\n",
    "#                 maxIndex = startIndex\n",
    "#             startIndex += 1\n",
    "#         i = maxIndex\n",
    "#         print(i)\n",
    "#         jumps += 1\n",
    "#     return jumps\n",
    "\n",
    "def minJumps(arr, n):\n",
    "    #code here\n",
    "    if arr[0] == 0:\n",
    "        return -1\n",
    "    step = arr[0]\n",
    "    jumps = 1\n",
    "    maxJumpIndex = 0\n",
    "    maxJumpSoFar = arr[maxJumpIndex]\n",
    "    for i in range(0,n):\n",
    "        if arr[i] + i >= n-1:\n",
    "            if step == 0:\n",
    "                return jumps + 1\n",
    "            else:\n",
    "                return jumps + 2\n",
    "        if step == 0:\n",
    "            if maxJumpSoFar < arr[i] + i:\n",
    "                maxJumpIndex = i\n",
    "                maxJumpSoFar = arr[i] + i\n",
    "            step = arr[maxJumpIndex]\n",
    "            jumps += 1\n",
    "            print(i)\n",
    "            print(jumps)\n",
    "            print('----')\n",
    "        elif maxJumpSoFar < arr[i] + i:\n",
    "            maxJumpIndex = i\n",
    "            maxJumpSoFar = arr[i] + i\n",
    "        step -= 1\n",
    "    #print(jumps)\n",
    "    return -1\n",
    "\n",
    "#minJumps([1, 1, 1, 1, 1,],5)\n",
    "#minJumps([1, 3, 5, 8, 9, 2, 6, 7, 6, 8, 9], 10)\n",
    "#minJumps([2, 3, 1, 1, 2, 4, 2, 0, 1, 1], 10)"
   ]
  },
  {
   "cell_type": "code",
   "execution_count": 34,
   "id": "f2b7e039",
   "metadata": {},
   "outputs": [
    {
     "name": "stdout",
     "output_type": "stream",
     "text": [
      "Minimum number of jumps to reach end is  6\n"
     ]
    }
   ],
   "source": [
    "# Python program to illustrate Minimum\n",
    "# number of jumps to reach end\n",
    "\n",
    "# Returns minimum number of jumps\n",
    "# to reach arr[n-1] from arr[0]\n",
    "\n",
    "\n",
    "def minJumps(arr, n):\n",
    "\n",
    "\t# The number of jumps needed to\n",
    "\t# reach the starting index is 0\n",
    "\tif (n <= 1):\n",
    "\t\treturn 0\n",
    "\n",
    "\t# Return -1 if not possible to jump\n",
    "\tif (arr[0] == 0):\n",
    "\t\treturn -1\n",
    "\n",
    "\t# Stores the number of jumps\n",
    "\t# necessary to reach that maximal\n",
    "\t# reachable position.\n",
    "\tjump = 1\n",
    "\n",
    "\t# Stores the subarray last index\n",
    "\tsubArrEndIndex = arr[0]\n",
    "\n",
    "\ti = 1\n",
    "\n",
    "\t# Maximum steps covers in\n",
    "\t# first half of sub array\n",
    "\tsubArrFistHalfMaxSteps = 0\n",
    "\n",
    "\t# Maximum steps covers\n",
    "\t# in second half of sub array\n",
    "\tsubArrSecondHalfMaxSteps = 0\n",
    "\n",
    "\t# Start traversing array\n",
    "\tfor i in range(1, n):\n",
    "\n",
    "\t\tsubArrEndIndex = i + subArrEndIndex\n",
    "\n",
    "\t\t# Check if we have reached\n",
    "\t\t# the end of the array\n",
    "\t\tif (subArrEndIndex >= n):\n",
    "\t\t\treturn jump\n",
    "\n",
    "\t\tfirstHalfMaxStepIndex = 0\n",
    "\n",
    "\t\t# Iterate the sub array\n",
    "\t\t# and find out the maxsteps\n",
    "\t\t# cover index\n",
    "\t\tj = i\n",
    "\t\tfor j in range(i, subArrEndIndex):\n",
    "\t\t\tstepsCanCover = arr[j] + j\n",
    "\t\t\tif (subArrFistHalfMaxSteps < stepsCanCover):\n",
    "\t\t\t\tsubArrFistHalfMaxSteps = stepsCanCover\n",
    "\t\t\t\tsubArrSecondHalfMaxSteps = 0\n",
    "\t\t\t\tfirstHalfMaxStepIndex = j\n",
    "\t\t\telif(subArrSecondHalfMaxSteps < stepsCanCover):\n",
    "\t\t\t\tsubArrSecondHalfMaxSteps = stepsCanCover\n",
    "\t\ti = j\n",
    "\n",
    "\t\tif (i > subArrFistHalfMaxSteps):\n",
    "\t\t\treturn -1\n",
    "\t\tjump += 1\n",
    "\n",
    "\t\t# Next subarray end index\n",
    "\t\t# and so far calculated sub\n",
    "\t\t# array max step cover value\n",
    "\t\tsubArrEndIndex = arr[firstHalfMaxStepIndex]\n",
    "\t\tsubArrFistHalfMaxSteps = subArrSecondHalfMaxSteps\n",
    "\treturn -1\n",
    "\n",
    "\n",
    "# Driver program to test above function\n",
    "if __name__ == '__main__':\n",
    "\n",
    "\tarr = [2, 3, 1, 1, 2, 4, 2, 0, 1, 1]\n",
    "\tsize = len(arr)\n",
    "\n",
    "\t# Calling the minJumps function\n",
    "\tprint(\"Minimum number of jumps to reach end is \", minJumps(arr, size))\n",
    "\n"
   ]
  },
  {
   "cell_type": "code",
   "execution_count": 39,
   "id": "bc4c87c5",
   "metadata": {},
   "outputs": [
    {
     "name": "stdout",
     "output_type": "stream",
     "text": [
      "Minimum number of jumps to reach end is  4 \n"
     ]
    }
   ],
   "source": [
    "# python program to count Minimum number\n",
    "# of jumps to reach end\n",
    "\n",
    "# Returns minimum number of jumps to reach arr[n-1] from arr[0]\n",
    "def minJumps(arr, n):\n",
    "    # The number of jumps needed to reach the starting index is 0\n",
    "    if (n <= 1):\n",
    "        return 0\n",
    "\n",
    "    # Return -1 if not possible to jump\n",
    "    if (arr[0] == 0):\n",
    "        return -1\n",
    "\n",
    "    # initialization\n",
    "    # stores all time the maximal reachable index in the array\n",
    "    maxReach = arr[0]\n",
    "    # stores the amount of steps we can still take\n",
    "    step = arr[0]\n",
    "    # stores the amount of jumps necessary to reach that maximal reachable position\n",
    "    jump = 1\n",
    "\n",
    "    # Start traversing array\n",
    "\n",
    "    for i in range(1, n):\n",
    "        # Check if we have reached the end of the array\n",
    "        if (i == n-1):\n",
    "            return jump\n",
    "\n",
    "        # updating maxReach\n",
    "        maxReach = max(maxReach, i + arr[i])\n",
    "\n",
    "        # we use a step to get to the current index\n",
    "        step -= 1;\n",
    "\n",
    "        # If no further steps left\n",
    "        if (step == 0):\n",
    "        # we must have used a jump\n",
    "            jump += 1\n",
    "\n",
    "            # Check if the current index / position or lesser index\n",
    "            # is the maximum reach point from the previous indexes\n",
    "            if(i >= maxReach):\n",
    "                return -1\n",
    "\n",
    "            # re-initialize the steps to the amount\n",
    "            # of steps to reach maxReach from position i.\n",
    "            step = maxReach - i;\n",
    "    return -1\n",
    "\n",
    "\n",
    "# Driver program to test above function\n",
    "arr = [2, 3, 1, 1, 2, 4, 2, 0, 1, 1]\n",
    "size = len(arr)\n",
    "\n",
    "# Calling the minJumps function\n",
    "print(\"Minimum number of jumps to reach end is % d \" % minJumps(arr, size))\n",
    "\n",
    "# This code is contributed by Aditi Sharma\n",
    "\n"
   ]
  }
 ],
 "metadata": {
  "kernelspec": {
   "display_name": "Python 3 (ipykernel)",
   "language": "python",
   "name": "python3"
  },
  "language_info": {
   "codemirror_mode": {
    "name": "ipython",
    "version": 3
   },
   "file_extension": ".py",
   "mimetype": "text/x-python",
   "name": "python",
   "nbconvert_exporter": "python",
   "pygments_lexer": "ipython3",
   "version": "3.9.12"
  }
 },
 "nbformat": 4,
 "nbformat_minor": 5
}
