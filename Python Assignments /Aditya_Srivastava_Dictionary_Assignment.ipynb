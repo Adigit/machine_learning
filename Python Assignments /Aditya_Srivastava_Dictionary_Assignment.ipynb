{
 "cells": [
  {
   "cell_type": "code",
   "execution_count": 1,
   "metadata": {
    "id": "2k4ZB9yltJCa"
   },
   "outputs": [],
   "source": [
    "# Initialize a dictionary \"emp_info\" with below details\n",
    "# In - emp_info['Tom']\n",
    "# Out - {'email':'tom_latham019@gmail.com', 'Phone': +1987654321, 'City': 'California'}\n",
    "\n",
    "# In - emp_info['Kathy']\n",
    "# Out - {'email':'kathy_abram897@gmail.com', 'Phone': +1887654321, 'City': 'New York'}\n",
    "\n"
   ]
  },
  {
   "cell_type": "code",
   "execution_count": 2,
   "metadata": {},
   "outputs": [
    {
     "name": "stdout",
     "output_type": "stream",
     "text": [
      "{'Tom': {'email': 'tom_latham019@gmail.com', 'Phone': 1987654321, 'City': 'California'}}\n",
      "{'Tom': {'email': 'tom_latham019@gmail.com', 'Phone': 1987654321, 'City': 'California'}, 'Kathy': {'email': 'kathy_abram897@gmail.com', 'Phone': 1887654321, 'City': 'New York'}}\n"
     ]
    }
   ],
   "source": [
    "emp_info = {} # Initializing empty dictionary\n",
    "\n",
    "\n",
    "emp_info['Tom'] = {'email':'tom_latham019@gmail.com', 'Phone': +1987654321, 'City': 'California'}\n",
    "\n",
    "print(emp_info)\n",
    "# prints {'Tom': {'email': 'tom_latham019@gmail.com', 'Phone': 1987654321, 'City': 'California'}}\n",
    "\n",
    "\n",
    "emp_info['Kathy'] = {'email':'kathy_abram897@gmail.com', 'Phone': +1887654321, 'City': 'New York'}\n",
    "\n",
    "print(emp_info)\n",
    "# prints {'Tom': {'email': 'tom_latham019@gmail.com', 'Phone': 1987654321, 'City': 'California'}, \n",
    "# 'Kathy': {'email': 'kathy_abram897@gmail.com', 'Phone': 1887654321, 'City': 'New York'}}"
   ]
  },
  {
   "cell_type": "code",
   "execution_count": 3,
   "metadata": {
    "id": "BAUj-S0fqFWG"
   },
   "outputs": [],
   "source": [
    "# Create a dictionary out of below inputs\n",
    "# lst1 = ['emp1', 'emp2', 'emp3']\n",
    "# emp_key = ['e_name', 'e_id', 'e_sal']\n",
    "# emp1_val = ['John', 'SG101', '$10,000']\n",
    "# emp2_val = ['Smith', 'SG102', '$9,000']\n",
    "# emp3_val = ['Peter', 'SG103', '$9,500']\n",
    "\n",
    "# Expected Output:- {'emp1':{'e_name':'John', 'e_id':'SG101', 'e_sal':$10,000}, \n",
    "#                    'emp2':{'e_name':'Smith', 'e_id':'SG102', 'e_sal':$9,000}, \n",
    "#                    'emp3':{'e_name':'Peter', 'e_id':'SG103', 'e_sal':$9,500}}\n",
    "\n"
   ]
  },
  {
   "cell_type": "code",
   "execution_count": 4,
   "metadata": {},
   "outputs": [
    {
     "name": "stdout",
     "output_type": "stream",
     "text": [
      "{'emp1_val': {'e_name': 'John', 'e_id': 'SG101', 'e_sal': '$10,000'}, 'emp2_val': {'e_name': 'Smith', 'e_id': 'SG102', 'e_sal': '$9,000'}, 'emp3_val': {'e_name': 'Peter', 'e_id': 'SG103', 'e_sal': '$9,500'}}\n"
     ]
    }
   ],
   "source": [
    "lst1 = ['emp1', 'emp2', 'emp3']\n",
    "emp_key = ['e_name', 'e_id', 'e_sal']\n",
    "emp1_val = ['John', 'SG101', '$10,000']\n",
    "emp2_val = ['Smith', 'SG102', '$9,000']\n",
    "emp3_val = ['Peter', 'SG103', '$9,500']\n",
    "\n",
    "employee_data = {} # Initialize empty dictionary\n",
    "\n",
    "# looping on given lst1\n",
    "for val in lst1:\n",
    "    # Creating mapping with given list emp_key and respective data array i.e emp1_val,emp2_val and emp3_val \n",
    "    tmp = {k: v for k, v in zip(emp_key, eval(f'{val}_val'))}\n",
    "    \n",
    "    # Assigning above temp hash/dictionary to final dictionary employee_data\n",
    "    employee_data[f'{val}_val'] = tmp\n",
    "    \n",
    "    \n",
    "print(employee_data)\n",
    "# prints {'emp1_val': {'e_name': 'John', 'e_id': 'SG101', 'e_sal': '$10,000'},\n",
    "# 'emp2_val': {'e_name': 'Smith', 'e_id': 'SG102', 'e_sal': '$9,000'}, \n",
    "# 'emp3_val': {'e_name': 'Peter', 'e_id': 'SG103', 'e_sal': '$9,500'}}"
   ]
  },
  {
   "cell_type": "code",
   "execution_count": 5,
   "metadata": {
    "id": "LxGZ3jbjrBkj"
   },
   "outputs": [],
   "source": [
    "# Acess the value of key 'history'\n",
    "\n",
    "sampleDict = { \n",
    "   \"class\":{ \n",
    "      \"student\":{ \n",
    "         \"name\":\"Mike\",\n",
    "         \"marks\":{ \n",
    "            \"physics\":70,\n",
    "            \"history\":80\n",
    "         }\n",
    "      }\n",
    "   }\n",
    "}\n",
    "\n",
    "\n"
   ]
  },
  {
   "cell_type": "code",
   "execution_count": 6,
   "metadata": {},
   "outputs": [
    {
     "name": "stdout",
     "output_type": "stream",
     "text": [
      "80\n"
     ]
    }
   ],
   "source": [
    "print(sampleDict['class']['student']['marks']['history'])"
   ]
  },
  {
   "cell_type": "code",
   "execution_count": 7,
   "metadata": {
    "id": "Vm8UZbyNrKID"
   },
   "outputs": [],
   "source": [
    "# Initialize dictionary with default values. Inputs are:-\n",
    "# employees = ['Kelly', 'Emma', 'John']\n",
    "# defaults = {\"designation\": 'Application Developer', \"salary\": 8000}\n",
    "\n",
    "#Expected output:- {'Kelly': {'designation': 'Application Developer', 'salary': 8000}, \n",
    "#                   'Emma': {'designation': 'Application Developer', 'salary': 8000}, \n",
    "#                   'John': {'designation': 'Application Developer', 'salary': 8000}}\n",
    "\n",
    "\n"
   ]
  },
  {
   "cell_type": "code",
   "execution_count": 8,
   "metadata": {},
   "outputs": [
    {
     "name": "stdout",
     "output_type": "stream",
     "text": [
      "{'Kelly': {'designation': 'Application Developer', 'salary': 8000}, 'Emma': {'designation': 'Application Developer', 'salary': 8000}, 'John': {'designation': 'Application Developer', 'salary': 8000}}\n"
     ]
    }
   ],
   "source": [
    "employees = ['Kelly', 'Emma', 'John']\n",
    "defaults = {\"designation\": 'Application Developer', \"salary\": 8000}\n",
    "\n",
    "employee_data = {}\n",
    "\n",
    "for emp_name in employees:\n",
    "    employee_data[emp_name] = defaults\n",
    "    \n",
    "print(employee_data)\n",
    "# prints {'Kelly': {'designation': 'Application Developer', 'salary': 8000}, \n",
    "# 'Emma': {'designation': 'Application Developer', 'salary': 8000}, \n",
    "# 'John': {'designation': 'Application Developer', 'salary': 8000}"
   ]
  },
  {
   "cell_type": "code",
   "execution_count": 9,
   "metadata": {
    "id": "nmFdbaHBrThC"
   },
   "outputs": [],
   "source": [
    "# In gene expression, mRNA is transcribed from a DNA template. \n",
    "# The 4 nucleotide bases of A, T, C, G corresponds to the U, A, G, C bases of the mRNA. \n",
    "# Write a function that returns the mRNA transcript given the sequence of a DNA strand.\n",
    "\n",
    "# Use a dictionary to provide the mapping of DNA to RNA bases."
   ]
  },
  {
   "cell_type": "code",
   "execution_count": 10,
   "metadata": {},
   "outputs": [
    {
     "name": "stdout",
     "output_type": "stream",
     "text": [
      "U\n",
      "A\n",
      "G\n",
      "C\n"
     ]
    }
   ],
   "source": [
    "nucleotide_bases = ['A', 'T', 'C', 'G']\n",
    "mRNA = ['U', 'A', 'G', 'C']\n",
    "\n",
    "# Below function creates mapping nucleotide_bases to mRNA.\n",
    "# {'A': 'U', 'T': 'A', 'C': 'G', 'G': 'C'}\n",
    "def create_mapping(dna, rna):\n",
    "    return {k: v for k, v in zip(dna, rna) }\n",
    "     \n",
    "    \n",
    "# Below function returns mRNA value corresponding to nucleotide_base (DNA) \n",
    "def get_rna_for_dna(dna):\n",
    "    rna_mapping = create_mapping(nucleotide_bases, mRNA)\n",
    "    print(rna_mapping[dna])\n",
    "    \n",
    "    \n",
    "get_rna_for_dna('A') # prints U\n",
    "get_rna_for_dna('T') # prints A\n",
    "get_rna_for_dna('C') # prints G\n",
    "get_rna_for_dna('G') # prints C"
   ]
  },
  {
   "cell_type": "code",
   "execution_count": 25,
   "metadata": {
    "id": "rop1A1pQw6Uk"
   },
   "outputs": [],
   "source": [
    "# Write a function which takes a word as input and returns a dictionary with letters as key and no of time letters are repeated as value.\n",
    "# In - count_letter('google.com')\n",
    "# Out - {'g': 2, 'o': 3, 'l': 1, 'e': 1, '.': 1, 'c': 1, 'm': 1}"
   ]
  },
  {
   "cell_type": "code",
   "execution_count": 34,
   "metadata": {},
   "outputs": [
    {
     "name": "stdout",
     "output_type": "stream",
     "text": [
      "{'g': 2, 'o': 3, 'l': 1, 'e': 1, '.': 1, 'c': 1, 'm': 1}\n"
     ]
    }
   ],
   "source": [
    "def count_letter(input_str):\n",
    "    letter_count = {}\n",
    "    for c in input_str:\n",
    "        if c in letter_count:\n",
    "            letter_count[c] += 1 # if character already present then increment occurence by 1\n",
    "        else:\n",
    "            letter_count[c] = 1   # if character is not present then its first occurence\n",
    "        \n",
    "    print(letter_count)\n",
    "    \n",
    "count_letter('google.com')\n",
    "# prints {'g': 2, 'o': 3, 'l': 1, 'e': 1, '.': 1, 'c': 1, 'm': 1}"
   ]
  },
  {
   "cell_type": "code",
   "execution_count": 11,
   "metadata": {
    "id": "vAwGIoxdw856"
   },
   "outputs": [],
   "source": [
    "# A DNA strand consisting of the 4 nucleotide bases is usually represented with a string of letters: A,T, C, G. \n",
    "# Write a function that computes the base composition of a given DNA sequence.\n",
    "\n",
    "# In - baseComposition(\"CTATCGGCACCCTTTCAGCA\")\n",
    "# Out - {'A': 4, 'C': 8, 'T': 5,  'G': 3 }\n",
    "    \n",
    "# In - baseComposition(\"AGT\")\n",
    "# Out - {'A': 1, 'C': 0, 'T': 1,  'G': 1 }"
   ]
  },
  {
   "cell_type": "code",
   "execution_count": 12,
   "metadata": {},
   "outputs": [
    {
     "name": "stdout",
     "output_type": "stream",
     "text": [
      "{'A': 4, 'C': 8, 'T': 5, 'G': 3}\n",
      "{'A': 1, 'C': 0, 'T': 1, 'G': 1}\n"
     ]
    }
   ],
   "source": [
    "def baseComposition(input_str):   \n",
    "    letter_count = {'A': 0, 'C': 0, 'T': 0,  'G': 0 }\n",
    "    for c in input_str:\n",
    "        if c in letter_count:\n",
    "            letter_count[c] += 1 # if character already present then increment occurence by 1\n",
    "        else:\n",
    "            letter_count[c] = 1   # if character is not present then its first occurence\n",
    "        \n",
    "    print(letter_count)\n",
    "    \n",
    "    \n",
    "baseComposition(\"CTATCGGCACCCTTTCAGCA\") \n",
    "# {'A': 4, 'C': 8, 'T': 5, 'G': 3}\n",
    "\n",
    "\n",
    "baseComposition(\"AGT\")\n",
    "# {'A': 1, 'C': 0, 'T': 1, 'G': 1}"
   ]
  },
  {
   "cell_type": "code",
   "execution_count": 13,
   "metadata": {
    "id": "iVNnSsvaxMDo"
   },
   "outputs": [],
   "source": [
    "# [MCQ] Suppose \"d\" is an empty dictionary, which statement does not assign \"d\" with {\"Name\":\"Tom\"}? \n",
    "# 1. d = {\"Name\": \"Tom\" }\n",
    "# 2. d[\"Name\"] = \"Tom\"\n",
    "# 3. d.update({\"Name\": \"Tom\" })\n",
    "# 4. d.setdefault(\"Name\", \"Tom\")\n",
    "# 5. None of the above."
   ]
  },
  {
   "cell_type": "code",
   "execution_count": 14,
   "metadata": {},
   "outputs": [
    {
     "name": "stdout",
     "output_type": "stream",
     "text": [
      "{'Name': 'Tom'}\n",
      "{'Name': 'Tom'}\n",
      "{'Name': 'Tom'}\n",
      "{'Name': 'Tom'}\n"
     ]
    }
   ],
   "source": [
    "d = {} \n",
    "d = {\"Name\": \"Tom\" }\n",
    "print(d)\n",
    "\n",
    "d = {}\n",
    "d[\"Name\"] = \"Tom\"\n",
    "print(d)\n",
    "\n",
    "d = {}\n",
    "d.update({\"Name\": \"Tom\" })\n",
    "print(d)\n",
    "\n",
    "d = {}\n",
    "d.setdefault(\"Name\", \"Tom\")\n",
    "print(d)\n",
    "\n",
    "# Answer -> (Option 5)None of the above. Above all statements assign to d"
   ]
  },
  {
   "cell_type": "code",
   "execution_count": 15,
   "metadata": {
    "id": "tOgsXi2axnhF"
   },
   "outputs": [],
   "source": [
    "# [MCQ] d = {\"a\":1, \"b\":2}. Which of the statements returns [1,2]? \n",
    "# 1. d.keys()\n",
    "# 2. d.values()\n",
    "# 3. d.items()\n",
    "# 4. d.popitem()\n",
    "# 5. None of the above."
   ]
  },
  {
   "cell_type": "code",
   "execution_count": 16,
   "metadata": {},
   "outputs": [
    {
     "name": "stdout",
     "output_type": "stream",
     "text": [
      "dict_keys(['a', 'b'])\n",
      "dict_values([1, 2])\n",
      "dict_items([('a', 1), ('b', 2)])\n",
      "('b', 2)\n"
     ]
    }
   ],
   "source": [
    "d = {\"a\":1, \"b\":2}\n",
    "\n",
    "print(d.keys()) #dict_keys(['a', 'b'])\n",
    "\n",
    "print(d.values()) #dict_values([1, 2])\n",
    "\n",
    "print(d.items()) #dict_items([('a', 1), ('b', 2)])\n",
    "\n",
    "print(d.popitem()) #('b', 2)\n",
    "\n",
    "# Answer -> (Option 5)None of the above. Because none of the abobe mentioned statements returns [1,2]"
   ]
  },
  {
   "cell_type": "code",
   "execution_count": 17,
   "metadata": {
    "id": "BeNNopkDzK0k"
   },
   "outputs": [],
   "source": [
    "# [MCQ] Which of the following declarations is not valid for 'dict' type?\n",
    "# 1. d = {\"Name\": \"Tom\" }\n",
    "# 2. d = { (1,3,4): 4.5 }\n",
    "# 3. d = { [\"First\", \"Last\"]: (1,3) }\n",
    "# 4. d = { 1: 0.4 }\n",
    "# 5. None of the above"
   ]
  },
  {
   "cell_type": "code",
   "execution_count": 18,
   "metadata": {},
   "outputs": [
    {
     "ename": "TypeError",
     "evalue": "unhashable type: 'list'",
     "output_type": "error",
     "traceback": [
      "\u001b[0;31m---------------------------------------------------------------------------\u001b[0m",
      "\u001b[0;31mTypeError\u001b[0m                                 Traceback (most recent call last)",
      "Input \u001b[0;32mIn [18]\u001b[0m, in \u001b[0;36m<cell line: 3>\u001b[0;34m()\u001b[0m\n\u001b[1;32m      1\u001b[0m \u001b[38;5;66;03m# Answer -> (Option 3) d = { [\"First\", \"Last\"]: (1,3) }\u001b[39;00m\n\u001b[0;32m----> 3\u001b[0m d \u001b[38;5;241m=\u001b[39m { [\u001b[38;5;124m\"\u001b[39m\u001b[38;5;124mFirst\u001b[39m\u001b[38;5;124m\"\u001b[39m, \u001b[38;5;124m\"\u001b[39m\u001b[38;5;124mLast\u001b[39m\u001b[38;5;124m\"\u001b[39m]: (\u001b[38;5;241m1\u001b[39m,\u001b[38;5;241m3\u001b[39m) }\n",
      "\u001b[0;31mTypeError\u001b[0m: unhashable type: 'list'"
     ]
    }
   ],
   "source": [
    "# Answer -> (Option 3) d = { [\"First\", \"Last\"]: (1,3) }\n",
    "\n",
    "d = { [\"First\", \"Last\"]: (1,3) }\n",
    "\n",
    "# Raises error -> TypeError: unhashable type: 'list'"
   ]
  },
  {
   "cell_type": "code",
   "execution_count": 19,
   "metadata": {
    "id": "7kPbKcfMzTHP"
   },
   "outputs": [],
   "source": [
    "# Write a function reverseLookup(dictionary, value) that takes in a dictionary \n",
    "# and a value as arguments and returns a sorted list of all keys that contains the value. \n",
    "# The function will return an empty list if no match is found.\n",
    "\n",
    "# In - reverseLookup({'a':1, 'b':2, 'c':2}, 1)\n",
    "# Out - ['a']\n",
    "# In - reverseLookup({'a':1, 'b':2, 'c':2}, 2)\n",
    "# Out - ['b', 'c']\n",
    "# In - reverseLookup({'a':1, 'b':2, 'c':2}, 3)\n",
    "# Out - []"
   ]
  },
  {
   "cell_type": "code",
   "execution_count": 20,
   "metadata": {},
   "outputs": [
    {
     "name": "stdout",
     "output_type": "stream",
     "text": [
      "['a']\n",
      "['b', 'c']\n",
      "[]\n"
     ]
    }
   ],
   "source": [
    "def reverseLookup(dic, val):\n",
    "    found_keys_lst = []\n",
    "    for k,v in dic.items():\n",
    "        if v == val:\n",
    "            found_keys_lst.append(k)\n",
    "    return found_keys_lst\n",
    "   \n",
    "print(reverseLookup({'a':1, 'b':2, 'c':2}, 1))  # ['a'] \n",
    "print(reverseLookup({'a':1, 'b':2, 'c':2}, 2))  # ['b', 'c']\n",
    "print(reverseLookup({'a':1, 'b':2, 'c':2}, 3))  # []"
   ]
  },
  {
   "cell_type": "code",
   "execution_count": 21,
   "metadata": {
    "id": "s87Rvg2HDFYp"
   },
   "outputs": [],
   "source": [
    "# Write a function invertDictionary(d) that takes in a dictionary as argument and return a dictionary that inverts the keys and the values of the original dictionary.\n",
    "# In - invertDictionary({'a':1, 'b':2, 'c':3, 'd':2})\n",
    "# Out - {1: ['a'], 2: ['b', 'd'], 3: ['c']}\n",
    "# In - invertDictionary({'a':3, 'b':3, 'c':3})\n",
    "# Out - {3: ['a', 'c', 'b']}\n",
    "# In - invertDictionary({'a':2, 'b':1, 'c':2, 'd':1})\n",
    "# Out - {1: ['b', 'd'], 2: ['a', 'c']}\n",
    "\n",
    "\n"
   ]
  },
  {
   "cell_type": "code",
   "execution_count": 22,
   "metadata": {},
   "outputs": [
    {
     "name": "stdout",
     "output_type": "stream",
     "text": [
      "{1: ['a'], 2: ['b', 'c']}\n",
      "{1: ['a'], 2: ['b', 'd'], 3: ['c']}\n",
      "{3: ['a', 'b', 'c']}\n",
      "{2: ['a', 'c'], 1: ['b', 'd']}\n"
     ]
    }
   ],
   "source": [
    "def invertDictionary(dic):\n",
    "    inverted_dict = {}\n",
    "    for k,v in dic.items():\n",
    "        if v in inverted_dict:\n",
    "            tmp = inverted_dict[v]\n",
    "            tmp.append(k)\n",
    "\n",
    "            inverted_dict[v] = tmp\n",
    "        else:\n",
    "            inverted_dict[v] = [k]\n",
    "    return inverted_dict\n",
    "\n",
    "\n",
    "print(invertDictionary({'a':1, 'b':2, 'c':2})) # {1: ['a'], 2: ['b', 'c']}\n",
    "\n",
    "print(invertDictionary({'a':1, 'b':2, 'c':3, 'd':2})) # {1: ['a'], 2: ['b', 'd'], 3: ['c']}\n",
    "\n",
    "print(invertDictionary({'a':3, 'b':3, 'c':3})) # {3: ['a', 'b', 'c']}\n",
    "\n",
    "print(invertDictionary({'a':2, 'b':1, 'c':2, 'd':1})) # {2: ['a', 'c'], 1: ['b', 'd']}"
   ]
  },
  {
   "cell_type": "code",
   "execution_count": 23,
   "metadata": {
    "id": "DgYyaZU6Oz7E"
   },
   "outputs": [],
   "source": [
    "# Write a function that converts a sparse vector into a dictionary as described above.\n",
    "# In - convertVector([1, 0, 0, 2, 0, 0, 0, 3, 0, 0, 0, 0, 4])\n",
    "# Out - {0: 1, 3: 2, 7: 3, 12: 4}\n",
    "# In - convertVector([1, 0, 1 , 0, 2, 0, 1, 0, 0, 1, 0])\n",
    "# Out - {0: 1, 2: 1, 4: 2, 6: 1, 9: 1}\n",
    "# In - convertVector([0, 0, 0, 0, 0])\n",
    "# Out - {}\n",
    "\n"
   ]
  },
  {
   "cell_type": "code",
   "execution_count": 24,
   "metadata": {},
   "outputs": [
    {
     "name": "stdout",
     "output_type": "stream",
     "text": [
      "{0: 1, 3: 2, 7: 3, 12: 4}\n",
      "{0: 1, 2: 1, 4: 2, 6: 1, 9: 1}\n",
      "{}\n"
     ]
    }
   ],
   "source": [
    "def convertVector(lst):\n",
    "    d = {}\n",
    "    for k, v in enumerate(lst):\n",
    "        if v:\n",
    "            d[k] = v \n",
    "    return d\n",
    "\n",
    "print(convertVector([1, 0, 0, 2, 0, 0, 0, 3, 0, 0, 0, 0, 4])) # {0: 1, 3: 2, 7: 3, 12: 4}\n",
    "\n",
    "print(convertVector([1, 0, 1 , 0, 2, 0, 1, 0, 0, 1, 0])) # {0: 1, 2: 1, 4: 2, 6: 1, 9: 1}\n",
    "\n",
    "print(convertVector([0, 0, 0, 0, 0])) # {}"
   ]
  },
  {
   "cell_type": "code",
   "execution_count": 25,
   "metadata": {
    "id": "ETCmEcflTGCI"
   },
   "outputs": [],
   "source": [
    "# Write a function that converts a dictionary back to its sparse vector representation.\n",
    "# In - convertDictionary({0: 1, 3: 2, 7: 3, 12: 4})\n",
    "# Out - [1, 0, 0, 2, 0, 0, 0, 3, 0, 0, 0, 0, 4]\n",
    "# In - convertDictionary({0: 1, 2: 1, 4: 2, 6: 1, 9: 1})\n",
    "# Out - [1, 0, 1, 0, 2, 0, 1, 0, 0, 1]\n",
    "# In - convertDictionary({})\n",
    "# Out - []\n",
    "\n"
   ]
  },
  {
   "cell_type": "code",
   "execution_count": 26,
   "metadata": {},
   "outputs": [
    {
     "name": "stdout",
     "output_type": "stream",
     "text": [
      "[1, 0, 0, 2, 0, 0, 0, 3, 0, 0, 0, 0, 4]\n",
      "[1, 0, 1, 0, 2, 0, 1, 0, 0, 1]\n",
      "[]\n"
     ]
    }
   ],
   "source": [
    "def convertDictionary(dictionary):\n",
    "    final_list = [] \n",
    "    if dictionary:\n",
    "        last_key = list(dictionary.keys())[-1]   \n",
    "        for i in range(last_key + 1):\n",
    "            final_list.append(0)\n",
    "\n",
    "        for k,v in dictionary.items():\n",
    "            final_list[k] =v \n",
    "        return final_list\n",
    "    else:\n",
    "        return final_list\n",
    "        \n",
    "print(convertDictionary({0: 1, 3: 2, 7: 3, 12: 4})) # [1, 0, 0, 2, 0, 0, 0, 3, 0, 0, 0, 0, 4]\n",
    "\n",
    "print(convertDictionary({0: 1, 2: 1, 4: 2, 6: 1, 9: 1})) # [1, 0, 1, 0, 2, 0, 1, 0, 0, 1]\n",
    "\n",
    "print(convertDictionary({})) # []"
   ]
  },
  {
   "cell_type": "code",
   "execution_count": 27,
   "metadata": {
    "id": "tTANm2QKZXh3"
   },
   "outputs": [],
   "source": [
    "# Given a Python dictionary, Change Brad’s salary to 8500\n",
    "# sampleDict = {\n",
    "#      'emp1': {'name': 'Jhon', 'salary': 7500},\n",
    "#      'emp2': {'name': 'Emma', 'salary': 8000},\n",
    "#      'emp3': {'name': 'Brad', 'salary': 6500}\n",
    "# }\n",
    "\n",
    "# Expected Output\n",
    "# sampleDict = {\n",
    "#      'emp1': {'name': 'Jhon', 'salary': 7500},\n",
    "#      'emp2': {'name': 'Emma', 'salary': 8000},\n",
    "#      'emp3': {'name': 'Brad', 'salary': 8500}\n",
    "# }\n",
    "\n"
   ]
  },
  {
   "cell_type": "code",
   "execution_count": 28,
   "metadata": {},
   "outputs": [
    {
     "name": "stdout",
     "output_type": "stream",
     "text": [
      "{'emp1': {'name': 'Jhon', 'salary': 7500}, 'emp2': {'name': 'Emma', 'salary': 8000}, 'emp3': {'name': 'Brad', 'salary': 8500}}\n"
     ]
    }
   ],
   "source": [
    "sampleDict = {\n",
    "     'emp1': {'name': 'Jhon', 'salary': 7500},\n",
    "     'emp2': {'name': 'Emma', 'salary': 8000},\n",
    "     'emp3': {'name': 'Brad', 'salary': 6500}\n",
    "}\n",
    "\n",
    "sampleDict['emp3']['salary'] = 8500 # Updating salary\n",
    "\n",
    "print(sampleDict)\n",
    "# {'emp1': {'name': 'Jhon', 'salary': 7500}, \n",
    "# 'emp2': {'name': 'Emma', 'salary': 8000}, \n",
    "# 'emp3': {'name': 'Brad', 'salary': 8500}}"
   ]
  },
  {
   "cell_type": "code",
   "execution_count": 29,
   "metadata": {
    "id": "8dUHXiCVZmUx"
   },
   "outputs": [],
   "source": [
    "# Get the key corresponding to the minimum value from the following dictionary\n",
    "# sampleDict = {\n",
    "#   'Physics': 82,\n",
    "#   'Math': 65,\n",
    "#   'history': 75\n",
    "# }\n",
    "\n",
    "# Expected Output\n",
    "# Math\n",
    "\n"
   ]
  },
  {
   "cell_type": "code",
   "execution_count": 30,
   "metadata": {},
   "outputs": [
    {
     "name": "stdout",
     "output_type": "stream",
     "text": [
      "Math\n"
     ]
    }
   ],
   "source": [
    "sampleDict = {\n",
    "  'Physics': 82,\n",
    "  'Math': 65,\n",
    "  'history': 75\n",
    "}\n",
    "\n",
    "def minValuekey(dic):\n",
    "    min_value = sorted(dic.values())[0]\n",
    "    for k, v in dic.items():\n",
    "        if v == min_value:\n",
    "            return k\n",
    "    \n",
    "print(minValuekey(sampleDict)) # Math"
   ]
  },
  {
   "cell_type": "code",
   "execution_count": 31,
   "metadata": {
    "id": "AQe5QNGdZ7aJ"
   },
   "outputs": [],
   "source": [
    "# Rename key city to location in the following dictionary\n",
    "# sampleDict = {\n",
    "#   \"name\": \"Kelly\",\n",
    "#   \"age\":25,\n",
    "#   \"salary\": 8000,\n",
    "#   \"city\": \"New york\"\n",
    "# }\n",
    "\n",
    "# Expected Output\n",
    "# {\n",
    "#   \"name\": \"Kelly\",\n",
    "#   \"age\":25,\n",
    "#   \"salary\": 8000,\n",
    "#   \"location\": \"New york\"\n",
    "# }"
   ]
  },
  {
   "cell_type": "code",
   "execution_count": 32,
   "metadata": {},
   "outputs": [
    {
     "name": "stdout",
     "output_type": "stream",
     "text": [
      "{'name': 'Kelly', 'age': 25, 'salary': 8000, 'location': 'New york'}\n"
     ]
    }
   ],
   "source": [
    "sampleDict = {\n",
    "  \"name\": \"Kelly\",\n",
    "  \"age\":25,\n",
    "  \"salary\": 8000,\n",
    "  \"city\": \"New york\"\n",
    "}\n",
    "\n",
    "sampleDict[\"location\"] = sampleDict[\"city\"] # Copy old data to new key location\n",
    "del(sampleDict[\"city\"]) # delete old key ('city')\n",
    "\n",
    "print(sampleDict)\n",
    "#{'name': 'Kelly', 'age': 25, 'salary': 8000, 'location': 'New york'}"
   ]
  },
  {
   "cell_type": "code",
   "execution_count": 33,
   "metadata": {
    "id": "e19_ddO9aNNw"
   },
   "outputs": [],
   "source": [
    "# Check if a value 200 exists in a dictionary\n",
    "# sampleDict = {'a': 100, 'b': 200, 'c': 300}\n",
    "\n",
    "# Expected Output: True"
   ]
  },
  {
   "cell_type": "code",
   "execution_count": 34,
   "metadata": {},
   "outputs": [
    {
     "name": "stdout",
     "output_type": "stream",
     "text": [
      "True\n"
     ]
    }
   ],
   "source": [
    "sampleDict = {'a': 100, 'b': 200, 'c': 300}\n",
    "\n",
    "def findKey(dic, key):\n",
    "    if key in list(dic.values()):\n",
    "        return True\n",
    "    else:\n",
    "        return False\n",
    "        \n",
    "print(findKey(sampleDict, 100)) # True\n"
   ]
  },
  {
   "cell_type": "code",
   "execution_count": 35,
   "metadata": {
    "id": "yphwjc1gabMa"
   },
   "outputs": [],
   "source": [
    "# Delete set of keys from Python Dictionary\n",
    "# sampleDict = {\n",
    "#   \"name\": \"Kelly\",\n",
    "#   \"age\":25,\n",
    "#   \"salary\": 8000,\n",
    "#   \"city\": \"New york\"\n",
    "  \n",
    "# }\n",
    "# keysToRemove = [\"name\", \"salary\"]\n",
    "\n",
    "# Expected Output:\n",
    "# {'city': 'New york', 'age': 25}"
   ]
  },
  {
   "cell_type": "code",
   "execution_count": 36,
   "metadata": {},
   "outputs": [
    {
     "data": {
      "text/plain": [
       "{'age': 25, 'city': 'New york'}"
      ]
     },
     "execution_count": 36,
     "metadata": {},
     "output_type": "execute_result"
    }
   ],
   "source": [
    "sampleDict = {\n",
    "  \"name\": \"Kelly\",\n",
    "  \"age\":25,\n",
    "  \"salary\": 8000,\n",
    "  \"city\": \"New york\"\n",
    "}\n",
    "\n",
    "def deleteKeys(dic, keys):\n",
    "    for k in keys:\n",
    "        if k in list(dic.keys()):\n",
    "            del(dic[k])\n",
    "    return dic\n",
    "\n",
    "deleteKeys(sampleDict, [\"name\", \"salary\"]) # {'age': 25, 'city': 'New york'}"
   ]
  },
  {
   "cell_type": "code",
   "execution_count": null,
   "metadata": {},
   "outputs": [],
   "source": []
  },
  {
   "cell_type": "code",
   "execution_count": null,
   "metadata": {},
   "outputs": [],
   "source": []
  }
 ],
 "metadata": {
  "colab": {
   "name": "Dictionary_Assignment.ipynb",
   "provenance": []
  },
  "kernelspec": {
   "display_name": "Python 3 (ipykernel)",
   "language": "python",
   "name": "python3"
  },
  "language_info": {
   "codemirror_mode": {
    "name": "ipython",
    "version": 3
   },
   "file_extension": ".py",
   "mimetype": "text/x-python",
   "name": "python",
   "nbconvert_exporter": "python",
   "pygments_lexer": "ipython3",
   "version": "3.9.12"
  }
 },
 "nbformat": 4,
 "nbformat_minor": 1
}
