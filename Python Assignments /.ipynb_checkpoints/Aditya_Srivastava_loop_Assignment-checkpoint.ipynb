{
 "cells": [
  {
   "cell_type": "markdown",
   "id": "50e87b7e",
   "metadata": {},
   "source": [
    "# W. A P. which takes one number from 0 to 9 from the user and prints it in the word. And if the word is not from 0 to 9 then it should print that number is outside of the range and program should exit.\n",
    "\n",
    "\n"
   ]
  },
  {
   "cell_type": "code",
   "execution_count": 19,
   "id": "26890918",
   "metadata": {},
   "outputs": [
    {
     "name": "stdout",
     "output_type": "stream",
     "text": [
      "Enter input value : 1\n",
      "one\n",
      "Enter input value : 11\n",
      "Number is outside the range\n"
     ]
    }
   ],
   "source": [
    "mapping = {0: 'zero',1: 'one', 2: 'two', 3: 'three', 4: 'four', 5: 'five', 6: 'six', 7: 'seven', 8: 'eight', 9: 'nine'}\n",
    "\n",
    "def takeUserInput():\n",
    "    number = input(\"Enter input value : \")\n",
    "    if number.isdigit():\n",
    "        return int(number)\n",
    "    else:\n",
    "        return -1\n",
    "        \n",
    "def printInWords():\n",
    "    number = takeUserInput()\n",
    "    while(number >= 0 and number <= 9):\n",
    "        print(mapping[number])\n",
    "        number = takeUserInput()\n",
    "    print('Number is outside the range')\n",
    "\n",
    "printInWords()"
   ]
  },
  {
   "cell_type": "markdown",
   "id": "62a49c8b",
   "metadata": {},
   "source": [
    "# W. A P. to implement calculator but the operation to be done and two numbers will be taken as input from user \n",
    "\n",
    "- Operation console should show below:-\n",
    "- Please select any one operation ​from​ below:-\n",
    "    - To add enter ​1\n",
    "    - to subtract enter ​2\n",
    "    - To multiply enter ​3\n",
    "    - To divide enter ​4\n",
    "    - To divide ​and​ find quotient enter ​5\n",
    "    - To divide ​and​ find remainder enter ​6\n",
    "    - To divide ​and​ find num1 to the power of num2 enter ​7 \n",
    "    - To Come out of the program enter ​8"
   ]
  },
  {
   "cell_type": "code",
   "execution_count": 24,
   "id": "cabd91b2",
   "metadata": {},
   "outputs": [
    {
     "name": "stdout",
     "output_type": "stream",
     "text": [
      "Enter first number : 10\n",
      "Enter second number : 4\n",
      "Enter operation : 6\n",
      "2\n",
      "Enter first number : 10\n",
      "Enter second number : 6\n",
      "Enter operation : 5\n",
      "1\n",
      "Enter first number : 10\n",
      "Enter second number : 6\n",
      "Enter operation : 4\n",
      "1.6666666666666667\n",
      "Enter first number : 10\n",
      "Enter second number : 12\n",
      "Enter operation : 8\n"
     ]
    }
   ],
   "source": [
    "def calculator():\n",
    "    while(True):\n",
    "        x = int(input(\"Enter first number : \"))\n",
    "        y = int(input(\"Enter second number : \"))\n",
    "        op = int(input(\"Enter operation : \"))\n",
    "        if op == 8:\n",
    "            return\n",
    "        elif op == 1:\n",
    "            print(x + y)\n",
    "        elif op == 2:\n",
    "            print(x - y)\n",
    "        elif op == 3:\n",
    "            print(x*y)\n",
    "        elif op == 4:\n",
    "            print(x/y)\n",
    "        elif op == 5:\n",
    "            print(int(x/y))\n",
    "        elif op == 6:\n",
    "            print(x%y)\n",
    "        elif op == 7:\n",
    "            print(x**y)\n",
    "\n",
    "        \n",
    "calculator()\n",
    "            \n",
    "# Enter first number : 10\n",
    "# Enter second number : 4\n",
    "# Enter operation : 6\n",
    "# 2\n",
    "\n",
    "# Enter first number : 10\n",
    "# Enter second number : 6\n",
    "# Enter operation : 5\n",
    "# 1\n",
    "\n",
    "# Enter first number : 10\n",
    "# Enter second number : 6\n",
    "# Enter operation : 4\n",
    "# 1.6666666666666667\n",
    "\n",
    "# Enter first number : 10\n",
    "# Enter second number : 12\n",
    "# Enter operation : 8  "
   ]
  },
  {
   "cell_type": "markdown",
   "id": "2afeb3f3",
   "metadata": {},
   "source": [
    "# W A P to check whether a year entered by user ​is​ an leap year ​or​ ​not​?\n",
    "- Check ​with​ below input:-\n",
    "    - leap year:- ​2012​, ​1968​, ​2004​, ​1200​, ​1600​,​2400 \n",
    "    - Non-lear year:- ​1971​, ​2006​, ​1700​,​1800​,​1900"
   ]
  },
  {
   "cell_type": "code",
   "execution_count": 37,
   "id": "2c351c2f",
   "metadata": {},
   "outputs": [
    {
     "name": "stdout",
     "output_type": "stream",
     "text": [
      "Enter Year : 1990\n",
      "Non Leap Year\n"
     ]
    }
   ],
   "source": [
    "def isLeapYear(year):\n",
    "    if year % 4 == 0:\n",
    "        print('Leap Year')\n",
    "    else:\n",
    "        print('Non Leap Year')\n",
    "        \n",
    "year = int(input(\"Enter Year : \"))\n",
    "\n",
    "isLeapYear(year)\n",
    "    "
   ]
  },
  {
   "cell_type": "markdown",
   "id": "83600cc2",
   "metadata": {},
   "source": [
    "# W A P which takes one number ​from​ the user ​and​ checks whether it ​is an even ​or​ odd number?, If it even then prints number ​iseven number ​else​ prints that number ​is​ odd number."
   ]
  },
  {
   "cell_type": "code",
   "execution_count": 36,
   "id": "f0d7065d",
   "metadata": {},
   "outputs": [
    {
     "name": "stdout",
     "output_type": "stream",
     "text": [
      "Enter number : 13\n",
      "Odd\n"
     ]
    }
   ],
   "source": [
    "def isEven(number):\n",
    "    if number % 2 == 0:\n",
    "        print('Even')\n",
    "    else:\n",
    "        print('Odd')\n",
    "        \n",
    "number = int(input(\"Enter number : \"))\n",
    "\n",
    "isEven(number)"
   ]
  },
  {
   "cell_type": "markdown",
   "id": "ad7d2cb3",
   "metadata": {},
   "source": [
    "# W A P which takes two numbers ​from​ the user ​and​ prints below output:-\n",
    "\n",
    "- 1​. num1 ​is​ greater than num2 ​if​ num1 ​is​ greater than num2 \n",
    "- ​2​. num1 ​is​ smaller than num2 ​if​ num1 ​is​ smaller than num2 \n",
    "- ​3​. num1 ​is​ equal to num2 ​if​ num1 ​and​ num2 are equal\n",
    "\n",
    "Note:- ​1​. Do this problem using ​if​ - ​else ​2​. Do this using ternary operator"
   ]
  },
  {
   "cell_type": "code",
   "execution_count": 41,
   "id": "3cfabf46",
   "metadata": {},
   "outputs": [
    {
     "name": "stdout",
     "output_type": "stream",
     "text": [
      "Enter first number : 10\n",
      "Enter second number : 8\n",
      "10\n"
     ]
    }
   ],
   "source": [
    "def isEqual(x,y):\n",
    "    if (x ==y):\n",
    "        print(x)\n",
    "    else:\n",
    "        print(x) if x > y else print(y)\n",
    "        \n",
    "        \n",
    "x = int(input(\"Enter first number : \"))\n",
    "y = int(input(\"Enter second number : \"))\n",
    "isEqual(x,y)"
   ]
  },
  {
   "cell_type": "markdown",
   "id": "c8df6877",
   "metadata": {},
   "source": [
    "# W A P which takes three numbers ​from​ the user ​and​ prints below output:-\n",
    "- 1​. num1 ​is​ greater than num2 ​and​ num3 ​if​ num1 ​is​ greater than num2 and​ num3\n",
    "- 2​. num2 ​is​ greater than num1 ​and​ num3 ​if​ num2 ​is​ greater than num1 and​ num3\n",
    "- 3​. num3 ​is​ greater than num1 ​and​ num2 ​if​ num3 ​is​ greater than num1 and​ num2\n",
    "\n",
    "Note:- \n",
    "- 1​. Do this problem using ​if​ - ​elif​ - ​else '\n",
    "- 2​. Do this using ternary operator\n",
    "\n",
    "    - a = a ​if​ a>b ​else​ b"
   ]
  },
  {
   "cell_type": "code",
   "execution_count": 8,
   "id": "86936029",
   "metadata": {},
   "outputs": [
    {
     "name": "stdout",
     "output_type": "stream",
     "text": [
      "Enter first number : 10\n",
      "Enter second number : 10\n",
      "Enter third number : 10\n",
      " All numbers are same\n"
     ]
    }
   ],
   "source": [
    "# USING IF - ELIF - ELSE\n",
    "def isEqual(x,y,z):\n",
    "    if (x > y) and (x > z):\n",
    "        print(x)\n",
    "    elif (y > x) and (y > z):\n",
    "        print(y)\n",
    "    elif (z > x) and (z > y):\n",
    "        print(z)\n",
    "    else:\n",
    "        print(x)\n",
    "\n",
    "        \n",
    "x = int(input(\"Enter first number : \"))\n",
    "y = int(input(\"Enter second number : \"))\n",
    "z = int(input(\"Enter third number : \"))\n",
    "isEqual(x,y,z)      \n"
   ]
  },
  {
   "cell_type": "code",
   "execution_count": 12,
   "id": "b6964136",
   "metadata": {},
   "outputs": [
    {
     "name": "stdout",
     "output_type": "stream",
     "text": [
      "Enter first number : 3\n",
      "Enter second number : 3\n",
      "Enter third number : 3\n",
      "3\n"
     ]
    }
   ],
   "source": [
    "# USING TERNARY OPERATOR\n",
    "def isEqual(x,y,z):\n",
    "    print(x) if ((x > y) and (x > z)) else print(y) if ((y > x) and (y > z)) else print(z)\n",
    "#     if (x > y) and (x > z):\n",
    "#         print(x)\n",
    "#     elif (y > x) and (y > z):\n",
    "#         print(y)\n",
    "#     elif (z > x) and (z > y):\n",
    "#         print(z)\n",
    "#     else:\n",
    "#         print(\" All numbers are same\")\n",
    "\n",
    "        \n",
    "x = int(input(\"Enter first number : \"))\n",
    "y = int(input(\"Enter second number : \"))\n",
    "z = int(input(\"Enter third number : \"))\n",
    "isEqual(x,y,z)"
   ]
  }
 ],
 "metadata": {
  "kernelspec": {
   "display_name": "Python 3 (ipykernel)",
   "language": "python",
   "name": "python3"
  },
  "language_info": {
   "codemirror_mode": {
    "name": "ipython",
    "version": 3
   },
   "file_extension": ".py",
   "mimetype": "text/x-python",
   "name": "python",
   "nbconvert_exporter": "python",
   "pygments_lexer": "ipython3",
   "version": "3.9.12"
  }
 },
 "nbformat": 4,
 "nbformat_minor": 5
}
