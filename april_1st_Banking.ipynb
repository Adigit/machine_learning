{
 "cells": [
  {
   "attachments": {},
   "cell_type": "markdown",
   "id": "7c33c0eb",
   "metadata": {},
   "source": [
    "# Banking Finanace"
   ]
  },
  {
   "cell_type": "code",
   "execution_count": 1,
   "id": "53dad137",
   "metadata": {},
   "outputs": [],
   "source": [
    "# The customer will buy or not a FD or some investment plan?"
   ]
  },
  {
   "cell_type": "code",
   "execution_count": 2,
   "id": "19726318",
   "metadata": {},
   "outputs": [],
   "source": [
    "# InDependent variables:\n",
    "\n",
    "# age : age of the client \n",
    "# job : type of the job \n",
    "# marital : marital status\n",
    "# education : level of education \n",
    "# default : loan defaulter or not\n",
    "# balance : bank balance in dollers\n",
    "# housing : client have the house loan or not\n",
    "# loan : client have the personal loan or not \n",
    "# contact : type of the contact of the client  \n",
    "# day : last contact day of the client \n",
    "# month : last contact month of the client \n",
    "# duration : call duartion with the client(in sec's)\n",
    "# campaign : no of times contacted with client in the entire campaign \n",
    "# pdays : no of days before client contacted \n",
    "# previous : no of times contacted with client in the before the campaign\n",
    "# poutcome : outcome of the previous marketing campaign\n",
    "\n",
    "# ------------------------------------------------------------------------------------------------------\n",
    "# dependent variable:\n",
    "\n",
    "# Target : product subscribed or not "
   ]
  },
  {
   "cell_type": "code",
   "execution_count": 3,
   "id": "e636752e",
   "metadata": {},
   "outputs": [],
   "source": [
    "import numpy as np\n",
    "import pandas as pd\n",
    "import matplotlib.pyplot as plt\n",
    "import seaborn as sns\n",
    "import warnings \n",
    "\n",
    "warnings.filterwarnings('ignore')\n",
    "%matplotlib inline\n",
    "\n",
    "\n"
   ]
  },
  {
   "cell_type": "code",
   "execution_count": 4,
   "id": "f2093902",
   "metadata": {},
   "outputs": [],
   "source": [
    "data=pd.read_csv('datasets/Banking_finance.csv')"
   ]
  },
  {
   "cell_type": "code",
   "execution_count": 5,
   "id": "cb0452fd",
   "metadata": {},
   "outputs": [],
   "source": [
    "# pip install imblearn\n",
    "# required for data balancing \n"
   ]
  },
  {
   "cell_type": "code",
   "execution_count": 5,
   "id": "67bcd4fc",
   "metadata": {},
   "outputs": [],
   "source": [
    "df=data.copy()"
   ]
  },
  {
   "cell_type": "code",
   "execution_count": 6,
   "id": "28b124bd",
   "metadata": {},
   "outputs": [
    {
     "data": {
      "text/html": [
       "<div>\n",
       "<style scoped>\n",
       "    .dataframe tbody tr th:only-of-type {\n",
       "        vertical-align: middle;\n",
       "    }\n",
       "\n",
       "    .dataframe tbody tr th {\n",
       "        vertical-align: top;\n",
       "    }\n",
       "\n",
       "    .dataframe thead th {\n",
       "        text-align: right;\n",
       "    }\n",
       "</style>\n",
       "<table border=\"1\" class=\"dataframe\">\n",
       "  <thead>\n",
       "    <tr style=\"text-align: right;\">\n",
       "      <th></th>\n",
       "      <th>age</th>\n",
       "      <th>job</th>\n",
       "      <th>marital</th>\n",
       "      <th>education</th>\n",
       "      <th>default</th>\n",
       "      <th>balance</th>\n",
       "      <th>housing</th>\n",
       "      <th>loan</th>\n",
       "      <th>contact</th>\n",
       "      <th>day</th>\n",
       "      <th>month</th>\n",
       "      <th>duration</th>\n",
       "      <th>campaign</th>\n",
       "      <th>pdays</th>\n",
       "      <th>previous</th>\n",
       "      <th>poutcome</th>\n",
       "      <th>Target</th>\n",
       "    </tr>\n",
       "  </thead>\n",
       "  <tbody>\n",
       "    <tr>\n",
       "      <th>0</th>\n",
       "      <td>58</td>\n",
       "      <td>management</td>\n",
       "      <td>married</td>\n",
       "      <td>tertiary</td>\n",
       "      <td>no</td>\n",
       "      <td>2143</td>\n",
       "      <td>yes</td>\n",
       "      <td>no</td>\n",
       "      <td>unknown</td>\n",
       "      <td>5</td>\n",
       "      <td>may</td>\n",
       "      <td>261</td>\n",
       "      <td>1</td>\n",
       "      <td>-1</td>\n",
       "      <td>0</td>\n",
       "      <td>unknown</td>\n",
       "      <td>no</td>\n",
       "    </tr>\n",
       "    <tr>\n",
       "      <th>1</th>\n",
       "      <td>44</td>\n",
       "      <td>technician</td>\n",
       "      <td>single</td>\n",
       "      <td>secondary</td>\n",
       "      <td>no</td>\n",
       "      <td>29</td>\n",
       "      <td>yes</td>\n",
       "      <td>no</td>\n",
       "      <td>unknown</td>\n",
       "      <td>5</td>\n",
       "      <td>may</td>\n",
       "      <td>151</td>\n",
       "      <td>1</td>\n",
       "      <td>-1</td>\n",
       "      <td>0</td>\n",
       "      <td>unknown</td>\n",
       "      <td>no</td>\n",
       "    </tr>\n",
       "    <tr>\n",
       "      <th>2</th>\n",
       "      <td>33</td>\n",
       "      <td>entrepreneur</td>\n",
       "      <td>married</td>\n",
       "      <td>secondary</td>\n",
       "      <td>no</td>\n",
       "      <td>2</td>\n",
       "      <td>yes</td>\n",
       "      <td>yes</td>\n",
       "      <td>unknown</td>\n",
       "      <td>5</td>\n",
       "      <td>may</td>\n",
       "      <td>76</td>\n",
       "      <td>1</td>\n",
       "      <td>-1</td>\n",
       "      <td>0</td>\n",
       "      <td>unknown</td>\n",
       "      <td>no</td>\n",
       "    </tr>\n",
       "    <tr>\n",
       "      <th>3</th>\n",
       "      <td>47</td>\n",
       "      <td>blue-collar</td>\n",
       "      <td>married</td>\n",
       "      <td>unknown</td>\n",
       "      <td>no</td>\n",
       "      <td>1506</td>\n",
       "      <td>yes</td>\n",
       "      <td>no</td>\n",
       "      <td>unknown</td>\n",
       "      <td>5</td>\n",
       "      <td>may</td>\n",
       "      <td>92</td>\n",
       "      <td>1</td>\n",
       "      <td>-1</td>\n",
       "      <td>0</td>\n",
       "      <td>unknown</td>\n",
       "      <td>no</td>\n",
       "    </tr>\n",
       "    <tr>\n",
       "      <th>4</th>\n",
       "      <td>33</td>\n",
       "      <td>unknown</td>\n",
       "      <td>single</td>\n",
       "      <td>unknown</td>\n",
       "      <td>no</td>\n",
       "      <td>1</td>\n",
       "      <td>no</td>\n",
       "      <td>no</td>\n",
       "      <td>unknown</td>\n",
       "      <td>5</td>\n",
       "      <td>may</td>\n",
       "      <td>198</td>\n",
       "      <td>1</td>\n",
       "      <td>-1</td>\n",
       "      <td>0</td>\n",
       "      <td>unknown</td>\n",
       "      <td>no</td>\n",
       "    </tr>\n",
       "  </tbody>\n",
       "</table>\n",
       "</div>"
      ],
      "text/plain": [
       "   age           job  marital  education default  balance housing loan  \\\n",
       "0   58    management  married   tertiary      no     2143     yes   no   \n",
       "1   44    technician   single  secondary      no       29     yes   no   \n",
       "2   33  entrepreneur  married  secondary      no        2     yes  yes   \n",
       "3   47   blue-collar  married    unknown      no     1506     yes   no   \n",
       "4   33       unknown   single    unknown      no        1      no   no   \n",
       "\n",
       "   contact  day month  duration  campaign  pdays  previous poutcome Target  \n",
       "0  unknown    5   may       261         1     -1         0  unknown     no  \n",
       "1  unknown    5   may       151         1     -1         0  unknown     no  \n",
       "2  unknown    5   may        76         1     -1         0  unknown     no  \n",
       "3  unknown    5   may        92         1     -1         0  unknown     no  \n",
       "4  unknown    5   may       198         1     -1         0  unknown     no  "
      ]
     },
     "execution_count": 6,
     "metadata": {},
     "output_type": "execute_result"
    }
   ],
   "source": [
    "df.head()"
   ]
  },
  {
   "cell_type": "code",
   "execution_count": 7,
   "id": "288e07d0",
   "metadata": {},
   "outputs": [
    {
     "name": "stdout",
     "output_type": "stream",
     "text": [
      "<class 'pandas.core.frame.DataFrame'>\n",
      "RangeIndex: 45211 entries, 0 to 45210\n",
      "Data columns (total 17 columns):\n",
      " #   Column     Non-Null Count  Dtype \n",
      "---  ------     --------------  ----- \n",
      " 0   age        45211 non-null  int64 \n",
      " 1   job        45211 non-null  object\n",
      " 2   marital    45211 non-null  object\n",
      " 3   education  45211 non-null  object\n",
      " 4   default    45211 non-null  object\n",
      " 5   balance    45211 non-null  int64 \n",
      " 6   housing    45211 non-null  object\n",
      " 7   loan       45211 non-null  object\n",
      " 8   contact    45211 non-null  object\n",
      " 9   day        45211 non-null  int64 \n",
      " 10  month      45211 non-null  object\n",
      " 11  duration   45211 non-null  int64 \n",
      " 12  campaign   45211 non-null  int64 \n",
      " 13  pdays      45211 non-null  int64 \n",
      " 14  previous   45211 non-null  int64 \n",
      " 15  poutcome   45211 non-null  object\n",
      " 16  Target     45211 non-null  object\n",
      "dtypes: int64(7), object(10)\n",
      "memory usage: 5.9+ MB\n"
     ]
    }
   ],
   "source": [
    "df.info()"
   ]
  },
  {
   "cell_type": "code",
   "execution_count": 8,
   "id": "9cd73ce7",
   "metadata": {},
   "outputs": [
    {
     "name": "stdout",
     "output_type": "stream",
     "text": [
      "Index(['age', 'job', 'marital', 'education', 'default', 'balance', 'housing',\n",
      "       'loan', 'contact', 'day', 'month', 'duration', 'campaign', 'pdays',\n",
      "       'previous', 'poutcome', 'Target'],\n",
      "      dtype='object')\n"
     ]
    }
   ],
   "source": [
    "columns_list=df.columns\n",
    "print(columns_list)"
   ]
  },
  {
   "cell_type": "code",
   "execution_count": 9,
   "id": "41ca2aef",
   "metadata": {},
   "outputs": [
    {
     "name": "stdout",
     "output_type": "stream",
     "text": [
      "age:[58 44 33 47 35 28 42 43 41 29 53 57 51 45 60 56 32 25 40 39 52 46 36 49\n",
      " 59 37 50 54 55 48 24 38 31 30 27 34 23 26 61 22 21 20 66 62 83 75 67 70\n",
      " 65 68 64 69 72 71 19 76 85 63 90 82 73 74 78 80 94 79 77 86 95 81 18 89\n",
      " 84 87 92 93 88]\n",
      "job:['management' 'technician' 'entrepreneur' 'blue-collar' 'unknown'\n",
      " 'retired' 'admin.' 'services' 'self-employed' 'unemployed' 'housemaid'\n",
      " 'student']\n",
      "marital:['married' 'single' 'divorced']\n",
      "education:['tertiary' 'secondary' 'unknown' 'primary']\n",
      "default:['no' 'yes']\n",
      "balance:[ 2143    29     2 ...  8205 14204 16353]\n",
      "housing:['yes' 'no']\n",
      "loan:['no' 'yes']\n",
      "contact:['unknown' 'cellular' 'telephone']\n",
      "day:[ 5  6  7  8  9 12 13 14 15 16 19 20 21 23 26 27 28 29 30  2  3  4 11 17\n",
      " 18 24 25  1 10 22 31]\n",
      "month:['may' 'jun' 'jul' 'aug' 'oct' 'nov' 'dec' 'jan' 'feb' 'mar' 'apr' 'sep']\n",
      "duration:[ 261  151   76 ... 1298 1246 1556]\n",
      "campaign:[ 1  2  3  5  4  6  7  8  9 10 11 12 13 19 14 24 16 32 18 22 15 17 25 21\n",
      " 43 51 63 41 26 28 55 50 38 23 20 29 31 37 30 46 27 58 33 35 34 36 39 44]\n",
      "pdays:[ -1 151 166  91  86 143 147  89 140 176 101 174 170 167 195 165 129 188\n",
      " 196 172 118 119 104 171 117 164 132 131 123 159 186 111 115 116 173 178\n",
      " 110 152  96 103 150 175 193 181 185 154 145 138 126 180 109 158 168  97\n",
      " 182 127 130 194 125 105 102  26 179  28 183 155 112 120 137 124 187 190\n",
      " 113 162 134 169 189   8 144 191 184 177   5  99 133  93  92  10 100 156\n",
      " 198 106 153 146 128   7 121 160 107  90  27 197 136 139 122 157 149 135\n",
      "  30 114  98 192 163  34  95 141  31 199  94 108  29 268 247 253 226 244\n",
      " 239 245 204 231 238 258 230 254 265  71 223 246 250 266 240 205 261 259\n",
      " 241 260 234 251 225 161 237 262 248 255 220 227 206 224 249 235 228 263\n",
      "   2 270 232 252 207 200 269 233 256 273 272 242 264 208 214 222 271 203\n",
      " 221 202 216 201 257 229 210 217  75 213  73  76 267 211 215  77 236  82\n",
      "   6 209 274   1 243 212 275  80 276   9 279  12 280  88 277  85  84 219\n",
      "  24  21 282  41 294  49 329 307 303 331 308 300  64 314 287 330 332 302\n",
      " 323 318 333  60 326 335 313 312 305 325 327 336 309 328 322  39 316 292\n",
      " 295 310 306 320 317 289  57 321 142 339 301 315 337 334 340 319  17  74\n",
      " 148 341 299 344 342 324 345 346 304 281 343 338  14 347  15 291 348 349\n",
      " 285 350 284  25 283 278  81   4  87  83  79  70  13 293  37  78  63  22\n",
      " 296 355  66  19  35 360 357 354 351 362 358 365 298 286 364 363  47 361\n",
      " 288 366 356 352 359 297 367 353 368  42 290  67 371 370 369  50  36 373\n",
      " 374 372 311 375 378  59 379  40  18  43  20  69  38 385  56  55  44 391\n",
      "  72 390  32  62 399 393  65 377 395 388 389 386  61 412 405 434 394 382\n",
      " 459 440 397 383  68 461 462 463 422  51 457 430 442 403 454 428 392 410\n",
      " 401 474 475 477 478  54 476 380 479  45  46 495  58  48 518  52 515 520\n",
      " 511 536 387 218  33 544 435 436 555 433 446 558 469 616 561 553 384 592\n",
      " 467 585 480 421 667 626 426 595 381 376 648 521 452 449 633 398  53 460\n",
      " 670 551 414 557 687 404 651 686 425 504 578 674 416 586 411 756 450 745\n",
      " 514 417 424 776 396 683 529 439 415 456 407 458 532 481 791 701 531 792\n",
      " 413 445 535 784 419 455 491 431 542 470 472 717 437   3 782 728 828 524\n",
      " 562 761 492 775 579 493 464 760 466 465 656 831 490 432 655 427 749 838\n",
      " 769 587 778 854 779 850 771 594 842 589 603 484 489 486 409 444 680 808\n",
      " 485 503 690 772 774 526 420 528 500 826 804 508 547 805 541 543 871 550\n",
      " 530]\n",
      "previous:[  0   3   1   4   2  11  16   6   5  10  12   7  18   9  21   8  14  15\n",
      "  26  37  13  25  20  27  17  23  38  29  24  51 275  22  19  30  58  28\n",
      "  32  40  55  35  41]\n",
      "poutcome:['unknown' 'failure' 'other' 'success']\n",
      "Target:['no' 'yes']\n"
     ]
    }
   ],
   "source": [
    "# unique values in different columns\n",
    "for column in columns_list:\n",
    "    print(f'{column}:{df[column].unique()}')"
   ]
  },
  {
   "cell_type": "code",
   "execution_count": 10,
   "id": "aaf1f68b",
   "metadata": {},
   "outputs": [
    {
     "data": {
      "text/plain": [
       "age          0\n",
       "job          0\n",
       "marital      0\n",
       "education    0\n",
       "default      0\n",
       "balance      0\n",
       "housing      0\n",
       "loan         0\n",
       "contact      0\n",
       "day          0\n",
       "month        0\n",
       "duration     0\n",
       "campaign     0\n",
       "pdays        0\n",
       "previous     0\n",
       "poutcome     0\n",
       "Target       0\n",
       "dtype: int64"
      ]
     },
     "execution_count": 10,
     "metadata": {},
     "output_type": "execute_result"
    }
   ],
   "source": [
    "df.isnull().sum()"
   ]
  },
  {
   "cell_type": "code",
   "execution_count": 11,
   "id": "4c82921d",
   "metadata": {},
   "outputs": [
    {
     "data": {
      "text/plain": [
       "age              0\n",
       "job            288\n",
       "marital          0\n",
       "education     1857\n",
       "default          0\n",
       "balance          0\n",
       "housing          0\n",
       "loan             0\n",
       "contact      13020\n",
       "day              0\n",
       "month            0\n",
       "duration         0\n",
       "campaign         0\n",
       "pdays            0\n",
       "previous         0\n",
       "poutcome     36959\n",
       "Target           0\n",
       "dtype: int64"
      ]
     },
     "execution_count": 11,
     "metadata": {},
     "output_type": "execute_result"
    }
   ],
   "source": [
    "# replace unknown to NaN\n",
    "df=df.replace(\"unknown\",np.nan)\n",
    "df.isnull().sum()"
   ]
  },
  {
   "cell_type": "code",
   "execution_count": 12,
   "id": "bb420ae1",
   "metadata": {},
   "outputs": [
    {
     "name": "stdout",
     "output_type": "stream",
     "text": [
      "<class 'pandas.core.frame.DataFrame'>\n",
      "RangeIndex: 45211 entries, 0 to 45210\n",
      "Data columns (total 17 columns):\n",
      " #   Column     Non-Null Count  Dtype \n",
      "---  ------     --------------  ----- \n",
      " 0   age        45211 non-null  int64 \n",
      " 1   job        44923 non-null  object\n",
      " 2   marital    45211 non-null  object\n",
      " 3   education  43354 non-null  object\n",
      " 4   default    45211 non-null  object\n",
      " 5   balance    45211 non-null  int64 \n",
      " 6   housing    45211 non-null  object\n",
      " 7   loan       45211 non-null  object\n",
      " 8   contact    32191 non-null  object\n",
      " 9   day        45211 non-null  int64 \n",
      " 10  month      45211 non-null  object\n",
      " 11  duration   45211 non-null  int64 \n",
      " 12  campaign   45211 non-null  int64 \n",
      " 13  pdays      45211 non-null  int64 \n",
      " 14  previous   45211 non-null  int64 \n",
      " 15  poutcome   8252 non-null   object\n",
      " 16  Target     45211 non-null  object\n",
      "dtypes: int64(7), object(10)\n",
      "memory usage: 5.9+ MB\n"
     ]
    }
   ],
   "source": [
    "df.info()"
   ]
  },
  {
   "cell_type": "code",
   "execution_count": 13,
   "id": "c9c6b789",
   "metadata": {},
   "outputs": [],
   "source": [
    "# find % of missing value"
   ]
  },
  {
   "cell_type": "code",
   "execution_count": 14,
   "id": "0f6c908b",
   "metadata": {},
   "outputs": [
    {
     "data": {
      "text/plain": [
       "age           0.000000\n",
       "job           0.637013\n",
       "marital       0.000000\n",
       "education     4.107407\n",
       "default       0.000000\n",
       "balance       0.000000\n",
       "housing       0.000000\n",
       "loan          0.000000\n",
       "contact      28.798301\n",
       "day           0.000000\n",
       "month         0.000000\n",
       "duration      0.000000\n",
       "campaign      0.000000\n",
       "pdays         0.000000\n",
       "previous      0.000000\n",
       "poutcome     81.747805\n",
       "Target        0.000000\n",
       "dtype: float64"
      ]
     },
     "execution_count": 14,
     "metadata": {},
     "output_type": "execute_result"
    }
   ],
   "source": [
    "df.isnull().sum()/len(df)*100"
   ]
  },
  {
   "cell_type": "code",
   "execution_count": 15,
   "id": "3deaece4",
   "metadata": {},
   "outputs": [],
   "source": [
    "# Since the 'contact' and 'poutcome' both the columns have huge amount of missing values. So we should drop it"
   ]
  },
  {
   "cell_type": "code",
   "execution_count": 16,
   "id": "21c5741d",
   "metadata": {},
   "outputs": [],
   "source": [
    "# we can drop contact and poutcome \n",
    "df1=df.drop([\"contact\",\"poutcome\"],axis=1)"
   ]
  },
  {
   "cell_type": "code",
   "execution_count": 17,
   "id": "c378b740",
   "metadata": {},
   "outputs": [
    {
     "name": "stdout",
     "output_type": "stream",
     "text": [
      "<class 'pandas.core.frame.DataFrame'>\n",
      "RangeIndex: 45211 entries, 0 to 45210\n",
      "Data columns (total 15 columns):\n",
      " #   Column     Non-Null Count  Dtype \n",
      "---  ------     --------------  ----- \n",
      " 0   age        45211 non-null  int64 \n",
      " 1   job        44923 non-null  object\n",
      " 2   marital    45211 non-null  object\n",
      " 3   education  43354 non-null  object\n",
      " 4   default    45211 non-null  object\n",
      " 5   balance    45211 non-null  int64 \n",
      " 6   housing    45211 non-null  object\n",
      " 7   loan       45211 non-null  object\n",
      " 8   day        45211 non-null  int64 \n",
      " 9   month      45211 non-null  object\n",
      " 10  duration   45211 non-null  int64 \n",
      " 11  campaign   45211 non-null  int64 \n",
      " 12  pdays      45211 non-null  int64 \n",
      " 13  previous   45211 non-null  int64 \n",
      " 14  Target     45211 non-null  object\n",
      "dtypes: int64(7), object(8)\n",
      "memory usage: 5.2+ MB\n"
     ]
    }
   ],
   "source": [
    "df1.info()"
   ]
  },
  {
   "cell_type": "code",
   "execution_count": 18,
   "id": "e5fbc4fb",
   "metadata": {},
   "outputs": [
    {
     "data": {
      "text/plain": [
       "age          0.000000\n",
       "job          0.637013\n",
       "marital      0.000000\n",
       "education    4.107407\n",
       "default      0.000000\n",
       "balance      0.000000\n",
       "housing      0.000000\n",
       "loan         0.000000\n",
       "day          0.000000\n",
       "month        0.000000\n",
       "duration     0.000000\n",
       "campaign     0.000000\n",
       "pdays        0.000000\n",
       "previous     0.000000\n",
       "Target       0.000000\n",
       "dtype: float64"
      ]
     },
     "execution_count": 18,
     "metadata": {},
     "output_type": "execute_result"
    }
   ],
   "source": [
    "df1.isnull().sum()/len(df1)*100"
   ]
  },
  {
   "cell_type": "code",
   "execution_count": 19,
   "id": "50cf08b7",
   "metadata": {},
   "outputs": [],
   "source": [
    "df1[\"job\"]=df1[\"job\"].fillna(df1[\"job\"].mode()[0])\n",
    "df1[\"education\"]=df1[\"education\"].fillna(df1[\"education\"].mode()[0])"
   ]
  },
  {
   "cell_type": "code",
   "execution_count": 20,
   "id": "3a68ca51",
   "metadata": {},
   "outputs": [
    {
     "data": {
      "text/plain": [
       "age          0.0\n",
       "job          0.0\n",
       "marital      0.0\n",
       "education    0.0\n",
       "default      0.0\n",
       "balance      0.0\n",
       "housing      0.0\n",
       "loan         0.0\n",
       "day          0.0\n",
       "month        0.0\n",
       "duration     0.0\n",
       "campaign     0.0\n",
       "pdays        0.0\n",
       "previous     0.0\n",
       "Target       0.0\n",
       "dtype: float64"
      ]
     },
     "execution_count": 20,
     "metadata": {},
     "output_type": "execute_result"
    }
   ],
   "source": [
    "df1.isnull().sum()/len(df1)*100"
   ]
  },
  {
   "cell_type": "code",
   "execution_count": 21,
   "id": "f3be686b",
   "metadata": {},
   "outputs": [
    {
     "data": {
      "text/html": [
       "<div>\n",
       "<style scoped>\n",
       "    .dataframe tbody tr th:only-of-type {\n",
       "        vertical-align: middle;\n",
       "    }\n",
       "\n",
       "    .dataframe tbody tr th {\n",
       "        vertical-align: top;\n",
       "    }\n",
       "\n",
       "    .dataframe thead th {\n",
       "        text-align: right;\n",
       "    }\n",
       "</style>\n",
       "<table border=\"1\" class=\"dataframe\">\n",
       "  <thead>\n",
       "    <tr style=\"text-align: right;\">\n",
       "      <th></th>\n",
       "      <th>age</th>\n",
       "      <th>balance</th>\n",
       "      <th>day</th>\n",
       "      <th>duration</th>\n",
       "      <th>campaign</th>\n",
       "      <th>pdays</th>\n",
       "      <th>previous</th>\n",
       "    </tr>\n",
       "  </thead>\n",
       "  <tbody>\n",
       "    <tr>\n",
       "      <th>count</th>\n",
       "      <td>45211.000000</td>\n",
       "      <td>45211.000000</td>\n",
       "      <td>45211.000000</td>\n",
       "      <td>45211.000000</td>\n",
       "      <td>45211.000000</td>\n",
       "      <td>45211.000000</td>\n",
       "      <td>45211.000000</td>\n",
       "    </tr>\n",
       "    <tr>\n",
       "      <th>mean</th>\n",
       "      <td>40.936210</td>\n",
       "      <td>1362.272058</td>\n",
       "      <td>15.806419</td>\n",
       "      <td>258.163080</td>\n",
       "      <td>2.763841</td>\n",
       "      <td>40.197828</td>\n",
       "      <td>0.580323</td>\n",
       "    </tr>\n",
       "    <tr>\n",
       "      <th>std</th>\n",
       "      <td>10.618762</td>\n",
       "      <td>3044.765829</td>\n",
       "      <td>8.322476</td>\n",
       "      <td>257.527812</td>\n",
       "      <td>3.098021</td>\n",
       "      <td>100.128746</td>\n",
       "      <td>2.303441</td>\n",
       "    </tr>\n",
       "    <tr>\n",
       "      <th>min</th>\n",
       "      <td>18.000000</td>\n",
       "      <td>-8019.000000</td>\n",
       "      <td>1.000000</td>\n",
       "      <td>0.000000</td>\n",
       "      <td>1.000000</td>\n",
       "      <td>-1.000000</td>\n",
       "      <td>0.000000</td>\n",
       "    </tr>\n",
       "    <tr>\n",
       "      <th>25%</th>\n",
       "      <td>33.000000</td>\n",
       "      <td>72.000000</td>\n",
       "      <td>8.000000</td>\n",
       "      <td>103.000000</td>\n",
       "      <td>1.000000</td>\n",
       "      <td>-1.000000</td>\n",
       "      <td>0.000000</td>\n",
       "    </tr>\n",
       "    <tr>\n",
       "      <th>50%</th>\n",
       "      <td>39.000000</td>\n",
       "      <td>448.000000</td>\n",
       "      <td>16.000000</td>\n",
       "      <td>180.000000</td>\n",
       "      <td>2.000000</td>\n",
       "      <td>-1.000000</td>\n",
       "      <td>0.000000</td>\n",
       "    </tr>\n",
       "    <tr>\n",
       "      <th>75%</th>\n",
       "      <td>48.000000</td>\n",
       "      <td>1428.000000</td>\n",
       "      <td>21.000000</td>\n",
       "      <td>319.000000</td>\n",
       "      <td>3.000000</td>\n",
       "      <td>-1.000000</td>\n",
       "      <td>0.000000</td>\n",
       "    </tr>\n",
       "    <tr>\n",
       "      <th>max</th>\n",
       "      <td>95.000000</td>\n",
       "      <td>102127.000000</td>\n",
       "      <td>31.000000</td>\n",
       "      <td>4918.000000</td>\n",
       "      <td>63.000000</td>\n",
       "      <td>871.000000</td>\n",
       "      <td>275.000000</td>\n",
       "    </tr>\n",
       "  </tbody>\n",
       "</table>\n",
       "</div>"
      ],
      "text/plain": [
       "                age        balance           day      duration      campaign  \\\n",
       "count  45211.000000   45211.000000  45211.000000  45211.000000  45211.000000   \n",
       "mean      40.936210    1362.272058     15.806419    258.163080      2.763841   \n",
       "std       10.618762    3044.765829      8.322476    257.527812      3.098021   \n",
       "min       18.000000   -8019.000000      1.000000      0.000000      1.000000   \n",
       "25%       33.000000      72.000000      8.000000    103.000000      1.000000   \n",
       "50%       39.000000     448.000000     16.000000    180.000000      2.000000   \n",
       "75%       48.000000    1428.000000     21.000000    319.000000      3.000000   \n",
       "max       95.000000  102127.000000     31.000000   4918.000000     63.000000   \n",
       "\n",
       "              pdays      previous  \n",
       "count  45211.000000  45211.000000  \n",
       "mean      40.197828      0.580323  \n",
       "std      100.128746      2.303441  \n",
       "min       -1.000000      0.000000  \n",
       "25%       -1.000000      0.000000  \n",
       "50%       -1.000000      0.000000  \n",
       "75%       -1.000000      0.000000  \n",
       "max      871.000000    275.000000  "
      ]
     },
     "execution_count": 21,
     "metadata": {},
     "output_type": "execute_result"
    }
   ],
   "source": [
    "df1.describe()"
   ]
  },
  {
   "cell_type": "code",
   "execution_count": 22,
   "id": "a8633525",
   "metadata": {},
   "outputs": [
    {
     "data": {
      "text/plain": [
       "<AxesSubplot:>"
      ]
     },
     "execution_count": 22,
     "metadata": {},
     "output_type": "execute_result"
    },
    {
     "data": {
      "image/png": "[encoded data removed]",
      "text/plain": [
       "<Figure size 1200x600 with 1 Axes>"
      ]
     },
     "metadata": {},
     "output_type": "display_data"
    }
   ],
   "source": [
    "plt.figure(figsize=(12,6))\n",
    "sns.boxplot(data=df1)"
   ]
  },
  {
   "cell_type": "code",
   "execution_count": 23,
   "id": "ced2ea73",
   "metadata": {},
   "outputs": [
    {
     "data": {
      "text/plain": [
       "<AxesSubplot:>"
      ]
     },
     "execution_count": 23,
     "metadata": {},
     "output_type": "execute_result"
    },
    {
     "data": {
      "image/png": "[encoded data removed]",
      "text/plain": [
       "<Figure size 1200x600 with 1 Axes>"
      ]
     },
     "metadata": {},
     "output_type": "display_data"
    }
   ],
   "source": [
    "plt.figure(figsize=(12,6))\n",
    "sns.boxplot(data= df1['balance'])"
   ]
  },
  {
   "cell_type": "code",
   "execution_count": 24,
   "id": "fa30f5c8",
   "metadata": {},
   "outputs": [
    {
     "data": {
      "text/plain": [
       "<AxesSubplot:xlabel='balance', ylabel='Count'>"
      ]
     },
     "execution_count": 24,
     "metadata": {},
     "output_type": "execute_result"
    },
    {
     "data": {
      "image/png": "[encoded data removed]",
      "text/plain": [
       "<Figure size 1200x600 with 1 Axes>"
      ]
     },
     "metadata": {},
     "output_type": "display_data"
    }
   ],
   "source": [
    "plt.figure(figsize=(12,6))\n",
    "sns.histplot(data=df1['balance'])"
   ]
  },
  {
   "cell_type": "code",
   "execution_count": 24,
   "id": "4b2698d7",
   "metadata": {},
   "outputs": [],
   "source": [
    "# please draw boxplot, histogram for visualization\n",
    "#we are not handling outliers because we dont know about the banking domain"
   ]
  },
  {
   "cell_type": "code",
   "execution_count": 25,
   "id": "3f81e731",
   "metadata": {},
   "outputs": [
    {
     "name": "stdout",
     "output_type": "stream",
     "text": [
      "<class 'pandas.core.frame.DataFrame'>\n",
      "RangeIndex: 45211 entries, 0 to 45210\n",
      "Data columns (total 15 columns):\n",
      " #   Column     Non-Null Count  Dtype \n",
      "---  ------     --------------  ----- \n",
      " 0   age        45211 non-null  int64 \n",
      " 1   job        45211 non-null  object\n",
      " 2   marital    45211 non-null  object\n",
      " 3   education  45211 non-null  object\n",
      " 4   default    45211 non-null  object\n",
      " 5   balance    45211 non-null  int64 \n",
      " 6   housing    45211 non-null  object\n",
      " 7   loan       45211 non-null  object\n",
      " 8   day        45211 non-null  int64 \n",
      " 9   month      45211 non-null  object\n",
      " 10  duration   45211 non-null  int64 \n",
      " 11  campaign   45211 non-null  int64 \n",
      " 12  pdays      45211 non-null  int64 \n",
      " 13  previous   45211 non-null  int64 \n",
      " 14  Target     45211 non-null  object\n",
      "dtypes: int64(7), object(8)\n",
      "memory usage: 5.2+ MB\n"
     ]
    }
   ],
   "source": [
    "df1.info()"
   ]
  },
  {
   "cell_type": "code",
   "execution_count": 26,
   "id": "b9872219",
   "metadata": {},
   "outputs": [
    {
     "name": "stdout",
     "output_type": "stream",
     "text": [
      "Index(['age', 'job', 'marital', 'education', 'default', 'balance', 'housing',\n",
      "       'loan', 'day', 'month', 'duration', 'campaign', 'pdays', 'previous',\n",
      "       'Target'],\n",
      "      dtype='object')\n"
     ]
    }
   ],
   "source": [
    "columns_list1=df1.columns\n",
    "print(columns_list1)"
   ]
  },
  {
   "cell_type": "code",
   "execution_count": 27,
   "id": "d58c7e13",
   "metadata": {},
   "outputs": [
    {
     "name": "stdout",
     "output_type": "stream",
     "text": [
      "age:[58 44 33 47 35 28 42 43 41 29 53 57 51 45 60 56 32 25 40 39 52 46 36 49\n",
      " 59 37 50 54 55 48 24 38 31 30 27 34 23 26 61 22 21 20 66 62 83 75 67 70\n",
      " 65 68 64 69 72 71 19 76 85 63 90 82 73 74 78 80 94 79 77 86 95 81 18 89\n",
      " 84 87 92 93 88]\n",
      "job:['management' 'technician' 'entrepreneur' 'blue-collar' 'retired' 'admin.'\n",
      " 'services' 'self-employed' 'unemployed' 'housemaid' 'student']\n",
      "marital:['married' 'single' 'divorced']\n",
      "education:['tertiary' 'secondary' 'primary']\n",
      "default:['no' 'yes']\n",
      "balance:[ 2143    29     2 ...  8205 14204 16353]\n",
      "housing:['yes' 'no']\n",
      "loan:['no' 'yes']\n",
      "day:[ 5  6  7  8  9 12 13 14 15 16 19 20 21 23 26 27 28 29 30  2  3  4 11 17\n",
      " 18 24 25  1 10 22 31]\n",
      "month:['may' 'jun' 'jul' 'aug' 'oct' 'nov' 'dec' 'jan' 'feb' 'mar' 'apr' 'sep']\n",
      "duration:[ 261  151   76 ... 1298 1246 1556]\n",
      "campaign:[ 1  2  3  5  4  6  7  8  9 10 11 12 13 19 14 24 16 32 18 22 15 17 25 21\n",
      " 43 51 63 41 26 28 55 50 38 23 20 29 31 37 30 46 27 58 33 35 34 36 39 44]\n",
      "pdays:[ -1 151 166  91  86 143 147  89 140 176 101 174 170 167 195 165 129 188\n",
      " 196 172 118 119 104 171 117 164 132 131 123 159 186 111 115 116 173 178\n",
      " 110 152  96 103 150 175 193 181 185 154 145 138 126 180 109 158 168  97\n",
      " 182 127 130 194 125 105 102  26 179  28 183 155 112 120 137 124 187 190\n",
      " 113 162 134 169 189   8 144 191 184 177   5  99 133  93  92  10 100 156\n",
      " 198 106 153 146 128   7 121 160 107  90  27 197 136 139 122 157 149 135\n",
      "  30 114  98 192 163  34  95 141  31 199  94 108  29 268 247 253 226 244\n",
      " 239 245 204 231 238 258 230 254 265  71 223 246 250 266 240 205 261 259\n",
      " 241 260 234 251 225 161 237 262 248 255 220 227 206 224 249 235 228 263\n",
      "   2 270 232 252 207 200 269 233 256 273 272 242 264 208 214 222 271 203\n",
      " 221 202 216 201 257 229 210 217  75 213  73  76 267 211 215  77 236  82\n",
      "   6 209 274   1 243 212 275  80 276   9 279  12 280  88 277  85  84 219\n",
      "  24  21 282  41 294  49 329 307 303 331 308 300  64 314 287 330 332 302\n",
      " 323 318 333  60 326 335 313 312 305 325 327 336 309 328 322  39 316 292\n",
      " 295 310 306 320 317 289  57 321 142 339 301 315 337 334 340 319  17  74\n",
      " 148 341 299 344 342 324 345 346 304 281 343 338  14 347  15 291 348 349\n",
      " 285 350 284  25 283 278  81   4  87  83  79  70  13 293  37  78  63  22\n",
      " 296 355  66  19  35 360 357 354 351 362 358 365 298 286 364 363  47 361\n",
      " 288 366 356 352 359 297 367 353 368  42 290  67 371 370 369  50  36 373\n",
      " 374 372 311 375 378  59 379  40  18  43  20  69  38 385  56  55  44 391\n",
      "  72 390  32  62 399 393  65 377 395 388 389 386  61 412 405 434 394 382\n",
      " 459 440 397 383  68 461 462 463 422  51 457 430 442 403 454 428 392 410\n",
      " 401 474 475 477 478  54 476 380 479  45  46 495  58  48 518  52 515 520\n",
      " 511 536 387 218  33 544 435 436 555 433 446 558 469 616 561 553 384 592\n",
      " 467 585 480 421 667 626 426 595 381 376 648 521 452 449 633 398  53 460\n",
      " 670 551 414 557 687 404 651 686 425 504 578 674 416 586 411 756 450 745\n",
      " 514 417 424 776 396 683 529 439 415 456 407 458 532 481 791 701 531 792\n",
      " 413 445 535 784 419 455 491 431 542 470 472 717 437   3 782 728 828 524\n",
      " 562 761 492 775 579 493 464 760 466 465 656 831 490 432 655 427 749 838\n",
      " 769 587 778 854 779 850 771 594 842 589 603 484 489 486 409 444 680 808\n",
      " 485 503 690 772 774 526 420 528 500 826 804 508 547 805 541 543 871 550\n",
      " 530]\n",
      "previous:[  0   3   1   4   2  11  16   6   5  10  12   7  18   9  21   8  14  15\n",
      "  26  37  13  25  20  27  17  23  38  29  24  51 275  22  19  30  58  28\n",
      "  32  40  55  35  41]\n",
      "Target:['no' 'yes']\n"
     ]
    }
   ],
   "source": [
    "# unique values in different columns\n",
    "for column in columns_list1:\n",
    "    print(f'{column}:{df1[column].unique()}')"
   ]
  },
  {
   "cell_type": "code",
   "execution_count": 28,
   "id": "b39f045d",
   "metadata": {},
   "outputs": [],
   "source": [
    "# for praqctice please try ----label encoding approach and see the performance\n",
    "# no. of column will not increase\n",
    "from sklearn import preprocessing\n",
    "label=preprocessing.LabelEncoder()"
   ]
  },
  {
   "cell_type": "code",
   "execution_count": 29,
   "id": "6e9c72b3",
   "metadata": {},
   "outputs": [],
   "source": [
    "df1[['job','marital', 'education', 'default','housing','loan','month','Target']]=df1[['job','marital', 'education', 'default','housing','loan','month','Target']].apply(label.fit_transform)"
   ]
  },
  {
   "cell_type": "code",
   "execution_count": 30,
   "id": "e5b1c93f",
   "metadata": {},
   "outputs": [
    {
     "name": "stdout",
     "output_type": "stream",
     "text": [
      "<class 'pandas.core.frame.DataFrame'>\n",
      "RangeIndex: 45211 entries, 0 to 45210\n",
      "Data columns (total 15 columns):\n",
      " #   Column     Non-Null Count  Dtype\n",
      "---  ------     --------------  -----\n",
      " 0   age        45211 non-null  int64\n",
      " 1   job        45211 non-null  int64\n",
      " 2   marital    45211 non-null  int64\n",
      " 3   education  45211 non-null  int64\n",
      " 4   default    45211 non-null  int64\n",
      " 5   balance    45211 non-null  int64\n",
      " 6   housing    45211 non-null  int64\n",
      " 7   loan       45211 non-null  int64\n",
      " 8   day        45211 non-null  int64\n",
      " 9   month      45211 non-null  int64\n",
      " 10  duration   45211 non-null  int64\n",
      " 11  campaign   45211 non-null  int64\n",
      " 12  pdays      45211 non-null  int64\n",
      " 13  previous   45211 non-null  int64\n",
      " 14  Target     45211 non-null  int64\n",
      "dtypes: int64(15)\n",
      "memory usage: 5.2 MB\n"
     ]
    }
   ],
   "source": [
    "df1.info()"
   ]
  },
  {
   "cell_type": "code",
   "execution_count": 31,
   "id": "2e6a0d91",
   "metadata": {},
   "outputs": [
    {
     "data": {
      "text/html": [
       "<div>\n",
       "<style scoped>\n",
       "    .dataframe tbody tr th:only-of-type {\n",
       "        vertical-align: middle;\n",
       "    }\n",
       "\n",
       "    .dataframe tbody tr th {\n",
       "        vertical-align: top;\n",
       "    }\n",
       "\n",
       "    .dataframe thead th {\n",
       "        text-align: right;\n",
       "    }\n",
       "</style>\n",
       "<table border=\"1\" class=\"dataframe\">\n",
       "  <thead>\n",
       "    <tr style=\"text-align: right;\">\n",
       "      <th></th>\n",
       "      <th>age</th>\n",
       "      <th>job</th>\n",
       "      <th>marital</th>\n",
       "      <th>education</th>\n",
       "      <th>default</th>\n",
       "      <th>balance</th>\n",
       "      <th>housing</th>\n",
       "      <th>loan</th>\n",
       "      <th>day</th>\n",
       "      <th>month</th>\n",
       "      <th>duration</th>\n",
       "      <th>campaign</th>\n",
       "      <th>pdays</th>\n",
       "      <th>previous</th>\n",
       "      <th>Target</th>\n",
       "    </tr>\n",
       "  </thead>\n",
       "  <tbody>\n",
       "    <tr>\n",
       "      <th>0</th>\n",
       "      <td>58</td>\n",
       "      <td>4</td>\n",
       "      <td>1</td>\n",
       "      <td>2</td>\n",
       "      <td>0</td>\n",
       "      <td>2143</td>\n",
       "      <td>1</td>\n",
       "      <td>0</td>\n",
       "      <td>5</td>\n",
       "      <td>8</td>\n",
       "      <td>261</td>\n",
       "      <td>1</td>\n",
       "      <td>-1</td>\n",
       "      <td>0</td>\n",
       "      <td>0</td>\n",
       "    </tr>\n",
       "    <tr>\n",
       "      <th>1</th>\n",
       "      <td>44</td>\n",
       "      <td>9</td>\n",
       "      <td>2</td>\n",
       "      <td>1</td>\n",
       "      <td>0</td>\n",
       "      <td>29</td>\n",
       "      <td>1</td>\n",
       "      <td>0</td>\n",
       "      <td>5</td>\n",
       "      <td>8</td>\n",
       "      <td>151</td>\n",
       "      <td>1</td>\n",
       "      <td>-1</td>\n",
       "      <td>0</td>\n",
       "      <td>0</td>\n",
       "    </tr>\n",
       "    <tr>\n",
       "      <th>2</th>\n",
       "      <td>33</td>\n",
       "      <td>2</td>\n",
       "      <td>1</td>\n",
       "      <td>1</td>\n",
       "      <td>0</td>\n",
       "      <td>2</td>\n",
       "      <td>1</td>\n",
       "      <td>1</td>\n",
       "      <td>5</td>\n",
       "      <td>8</td>\n",
       "      <td>76</td>\n",
       "      <td>1</td>\n",
       "      <td>-1</td>\n",
       "      <td>0</td>\n",
       "      <td>0</td>\n",
       "    </tr>\n",
       "    <tr>\n",
       "      <th>3</th>\n",
       "      <td>47</td>\n",
       "      <td>1</td>\n",
       "      <td>1</td>\n",
       "      <td>1</td>\n",
       "      <td>0</td>\n",
       "      <td>1506</td>\n",
       "      <td>1</td>\n",
       "      <td>0</td>\n",
       "      <td>5</td>\n",
       "      <td>8</td>\n",
       "      <td>92</td>\n",
       "      <td>1</td>\n",
       "      <td>-1</td>\n",
       "      <td>0</td>\n",
       "      <td>0</td>\n",
       "    </tr>\n",
       "    <tr>\n",
       "      <th>4</th>\n",
       "      <td>33</td>\n",
       "      <td>1</td>\n",
       "      <td>2</td>\n",
       "      <td>1</td>\n",
       "      <td>0</td>\n",
       "      <td>1</td>\n",
       "      <td>0</td>\n",
       "      <td>0</td>\n",
       "      <td>5</td>\n",
       "      <td>8</td>\n",
       "      <td>198</td>\n",
       "      <td>1</td>\n",
       "      <td>-1</td>\n",
       "      <td>0</td>\n",
       "      <td>0</td>\n",
       "    </tr>\n",
       "  </tbody>\n",
       "</table>\n",
       "</div>"
      ],
      "text/plain": [
       "   age  job  marital  education  default  balance  housing  loan  day  month  \\\n",
       "0   58    4        1          2        0     2143        1     0    5      8   \n",
       "1   44    9        2          1        0       29        1     0    5      8   \n",
       "2   33    2        1          1        0        2        1     1    5      8   \n",
       "3   47    1        1          1        0     1506        1     0    5      8   \n",
       "4   33    1        2          1        0        1        0     0    5      8   \n",
       "\n",
       "   duration  campaign  pdays  previous  Target  \n",
       "0       261         1     -1         0       0  \n",
       "1       151         1     -1         0       0  \n",
       "2        76         1     -1         0       0  \n",
       "3        92         1     -1         0       0  \n",
       "4       198         1     -1         0       0  "
      ]
     },
     "execution_count": 31,
     "metadata": {},
     "output_type": "execute_result"
    }
   ],
   "source": [
    "df1.head()"
   ]
  },
  {
   "cell_type": "code",
   "execution_count": 32,
   "id": "8eb955b3",
   "metadata": {},
   "outputs": [
    {
     "data": {
      "text/html": [
       "<div>\n",
       "<style scoped>\n",
       "    .dataframe tbody tr th:only-of-type {\n",
       "        vertical-align: middle;\n",
       "    }\n",
       "\n",
       "    .dataframe tbody tr th {\n",
       "        vertical-align: top;\n",
       "    }\n",
       "\n",
       "    .dataframe thead th {\n",
       "        text-align: right;\n",
       "    }\n",
       "</style>\n",
       "<table border=\"1\" class=\"dataframe\">\n",
       "  <thead>\n",
       "    <tr style=\"text-align: right;\">\n",
       "      <th></th>\n",
       "      <th>age</th>\n",
       "      <th>job</th>\n",
       "      <th>marital</th>\n",
       "      <th>education</th>\n",
       "      <th>default</th>\n",
       "      <th>balance</th>\n",
       "      <th>housing</th>\n",
       "      <th>loan</th>\n",
       "      <th>day</th>\n",
       "      <th>month</th>\n",
       "      <th>duration</th>\n",
       "      <th>campaign</th>\n",
       "      <th>pdays</th>\n",
       "      <th>previous</th>\n",
       "      <th>Target</th>\n",
       "    </tr>\n",
       "  </thead>\n",
       "  <tbody>\n",
       "    <tr>\n",
       "      <th>age</th>\n",
       "      <td>1.000000</td>\n",
       "      <td>-0.034420</td>\n",
       "      <td>-0.403240</td>\n",
       "      <td>-0.164888</td>\n",
       "      <td>-0.017879</td>\n",
       "      <td>0.097783</td>\n",
       "      <td>-0.185513</td>\n",
       "      <td>-0.015655</td>\n",
       "      <td>-0.009120</td>\n",
       "      <td>-0.042357</td>\n",
       "      <td>-0.004648</td>\n",
       "      <td>0.004760</td>\n",
       "      <td>-0.023758</td>\n",
       "      <td>0.001288</td>\n",
       "      <td>0.025155</td>\n",
       "    </tr>\n",
       "    <tr>\n",
       "      <th>job</th>\n",
       "      <td>-0.034420</td>\n",
       "      <td>1.000000</td>\n",
       "      <td>0.062377</td>\n",
       "      <td>0.184084</td>\n",
       "      <td>-0.005285</td>\n",
       "      <td>0.015769</td>\n",
       "      <td>-0.108219</td>\n",
       "      <td>-0.025496</td>\n",
       "      <td>0.025840</td>\n",
       "      <td>-0.090921</td>\n",
       "      <td>0.006361</td>\n",
       "      <td>0.003448</td>\n",
       "      <td>-0.020931</td>\n",
       "      <td>0.001307</td>\n",
       "      <td>0.040786</td>\n",
       "    </tr>\n",
       "    <tr>\n",
       "      <th>marital</th>\n",
       "      <td>-0.403240</td>\n",
       "      <td>0.062377</td>\n",
       "      <td>1.000000</td>\n",
       "      <td>0.119220</td>\n",
       "      <td>-0.007023</td>\n",
       "      <td>0.002122</td>\n",
       "      <td>-0.016096</td>\n",
       "      <td>-0.046893</td>\n",
       "      <td>-0.005261</td>\n",
       "      <td>-0.006991</td>\n",
       "      <td>0.011852</td>\n",
       "      <td>-0.008994</td>\n",
       "      <td>0.019172</td>\n",
       "      <td>0.014973</td>\n",
       "      <td>0.045588</td>\n",
       "    </tr>\n",
       "    <tr>\n",
       "      <th>education</th>\n",
       "      <td>-0.164888</td>\n",
       "      <td>0.184084</td>\n",
       "      <td>0.119220</td>\n",
       "      <td>1.000000</td>\n",
       "      <td>-0.011539</td>\n",
       "      <td>0.067184</td>\n",
       "      <td>-0.075157</td>\n",
       "      <td>-0.025282</td>\n",
       "      <td>0.025931</td>\n",
       "      <td>-0.075052</td>\n",
       "      <td>0.002635</td>\n",
       "      <td>0.003703</td>\n",
       "      <td>0.004264</td>\n",
       "      <td>0.025175</td>\n",
       "      <td>0.068633</td>\n",
       "    </tr>\n",
       "    <tr>\n",
       "      <th>default</th>\n",
       "      <td>-0.017879</td>\n",
       "      <td>-0.005285</td>\n",
       "      <td>-0.007023</td>\n",
       "      <td>-0.011539</td>\n",
       "      <td>1.000000</td>\n",
       "      <td>-0.066745</td>\n",
       "      <td>-0.006025</td>\n",
       "      <td>0.077234</td>\n",
       "      <td>0.009424</td>\n",
       "      <td>0.011486</td>\n",
       "      <td>-0.010021</td>\n",
       "      <td>0.016822</td>\n",
       "      <td>-0.029979</td>\n",
       "      <td>-0.018329</td>\n",
       "      <td>-0.022419</td>\n",
       "    </tr>\n",
       "    <tr>\n",
       "      <th>balance</th>\n",
       "      <td>0.097783</td>\n",
       "      <td>0.015769</td>\n",
       "      <td>0.002122</td>\n",
       "      <td>0.067184</td>\n",
       "      <td>-0.066745</td>\n",
       "      <td>1.000000</td>\n",
       "      <td>-0.068768</td>\n",
       "      <td>-0.084350</td>\n",
       "      <td>0.004503</td>\n",
       "      <td>0.019777</td>\n",
       "      <td>0.021560</td>\n",
       "      <td>-0.014578</td>\n",
       "      <td>0.003435</td>\n",
       "      <td>0.016674</td>\n",
       "      <td>0.052838</td>\n",
       "    </tr>\n",
       "    <tr>\n",
       "      <th>housing</th>\n",
       "      <td>-0.185513</td>\n",
       "      <td>-0.108219</td>\n",
       "      <td>-0.016096</td>\n",
       "      <td>-0.075157</td>\n",
       "      <td>-0.006025</td>\n",
       "      <td>-0.068768</td>\n",
       "      <td>1.000000</td>\n",
       "      <td>0.041323</td>\n",
       "      <td>-0.027982</td>\n",
       "      <td>0.271481</td>\n",
       "      <td>0.005075</td>\n",
       "      <td>-0.023599</td>\n",
       "      <td>0.124178</td>\n",
       "      <td>0.037076</td>\n",
       "      <td>-0.139173</td>\n",
       "    </tr>\n",
       "    <tr>\n",
       "      <th>loan</th>\n",
       "      <td>-0.015655</td>\n",
       "      <td>-0.025496</td>\n",
       "      <td>-0.046893</td>\n",
       "      <td>-0.025282</td>\n",
       "      <td>0.077234</td>\n",
       "      <td>-0.084350</td>\n",
       "      <td>0.041323</td>\n",
       "      <td>1.000000</td>\n",
       "      <td>0.011370</td>\n",
       "      <td>0.022145</td>\n",
       "      <td>-0.012412</td>\n",
       "      <td>0.009980</td>\n",
       "      <td>-0.022754</td>\n",
       "      <td>-0.011043</td>\n",
       "      <td>-0.068185</td>\n",
       "    </tr>\n",
       "    <tr>\n",
       "      <th>day</th>\n",
       "      <td>-0.009120</td>\n",
       "      <td>0.025840</td>\n",
       "      <td>-0.005261</td>\n",
       "      <td>0.025931</td>\n",
       "      <td>0.009424</td>\n",
       "      <td>0.004503</td>\n",
       "      <td>-0.027982</td>\n",
       "      <td>0.011370</td>\n",
       "      <td>1.000000</td>\n",
       "      <td>-0.006028</td>\n",
       "      <td>-0.030206</td>\n",
       "      <td>0.162490</td>\n",
       "      <td>-0.093044</td>\n",
       "      <td>-0.051710</td>\n",
       "      <td>-0.028348</td>\n",
       "    </tr>\n",
       "    <tr>\n",
       "      <th>month</th>\n",
       "      <td>-0.042357</td>\n",
       "      <td>-0.090921</td>\n",
       "      <td>-0.006991</td>\n",
       "      <td>-0.075052</td>\n",
       "      <td>0.011486</td>\n",
       "      <td>0.019777</td>\n",
       "      <td>0.271481</td>\n",
       "      <td>0.022145</td>\n",
       "      <td>-0.006028</td>\n",
       "      <td>1.000000</td>\n",
       "      <td>0.006314</td>\n",
       "      <td>-0.110031</td>\n",
       "      <td>0.033065</td>\n",
       "      <td>0.022727</td>\n",
       "      <td>-0.024471</td>\n",
       "    </tr>\n",
       "    <tr>\n",
       "      <th>duration</th>\n",
       "      <td>-0.004648</td>\n",
       "      <td>0.006361</td>\n",
       "      <td>0.011852</td>\n",
       "      <td>0.002635</td>\n",
       "      <td>-0.010021</td>\n",
       "      <td>0.021560</td>\n",
       "      <td>0.005075</td>\n",
       "      <td>-0.012412</td>\n",
       "      <td>-0.030206</td>\n",
       "      <td>0.006314</td>\n",
       "      <td>1.000000</td>\n",
       "      <td>-0.084570</td>\n",
       "      <td>-0.001565</td>\n",
       "      <td>0.001203</td>\n",
       "      <td>0.394521</td>\n",
       "    </tr>\n",
       "    <tr>\n",
       "      <th>campaign</th>\n",
       "      <td>0.004760</td>\n",
       "      <td>0.003448</td>\n",
       "      <td>-0.008994</td>\n",
       "      <td>0.003703</td>\n",
       "      <td>0.016822</td>\n",
       "      <td>-0.014578</td>\n",
       "      <td>-0.023599</td>\n",
       "      <td>0.009980</td>\n",
       "      <td>0.162490</td>\n",
       "      <td>-0.110031</td>\n",
       "      <td>-0.084570</td>\n",
       "      <td>1.000000</td>\n",
       "      <td>-0.088628</td>\n",
       "      <td>-0.032855</td>\n",
       "      <td>-0.073172</td>\n",
       "    </tr>\n",
       "    <tr>\n",
       "      <th>pdays</th>\n",
       "      <td>-0.023758</td>\n",
       "      <td>-0.020931</td>\n",
       "      <td>0.019172</td>\n",
       "      <td>0.004264</td>\n",
       "      <td>-0.029979</td>\n",
       "      <td>0.003435</td>\n",
       "      <td>0.124178</td>\n",
       "      <td>-0.022754</td>\n",
       "      <td>-0.093044</td>\n",
       "      <td>0.033065</td>\n",
       "      <td>-0.001565</td>\n",
       "      <td>-0.088628</td>\n",
       "      <td>1.000000</td>\n",
       "      <td>0.454820</td>\n",
       "      <td>0.103621</td>\n",
       "    </tr>\n",
       "    <tr>\n",
       "      <th>previous</th>\n",
       "      <td>0.001288</td>\n",
       "      <td>0.001307</td>\n",
       "      <td>0.014973</td>\n",
       "      <td>0.025175</td>\n",
       "      <td>-0.018329</td>\n",
       "      <td>0.016674</td>\n",
       "      <td>0.037076</td>\n",
       "      <td>-0.011043</td>\n",
       "      <td>-0.051710</td>\n",
       "      <td>0.022727</td>\n",
       "      <td>0.001203</td>\n",
       "      <td>-0.032855</td>\n",
       "      <td>0.454820</td>\n",
       "      <td>1.000000</td>\n",
       "      <td>0.093236</td>\n",
       "    </tr>\n",
       "    <tr>\n",
       "      <th>Target</th>\n",
       "      <td>0.025155</td>\n",
       "      <td>0.040786</td>\n",
       "      <td>0.045588</td>\n",
       "      <td>0.068633</td>\n",
       "      <td>-0.022419</td>\n",
       "      <td>0.052838</td>\n",
       "      <td>-0.139173</td>\n",
       "      <td>-0.068185</td>\n",
       "      <td>-0.028348</td>\n",
       "      <td>-0.024471</td>\n",
       "      <td>0.394521</td>\n",
       "      <td>-0.073172</td>\n",
       "      <td>0.103621</td>\n",
       "      <td>0.093236</td>\n",
       "      <td>1.000000</td>\n",
       "    </tr>\n",
       "  </tbody>\n",
       "</table>\n",
       "</div>"
      ],
      "text/plain": [
       "                age       job   marital  education   default   balance  \\\n",
       "age        1.000000 -0.034420 -0.403240  -0.164888 -0.017879  0.097783   \n",
       "job       -0.034420  1.000000  0.062377   0.184084 -0.005285  0.015769   \n",
       "marital   -0.403240  0.062377  1.000000   0.119220 -0.007023  0.002122   \n",
       "education -0.164888  0.184084  0.119220   1.000000 -0.011539  0.067184   \n",
       "default   -0.017879 -0.005285 -0.007023  -0.011539  1.000000 -0.066745   \n",
       "balance    0.097783  0.015769  0.002122   0.067184 -0.066745  1.000000   \n",
       "housing   -0.185513 -0.108219 -0.016096  -0.075157 -0.006025 -0.068768   \n",
       "loan      -0.015655 -0.025496 -0.046893  -0.025282  0.077234 -0.084350   \n",
       "day       -0.009120  0.025840 -0.005261   0.025931  0.009424  0.004503   \n",
       "month     -0.042357 -0.090921 -0.006991  -0.075052  0.011486  0.019777   \n",
       "duration  -0.004648  0.006361  0.011852   0.002635 -0.010021  0.021560   \n",
       "campaign   0.004760  0.003448 -0.008994   0.003703  0.016822 -0.014578   \n",
       "pdays     -0.023758 -0.020931  0.019172   0.004264 -0.029979  0.003435   \n",
       "previous   0.001288  0.001307  0.014973   0.025175 -0.018329  0.016674   \n",
       "Target     0.025155  0.040786  0.045588   0.068633 -0.022419  0.052838   \n",
       "\n",
       "            housing      loan       day     month  duration  campaign  \\\n",
       "age       -0.185513 -0.015655 -0.009120 -0.042357 -0.004648  0.004760   \n",
       "job       -0.108219 -0.025496  0.025840 -0.090921  0.006361  0.003448   \n",
       "marital   -0.016096 -0.046893 -0.005261 -0.006991  0.011852 -0.008994   \n",
       "education -0.075157 -0.025282  0.025931 -0.075052  0.002635  0.003703   \n",
       "default   -0.006025  0.077234  0.009424  0.011486 -0.010021  0.016822   \n",
       "balance   -0.068768 -0.084350  0.004503  0.019777  0.021560 -0.014578   \n",
       "housing    1.000000  0.041323 -0.027982  0.271481  0.005075 -0.023599   \n",
       "loan       0.041323  1.000000  0.011370  0.022145 -0.012412  0.009980   \n",
       "day       -0.027982  0.011370  1.000000 -0.006028 -0.030206  0.162490   \n",
       "month      0.271481  0.022145 -0.006028  1.000000  0.006314 -0.110031   \n",
       "duration   0.005075 -0.012412 -0.030206  0.006314  1.000000 -0.084570   \n",
       "campaign  -0.023599  0.009980  0.162490 -0.110031 -0.084570  1.000000   \n",
       "pdays      0.124178 -0.022754 -0.093044  0.033065 -0.001565 -0.088628   \n",
       "previous   0.037076 -0.011043 -0.051710  0.022727  0.001203 -0.032855   \n",
       "Target    -0.139173 -0.068185 -0.028348 -0.024471  0.394521 -0.073172   \n",
       "\n",
       "              pdays  previous    Target  \n",
       "age       -0.023758  0.001288  0.025155  \n",
       "job       -0.020931  0.001307  0.040786  \n",
       "marital    0.019172  0.014973  0.045588  \n",
       "education  0.004264  0.025175  0.068633  \n",
       "default   -0.029979 -0.018329 -0.022419  \n",
       "balance    0.003435  0.016674  0.052838  \n",
       "housing    0.124178  0.037076 -0.139173  \n",
       "loan      -0.022754 -0.011043 -0.068185  \n",
       "day       -0.093044 -0.051710 -0.028348  \n",
       "month      0.033065  0.022727 -0.024471  \n",
       "duration  -0.001565  0.001203  0.394521  \n",
       "campaign  -0.088628 -0.032855 -0.073172  \n",
       "pdays      1.000000  0.454820  0.103621  \n",
       "previous   0.454820  1.000000  0.093236  \n",
       "Target     0.103621  0.093236  1.000000  "
      ]
     },
     "execution_count": 32,
     "metadata": {},
     "output_type": "execute_result"
    }
   ],
   "source": [
    "\n",
    "corr1=df1.corr()\n",
    "corr1"
   ]
  },
  {
   "cell_type": "code",
   "execution_count": 33,
   "id": "b061adda",
   "metadata": {},
   "outputs": [
    {
     "data": {
      "text/plain": [
       "<AxesSubplot:>"
      ]
     },
     "execution_count": 33,
     "metadata": {},
     "output_type": "execute_result"
    },
    {
     "data": {
      "image/png": "[encoded data removed]",
      "text/plain": [
       "<Figure size 1500x1500 with 2 Axes>"
      ]
     },
     "metadata": {},
     "output_type": "display_data"
    }
   ],
   "source": [
    "plt.figure(figsize=(15,15))\n",
    "sns.heatmap(corr1,annot=True,cmap=\"coolwarm\")"
   ]
  },
  {
   "cell_type": "code",
   "execution_count": 34,
   "id": "e320ce1d",
   "metadata": {},
   "outputs": [],
   "source": [
    "# creation of dependent , independent variable\n",
    "X=df1.drop([\"Target\"],axis=1)\n",
    "Y=df1[\"Target\"]"
   ]
  },
  {
   "cell_type": "code",
   "execution_count": 36,
   "id": "d1624b11",
   "metadata": {},
   "outputs": [
    {
     "data": {
      "text/html": [
       "<div>\n",
       "<style scoped>\n",
       "    .dataframe tbody tr th:only-of-type {\n",
       "        vertical-align: middle;\n",
       "    }\n",
       "\n",
       "    .dataframe tbody tr th {\n",
       "        vertical-align: top;\n",
       "    }\n",
       "\n",
       "    .dataframe thead th {\n",
       "        text-align: right;\n",
       "    }\n",
       "</style>\n",
       "<table border=\"1\" class=\"dataframe\">\n",
       "  <thead>\n",
       "    <tr style=\"text-align: right;\">\n",
       "      <th></th>\n",
       "      <th>age</th>\n",
       "      <th>job</th>\n",
       "      <th>marital</th>\n",
       "      <th>education</th>\n",
       "      <th>default</th>\n",
       "      <th>balance</th>\n",
       "      <th>housing</th>\n",
       "      <th>loan</th>\n",
       "      <th>day</th>\n",
       "      <th>month</th>\n",
       "      <th>duration</th>\n",
       "      <th>campaign</th>\n",
       "      <th>pdays</th>\n",
       "      <th>previous</th>\n",
       "    </tr>\n",
       "  </thead>\n",
       "  <tbody>\n",
       "    <tr>\n",
       "      <th>0</th>\n",
       "      <td>58</td>\n",
       "      <td>4</td>\n",
       "      <td>1</td>\n",
       "      <td>2</td>\n",
       "      <td>0</td>\n",
       "      <td>2143</td>\n",
       "      <td>1</td>\n",
       "      <td>0</td>\n",
       "      <td>5</td>\n",
       "      <td>8</td>\n",
       "      <td>261</td>\n",
       "      <td>1</td>\n",
       "      <td>-1</td>\n",
       "      <td>0</td>\n",
       "    </tr>\n",
       "    <tr>\n",
       "      <th>1</th>\n",
       "      <td>44</td>\n",
       "      <td>9</td>\n",
       "      <td>2</td>\n",
       "      <td>1</td>\n",
       "      <td>0</td>\n",
       "      <td>29</td>\n",
       "      <td>1</td>\n",
       "      <td>0</td>\n",
       "      <td>5</td>\n",
       "      <td>8</td>\n",
       "      <td>151</td>\n",
       "      <td>1</td>\n",
       "      <td>-1</td>\n",
       "      <td>0</td>\n",
       "    </tr>\n",
       "    <tr>\n",
       "      <th>2</th>\n",
       "      <td>33</td>\n",
       "      <td>2</td>\n",
       "      <td>1</td>\n",
       "      <td>1</td>\n",
       "      <td>0</td>\n",
       "      <td>2</td>\n",
       "      <td>1</td>\n",
       "      <td>1</td>\n",
       "      <td>5</td>\n",
       "      <td>8</td>\n",
       "      <td>76</td>\n",
       "      <td>1</td>\n",
       "      <td>-1</td>\n",
       "      <td>0</td>\n",
       "    </tr>\n",
       "    <tr>\n",
       "      <th>3</th>\n",
       "      <td>47</td>\n",
       "      <td>1</td>\n",
       "      <td>1</td>\n",
       "      <td>1</td>\n",
       "      <td>0</td>\n",
       "      <td>1506</td>\n",
       "      <td>1</td>\n",
       "      <td>0</td>\n",
       "      <td>5</td>\n",
       "      <td>8</td>\n",
       "      <td>92</td>\n",
       "      <td>1</td>\n",
       "      <td>-1</td>\n",
       "      <td>0</td>\n",
       "    </tr>\n",
       "    <tr>\n",
       "      <th>4</th>\n",
       "      <td>33</td>\n",
       "      <td>1</td>\n",
       "      <td>2</td>\n",
       "      <td>1</td>\n",
       "      <td>0</td>\n",
       "      <td>1</td>\n",
       "      <td>0</td>\n",
       "      <td>0</td>\n",
       "      <td>5</td>\n",
       "      <td>8</td>\n",
       "      <td>198</td>\n",
       "      <td>1</td>\n",
       "      <td>-1</td>\n",
       "      <td>0</td>\n",
       "    </tr>\n",
       "  </tbody>\n",
       "</table>\n",
       "</div>"
      ],
      "text/plain": [
       "   age  job  marital  education  default  balance  housing  loan  day  month  \\\n",
       "0   58    4        1          2        0     2143        1     0    5      8   \n",
       "1   44    9        2          1        0       29        1     0    5      8   \n",
       "2   33    2        1          1        0        2        1     1    5      8   \n",
       "3   47    1        1          1        0     1506        1     0    5      8   \n",
       "4   33    1        2          1        0        1        0     0    5      8   \n",
       "\n",
       "   duration  campaign  pdays  previous  \n",
       "0       261         1     -1         0  \n",
       "1       151         1     -1         0  \n",
       "2        76         1     -1         0  \n",
       "3        92         1     -1         0  \n",
       "4       198         1     -1         0  "
      ]
     },
     "execution_count": 36,
     "metadata": {},
     "output_type": "execute_result"
    }
   ],
   "source": [
    "X.head()"
   ]
  },
  {
   "cell_type": "code",
   "execution_count": 38,
   "id": "e14f6c76",
   "metadata": {},
   "outputs": [],
   "source": [
    "# scaling the data\n",
    "from sklearn.preprocessing import StandardScaler,MinMaxScaler,RobustScaler"
   ]
  },
  {
   "cell_type": "code",
   "execution_count": 39,
   "id": "9004bcf5",
   "metadata": {},
   "outputs": [
    {
     "data": {
      "text/plain": [
       "array([[0.51948052, 0.4       , 0.5       , ..., 0.        , 0.        ,\n",
       "        0.        ],\n",
       "       [0.33766234, 0.9       , 1.        , ..., 0.        , 0.        ,\n",
       "        0.        ],\n",
       "       [0.19480519, 0.2       , 0.5       , ..., 0.        , 0.        ,\n",
       "        0.        ],\n",
       "       ...,\n",
       "       [0.7012987 , 0.5       , 0.5       , ..., 0.06451613, 0.21215596,\n",
       "        0.01090909],\n",
       "       [0.50649351, 0.1       , 0.5       , ..., 0.0483871 , 0.        ,\n",
       "        0.        ],\n",
       "       [0.24675325, 0.2       , 0.5       , ..., 0.01612903, 0.21674312,\n",
       "        0.04      ]])"
      ]
     },
     "execution_count": 39,
     "metadata": {},
     "output_type": "execute_result"
    }
   ],
   "source": [
    "scale=MinMaxScaler()\n",
    "X_scaled=scale.fit_transform(X)\n",
    "X_scaled"
   ]
  },
  {
   "cell_type": "code",
   "execution_count": 40,
   "id": "71726b3e",
   "metadata": {},
   "outputs": [
    {
     "data": {
      "text/html": [
       "<div>\n",
       "<style scoped>\n",
       "    .dataframe tbody tr th:only-of-type {\n",
       "        vertical-align: middle;\n",
       "    }\n",
       "\n",
       "    .dataframe tbody tr th {\n",
       "        vertical-align: top;\n",
       "    }\n",
       "\n",
       "    .dataframe thead th {\n",
       "        text-align: right;\n",
       "    }\n",
       "</style>\n",
       "<table border=\"1\" class=\"dataframe\">\n",
       "  <thead>\n",
       "    <tr style=\"text-align: right;\">\n",
       "      <th></th>\n",
       "      <th>age</th>\n",
       "      <th>job</th>\n",
       "      <th>marital</th>\n",
       "      <th>education</th>\n",
       "      <th>default</th>\n",
       "      <th>balance</th>\n",
       "      <th>housing</th>\n",
       "      <th>loan</th>\n",
       "      <th>day</th>\n",
       "      <th>month</th>\n",
       "      <th>duration</th>\n",
       "      <th>campaign</th>\n",
       "      <th>pdays</th>\n",
       "      <th>previous</th>\n",
       "    </tr>\n",
       "  </thead>\n",
       "  <tbody>\n",
       "    <tr>\n",
       "      <th>0</th>\n",
       "      <td>0.519481</td>\n",
       "      <td>0.4</td>\n",
       "      <td>0.5</td>\n",
       "      <td>1.0</td>\n",
       "      <td>0.0</td>\n",
       "      <td>0.092259</td>\n",
       "      <td>1.0</td>\n",
       "      <td>0.0</td>\n",
       "      <td>0.133333</td>\n",
       "      <td>0.727273</td>\n",
       "      <td>0.053070</td>\n",
       "      <td>0.0</td>\n",
       "      <td>0.0</td>\n",
       "      <td>0.0</td>\n",
       "    </tr>\n",
       "    <tr>\n",
       "      <th>1</th>\n",
       "      <td>0.337662</td>\n",
       "      <td>0.9</td>\n",
       "      <td>1.0</td>\n",
       "      <td>0.5</td>\n",
       "      <td>0.0</td>\n",
       "      <td>0.073067</td>\n",
       "      <td>1.0</td>\n",
       "      <td>0.0</td>\n",
       "      <td>0.133333</td>\n",
       "      <td>0.727273</td>\n",
       "      <td>0.030704</td>\n",
       "      <td>0.0</td>\n",
       "      <td>0.0</td>\n",
       "      <td>0.0</td>\n",
       "    </tr>\n",
       "    <tr>\n",
       "      <th>2</th>\n",
       "      <td>0.194805</td>\n",
       "      <td>0.2</td>\n",
       "      <td>0.5</td>\n",
       "      <td>0.5</td>\n",
       "      <td>0.0</td>\n",
       "      <td>0.072822</td>\n",
       "      <td>1.0</td>\n",
       "      <td>1.0</td>\n",
       "      <td>0.133333</td>\n",
       "      <td>0.727273</td>\n",
       "      <td>0.015453</td>\n",
       "      <td>0.0</td>\n",
       "      <td>0.0</td>\n",
       "      <td>0.0</td>\n",
       "    </tr>\n",
       "    <tr>\n",
       "      <th>3</th>\n",
       "      <td>0.376623</td>\n",
       "      <td>0.1</td>\n",
       "      <td>0.5</td>\n",
       "      <td>0.5</td>\n",
       "      <td>0.0</td>\n",
       "      <td>0.086476</td>\n",
       "      <td>1.0</td>\n",
       "      <td>0.0</td>\n",
       "      <td>0.133333</td>\n",
       "      <td>0.727273</td>\n",
       "      <td>0.018707</td>\n",
       "      <td>0.0</td>\n",
       "      <td>0.0</td>\n",
       "      <td>0.0</td>\n",
       "    </tr>\n",
       "    <tr>\n",
       "      <th>4</th>\n",
       "      <td>0.194805</td>\n",
       "      <td>0.1</td>\n",
       "      <td>1.0</td>\n",
       "      <td>0.5</td>\n",
       "      <td>0.0</td>\n",
       "      <td>0.072812</td>\n",
       "      <td>0.0</td>\n",
       "      <td>0.0</td>\n",
       "      <td>0.133333</td>\n",
       "      <td>0.727273</td>\n",
       "      <td>0.040260</td>\n",
       "      <td>0.0</td>\n",
       "      <td>0.0</td>\n",
       "      <td>0.0</td>\n",
       "    </tr>\n",
       "  </tbody>\n",
       "</table>\n",
       "</div>"
      ],
      "text/plain": [
       "        age  job  marital  education  default   balance  housing  loan  \\\n",
       "0  0.519481  0.4      0.5        1.0      0.0  0.092259      1.0   0.0   \n",
       "1  0.337662  0.9      1.0        0.5      0.0  0.073067      1.0   0.0   \n",
       "2  0.194805  0.2      0.5        0.5      0.0  0.072822      1.0   1.0   \n",
       "3  0.376623  0.1      0.5        0.5      0.0  0.086476      1.0   0.0   \n",
       "4  0.194805  0.1      1.0        0.5      0.0  0.072812      0.0   0.0   \n",
       "\n",
       "        day     month  duration  campaign  pdays  previous  \n",
       "0  0.133333  0.727273  0.053070       0.0    0.0       0.0  \n",
       "1  0.133333  0.727273  0.030704       0.0    0.0       0.0  \n",
       "2  0.133333  0.727273  0.015453       0.0    0.0       0.0  \n",
       "3  0.133333  0.727273  0.018707       0.0    0.0       0.0  \n",
       "4  0.133333  0.727273  0.040260       0.0    0.0       0.0  "
      ]
     },
     "execution_count": 40,
     "metadata": {},
     "output_type": "execute_result"
    }
   ],
   "source": [
    "X_scaled=pd.DataFrame(X_scaled,columns=X.columns)\n",
    "X_scaled.head()"
   ]
  },
  {
   "cell_type": "code",
   "execution_count": null,
   "id": "e221348d",
   "metadata": {},
   "outputs": [],
   "source": [
    "# X_scaled is our independent variable\n",
    "#Y is our dependent variable----Target variable"
   ]
  },
  {
   "attachments": {},
   "cell_type": "markdown",
   "id": "4b0c30dd",
   "metadata": {},
   "source": [
    "# Model building process- classification algorithms"
   ]
  },
  {
   "attachments": {},
   "cell_type": "markdown",
   "id": "65dc74cb",
   "metadata": {},
   "source": [
    "LogisticRegression | \n",
    "KNN | \n",
    "SVM |\n",
    "DecisionTreeClassifier |\n",
    "GaussianNB |\n",
    "BernoulliNB |\n",
    "RandomForestClassifier |\n",
    "BaggingClassifier |\n",
    "GradientBoostingClassifier |\n",
    "AdaBoostClassifier |\n",
    "XGBClassifier"
   ]
  },
  {
   "cell_type": "code",
   "execution_count": 41,
   "id": "d8ae103a",
   "metadata": {},
   "outputs": [
    {
     "name": "stdout",
     "output_type": "stream",
     "text": [
      "Requirement already satisfied: xgboost in /Users/punchh_adityas/opt/anaconda3/lib/python3.9/site-packages (1.7.5)\n",
      "Requirement already satisfied: numpy in /Users/punchh_adityas/opt/anaconda3/lib/python3.9/site-packages (from xgboost) (1.21.5)\n",
      "Requirement already satisfied: scipy in /Users/punchh_adityas/opt/anaconda3/lib/python3.9/site-packages (from xgboost) (1.9.1)\n",
      "Note: you may need to restart the kernel to use updated packages.\n"
     ]
    }
   ],
   "source": [
    "pip install xgboost"
   ]
  },
  {
   "cell_type": "code",
   "execution_count": 42,
   "id": "faf3e9ee",
   "metadata": {},
   "outputs": [],
   "source": [
    "from sklearn.linear_model import LogisticRegression\n",
    "from sklearn.neighbors import KNeighborsClassifier\n",
    "from sklearn.svm import SVC # Classification\n",
    "from sklearn.tree import DecisionTreeClassifier\n",
    "from sklearn.naive_bayes import GaussianNB\n",
    "from sklearn.naive_bayes import BernoulliNB\n",
    "\n",
    "from sklearn.ensemble import RandomForestClassifier\n",
    "from sklearn.ensemble import BaggingClassifier\n",
    "from sklearn.ensemble import GradientBoostingClassifier\n",
    "from sklearn.ensemble import AdaBoostClassifier\n",
    "\n",
    "from xgboost import XGBClassifier"
   ]
  },
  {
   "cell_type": "code",
   "execution_count": 45,
   "id": "d8ab7252",
   "metadata": {},
   "outputs": [],
   "source": [
    "# model evaluation\n",
    "from sklearn.metrics import confusion_matrix,accuracy_score,classification_report"
   ]
  },
  {
   "cell_type": "code",
   "execution_count": 44,
   "id": "d9ae0daf",
   "metadata": {},
   "outputs": [],
   "source": [
    "LR=LogisticRegression()\n",
    "KNN=KNeighborsClassifier()\n",
    "svc=SVC() # Classification\n",
    "DT=DecisionTreeClassifier()\n",
    "gnb=GaussianNB()\n",
    "bn=BernoulliNB()\n",
    "rf=RandomForestClassifier()\n",
    "bag=BaggingClassifier()\n",
    "gb=GradientBoostingClassifier()\n",
    "ad=AdaBoostClassifier()\n",
    "xg=XGBClassifier()"
   ]
  },
  {
   "cell_type": "code",
   "execution_count": 46,
   "id": "ea3f7d4f",
   "metadata": {},
   "outputs": [],
   "source": [
    "# train test split - we can create training testing data set."
   ]
  },
  {
   "cell_type": "code",
   "execution_count": 49,
   "id": "db436603",
   "metadata": {},
   "outputs": [],
   "source": [
    "from sklearn.model_selection import train_test_split"
   ]
  },
  {
   "cell_type": "code",
   "execution_count": 50,
   "id": "66f72940",
   "metadata": {},
   "outputs": [],
   "source": [
    "X_train,X_test,Y_train,Y_test=train_test_split(X_scaled,Y,test_size=0.2,random_state=100,stratify=Y)"
   ]
  },
  {
   "cell_type": "code",
   "execution_count": 51,
   "id": "11ab8601",
   "metadata": {},
   "outputs": [
    {
     "data": {
      "text/plain": [
       "LogisticRegression()"
      ]
     },
     "execution_count": 51,
     "metadata": {},
     "output_type": "execute_result"
    }
   ],
   "source": [
    "# logistic Regression performance\n",
    "LR.fit(X_train,Y_train)"
   ]
  },
  {
   "cell_type": "code",
   "execution_count": 52,
   "id": "ef14728c",
   "metadata": {},
   "outputs": [],
   "source": [
    "Y_pred=LR.predict(X_test)"
   ]
  },
  {
   "cell_type": "code",
   "execution_count": 53,
   "id": "b06b0560",
   "metadata": {},
   "outputs": [
    {
     "data": {
      "text/plain": [
       "0.8928452947030853"
      ]
     },
     "execution_count": 53,
     "metadata": {},
     "output_type": "execute_result"
    }
   ],
   "source": [
    "# evaluate the performance\n",
    "accuracy_score(Y_test,Y_pred)"
   ]
  },
  {
   "cell_type": "code",
   "execution_count": 54,
   "id": "baab8592",
   "metadata": {},
   "outputs": [
    {
     "data": {
      "text/plain": [
       "array([[7885,  100],\n",
       "       [ 869,  189]])"
      ]
     },
     "execution_count": 54,
     "metadata": {},
     "output_type": "execute_result"
    }
   ],
   "source": [
    "confusion_matrix(Y_test,Y_pred)"
   ]
  },
  {
   "cell_type": "code",
   "execution_count": 56,
   "id": "2c0bd869",
   "metadata": {},
   "outputs": [
    {
     "name": "stdout",
     "output_type": "stream",
     "text": [
      "              precision    recall  f1-score   support\n",
      "\n",
      "           0       0.90      0.99      0.94      7985\n",
      "           1       0.65      0.18      0.28      1058\n",
      "\n",
      "    accuracy                           0.89      9043\n",
      "   macro avg       0.78      0.58      0.61      9043\n",
      "weighted avg       0.87      0.89      0.86      9043\n",
      "\n"
     ]
    }
   ],
   "source": [
    "print(classification_report(Y_test,Y_pred))"
   ]
  },
  {
   "attachments": {},
   "cell_type": "markdown",
   "id": "8120c30a",
   "metadata": {},
   "source": [
    "# Random Forest with imbalance dataset"
   ]
  },
  {
   "cell_type": "code",
   "execution_count": 58,
   "id": "68d0b408",
   "metadata": {},
   "outputs": [
    {
     "data": {
      "text/plain": [
       "RandomForestClassifier()"
      ]
     },
     "execution_count": 58,
     "metadata": {},
     "output_type": "execute_result"
    }
   ],
   "source": [
    "rf.fit(X_train,Y_train)"
   ]
  },
  {
   "cell_type": "code",
   "execution_count": 59,
   "id": "85a71943",
   "metadata": {},
   "outputs": [],
   "source": [
    "Y_pred=rf.predict(X_test)"
   ]
  },
  {
   "cell_type": "code",
   "execution_count": 60,
   "id": "18cbe9a9",
   "metadata": {},
   "outputs": [
    {
     "data": {
      "text/plain": [
       "0.901249585314608"
      ]
     },
     "execution_count": 60,
     "metadata": {},
     "output_type": "execute_result"
    }
   ],
   "source": [
    "accuracy_score(Y_test,Y_pred)"
   ]
  },
  {
   "cell_type": "code",
   "execution_count": 61,
   "id": "80636863",
   "metadata": {},
   "outputs": [
    {
     "data": {
      "text/plain": [
       "array([[7757,  228],\n",
       "       [ 665,  393]])"
      ]
     },
     "execution_count": 61,
     "metadata": {},
     "output_type": "execute_result"
    }
   ],
   "source": [
    "confusion_matrix(Y_test,Y_pred)"
   ]
  },
  {
   "cell_type": "code",
   "execution_count": 62,
   "id": "0ea330ee",
   "metadata": {},
   "outputs": [
    {
     "name": "stdout",
     "output_type": "stream",
     "text": [
      "              precision    recall  f1-score   support\n",
      "\n",
      "           0       0.92      0.97      0.95      7985\n",
      "           1       0.63      0.37      0.47      1058\n",
      "\n",
      "    accuracy                           0.90      9043\n",
      "   macro avg       0.78      0.67      0.71      9043\n",
      "weighted avg       0.89      0.90      0.89      9043\n",
      "\n"
     ]
    }
   ],
   "source": [
    "print(classification_report(Y_test,Y_pred))"
   ]
  },
  {
   "attachments": {},
   "cell_type": "markdown",
   "id": "df21012c",
   "metadata": {},
   "source": [
    "# Additive boosting -adaboost"
   ]
  },
  {
   "cell_type": "code",
   "execution_count": 65,
   "id": "1e94476a",
   "metadata": {},
   "outputs": [
    {
     "data": {
      "text/plain": [
       "AdaBoostClassifier()"
      ]
     },
     "execution_count": 65,
     "metadata": {},
     "output_type": "execute_result"
    }
   ],
   "source": [
    "ad.fit(X_train,Y_train)"
   ]
  },
  {
   "cell_type": "code",
   "execution_count": 66,
   "id": "ce1b9e01",
   "metadata": {},
   "outputs": [],
   "source": [
    "Y_pred=ad.predict(X_test)"
   ]
  },
  {
   "cell_type": "code",
   "execution_count": 68,
   "id": "998aaa85",
   "metadata": {},
   "outputs": [
    {
     "data": {
      "text/plain": [
       "0.8950569501271702"
      ]
     },
     "execution_count": 68,
     "metadata": {},
     "output_type": "execute_result"
    }
   ],
   "source": [
    "accuracy_score(Y_test,Y_pred)"
   ]
  },
  {
   "cell_type": "code",
   "execution_count": 69,
   "id": "c2e5fd6f",
   "metadata": {},
   "outputs": [
    {
     "data": {
      "text/plain": [
       "0    0.883015\n",
       "1    0.116985\n",
       "Name: Target, dtype: float64"
      ]
     },
     "execution_count": 69,
     "metadata": {},
     "output_type": "execute_result"
    }
   ],
   "source": [
    "Y.value_counts(normalize=True)"
   ]
  },
  {
   "cell_type": "code",
   "execution_count": 70,
   "id": "1235dcda",
   "metadata": {},
   "outputs": [
    {
     "data": {
      "text/plain": [
       "array([[7775,  210],\n",
       "       [ 739,  319]])"
      ]
     },
     "execution_count": 70,
     "metadata": {},
     "output_type": "execute_result"
    }
   ],
   "source": [
    "confusion_matrix(Y_test,Y_pred)"
   ]
  },
  {
   "cell_type": "code",
   "execution_count": 71,
   "id": "e59978e4",
   "metadata": {},
   "outputs": [
    {
     "name": "stdout",
     "output_type": "stream",
     "text": [
      "              precision    recall  f1-score   support\n",
      "\n",
      "           0       0.91      0.97      0.94      7985\n",
      "           1       0.60      0.30      0.40      1058\n",
      "\n",
      "    accuracy                           0.90      9043\n",
      "   macro avg       0.76      0.64      0.67      9043\n",
      "weighted avg       0.88      0.90      0.88      9043\n",
      "\n"
     ]
    }
   ],
   "source": [
    "print(classification_report(Y_test,Y_pred))"
   ]
  },
  {
   "attachments": {},
   "cell_type": "markdown",
   "id": "adf30381",
   "metadata": {},
   "source": [
    "# Balancing data : Balance imbalance data"
   ]
  },
  {
   "cell_type": "code",
   "execution_count": null,
   "id": "06a153d6",
   "metadata": {},
   "outputs": [],
   "source": [
    "# we have tried different algorithm on imbalanced dataset"
   ]
  },
  {
   "cell_type": "code",
   "execution_count": null,
   "id": "b37671ba",
   "metadata": {},
   "outputs": [],
   "source": [
    "#LETS learn the DATA Balancing concept"
   ]
  },
  {
   "cell_type": "code",
   "execution_count": null,
   "id": "ac027feb",
   "metadata": {},
   "outputs": [],
   "source": [
    "#X_train,X_test,Y_train,Y_test=train_test_split(X_scaled,Y,test_size=0.2,random_state=100,stratify=Y)"
   ]
  },
  {
   "cell_type": "code",
   "execution_count": null,
   "id": "d7e02abb",
   "metadata": {},
   "outputs": [],
   "source": [
    "#Before balancing condition"
   ]
  },
  {
   "cell_type": "code",
   "execution_count": 77,
   "id": "f1497437",
   "metadata": {},
   "outputs": [
    {
     "data": {
      "text/plain": [
       "(36168, 14)"
      ]
     },
     "execution_count": 77,
     "metadata": {},
     "output_type": "execute_result"
    }
   ],
   "source": [
    "X_train.shape"
   ]
  },
  {
   "cell_type": "code",
   "execution_count": 78,
   "id": "92ec91d1",
   "metadata": {},
   "outputs": [
    {
     "data": {
      "text/plain": [
       "(36168,)"
      ]
     },
     "execution_count": 78,
     "metadata": {},
     "output_type": "execute_result"
    }
   ],
   "source": [
    "Y_train.shape"
   ]
  },
  {
   "cell_type": "code",
   "execution_count": 79,
   "id": "92b59647",
   "metadata": {},
   "outputs": [
    {
     "data": {
      "text/plain": [
       "0    31937\n",
       "1     4231\n",
       "Name: Target, dtype: int64"
      ]
     },
     "execution_count": 79,
     "metadata": {},
     "output_type": "execute_result"
    }
   ],
   "source": [
    "Y_train.value_counts()"
   ]
  },
  {
   "attachments": {},
   "cell_type": "markdown",
   "id": "80052ecf",
   "metadata": {},
   "source": [
    "if apply smote approach or Oversampling approach as per theory we learnt.\n",
    "\n",
    "Class 0:   31937\n",
    "\n",
    "Class 1:    31937"
   ]
  },
  {
   "attachments": {},
   "cell_type": "markdown",
   "id": "df64d19d",
   "metadata": {},
   "source": [
    "if apply Undersampling approach  as per theory we learnt.\n",
    "\n",
    "Class 0:    4231\n",
    "\n",
    "Class 1:    4231"
   ]
  },
  {
   "cell_type": "markdown",
   "id": "8cd0bdba",
   "metadata": {},
   "source": [
    "# only balance the training dataset --- testing should not be balanced"
   ]
  },
  {
   "cell_type": "code",
   "execution_count": 73,
   "id": "cbe707f7",
   "metadata": {},
   "outputs": [
    {
     "name": "stdout",
     "output_type": "stream",
     "text": [
      "Collecting imblearn\n",
      "  Downloading imblearn-0.0-py2.py3-none-any.whl (1.9 kB)\n",
      "Collecting imbalanced-learn\n",
      "  Downloading imbalanced_learn-0.10.1-py3-none-any.whl (226 kB)\n",
      "\u001b[2K     \u001b[90m━━━━━━━━━━━━━━━━━━━━━━━━━━━━━━━━━━━━━━━\u001b[0m \u001b[32m226.0/226.0 kB\u001b[0m \u001b[31m2.4 MB/s\u001b[0m eta \u001b[36m0:00:00\u001b[0m00:01\u001b[0m00:01\u001b[0m\n",
      "\u001b[?25hRequirement already satisfied: threadpoolctl>=2.0.0 in /Users/punchh_adityas/opt/anaconda3/lib/python3.9/site-packages (from imbalanced-learn->imblearn) (2.2.0)\n",
      "Requirement already satisfied: scipy>=1.3.2 in /Users/punchh_adityas/opt/anaconda3/lib/python3.9/site-packages (from imbalanced-learn->imblearn) (1.9.1)\n",
      "Requirement already satisfied: scikit-learn>=1.0.2 in /Users/punchh_adityas/opt/anaconda3/lib/python3.9/site-packages (from imbalanced-learn->imblearn) (1.0.2)\n",
      "Requirement already satisfied: numpy>=1.17.3 in /Users/punchh_adityas/opt/anaconda3/lib/python3.9/site-packages (from imbalanced-learn->imblearn) (1.21.5)\n",
      "Collecting joblib>=1.1.1\n",
      "  Downloading joblib-1.2.0-py3-none-any.whl (297 kB)\n",
      "\u001b[2K     \u001b[90m━━━━━━━━━━━━━━━━━━━━━━━━━━━━━━━━━━━━━━━\u001b[0m \u001b[32m298.0/298.0 kB\u001b[0m \u001b[31m5.9 MB/s\u001b[0m eta \u001b[36m0:00:00\u001b[0m00:01\u001b[0m\n",
      "\u001b[?25hInstalling collected packages: joblib, imbalanced-learn, imblearn\n",
      "  Attempting uninstall: joblib\n",
      "    Found existing installation: joblib 1.1.0\n",
      "    Uninstalling joblib-1.1.0:\n",
      "      Successfully uninstalled joblib-1.1.0\n",
      "Successfully installed imbalanced-learn-0.10.1 imblearn-0.0 joblib-1.2.0\n",
      "Note: you may need to restart the kernel to use updated packages.\n"
     ]
    }
   ],
   "source": [
    "# pip install imblearn"
   ]
  },
  {
   "cell_type": "code",
   "execution_count": 74,
   "id": "71c739fe",
   "metadata": {},
   "outputs": [],
   "source": [
    "from imblearn.over_sampling import RandomOverSampler,SMOTE,ADASYN,BorderlineSMOTE"
   ]
  },
  {
   "cell_type": "code",
   "execution_count": 75,
   "id": "5ef072b6",
   "metadata": {},
   "outputs": [],
   "source": [
    "from imblearn.under_sampling import RandomUnderSampler,NearMiss"
   ]
  },
  {
   "cell_type": "code",
   "execution_count": 83,
   "id": "e46db0fc",
   "metadata": {},
   "outputs": [],
   "source": [
    "smote=SMOTE()\n",
    "under=RandomUnderSampler()"
   ]
  },
  {
   "cell_type": "code",
   "execution_count": null,
   "id": "b883a3ef",
   "metadata": {},
   "outputs": [],
   "source": [
    "# smote technique "
   ]
  },
  {
   "cell_type": "code",
   "execution_count": 101,
   "id": "e8eae227",
   "metadata": {},
   "outputs": [],
   "source": [
    "X_train_smote,Y_train_smote=smote.fit_resample(X_train,Y_train)"
   ]
  },
  {
   "cell_type": "code",
   "execution_count": 100,
   "id": "8ffaccec",
   "metadata": {},
   "outputs": [
    {
     "data": {
      "text/plain": [
       "(63874,)"
      ]
     },
     "execution_count": 100,
     "metadata": {},
     "output_type": "execute_result"
    }
   ],
   "source": [
    "Y_train_smote.shape"
   ]
  },
  {
   "cell_type": "code",
   "execution_count": 99,
   "id": "98bab1a0",
   "metadata": {},
   "outputs": [
    {
     "data": {
      "text/plain": [
       "0    31937\n",
       "1    31937\n",
       "Name: Target, dtype: int64"
      ]
     },
     "execution_count": 99,
     "metadata": {},
     "output_type": "execute_result"
    }
   ],
   "source": [
    "Y_train_smote.value_counts()"
   ]
  },
  {
   "cell_type": "code",
   "execution_count": 98,
   "id": "776e8a91",
   "metadata": {},
   "outputs": [],
   "source": [
    "# After applying smote data balancing both the classes (class 0 and class 1) have same size"
   ]
  },
  {
   "cell_type": "code",
   "execution_count": 90,
   "id": "6f110464",
   "metadata": {},
   "outputs": [
    {
     "data": {
      "text/plain": [
       "(63874, 14)"
      ]
     },
     "execution_count": 90,
     "metadata": {},
     "output_type": "execute_result"
    }
   ],
   "source": [
    "X_train_smote.shape"
   ]
  },
  {
   "cell_type": "code",
   "execution_count": null,
   "id": "e67563bf",
   "metadata": {},
   "outputs": [],
   "source": [
    "# Undersampling approach"
   ]
  },
  {
   "attachments": {},
   "cell_type": "markdown",
   "id": "5c358452",
   "metadata": {},
   "source": [
    "if apply Undersampling approach  as per theory we learnt: \n",
    "\n",
    "class 0:    4231\n",
    "\n",
    "class 1:    4231"
   ]
  },
  {
   "cell_type": "code",
   "execution_count": 116,
   "id": "ce14faee",
   "metadata": {},
   "outputs": [],
   "source": [
    "X_train_under,Y_train_under=under.fit_resample(X_train,Y_train)"
   ]
  },
  {
   "cell_type": "code",
   "execution_count": 117,
   "id": "54f6e5ed",
   "metadata": {},
   "outputs": [
    {
     "data": {
      "text/plain": [
       "(8462, 14)"
      ]
     },
     "execution_count": 117,
     "metadata": {},
     "output_type": "execute_result"
    }
   ],
   "source": [
    "X_train_under.shape"
   ]
  },
  {
   "cell_type": "code",
   "execution_count": 118,
   "id": "e7c2a61b",
   "metadata": {},
   "outputs": [
    {
     "data": {
      "text/plain": [
       "0    4231\n",
       "1    4231\n",
       "Name: Target, dtype: int64"
      ]
     },
     "execution_count": 118,
     "metadata": {},
     "output_type": "execute_result"
    }
   ],
   "source": [
    "Y_train_under.value_counts()"
   ]
  },
  {
   "cell_type": "code",
   "execution_count": 95,
   "id": "f16129d3",
   "metadata": {},
   "outputs": [],
   "source": [
    "# Very Imp: We don't balance testing data. We balance only train data."
   ]
  },
  {
   "cell_type": "code",
   "execution_count": 119,
   "id": "25958b76",
   "metadata": {},
   "outputs": [
    {
     "data": {
      "text/plain": [
       "0    7985\n",
       "1    1058\n",
       "Name: Target, dtype: int64"
      ]
     },
     "execution_count": 119,
     "metadata": {},
     "output_type": "execute_result"
    }
   ],
   "source": [
    "Y_test.value_counts()"
   ]
  },
  {
   "cell_type": "code",
   "execution_count": null,
   "id": "9d0c07ac",
   "metadata": {},
   "outputs": [],
   "source": [
    "# checking random forest performance on balance dataset"
   ]
  },
  {
   "cell_type": "code",
   "execution_count": null,
   "id": "b62ea2fe",
   "metadata": {},
   "outputs": [],
   "source": [
    "# smote balanced dataset performance"
   ]
  },
  {
   "cell_type": "code",
   "execution_count": 107,
   "id": "06587558",
   "metadata": {},
   "outputs": [
    {
     "data": {
      "text/plain": [
       "RandomForestClassifier()"
      ]
     },
     "execution_count": 107,
     "metadata": {},
     "output_type": "execute_result"
    }
   ],
   "source": [
    "rf.fit(X_train_smote,Y_train_smote)"
   ]
  },
  {
   "cell_type": "code",
   "execution_count": 109,
   "id": "235a2084",
   "metadata": {},
   "outputs": [],
   "source": [
    "Y_pred=rf.predict(X_test)"
   ]
  },
  {
   "cell_type": "code",
   "execution_count": 110,
   "id": "8ee5b026",
   "metadata": {},
   "outputs": [
    {
     "data": {
      "text/plain": [
       "array([[7396,  589],\n",
       "       [ 408,  650]])"
      ]
     },
     "execution_count": 110,
     "metadata": {},
     "output_type": "execute_result"
    }
   ],
   "source": [
    "confusion_matrix(Y_test,Y_pred)"
   ]
  },
  {
   "cell_type": "code",
   "execution_count": 111,
   "id": "dd7d1c37",
   "metadata": {},
   "outputs": [
    {
     "name": "stdout",
     "output_type": "stream",
     "text": [
      "              precision    recall  f1-score   support\n",
      "\n",
      "           0       0.95      0.93      0.94      7985\n",
      "           1       0.52      0.61      0.57      1058\n",
      "\n",
      "    accuracy                           0.89      9043\n",
      "   macro avg       0.74      0.77      0.75      9043\n",
      "weighted avg       0.90      0.89      0.89      9043\n",
      "\n"
     ]
    }
   ],
   "source": [
    "print(classification_report(Y_test,Y_pred))"
   ]
  },
  {
   "cell_type": "code",
   "execution_count": null,
   "id": "3aa6b6fa",
   "metadata": {},
   "outputs": [],
   "source": [
    "# random forest performance on undersampling dataset"
   ]
  },
  {
   "cell_type": "code",
   "execution_count": 112,
   "id": "dc5bad0d",
   "metadata": {},
   "outputs": [
    {
     "data": {
      "text/plain": [
       "RandomForestClassifier()"
      ]
     },
     "execution_count": 112,
     "metadata": {},
     "output_type": "execute_result"
    }
   ],
   "source": [
    "rf.fit(X_train_under,Y_train_under)\n"
   ]
  },
  {
   "cell_type": "code",
   "execution_count": 113,
   "id": "dec8b103",
   "metadata": {},
   "outputs": [],
   "source": [
    "Y_pred=rf.predict(X_test)"
   ]
  },
  {
   "cell_type": "code",
   "execution_count": 114,
   "id": "02394359",
   "metadata": {},
   "outputs": [
    {
     "data": {
      "text/plain": [
       "array([[6480, 1505],\n",
       "       [ 143,  915]])"
      ]
     },
     "execution_count": 114,
     "metadata": {},
     "output_type": "execute_result"
    }
   ],
   "source": [
    "confusion_matrix(Y_test,Y_pred)"
   ]
  },
  {
   "cell_type": "code",
   "execution_count": 115,
   "id": "02f03744",
   "metadata": {},
   "outputs": [
    {
     "name": "stdout",
     "output_type": "stream",
     "text": [
      "              precision    recall  f1-score   support\n",
      "\n",
      "           0       0.98      0.81      0.89      7985\n",
      "           1       0.38      0.86      0.53      1058\n",
      "\n",
      "    accuracy                           0.82      9043\n",
      "   macro avg       0.68      0.84      0.71      9043\n",
      "weighted avg       0.91      0.82      0.84      9043\n",
      "\n"
     ]
    }
   ],
   "source": [
    "print(classification_report(Y_test,Y_pred))"
   ]
  },
  {
   "cell_type": "code",
   "execution_count": null,
   "id": "f96df953",
   "metadata": {},
   "outputs": [],
   "source": [
    "# please apply all algorithm with balance and imbalance dataset"
   ]
  },
  {
   "cell_type": "code",
   "execution_count": null,
   "id": "87af68e2",
   "metadata": {},
   "outputs": [],
   "source": [
    "# converting categorical variables to numerical variables ----get_dummies- approach\n",
    "# no. of columns will be increase"
   ]
  },
  {
   "cell_type": "code",
   "execution_count": null,
   "id": "a09beafd",
   "metadata": {},
   "outputs": [],
   "source": [
    "# please apply all algorithm with balance and imbalance dataset"
   ]
  },
  {
   "attachments": {},
   "cell_type": "markdown",
   "id": "4c387f0c",
   "metadata": {},
   "source": [
    "# Cross validation approach to creat train test data"
   ]
  },
  {
   "cell_type": "code",
   "execution_count": 120,
   "id": "5ea02039",
   "metadata": {},
   "outputs": [],
   "source": [
    "from sklearn.model_selection import cross_val_score\n"
   ]
  },
  {
   "cell_type": "code",
   "execution_count": 122,
   "id": "c76c8b4c",
   "metadata": {},
   "outputs": [
    {
     "name": "stderr",
     "output_type": "stream",
     "text": [
      "/Users/punchh_adityas/opt/anaconda3/lib/python3.9/site-packages/joblib/numpy_pickle.py:230: UserWarning: The memmapped array [[ 58  44  33 ...  72  57  37]\n",
      " [  4   9   2 ...   5   1   2]\n",
      " [  1   2   1 ...   1   1   1]\n",
      " ...\n",
      " [  1   1   1 ...   5   4   2]\n",
      " [ -1  -1  -1 ... 184  -1 188]\n",
      " [  0   0   0 ...   3   0  11]] loaded from the file /var/folders/n8/hbs6yz1x4p7290wpzcp40ddw0000gn/T/joblib_memmapping_folder_2567_46b65e82557d4e169990eedd037949db_2f67c01752d2456b85565a2b3b231660/2567-140234459140256-21c97ee05f0648669669641ab164ed99.pkl is not not bytes aligned. This may cause segmentation faults if this memmapped array is used in some libraries like BLAS or PyTorch. To get rid of this warning, regenerate your pickle file with joblib >= 1.2.0. See https://github.com/joblib/joblib/issues/563 for more details\n",
      "  warnings.warn(message)\n",
      "/Users/punchh_adityas/opt/anaconda3/lib/python3.9/site-packages/joblib/numpy_pickle.py:230: UserWarning: The memmapped array [[ 58  44  33 ...  72  57  37]\n",
      " [  4   9   2 ...   5   1   2]\n",
      " [  1   2   1 ...   1   1   1]\n",
      " ...\n",
      " [  1   1   1 ...   5   4   2]\n",
      " [ -1  -1  -1 ... 184  -1 188]\n",
      " [  0   0   0 ...   3   0  11]] loaded from the file /var/folders/n8/hbs6yz1x4p7290wpzcp40ddw0000gn/T/joblib_memmapping_folder_2567_46b65e82557d4e169990eedd037949db_2f67c01752d2456b85565a2b3b231660/2567-140234459140256-21c97ee05f0648669669641ab164ed99.pkl is not not bytes aligned. This may cause segmentation faults if this memmapped array is used in some libraries like BLAS or PyTorch. To get rid of this warning, regenerate your pickle file with joblib >= 1.2.0. See https://github.com/joblib/joblib/issues/563 for more details\n",
      "  warnings.warn(message)\n",
      "/Users/punchh_adityas/opt/anaconda3/lib/python3.9/site-packages/joblib/numpy_pickle.py:230: UserWarning: The memmapped array [[ 58  44  33 ...  72  57  37]\n",
      " [  4   9   2 ...   5   1   2]\n",
      " [  1   2   1 ...   1   1   1]\n",
      " ...\n",
      " [  1   1   1 ...   5   4   2]\n",
      " [ -1  -1  -1 ... 184  -1 188]\n",
      " [  0   0   0 ...   3   0  11]] loaded from the file /var/folders/n8/hbs6yz1x4p7290wpzcp40ddw0000gn/T/joblib_memmapping_folder_2567_46b65e82557d4e169990eedd037949db_2f67c01752d2456b85565a2b3b231660/2567-140234459140256-21c97ee05f0648669669641ab164ed99.pkl is not not bytes aligned. This may cause segmentation faults if this memmapped array is used in some libraries like BLAS or PyTorch. To get rid of this warning, regenerate your pickle file with joblib >= 1.2.0. See https://github.com/joblib/joblib/issues/563 for more details\n",
      "  warnings.warn(message)\n",
      "/Users/punchh_adityas/opt/anaconda3/lib/python3.9/site-packages/joblib/numpy_pickle.py:230: UserWarning: The memmapped array [[ 58  44  33 ...  72  57  37]\n",
      " [  4   9   2 ...   5   1   2]\n",
      " [  1   2   1 ...   1   1   1]\n",
      " ...\n",
      " [  1   1   1 ...   5   4   2]\n",
      " [ -1  -1  -1 ... 184  -1 188]\n",
      " [  0   0   0 ...   3   0  11]] loaded from the file /var/folders/n8/hbs6yz1x4p7290wpzcp40ddw0000gn/T/joblib_memmapping_folder_2567_46b65e82557d4e169990eedd037949db_2f67c01752d2456b85565a2b3b231660/2567-140234459140256-21c97ee05f0648669669641ab164ed99.pkl is not not bytes aligned. This may cause segmentation faults if this memmapped array is used in some libraries like BLAS or PyTorch. To get rid of this warning, regenerate your pickle file with joblib >= 1.2.0. See https://github.com/joblib/joblib/issues/563 for more details\n",
      "  warnings.warn(message)\n",
      "/Users/punchh_adityas/opt/anaconda3/lib/python3.9/site-packages/joblib/numpy_pickle.py:230: UserWarning: The memmapped array [[ 58  44  33 ...  72  57  37]\n",
      " [  4   9   2 ...   5   1   2]\n",
      " [  1   2   1 ...   1   1   1]\n",
      " ...\n",
      " [  1   1   1 ...   5   4   2]\n",
      " [ -1  -1  -1 ... 184  -1 188]\n",
      " [  0   0   0 ...   3   0  11]] loaded from the file /var/folders/n8/hbs6yz1x4p7290wpzcp40ddw0000gn/T/joblib_memmapping_folder_2567_46b65e82557d4e169990eedd037949db_2f67c01752d2456b85565a2b3b231660/2567-140234459140256-21c97ee05f0648669669641ab164ed99.pkl is not not bytes aligned. This may cause segmentation faults if this memmapped array is used in some libraries like BLAS or PyTorch. To get rid of this warning, regenerate your pickle file with joblib >= 1.2.0. See https://github.com/joblib/joblib/issues/563 for more details\n",
      "  warnings.warn(message)\n",
      "/Users/punchh_adityas/opt/anaconda3/lib/python3.9/site-packages/joblib/numpy_pickle.py:230: UserWarning: The memmapped array [[ 58  44  33 ...  72  57  37]\n",
      " [  4   9   2 ...   5   1   2]\n",
      " [  1   2   1 ...   1   1   1]\n",
      " ...\n",
      " [  1   1   1 ...   5   4   2]\n",
      " [ -1  -1  -1 ... 184  -1 188]\n",
      " [  0   0   0 ...   3   0  11]] loaded from the file /var/folders/n8/hbs6yz1x4p7290wpzcp40ddw0000gn/T/joblib_memmapping_folder_2567_46b65e82557d4e169990eedd037949db_2f67c01752d2456b85565a2b3b231660/2567-140234459140256-21c97ee05f0648669669641ab164ed99.pkl is not not bytes aligned. This may cause segmentation faults if this memmapped array is used in some libraries like BLAS or PyTorch. To get rid of this warning, regenerate your pickle file with joblib >= 1.2.0. See https://github.com/joblib/joblib/issues/563 for more details\n",
      "  warnings.warn(message)\n",
      "/Users/punchh_adityas/opt/anaconda3/lib/python3.9/site-packages/joblib/numpy_pickle.py:230: UserWarning: The memmapped array [[ 58  44  33 ...  72  57  37]\n",
      " [  4   9   2 ...   5   1   2]\n",
      " [  1   2   1 ...   1   1   1]\n",
      " ...\n",
      " [  1   1   1 ...   5   4   2]\n",
      " [ -1  -1  -1 ... 184  -1 188]\n",
      " [  0   0   0 ...   3   0  11]] loaded from the file /var/folders/n8/hbs6yz1x4p7290wpzcp40ddw0000gn/T/joblib_memmapping_folder_2567_46b65e82557d4e169990eedd037949db_2f67c01752d2456b85565a2b3b231660/2567-140234459140256-21c97ee05f0648669669641ab164ed99.pkl is not not bytes aligned. This may cause segmentation faults if this memmapped array is used in some libraries like BLAS or PyTorch. To get rid of this warning, regenerate your pickle file with joblib >= 1.2.0. See https://github.com/joblib/joblib/issues/563 for more details\n",
      "  warnings.warn(message)\n",
      "/Users/punchh_adityas/opt/anaconda3/lib/python3.9/site-packages/joblib/numpy_pickle.py:230: UserWarning: The memmapped array [[ 58  44  33 ...  72  57  37]\n",
      " [  4   9   2 ...   5   1   2]\n",
      " [  1   2   1 ...   1   1   1]\n",
      " ...\n",
      " [  1   1   1 ...   5   4   2]\n",
      " [ -1  -1  -1 ... 184  -1 188]\n",
      " [  0   0   0 ...   3   0  11]] loaded from the file /var/folders/n8/hbs6yz1x4p7290wpzcp40ddw0000gn/T/joblib_memmapping_folder_2567_46b65e82557d4e169990eedd037949db_2f67c01752d2456b85565a2b3b231660/2567-140234459140256-21c97ee05f0648669669641ab164ed99.pkl is not not bytes aligned. This may cause segmentation faults if this memmapped array is used in some libraries like BLAS or PyTorch. To get rid of this warning, regenerate your pickle file with joblib >= 1.2.0. See https://github.com/joblib/joblib/issues/563 for more details\n",
      "  warnings.warn(message)\n",
      "/Users/punchh_adityas/opt/anaconda3/lib/python3.9/site-packages/joblib/numpy_pickle.py:230: UserWarning: The memmapped array [[ 58  44  33 ...  72  57  37]\n",
      " [  4   9   2 ...   5   1   2]\n",
      " [  1   2   1 ...   1   1   1]\n",
      " ...\n",
      " [  1   1   1 ...   5   4   2]\n",
      " [ -1  -1  -1 ... 184  -1 188]\n",
      " [  0   0   0 ...   3   0  11]] loaded from the file /var/folders/n8/hbs6yz1x4p7290wpzcp40ddw0000gn/T/joblib_memmapping_folder_2567_46b65e82557d4e169990eedd037949db_2f67c01752d2456b85565a2b3b231660/2567-140234459140256-21c97ee05f0648669669641ab164ed99.pkl is not not bytes aligned. This may cause segmentation faults if this memmapped array is used in some libraries like BLAS or PyTorch. To get rid of this warning, regenerate your pickle file with joblib >= 1.2.0. See https://github.com/joblib/joblib/issues/563 for more details\n",
      "  warnings.warn(message)\n",
      "/Users/punchh_adityas/opt/anaconda3/lib/python3.9/site-packages/joblib/numpy_pickle.py:230: UserWarning: The memmapped array [[ 58  44  33 ...  72  57  37]\n",
      " [  4   9   2 ...   5   1   2]\n",
      " [  1   2   1 ...   1   1   1]\n",
      " ...\n",
      " [  1   1   1 ...   5   4   2]\n",
      " [ -1  -1  -1 ... 184  -1 188]\n",
      " [  0   0   0 ...   3   0  11]] loaded from the file /var/folders/n8/hbs6yz1x4p7290wpzcp40ddw0000gn/T/joblib_memmapping_folder_2567_46b65e82557d4e169990eedd037949db_2f67c01752d2456b85565a2b3b231660/2567-140234459140256-21c97ee05f0648669669641ab164ed99.pkl is not not bytes aligned. This may cause segmentation faults if this memmapped array is used in some libraries like BLAS or PyTorch. To get rid of this warning, regenerate your pickle file with joblib >= 1.2.0. See https://github.com/joblib/joblib/issues/563 for more details\n",
      "  warnings.warn(message)\n"
     ]
    },
    {
     "name": "stdout",
     "output_type": "stream",
     "text": [
      "[0.87262273 0.83344393 0.83101084 0.82769299 0.82017253 0.84914842\n",
      " 0.80424685 0.41030745 0.80999779 0.59411635]\n"
     ]
    }
   ],
   "source": [
    "cross_val_rf = cross_val_score(estimator=rf, X=X, y=Y, cv =10, n_jobs=-1)\n",
    "print(cross_val_rf)"
   ]
  },
  {
   "cell_type": "code",
   "execution_count": 124,
   "id": "a27a447d",
   "metadata": {},
   "outputs": [
    {
     "name": "stdout",
     "output_type": "stream",
     "text": [
      "Cross validation RF mean accuracy 0.7652759871105219\n"
     ]
    }
   ],
   "source": [
    "print(\"Cross validation RF mean accuracy\", cross_val_rf.mean())"
   ]
  },
  {
   "attachments": {},
   "cell_type": "markdown",
   "id": "6c03e3ca",
   "metadata": {},
   "source": [
    "# Hyper parameter tuning"
   ]
  }
 ],
 "metadata": {
  "kernelspec": {
   "display_name": "Python 3 (ipykernel)",
   "language": "python",
   "name": "python3"
  },
  "language_info": {
   "codemirror_mode": {
    "name": "ipython",
    "version": 3
   },
   "file_extension": ".py",
   "mimetype": "text/x-python",
   "name": "python",
   "nbconvert_exporter": "python",
   "pygments_lexer": "ipython3",
   "version": "3.9.13"
  }
 },
 "nbformat": 4,
 "nbformat_minor": 5
}
